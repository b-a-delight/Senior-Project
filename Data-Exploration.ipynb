{
 "cells": [
  {
   "cell_type": "markdown",
   "metadata": {},
   "source": [
    "# Data Exploration"
   ]
  },
  {
   "cell_type": "markdown",
   "metadata": {},
   "source": [
    "### Libraries"
   ]
  },
  {
   "cell_type": "code",
   "execution_count": 16,
   "metadata": {},
   "outputs": [],
   "source": [
    "import numpy as np\n",
    "from numpy.core.defchararray import add\n",
    "import pandas as pd\n",
    "import xlrd\n",
    "import os\n",
    "import plotly\n",
    "import plotly.express as px\n",
    "from functools import reduce\n",
    "import sklearn"
   ]
  },
  {
   "cell_type": "code",
   "execution_count": null,
   "metadata": {},
   "outputs": [],
   "source": [
    "# New Libraries\n",
    "\n",
    "\n"
   ]
  },
  {
   "cell_type": "code",
   "execution_count": 13,
   "metadata": {},
   "outputs": [
    {
     "name": "stdout",
     "output_type": "stream",
     "text": [
      "Collecting lightgbm\n",
      "  Downloading https://files.pythonhosted.org/packages/00/37/a392e669a83fef72b916009c438a924d2a9d70bc8aea62662b207105ed98/lightgbm-2.2.3-py2.py3-none-win_amd64.whl (515kB)\n",
      "Requirement already satisfied: scipy in c:\\users\\delightb\\appdata\\local\\continuum\\anaconda3\\envs\\tensorenviron\\lib\\site-packages (from lightgbm) (1.2.1)\n",
      "Requirement already satisfied: numpy in c:\\users\\delightb\\appdata\\local\\continuum\\anaconda3\\envs\\tensorenviron\\lib\\site-packages (from lightgbm) (1.16.4)\n",
      "Requirement already satisfied: scikit-learn in c:\\users\\delightb\\appdata\\local\\continuum\\anaconda3\\envs\\tensorenviron\\lib\\site-packages (from lightgbm) (0.21.2)\n",
      "Requirement already satisfied: joblib>=0.11 in c:\\users\\delightb\\appdata\\local\\continuum\\anaconda3\\envs\\tensorenviron\\lib\\site-packages (from scikit-learn->lightgbm) (0.13.2)\n",
      "Installing collected packages: lightgbm\n",
      "Successfully installed lightgbm-2.2.3\n"
     ]
    }
   ],
   "source": [
    "# # install new libraries\n",
    "# !pip install plotly\n",
    "#!pip install matplotlib\n",
    "#!pip install seaborn\n",
    "#!pip install statsmodels\n",
    "#!pip install xgboost\n",
    "!pip install lightgbm"
   ]
  },
  {
   "cell_type": "markdown",
   "metadata": {},
   "source": [
    "### Load the pickles into data frames"
   ]
  },
  {
   "cell_type": "code",
   "execution_count": 2,
   "metadata": {},
   "outputs": [],
   "source": [
    "df_hd = pd.read_pickle('houseAll.pkl')\n",
    "df_pop = pd.read_pickle('metroPop.pkl')\n",
    "df_hc = pd.read_pickle('metroHouse.pkl')\n",
    "df_year_base = pd.read_pickle('yearTotals.pkl')\n",
    "df_jobTypes = pd.read_pickle('jobTypes.pkl')\n",
    "df_jobSalery = pd.read_pickle('jobSalery.pkl')\n",
    "parcelNum = 'R2024320455'"
   ]
  },
  {
   "cell_type": "markdown",
   "metadata": {},
   "source": [
    "## Stuff"
   ]
  },
  {
   "cell_type": "code",
   "execution_count": null,
   "metadata": {},
   "outputs": [],
   "source": [
    "df_hd.head(5)\n",
    "#df_hd['GROUP'].nunique()\n",
    "#df_hd.dtypes"
   ]
  },
  {
   "cell_type": "code",
   "execution_count": null,
   "metadata": {},
   "outputs": [],
   "source": [
    "#df_hd.dtypes\n",
    "df_hd['Neighborhood'].unique()"
   ]
  },
  {
   "cell_type": "code",
   "execution_count": 3,
   "metadata": {},
   "outputs": [
    {
     "data": {
      "text/html": [
       "<div>\n",
       "<style scoped>\n",
       "    .dataframe tbody tr th:only-of-type {\n",
       "        vertical-align: middle;\n",
       "    }\n",
       "\n",
       "    .dataframe tbody tr th {\n",
       "        vertical-align: top;\n",
       "    }\n",
       "\n",
       "    .dataframe thead th {\n",
       "        text-align: right;\n",
       "    }\n",
       "</style>\n",
       "<table border=\"1\" class=\"dataframe\">\n",
       "  <thead>\n",
       "    <tr style=\"text-align: right;\">\n",
       "      <th></th>\n",
       "      <th>Year</th>\n",
       "      <th>Parcel</th>\n",
       "      <th>Year_Built</th>\n",
       "      <th>Age</th>\n",
       "      <th>Total_Sq_Ft</th>\n",
       "      <th>Bedroom_Count</th>\n",
       "      <th>Area</th>\n",
       "      <th>Neighborhood</th>\n",
       "      <th>TAV</th>\n",
       "    </tr>\n",
       "  </thead>\n",
       "  <tbody>\n",
       "    <tr>\n",
       "      <th>0</th>\n",
       "      <td>2000</td>\n",
       "      <td>R0017650020</td>\n",
       "      <td>1998</td>\n",
       "      <td>2</td>\n",
       "      <td>2400</td>\n",
       "      <td>4</td>\n",
       "      <td>W BOISE</td>\n",
       "      <td>NORTH CENTRAL BENCH</td>\n",
       "      <td>158000.0</td>\n",
       "    </tr>\n",
       "    <tr>\n",
       "      <th>1</th>\n",
       "      <td>2000</td>\n",
       "      <td>R0017650030</td>\n",
       "      <td>1999</td>\n",
       "      <td>1</td>\n",
       "      <td>2352</td>\n",
       "      <td>4</td>\n",
       "      <td>W BOISE</td>\n",
       "      <td>NORTH CENTRAL BENCH</td>\n",
       "      <td>165800.0</td>\n",
       "    </tr>\n",
       "    <tr>\n",
       "      <th>2</th>\n",
       "      <td>2000</td>\n",
       "      <td>R0017650040</td>\n",
       "      <td>1999</td>\n",
       "      <td>1</td>\n",
       "      <td>2352</td>\n",
       "      <td>4</td>\n",
       "      <td>W BOISE</td>\n",
       "      <td>NORTH CENTRAL BENCH</td>\n",
       "      <td>165800.0</td>\n",
       "    </tr>\n",
       "    <tr>\n",
       "      <th>3</th>\n",
       "      <td>2000</td>\n",
       "      <td>R0017650050</td>\n",
       "      <td>1998</td>\n",
       "      <td>2</td>\n",
       "      <td>2352</td>\n",
       "      <td>4</td>\n",
       "      <td>W BOISE</td>\n",
       "      <td>NORTH CENTRAL BENCH</td>\n",
       "      <td>155000.0</td>\n",
       "    </tr>\n",
       "    <tr>\n",
       "      <th>4</th>\n",
       "      <td>2000</td>\n",
       "      <td>R0027000008</td>\n",
       "      <td>1937</td>\n",
       "      <td>63</td>\n",
       "      <td>3008</td>\n",
       "      <td>1</td>\n",
       "      <td>BOISE BENCH</td>\n",
       "      <td>CENTRAL BOISE BENCH</td>\n",
       "      <td>129100.0</td>\n",
       "    </tr>\n",
       "  </tbody>\n",
       "</table>\n",
       "</div>"
      ],
      "text/plain": [
       "   Year       Parcel Year_Built  Age  Total_Sq_Ft  Bedroom_Count         Area  \\\n",
       "0  2000  R0017650020       1998    2         2400              4      W BOISE   \n",
       "1  2000  R0017650030       1999    1         2352              4      W BOISE   \n",
       "2  2000  R0017650040       1999    1         2352              4      W BOISE   \n",
       "3  2000  R0017650050       1998    2         2352              4      W BOISE   \n",
       "4  2000  R0027000008       1937   63         3008              1  BOISE BENCH   \n",
       "\n",
       "          Neighborhood       TAV  \n",
       "0  NORTH CENTRAL BENCH  158000.0  \n",
       "1  NORTH CENTRAL BENCH  165800.0  \n",
       "2  NORTH CENTRAL BENCH  165800.0  \n",
       "3  NORTH CENTRAL BENCH  155000.0  \n",
       "4  CENTRAL BOISE BENCH  129100.0  "
      ]
     },
     "execution_count": 3,
     "metadata": {},
     "output_type": "execute_result"
    }
   ],
   "source": [
    "# Abbreviated dataframe for all of the parcels\n",
    "df_hd = pd.read_pickle('houseAll.pkl')\n",
    "short_house = df_hd[['Year','Parcel','Year_Built','Age','Total_Sq_Ft','Bedroom_Count','Area','Neighborhood','TAV']]\n",
    "short_house.to_pickle('short_house.pkl')\n",
    "short_house.head()"
   ]
  },
  {
   "cell_type": "code",
   "execution_count": 4,
   "metadata": {},
   "outputs": [
    {
     "data": {
      "text/html": [
       "<div>\n",
       "<style scoped>\n",
       "    .dataframe tbody tr th:only-of-type {\n",
       "        vertical-align: middle;\n",
       "    }\n",
       "\n",
       "    .dataframe tbody tr th {\n",
       "        vertical-align: top;\n",
       "    }\n",
       "\n",
       "    .dataframe thead th {\n",
       "        text-align: right;\n",
       "    }\n",
       "</style>\n",
       "<table border=\"1\" class=\"dataframe\">\n",
       "  <thead>\n",
       "    <tr style=\"text-align: right;\">\n",
       "      <th></th>\n",
       "      <th>Year</th>\n",
       "      <th>Parcel</th>\n",
       "      <th>Year_Built</th>\n",
       "      <th>Age</th>\n",
       "      <th>Total_Sq_Ft</th>\n",
       "      <th>Bedroom_Count</th>\n",
       "      <th>Area</th>\n",
       "      <th>Neighborhood</th>\n",
       "      <th>TAV</th>\n",
       "    </tr>\n",
       "  </thead>\n",
       "  <tbody>\n",
       "    <tr>\n",
       "      <th>4</th>\n",
       "      <td>2000</td>\n",
       "      <td>R0027000008</td>\n",
       "      <td>1937</td>\n",
       "      <td>63</td>\n",
       "      <td>3008</td>\n",
       "      <td>1</td>\n",
       "      <td>BOISE BENCH</td>\n",
       "      <td>CENTRAL BOISE BENCH</td>\n",
       "      <td>129100.0</td>\n",
       "    </tr>\n",
       "    <tr>\n",
       "      <th>5</th>\n",
       "      <td>2000</td>\n",
       "      <td>R0027000013</td>\n",
       "      <td>1937</td>\n",
       "      <td>63</td>\n",
       "      <td>1704</td>\n",
       "      <td>4</td>\n",
       "      <td>BOISE BENCH</td>\n",
       "      <td>CENTRAL BOISE BENCH</td>\n",
       "      <td>85200.0</td>\n",
       "    </tr>\n",
       "    <tr>\n",
       "      <th>6</th>\n",
       "      <td>2000</td>\n",
       "      <td>R0027000018</td>\n",
       "      <td>1937</td>\n",
       "      <td>63</td>\n",
       "      <td>2330</td>\n",
       "      <td>2</td>\n",
       "      <td>BOISE BENCH</td>\n",
       "      <td>CENTRAL BOISE BENCH</td>\n",
       "      <td>106700.0</td>\n",
       "    </tr>\n",
       "    <tr>\n",
       "      <th>7</th>\n",
       "      <td>2000</td>\n",
       "      <td>R0027000025</td>\n",
       "      <td>1950</td>\n",
       "      <td>50</td>\n",
       "      <td>625</td>\n",
       "      <td>2</td>\n",
       "      <td>BOISE BENCH</td>\n",
       "      <td>CENTRAL BOISE BENCH</td>\n",
       "      <td>46400.0</td>\n",
       "    </tr>\n",
       "    <tr>\n",
       "      <th>8</th>\n",
       "      <td>2000</td>\n",
       "      <td>R0027000030</td>\n",
       "      <td>1950</td>\n",
       "      <td>50</td>\n",
       "      <td>676</td>\n",
       "      <td>1</td>\n",
       "      <td>BOISE BENCH</td>\n",
       "      <td>CENTRAL BOISE BENCH</td>\n",
       "      <td>59600.0</td>\n",
       "    </tr>\n",
       "  </tbody>\n",
       "</table>\n",
       "</div>"
      ],
      "text/plain": [
       "   Year       Parcel Year_Built  Age  Total_Sq_Ft  Bedroom_Count         Area  \\\n",
       "4  2000  R0027000008       1937   63         3008              1  BOISE BENCH   \n",
       "5  2000  R0027000013       1937   63         1704              4  BOISE BENCH   \n",
       "6  2000  R0027000018       1937   63         2330              2  BOISE BENCH   \n",
       "7  2000  R0027000025       1950   50          625              2  BOISE BENCH   \n",
       "8  2000  R0027000030       1950   50          676              1  BOISE BENCH   \n",
       "\n",
       "          Neighborhood       TAV  \n",
       "4  CENTRAL BOISE BENCH  129100.0  \n",
       "5  CENTRAL BOISE BENCH   85200.0  \n",
       "6  CENTRAL BOISE BENCH  106700.0  \n",
       "7  CENTRAL BOISE BENCH   46400.0  \n",
       "8  CENTRAL BOISE BENCH   59600.0  "
      ]
     },
     "execution_count": 4,
     "metadata": {},
     "output_type": "execute_result"
    }
   ],
   "source": [
    "#short_house.loc[short_house['PARCEL'] == parcelNum]\n",
    "short_house = pd.read_pickle('short_house.pkl')\n",
    "myA = short_house[short_house['Area'] == 'BOISE BENCH']\n",
    "myA.to_pickle('myA.pkl')\n",
    "myN = short_house[short_house['Neighborhood'] == 'CENTRAL BOISE BENCH']\n",
    "myN.to_pickle('myN.pkl')\n",
    "myN.head()"
   ]
  },
  {
   "cell_type": "code",
   "execution_count": null,
   "metadata": {},
   "outputs": [],
   "source": [
    "myA.head()"
   ]
  },
  {
   "cell_type": "markdown",
   "metadata": {},
   "source": [
    "### Searching code "
   ]
  },
  {
   "cell_type": "markdown",
   "metadata": {},
   "source": [
    "# Big merge for testing LM"
   ]
  },
  {
   "cell_type": "code",
   "execution_count": 19,
   "metadata": {},
   "outputs": [],
   "source": [
    "jobTypes = pd.read_pickle('jobTypes.pkl')\n",
    "jobSalery = pd.read_pickle('jobSalery.pkl')\n",
    "yearTotals = pd.read_pickle('yearTotals.pkl')\n",
    "myN = pd.read_pickle('myN.pkl')\n",
    "myA = pd.read_pickle('myA.pkl')\n",
    "\n",
    "dfn = [myN, jobTypes, jobSalery, yearTotals]\n",
    "dfa = [myA, jobTypes, jobSalery, yearTotals]\n",
    "dfN = reduce(lambda left,right: pd.merge(left,right, on = 'Year'), dfn)\n",
    "dfA = reduce(lambda left,right: pd.merge(left,right, on = 'Year'), dfa)\n",
    "dfN.to_pickle('NmodelDF.pkl')\n",
    "dfA.to_pickle('AmodelDF.pkl')\n",
    "\n"
   ]
  },
  {
   "cell_type": "markdown",
   "metadata": {},
   "source": [
    "# Testing LM"
   ]
  },
  {
   "cell_type": "markdown",
   "metadata": {},
   "source": [
    "New try for Linear Regression Multiple Variables, https://www.youtube.com/watch?v=J_LnPL3Qg70"
   ]
  },
  {
   "cell_type": "code",
   "execution_count": null,
   "metadata": {},
   "outputs": [],
   "source": [
    "import pandas as pd\n",
    "import numpy as np\n",
    "from sklearn import linear_model"
   ]
  },
  {
   "cell_type": "code",
   "execution_count": null,
   "metadata": {},
   "outputs": [],
   "source": [
    "# Using myN to make a dataframe that is like the example in the tutorial\n",
    "miniTestN = dfN[['Total_Sq_Ft','Bedroom_Count','Age','TAV']]\n",
    "miniTestA = dfA[['Total_Sq_Ft','Bedroom_Count','Age','TAV']]\n",
    "miniTest.head()"
   ]
  },
  {
   "cell_type": "code",
   "execution_count": null,
   "metadata": {},
   "outputs": [],
   "source": [
    "regN = linear_model.LinearRegression()\n",
    "regA = linear_model.LinearRegression()\n",
    "# reg.fit(ind vars, dep var)\n",
    "regN.fit(miniTestN[['Total_Sq_Ft','Bedroom_Count','Age']],miniTestN.TAV)\n",
    "regA.fit(miniTestA[['Total_Sq_Ft','Bedroom_Count','Age']],miniTestA.TAV)"
   ]
  },
  {
   "cell_type": "code",
   "execution_count": null,
   "metadata": {},
   "outputs": [],
   "source": [
    "regN.coef_\n",
    "regA.coef_\n",
    "regN.intercept_\n",
    "regA.intercept_\n",
    "regN.predict([[1700,3,75]])\n",
    "# this makes since because there are very few change variables only age goes up by 1 and the TAV goes up, needs the rest\n",
    "regA.predict([[1700,3,75]])"
   ]
  },
  {
   "cell_type": "code",
   "execution_count": null,
   "metadata": {},
   "outputs": [],
   "source": []
  },
  {
   "cell_type": "code",
   "execution_count": null,
   "metadata": {},
   "outputs": [],
   "source": []
  },
  {
   "cell_type": "code",
   "execution_count": null,
   "metadata": {},
   "outputs": [],
   "source": []
  },
  {
   "cell_type": "code",
   "execution_count": null,
   "metadata": {},
   "outputs": [],
   "source": [
    "import statsmodels.api as sm\n",
    "from sklearn.linear_model import LinearRegression"
   ]
  },
  {
   "cell_type": "code",
   "execution_count": null,
   "metadata": {},
   "outputs": [],
   "source": [
    "x = pd.DataFrame(np.c)\n",
    "y = ['T']"
   ]
  },
  {
   "cell_type": "code",
   "execution_count": null,
   "metadata": {},
   "outputs": [],
   "source": [
    "dfL.describe()"
   ]
  },
  {
   "cell_type": "code",
   "execution_count": null,
   "metadata": {},
   "outputs": [],
   "source": [
    "sns.distplot(dfL['TAV'])"
   ]
  },
  {
   "cell_type": "code",
   "execution_count": null,
   "metadata": {},
   "outputs": [],
   "source": [
    "#myN.info()\n",
    "#jobTypes.info()\n",
    "#jobSalery.info()\n",
    "yearTotals.info()"
   ]
  },
  {
   "cell_type": "markdown",
   "metadata": {},
   "source": [
    "# Testing outliers and getting the data into graphing and analysis"
   ]
  },
  {
   "cell_type": "code",
   "execution_count": null,
   "metadata": {},
   "outputs": [],
   "source": [
    "import pandas as pd\n",
    "import seaborn as sns\n",
    "import scipy.stats as stats\n",
    "import numpy as np\n",
    "import warnings\n",
    "import matplotlib.pyplot as plt"
   ]
  },
  {
   "cell_type": "code",
   "execution_count": null,
   "metadata": {},
   "outputs": [],
   "source": [
    "sns.set(rc={'figure.figsize':(12, 7.5)})\n",
    "sns.set_context('talk')"
   ]
  },
  {
   "cell_type": "code",
   "execution_count": null,
   "metadata": {},
   "outputs": [],
   "source": [
    "\n",
    "#df_hd.loc[df_hd['GROUP'] == 'ELIZABETH PL']\n",
    "\n",
    "#tBlock = short_house.loc[(short_house['TOWNSHIP'] == '3N')&(short_house['RANGE']=='2E')&(short_house['SECTION']==16)]\n",
    "\n",
    "#tList = tBlock[tBlock['GROUP'].str.contains(r'GLEN)]\n",
    "#tList.GROUP.unique()\n"
   ]
  },
  {
   "cell_type": "code",
   "execution_count": null,
   "metadata": {},
   "outputs": [],
   "source": [
    "myN00 = myN[myN['YEAR'] == 2000]\n",
    "myN00.to_pickle('myN00.pkl')\n",
    "myN00.head()"
   ]
  },
  {
   "cell_type": "code",
   "execution_count": null,
   "metadata": {},
   "outputs": [],
   "source": [
    "sns.distplot(myN00['TAV'])"
   ]
  },
  {
   "cell_type": "markdown",
   "metadata": {},
   "source": [
    "$z$ - score $ = \\frac{x-\\mu}{\\sigma}$"
   ]
  },
  {
   "cell_type": "code",
   "execution_count": null,
   "metadata": {},
   "outputs": [],
   "source": [
    "#mean\n",
    "myNmean = myN['TAV'].mean()\n",
    "\n",
    "# standard deviation\n",
    "myNsd = myN['TAV'].std()\n",
    "\n",
    "myN00['Z-Score'] = (myN00['TAV']-myNmean)/myNsd\n",
    "\n",
    "myN00.to_pickle('myN00.pkl')\n",
    "myN00.head()\n",
    "#myNmean\n",
    "#myNsd"
   ]
  },
  {
   "cell_type": "code",
   "execution_count": null,
   "metadata": {},
   "outputs": [],
   "source": [
    "myN00['Z-Score'].min()\n",
    "myN00['Z-Score'].min()\n",
    "#sns.distplot(myN00['Z-Score'])"
   ]
  },
  {
   "cell_type": "markdown",
   "metadata": {},
   "source": [
    "# Make df for all neighborhoods over each year"
   ]
  },
  {
   "cell_type": "code",
   "execution_count": null,
   "metadata": {},
   "outputs": [],
   "source": [
    "# make list of neighborhoods\n",
    "\n",
    "# make list of years"
   ]
  },
  {
   "cell_type": "code",
   "execution_count": null,
   "metadata": {},
   "outputs": [],
   "source": [
    "# make a fn to make a vector for average house $ for a neighborhood for each year\n",
    "\n",
    "\n",
    "\n"
   ]
  },
  {
   "cell_type": "code",
   "execution_count": null,
   "metadata": {},
   "outputs": [],
   "source": [
    "# make a df where each column is one of the vectors made from the fn\n",
    "\n",
    "\n"
   ]
  },
  {
   "cell_type": "code",
   "execution_count": null,
   "metadata": {},
   "outputs": [],
   "source": []
  },
  {
   "cell_type": "code",
   "execution_count": null,
   "metadata": {},
   "outputs": [],
   "source": []
  },
  {
   "cell_type": "code",
   "execution_count": null,
   "metadata": {},
   "outputs": [],
   "source": [
    "myN00 = pd.read_pickle('myN00.pkl')\n",
    "\n",
    "myN00F = myN00.loc[(myN00['Z-Score'] <= 3) & (myN00['Z-Score'] >= -3) ]\n",
    "#myN00 = myN00.drop(myN00[myN00['Z-Score'] <= 3].index, inplace = True)\n",
    "#myN00['Z-Score'].max()\n",
    "myN00F.head()"
   ]
  },
  {
   "cell_type": "code",
   "execution_count": null,
   "metadata": {},
   "outputs": [],
   "source": [
    "myN00['Z-Score'].max()"
   ]
  },
  {
   "cell_type": "code",
   "execution_count": null,
   "metadata": {},
   "outputs": [],
   "source": [
    "myN00.shape"
   ]
  },
  {
   "cell_type": "code",
   "execution_count": null,
   "metadata": {},
   "outputs": [],
   "source": [
    "sns.distplot(myN00F['TAV'], color = \"maroon\")"
   ]
  },
  {
   "cell_type": "markdown",
   "metadata": {},
   "source": [
    "## Figure out IQR\n",
    "$$IQR = Q3-Q1$$\n",
    "Outliers:\n",
    "    $$<(Q1 - 1.5 * IQR)$$\n",
    "    $$>(Q3 + 1.5 * IQR)$$"
   ]
  },
  {
   "cell_type": "code",
   "execution_count": null,
   "metadata": {},
   "outputs": [],
   "source": [
    "myN00q1 = myN00['TAV'].quantile(0.25)\n",
    "myN00q3 = myN00['TAV'].quantile(0.75)\n",
    "myN00iqr = myN00q3 - myN00q1\n",
    "iqrMax = myN00q3 + (1.5*myN00iqr)\n",
    "iqrMin = myN00q1 - (1.5*myN00iqr)\n",
    "myN00iqr"
   ]
  },
  {
   "cell_type": "code",
   "execution_count": null,
   "metadata": {},
   "outputs": [],
   "source": [
    "myN00 = pd.read_pickle('myN00.pkl')\n",
    "myN00i = myN00[(myN00['TAV']<iqrMax) & (myN00['TAV'] > iqrMin)]\n",
    "myN00i['TAV'].max()"
   ]
  },
  {
   "cell_type": "code",
   "execution_count": null,
   "metadata": {},
   "outputs": [],
   "source": [
    "print(myN00F['TAV'].max())\n",
    "print(myN00q3+(1.5*myN00iqr))"
   ]
  },
  {
   "cell_type": "code",
   "execution_count": null,
   "metadata": {},
   "outputs": [],
   "source": [
    "sns.distplot(myN00i['TAV'])\n",
    "#sns.distplot(myN00F['TAV'], color = \"maroon\")"
   ]
  },
  {
   "cell_type": "code",
   "execution_count": null,
   "metadata": {},
   "outputs": [],
   "source": [
    "myN00i['TAV'].hist()"
   ]
  },
  {
   "cell_type": "code",
   "execution_count": null,
   "metadata": {},
   "outputs": [],
   "source": [
    "#df_year_base\n",
    "\n",
    "import plotly\n",
    "import plotly.express as px\n",
    "\n",
    "fig1 = px.line(df_year_base, x='Year', y = 'TotalHouse')\n",
    "fig2 = px.line(df_year_base, x='Year', y = 'TotalPop')\n",
    "fig2.show()"
   ]
  },
  {
   "cell_type": "code",
   "execution_count": null,
   "metadata": {},
   "outputs": [],
   "source": [
    "df_year_base.info()"
   ]
  },
  {
   "cell_type": "code",
   "execution_count": null,
   "metadata": {},
   "outputs": [],
   "source": []
  },
  {
   "cell_type": "markdown",
   "metadata": {},
   "source": [
    "# Graph Stuff"
   ]
  },
  {
   "cell_type": "code",
   "execution_count": null,
   "metadata": {},
   "outputs": [],
   "source": []
  },
  {
   "cell_type": "code",
   "execution_count": null,
   "metadata": {},
   "outputs": [],
   "source": [
    "import plotly\n",
    "import plotly.express as px\n",
    "\n",
    "fig1 = px.box(mySec, x='YEAR', y = 'TAV')\n",
    "fig1.show()"
   ]
  },
  {
   "cell_type": "code",
   "execution_count": null,
   "metadata": {},
   "outputs": [],
   "source": [
    "import plotly.graph_objects as go\n",
    "\n",
    "fig = go.Figure(data =go.Scatter(\n",
    "        x = mySec['YEAR'],\n",
    "        y = mySec['TAV']))\n",
    "\n",
    "fig.show()"
   ]
  },
  {
   "cell_type": "markdown",
   "metadata": {},
   "source": [
    "### Look into z-scores for trimming the outliers\n",
    "https://towardsdatascience.com/ways-to-detect-and-remove-the-outliers-404d16608dba"
   ]
  },
  {
   "cell_type": "code",
   "execution_count": null,
   "metadata": {},
   "outputs": [],
   "source": []
  },
  {
   "cell_type": "code",
   "execution_count": 22,
   "metadata": {},
   "outputs": [
    {
     "name": "stdout",
     "output_type": "stream",
     "text": [
      "<class 'pandas.core.frame.DataFrame'>\n",
      "RangeIndex: 19 entries, 0 to 18\n",
      "Data columns (total 4 columns):\n",
      "Year          19 non-null category\n",
      "TotalHouse    19 non-null int32\n",
      "TotalPop      19 non-null int32\n",
      "TotalEmp      19 non-null float64\n",
      "dtypes: category(1), float64(1), int32(2)\n",
      "memory usage: 555.0 bytes\n"
     ]
    }
   ],
   "source": [
    "yearTotals = pd.read_pickle('yearTotals.pkl')\n",
    "yearTotals.info()"
   ]
  },
  {
   "cell_type": "code",
   "execution_count": 45,
   "metadata": {},
   "outputs": [],
   "source": [
    "import datetime as dt"
   ]
  },
  {
   "cell_type": "code",
   "execution_count": 47,
   "metadata": {},
   "outputs": [
    {
     "data": {
      "text/html": [
       "<div>\n",
       "<style scoped>\n",
       "    .dataframe tbody tr th:only-of-type {\n",
       "        vertical-align: middle;\n",
       "    }\n",
       "\n",
       "    .dataframe tbody tr th {\n",
       "        vertical-align: top;\n",
       "    }\n",
       "\n",
       "    .dataframe thead th {\n",
       "        text-align: right;\n",
       "    }\n",
       "</style>\n",
       "<table border=\"1\" class=\"dataframe\">\n",
       "  <thead>\n",
       "    <tr style=\"text-align: right;\">\n",
       "      <th>County</th>\n",
       "      <th>Year</th>\n",
       "      <th>TotalHouse</th>\n",
       "      <th>TotalPop</th>\n",
       "      <th>TotalEmp</th>\n",
       "    </tr>\n",
       "  </thead>\n",
       "  <tbody>\n",
       "    <tr>\n",
       "      <th>0</th>\n",
       "      <td>2000</td>\n",
       "      <td>182764</td>\n",
       "      <td>469017</td>\n",
       "      <td>229780.0</td>\n",
       "    </tr>\n",
       "    <tr>\n",
       "      <th>1</th>\n",
       "      <td>2001</td>\n",
       "      <td>189127</td>\n",
       "      <td>486078</td>\n",
       "      <td>222100.0</td>\n",
       "    </tr>\n",
       "    <tr>\n",
       "      <th>2</th>\n",
       "      <td>2002</td>\n",
       "      <td>195753</td>\n",
       "      <td>499994</td>\n",
       "      <td>225820.0</td>\n",
       "    </tr>\n",
       "    <tr>\n",
       "      <th>3</th>\n",
       "      <td>2003</td>\n",
       "      <td>202592</td>\n",
       "      <td>512491</td>\n",
       "      <td>228350.0</td>\n",
       "    </tr>\n",
       "    <tr>\n",
       "      <th>4</th>\n",
       "      <td>2004</td>\n",
       "      <td>210207</td>\n",
       "      <td>525975</td>\n",
       "      <td>232950.0</td>\n",
       "    </tr>\n",
       "    <tr>\n",
       "      <th>5</th>\n",
       "      <td>2005</td>\n",
       "      <td>218857</td>\n",
       "      <td>546980</td>\n",
       "      <td>254330.0</td>\n",
       "    </tr>\n",
       "    <tr>\n",
       "      <th>6</th>\n",
       "      <td>2006</td>\n",
       "      <td>229982</td>\n",
       "      <td>570583</td>\n",
       "      <td>268600.0</td>\n",
       "    </tr>\n",
       "    <tr>\n",
       "      <th>7</th>\n",
       "      <td>2007</td>\n",
       "      <td>237845</td>\n",
       "      <td>590330</td>\n",
       "      <td>284160.0</td>\n",
       "    </tr>\n",
       "    <tr>\n",
       "      <th>8</th>\n",
       "      <td>2008</td>\n",
       "      <td>242344</td>\n",
       "      <td>603218</td>\n",
       "      <td>286080.0</td>\n",
       "    </tr>\n",
       "    <tr>\n",
       "      <th>9</th>\n",
       "      <td>2009</td>\n",
       "      <td>244823</td>\n",
       "      <td>611341</td>\n",
       "      <td>264010.0</td>\n",
       "    </tr>\n",
       "    <tr>\n",
       "      <th>10</th>\n",
       "      <td>2010</td>\n",
       "      <td>246511</td>\n",
       "      <td>617869</td>\n",
       "      <td>255700.0</td>\n",
       "    </tr>\n",
       "    <tr>\n",
       "      <th>11</th>\n",
       "      <td>2011</td>\n",
       "      <td>248122</td>\n",
       "      <td>627640</td>\n",
       "      <td>254850.0</td>\n",
       "    </tr>\n",
       "    <tr>\n",
       "      <th>12</th>\n",
       "      <td>2012</td>\n",
       "      <td>249887</td>\n",
       "      <td>637514</td>\n",
       "      <td>261410.0</td>\n",
       "    </tr>\n",
       "    <tr>\n",
       "      <th>13</th>\n",
       "      <td>2013</td>\n",
       "      <td>253329</td>\n",
       "      <td>649411</td>\n",
       "      <td>269680.0</td>\n",
       "    </tr>\n",
       "    <tr>\n",
       "      <th>14</th>\n",
       "      <td>2014</td>\n",
       "      <td>257568</td>\n",
       "      <td>662777</td>\n",
       "      <td>279870.0</td>\n",
       "    </tr>\n",
       "    <tr>\n",
       "      <th>15</th>\n",
       "      <td>2015</td>\n",
       "      <td>262587</td>\n",
       "      <td>674874</td>\n",
       "      <td>284950.0</td>\n",
       "    </tr>\n",
       "    <tr>\n",
       "      <th>16</th>\n",
       "      <td>2016</td>\n",
       "      <td>267931</td>\n",
       "      <td>691605</td>\n",
       "      <td>296390.0</td>\n",
       "    </tr>\n",
       "    <tr>\n",
       "      <th>17</th>\n",
       "      <td>2017</td>\n",
       "      <td>274525</td>\n",
       "      <td>710080</td>\n",
       "      <td>308170.0</td>\n",
       "    </tr>\n",
       "    <tr>\n",
       "      <th>18</th>\n",
       "      <td>2018</td>\n",
       "      <td>282300</td>\n",
       "      <td>730426</td>\n",
       "      <td>321520.0</td>\n",
       "    </tr>\n",
       "  </tbody>\n",
       "</table>\n",
       "</div>"
      ],
      "text/plain": [
       "County  Year  TotalHouse  TotalPop  TotalEmp\n",
       "0       2000      182764    469017  229780.0\n",
       "1       2001      189127    486078  222100.0\n",
       "2       2002      195753    499994  225820.0\n",
       "3       2003      202592    512491  228350.0\n",
       "4       2004      210207    525975  232950.0\n",
       "5       2005      218857    546980  254330.0\n",
       "6       2006      229982    570583  268600.0\n",
       "7       2007      237845    590330  284160.0\n",
       "8       2008      242344    603218  286080.0\n",
       "9       2009      244823    611341  264010.0\n",
       "10      2010      246511    617869  255700.0\n",
       "11      2011      248122    627640  254850.0\n",
       "12      2012      249887    637514  261410.0\n",
       "13      2013      253329    649411  269680.0\n",
       "14      2014      257568    662777  279870.0\n",
       "15      2015      262587    674874  284950.0\n",
       "16      2016      267931    691605  296390.0\n",
       "17      2017      274525    710080  308170.0\n",
       "18      2018      282300    730426  321520.0"
      ]
     },
     "execution_count": 47,
     "metadata": {},
     "output_type": "execute_result"
    }
   ],
   "source": [
    "yearTotals = pd.read_pickle('yearTotals.pkl')\n",
    "\n",
    "#yearTotals.astype({'Year' : 'datetime'})\n",
    "#type(yearTotals.at[2,0])\n",
    "yearTotals['Year'] = yearTotals['Year'].astype(str)\n",
    "yearTotals['Year'] = yearTotals['Year'].astype('datetime64[Y]')\n",
    "#yearTotals['Year'] = pd.to_datetime(yearTotals['Year'], format = '%Y')\n",
    "\n",
    "yearTotals['Year'] = yearTotals['Year'].dt.year\n",
    "\n",
    "\n",
    "yearTotals"
   ]
  }
 ],
 "metadata": {
  "kernelspec": {
   "display_name": "Python 3",
   "language": "python",
   "name": "python3"
  },
  "language_info": {
   "codemirror_mode": {
    "name": "ipython",
    "version": 3
   },
   "file_extension": ".py",
   "mimetype": "text/x-python",
   "name": "python",
   "nbconvert_exporter": "python",
   "pygments_lexer": "ipython3",
   "version": "3.7.3"
  }
 },
 "nbformat": 4,
 "nbformat_minor": 2
}
