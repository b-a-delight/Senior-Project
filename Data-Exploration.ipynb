{
 "cells": [
  {
   "cell_type": "markdown",
   "metadata": {},
   "source": [
    "# Data Exploration"
   ]
  },
  {
   "cell_type": "markdown",
   "metadata": {},
   "source": [
    "### Libraries"
   ]
  },
  {
   "cell_type": "code",
   "execution_count": 1,
   "metadata": {},
   "outputs": [],
   "source": [
    "import numpy as np\n",
    "import pandas as pd\n",
    "import xlrd\n",
    "import os"
   ]
  },
  {
   "cell_type": "code",
   "execution_count": null,
   "metadata": {},
   "outputs": [],
   "source": [
    "# New Libraries\n",
    "\n",
    "import plotly\n",
    "import plotly.express as px\n"
   ]
  },
  {
   "cell_type": "code",
   "execution_count": null,
   "metadata": {},
   "outputs": [],
   "source": [
    "# # install new library\n",
    "# !pip install plotly\n",
    "#!pip install matplotlib\n",
    "#!pip install seaborn"
   ]
  },
  {
   "cell_type": "markdown",
   "metadata": {},
   "source": [
    "### Load the pickles into data frames"
   ]
  },
  {
   "cell_type": "code",
   "execution_count": 16,
   "metadata": {},
   "outputs": [],
   "source": [
    "df_hd = pd.read_pickle('houseAll.pkl')\n",
    "df_jobs = pd.read_pickle('metroJobs.pkl')\n",
    "df_pop = pd.read_pickle('metroPop.pkl')\n",
    "df_hc = pd.read_pickle('metroHouse.pkl')\n",
    "df_year_base = pd.read_pickle('yearTotals.pkl')\n",
    "parcelNum = 'R2024320455'"
   ]
  },
  {
   "cell_type": "markdown",
   "metadata": {},
   "source": [
    "## Stuff"
   ]
  },
  {
   "cell_type": "code",
   "execution_count": 10,
   "metadata": {},
   "outputs": [
    {
     "data": {
      "text/html": [
       "<div>\n",
       "<style scoped>\n",
       "    .dataframe tbody tr th:only-of-type {\n",
       "        vertical-align: middle;\n",
       "    }\n",
       "\n",
       "    .dataframe tbody tr th {\n",
       "        vertical-align: top;\n",
       "    }\n",
       "\n",
       "    .dataframe thead th {\n",
       "        text-align: right;\n",
       "    }\n",
       "</style>\n",
       "<table border=\"1\" class=\"dataframe\">\n",
       "  <thead>\n",
       "    <tr style=\"text-align: right;\">\n",
       "      <th></th>\n",
       "      <th>PARCEL</th>\n",
       "      <th>YEAR</th>\n",
       "      <th>ACREAGE</th>\n",
       "      <th>GROUP</th>\n",
       "      <th>TOWNSHIP</th>\n",
       "      <th>RANGE</th>\n",
       "      <th>SECTION</th>\n",
       "      <th>YR BUILT</th>\n",
       "      <th>REMODEL YR</th>\n",
       "      <th>DWELLINGS</th>\n",
       "      <th>...</th>\n",
       "      <th>GARAGE 1 SQ FT</th>\n",
       "      <th>GARAGE 1 TYPE</th>\n",
       "      <th>GARAGE 2 SQ FT</th>\n",
       "      <th>GARAGE 2 TYPE</th>\n",
       "      <th>POOL SQ FT</th>\n",
       "      <th>TAV</th>\n",
       "      <th>Sale Price</th>\n",
       "      <th>Sale Date</th>\n",
       "      <th>Area</th>\n",
       "      <th>Neighborhood</th>\n",
       "    </tr>\n",
       "  </thead>\n",
       "  <tbody>\n",
       "    <tr>\n",
       "      <th>0</th>\n",
       "      <td>R0017650020</td>\n",
       "      <td>2000</td>\n",
       "      <td>0.246</td>\n",
       "      <td>AARON PARK SUB</td>\n",
       "      <td>3N</td>\n",
       "      <td>1E</td>\n",
       "      <td>1</td>\n",
       "      <td>1998</td>\n",
       "      <td>0</td>\n",
       "      <td>SFD</td>\n",
       "      <td>...</td>\n",
       "      <td>476</td>\n",
       "      <td>DETACHED</td>\n",
       "      <td>280</td>\n",
       "      <td>DETACHED</td>\n",
       "      <td>0</td>\n",
       "      <td>158000.0</td>\n",
       "      <td>NaN</td>\n",
       "      <td>NaT</td>\n",
       "      <td>NORTH CENTRAL BENCH</td>\n",
       "      <td>W BOISE</td>\n",
       "    </tr>\n",
       "    <tr>\n",
       "      <th>1</th>\n",
       "      <td>R0017650030</td>\n",
       "      <td>2000</td>\n",
       "      <td>0.165</td>\n",
       "      <td>AARON PARK SUB</td>\n",
       "      <td>3N</td>\n",
       "      <td>1E</td>\n",
       "      <td>1</td>\n",
       "      <td>1999</td>\n",
       "      <td>0</td>\n",
       "      <td>SFD</td>\n",
       "      <td>...</td>\n",
       "      <td>280</td>\n",
       "      <td>DETACHED</td>\n",
       "      <td>0</td>\n",
       "      <td>NaN</td>\n",
       "      <td>0</td>\n",
       "      <td>165800.0</td>\n",
       "      <td>NaN</td>\n",
       "      <td>NaT</td>\n",
       "      <td>NORTH CENTRAL BENCH</td>\n",
       "      <td>W BOISE</td>\n",
       "    </tr>\n",
       "    <tr>\n",
       "      <th>2</th>\n",
       "      <td>R0017650040</td>\n",
       "      <td>2000</td>\n",
       "      <td>0.144</td>\n",
       "      <td>AARON PARK SUB</td>\n",
       "      <td>3N</td>\n",
       "      <td>1E</td>\n",
       "      <td>1</td>\n",
       "      <td>1999</td>\n",
       "      <td>0</td>\n",
       "      <td>SFD</td>\n",
       "      <td>...</td>\n",
       "      <td>280</td>\n",
       "      <td>DETACHED</td>\n",
       "      <td>0</td>\n",
       "      <td>NaN</td>\n",
       "      <td>0</td>\n",
       "      <td>165800.0</td>\n",
       "      <td>NaN</td>\n",
       "      <td>NaT</td>\n",
       "      <td>NORTH CENTRAL BENCH</td>\n",
       "      <td>W BOISE</td>\n",
       "    </tr>\n",
       "    <tr>\n",
       "      <th>3</th>\n",
       "      <td>R0017650050</td>\n",
       "      <td>2000</td>\n",
       "      <td>0.211</td>\n",
       "      <td>AARON PARK SUB</td>\n",
       "      <td>3N</td>\n",
       "      <td>1E</td>\n",
       "      <td>1</td>\n",
       "      <td>1998</td>\n",
       "      <td>0</td>\n",
       "      <td>SFD</td>\n",
       "      <td>...</td>\n",
       "      <td>0</td>\n",
       "      <td>NaN</td>\n",
       "      <td>0</td>\n",
       "      <td>NaN</td>\n",
       "      <td>0</td>\n",
       "      <td>155000.0</td>\n",
       "      <td>NaN</td>\n",
       "      <td>NaT</td>\n",
       "      <td>NORTH CENTRAL BENCH</td>\n",
       "      <td>W BOISE</td>\n",
       "    </tr>\n",
       "    <tr>\n",
       "      <th>4</th>\n",
       "      <td>R0027000008</td>\n",
       "      <td>2000</td>\n",
       "      <td>0.270</td>\n",
       "      <td>ABBS SUB</td>\n",
       "      <td>3N</td>\n",
       "      <td>2E</td>\n",
       "      <td>21</td>\n",
       "      <td>1937</td>\n",
       "      <td>1992</td>\n",
       "      <td>SFD</td>\n",
       "      <td>...</td>\n",
       "      <td>240</td>\n",
       "      <td>DETACHED</td>\n",
       "      <td>940</td>\n",
       "      <td>DETACHED</td>\n",
       "      <td>0</td>\n",
       "      <td>129100.0</td>\n",
       "      <td>NaN</td>\n",
       "      <td>NaT</td>\n",
       "      <td>CENTRAL BOISE BENCH</td>\n",
       "      <td>BOISE BENCH</td>\n",
       "    </tr>\n",
       "  </tbody>\n",
       "</table>\n",
       "<p>5 rows × 43 columns</p>\n",
       "</div>"
      ],
      "text/plain": [
       "        PARCEL  YEAR  ACREAGE           GROUP TOWNSHIP RANGE SECTION YR BUILT  \\\n",
       "0  R0017650020  2000    0.246  AARON PARK SUB       3N    1E       1     1998   \n",
       "1  R0017650030  2000    0.165  AARON PARK SUB       3N    1E       1     1999   \n",
       "2  R0017650040  2000    0.144  AARON PARK SUB       3N    1E       1     1999   \n",
       "3  R0017650050  2000    0.211  AARON PARK SUB       3N    1E       1     1998   \n",
       "4  R0027000008  2000    0.270        ABBS SUB       3N    2E      21     1937   \n",
       "\n",
       "  REMODEL YR DWELLINGS  ... GARAGE 1 SQ FT GARAGE 1 TYPE GARAGE 2 SQ FT  \\\n",
       "0          0       SFD  ...            476      DETACHED            280   \n",
       "1          0       SFD  ...            280      DETACHED              0   \n",
       "2          0       SFD  ...            280      DETACHED              0   \n",
       "3          0       SFD  ...              0           NaN              0   \n",
       "4       1992       SFD  ...            240      DETACHED            940   \n",
       "\n",
       "   GARAGE 2 TYPE  POOL SQ FT       TAV  Sale Price  Sale Date  \\\n",
       "0       DETACHED           0  158000.0         NaN        NaT   \n",
       "1            NaN           0  165800.0         NaN        NaT   \n",
       "2            NaN           0  165800.0         NaN        NaT   \n",
       "3            NaN           0  155000.0         NaN        NaT   \n",
       "4       DETACHED           0  129100.0         NaN        NaT   \n",
       "\n",
       "                  Area  Neighborhood  \n",
       "0  NORTH CENTRAL BENCH       W BOISE  \n",
       "1  NORTH CENTRAL BENCH       W BOISE  \n",
       "2  NORTH CENTRAL BENCH       W BOISE  \n",
       "3  NORTH CENTRAL BENCH       W BOISE  \n",
       "4  CENTRAL BOISE BENCH   BOISE BENCH  \n",
       "\n",
       "[5 rows x 43 columns]"
      ]
     },
     "execution_count": 10,
     "metadata": {},
     "output_type": "execute_result"
    }
   ],
   "source": [
    "df_hd.head(5)\n",
    "#df_hd['GROUP'].nunique()\n",
    "#df_hd.dtypes"
   ]
  },
  {
   "cell_type": "code",
   "execution_count": 11,
   "metadata": {},
   "outputs": [
    {
     "data": {
      "text/plain": [
       "[W BOISE, BOISE BENCH, W BOISE-MERIDIAN, NORTH BOISE, SE BOISE, ..., NE MERIDIAN, SW BOISE, SW BOISE-MERIDIAN, NaN, EAGLE]\n",
       "Length: 13\n",
       "Categories (12, object): [W BOISE, BOISE BENCH, W BOISE-MERIDIAN, NORTH BOISE, ..., NE MERIDIAN, SW BOISE, SW BOISE-MERIDIAN, EAGLE]"
      ]
     },
     "execution_count": 11,
     "metadata": {},
     "output_type": "execute_result"
    }
   ],
   "source": [
    "#df_hd.dtypes\n",
    "df_hd['Neighborhood'].unique()"
   ]
  },
  {
   "cell_type": "code",
   "execution_count": 17,
   "metadata": {},
   "outputs": [
    {
     "data": {
      "text/html": [
       "<div>\n",
       "<style scoped>\n",
       "    .dataframe tbody tr th:only-of-type {\n",
       "        vertical-align: middle;\n",
       "    }\n",
       "\n",
       "    .dataframe tbody tr th {\n",
       "        vertical-align: top;\n",
       "    }\n",
       "\n",
       "    .dataframe thead th {\n",
       "        text-align: right;\n",
       "    }\n",
       "</style>\n",
       "<table border=\"1\" class=\"dataframe\">\n",
       "  <thead>\n",
       "    <tr style=\"text-align: right;\">\n",
       "      <th></th>\n",
       "      <th>PARCEL</th>\n",
       "      <th>YEAR</th>\n",
       "      <th>Area</th>\n",
       "      <th>Neighborhood</th>\n",
       "      <th>TAV</th>\n",
       "      <th>Sale Price</th>\n",
       "    </tr>\n",
       "  </thead>\n",
       "  <tbody>\n",
       "    <tr>\n",
       "      <th>0</th>\n",
       "      <td>R0017650020</td>\n",
       "      <td>2000</td>\n",
       "      <td>W BOISE</td>\n",
       "      <td>NORTH CENTRAL BENCH</td>\n",
       "      <td>158000.0</td>\n",
       "      <td>NaN</td>\n",
       "    </tr>\n",
       "    <tr>\n",
       "      <th>1</th>\n",
       "      <td>R0017650030</td>\n",
       "      <td>2000</td>\n",
       "      <td>W BOISE</td>\n",
       "      <td>NORTH CENTRAL BENCH</td>\n",
       "      <td>165800.0</td>\n",
       "      <td>NaN</td>\n",
       "    </tr>\n",
       "    <tr>\n",
       "      <th>2</th>\n",
       "      <td>R0017650040</td>\n",
       "      <td>2000</td>\n",
       "      <td>W BOISE</td>\n",
       "      <td>NORTH CENTRAL BENCH</td>\n",
       "      <td>165800.0</td>\n",
       "      <td>NaN</td>\n",
       "    </tr>\n",
       "    <tr>\n",
       "      <th>3</th>\n",
       "      <td>R0017650050</td>\n",
       "      <td>2000</td>\n",
       "      <td>W BOISE</td>\n",
       "      <td>NORTH CENTRAL BENCH</td>\n",
       "      <td>155000.0</td>\n",
       "      <td>NaN</td>\n",
       "    </tr>\n",
       "    <tr>\n",
       "      <th>4</th>\n",
       "      <td>R0027000008</td>\n",
       "      <td>2000</td>\n",
       "      <td>BOISE BENCH</td>\n",
       "      <td>CENTRAL BOISE BENCH</td>\n",
       "      <td>129100.0</td>\n",
       "      <td>NaN</td>\n",
       "    </tr>\n",
       "  </tbody>\n",
       "</table>\n",
       "</div>"
      ],
      "text/plain": [
       "        PARCEL  YEAR         Area         Neighborhood       TAV  Sale Price\n",
       "0  R0017650020  2000      W BOISE  NORTH CENTRAL BENCH  158000.0         NaN\n",
       "1  R0017650030  2000      W BOISE  NORTH CENTRAL BENCH  165800.0         NaN\n",
       "2  R0017650040  2000      W BOISE  NORTH CENTRAL BENCH  165800.0         NaN\n",
       "3  R0017650050  2000      W BOISE  NORTH CENTRAL BENCH  155000.0         NaN\n",
       "4  R0027000008  2000  BOISE BENCH  CENTRAL BOISE BENCH  129100.0         NaN"
      ]
     },
     "execution_count": 17,
     "metadata": {},
     "output_type": "execute_result"
    }
   ],
   "source": [
    "# Abbreviated dataframe for all of the parcels\n",
    "short_house = df_hd[['PARCEL','YEAR','Area','Neighborhood','TAV','Sale Price']]\n",
    "short_house.head()"
   ]
  },
  {
   "cell_type": "code",
   "execution_count": 19,
   "metadata": {},
   "outputs": [],
   "source": [
    "#short_house.loc[short_house['PARCEL'] == parcelNum]\n",
    "myN = short_house[short_house['Neighborhood'] == 'CENTRAL BOISE BENCH']"
   ]
  },
  {
   "cell_type": "markdown",
   "metadata": {},
   "source": [
    "### Searching code "
   ]
  },
  {
   "cell_type": "code",
   "execution_count": null,
   "metadata": {},
   "outputs": [],
   "source": [
    "\n",
    "#df_hd.loc[df_hd['GROUP'] == 'ELIZABETH PL']\n",
    "\n",
    "#tBlock = short_house.loc[(short_house['TOWNSHIP'] == '3N')&(short_house['RANGE']=='2E')&(short_house['SECTION']==16)]\n",
    "\n",
    "#tList = tBlock[tBlock['GROUP'].str.contains(r'GLEN)]\n",
    "#tList.GROUP.unique()\n"
   ]
  },
  {
   "cell_type": "code",
   "execution_count": null,
   "metadata": {},
   "outputs": [],
   "source": [
    "mySec = short_house.loc[(short_house['TOWNSHIP'] == '3N')&(short_house['RANGE'] == '2E')&(short_house['SECTION'] == 21)]\n",
    "\n",
    "mySec.head(5)\n"
   ]
  },
  {
   "cell_type": "code",
   "execution_count": null,
   "metadata": {},
   "outputs": [],
   "source": [
    "mySec.shape\n",
    "#df_hd.SECTION.unique()"
   ]
  },
  {
   "cell_type": "code",
   "execution_count": null,
   "metadata": {},
   "outputs": [],
   "source": [
    "my_block = short_house.loc[(short_house['TOWNSHIP'] == '3N')&(short_house['RANGE']=='2E')&(short_house['SECTION']==21)]\n",
    "my_block = my_block.loc[my_block['TAV'] != 0]\n",
    "my_block.head(5)"
   ]
  },
  {
   "cell_type": "markdown",
   "metadata": {},
   "source": [
    "# Fixing the data for graphing and analysis"
   ]
  },
  {
   "cell_type": "code",
   "execution_count": null,
   "metadata": {},
   "outputs": [],
   "source": [
    "from scipy import stats\n",
    "import numpy as np"
   ]
  },
  {
   "cell_type": "code",
   "execution_count": null,
   "metadata": {},
   "outputs": [],
   "source": [
    "df_yr_19 = mySec.loc[mySec['YEAR'] == 2019]\n",
    "df_yr_19p = df_yr_19.drop(['GROUP','Sub','TOWNSHIP','RANGE','SECTION','YEAR'], axis = 1)\n",
    "spl19 = df_yr_19.TAV\n",
    "#spl19.head(5)\n",
    "df_yr_19p.dtypes"
   ]
  },
  {
   "cell_type": "code",
   "execution_count": null,
   "metadata": {},
   "outputs": [],
   "source": [
    "# z = np.abs(stats.zscore(df_yr_19p.TAV))\n",
    "# print(z)\n",
    "\n",
    "df_yr_19['z-Score']"
   ]
  },
  {
   "cell_type": "code",
   "execution_count": null,
   "metadata": {},
   "outputs": [],
   "source": [
    "import matplotlib.pyplot as plt\n",
    "import seaborn as sns\n",
    "\n",
    "fig\n",
    "ax.scatter(df_yr_19['TAV'],df_yr_19['Sub'])\n",
    "\n"
   ]
  },
  {
   "cell_type": "code",
   "execution_count": null,
   "metadata": {},
   "outputs": [],
   "source": []
  },
  {
   "cell_type": "code",
   "execution_count": null,
   "metadata": {},
   "outputs": [],
   "source": []
  },
  {
   "cell_type": "markdown",
   "metadata": {},
   "source": [
    "# Graph Stuff"
   ]
  },
  {
   "cell_type": "code",
   "execution_count": null,
   "metadata": {},
   "outputs": [],
   "source": []
  },
  {
   "cell_type": "code",
   "execution_count": null,
   "metadata": {},
   "outputs": [],
   "source": [
    "import plotly\n",
    "import plotly.express as px\n",
    "\n",
    "fig1 = px.box(mySec, x='YEAR', y = 'TAV')\n",
    "fig1.show()"
   ]
  },
  {
   "cell_type": "code",
   "execution_count": null,
   "metadata": {},
   "outputs": [],
   "source": [
    "import plotly.graph_objects as go\n",
    "\n",
    "fig = go.Figure(data =go.Scatter(\n",
    "        x = mySec['YEAR'],\n",
    "        y = mySec['TAV']))\n",
    "\n",
    "fig.show()"
   ]
  },
  {
   "cell_type": "markdown",
   "metadata": {},
   "source": [
    "### Look into z-scores for trimming the outliers\n",
    "https://towardsdatascience.com/ways-to-detect-and-remove-the-outliers-404d16608dba"
   ]
  },
  {
   "cell_type": "code",
   "execution_count": null,
   "metadata": {},
   "outputs": [],
   "source": []
  },
  {
   "cell_type": "code",
   "execution_count": null,
   "metadata": {},
   "outputs": [],
   "source": []
  },
  {
   "cell_type": "code",
   "execution_count": null,
   "metadata": {},
   "outputs": [],
   "source": []
  },
  {
   "cell_type": "code",
   "execution_count": null,
   "metadata": {},
   "outputs": [],
   "source": []
  },
  {
   "cell_type": "code",
   "execution_count": null,
   "metadata": {},
   "outputs": [],
   "source": []
  }
 ],
 "metadata": {
  "kernelspec": {
   "display_name": "Python 3",
   "language": "python",
   "name": "python3"
  },
  "language_info": {
   "codemirror_mode": {
    "name": "ipython",
    "version": 3
   },
   "file_extension": ".py",
   "mimetype": "text/x-python",
   "name": "python",
   "nbconvert_exporter": "python",
   "pygments_lexer": "ipython3",
   "version": "3.6.8"
  }
 },
 "nbformat": 4,
 "nbformat_minor": 2
}
