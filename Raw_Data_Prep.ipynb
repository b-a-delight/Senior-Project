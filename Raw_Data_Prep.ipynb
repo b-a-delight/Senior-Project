{
 "cells": [
  {
   "cell_type": "markdown",
   "metadata": {
    "colab_type": "text",
    "id": "NHqTieKE66cd"
   },
   "source": [
    "# Raw Data Prep"
   ]
  },
  {
   "cell_type": "markdown",
   "metadata": {
    "colab_type": "text",
    "id": "rO9FEfFt7RwF"
   },
   "source": [
    "## Libraries"
   ]
  },
  {
   "cell_type": "code",
   "execution_count": 2,
   "metadata": {
    "colab": {},
    "colab_type": "code",
    "id": "bzXruhb47RiN"
   },
   "outputs": [],
   "source": [
    "import numpy as np\n",
    "import pandas as pd\n",
    "import xlrd\n",
    "import os"
   ]
  },
  {
   "cell_type": "code",
   "execution_count": 20,
   "metadata": {},
   "outputs": [],
   "source": [
    "import sys\n",
    "np.set_printoptions(threshold=np.inf)"
   ]
  },
  {
   "cell_type": "markdown",
   "metadata": {
    "colab_type": "text",
    "id": "WaclQKQn7ALF"
   },
   "source": [
    "## Mount Google Drive"
   ]
  },
  {
   "cell_type": "code",
   "execution_count": null,
   "metadata": {
    "colab": {
     "base_uri": "https://localhost:8080/",
     "height": 121
    },
    "colab_type": "code",
    "id": "nEE8P-UV6xcP",
    "outputId": "194005e1-e857-4515-a915-f50bc58f414a"
   },
   "outputs": [],
   "source": [
    "# from google.colab import drive\n",
    "# drive.mount('/content/drive')"
   ]
  },
  {
   "cell_type": "code",
   "execution_count": null,
   "metadata": {
    "colab": {
     "base_uri": "https://localhost:8080/",
     "height": 118
    },
    "colab_type": "code",
    "id": "p0jGezKu8i2q",
    "outputId": "7e9f7882-57f0-41cf-bfa8-b3073047ff3a"
   },
   "outputs": [],
   "source": [
    "#os.listdir(\"/content/drive/My Drive/Colab Notebooks\")"
   ]
  },
  {
   "cell_type": "code",
   "execution_count": null,
   "metadata": {
    "colab": {
     "base_uri": "https://localhost:8080/",
     "height": 470
    },
    "colab_type": "code",
    "id": "pf77Pfp0S_He",
    "outputId": "2f5c2b03-1bb6-44c9-eecd-4da28bc13705"
   },
   "outputs": [],
   "source": [
    "os.listdir(\".\")"
   ]
  },
  {
   "cell_type": "code",
   "execution_count": null,
   "metadata": {
    "colab": {},
    "colab_type": "code",
    "id": "8iY7F2VQ894v"
   },
   "outputs": [],
   "source": [
    "housePath = \"/content/drive/My Drive/Colab Notebooks/house_prices.xlsx\""
   ]
  },
  {
   "cell_type": "markdown",
   "metadata": {
    "colab_type": "text",
    "id": "BnHL_uq170kW"
   },
   "source": [
    "# Load excel data for House Prices\n"
   ]
  },
  {
   "cell_type": "code",
   "execution_count": null,
   "metadata": {
    "colab": {},
    "colab_type": "code",
    "id": "w7LS7YdF65F3"
   },
   "outputs": [],
   "source": [
    "# #wb = xlrd.open_workbook(housePath)\n",
    "# #data = pd.read_excel(housePath)\n",
    "# xl = pd.ExcelFile(housePath)\n"
   ]
  },
  {
   "cell_type": "markdown",
   "metadata": {
    "colab_type": "text",
    "id": "nBWSxvhkL7YT"
   },
   "source": [
    "### Extract sheets, concat sheets, and pickle them"
   ]
  },
  {
   "cell_type": "code",
   "execution_count": null,
   "metadata": {
    "colab": {},
    "colab_type": "code",
    "id": "o2CTI56R_rjh"
   },
   "outputs": [],
   "source": [
    "# df00 = xl.parse(\"2000\")\n",
    "# df01 = xl.parse(\"2001\")\n",
    "# df02 = xl.parse(\"2002\")\n",
    "# df03 = xl.parse(\"2003\")\n",
    "# df04 = xl.parse(\"2004\")\n",
    "# df05 = xl.parse(\"2005\")\n",
    "# df06 = xl.parse(\"2006\")\n",
    "# df07 = xl.parse(\"2007\")\n",
    "# df08 = xl.parse(\"2008\")\n",
    "# df09 = xl.parse(\"2009\")\n",
    "# df10 = xl.parse(\"2010\")\n",
    "# df11 = xl.parse(\"2011\")\n",
    "# df12 = xl.parse(\"2012\")\n",
    "# df13 = xl.parse(\"2013\")\n",
    "# df14 = xl.parse(\"2014\")\n",
    "# df15 = xl.parse(\"2015\")\n",
    "# df16 = xl.parse(\"2016\")\n",
    "# df17 = xl.parse(\"2017\")\n",
    "# df18 = xl.parse(\"2018\")\n",
    "# df19 = xl.parse(\"2019\")"
   ]
  },
  {
   "cell_type": "code",
   "execution_count": null,
   "metadata": {
    "colab": {},
    "colab_type": "code",
    "id": "B3aG-HD_It6o"
   },
   "outputs": [],
   "source": [
    "# df00.to_pickle(\"df00.pkl\")\n",
    "# df01.to_pickle(\"df01.pkl\")\n",
    "# df02.to_pickle(\"df02.pkl\")\n",
    "# df03.to_pickle(\"df03.pkl\")\n",
    "# df04.to_pickle(\"df04.pkl\")\n",
    "# df05.to_pickle(\"df05.pkl\")\n",
    "# df06.to_pickle(\"df06.pkl\")\n",
    "# df07.to_pickle(\"df07.pkl\")\n",
    "# df08.to_pickle(\"df08.pkl\")\n",
    "# df09.to_pickle(\"df09.pkl\")\n",
    "# df10.to_pickle(\"df10.pkl\")\n",
    "# df11.to_pickle(\"df11.pkl\")\n",
    "# df12.to_pickle(\"df12.pkl\")\n",
    "# df13.to_pickle(\"df13.pkl\")\n",
    "# df14.to_pickle(\"df14.pkl\")\n",
    "# df15.to_pickle(\"df15.pkl\")\n",
    "# df16.to_pickle(\"df16.pkl\")\n",
    "# df17.to_pickle(\"df17.pkl\")\n",
    "# df18.to_pickle(\"df18.pkl\")\n",
    "# df19.to_pickle(\"df19.pkl\")"
   ]
  },
  {
   "cell_type": "code",
   "execution_count": 4,
   "metadata": {},
   "outputs": [],
   "source": [
    "df00 = pd.read_pickle(\"./Pickle/df00.pkl\")\n",
    "df01 = pd.read_pickle(\"./Pickle/df01.pkl\")\n",
    "df02 = pd.read_pickle(\"./Pickle/df02.pkl\")\n",
    "df03 = pd.read_pickle(\"./Pickle/df03.pkl\")\n",
    "df04 = pd.read_pickle(\"./Pickle/df04.pkl\")\n",
    "df05 = pd.read_pickle(\"./Pickle/df05.pkl\")\n",
    "df06 = pd.read_pickle(\"./Pickle/df06.pkl\")\n",
    "df07 = pd.read_pickle(\"./Pickle/df07.pkl\")\n",
    "df08 = pd.read_pickle(\"./Pickle/df08.pkl\")\n",
    "df09 = pd.read_pickle(\"./Pickle/df09.pkl\")\n",
    "df10 = pd.read_pickle(\"./Pickle/df10.pkl\")\n",
    "df11 = pd.read_pickle(\"./Pickle/df11.pkl\")\n",
    "df12 = pd.read_pickle(\"./Pickle/df12.pkl\")\n",
    "df13 = pd.read_pickle(\"./Pickle/df13.pkl\")\n",
    "df14 = pd.read_pickle(\"./Pickle/df14.pkl\")\n",
    "df15 = pd.read_pickle(\"./Pickle/df15.pkl\")\n",
    "df16 = pd.read_pickle(\"./Pickle/df16.pkl\")\n",
    "df17 = pd.read_pickle(\"./Pickle/df17.pkl\")\n",
    "df18 = pd.read_pickle(\"./Pickle/df18.pkl\")\n",
    "df19 = pd.read_pickle(\"./Pickle/df19.pkl\")"
   ]
  },
  {
   "cell_type": "code",
   "execution_count": 5,
   "metadata": {},
   "outputs": [],
   "source": [
    "dfList = [df00,df01,df02,df03,df04,df05,df06,\n",
    "         df07,df08,df09,df10,df11,df12,df13,\n",
    "         df14,df15,df16,df17,df18,df19]\n",
    "\n",
    "rawHouse = pd.concat(dfList)\n",
    "rawHouse.to_pickle('rawHouse.pkl')"
   ]
  },
  {
   "cell_type": "markdown",
   "metadata": {},
   "source": [
    "## Clean house from pickle"
   ]
  },
  {
   "cell_type": "code",
   "execution_count": 6,
   "metadata": {},
   "outputs": [
    {
     "name": "stdout",
     "output_type": "stream",
     "text": [
      "<class 'pandas.core.frame.DataFrame'>\n",
      "Int64Index: 1270865 entries, 0 to 73153\n",
      "Data columns (total 41 columns):\n",
      "PARCEL                  1270865 non-null category\n",
      "YEAR                    1270865 non-null category\n",
      "ACREAGE                 1270865 non-null float64\n",
      "GROUP                   1270865 non-null category\n",
      "TOWNSHIP                1270865 non-null category\n",
      "RANGE                   1270865 non-null category\n",
      "SECTION                 1270865 non-null category\n",
      "YR BUILT                1270865 non-null category\n",
      "REMODEL YR              1270865 non-null category\n",
      "DWELLINGS               1270865 non-null category\n",
      "DESIGN                  1270865 non-null category\n",
      "CONSTRUCTION CLASS      1270865 non-null category\n",
      "MARKET GRADE            1270863 non-null category\n",
      "BEDROOMS                1270865 non-null int64\n",
      "BATHROOMS               1270865 non-null float64\n",
      "GROUND FL SQ FT         1270865 non-null int64\n",
      "UPPER FL SQ FT          1270865 non-null int64\n",
      "LOWER SQ FT UNFIN       1270865 non-null int64\n",
      "LOWER FL SQ FT FIN      1270865 non-null int64\n",
      "BASEMENT SQ FT UNFIN    1270865 non-null int64\n",
      "BASEMENT SQ FT FIN      1270865 non-null int64\n",
      "ATTIC SQ FT UNFIN       1270865 non-null int64\n",
      "ATTIC SQ FT FIN         1270865 non-null int64\n",
      "TOTAL SQ FT             1270865 non-null int64\n",
      "PORCH SQ FT             1270865 non-null int64\n",
      "PATIO 1 SQ FT           1270865 non-null int64\n",
      "PATIO 1 CVD             1270865 non-null object\n",
      "PATIO 2 SQ FT           1270865 non-null int64\n",
      "PATIO 2 CVD             882952 non-null object\n",
      "DECK 1 SQ FT            1270865 non-null int64\n",
      "DECK 1 CVD              1270865 non-null object\n",
      "DECK 2 SQ FT            1270865 non-null int64\n",
      "DECK 2 CVD              882952 non-null object\n",
      "GARAGE 1 SQ FT          1270865 non-null int64\n",
      "GARAGE 1 TYPE           1167379 non-null category\n",
      "GARAGE 2 SQ FT          1270865 non-null int64\n",
      "GARAGE 2 TYPE           59224 non-null category\n",
      "POOL SQ FT              1270865 non-null int64\n",
      "TAV                     1270863 non-null float64\n",
      "Sale Price              1049841 non-null float64\n",
      "Sale Date               1049841 non-null datetime64[ns]\n",
      "dtypes: category(14), datetime64[ns](1), float64(4), int64(18), object(4)\n",
      "memory usage: 297.7+ MB\n"
     ]
    }
   ],
   "source": [
    "house = pd.read_pickle('rawHouse.pkl')\n",
    "\n",
    "colList = ['PARCEL', 'YEAR', 'GARAGE 1 TYPE','GARAGE 2 TYPE']\n",
    "\n",
    "for col in colList:\n",
    "    house[col] = house[col].astype('category')\n",
    "\n",
    "house.iloc[:,4:14] = house.iloc[:,4:14].astype('category')\n",
    "\n",
    "house = house.drop(['SUFFIX'], axis = 1)\n",
    "\n",
    "# Remove houses that have TAV = $0 and only single family dwellings\n",
    "house = house.loc[house['TAV'] != 0]\n",
    "house = house.loc[house['DWELLINGS'].str.contains('SFD')]\n",
    "\n",
    "\n",
    "\n",
    "house.to_pickle('house.pkl')\n",
    "#house.head(5)\n",
    "house.info()"
   ]
  },
  {
   "cell_type": "code",
   "execution_count": null,
   "metadata": {},
   "outputs": [],
   "source": [
    "#house.dtypes\n",
    "#house.head(5)\n",
    "#house.iloc[15:20,:]\n",
    "#house.SUFFIX.unique()"
   ]
  },
  {
   "cell_type": "code",
   "execution_count": null,
   "metadata": {},
   "outputs": [],
   "source": [
    "house.DWELLINGS.unique()"
   ]
  },
  {
   "cell_type": "markdown",
   "metadata": {},
   "source": [
    "## Build Neighborhoods"
   ]
  },
  {
   "cell_type": "markdown",
   "metadata": {},
   "source": [
    "Code for 1st source of neighborhood data. Being replaced with Group_List.xlsx"
   ]
  },
  {
   "cell_type": "code",
   "execution_count": null,
   "metadata": {},
   "outputs": [],
   "source": [
    "# old neighborhood data, replaced with spreadsheet from assessor's office\n",
    "\n",
    "# xlN = pd.ExcelFile('Neighborhoods.xlsx')\n",
    "# northEnd = xlN.parse('NorthEnd')\n",
    "# benchD = xlN.parse('Bench-Depot')\n",
    "# westE = xlN.parse('WestEnd')\n",
    "# neighList = [northEnd, benchD,westE]\n",
    "# neighKey = pd.concat(neighList)\n",
    "# neighKey.to_pickle('neighKey.pkl')"
   ]
  },
  {
   "cell_type": "code",
   "execution_count": null,
   "metadata": {},
   "outputs": [],
   "source": [
    "# neighKey = pd.read_pickle('neighKey.pkl')\n",
    "\n",
    "# neighKey = neighKey.iloc[:,1:4]\n",
    "\n",
    "# regList = [' SUB\\s*', ' ADD\\s*', '\\s*TO BOISE',' AMD\\s*', ' TO BOISE', '\\s*NO\\s\\d\\d']\n",
    "# neighKey['Sub'] = neighKey['Subdivision'].replace(regList,'', regex = True)\n",
    "\n",
    "# neighKey.to_pickle('neighKey.pkl')\n",
    "# neighKey.head(5)"
   ]
  },
  {
   "cell_type": "code",
   "execution_count": 8,
   "metadata": {},
   "outputs": [
    {
     "data": {
      "text/html": [
       "<div>\n",
       "<style scoped>\n",
       "    .dataframe tbody tr th:only-of-type {\n",
       "        vertical-align: middle;\n",
       "    }\n",
       "\n",
       "    .dataframe tbody tr th {\n",
       "        vertical-align: top;\n",
       "    }\n",
       "\n",
       "    .dataframe thead th {\n",
       "        text-align: right;\n",
       "    }\n",
       "</style>\n",
       "<table border=\"1\" class=\"dataframe\">\n",
       "  <thead>\n",
       "    <tr style=\"text-align: right;\">\n",
       "      <th></th>\n",
       "      <th>GROUP</th>\n",
       "      <th>GEO-ECONOMIC AREA</th>\n",
       "      <th>MLS AREA</th>\n",
       "    </tr>\n",
       "  </thead>\n",
       "  <tbody>\n",
       "    <tr>\n",
       "      <th>0</th>\n",
       "      <td>EMBASSY</td>\n",
       "      <td>NORTHWEST MERIDIAN</td>\n",
       "      <td>NW MERIDIAN</td>\n",
       "    </tr>\n",
       "    <tr>\n",
       "      <th>1</th>\n",
       "      <td>CHERRY LANE</td>\n",
       "      <td>NORTHWEST MERIDIAN</td>\n",
       "      <td>NW MERIDIAN</td>\n",
       "    </tr>\n",
       "    <tr>\n",
       "      <th>2</th>\n",
       "      <td>3N 1W 11</td>\n",
       "      <td>NORTHWEST MERIDIAN</td>\n",
       "      <td>NW MERIDIAN</td>\n",
       "    </tr>\n",
       "    <tr>\n",
       "      <th>3</th>\n",
       "      <td>4N 1W 26</td>\n",
       "      <td>NORTHWEST MERIDIAN</td>\n",
       "      <td>NW MERIDIAN</td>\n",
       "    </tr>\n",
       "    <tr>\n",
       "      <th>4</th>\n",
       "      <td>FRITTS SUB</td>\n",
       "      <td>NORTHWEST MERIDIAN</td>\n",
       "      <td>NW MERIDIAN</td>\n",
       "    </tr>\n",
       "  </tbody>\n",
       "</table>\n",
       "</div>"
      ],
      "text/plain": [
       "         GROUP   GEO-ECONOMIC AREA     MLS AREA\n",
       "0      EMBASSY  NORTHWEST MERIDIAN  NW MERIDIAN\n",
       "1  CHERRY LANE  NORTHWEST MERIDIAN  NW MERIDIAN\n",
       "2     3N 1W 11  NORTHWEST MERIDIAN  NW MERIDIAN\n",
       "3     4N 1W 26  NORTHWEST MERIDIAN  NW MERIDIAN\n",
       "4   FRITTS SUB  NORTHWEST MERIDIAN  NW MERIDIAN"
      ]
     },
     "execution_count": 8,
     "metadata": {},
     "output_type": "execute_result"
    }
   ],
   "source": [
    " xlG = pd.ExcelFile('./Data/GROUP_LIST.xlsx')\n",
    "groupList = xlG.parse('GROUP')\n",
    "\n",
    "groupList.to_pickle('groupList.pkl')\n",
    "groupList.head()"
   ]
  },
  {
   "cell_type": "code",
   "execution_count": null,
   "metadata": {},
   "outputs": [],
   "source": []
  },
  {
   "cell_type": "markdown",
   "metadata": {},
   "source": [
    "## Join neighKey.pkl to house.pkl, to make houseAll.pkl"
   ]
  },
  {
   "cell_type": "code",
   "execution_count": 38,
   "metadata": {},
   "outputs": [
    {
     "data": {
      "text/html": [
       "<div>\n",
       "<style scoped>\n",
       "    .dataframe tbody tr th:only-of-type {\n",
       "        vertical-align: middle;\n",
       "    }\n",
       "\n",
       "    .dataframe tbody tr th {\n",
       "        vertical-align: top;\n",
       "    }\n",
       "\n",
       "    .dataframe thead th {\n",
       "        text-align: right;\n",
       "    }\n",
       "</style>\n",
       "<table border=\"1\" class=\"dataframe\">\n",
       "  <thead>\n",
       "    <tr style=\"text-align: right;\">\n",
       "      <th></th>\n",
       "      <th>PARCEL</th>\n",
       "      <th>Year</th>\n",
       "      <th>ACREAGE</th>\n",
       "      <th>GROUP</th>\n",
       "      <th>TOWNSHIP</th>\n",
       "      <th>RANGE</th>\n",
       "      <th>SECTION</th>\n",
       "      <th>YR BUILT</th>\n",
       "      <th>REMODEL YR</th>\n",
       "      <th>DWELLINGS</th>\n",
       "      <th>...</th>\n",
       "      <th>GARAGE 1 SQ FT</th>\n",
       "      <th>GARAGE 1 TYPE</th>\n",
       "      <th>GARAGE 2 SQ FT</th>\n",
       "      <th>GARAGE 2 TYPE</th>\n",
       "      <th>POOL SQ FT</th>\n",
       "      <th>TAV</th>\n",
       "      <th>Sale Price</th>\n",
       "      <th>Sale Date</th>\n",
       "      <th>Neighborhood</th>\n",
       "      <th>Area</th>\n",
       "    </tr>\n",
       "  </thead>\n",
       "  <tbody>\n",
       "    <tr>\n",
       "      <th>0</th>\n",
       "      <td>R0017650020</td>\n",
       "      <td>2000</td>\n",
       "      <td>0.246</td>\n",
       "      <td>AARON PARK SUB</td>\n",
       "      <td>3N</td>\n",
       "      <td>1E</td>\n",
       "      <td>1</td>\n",
       "      <td>1998</td>\n",
       "      <td>0</td>\n",
       "      <td>SFD</td>\n",
       "      <td>...</td>\n",
       "      <td>476</td>\n",
       "      <td>DETACHED</td>\n",
       "      <td>280</td>\n",
       "      <td>DETACHED</td>\n",
       "      <td>0</td>\n",
       "      <td>158000.0</td>\n",
       "      <td>NaN</td>\n",
       "      <td>NaT</td>\n",
       "      <td>NORTH CENTRAL BENCH</td>\n",
       "      <td>W BOISE</td>\n",
       "    </tr>\n",
       "    <tr>\n",
       "      <th>1</th>\n",
       "      <td>R0017650030</td>\n",
       "      <td>2000</td>\n",
       "      <td>0.165</td>\n",
       "      <td>AARON PARK SUB</td>\n",
       "      <td>3N</td>\n",
       "      <td>1E</td>\n",
       "      <td>1</td>\n",
       "      <td>1999</td>\n",
       "      <td>0</td>\n",
       "      <td>SFD</td>\n",
       "      <td>...</td>\n",
       "      <td>280</td>\n",
       "      <td>DETACHED</td>\n",
       "      <td>0</td>\n",
       "      <td>NaN</td>\n",
       "      <td>0</td>\n",
       "      <td>165800.0</td>\n",
       "      <td>NaN</td>\n",
       "      <td>NaT</td>\n",
       "      <td>NORTH CENTRAL BENCH</td>\n",
       "      <td>W BOISE</td>\n",
       "    </tr>\n",
       "    <tr>\n",
       "      <th>2</th>\n",
       "      <td>R0017650040</td>\n",
       "      <td>2000</td>\n",
       "      <td>0.144</td>\n",
       "      <td>AARON PARK SUB</td>\n",
       "      <td>3N</td>\n",
       "      <td>1E</td>\n",
       "      <td>1</td>\n",
       "      <td>1999</td>\n",
       "      <td>0</td>\n",
       "      <td>SFD</td>\n",
       "      <td>...</td>\n",
       "      <td>280</td>\n",
       "      <td>DETACHED</td>\n",
       "      <td>0</td>\n",
       "      <td>NaN</td>\n",
       "      <td>0</td>\n",
       "      <td>165800.0</td>\n",
       "      <td>NaN</td>\n",
       "      <td>NaT</td>\n",
       "      <td>NORTH CENTRAL BENCH</td>\n",
       "      <td>W BOISE</td>\n",
       "    </tr>\n",
       "    <tr>\n",
       "      <th>3</th>\n",
       "      <td>R0017650050</td>\n",
       "      <td>2000</td>\n",
       "      <td>0.211</td>\n",
       "      <td>AARON PARK SUB</td>\n",
       "      <td>3N</td>\n",
       "      <td>1E</td>\n",
       "      <td>1</td>\n",
       "      <td>1998</td>\n",
       "      <td>0</td>\n",
       "      <td>SFD</td>\n",
       "      <td>...</td>\n",
       "      <td>0</td>\n",
       "      <td>NaN</td>\n",
       "      <td>0</td>\n",
       "      <td>NaN</td>\n",
       "      <td>0</td>\n",
       "      <td>155000.0</td>\n",
       "      <td>NaN</td>\n",
       "      <td>NaT</td>\n",
       "      <td>NORTH CENTRAL BENCH</td>\n",
       "      <td>W BOISE</td>\n",
       "    </tr>\n",
       "    <tr>\n",
       "      <th>4</th>\n",
       "      <td>R0027000008</td>\n",
       "      <td>2000</td>\n",
       "      <td>0.270</td>\n",
       "      <td>ABBS SUB</td>\n",
       "      <td>3N</td>\n",
       "      <td>2E</td>\n",
       "      <td>21</td>\n",
       "      <td>1937</td>\n",
       "      <td>1992</td>\n",
       "      <td>SFD</td>\n",
       "      <td>...</td>\n",
       "      <td>240</td>\n",
       "      <td>DETACHED</td>\n",
       "      <td>940</td>\n",
       "      <td>DETACHED</td>\n",
       "      <td>0</td>\n",
       "      <td>129100.0</td>\n",
       "      <td>NaN</td>\n",
       "      <td>NaT</td>\n",
       "      <td>CENTRAL BOISE BENCH</td>\n",
       "      <td>BOISE BENCH</td>\n",
       "    </tr>\n",
       "  </tbody>\n",
       "</table>\n",
       "<p>5 rows × 43 columns</p>\n",
       "</div>"
      ],
      "text/plain": [
       "        PARCEL  Year  ACREAGE           GROUP TOWNSHIP RANGE SECTION YR BUILT  \\\n",
       "0  R0017650020  2000    0.246  AARON PARK SUB       3N    1E       1     1998   \n",
       "1  R0017650030  2000    0.165  AARON PARK SUB       3N    1E       1     1999   \n",
       "2  R0017650040  2000    0.144  AARON PARK SUB       3N    1E       1     1999   \n",
       "3  R0017650050  2000    0.211  AARON PARK SUB       3N    1E       1     1998   \n",
       "4  R0027000008  2000    0.270        ABBS SUB       3N    2E      21     1937   \n",
       "\n",
       "  REMODEL YR DWELLINGS  ... GARAGE 1 SQ FT GARAGE 1 TYPE GARAGE 2 SQ FT  \\\n",
       "0          0       SFD  ...            476      DETACHED            280   \n",
       "1          0       SFD  ...            280      DETACHED              0   \n",
       "2          0       SFD  ...            280      DETACHED              0   \n",
       "3          0       SFD  ...              0           NaN              0   \n",
       "4       1992       SFD  ...            240      DETACHED            940   \n",
       "\n",
       "   GARAGE 2 TYPE  POOL SQ FT       TAV  Sale Price  Sale Date  \\\n",
       "0       DETACHED           0  158000.0         NaN        NaT   \n",
       "1            NaN           0  165800.0         NaN        NaT   \n",
       "2            NaN           0  165800.0         NaN        NaT   \n",
       "3            NaN           0  155000.0         NaN        NaT   \n",
       "4       DETACHED           0  129100.0         NaN        NaT   \n",
       "\n",
       "          Neighborhood         Area  \n",
       "0  NORTH CENTRAL BENCH      W BOISE  \n",
       "1  NORTH CENTRAL BENCH      W BOISE  \n",
       "2  NORTH CENTRAL BENCH      W BOISE  \n",
       "3  NORTH CENTRAL BENCH      W BOISE  \n",
       "4  CENTRAL BOISE BENCH  BOISE BENCH  \n",
       "\n",
       "[5 rows x 43 columns]"
      ]
     },
     "execution_count": 38,
     "metadata": {},
     "output_type": "execute_result"
    }
   ],
   "source": [
    "groupList = pd.read_pickle('groupList.pkl')\n",
    "house = pd.read_pickle('house.pkl')\n",
    "\n",
    "houseAll = pd.merge(house, groupList, on = 'GROUP', how = 'left')\n",
    "\n",
    "colList = ['GROUP', 'GEO-ECONOMIC AREA', 'MLS AREA']\n",
    "\n",
    "for col in colList:\n",
    "    houseAll[col] = houseAll[col].astype('category')\n",
    "\n",
    "houseAll = houseAll.rename(columns={'GEO-ECONOMIC AREA' : 'Neighborhood','MLS AREA' : 'Area', 'YEAR' : 'Year'})\n",
    "\n",
    "houseAll.to_pickle('houseAll.pkl')\n",
    "houseAll.head(5)"
   ]
  },
  {
   "cell_type": "code",
   "execution_count": null,
   "metadata": {},
   "outputs": [],
   "source": [
    "houseAll.shape\n",
    "houseAll.info()"
   ]
  },
  {
   "cell_type": "code",
   "execution_count": null,
   "metadata": {},
   "outputs": [],
   "source": [
    "house.shape"
   ]
  },
  {
   "cell_type": "markdown",
   "metadata": {
    "colab_type": "text",
    "id": "cp8Qc5cq_LNi"
   },
   "source": [
    "# Raw Jobs Data into dataframe\n"
   ]
  },
  {
   "cell_type": "code",
   "execution_count": 11,
   "metadata": {},
   "outputs": [],
   "source": [
    "#xl2 = pd.ExcelFile(\"/content/drive/My Drive/Colab Notebooks/boise_msa_jobs_2000_to_2018.xlsx\")\n",
    "xl2 = pd.ExcelFile(\"./Data/boise_msa_jobs_2000_to_2018.xlsx\")\n",
    "rawJobs = xl2.parse(\"raw\")\n",
    "rawJobs.to_pickle(\"rawJobs.pkl\")"
   ]
  },
  {
   "cell_type": "markdown",
   "metadata": {},
   "source": [
    "### From rawJobs.pkl to metro_jobs from pickle"
   ]
  },
  {
   "cell_type": "code",
   "execution_count": 29,
   "metadata": {
    "colab": {
     "base_uri": "https://localhost:8080/",
     "height": 350
    },
    "colab_type": "code",
    "id": "PemhXp9__Low",
    "outputId": "e6f9ac62-c945-4b02-c5e4-f876b20c3757"
   },
   "outputs": [
    {
     "data": {
      "text/html": [
       "<div>\n",
       "<style scoped>\n",
       "    .dataframe tbody tr th:only-of-type {\n",
       "        vertical-align: middle;\n",
       "    }\n",
       "\n",
       "    .dataframe tbody tr th {\n",
       "        vertical-align: top;\n",
       "    }\n",
       "\n",
       "    .dataframe thead th {\n",
       "        text-align: right;\n",
       "    }\n",
       "</style>\n",
       "<table border=\"1\" class=\"dataframe\">\n",
       "  <thead>\n",
       "    <tr style=\"text-align: right;\">\n",
       "      <th></th>\n",
       "      <th>Year</th>\n",
       "      <th>Occ_Cat_Code</th>\n",
       "      <th>Occ_Sub_Cat_Code</th>\n",
       "      <th>Occ_Title</th>\n",
       "      <th>Is_Cat_Title</th>\n",
       "      <th>Emp_Count</th>\n",
       "      <th>Hr_Wage_Mean</th>\n",
       "      <th>An_Wage_Mean</th>\n",
       "      <th>Hr_Median</th>\n",
       "      <th>An_Median</th>\n",
       "    </tr>\n",
       "  </thead>\n",
       "  <tbody>\n",
       "    <tr>\n",
       "      <th>0</th>\n",
       "      <td>2000</td>\n",
       "      <td>11</td>\n",
       "      <td>0000</td>\n",
       "      <td>Management Occupations</td>\n",
       "      <td>True</td>\n",
       "      <td>15790.0</td>\n",
       "      <td>2950.0</td>\n",
       "      <td>61360.0</td>\n",
       "      <td>2668.0</td>\n",
       "      <td>55490.0</td>\n",
       "    </tr>\n",
       "    <tr>\n",
       "      <th>1</th>\n",
       "      <td>2000</td>\n",
       "      <td>11</td>\n",
       "      <td>1011</td>\n",
       "      <td>Chief Executives</td>\n",
       "      <td>False</td>\n",
       "      <td>1100.0</td>\n",
       "      <td>4802.0</td>\n",
       "      <td>99870.0</td>\n",
       "      <td>4889.0</td>\n",
       "      <td>101680.0</td>\n",
       "    </tr>\n",
       "    <tr>\n",
       "      <th>2</th>\n",
       "      <td>2000</td>\n",
       "      <td>11</td>\n",
       "      <td>1021</td>\n",
       "      <td>General And Operations Managers</td>\n",
       "      <td>False</td>\n",
       "      <td>5180.0</td>\n",
       "      <td>2761.0</td>\n",
       "      <td>57430.0</td>\n",
       "      <td>2392.0</td>\n",
       "      <td>49750.0</td>\n",
       "    </tr>\n",
       "    <tr>\n",
       "      <th>3</th>\n",
       "      <td>2000</td>\n",
       "      <td>11</td>\n",
       "      <td>2011</td>\n",
       "      <td>Advertising And Promotions Managers</td>\n",
       "      <td>False</td>\n",
       "      <td>220.0</td>\n",
       "      <td>2020.0</td>\n",
       "      <td>42030.0</td>\n",
       "      <td>1903.0</td>\n",
       "      <td>39590.0</td>\n",
       "    </tr>\n",
       "    <tr>\n",
       "      <th>4</th>\n",
       "      <td>2000</td>\n",
       "      <td>11</td>\n",
       "      <td>2021</td>\n",
       "      <td>Marketing Managers</td>\n",
       "      <td>False</td>\n",
       "      <td>520.0</td>\n",
       "      <td>3238.0</td>\n",
       "      <td>67350.0</td>\n",
       "      <td>2708.0</td>\n",
       "      <td>56330.0</td>\n",
       "    </tr>\n",
       "  </tbody>\n",
       "</table>\n",
       "</div>"
      ],
      "text/plain": [
       "   Year Occ_Cat_Code Occ_Sub_Cat_Code                            Occ_Title  \\\n",
       "0  2000           11             0000               Management Occupations   \n",
       "1  2000           11             1011                     Chief Executives   \n",
       "2  2000           11             1021      General And Operations Managers   \n",
       "3  2000           11             2011  Advertising And Promotions Managers   \n",
       "4  2000           11             2021                   Marketing Managers   \n",
       "\n",
       "   Is_Cat_Title  Emp_Count  Hr_Wage_Mean  An_Wage_Mean  Hr_Median  An_Median  \n",
       "0          True    15790.0        2950.0       61360.0     2668.0    55490.0  \n",
       "1         False     1100.0        4802.0       99870.0     4889.0   101680.0  \n",
       "2         False     5180.0        2761.0       57430.0     2392.0    49750.0  \n",
       "3         False      220.0        2020.0       42030.0     1903.0    39590.0  \n",
       "4         False      520.0        3238.0       67350.0     2708.0    56330.0  "
      ]
     },
     "execution_count": 29,
     "metadata": {},
     "output_type": "execute_result"
    }
   ],
   "source": [
    "# open the pickle and turn it into a dataframe\n",
    "rawJobs = pd.read_pickle(\"rawJobs.pkl\")\n",
    "metroJobs = rawJobs.copy()\n",
    "\n",
    "# Splitting Strings\n",
    "metroJobs['Occ_Cat_Code'], metroJobs['Occ_Sub_Cat_Code'] = metroJobs['occ_code'].str.split('-',1).str\n",
    "\n",
    "\n",
    "# Assigning New Values\n",
    "metroJobs.loc[metroJobs.group != 'major','group'] = 0\n",
    "metroJobs.loc[metroJobs.group == 'major','group'] = 1\n",
    "\n",
    "# Assigning New Column Names\n",
    "metroJobs = metroJobs.rename(columns ={'occ_titl': 'Occ_Title', 'group':'Is_Cat_Title',\n",
    "                                        'tot_emp': 'Emp_Count', 'h_mean':'Hr_Wage_Mean',\n",
    "                                        'a_mean':'An_Wage_Mean', 'h_median': 'Hr_Median',\n",
    "                                        'a_median':'An_Median','year':'Year'})\n",
    "\n",
    "# Assigning New Data Types\n",
    "float_list = ['Emp_Count','Hr_Wage_Mean','An_Wage_Mean','Hr_Median','An_Median']\n",
    "\n",
    "# Cleaning Column Strings for Data Typing\n",
    "metroJobs[float_list] = metroJobs[float_list].replace('\\W','',regex=True)\n",
    "\n",
    "# Assigning new Data Types\n",
    "#         need to use floats becuase int cannot handle missing\n",
    "metroJobs = metroJobs.astype({'Is_Cat_Title': 'bool', 'Year':'category',\n",
    "                               'Occ_Cat_Code':'category','Occ_Sub_Cat_Code': 'category'})\n",
    "\n",
    "metroJobs[float_list] = metroJobs[float_list].apply(pd.to_numeric, errors = 'coerce')\n",
    "\n",
    "\n",
    "# Dropped Columns\n",
    "metroJobs = metroJobs.drop(['prim_state','area','area_name','occ_code',\n",
    "                              'emp_prse','mean_prse','h_wpct10','h_wpct25',\n",
    "                             'h_wpct75','h_wpct90','a_wpct10','a_wpct25',\n",
    "                             'a_wpct75','a_wpct90'], axis = 1)\n",
    "\n",
    "# Assigning New Order to the Columns\n",
    "metroJobs = metroJobs[['Year','Occ_Cat_Code','Occ_Sub_Cat_Code','Occ_Title','Is_Cat_Title',\n",
    "                        'Emp_Count','Hr_Wage_Mean','An_Wage_Mean','Hr_Median','An_Median']]\n",
    "\n",
    "metroJobs['Occ_Title'] = metroJobs['Occ_Title'].str.title()\n",
    "\n",
    "metroJobs.to_pickle('metroJobs.pkl')\n",
    "metroJobs.head(5)"
   ]
  },
  {
   "cell_type": "markdown",
   "metadata": {},
   "source": [
    "# Clean jobs for empolyee count for job type using major job categories"
   ]
  },
  {
   "cell_type": "code",
   "execution_count": 32,
   "metadata": {},
   "outputs": [
    {
     "data": {
      "text/html": [
       "<div>\n",
       "<style scoped>\n",
       "    .dataframe tbody tr th:only-of-type {\n",
       "        vertical-align: middle;\n",
       "    }\n",
       "\n",
       "    .dataframe tbody tr th {\n",
       "        vertical-align: top;\n",
       "    }\n",
       "\n",
       "    .dataframe thead th {\n",
       "        text-align: right;\n",
       "    }\n",
       "</style>\n",
       "<table border=\"1\" class=\"dataframe\">\n",
       "  <thead>\n",
       "    <tr style=\"text-align: right;\">\n",
       "      <th></th>\n",
       "      <th>Year</th>\n",
       "      <th>Occ_Cat_Code</th>\n",
       "      <th>Occ_Sub_Cat_Code</th>\n",
       "      <th>Occ_Title</th>\n",
       "      <th>Is_Cat_Title</th>\n",
       "      <th>Emp_Count</th>\n",
       "      <th>Hr_Wage_Mean</th>\n",
       "      <th>An_Wage_Mean</th>\n",
       "      <th>Hr_Median</th>\n",
       "      <th>An_Median</th>\n",
       "    </tr>\n",
       "  </thead>\n",
       "  <tbody>\n",
       "    <tr>\n",
       "      <th>0</th>\n",
       "      <td>2000</td>\n",
       "      <td>11</td>\n",
       "      <td>0000</td>\n",
       "      <td>Management Occupations</td>\n",
       "      <td>True</td>\n",
       "      <td>15790.0</td>\n",
       "      <td>2950.0</td>\n",
       "      <td>61360.0</td>\n",
       "      <td>2668.0</td>\n",
       "      <td>55490.0</td>\n",
       "    </tr>\n",
       "    <tr>\n",
       "      <th>24</th>\n",
       "      <td>2000</td>\n",
       "      <td>13</td>\n",
       "      <td>0000</td>\n",
       "      <td>Business And Financial Operations Occupations</td>\n",
       "      <td>True</td>\n",
       "      <td>9560.0</td>\n",
       "      <td>2150.0</td>\n",
       "      <td>44710.0</td>\n",
       "      <td>1942.0</td>\n",
       "      <td>40390.0</td>\n",
       "    </tr>\n",
       "    <tr>\n",
       "      <th>45</th>\n",
       "      <td>2000</td>\n",
       "      <td>15</td>\n",
       "      <td>0000</td>\n",
       "      <td>Computer And Mathematical Occupations</td>\n",
       "      <td>True</td>\n",
       "      <td>6020.0</td>\n",
       "      <td>2577.0</td>\n",
       "      <td>53600.0</td>\n",
       "      <td>2377.0</td>\n",
       "      <td>49440.0</td>\n",
       "    </tr>\n",
       "    <tr>\n",
       "      <th>54</th>\n",
       "      <td>2000</td>\n",
       "      <td>17</td>\n",
       "      <td>0000</td>\n",
       "      <td>Architecture And Engineering Occupations</td>\n",
       "      <td>True</td>\n",
       "      <td>12860.0</td>\n",
       "      <td>2178.0</td>\n",
       "      <td>45300.0</td>\n",
       "      <td>2062.0</td>\n",
       "      <td>42900.0</td>\n",
       "    </tr>\n",
       "    <tr>\n",
       "      <th>73</th>\n",
       "      <td>2000</td>\n",
       "      <td>19</td>\n",
       "      <td>0000</td>\n",
       "      <td>Life, Physical, And Social Science Occupations</td>\n",
       "      <td>True</td>\n",
       "      <td>2650.0</td>\n",
       "      <td>1714.0</td>\n",
       "      <td>35650.0</td>\n",
       "      <td>1540.0</td>\n",
       "      <td>32040.0</td>\n",
       "    </tr>\n",
       "  </tbody>\n",
       "</table>\n",
       "</div>"
      ],
      "text/plain": [
       "    Year Occ_Cat_Code Occ_Sub_Cat_Code  \\\n",
       "0   2000           11             0000   \n",
       "24  2000           13             0000   \n",
       "45  2000           15             0000   \n",
       "54  2000           17             0000   \n",
       "73  2000           19             0000   \n",
       "\n",
       "                                         Occ_Title  Is_Cat_Title  Emp_Count  \\\n",
       "0                           Management Occupations          True    15790.0   \n",
       "24   Business And Financial Operations Occupations          True     9560.0   \n",
       "45           Computer And Mathematical Occupations          True     6020.0   \n",
       "54        Architecture And Engineering Occupations          True    12860.0   \n",
       "73  Life, Physical, And Social Science Occupations          True     2650.0   \n",
       "\n",
       "    Hr_Wage_Mean  An_Wage_Mean  Hr_Median  An_Median  \n",
       "0         2950.0       61360.0     2668.0    55490.0  \n",
       "24        2150.0       44710.0     1942.0    40390.0  \n",
       "45        2577.0       53600.0     2377.0    49440.0  \n",
       "54        2178.0       45300.0     2062.0    42900.0  \n",
       "73        1714.0       35650.0     1540.0    32040.0  "
      ]
     },
     "execution_count": 32,
     "metadata": {},
     "output_type": "execute_result"
    }
   ],
   "source": [
    "metroJobs = pd.read_pickle('metroJobs.pkl')\n",
    "\n",
    "# start filtering to make df with Occ_Title as cols and the value be Emp_Count for each year.\n",
    "\n",
    "# 0000 is the sub_cat # for the head of Cat\n",
    "jobsF = metroJobs[metroJobs['Occ_Sub_Cat_Code'] == '0000']\n",
    "jobsF = jobsF[jobsF['Occ_Title'] != 'All Occupations']\n",
    "jobsF = jobsF[jobsF['Occ_Title'] != 'Industry Total']\n",
    "\n",
    "jobsF['Occ_Title'] = jobsF['Occ_Title'].replace('Services','Service', regex = True)\n",
    "jobsF['Occ_Title'] = jobsF['Occ_Title'].replace('Practitioners','Practitioner', regex = True)\n",
    "jobsF['Occ_Title'] = jobsF['Occ_Title'].replace(' Mathematical Science Occupations',' Mathematical Occupations', regex = True)\n",
    "\n",
    "\n",
    "jobsClean = jobsF.copy()\n",
    "jobsClean.to_pickle('jobsClean.pkl')\n",
    "jobsClean.head()\n"
   ]
  },
  {
   "cell_type": "markdown",
   "metadata": {},
   "source": [
    "## Jobs by Industry, employee count"
   ]
  },
  {
   "cell_type": "code",
   "execution_count": 42,
   "metadata": {},
   "outputs": [
    {
     "ename": "TypeError",
     "evalue": "cannot do slice indexing on <class 'pandas.core.indexes.base.Index'> with these indexers [1] of <class 'int'>",
     "output_type": "error",
     "traceback": [
      "\u001b[1;31m---------------------------------------------------------------------------\u001b[0m",
      "\u001b[1;31mTypeError\u001b[0m                                 Traceback (most recent call last)",
      "\u001b[1;32m<ipython-input-42-8881258f57c5>\u001b[0m in \u001b[0;36m<module>\u001b[1;34m\u001b[0m\n\u001b[0;32m      6\u001b[0m \u001b[0mjobsP1\u001b[0m \u001b[1;33m=\u001b[0m \u001b[0mjobsP1\u001b[0m\u001b[1;33m.\u001b[0m\u001b[0mreset_index\u001b[0m\u001b[1;33m(\u001b[0m\u001b[1;33m)\u001b[0m\u001b[1;33m\u001b[0m\u001b[1;33m\u001b[0m\u001b[0m\n\u001b[0;32m      7\u001b[0m \u001b[1;33m\u001b[0m\u001b[0m\n\u001b[1;32m----> 8\u001b[1;33m \u001b[0mjobsP1\u001b[0m\u001b[1;33m[\u001b[0m\u001b[1;34m'Job_Count'\u001b[0m\u001b[1;33m]\u001b[0m \u001b[1;33m=\u001b[0m \u001b[0mjobsP1\u001b[0m\u001b[1;33m.\u001b[0m\u001b[0mloc\u001b[0m\u001b[1;33m[\u001b[0m\u001b[1;33m:\u001b[0m\u001b[1;33m,\u001b[0m\u001b[1;36m1\u001b[0m\u001b[1;33m:\u001b[0m\u001b[1;36m24\u001b[0m\u001b[1;33m]\u001b[0m\u001b[1;33m.\u001b[0m\u001b[0msum\u001b[0m\u001b[1;33m(\u001b[0m\u001b[1;33m)\u001b[0m\u001b[1;33m\u001b[0m\u001b[1;33m\u001b[0m\u001b[0m\n\u001b[0m\u001b[0;32m      9\u001b[0m \u001b[1;33m\u001b[0m\u001b[0m\n\u001b[0;32m     10\u001b[0m \u001b[0mjobsP1\u001b[0m\u001b[1;33m.\u001b[0m\u001b[0mto_pickle\u001b[0m\u001b[1;33m(\u001b[0m\u001b[1;34m'jobTypes.pkl'\u001b[0m\u001b[1;33m)\u001b[0m\u001b[1;33m\u001b[0m\u001b[1;33m\u001b[0m\u001b[0m\n",
      "\u001b[1;32m~\\AppData\\Local\\Continuum\\anaconda3\\envs\\tensorenviron\\lib\\site-packages\\pandas\\core\\indexing.py\u001b[0m in \u001b[0;36m__getitem__\u001b[1;34m(self, key)\u001b[0m\n\u001b[0;32m   1492\u001b[0m             \u001b[1;32mexcept\u001b[0m \u001b[1;33m(\u001b[0m\u001b[0mKeyError\u001b[0m\u001b[1;33m,\u001b[0m \u001b[0mIndexError\u001b[0m\u001b[1;33m,\u001b[0m \u001b[0mAttributeError\u001b[0m\u001b[1;33m)\u001b[0m\u001b[1;33m:\u001b[0m\u001b[1;33m\u001b[0m\u001b[1;33m\u001b[0m\u001b[0m\n\u001b[0;32m   1493\u001b[0m                 \u001b[1;32mpass\u001b[0m\u001b[1;33m\u001b[0m\u001b[1;33m\u001b[0m\u001b[0m\n\u001b[1;32m-> 1494\u001b[1;33m             \u001b[1;32mreturn\u001b[0m \u001b[0mself\u001b[0m\u001b[1;33m.\u001b[0m\u001b[0m_getitem_tuple\u001b[0m\u001b[1;33m(\u001b[0m\u001b[0mkey\u001b[0m\u001b[1;33m)\u001b[0m\u001b[1;33m\u001b[0m\u001b[1;33m\u001b[0m\u001b[0m\n\u001b[0m\u001b[0;32m   1495\u001b[0m         \u001b[1;32melse\u001b[0m\u001b[1;33m:\u001b[0m\u001b[1;33m\u001b[0m\u001b[1;33m\u001b[0m\u001b[0m\n\u001b[0;32m   1496\u001b[0m             \u001b[1;31m# we by definition only have the 0th axis\u001b[0m\u001b[1;33m\u001b[0m\u001b[1;33m\u001b[0m\u001b[1;33m\u001b[0m\u001b[0m\n",
      "\u001b[1;32m~\\AppData\\Local\\Continuum\\anaconda3\\envs\\tensorenviron\\lib\\site-packages\\pandas\\core\\indexing.py\u001b[0m in \u001b[0;36m_getitem_tuple\u001b[1;34m(self, tup)\u001b[0m\n\u001b[0;32m    886\u001b[0m                 \u001b[1;32mcontinue\u001b[0m\u001b[1;33m\u001b[0m\u001b[1;33m\u001b[0m\u001b[0m\n\u001b[0;32m    887\u001b[0m \u001b[1;33m\u001b[0m\u001b[0m\n\u001b[1;32m--> 888\u001b[1;33m             \u001b[0mretval\u001b[0m \u001b[1;33m=\u001b[0m \u001b[0mgetattr\u001b[0m\u001b[1;33m(\u001b[0m\u001b[0mretval\u001b[0m\u001b[1;33m,\u001b[0m \u001b[0mself\u001b[0m\u001b[1;33m.\u001b[0m\u001b[0mname\u001b[0m\u001b[1;33m)\u001b[0m\u001b[1;33m.\u001b[0m\u001b[0m_getitem_axis\u001b[0m\u001b[1;33m(\u001b[0m\u001b[0mkey\u001b[0m\u001b[1;33m,\u001b[0m \u001b[0maxis\u001b[0m\u001b[1;33m=\u001b[0m\u001b[0mi\u001b[0m\u001b[1;33m)\u001b[0m\u001b[1;33m\u001b[0m\u001b[1;33m\u001b[0m\u001b[0m\n\u001b[0m\u001b[0;32m    889\u001b[0m \u001b[1;33m\u001b[0m\u001b[0m\n\u001b[0;32m    890\u001b[0m         \u001b[1;32mreturn\u001b[0m \u001b[0mretval\u001b[0m\u001b[1;33m\u001b[0m\u001b[1;33m\u001b[0m\u001b[0m\n",
      "\u001b[1;32m~\\AppData\\Local\\Continuum\\anaconda3\\envs\\tensorenviron\\lib\\site-packages\\pandas\\core\\indexing.py\u001b[0m in \u001b[0;36m_getitem_axis\u001b[1;34m(self, key, axis)\u001b[0m\n\u001b[0;32m   1865\u001b[0m         \u001b[1;32mif\u001b[0m \u001b[0misinstance\u001b[0m\u001b[1;33m(\u001b[0m\u001b[0mkey\u001b[0m\u001b[1;33m,\u001b[0m \u001b[0mslice\u001b[0m\u001b[1;33m)\u001b[0m\u001b[1;33m:\u001b[0m\u001b[1;33m\u001b[0m\u001b[1;33m\u001b[0m\u001b[0m\n\u001b[0;32m   1866\u001b[0m             \u001b[0mself\u001b[0m\u001b[1;33m.\u001b[0m\u001b[0m_validate_key\u001b[0m\u001b[1;33m(\u001b[0m\u001b[0mkey\u001b[0m\u001b[1;33m,\u001b[0m \u001b[0maxis\u001b[0m\u001b[1;33m)\u001b[0m\u001b[1;33m\u001b[0m\u001b[1;33m\u001b[0m\u001b[0m\n\u001b[1;32m-> 1867\u001b[1;33m             \u001b[1;32mreturn\u001b[0m \u001b[0mself\u001b[0m\u001b[1;33m.\u001b[0m\u001b[0m_get_slice_axis\u001b[0m\u001b[1;33m(\u001b[0m\u001b[0mkey\u001b[0m\u001b[1;33m,\u001b[0m \u001b[0maxis\u001b[0m\u001b[1;33m=\u001b[0m\u001b[0maxis\u001b[0m\u001b[1;33m)\u001b[0m\u001b[1;33m\u001b[0m\u001b[1;33m\u001b[0m\u001b[0m\n\u001b[0m\u001b[0;32m   1868\u001b[0m         \u001b[1;32melif\u001b[0m \u001b[0mcom\u001b[0m\u001b[1;33m.\u001b[0m\u001b[0mis_bool_indexer\u001b[0m\u001b[1;33m(\u001b[0m\u001b[0mkey\u001b[0m\u001b[1;33m)\u001b[0m\u001b[1;33m:\u001b[0m\u001b[1;33m\u001b[0m\u001b[1;33m\u001b[0m\u001b[0m\n\u001b[0;32m   1869\u001b[0m             \u001b[1;32mreturn\u001b[0m \u001b[0mself\u001b[0m\u001b[1;33m.\u001b[0m\u001b[0m_getbool_axis\u001b[0m\u001b[1;33m(\u001b[0m\u001b[0mkey\u001b[0m\u001b[1;33m,\u001b[0m \u001b[0maxis\u001b[0m\u001b[1;33m=\u001b[0m\u001b[0maxis\u001b[0m\u001b[1;33m)\u001b[0m\u001b[1;33m\u001b[0m\u001b[1;33m\u001b[0m\u001b[0m\n",
      "\u001b[1;32m~\\AppData\\Local\\Continuum\\anaconda3\\envs\\tensorenviron\\lib\\site-packages\\pandas\\core\\indexing.py\u001b[0m in \u001b[0;36m_get_slice_axis\u001b[1;34m(self, slice_obj, axis)\u001b[0m\n\u001b[0;32m   1531\u001b[0m         \u001b[0mlabels\u001b[0m \u001b[1;33m=\u001b[0m \u001b[0mobj\u001b[0m\u001b[1;33m.\u001b[0m\u001b[0m_get_axis\u001b[0m\u001b[1;33m(\u001b[0m\u001b[0maxis\u001b[0m\u001b[1;33m)\u001b[0m\u001b[1;33m\u001b[0m\u001b[1;33m\u001b[0m\u001b[0m\n\u001b[0;32m   1532\u001b[0m         indexer = labels.slice_indexer(slice_obj.start, slice_obj.stop,\n\u001b[1;32m-> 1533\u001b[1;33m                                        slice_obj.step, kind=self.name)\n\u001b[0m\u001b[0;32m   1534\u001b[0m \u001b[1;33m\u001b[0m\u001b[0m\n\u001b[0;32m   1535\u001b[0m         \u001b[1;32mif\u001b[0m \u001b[0misinstance\u001b[0m\u001b[1;33m(\u001b[0m\u001b[0mindexer\u001b[0m\u001b[1;33m,\u001b[0m \u001b[0mslice\u001b[0m\u001b[1;33m)\u001b[0m\u001b[1;33m:\u001b[0m\u001b[1;33m\u001b[0m\u001b[1;33m\u001b[0m\u001b[0m\n",
      "\u001b[1;32m~\\AppData\\Local\\Continuum\\anaconda3\\envs\\tensorenviron\\lib\\site-packages\\pandas\\core\\indexes\\base.py\u001b[0m in \u001b[0;36mslice_indexer\u001b[1;34m(self, start, end, step, kind)\u001b[0m\n\u001b[0;32m   4671\u001b[0m         \"\"\"\n\u001b[0;32m   4672\u001b[0m         start_slice, end_slice = self.slice_locs(start, end, step=step,\n\u001b[1;32m-> 4673\u001b[1;33m                                                  kind=kind)\n\u001b[0m\u001b[0;32m   4674\u001b[0m \u001b[1;33m\u001b[0m\u001b[0m\n\u001b[0;32m   4675\u001b[0m         \u001b[1;31m# return a slice\u001b[0m\u001b[1;33m\u001b[0m\u001b[1;33m\u001b[0m\u001b[1;33m\u001b[0m\u001b[0m\n",
      "\u001b[1;32m~\\AppData\\Local\\Continuum\\anaconda3\\envs\\tensorenviron\\lib\\site-packages\\pandas\\core\\indexes\\base.py\u001b[0m in \u001b[0;36mslice_locs\u001b[1;34m(self, start, end, step, kind)\u001b[0m\n\u001b[0;32m   4870\u001b[0m         \u001b[0mstart_slice\u001b[0m \u001b[1;33m=\u001b[0m \u001b[1;32mNone\u001b[0m\u001b[1;33m\u001b[0m\u001b[1;33m\u001b[0m\u001b[0m\n\u001b[0;32m   4871\u001b[0m         \u001b[1;32mif\u001b[0m \u001b[0mstart\u001b[0m \u001b[1;32mis\u001b[0m \u001b[1;32mnot\u001b[0m \u001b[1;32mNone\u001b[0m\u001b[1;33m:\u001b[0m\u001b[1;33m\u001b[0m\u001b[1;33m\u001b[0m\u001b[0m\n\u001b[1;32m-> 4872\u001b[1;33m             \u001b[0mstart_slice\u001b[0m \u001b[1;33m=\u001b[0m \u001b[0mself\u001b[0m\u001b[1;33m.\u001b[0m\u001b[0mget_slice_bound\u001b[0m\u001b[1;33m(\u001b[0m\u001b[0mstart\u001b[0m\u001b[1;33m,\u001b[0m \u001b[1;34m'left'\u001b[0m\u001b[1;33m,\u001b[0m \u001b[0mkind\u001b[0m\u001b[1;33m)\u001b[0m\u001b[1;33m\u001b[0m\u001b[1;33m\u001b[0m\u001b[0m\n\u001b[0m\u001b[0;32m   4873\u001b[0m         \u001b[1;32mif\u001b[0m \u001b[0mstart_slice\u001b[0m \u001b[1;32mis\u001b[0m \u001b[1;32mNone\u001b[0m\u001b[1;33m:\u001b[0m\u001b[1;33m\u001b[0m\u001b[1;33m\u001b[0m\u001b[0m\n\u001b[0;32m   4874\u001b[0m             \u001b[0mstart_slice\u001b[0m \u001b[1;33m=\u001b[0m \u001b[1;36m0\u001b[0m\u001b[1;33m\u001b[0m\u001b[1;33m\u001b[0m\u001b[0m\n",
      "\u001b[1;32m~\\AppData\\Local\\Continuum\\anaconda3\\envs\\tensorenviron\\lib\\site-packages\\pandas\\core\\indexes\\base.py\u001b[0m in \u001b[0;36mget_slice_bound\u001b[1;34m(self, label, side, kind)\u001b[0m\n\u001b[0;32m   4796\u001b[0m         \u001b[1;31m# For datetime indices label may be a string that has to be converted\u001b[0m\u001b[1;33m\u001b[0m\u001b[1;33m\u001b[0m\u001b[1;33m\u001b[0m\u001b[0m\n\u001b[0;32m   4797\u001b[0m         \u001b[1;31m# to datetime boundary according to its resolution.\u001b[0m\u001b[1;33m\u001b[0m\u001b[1;33m\u001b[0m\u001b[1;33m\u001b[0m\u001b[0m\n\u001b[1;32m-> 4798\u001b[1;33m         \u001b[0mlabel\u001b[0m \u001b[1;33m=\u001b[0m \u001b[0mself\u001b[0m\u001b[1;33m.\u001b[0m\u001b[0m_maybe_cast_slice_bound\u001b[0m\u001b[1;33m(\u001b[0m\u001b[0mlabel\u001b[0m\u001b[1;33m,\u001b[0m \u001b[0mside\u001b[0m\u001b[1;33m,\u001b[0m \u001b[0mkind\u001b[0m\u001b[1;33m)\u001b[0m\u001b[1;33m\u001b[0m\u001b[1;33m\u001b[0m\u001b[0m\n\u001b[0m\u001b[0;32m   4799\u001b[0m \u001b[1;33m\u001b[0m\u001b[0m\n\u001b[0;32m   4800\u001b[0m         \u001b[1;31m# we need to look up the label\u001b[0m\u001b[1;33m\u001b[0m\u001b[1;33m\u001b[0m\u001b[1;33m\u001b[0m\u001b[0m\n",
      "\u001b[1;32m~\\AppData\\Local\\Continuum\\anaconda3\\envs\\tensorenviron\\lib\\site-packages\\pandas\\core\\indexes\\base.py\u001b[0m in \u001b[0;36m_maybe_cast_slice_bound\u001b[1;34m(self, label, side, kind)\u001b[0m\n\u001b[0;32m   4748\u001b[0m         \u001b[1;31m# this is rejected (generally .loc gets you here)\u001b[0m\u001b[1;33m\u001b[0m\u001b[1;33m\u001b[0m\u001b[1;33m\u001b[0m\u001b[0m\n\u001b[0;32m   4749\u001b[0m         \u001b[1;32melif\u001b[0m \u001b[0mis_integer\u001b[0m\u001b[1;33m(\u001b[0m\u001b[0mlabel\u001b[0m\u001b[1;33m)\u001b[0m\u001b[1;33m:\u001b[0m\u001b[1;33m\u001b[0m\u001b[1;33m\u001b[0m\u001b[0m\n\u001b[1;32m-> 4750\u001b[1;33m             \u001b[0mself\u001b[0m\u001b[1;33m.\u001b[0m\u001b[0m_invalid_indexer\u001b[0m\u001b[1;33m(\u001b[0m\u001b[1;34m'slice'\u001b[0m\u001b[1;33m,\u001b[0m \u001b[0mlabel\u001b[0m\u001b[1;33m)\u001b[0m\u001b[1;33m\u001b[0m\u001b[1;33m\u001b[0m\u001b[0m\n\u001b[0m\u001b[0;32m   4751\u001b[0m \u001b[1;33m\u001b[0m\u001b[0m\n\u001b[0;32m   4752\u001b[0m         \u001b[1;32mreturn\u001b[0m \u001b[0mlabel\u001b[0m\u001b[1;33m\u001b[0m\u001b[1;33m\u001b[0m\u001b[0m\n",
      "\u001b[1;32m~\\AppData\\Local\\Continuum\\anaconda3\\envs\\tensorenviron\\lib\\site-packages\\pandas\\core\\indexes\\base.py\u001b[0m in \u001b[0;36m_invalid_indexer\u001b[1;34m(self, form, key)\u001b[0m\n\u001b[0;32m   3065\u001b[0m                         \"indexers [{key}] of {kind}\".format(\n\u001b[0;32m   3066\u001b[0m                             \u001b[0mform\u001b[0m\u001b[1;33m=\u001b[0m\u001b[0mform\u001b[0m\u001b[1;33m,\u001b[0m \u001b[0mklass\u001b[0m\u001b[1;33m=\u001b[0m\u001b[0mtype\u001b[0m\u001b[1;33m(\u001b[0m\u001b[0mself\u001b[0m\u001b[1;33m)\u001b[0m\u001b[1;33m,\u001b[0m \u001b[0mkey\u001b[0m\u001b[1;33m=\u001b[0m\u001b[0mkey\u001b[0m\u001b[1;33m,\u001b[0m\u001b[1;33m\u001b[0m\u001b[1;33m\u001b[0m\u001b[0m\n\u001b[1;32m-> 3067\u001b[1;33m                             kind=type(key)))\n\u001b[0m\u001b[0;32m   3068\u001b[0m \u001b[1;33m\u001b[0m\u001b[0m\n\u001b[0;32m   3069\u001b[0m     \u001b[1;31m# --------------------------------------------------------------------\u001b[0m\u001b[1;33m\u001b[0m\u001b[1;33m\u001b[0m\u001b[1;33m\u001b[0m\u001b[0m\n",
      "\u001b[1;31mTypeError\u001b[0m: cannot do slice indexing on <class 'pandas.core.indexes.base.Index'> with these indexers [1] of <class 'int'>"
     ]
    }
   ],
   "source": [
    "jobsF1 = pd.read_pickle('jobsClean.pkl')\n",
    "jobsF1 = jobsF.drop(['Occ_Cat_Code', 'Occ_Sub_Cat_Code', 'Is_Cat_Title'], axis =1)\n",
    "jobsF1 = jobsF1.iloc[:,0:3]\n",
    "\n",
    "jobsP1 = pd.pivot(jobsF1, values = 'Emp_Count', index = 'Year', columns = 'Occ_Title')\n",
    "jobsP1 = jobsP1.reset_index()\n",
    "\n",
    "jobsP1['Job_Count'] = jobsP1.loc[:,1:24].sum()\n",
    "\n",
    "jobsP1.to_pickle('jobTypes.pkl')\n",
    "jobsP1.head(5)"
   ]
  },
  {
   "cell_type": "code",
   "execution_count": 41,
   "metadata": {},
   "outputs": [
    {
     "data": {
      "text/plain": [
       "(19, 23)"
      ]
     },
     "execution_count": 41,
     "metadata": {},
     "output_type": "execute_result"
    }
   ],
   "source": [
    "jobsP1.shape"
   ]
  },
  {
   "cell_type": "markdown",
   "metadata": {},
   "source": [
    "## Clean jobs for empolyee count for Salery Range not using major job categories"
   ]
  },
  {
   "cell_type": "code",
   "execution_count": 33,
   "metadata": {},
   "outputs": [
    {
     "data": {
      "text/html": [
       "<div>\n",
       "<style scoped>\n",
       "    .dataframe tbody tr th:only-of-type {\n",
       "        vertical-align: middle;\n",
       "    }\n",
       "\n",
       "    .dataframe tbody tr th {\n",
       "        vertical-align: top;\n",
       "    }\n",
       "\n",
       "    .dataframe thead th {\n",
       "        text-align: right;\n",
       "    }\n",
       "</style>\n",
       "<table border=\"1\" class=\"dataframe\">\n",
       "  <thead>\n",
       "    <tr style=\"text-align: right;\">\n",
       "      <th></th>\n",
       "      <th>Year</th>\n",
       "      <th>Emp_Count</th>\n",
       "      <th>An_Wage_Mean</th>\n",
       "    </tr>\n",
       "  </thead>\n",
       "  <tbody>\n",
       "    <tr>\n",
       "      <th>1</th>\n",
       "      <td>2000</td>\n",
       "      <td>1100.0</td>\n",
       "      <td>99870.0</td>\n",
       "    </tr>\n",
       "    <tr>\n",
       "      <th>2</th>\n",
       "      <td>2000</td>\n",
       "      <td>5180.0</td>\n",
       "      <td>57430.0</td>\n",
       "    </tr>\n",
       "    <tr>\n",
       "      <th>3</th>\n",
       "      <td>2000</td>\n",
       "      <td>220.0</td>\n",
       "      <td>42030.0</td>\n",
       "    </tr>\n",
       "    <tr>\n",
       "      <th>4</th>\n",
       "      <td>2000</td>\n",
       "      <td>520.0</td>\n",
       "      <td>67350.0</td>\n",
       "    </tr>\n",
       "    <tr>\n",
       "      <th>5</th>\n",
       "      <td>2000</td>\n",
       "      <td>730.0</td>\n",
       "      <td>62550.0</td>\n",
       "    </tr>\n",
       "  </tbody>\n",
       "</table>\n",
       "</div>"
      ],
      "text/plain": [
       "   Year  Emp_Count  An_Wage_Mean\n",
       "1  2000     1100.0       99870.0\n",
       "2  2000     5180.0       57430.0\n",
       "3  2000      220.0       42030.0\n",
       "4  2000      520.0       67350.0\n",
       "5  2000      730.0       62550.0"
      ]
     },
     "execution_count": 33,
     "metadata": {},
     "output_type": "execute_result"
    }
   ],
   "source": [
    "metroJobs = pd.read_pickle('metroJobs.pkl')\n",
    "\n",
    "jobsF = metroJobs[metroJobs['Occ_Sub_Cat_Code'] != '0000']\n",
    "jobsF = jobsF[jobsF['Occ_Title'] != 'All Occupations']\n",
    "jobsF = jobsF[jobsF['Occ_Title'] != 'Industry Total']\n",
    "\n",
    "jobsF2 = jobsF[['Year', 'Emp_Count' ,'An_Wage_Mean']]\n",
    "jobsF2 = jobsF2[np.isfinite(jobsF2['An_Wage_Mean'])]\n",
    "jobsF2['Emp_Count'] = jobsF2['Emp_Count'].fillna(0)\n",
    "\n",
    "jobsF2.head()"
   ]
  },
  {
   "cell_type": "markdown",
   "metadata": {},
   "source": [
    "## Jobs by Salery Range, empolyee count"
   ]
  },
  {
   "cell_type": "code",
   "execution_count": 39,
   "metadata": {},
   "outputs": [
    {
     "data": {
      "text/html": [
       "<div>\n",
       "<style scoped>\n",
       "    .dataframe tbody tr th:only-of-type {\n",
       "        vertical-align: middle;\n",
       "    }\n",
       "\n",
       "    .dataframe tbody tr th {\n",
       "        vertical-align: top;\n",
       "    }\n",
       "\n",
       "    .dataframe thead th {\n",
       "        text-align: right;\n",
       "    }\n",
       "</style>\n",
       "<table border=\"1\" class=\"dataframe\">\n",
       "  <thead>\n",
       "    <tr style=\"text-align: right;\">\n",
       "      <th>An_Wage_Mean</th>\n",
       "      <th>Year</th>\n",
       "      <th>(10000, 40000]</th>\n",
       "      <th>(100000, 150000]</th>\n",
       "      <th>(150000, 200000]</th>\n",
       "      <th>(200000, 300000]</th>\n",
       "      <th>(40000, 70000]</th>\n",
       "      <th>(70000, 100000]</th>\n",
       "    </tr>\n",
       "  </thead>\n",
       "  <tbody>\n",
       "    <tr>\n",
       "      <th>0</th>\n",
       "      <td>2000</td>\n",
       "      <td>150080.0</td>\n",
       "      <td>0.0</td>\n",
       "      <td>0.0</td>\n",
       "      <td>0.0</td>\n",
       "      <td>34980.0</td>\n",
       "      <td>3710.0</td>\n",
       "    </tr>\n",
       "    <tr>\n",
       "      <th>1</th>\n",
       "      <td>2001</td>\n",
       "      <td>135860.0</td>\n",
       "      <td>0.0</td>\n",
       "      <td>0.0</td>\n",
       "      <td>0.0</td>\n",
       "      <td>45570.0</td>\n",
       "      <td>4520.0</td>\n",
       "    </tr>\n",
       "    <tr>\n",
       "      <th>2</th>\n",
       "      <td>2002</td>\n",
       "      <td>129450.0</td>\n",
       "      <td>1100.0</td>\n",
       "      <td>0.0</td>\n",
       "      <td>0.0</td>\n",
       "      <td>40330.0</td>\n",
       "      <td>5850.0</td>\n",
       "    </tr>\n",
       "    <tr>\n",
       "      <th>3</th>\n",
       "      <td>2003</td>\n",
       "      <td>132290.0</td>\n",
       "      <td>1160.0</td>\n",
       "      <td>0.0</td>\n",
       "      <td>0.0</td>\n",
       "      <td>40650.0</td>\n",
       "      <td>4960.0</td>\n",
       "    </tr>\n",
       "    <tr>\n",
       "      <th>4</th>\n",
       "      <td>2004</td>\n",
       "      <td>143120.0</td>\n",
       "      <td>2030.0</td>\n",
       "      <td>0.0</td>\n",
       "      <td>0.0</td>\n",
       "      <td>44460.0</td>\n",
       "      <td>5710.0</td>\n",
       "    </tr>\n",
       "  </tbody>\n",
       "</table>\n",
       "</div>"
      ],
      "text/plain": [
       "An_Wage_Mean  Year  (10000, 40000]  (100000, 150000]  (150000, 200000]  \\\n",
       "0             2000        150080.0               0.0               0.0   \n",
       "1             2001        135860.0               0.0               0.0   \n",
       "2             2002        129450.0            1100.0               0.0   \n",
       "3             2003        132290.0            1160.0               0.0   \n",
       "4             2004        143120.0            2030.0               0.0   \n",
       "\n",
       "An_Wage_Mean  (200000, 300000]  (40000, 70000]  (70000, 100000]  \n",
       "0                          0.0         34980.0           3710.0  \n",
       "1                          0.0         45570.0           4520.0  \n",
       "2                          0.0         40330.0           5850.0  \n",
       "3                          0.0         40650.0           4960.0  \n",
       "4                          0.0         44460.0           5710.0  "
      ]
     },
     "execution_count": 39,
     "metadata": {},
     "output_type": "execute_result"
    }
   ],
   "source": [
    "df = jobsF2.copy()\n",
    "\n",
    "\n",
    "jobsSalery = df.groupby([df.Year,pd.cut(df.An_Wage_Mean,[10000,40000,70000,100000,150000,200000,300000]).astype(str)])[['Emp_Count']].sum().reset_index()\n",
    "\n",
    "jobsSalery = pd.pivot(jobsSalery, values = 'Emp_Count', index = 'Year', columns = 'An_Wage_Mean')\n",
    "jobsSalery = jobsSalery.reset_index()\n",
    "jobsSalery = jobsSalery.replace(np.nan,0)\n",
    "\n",
    "jobsSalery.to_pickle('jobSalery.pkl')\n",
    "jobsSalery.head()"
   ]
  },
  {
   "cell_type": "markdown",
   "metadata": {
    "colab_type": "text",
    "id": "s8WrEIXI9cZA"
   },
   "source": [
    "# Raw Population to dataframe"
   ]
  },
  {
   "cell_type": "code",
   "execution_count": null,
   "metadata": {
    "colab": {},
    "colab_type": "code",
    "id": "75LO9yqO_LsI"
   },
   "outputs": [],
   "source": [
    "# xl3 = pd.ExcelFile(\"/content/drive/My Drive/Colab Notebooks/idaho_county_population_2000_to_2010.xlsx\")\n",
    "# xl4 = pd.ExcelFile(\"/content/drive/My Drive/Colab Notebooks/idaho_county_population_2010_to_2018.xlsx\")\n",
    " xl3 = pd.ExcelFile(\"idaho_county_population_2000_to_2010.xlsx\")\n",
    " xl4 = pd.ExcelFile(\"idaho_county_population_2010_to_2018.xlsx\")"
   ]
  },
  {
   "cell_type": "code",
   "execution_count": null,
   "metadata": {
    "colab": {},
    "colab_type": "code",
    "id": "nJgv8BD1_Ki_"
   },
   "outputs": [],
   "source": [
    "dfpop1 = xl3.parse(\"main\")\n",
    "dfpop1.to_pickle('rawPop1.pkl')\n",
    "dfpop2 = xl4.parse(\"main\")\n",
    "dfpop2.to_pickle('rawPop2.pkl')"
   ]
  },
  {
   "cell_type": "code",
   "execution_count": null,
   "metadata": {},
   "outputs": [],
   "source": [
    "#dfpop1.head()"
   ]
  },
  {
   "cell_type": "markdown",
   "metadata": {
    "colab_type": "text",
    "id": "yUv3uNSEAkCJ"
   },
   "source": [
    "### This code to clean and prep population 00-10 from pickle"
   ]
  },
  {
   "cell_type": "code",
   "execution_count": null,
   "metadata": {
    "colab": {
     "base_uri": "https://localhost:8080/",
     "height": 195
    },
    "colab_type": "code",
    "id": "9d9F7b7XCVEm",
    "outputId": "ca971a40-47c9-463f-a53d-34cb224fc522"
   },
   "outputs": [],
   "source": [
    "rawPop1 = pd.read_pickle('rawPop1.pkl')\n",
    "temp1 = rawPop1.copy()\n",
    "temp1 = temp1.iloc[2:48]\n",
    "temp1 = temp1.replace(['County','\\.','\\s'],'', regex = True)\n",
    "cTemp = temp1['table with row headers in column A and column headers in rows 3 through 4 (leading dots indicate sub-parts)']\n",
    "temp1 = temp1.drop(['table with row headers in column A and column headers in rows 3 through 4 (leading dots indicate sub-parts)',\n",
    "                    'Unnamed: 1','Unnamed: 12','Unnamed: 13'], axis = 1)\n",
    "temp1 = temp1.astype(int)\n",
    "temp1.columns = temp1.iloc[0]\n",
    "temp1 = temp1.iloc[2:]\n",
    "temp1['County'] = cTemp\n",
    "pop1 = temp1.copy()\n",
    "pop1.head(5)\n"
   ]
  },
  {
   "cell_type": "markdown",
   "metadata": {},
   "source": [
    "### This code to clean and prep population 10-18 from pickle"
   ]
  },
  {
   "cell_type": "code",
   "execution_count": null,
   "metadata": {
    "colab": {
     "base_uri": "https://localhost:8080/",
     "height": 195
    },
    "colab_type": "code",
    "id": "qLJb1fwlAbd8",
    "outputId": "8698fab0-3c36-473a-9685-0067d58c95c7"
   },
   "outputs": [],
   "source": [
    "rawPop2 = pd.read_pickle('rawPop2.pkl')\n",
    "temp2 = rawPop2.copy()\n",
    "temp2 = temp2.replace(['Population Estimate \\(as of July 1\\) \\- ','County, Idaho'],'', regex = True)\n",
    "temp2.columns = temp2.iloc[0]\n",
    "#temp2 = temp_df.iloc[2:]\n",
    "cT2 = temp2['Geography']\n",
    "temp2 = temp2.drop(['Id','Id2','Geography','April 1, 2010 - Census',\n",
    "                     'April 1, 2010 - Estimates Base'], axis = 1)\n",
    "temp2 = temp2.astype(int)\n",
    "temp2['County'] = cT2\n",
    "temp2 = temp2.iloc[1:]\n",
    "temp2 = temp2.replace('\\s','', regex = True)\n",
    "\n",
    "pop2 = temp2.copy()\n",
    "pop2.head(5)"
   ]
  },
  {
   "cell_type": "markdown",
   "metadata": {},
   "source": [
    "### Merge the cleaned data frames for the 00-09 pop and 10-18 pop and pickle the result (totalPop)"
   ]
  },
  {
   "cell_type": "code",
   "execution_count": null,
   "metadata": {
    "colab": {
     "base_uri": "https://localhost:8080/",
     "height": 266
    },
    "colab_type": "code",
    "id": "HDRUezd4A3gB",
    "outputId": "90af4e71-7e8a-41d4-a0ed-3d2e28340c84"
   },
   "outputs": [],
   "source": [
    "totalPop = pd.merge(pop2,pop1, on = 'County')\n",
    "\n",
    "# Reorder columns, not all column titles are str some are int, going to \n",
    "# transpose df so will turn them all into factors then\n",
    "totalPop = totalPop[[\"County\",2000,2001,2002,2003,2004,2005,2006,2007,\n",
    "                    2008,2009,\"2010\",\"2011\",\"2012\",\"2013\",\"2014\",\"2015\",\n",
    "                    \"2016\",\"2017\",\"2018\"]]\n",
    "\n",
    "\n",
    "totalPop.to_pickle('totalPop.pkl')\n",
    "totalPop.head(5)"
   ]
  },
  {
   "cell_type": "code",
   "execution_count": null,
   "metadata": {},
   "outputs": [],
   "source": [
    "totalPop = pd.read_pickle('totalPop.pkl')\n",
    "#totalPop"
   ]
  },
  {
   "cell_type": "markdown",
   "metadata": {},
   "source": [
    "### From totalPop.pkl to metroPop, then pickle"
   ]
  },
  {
   "cell_type": "code",
   "execution_count": null,
   "metadata": {},
   "outputs": [],
   "source": [
    "totalPop = pd.read_pickle('totalPop.pkl')\n",
    "totalPop = totalPop.iloc[[0,7,13,22,36],:]\n",
    "\n",
    "temp3 = totalPop.copy()\n",
    "temp3 = temp3.T\n",
    "temp3.columns = temp3.iloc[0]\n",
    "temp3 = temp3.iloc[1:]\n",
    "temp3 = temp3.reset_index()\n",
    "temp3 = temp3.rename(columns={'index':'Year'})\n",
    "\n",
    "# Add the columns together for a total population\n",
    "temp3['TotalPop'] = temp3['Ada']+temp3['Boise']+temp3['Canyon']+temp3['Gem']+temp3['Owyhee']\n",
    "metroPop = temp3.copy()\n",
    "pop_year_totals = metroPop.drop(columns=['Ada','Boise','Canyon','Gem','Owyhee'])\n",
    "\n",
    "metroPop = metroPop.astype('int')\n",
    "metroPop = metroPop.astype({'Year': 'category'})\n",
    "\n",
    "metroPop.to_pickle('metroPop.pkl')\n",
    "metroPop.head(5)"
   ]
  },
  {
   "cell_type": "code",
   "execution_count": null,
   "metadata": {},
   "outputs": [],
   "source": [
    "metroPop = pd.read_pickle('metroPop.pkl')\n",
    "metroPop.dtypes"
   ]
  },
  {
   "cell_type": "markdown",
   "metadata": {},
   "source": [
    "## Load House excel files and pickle"
   ]
  },
  {
   "cell_type": "code",
   "execution_count": null,
   "metadata": {},
   "outputs": [],
   "source": [
    " xl5 = pd.ExcelFile(\"idaho_housing_unit_count_2000_to_2010.xlsx\")\n",
    " xl6 = pd.ExcelFile(\"idaho_housing_unit_count_2010_to_2018.xlsx\")"
   ]
  },
  {
   "cell_type": "code",
   "execution_count": null,
   "metadata": {},
   "outputs": [],
   "source": [
    "dfH1 = xl5.parse(\"main\")\n",
    "dfH1.to_pickle('rawHouse1.pkl') \n",
    "dfH2 = xl6.parse(\"main\")\n",
    "dfH2.to_pickle('rawHouse2.pkl')\n",
    "#dfH1.head(5)"
   ]
  },
  {
   "cell_type": "markdown",
   "metadata": {},
   "source": [
    "### From rawHouse1.pkl clean"
   ]
  },
  {
   "cell_type": "code",
   "execution_count": null,
   "metadata": {},
   "outputs": [],
   "source": [
    "temp5 = pd.read_pickle('rawHouse1.pkl')\n",
    "temp5 = temp5.iloc[2:48]\n",
    "# temp1 = temp1.replace(['County','\\.','\\s'],'', regex = True)\n",
    "cTemp5 = temp5['table with row headers in column A and column headers in rows 3 through 4. (leading dots indicate sub-parts)']\n",
    "temp5 = temp5.drop(['table with row headers in column A and column headers in rows 3 through 4. (leading dots indicate sub-parts)',\n",
    "                    'Unnamed: 1','Unnamed: 12','Unnamed: 13'], axis = 1)\n",
    "temp5 = temp5.astype(int)\n",
    "temp5.columns = temp5.iloc[0]\n",
    "temp5 = temp5.iloc[2:]\n",
    "temp5['County'] = cTemp\n",
    "\n",
    "house1 = temp5.copy()\n",
    "house1.head(5)"
   ]
  },
  {
   "cell_type": "markdown",
   "metadata": {},
   "source": [
    "### From rawHouse2.pkl clean"
   ]
  },
  {
   "cell_type": "code",
   "execution_count": null,
   "metadata": {},
   "outputs": [],
   "source": [
    "temp6 = pd.read_pickle('rawHouse2.pkl')\n",
    "temp6 = temp6.replace(['Housing Unit Estimate \\(as of July 1\\) \\- ','County, Idaho'],'', regex = True)\n",
    "temp6.columns = temp6.iloc[0]\n",
    "\n",
    "cT6 = temp6['Geography']\n",
    "temp6 = temp6.drop(['Id','Id2','Geography','April 1, 2010 - Census',\n",
    "                     'April 1, 2010 - Estimates Base'], axis = 1)\n",
    "temp6 = temp6.astype(int)\n",
    "temp6['County'] = cT6\n",
    "temp6 = temp6.iloc[1:]\n",
    "temp6 = temp6.replace('\\s','', regex = True)\n",
    "\n",
    "house2 = temp6.copy()\n",
    "house2.head(5)"
   ]
  },
  {
   "cell_type": "markdown",
   "metadata": {},
   "source": [
    "### Combine cleaned dataframes to merge into totalHouse and pickle"
   ]
  },
  {
   "cell_type": "code",
   "execution_count": null,
   "metadata": {},
   "outputs": [],
   "source": [
    "totalHouse = pd.merge(house2,house1, on = 'County')\n",
    "\n",
    "# Reorder columns, not all column titles are str some are int, going to \n",
    "# transpose df so will turn them all into factors then\n",
    "totalHouse = totalHouse[[\"County\",2000,2001,2002,2003,2004,2005,2006,2007,\n",
    "                    2008,2009,\"2010\",\"2011\",\"2012\",\"2013\",\"2014\",\"2015\",\n",
    "                    \"2016\",\"2017\",\"2018\"]]\n",
    "\n",
    "totalHouse.to_pickle('totalHouse.pkl')\n",
    "totalHouse.head(5)"
   ]
  },
  {
   "cell_type": "code",
   "execution_count": null,
   "metadata": {},
   "outputs": [],
   "source": [
    "totalHouse = pd.read_pickle('totalHouse.pkl')\n",
    "#totalHouse"
   ]
  },
  {
   "cell_type": "markdown",
   "metadata": {},
   "source": [
    "### From totalHouse.pkl make metroHouse and pickle it"
   ]
  },
  {
   "cell_type": "code",
   "execution_count": null,
   "metadata": {},
   "outputs": [],
   "source": [
    "metroHouseT = totalHouse.copy()\n",
    "metroHouseT = metroHouseT.iloc[[0,7,13,22,36],:]\n",
    "\n",
    "tempH = metroHouseT.copy()\n",
    "tempH = tempH.T\n",
    "tempH.columns = tempH.iloc[0]\n",
    "tempH = tempH.iloc[1:]\n",
    "tempH = tempH.reset_index()\n",
    "tempH = tempH.rename(columns={'index':'Year'})\n",
    "\n",
    "# Add columns together for a total house count\n",
    "tempH['TotalHouse'] = tempH['Ada']+tempH['Boise']+tempH['Canyon']+tempH['Gem']+tempH['Owyhee']\n",
    "\n",
    "metroHouse = tempH.copy()\n",
    "metroHouse = metroHouse.astype('int')\n",
    "metroHouse = metroHouse.astype({'Year': 'category'})\n",
    "\n",
    "\n",
    "metroHouse.to_pickle('metroHouse.pkl')\n",
    "metroHouse"
   ]
  },
  {
   "cell_type": "code",
   "execution_count": null,
   "metadata": {},
   "outputs": [],
   "source": [
    "metroHouse = pd.read_pickle('metroHouse.pkl')\n",
    "metroHouse.dtypes"
   ]
  },
  {
   "cell_type": "markdown",
   "metadata": {},
   "source": [
    "## Create yearTotals from metroHouse.pkl and metroPop.pkl"
   ]
  },
  {
   "cell_type": "code",
   "execution_count": null,
   "metadata": {},
   "outputs": [],
   "source": [
    "metroHouse = pd.read_pickle('metroHouse.pkl')\n",
    "metroPop = pd.read_pickle('metroPop.pkl')\n",
    "yearTotals = metroHouse.copy()\n",
    "yearTotals = yearTotals.drop(['Ada','Boise','Gem','Canyon','Owyhee'],axis =1)\n",
    "yearTotals['TotalPop'] = metroPop['TotalPop']\n",
    "yearTotals.to_pickle('yearTotals.pkl')\n",
    "yearTotals"
   ]
  }
 ],
 "metadata": {
  "colab": {
   "name": "Raw_Data_Prep.ipynb",
   "provenance": [],
   "toc_visible": true,
   "version": "0.3.2"
  },
  "kernelspec": {
   "display_name": "Python 3",
   "language": "python",
   "name": "python3"
  },
  "language_info": {
   "codemirror_mode": {
    "name": "ipython",
    "version": 3
   },
   "file_extension": ".py",
   "mimetype": "text/x-python",
   "name": "python",
   "nbconvert_exporter": "python",
   "pygments_lexer": "ipython3",
   "version": "3.7.3"
  }
 },
 "nbformat": 4,
 "nbformat_minor": 1
}
