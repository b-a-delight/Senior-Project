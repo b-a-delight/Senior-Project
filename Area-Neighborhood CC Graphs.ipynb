{
 "cells": [
  {
   "cell_type": "code",
   "execution_count": 1,
   "metadata": {},
   "outputs": [],
   "source": [
    "import pandas as pd\n",
    "import numpy as np\n",
    "import plotly.express as px\n",
    "from plotly.subplots import make_subplots\n",
    "import plotly.graph_objects as go\n",
    "import xlrd\n",
    "import os\n",
    "import psutil\n",
    "import sys\n",
    "np.set_printoptions(threshold=np.inf)"
   ]
  },
  {
   "cell_type": "code",
   "execution_count": null,
   "metadata": {},
   "outputs": [],
   "source": [
    "#'W BOISE' : 'NORTH CENTRAL BENCH', 'WEST BOISE', 'WEST BOISE FREEWAY CORRIDOR'\n",
    "\n",
    "#'BOISE BENCH' : 'CENTRAL BOISE BENCH', 'NORTH CENTRAL BENCH',  'BOISE BENCH FREEWAY CORRIDOR', \n",
    "#                'PARK & UNIVERSITY WATERFRONT'\n",
    "\n",
    "#'W BOISE-MERIDIAN' : 'WEST BOISE', 'NORTHEAST MERIDIAN', 'WEST BOISE FREEWAY CORRIDOR', 'NORTH CENTRAL BENCH',\n",
    "#                      'GARDEN CITY CHINDEN CORRIDOR', 'MERIDIAN FREEWAY CORRIDOR'\n",
    "\n",
    "#'NORTH BOISE' : 'OLD NORTH BOISE', 'BOISE FOOTHILLS', 'NEW NORTH BOISE','DOWNTOWN BOISE', 'WARM SPRINGS',\n",
    "#                'PARK & UNIVERSITY WATERFRONT'\n",
    "\n",
    "#'SE BOISE' : 'NEW SOUTHEAST BOISE', 'SOUTHEAST BOISE INFILL','EAST BOISE WATERFRONT', 'OREGON TRAIL', \n",
    "#              'PARK & UNIVERSITY WATERFRONT', 'SOUTH BOISE DESERT'\n",
    "\n",
    "#'NW BOISE-GARDEN CITY' : 'NEW NORTH BOISE', 'NORTHWEST BOISE', 'GARDEN CITY WATERFRONT', 'BOISE FOOTHILLS',\n",
    "#                         'GARDEN CITY CHINDEN CORRIDOR']\n",
    "\n",
    "#'NE BOISE' : 'BOISE FOOTHILLS', 'WARM SPRINGS', 'EAST BOISE WATERFRONT', 'BARBER & HARRIS RANCH'\n",
    "\n",
    "#'SW BOISE' : 'WEST BOISE FREEWAY CORRIDOR', 'AIRPORT', 'BOISE BENCH FREEWAY CORRIDOR', 'SOUTH BOISE DESERT',\n",
    "#              'SOUTHWEST BOISE'\n",
    "\n",
    "#'SW BOISE-MERIDIAN': 'WEST BOISE FREEWAY CORRIDOR', 'MERIDIAN FREEWAY CORRIDOR', 'SOUTH MERIDIAN', 'SOUTHWEST BOISE'\n",
    "\n",
    "df = pd.read_pickle('testing.pkl')\n",
    "#df.info()\n",
    "df = df[df['Area'] == \"NW BOISE-GARDEN CITY\"]\n",
    "df.Neighborhood.unique()\n",
    "#df.Area.unique()\n",
    "#df.head(5)"
   ]
  },
  {
   "cell_type": "markdown",
   "metadata": {},
   "source": [
    "# Area Correlation Coefficient Comparison"
   ]
  },
  {
   "cell_type": "code",
   "execution_count": 72,
   "metadata": {},
   "outputs": [
    {
     "data": {
      "text/html": [
       "<div>\n",
       "<style scoped>\n",
       "    .dataframe tbody tr th:only-of-type {\n",
       "        vertical-align: middle;\n",
       "    }\n",
       "\n",
       "    .dataframe tbody tr th {\n",
       "        vertical-align: top;\n",
       "    }\n",
       "\n",
       "    .dataframe thead th {\n",
       "        text-align: right;\n",
       "    }\n",
       "</style>\n",
       "<table border=\"1\" class=\"dataframe\">\n",
       "  <thead>\n",
       "    <tr style=\"text-align: right;\">\n",
       "      <th></th>\n",
       "      <th>Feature_Name</th>\n",
       "      <th>NW_Boise_GC</th>\n",
       "      <th>B_Bench</th>\n",
       "      <th>SE_Boise</th>\n",
       "      <th>N_Boise</th>\n",
       "      <th>NE_Boise</th>\n",
       "      <th>W_Boise</th>\n",
       "      <th>SW_Boise_M</th>\n",
       "      <th>W_Boise_M</th>\n",
       "      <th>SW_Boise</th>\n",
       "      <th>index</th>\n",
       "      <th>ref_line</th>\n",
       "    </tr>\n",
       "  </thead>\n",
       "  <tbody>\n",
       "    <tr>\n",
       "      <th>1</th>\n",
       "      <td>Arts, Design, Entertainment, Sports, And Media...</td>\n",
       "      <td>0.205122</td>\n",
       "      <td>0.322296</td>\n",
       "      <td>0.151652</td>\n",
       "      <td>0.145686</td>\n",
       "      <td>NaN</td>\n",
       "      <td>0.295192</td>\n",
       "      <td>0.150496</td>\n",
       "      <td>0.172005</td>\n",
       "      <td>0.220358</td>\n",
       "      <td>01</td>\n",
       "      <td>0.3</td>\n",
       "    </tr>\n",
       "    <tr>\n",
       "      <th>2</th>\n",
       "      <td>Building And Grounds Cleaning And Maintenance ...</td>\n",
       "      <td>0.202024</td>\n",
       "      <td>0.297780</td>\n",
       "      <td>0.173484</td>\n",
       "      <td>0.161233</td>\n",
       "      <td>0.031920</td>\n",
       "      <td>0.304118</td>\n",
       "      <td>0.198560</td>\n",
       "      <td>0.190496</td>\n",
       "      <td>0.210010</td>\n",
       "      <td>02</td>\n",
       "      <td>0.3</td>\n",
       "    </tr>\n",
       "    <tr>\n",
       "      <th>9</th>\n",
       "      <td>Food Preparation And Serving Related Occupations</td>\n",
       "      <td>0.155807</td>\n",
       "      <td>0.262860</td>\n",
       "      <td>NaN</td>\n",
       "      <td>0.142039</td>\n",
       "      <td>0.026809</td>\n",
       "      <td>NaN</td>\n",
       "      <td>0.160731</td>\n",
       "      <td>0.168292</td>\n",
       "      <td>0.178493</td>\n",
       "      <td>09</td>\n",
       "      <td>0.3</td>\n",
       "    </tr>\n",
       "    <tr>\n",
       "      <th>12</th>\n",
       "      <td>Installation, Maintenance, And Repair Occupations</td>\n",
       "      <td>NaN</td>\n",
       "      <td>NaN</td>\n",
       "      <td>NaN</td>\n",
       "      <td>NaN</td>\n",
       "      <td>0.023058</td>\n",
       "      <td>NaN</td>\n",
       "      <td>NaN</td>\n",
       "      <td>NaN</td>\n",
       "      <td>NaN</td>\n",
       "      <td>12</td>\n",
       "      <td>0.3</td>\n",
       "    </tr>\n",
       "    <tr>\n",
       "      <th>15</th>\n",
       "      <td>Management Occupations</td>\n",
       "      <td>0.202974</td>\n",
       "      <td>0.296489</td>\n",
       "      <td>0.157372</td>\n",
       "      <td>0.161072</td>\n",
       "      <td>0.028292</td>\n",
       "      <td>0.279548</td>\n",
       "      <td>0.156382</td>\n",
       "      <td>0.187270</td>\n",
       "      <td>NaN</td>\n",
       "      <td>15</td>\n",
       "      <td>0.3</td>\n",
       "    </tr>\n",
       "    <tr>\n",
       "      <th>18</th>\n",
       "      <td>Production Occupations</td>\n",
       "      <td>0.171633</td>\n",
       "      <td>0.272514</td>\n",
       "      <td>0.137178</td>\n",
       "      <td>NaN</td>\n",
       "      <td>0.029265</td>\n",
       "      <td>0.258399</td>\n",
       "      <td>0.147523</td>\n",
       "      <td>0.169168</td>\n",
       "      <td>0.186179</td>\n",
       "      <td>18</td>\n",
       "      <td>0.3</td>\n",
       "    </tr>\n",
       "    <tr>\n",
       "      <th>20</th>\n",
       "      <td>Sales And Related Occupations</td>\n",
       "      <td>0.207232</td>\n",
       "      <td>0.336855</td>\n",
       "      <td>0.169741</td>\n",
       "      <td>0.177855</td>\n",
       "      <td>0.031064</td>\n",
       "      <td>0.306431</td>\n",
       "      <td>0.186115</td>\n",
       "      <td>0.193440</td>\n",
       "      <td>0.247814</td>\n",
       "      <td>20</td>\n",
       "      <td>0.3</td>\n",
       "    </tr>\n",
       "    <tr>\n",
       "      <th>21</th>\n",
       "      <td>Transportation And Material Moving Occupations</td>\n",
       "      <td>0.192655</td>\n",
       "      <td>0.312932</td>\n",
       "      <td>0.146978</td>\n",
       "      <td>0.167256</td>\n",
       "      <td>0.024673</td>\n",
       "      <td>0.275292</td>\n",
       "      <td>0.162169</td>\n",
       "      <td>0.188961</td>\n",
       "      <td>0.194388</td>\n",
       "      <td>21</td>\n",
       "      <td>0.3</td>\n",
       "    </tr>\n",
       "    <tr>\n",
       "      <th>24</th>\n",
       "      <td>(70000.0, 100000.0]</td>\n",
       "      <td>NaN</td>\n",
       "      <td>NaN</td>\n",
       "      <td>0.142206</td>\n",
       "      <td>0.142631</td>\n",
       "      <td>NaN</td>\n",
       "      <td>0.230002</td>\n",
       "      <td>NaN</td>\n",
       "      <td>NaN</td>\n",
       "      <td>0.169268</td>\n",
       "      <td>24</td>\n",
       "      <td>0.3</td>\n",
       "    </tr>\n",
       "    <tr>\n",
       "      <th>28</th>\n",
       "      <td>Total_House_Change</td>\n",
       "      <td>0.210065</td>\n",
       "      <td>0.308301</td>\n",
       "      <td>0.177842</td>\n",
       "      <td>0.198513</td>\n",
       "      <td>0.028786</td>\n",
       "      <td>0.283742</td>\n",
       "      <td>0.147697</td>\n",
       "      <td>0.196804</td>\n",
       "      <td>0.198978</td>\n",
       "      <td>28</td>\n",
       "      <td>0.3</td>\n",
       "    </tr>\n",
       "    <tr>\n",
       "      <th>29</th>\n",
       "      <td>Total_Pop_Change</td>\n",
       "      <td>0.198068</td>\n",
       "      <td>0.309162</td>\n",
       "      <td>0.173615</td>\n",
       "      <td>0.205515</td>\n",
       "      <td>0.031775</td>\n",
       "      <td>0.279665</td>\n",
       "      <td>0.156102</td>\n",
       "      <td>0.192057</td>\n",
       "      <td>0.192903</td>\n",
       "      <td>29</td>\n",
       "      <td>0.3</td>\n",
       "    </tr>\n",
       "    <tr>\n",
       "      <th>30</th>\n",
       "      <td>Total_Emp_Change</td>\n",
       "      <td>0.219423</td>\n",
       "      <td>0.341163</td>\n",
       "      <td>0.178943</td>\n",
       "      <td>0.175049</td>\n",
       "      <td>0.035173</td>\n",
       "      <td>0.316577</td>\n",
       "      <td>0.187518</td>\n",
       "      <td>0.215725</td>\n",
       "      <td>0.215771</td>\n",
       "      <td>30</td>\n",
       "      <td>0.3</td>\n",
       "    </tr>\n",
       "  </tbody>\n",
       "</table>\n",
       "</div>"
      ],
      "text/plain": [
       "                                         Feature_Name  NW_Boise_GC   B_Bench  \\\n",
       "1   Arts, Design, Entertainment, Sports, And Media...     0.205122  0.322296   \n",
       "2   Building And Grounds Cleaning And Maintenance ...     0.202024  0.297780   \n",
       "9    Food Preparation And Serving Related Occupations     0.155807  0.262860   \n",
       "12  Installation, Maintenance, And Repair Occupations          NaN       NaN   \n",
       "15                             Management Occupations     0.202974  0.296489   \n",
       "18                             Production Occupations     0.171633  0.272514   \n",
       "20                      Sales And Related Occupations     0.207232  0.336855   \n",
       "21     Transportation And Material Moving Occupations     0.192655  0.312932   \n",
       "24                                (70000.0, 100000.0]          NaN       NaN   \n",
       "28                                 Total_House_Change     0.210065  0.308301   \n",
       "29                                   Total_Pop_Change     0.198068  0.309162   \n",
       "30                                   Total_Emp_Change     0.219423  0.341163   \n",
       "\n",
       "    SE_Boise   N_Boise  NE_Boise   W_Boise  SW_Boise_M  W_Boise_M  SW_Boise  \\\n",
       "1   0.151652  0.145686       NaN  0.295192    0.150496   0.172005  0.220358   \n",
       "2   0.173484  0.161233  0.031920  0.304118    0.198560   0.190496  0.210010   \n",
       "9        NaN  0.142039  0.026809       NaN    0.160731   0.168292  0.178493   \n",
       "12       NaN       NaN  0.023058       NaN         NaN        NaN       NaN   \n",
       "15  0.157372  0.161072  0.028292  0.279548    0.156382   0.187270       NaN   \n",
       "18  0.137178       NaN  0.029265  0.258399    0.147523   0.169168  0.186179   \n",
       "20  0.169741  0.177855  0.031064  0.306431    0.186115   0.193440  0.247814   \n",
       "21  0.146978  0.167256  0.024673  0.275292    0.162169   0.188961  0.194388   \n",
       "24  0.142206  0.142631       NaN  0.230002         NaN        NaN  0.169268   \n",
       "28  0.177842  0.198513  0.028786  0.283742    0.147697   0.196804  0.198978   \n",
       "29  0.173615  0.205515  0.031775  0.279665    0.156102   0.192057  0.192903   \n",
       "30  0.178943  0.175049  0.035173  0.316577    0.187518   0.215725  0.215771   \n",
       "\n",
       "   index  ref_line  \n",
       "1     01       0.3  \n",
       "2     02       0.3  \n",
       "9     09       0.3  \n",
       "12    12       0.3  \n",
       "15    15       0.3  \n",
       "18    18       0.3  \n",
       "20    20       0.3  \n",
       "21    21       0.3  \n",
       "24    24       0.3  \n",
       "28    28       0.3  \n",
       "29    29       0.3  \n",
       "30    30       0.3  "
      ]
     },
     "execution_count": 72,
     "metadata": {},
     "output_type": "execute_result"
    }
   ],
   "source": [
    "df = pd.read_pickle('a-Coeff-compare.pkl')\n",
    "df = df.iloc[9:]\n",
    "df = df.reset_index(drop = True)\n",
    "\n",
    "df= df.rename(columns = {'index' : 'Feature_Name'})\n",
    "df['index'] = ['00','01','02','03','04','05','06','07','08','09','10','11','12','13','14',\n",
    "             '15','16','17','18','19','20','21','22','23','24','25','26','27','28','29','30']\n",
    "df['ref_line'] = .3\n",
    "\n",
    "\n",
    "#this will drop rows that have less than 2 values (name & @ least 1 value)\n",
    "df = df.dropna(thresh = 4)\n",
    "#df = df.reset_index(drop = True)\n",
    "df"
   ]
  },
  {
   "cell_type": "code",
   "execution_count": 74,
   "metadata": {},
   "outputs": [
    {
     "data": {
      "application/vnd.plotly.v1+json": {
       "config": {
        "plotlyServerURL": "https://plot.ly"
       },
       "data": [
        {
         "marker": {
          "color": "rgb(220,20,60)",
          "size": 10,
          "symbol": "square-open"
         },
         "mode": "markers",
         "name": "NW Boise",
         "type": "scatter",
         "x": [
          "01",
          "02",
          "09",
          "12",
          "15",
          "18",
          "20",
          "21",
          "24",
          "28",
          "29",
          "30"
         ],
         "y": [
          0.20512159087241913,
          0.20202415393377984,
          0.15580723101335364,
          null,
          0.20297371252017204,
          0.17163317062771433,
          0.20723197604888455,
          0.19265518844715313,
          null,
          0.21006497116471967,
          0.1980678101943947,
          0.2194234637811191
         ]
        },
        {
         "marker": {
          "color": "rgb(0,128,128)",
          "size": 10,
          "symbol": "star-diamond-open"
         },
         "mode": "markers",
         "name": "Boise Bench",
         "type": "scatter",
         "x": [
          "01",
          "02",
          "09",
          "12",
          "15",
          "18",
          "20",
          "21",
          "24",
          "28",
          "29",
          "30"
         ],
         "y": [
          0.32229565012681455,
          0.2977798318315564,
          0.26285977724726195,
          null,
          0.2964887347404128,
          0.272514238926972,
          0.3368547084586827,
          0.3129320707425859,
          null,
          0.3083006612882456,
          0.3091620597574776,
          0.34116317866143864
         ]
        },
        {
         "marker": {
          "color": "rgb(0,0,128)",
          "size": 10,
          "symbol": "pentagon-open"
         },
         "mode": "markers",
         "name": "SE Boise",
         "type": "scatter",
         "x": [
          "01",
          "02",
          "09",
          "12",
          "15",
          "18",
          "20",
          "21",
          "24",
          "28",
          "29",
          "30"
         ],
         "y": [
          0.15165217623671404,
          0.1734840864835354,
          null,
          null,
          0.15737235712812978,
          0.1371784809545204,
          0.1697408477614244,
          0.14697773768881994,
          0.14220614099515813,
          0.17784203090063153,
          0.17361536502233788,
          0.1789425947447074
         ]
        },
        {
         "marker": {
          "color": "rgb(107,142,35)",
          "size": 10,
          "symbol": "star-open"
         },
         "mode": "markers",
         "name": "N Boise",
         "type": "scatter",
         "x": [
          "01",
          "02",
          "09",
          "12",
          "15",
          "18",
          "20",
          "21",
          "24",
          "28",
          "29",
          "30"
         ],
         "y": [
          0.14568582626853804,
          0.16123274910358384,
          0.14203870429727855,
          null,
          0.16107155863138956,
          null,
          0.1778548012365404,
          0.1672556839217225,
          0.14263095766200048,
          0.19851334669155937,
          0.20551528108839293,
          0.1750492026773702
         ]
        },
        {
         "marker": {
          "color": "rgb(199,21,133)",
          "size": 10,
          "symbol": "bowtie-open"
         },
         "mode": "markers",
         "name": "NE Boise",
         "type": "scatter",
         "x": [
          "01",
          "02",
          "09",
          "12",
          "15",
          "18",
          "20",
          "21",
          "24",
          "28",
          "29",
          "30"
         ],
         "y": [
          null,
          0.03192043949798312,
          0.026809437454825388,
          0.023057916262704235,
          0.028292428886185668,
          0.029265182343593755,
          0.031063975572862466,
          0.024672545434538812,
          null,
          0.02878594374273333,
          0.031774543826914844,
          0.03517291426907938
         ]
        },
        {
         "marker": {
          "color": "rgb(47,79,79)",
          "size": 10,
          "symbol": "circle-cross-open"
         },
         "mode": "markers",
         "name": "W Boise",
         "type": "scatter",
         "x": [
          "01",
          "02",
          "09",
          "12",
          "15",
          "18",
          "20",
          "21",
          "24",
          "28",
          "29",
          "30"
         ],
         "y": [
          0.29519200186127226,
          0.30411753621650506,
          null,
          null,
          0.27954755117672947,
          0.2583987627632459,
          0.30643098999833923,
          0.27529209359889817,
          0.23000235919516213,
          0.28374230141513573,
          0.27966548526962093,
          0.316576752139436
         ]
        },
        {
         "marker": {
          "color": "rgb(139,69,19)",
          "size": 10,
          "symbol": "triangle-nw-open"
         },
         "mode": "markers",
         "name": "SW Boise M",
         "type": "scatter",
         "x": [
          "01",
          "02",
          "09",
          "12",
          "15",
          "18",
          "20",
          "21",
          "24",
          "28",
          "29",
          "30"
         ],
         "y": [
          0.1504959753661697,
          0.19855952481727007,
          0.16073145051703916,
          null,
          0.15638199418159174,
          0.14752294027571,
          0.1861149105898015,
          0.1621694067401815,
          null,
          0.1476974534956342,
          0.15610206178053995,
          0.18751794041229808
         ]
        },
        {
         "marker": {
          "color": "rgb(255,140,0)",
          "size": 10,
          "symbol": "hourglass-open"
         },
         "mode": "markers",
         "name": "W Boise-Meridian",
         "type": "scatter",
         "x": [
          "01",
          "02",
          "09",
          "12",
          "15",
          "18",
          "20",
          "21",
          "24",
          "28",
          "29",
          "30"
         ],
         "y": [
          0.17200512497700174,
          0.1904964859912985,
          0.1682920275536081,
          null,
          0.1872697109980509,
          0.16916813917865597,
          0.19343996709316957,
          0.1889609160179004,
          null,
          0.19680433092148597,
          0.19205655325395457,
          0.21572484830063943
         ]
        },
        {
         "marker": {
          "color": "rgb(128,0,128)",
          "size": 10,
          "symbol": "diamond-tall-open"
         },
         "mode": "markers",
         "name": "SW Boise",
         "type": "scatter",
         "x": [
          "01",
          "02",
          "09",
          "12",
          "15",
          "18",
          "20",
          "21",
          "24",
          "28",
          "29",
          "30"
         ],
         "y": [
          0.22035769938390118,
          0.2100096397353598,
          0.17849278215008724,
          null,
          null,
          0.1861785956967291,
          0.2478144672058495,
          0.19438792897553028,
          0.1692682959775328,
          0.1989783959986223,
          0.1929026311951265,
          0.21577060714910704
         ]
        },
        {
         "line": {
          "color": "Grey",
          "dash": "dot",
          "width": 1
         },
         "mode": "lines",
         "name": "0.3+ Moderate Linear Relationship",
         "type": "scatter",
         "x": [
          "01",
          "02",
          "09",
          "12",
          "15",
          "18",
          "20",
          "21",
          "24",
          "28",
          "29",
          "30"
         ],
         "y": [
          0.3,
          0.3,
          0.3,
          0.3,
          0.3,
          0.3,
          0.3,
          0.3,
          0.3,
          0.3,
          0.3,
          0.3
         ]
        }
       ],
       "layout": {
        "template": {
         "data": {
          "bar": [
           {
            "error_x": {
             "color": "#2a3f5f"
            },
            "error_y": {
             "color": "#2a3f5f"
            },
            "marker": {
             "line": {
              "color": "#E5ECF6",
              "width": 0.5
             }
            },
            "type": "bar"
           }
          ],
          "barpolar": [
           {
            "marker": {
             "line": {
              "color": "#E5ECF6",
              "width": 0.5
             }
            },
            "type": "barpolar"
           }
          ],
          "carpet": [
           {
            "aaxis": {
             "endlinecolor": "#2a3f5f",
             "gridcolor": "white",
             "linecolor": "white",
             "minorgridcolor": "white",
             "startlinecolor": "#2a3f5f"
            },
            "baxis": {
             "endlinecolor": "#2a3f5f",
             "gridcolor": "white",
             "linecolor": "white",
             "minorgridcolor": "white",
             "startlinecolor": "#2a3f5f"
            },
            "type": "carpet"
           }
          ],
          "choropleth": [
           {
            "colorbar": {
             "outlinewidth": 0,
             "ticks": ""
            },
            "type": "choropleth"
           }
          ],
          "contour": [
           {
            "colorbar": {
             "outlinewidth": 0,
             "ticks": ""
            },
            "colorscale": [
             [
              0,
              "#0d0887"
             ],
             [
              0.1111111111111111,
              "#46039f"
             ],
             [
              0.2222222222222222,
              "#7201a8"
             ],
             [
              0.3333333333333333,
              "#9c179e"
             ],
             [
              0.4444444444444444,
              "#bd3786"
             ],
             [
              0.5555555555555556,
              "#d8576b"
             ],
             [
              0.6666666666666666,
              "#ed7953"
             ],
             [
              0.7777777777777778,
              "#fb9f3a"
             ],
             [
              0.8888888888888888,
              "#fdca26"
             ],
             [
              1,
              "#f0f921"
             ]
            ],
            "type": "contour"
           }
          ],
          "contourcarpet": [
           {
            "colorbar": {
             "outlinewidth": 0,
             "ticks": ""
            },
            "type": "contourcarpet"
           }
          ],
          "heatmap": [
           {
            "colorbar": {
             "outlinewidth": 0,
             "ticks": ""
            },
            "colorscale": [
             [
              0,
              "#0d0887"
             ],
             [
              0.1111111111111111,
              "#46039f"
             ],
             [
              0.2222222222222222,
              "#7201a8"
             ],
             [
              0.3333333333333333,
              "#9c179e"
             ],
             [
              0.4444444444444444,
              "#bd3786"
             ],
             [
              0.5555555555555556,
              "#d8576b"
             ],
             [
              0.6666666666666666,
              "#ed7953"
             ],
             [
              0.7777777777777778,
              "#fb9f3a"
             ],
             [
              0.8888888888888888,
              "#fdca26"
             ],
             [
              1,
              "#f0f921"
             ]
            ],
            "type": "heatmap"
           }
          ],
          "heatmapgl": [
           {
            "colorbar": {
             "outlinewidth": 0,
             "ticks": ""
            },
            "colorscale": [
             [
              0,
              "#0d0887"
             ],
             [
              0.1111111111111111,
              "#46039f"
             ],
             [
              0.2222222222222222,
              "#7201a8"
             ],
             [
              0.3333333333333333,
              "#9c179e"
             ],
             [
              0.4444444444444444,
              "#bd3786"
             ],
             [
              0.5555555555555556,
              "#d8576b"
             ],
             [
              0.6666666666666666,
              "#ed7953"
             ],
             [
              0.7777777777777778,
              "#fb9f3a"
             ],
             [
              0.8888888888888888,
              "#fdca26"
             ],
             [
              1,
              "#f0f921"
             ]
            ],
            "type": "heatmapgl"
           }
          ],
          "histogram": [
           {
            "marker": {
             "colorbar": {
              "outlinewidth": 0,
              "ticks": ""
             }
            },
            "type": "histogram"
           }
          ],
          "histogram2d": [
           {
            "colorbar": {
             "outlinewidth": 0,
             "ticks": ""
            },
            "colorscale": [
             [
              0,
              "#0d0887"
             ],
             [
              0.1111111111111111,
              "#46039f"
             ],
             [
              0.2222222222222222,
              "#7201a8"
             ],
             [
              0.3333333333333333,
              "#9c179e"
             ],
             [
              0.4444444444444444,
              "#bd3786"
             ],
             [
              0.5555555555555556,
              "#d8576b"
             ],
             [
              0.6666666666666666,
              "#ed7953"
             ],
             [
              0.7777777777777778,
              "#fb9f3a"
             ],
             [
              0.8888888888888888,
              "#fdca26"
             ],
             [
              1,
              "#f0f921"
             ]
            ],
            "type": "histogram2d"
           }
          ],
          "histogram2dcontour": [
           {
            "colorbar": {
             "outlinewidth": 0,
             "ticks": ""
            },
            "colorscale": [
             [
              0,
              "#0d0887"
             ],
             [
              0.1111111111111111,
              "#46039f"
             ],
             [
              0.2222222222222222,
              "#7201a8"
             ],
             [
              0.3333333333333333,
              "#9c179e"
             ],
             [
              0.4444444444444444,
              "#bd3786"
             ],
             [
              0.5555555555555556,
              "#d8576b"
             ],
             [
              0.6666666666666666,
              "#ed7953"
             ],
             [
              0.7777777777777778,
              "#fb9f3a"
             ],
             [
              0.8888888888888888,
              "#fdca26"
             ],
             [
              1,
              "#f0f921"
             ]
            ],
            "type": "histogram2dcontour"
           }
          ],
          "mesh3d": [
           {
            "colorbar": {
             "outlinewidth": 0,
             "ticks": ""
            },
            "type": "mesh3d"
           }
          ],
          "parcoords": [
           {
            "line": {
             "colorbar": {
              "outlinewidth": 0,
              "ticks": ""
             }
            },
            "type": "parcoords"
           }
          ],
          "scatter": [
           {
            "marker": {
             "colorbar": {
              "outlinewidth": 0,
              "ticks": ""
             }
            },
            "type": "scatter"
           }
          ],
          "scatter3d": [
           {
            "line": {
             "colorbar": {
              "outlinewidth": 0,
              "ticks": ""
             }
            },
            "marker": {
             "colorbar": {
              "outlinewidth": 0,
              "ticks": ""
             }
            },
            "type": "scatter3d"
           }
          ],
          "scattercarpet": [
           {
            "marker": {
             "colorbar": {
              "outlinewidth": 0,
              "ticks": ""
             }
            },
            "type": "scattercarpet"
           }
          ],
          "scattergeo": [
           {
            "marker": {
             "colorbar": {
              "outlinewidth": 0,
              "ticks": ""
             }
            },
            "type": "scattergeo"
           }
          ],
          "scattergl": [
           {
            "marker": {
             "colorbar": {
              "outlinewidth": 0,
              "ticks": ""
             }
            },
            "type": "scattergl"
           }
          ],
          "scattermapbox": [
           {
            "marker": {
             "colorbar": {
              "outlinewidth": 0,
              "ticks": ""
             }
            },
            "type": "scattermapbox"
           }
          ],
          "scatterpolar": [
           {
            "marker": {
             "colorbar": {
              "outlinewidth": 0,
              "ticks": ""
             }
            },
            "type": "scatterpolar"
           }
          ],
          "scatterpolargl": [
           {
            "marker": {
             "colorbar": {
              "outlinewidth": 0,
              "ticks": ""
             }
            },
            "type": "scatterpolargl"
           }
          ],
          "scatterternary": [
           {
            "marker": {
             "colorbar": {
              "outlinewidth": 0,
              "ticks": ""
             }
            },
            "type": "scatterternary"
           }
          ],
          "surface": [
           {
            "colorbar": {
             "outlinewidth": 0,
             "ticks": ""
            },
            "colorscale": [
             [
              0,
              "#0d0887"
             ],
             [
              0.1111111111111111,
              "#46039f"
             ],
             [
              0.2222222222222222,
              "#7201a8"
             ],
             [
              0.3333333333333333,
              "#9c179e"
             ],
             [
              0.4444444444444444,
              "#bd3786"
             ],
             [
              0.5555555555555556,
              "#d8576b"
             ],
             [
              0.6666666666666666,
              "#ed7953"
             ],
             [
              0.7777777777777778,
              "#fb9f3a"
             ],
             [
              0.8888888888888888,
              "#fdca26"
             ],
             [
              1,
              "#f0f921"
             ]
            ],
            "type": "surface"
           }
          ],
          "table": [
           {
            "cells": {
             "fill": {
              "color": "#EBF0F8"
             },
             "line": {
              "color": "white"
             }
            },
            "header": {
             "fill": {
              "color": "#C8D4E3"
             },
             "line": {
              "color": "white"
             }
            },
            "type": "table"
           }
          ]
         },
         "layout": {
          "annotationdefaults": {
           "arrowcolor": "#2a3f5f",
           "arrowhead": 0,
           "arrowwidth": 1
          },
          "colorscale": {
           "diverging": [
            [
             0,
             "#8e0152"
            ],
            [
             0.1,
             "#c51b7d"
            ],
            [
             0.2,
             "#de77ae"
            ],
            [
             0.3,
             "#f1b6da"
            ],
            [
             0.4,
             "#fde0ef"
            ],
            [
             0.5,
             "#f7f7f7"
            ],
            [
             0.6,
             "#e6f5d0"
            ],
            [
             0.7,
             "#b8e186"
            ],
            [
             0.8,
             "#7fbc41"
            ],
            [
             0.9,
             "#4d9221"
            ],
            [
             1,
             "#276419"
            ]
           ],
           "sequential": [
            [
             0,
             "#0d0887"
            ],
            [
             0.1111111111111111,
             "#46039f"
            ],
            [
             0.2222222222222222,
             "#7201a8"
            ],
            [
             0.3333333333333333,
             "#9c179e"
            ],
            [
             0.4444444444444444,
             "#bd3786"
            ],
            [
             0.5555555555555556,
             "#d8576b"
            ],
            [
             0.6666666666666666,
             "#ed7953"
            ],
            [
             0.7777777777777778,
             "#fb9f3a"
            ],
            [
             0.8888888888888888,
             "#fdca26"
            ],
            [
             1,
             "#f0f921"
            ]
           ],
           "sequentialminus": [
            [
             0,
             "#0d0887"
            ],
            [
             0.1111111111111111,
             "#46039f"
            ],
            [
             0.2222222222222222,
             "#7201a8"
            ],
            [
             0.3333333333333333,
             "#9c179e"
            ],
            [
             0.4444444444444444,
             "#bd3786"
            ],
            [
             0.5555555555555556,
             "#d8576b"
            ],
            [
             0.6666666666666666,
             "#ed7953"
            ],
            [
             0.7777777777777778,
             "#fb9f3a"
            ],
            [
             0.8888888888888888,
             "#fdca26"
            ],
            [
             1,
             "#f0f921"
            ]
           ]
          },
          "colorway": [
           "#636efa",
           "#EF553B",
           "#00cc96",
           "#ab63fa",
           "#FFA15A",
           "#19d3f3",
           "#FF6692",
           "#B6E880",
           "#FF97FF",
           "#FECB52"
          ],
          "font": {
           "color": "#2a3f5f"
          },
          "geo": {
           "bgcolor": "white",
           "lakecolor": "white",
           "landcolor": "#E5ECF6",
           "showlakes": true,
           "showland": true,
           "subunitcolor": "white"
          },
          "hoverlabel": {
           "align": "left"
          },
          "hovermode": "closest",
          "mapbox": {
           "style": "light"
          },
          "paper_bgcolor": "white",
          "plot_bgcolor": "#E5ECF6",
          "polar": {
           "angularaxis": {
            "gridcolor": "white",
            "linecolor": "white",
            "ticks": ""
           },
           "bgcolor": "#E5ECF6",
           "radialaxis": {
            "gridcolor": "white",
            "linecolor": "white",
            "ticks": ""
           }
          },
          "scene": {
           "xaxis": {
            "backgroundcolor": "#E5ECF6",
            "gridcolor": "white",
            "gridwidth": 2,
            "linecolor": "white",
            "showbackground": true,
            "ticks": "",
            "zerolinecolor": "white"
           },
           "yaxis": {
            "backgroundcolor": "#E5ECF6",
            "gridcolor": "white",
            "gridwidth": 2,
            "linecolor": "white",
            "showbackground": true,
            "ticks": "",
            "zerolinecolor": "white"
           },
           "zaxis": {
            "backgroundcolor": "#E5ECF6",
            "gridcolor": "white",
            "gridwidth": 2,
            "linecolor": "white",
            "showbackground": true,
            "ticks": "",
            "zerolinecolor": "white"
           }
          },
          "shapedefaults": {
           "line": {
            "color": "#2a3f5f"
           }
          },
          "ternary": {
           "aaxis": {
            "gridcolor": "white",
            "linecolor": "white",
            "ticks": ""
           },
           "baxis": {
            "gridcolor": "white",
            "linecolor": "white",
            "ticks": ""
           },
           "bgcolor": "#E5ECF6",
           "caxis": {
            "gridcolor": "white",
            "linecolor": "white",
            "ticks": ""
           }
          },
          "title": {
           "x": 0.05
          },
          "xaxis": {
           "automargin": true,
           "gridcolor": "white",
           "linecolor": "white",
           "ticks": "",
           "zerolinecolor": "white",
           "zerolinewidth": 2
          },
          "yaxis": {
           "automargin": true,
           "gridcolor": "white",
           "linecolor": "white",
           "ticks": "",
           "zerolinecolor": "white",
           "zerolinewidth": 2
          }
         }
        },
        "title": {
         "font": {
          "family": "Times New Roman"
         },
         "text": "<b>Correlation Coefficients for the MLS Areas of Boise<b>",
         "x": 0.5,
         "xref": "paper"
        },
        "xaxis": {
         "title": {
          "font": {
           "family": "Times New Roman",
           "size": 16
          },
          "text": "<b>Feature Key<b>"
         },
         "type": "category"
        },
        "yaxis": {
         "title": {
          "font": {
           "family": "Times New Roman",
           "size": 16
          },
          "text": "<b>Correlation Coefficient<b>"
         }
        }
       }
      },
      "text/html": [
       "<div>\n",
       "        \n",
       "        \n",
       "            <div id=\"4f625279-40d7-401e-bea0-39cb7c043050\" class=\"plotly-graph-div\" style=\"height:525px; width:100%;\"></div>\n",
       "            <script type=\"text/javascript\">\n",
       "                require([\"plotly\"], function(Plotly) {\n",
       "                    window.PLOTLYENV=window.PLOTLYENV || {};\n",
       "                    \n",
       "                if (document.getElementById(\"4f625279-40d7-401e-bea0-39cb7c043050\")) {\n",
       "                    Plotly.newPlot(\n",
       "                        '4f625279-40d7-401e-bea0-39cb7c043050',\n",
       "                        [{\"marker\": {\"color\": \"rgb(220,20,60)\", \"size\": 10, \"symbol\": \"square-open\"}, \"mode\": \"markers\", \"name\": \"NW Boise\", \"type\": \"scatter\", \"x\": [\"01\", \"02\", \"09\", \"12\", \"15\", \"18\", \"20\", \"21\", \"24\", \"28\", \"29\", \"30\"], \"y\": [0.20512159087241913, 0.20202415393377984, 0.15580723101335364, null, 0.20297371252017204, 0.17163317062771433, 0.20723197604888455, 0.19265518844715313, null, 0.21006497116471967, 0.1980678101943947, 0.2194234637811191]}, {\"marker\": {\"color\": \"rgb(0,128,128)\", \"size\": 10, \"symbol\": \"star-diamond-open\"}, \"mode\": \"markers\", \"name\": \"Boise Bench\", \"type\": \"scatter\", \"x\": [\"01\", \"02\", \"09\", \"12\", \"15\", \"18\", \"20\", \"21\", \"24\", \"28\", \"29\", \"30\"], \"y\": [0.32229565012681455, 0.2977798318315564, 0.26285977724726195, null, 0.2964887347404128, 0.272514238926972, 0.3368547084586827, 0.3129320707425859, null, 0.3083006612882456, 0.3091620597574776, 0.34116317866143864]}, {\"marker\": {\"color\": \"rgb(0,0,128)\", \"size\": 10, \"symbol\": \"pentagon-open\"}, \"mode\": \"markers\", \"name\": \"SE Boise\", \"type\": \"scatter\", \"x\": [\"01\", \"02\", \"09\", \"12\", \"15\", \"18\", \"20\", \"21\", \"24\", \"28\", \"29\", \"30\"], \"y\": [0.15165217623671404, 0.1734840864835354, null, null, 0.15737235712812978, 0.1371784809545204, 0.1697408477614244, 0.14697773768881994, 0.14220614099515813, 0.17784203090063153, 0.17361536502233788, 0.1789425947447074]}, {\"marker\": {\"color\": \"rgb(107,142,35)\", \"size\": 10, \"symbol\": \"star-open\"}, \"mode\": \"markers\", \"name\": \"N Boise\", \"type\": \"scatter\", \"x\": [\"01\", \"02\", \"09\", \"12\", \"15\", \"18\", \"20\", \"21\", \"24\", \"28\", \"29\", \"30\"], \"y\": [0.14568582626853804, 0.16123274910358384, 0.14203870429727855, null, 0.16107155863138956, null, 0.1778548012365404, 0.1672556839217225, 0.14263095766200048, 0.19851334669155937, 0.20551528108839293, 0.1750492026773702]}, {\"marker\": {\"color\": \"rgb(199,21,133)\", \"size\": 10, \"symbol\": \"bowtie-open\"}, \"mode\": \"markers\", \"name\": \"NE Boise\", \"type\": \"scatter\", \"x\": [\"01\", \"02\", \"09\", \"12\", \"15\", \"18\", \"20\", \"21\", \"24\", \"28\", \"29\", \"30\"], \"y\": [null, 0.03192043949798312, 0.026809437454825388, 0.023057916262704235, 0.028292428886185668, 0.029265182343593755, 0.031063975572862466, 0.024672545434538812, null, 0.02878594374273333, 0.031774543826914844, 0.03517291426907938]}, {\"marker\": {\"color\": \"rgb(47,79,79)\", \"size\": 10, \"symbol\": \"circle-cross-open\"}, \"mode\": \"markers\", \"name\": \"W Boise\", \"type\": \"scatter\", \"x\": [\"01\", \"02\", \"09\", \"12\", \"15\", \"18\", \"20\", \"21\", \"24\", \"28\", \"29\", \"30\"], \"y\": [0.29519200186127226, 0.30411753621650506, null, null, 0.27954755117672947, 0.2583987627632459, 0.30643098999833923, 0.27529209359889817, 0.23000235919516213, 0.28374230141513573, 0.27966548526962093, 0.316576752139436]}, {\"marker\": {\"color\": \"rgb(139,69,19)\", \"size\": 10, \"symbol\": \"triangle-nw-open\"}, \"mode\": \"markers\", \"name\": \"SW Boise M\", \"type\": \"scatter\", \"x\": [\"01\", \"02\", \"09\", \"12\", \"15\", \"18\", \"20\", \"21\", \"24\", \"28\", \"29\", \"30\"], \"y\": [0.1504959753661697, 0.19855952481727007, 0.16073145051703916, null, 0.15638199418159174, 0.14752294027571, 0.1861149105898015, 0.1621694067401815, null, 0.1476974534956342, 0.15610206178053995, 0.18751794041229808]}, {\"marker\": {\"color\": \"rgb(255,140,0)\", \"size\": 10, \"symbol\": \"hourglass-open\"}, \"mode\": \"markers\", \"name\": \"W Boise-Meridian\", \"type\": \"scatter\", \"x\": [\"01\", \"02\", \"09\", \"12\", \"15\", \"18\", \"20\", \"21\", \"24\", \"28\", \"29\", \"30\"], \"y\": [0.17200512497700174, 0.1904964859912985, 0.1682920275536081, null, 0.1872697109980509, 0.16916813917865597, 0.19343996709316957, 0.1889609160179004, null, 0.19680433092148597, 0.19205655325395457, 0.21572484830063943]}, {\"marker\": {\"color\": \"rgb(128,0,128)\", \"size\": 10, \"symbol\": \"diamond-tall-open\"}, \"mode\": \"markers\", \"name\": \"SW Boise\", \"type\": \"scatter\", \"x\": [\"01\", \"02\", \"09\", \"12\", \"15\", \"18\", \"20\", \"21\", \"24\", \"28\", \"29\", \"30\"], \"y\": [0.22035769938390118, 0.2100096397353598, 0.17849278215008724, null, null, 0.1861785956967291, 0.2478144672058495, 0.19438792897553028, 0.1692682959775328, 0.1989783959986223, 0.1929026311951265, 0.21577060714910704]}, {\"line\": {\"color\": \"Grey\", \"dash\": \"dot\", \"width\": 1}, \"mode\": \"lines\", \"name\": \"0.3+ Moderate Linear Relationship\", \"type\": \"scatter\", \"x\": [\"01\", \"02\", \"09\", \"12\", \"15\", \"18\", \"20\", \"21\", \"24\", \"28\", \"29\", \"30\"], \"y\": [0.3, 0.3, 0.3, 0.3, 0.3, 0.3, 0.3, 0.3, 0.3, 0.3, 0.3, 0.3]}],\n",
       "                        {\"template\": {\"data\": {\"bar\": [{\"error_x\": {\"color\": \"#2a3f5f\"}, \"error_y\": {\"color\": \"#2a3f5f\"}, \"marker\": {\"line\": {\"color\": \"#E5ECF6\", \"width\": 0.5}}, \"type\": \"bar\"}], \"barpolar\": [{\"marker\": {\"line\": {\"color\": \"#E5ECF6\", \"width\": 0.5}}, \"type\": \"barpolar\"}], \"carpet\": [{\"aaxis\": {\"endlinecolor\": \"#2a3f5f\", \"gridcolor\": \"white\", \"linecolor\": \"white\", \"minorgridcolor\": \"white\", \"startlinecolor\": \"#2a3f5f\"}, \"baxis\": {\"endlinecolor\": \"#2a3f5f\", \"gridcolor\": \"white\", \"linecolor\": \"white\", \"minorgridcolor\": \"white\", \"startlinecolor\": \"#2a3f5f\"}, \"type\": \"carpet\"}], \"choropleth\": [{\"colorbar\": {\"outlinewidth\": 0, \"ticks\": \"\"}, \"type\": \"choropleth\"}], \"contour\": [{\"colorbar\": {\"outlinewidth\": 0, \"ticks\": \"\"}, \"colorscale\": [[0.0, \"#0d0887\"], [0.1111111111111111, \"#46039f\"], [0.2222222222222222, \"#7201a8\"], [0.3333333333333333, \"#9c179e\"], [0.4444444444444444, \"#bd3786\"], [0.5555555555555556, \"#d8576b\"], [0.6666666666666666, \"#ed7953\"], [0.7777777777777778, \"#fb9f3a\"], [0.8888888888888888, \"#fdca26\"], [1.0, \"#f0f921\"]], \"type\": \"contour\"}], \"contourcarpet\": [{\"colorbar\": {\"outlinewidth\": 0, \"ticks\": \"\"}, \"type\": \"contourcarpet\"}], \"heatmap\": [{\"colorbar\": {\"outlinewidth\": 0, \"ticks\": \"\"}, \"colorscale\": [[0.0, \"#0d0887\"], [0.1111111111111111, \"#46039f\"], [0.2222222222222222, \"#7201a8\"], [0.3333333333333333, \"#9c179e\"], [0.4444444444444444, \"#bd3786\"], [0.5555555555555556, \"#d8576b\"], [0.6666666666666666, \"#ed7953\"], [0.7777777777777778, \"#fb9f3a\"], [0.8888888888888888, \"#fdca26\"], [1.0, \"#f0f921\"]], \"type\": \"heatmap\"}], \"heatmapgl\": [{\"colorbar\": {\"outlinewidth\": 0, \"ticks\": \"\"}, \"colorscale\": [[0.0, \"#0d0887\"], [0.1111111111111111, \"#46039f\"], [0.2222222222222222, \"#7201a8\"], [0.3333333333333333, \"#9c179e\"], [0.4444444444444444, \"#bd3786\"], [0.5555555555555556, \"#d8576b\"], [0.6666666666666666, \"#ed7953\"], [0.7777777777777778, \"#fb9f3a\"], [0.8888888888888888, \"#fdca26\"], [1.0, \"#f0f921\"]], \"type\": \"heatmapgl\"}], \"histogram\": [{\"marker\": {\"colorbar\": {\"outlinewidth\": 0, \"ticks\": \"\"}}, \"type\": \"histogram\"}], \"histogram2d\": [{\"colorbar\": {\"outlinewidth\": 0, \"ticks\": \"\"}, \"colorscale\": [[0.0, \"#0d0887\"], [0.1111111111111111, \"#46039f\"], [0.2222222222222222, \"#7201a8\"], [0.3333333333333333, \"#9c179e\"], [0.4444444444444444, \"#bd3786\"], [0.5555555555555556, \"#d8576b\"], [0.6666666666666666, \"#ed7953\"], [0.7777777777777778, \"#fb9f3a\"], [0.8888888888888888, \"#fdca26\"], [1.0, \"#f0f921\"]], \"type\": \"histogram2d\"}], \"histogram2dcontour\": [{\"colorbar\": {\"outlinewidth\": 0, \"ticks\": \"\"}, \"colorscale\": [[0.0, \"#0d0887\"], [0.1111111111111111, \"#46039f\"], [0.2222222222222222, \"#7201a8\"], [0.3333333333333333, \"#9c179e\"], [0.4444444444444444, \"#bd3786\"], [0.5555555555555556, \"#d8576b\"], [0.6666666666666666, \"#ed7953\"], [0.7777777777777778, \"#fb9f3a\"], [0.8888888888888888, \"#fdca26\"], [1.0, \"#f0f921\"]], \"type\": \"histogram2dcontour\"}], \"mesh3d\": [{\"colorbar\": {\"outlinewidth\": 0, \"ticks\": \"\"}, \"type\": \"mesh3d\"}], \"parcoords\": [{\"line\": {\"colorbar\": {\"outlinewidth\": 0, \"ticks\": \"\"}}, \"type\": \"parcoords\"}], \"scatter\": [{\"marker\": {\"colorbar\": {\"outlinewidth\": 0, \"ticks\": \"\"}}, \"type\": \"scatter\"}], \"scatter3d\": [{\"line\": {\"colorbar\": {\"outlinewidth\": 0, \"ticks\": \"\"}}, \"marker\": {\"colorbar\": {\"outlinewidth\": 0, \"ticks\": \"\"}}, \"type\": \"scatter3d\"}], \"scattercarpet\": [{\"marker\": {\"colorbar\": {\"outlinewidth\": 0, \"ticks\": \"\"}}, \"type\": \"scattercarpet\"}], \"scattergeo\": [{\"marker\": {\"colorbar\": {\"outlinewidth\": 0, \"ticks\": \"\"}}, \"type\": \"scattergeo\"}], \"scattergl\": [{\"marker\": {\"colorbar\": {\"outlinewidth\": 0, \"ticks\": \"\"}}, \"type\": \"scattergl\"}], \"scattermapbox\": [{\"marker\": {\"colorbar\": {\"outlinewidth\": 0, \"ticks\": \"\"}}, \"type\": \"scattermapbox\"}], \"scatterpolar\": [{\"marker\": {\"colorbar\": {\"outlinewidth\": 0, \"ticks\": \"\"}}, \"type\": \"scatterpolar\"}], \"scatterpolargl\": [{\"marker\": {\"colorbar\": {\"outlinewidth\": 0, \"ticks\": \"\"}}, \"type\": \"scatterpolargl\"}], \"scatterternary\": [{\"marker\": {\"colorbar\": {\"outlinewidth\": 0, \"ticks\": \"\"}}, \"type\": \"scatterternary\"}], \"surface\": [{\"colorbar\": {\"outlinewidth\": 0, \"ticks\": \"\"}, \"colorscale\": [[0.0, \"#0d0887\"], [0.1111111111111111, \"#46039f\"], [0.2222222222222222, \"#7201a8\"], [0.3333333333333333, \"#9c179e\"], [0.4444444444444444, \"#bd3786\"], [0.5555555555555556, \"#d8576b\"], [0.6666666666666666, \"#ed7953\"], [0.7777777777777778, \"#fb9f3a\"], [0.8888888888888888, \"#fdca26\"], [1.0, \"#f0f921\"]], \"type\": \"surface\"}], \"table\": [{\"cells\": {\"fill\": {\"color\": \"#EBF0F8\"}, \"line\": {\"color\": \"white\"}}, \"header\": {\"fill\": {\"color\": \"#C8D4E3\"}, \"line\": {\"color\": \"white\"}}, \"type\": \"table\"}]}, \"layout\": {\"annotationdefaults\": {\"arrowcolor\": \"#2a3f5f\", \"arrowhead\": 0, \"arrowwidth\": 1}, \"colorscale\": {\"diverging\": [[0, \"#8e0152\"], [0.1, \"#c51b7d\"], [0.2, \"#de77ae\"], [0.3, \"#f1b6da\"], [0.4, \"#fde0ef\"], [0.5, \"#f7f7f7\"], [0.6, \"#e6f5d0\"], [0.7, \"#b8e186\"], [0.8, \"#7fbc41\"], [0.9, \"#4d9221\"], [1, \"#276419\"]], \"sequential\": [[0.0, \"#0d0887\"], [0.1111111111111111, \"#46039f\"], [0.2222222222222222, \"#7201a8\"], [0.3333333333333333, \"#9c179e\"], [0.4444444444444444, \"#bd3786\"], [0.5555555555555556, \"#d8576b\"], [0.6666666666666666, \"#ed7953\"], [0.7777777777777778, \"#fb9f3a\"], [0.8888888888888888, \"#fdca26\"], [1.0, \"#f0f921\"]], \"sequentialminus\": [[0.0, \"#0d0887\"], [0.1111111111111111, \"#46039f\"], [0.2222222222222222, \"#7201a8\"], [0.3333333333333333, \"#9c179e\"], [0.4444444444444444, \"#bd3786\"], [0.5555555555555556, \"#d8576b\"], [0.6666666666666666, \"#ed7953\"], [0.7777777777777778, \"#fb9f3a\"], [0.8888888888888888, \"#fdca26\"], [1.0, \"#f0f921\"]]}, \"colorway\": [\"#636efa\", \"#EF553B\", \"#00cc96\", \"#ab63fa\", \"#FFA15A\", \"#19d3f3\", \"#FF6692\", \"#B6E880\", \"#FF97FF\", \"#FECB52\"], \"font\": {\"color\": \"#2a3f5f\"}, \"geo\": {\"bgcolor\": \"white\", \"lakecolor\": \"white\", \"landcolor\": \"#E5ECF6\", \"showlakes\": true, \"showland\": true, \"subunitcolor\": \"white\"}, \"hoverlabel\": {\"align\": \"left\"}, \"hovermode\": \"closest\", \"mapbox\": {\"style\": \"light\"}, \"paper_bgcolor\": \"white\", \"plot_bgcolor\": \"#E5ECF6\", \"polar\": {\"angularaxis\": {\"gridcolor\": \"white\", \"linecolor\": \"white\", \"ticks\": \"\"}, \"bgcolor\": \"#E5ECF6\", \"radialaxis\": {\"gridcolor\": \"white\", \"linecolor\": \"white\", \"ticks\": \"\"}}, \"scene\": {\"xaxis\": {\"backgroundcolor\": \"#E5ECF6\", \"gridcolor\": \"white\", \"gridwidth\": 2, \"linecolor\": \"white\", \"showbackground\": true, \"ticks\": \"\", \"zerolinecolor\": \"white\"}, \"yaxis\": {\"backgroundcolor\": \"#E5ECF6\", \"gridcolor\": \"white\", \"gridwidth\": 2, \"linecolor\": \"white\", \"showbackground\": true, \"ticks\": \"\", \"zerolinecolor\": \"white\"}, \"zaxis\": {\"backgroundcolor\": \"#E5ECF6\", \"gridcolor\": \"white\", \"gridwidth\": 2, \"linecolor\": \"white\", \"showbackground\": true, \"ticks\": \"\", \"zerolinecolor\": \"white\"}}, \"shapedefaults\": {\"line\": {\"color\": \"#2a3f5f\"}}, \"ternary\": {\"aaxis\": {\"gridcolor\": \"white\", \"linecolor\": \"white\", \"ticks\": \"\"}, \"baxis\": {\"gridcolor\": \"white\", \"linecolor\": \"white\", \"ticks\": \"\"}, \"bgcolor\": \"#E5ECF6\", \"caxis\": {\"gridcolor\": \"white\", \"linecolor\": \"white\", \"ticks\": \"\"}}, \"title\": {\"x\": 0.05}, \"xaxis\": {\"automargin\": true, \"gridcolor\": \"white\", \"linecolor\": \"white\", \"ticks\": \"\", \"zerolinecolor\": \"white\", \"zerolinewidth\": 2}, \"yaxis\": {\"automargin\": true, \"gridcolor\": \"white\", \"linecolor\": \"white\", \"ticks\": \"\", \"zerolinecolor\": \"white\", \"zerolinewidth\": 2}}}, \"title\": {\"font\": {\"family\": \"Times New Roman\"}, \"text\": \"<b>Correlation Coefficients for the MLS Areas of Boise<b>\", \"x\": 0.5, \"xref\": \"paper\"}, \"xaxis\": {\"title\": {\"font\": {\"family\": \"Times New Roman\", \"size\": 16}, \"text\": \"<b>Feature Key<b>\"}, \"type\": \"category\"}, \"yaxis\": {\"title\": {\"font\": {\"family\": \"Times New Roman\", \"size\": 16}, \"text\": \"<b>Correlation Coefficient<b>\"}}},\n",
       "                        {\"responsive\": true}\n",
       "                    ).then(function(){\n",
       "                            \n",
       "var gd = document.getElementById('4f625279-40d7-401e-bea0-39cb7c043050');\n",
       "var x = new MutationObserver(function (mutations, observer) {{\n",
       "        var display = window.getComputedStyle(gd).display;\n",
       "        if (!display || display === 'none') {{\n",
       "            console.log([gd, 'removed!']);\n",
       "            Plotly.purge(gd);\n",
       "            observer.disconnect();\n",
       "        }}\n",
       "}});\n",
       "\n",
       "// Listen for the removal of the full notebook cells\n",
       "var notebookContainer = gd.closest('#notebook-container');\n",
       "if (notebookContainer) {{\n",
       "    x.observe(notebookContainer, {childList: true});\n",
       "}}\n",
       "\n",
       "// Listen for the clearing of the current output cell\n",
       "var outputEl = gd.closest('.output');\n",
       "if (outputEl) {{\n",
       "    x.observe(outputEl, {childList: true});\n",
       "}}\n",
       "\n",
       "                        })\n",
       "                };\n",
       "                });\n",
       "            </script>\n",
       "        </div>"
      ]
     },
     "metadata": {},
     "output_type": "display_data"
    }
   ],
   "source": [
    "# df = pd.read_pickle('a-Coeff-compare.pkl')\n",
    "\n",
    "# # drops rows up to TAV_Ch, below TAV_Ch = 0 and TAV_Ch = 1 \n",
    "# df = df.iloc[9:]\n",
    "\n",
    "# # Needed to make a key for ease a readability and to make the reference line for moderate linear \n",
    "# # relationship\n",
    "\n",
    "# df['key'] = ['00','01','02','03','04','05','06','07','08','09','10','11','12','13','14',\n",
    "#              '15','16','17','18','19','20','21','22','23','24','25','26','27','28','29','30']\n",
    "# df['ref_line'] = .3\n",
    "\n",
    "\n",
    "# #this will drop rows that have less than 4 values (feature name, key, ref line, & @ least 1 value)\n",
    "# df = df.dropna(thresh = 4)\n",
    "\n",
    "# area_fig = go.Figure()\n",
    "\n",
    "# area_fig.add_trace(go.Scatter(x= df['key'], y=df['NW_Boise_GC'],\n",
    "#                     mode='markers',\n",
    "#                     marker_color = 'rgb(220,20,60)',\n",
    "#                     marker=dict(size= 10, symbol = \"square-open\"),          \n",
    "#                     name='NW Boise'))\n",
    "\n",
    "# area_fig.add_trace(go.Scatter(x= df['key'], y=df['B_Bench'],\n",
    "#                     mode='markers',\n",
    "#                     marker_color = 'rgb(0,128,128)',\n",
    "#                     marker=dict(size= 10, symbol = \"star-diamond-open\"), \n",
    "#                     name='Boise Bench'))\n",
    "\n",
    "# area_fig.add_trace(go.Scatter(x= df['key'], y=df['SE_Boise'],\n",
    "#                     mode='markers',\n",
    "#                     marker_color = 'rgb(0,0,128)',\n",
    "#                     marker=dict(size= 10, symbol = \"pentagon-open\"),          \n",
    "#                     name='SE Boise'))\n",
    "\n",
    "# area_fig.add_trace(go.Scatter(x= df['key'], y=df['N_Boise'],\n",
    "#                     mode='markers',\n",
    "#                     marker_color = 'rgb(107,142,35)',\n",
    "#                     marker=dict(size= 10, symbol = \"star-open\"),          \n",
    "#                     name='N Boise'))\n",
    "\n",
    "# area_fig.add_trace(go.Scatter(x= df['key'], y=df['NE_Boise'],\n",
    "#                     mode='markers',\n",
    "#                     marker_color = 'rgb(199,21,133)',\n",
    "#                     marker=dict(size= 10, symbol = \"bowtie-open\"),           \n",
    "#                     name='NE Boise'))\n",
    "\n",
    "# area_fig.add_trace(go.Scatter(x= df['key'], y=df['W_Boise'],\n",
    "#                     mode='markers',\n",
    "#                     marker_color = 'rgb(47,79,79)',\n",
    "#                     marker=dict(size= 10, symbol = \"circle-cross-open\"),          \n",
    "#                     name='W Boise'))\n",
    "\n",
    "# area_fig.add_trace(go.Scatter(x= df['key'], y=df['SW_Boise_M'],\n",
    "#                     mode='markers',\n",
    "#                     marker_color = 'rgb(139,69,19)',\n",
    "#                     marker=dict(size= 10, symbol = \"triangle-nw-open\"),          \n",
    "#                     name='SW Boise M'))\n",
    "\n",
    "# area_fig.add_trace(go.Scatter(x= df['key'], y=df['W_Boise_M'],\n",
    "#                     mode='markers',\n",
    "#                     marker_color = 'rgb(255,140,0)',\n",
    "#                     marker=dict(size= 10, symbol = \"hourglass-open\"),          \n",
    "#                     name='W Boise-Meridian'))\n",
    "\n",
    "# area_fig.add_trace(go.Scatter(x= df['key'], y=df['SW_Boise'],\n",
    "#                     mode='markers',\n",
    "#                     marker_color = 'rgb(128,0,128)',\n",
    "#                     marker=dict(size= 10, symbol = \"diamond-tall-open\"),           \n",
    "#                     name='SW Boise'))\n",
    "\n",
    "\n",
    "# area_fig.add_trace(go.Scatter(x= df['key'] , y=df['ref_line'],\n",
    "#                     mode = 'lines',          \n",
    "#                     line = dict(color='Grey', width=1, dash='dot'),          \n",
    "#                     name='0.3+ Moderate Linear Relationship'))\n",
    "\n",
    "# # area_fig.update_layout(\n",
    "# #     shapes=[\n",
    "# #         # Line Horizontal\n",
    "# #         go.layout.Shape(\n",
    "# #             type=\"line\",\n",
    "# #             x0=0,y0=.7,\n",
    "# #             x1=11,y1=.7,\n",
    "# #             line=dict(\n",
    "# #                 color=\"Grey\",\n",
    "# #                 width=1,\n",
    "# #                 dash=\"dashdot\",),),])\n",
    "# # area_fig.update_layout(\n",
    "# #     shapes=[\n",
    "# #         # Line Horizontal\n",
    "# #         go.layout.Shape(\n",
    "# #             type=\"line\",\n",
    "# #             x0=-1,y0=.3,\n",
    "# #             x1=15.1,y1=.3,\n",
    "# #             line=dict(\n",
    "# #                 color=\"Grey\",\n",
    "# #                 width=1,\n",
    "# #                 dash=\"dashdot\",),),])\n",
    "\n",
    "\n",
    "\n",
    "# area_fig.update_layout(\n",
    "#     title=go.layout.Title(\n",
    "#         text=\"<b>Correlation Coefficients for the MLS Areas of Boise<b>\",\n",
    "#         font = dict( \n",
    "#             family = 'Times New Roman'),\n",
    "#         xref=\"paper\",\n",
    "#         x=.5\n",
    "#     ),\n",
    "#     yaxis=go.layout.YAxis(\n",
    "#         title=go.layout.yaxis.Title(\n",
    "#             text=\"<b>Correlation Coefficient<b>\",\n",
    "#             font=dict(\n",
    "#                 family=\"Times New Roman\",\n",
    "#                 size=16,\n",
    "# #                color=\"#7f7f7f\"\n",
    "#             )\n",
    "#         )\n",
    "#     ),\n",
    "#     xaxis=go.layout.XAxis(\n",
    "#         type = 'category',\n",
    "#         title=go.layout.xaxis.Title(\n",
    "#             text=\"<b>Feature Key<b>\",\n",
    "#             font=dict(\n",
    "#                 family=\"Times New Roman\",\n",
    "#                 size=16,\n",
    "# #                color=\"#7f7f7f\"\n",
    "#             )\n",
    "#         )\n",
    "#     ))\n",
    "\n",
    "\n",
    "# area_fig.show()"
   ]
  },
  {
   "cell_type": "code",
   "execution_count": 8,
   "metadata": {},
   "outputs": [
    {
     "data": {
      "text/plain": [
       "str"
      ]
     },
     "execution_count": 8,
     "metadata": {},
     "output_type": "execute_result"
    }
   ],
   "source": [
    "type(df.iloc[0,0])"
   ]
  },
  {
   "cell_type": "code",
   "execution_count": 88,
   "metadata": {},
   "outputs": [
    {
     "data": {
      "application/vnd.plotly.v1+json": {
       "config": {
        "plotlyServerURL": "https://plot.ly"
       },
       "data": [
        {
         "marker": {
          "color": "rgb(220,20,60)",
          "size": 10,
          "symbol": "square-open"
         },
         "mode": "markers",
         "name": "NW Boise",
         "type": "scatter",
         "x": [
          "01",
          "02",
          "09",
          "12",
          "15",
          "18",
          "20",
          "21",
          "24",
          "28",
          "29",
          "30"
         ],
         "y": [
          0.20512159087241913,
          0.20202415393377984,
          0.15580723101335364,
          null,
          0.20297371252017204,
          0.17163317062771433,
          0.20723197604888455,
          0.19265518844715313,
          null,
          0.21006497116471967,
          0.1980678101943947,
          0.2194234637811191
         ]
        },
        {
         "marker": {
          "color": "rgb(0,128,128)",
          "size": 10,
          "symbol": "star-diamond-open"
         },
         "mode": "markers",
         "name": "Boise Bench",
         "type": "scatter",
         "x": [
          "01",
          "02",
          "09",
          "12",
          "15",
          "18",
          "20",
          "21",
          "24",
          "28",
          "29",
          "30"
         ],
         "y": [
          0.32229565012681455,
          0.2977798318315564,
          0.26285977724726195,
          null,
          0.2964887347404128,
          0.272514238926972,
          0.3368547084586827,
          0.3129320707425859,
          null,
          0.3083006612882456,
          0.3091620597574776,
          0.34116317866143864
         ]
        },
        {
         "marker": {
          "color": "rgb(0,0,128)",
          "size": 10,
          "symbol": "pentagon-open"
         },
         "mode": "markers",
         "name": "SE Boise",
         "type": "scatter",
         "x": [
          "01",
          "02",
          "09",
          "12",
          "15",
          "18",
          "20",
          "21",
          "24",
          "28",
          "29",
          "30"
         ],
         "y": [
          0.15165217623671404,
          0.1734840864835354,
          null,
          null,
          0.15737235712812978,
          0.1371784809545204,
          0.1697408477614244,
          0.14697773768881994,
          0.14220614099515813,
          0.17784203090063153,
          0.17361536502233788,
          0.1789425947447074
         ]
        },
        {
         "marker": {
          "color": "rgb(107,142,35)",
          "size": 10,
          "symbol": "star-open"
         },
         "mode": "markers",
         "name": "N Boise",
         "type": "scatter",
         "x": [
          "01",
          "02",
          "09",
          "12",
          "15",
          "18",
          "20",
          "21",
          "24",
          "28",
          "29",
          "30"
         ],
         "y": [
          0.14568582626853804,
          0.16123274910358384,
          0.14203870429727855,
          null,
          0.16107155863138956,
          null,
          0.1778548012365404,
          0.1672556839217225,
          0.14263095766200048,
          0.19851334669155937,
          0.20551528108839293,
          0.1750492026773702
         ]
        },
        {
         "marker": {
          "color": "rgb(199,21,133)",
          "size": 10,
          "symbol": "bowtie-open"
         },
         "mode": "markers",
         "name": "NE Boise",
         "type": "scatter",
         "x": [
          "01",
          "02",
          "09",
          "12",
          "15",
          "18",
          "20",
          "21",
          "24",
          "28",
          "29",
          "30"
         ],
         "y": [
          null,
          0.03192043949798312,
          0.026809437454825388,
          0.023057916262704235,
          0.028292428886185668,
          0.029265182343593755,
          0.031063975572862466,
          0.024672545434538812,
          null,
          0.02878594374273333,
          0.031774543826914844,
          0.03517291426907938
         ]
        },
        {
         "marker": {
          "color": "rgb(47,79,79)",
          "size": 10,
          "symbol": "circle-cross-open"
         },
         "mode": "markers",
         "name": "W Boise",
         "type": "scatter",
         "x": [
          "01",
          "02",
          "09",
          "12",
          "15",
          "18",
          "20",
          "21",
          "24",
          "28",
          "29",
          "30"
         ],
         "y": [
          0.29519200186127226,
          0.30411753621650506,
          null,
          null,
          0.27954755117672947,
          0.2583987627632459,
          0.30643098999833923,
          0.27529209359889817,
          0.23000235919516213,
          0.28374230141513573,
          0.27966548526962093,
          0.316576752139436
         ]
        },
        {
         "marker": {
          "color": "rgb(139,69,19)",
          "size": 10,
          "symbol": "triangle-nw-open"
         },
         "mode": "markers",
         "name": "SW Boise M",
         "type": "scatter",
         "x": [
          "01",
          "02",
          "09",
          "12",
          "15",
          "18",
          "20",
          "21",
          "24",
          "28",
          "29",
          "30"
         ],
         "y": [
          0.1504959753661697,
          0.19855952481727007,
          0.16073145051703916,
          null,
          0.15638199418159174,
          0.14752294027571,
          0.1861149105898015,
          0.1621694067401815,
          null,
          0.1476974534956342,
          0.15610206178053995,
          0.18751794041229808
         ]
        },
        {
         "marker": {
          "color": "rgb(255,140,0)",
          "size": 10,
          "symbol": "hourglass-open"
         },
         "mode": "markers",
         "name": "W Boise-Meridian",
         "type": "scatter",
         "x": [
          "01",
          "02",
          "09",
          "12",
          "15",
          "18",
          "20",
          "21",
          "24",
          "28",
          "29",
          "30"
         ],
         "y": [
          0.17200512497700174,
          0.1904964859912985,
          0.1682920275536081,
          null,
          0.1872697109980509,
          0.16916813917865597,
          0.19343996709316957,
          0.1889609160179004,
          null,
          0.19680433092148597,
          0.19205655325395457,
          0.21572484830063943
         ]
        },
        {
         "marker": {
          "color": "rgb(128,0,128)",
          "size": 10,
          "symbol": "diamond-tall-open"
         },
         "mode": "markers",
         "name": "SW Boise",
         "type": "scatter",
         "x": [
          "01",
          "02",
          "09",
          "12",
          "15",
          "18",
          "20",
          "21",
          "24",
          "28",
          "29",
          "30"
         ],
         "y": [
          0.22035769938390118,
          0.2100096397353598,
          0.17849278215008724,
          null,
          null,
          0.1861785956967291,
          0.2478144672058495,
          0.19438792897553028,
          0.1692682959775328,
          0.1989783959986223,
          0.1929026311951265,
          0.21577060714910704
         ]
        },
        {
         "line": {
          "color": "Black",
          "dash": "dot",
          "width": 1
         },
         "mode": "lines",
         "name": ">0.3 Moderate Linear Relationship",
         "type": "scatter",
         "x": [
          "01",
          "02",
          "09",
          "12",
          "15",
          "18",
          "20",
          "21",
          "24",
          "28",
          "29",
          "30"
         ],
         "y": [
          0.3,
          0.3,
          0.3,
          0.3,
          0.3,
          0.3,
          0.3,
          0.3,
          0.3,
          0.3,
          0.3,
          0.3
         ]
        }
       ],
       "layout": {
        "template": {
         "data": {
          "bar": [
           {
            "error_x": {
             "color": "#2a3f5f"
            },
            "error_y": {
             "color": "#2a3f5f"
            },
            "marker": {
             "line": {
              "color": "#E5ECF6",
              "width": 0.5
             }
            },
            "type": "bar"
           }
          ],
          "barpolar": [
           {
            "marker": {
             "line": {
              "color": "#E5ECF6",
              "width": 0.5
             }
            },
            "type": "barpolar"
           }
          ],
          "carpet": [
           {
            "aaxis": {
             "endlinecolor": "#2a3f5f",
             "gridcolor": "white",
             "linecolor": "white",
             "minorgridcolor": "white",
             "startlinecolor": "#2a3f5f"
            },
            "baxis": {
             "endlinecolor": "#2a3f5f",
             "gridcolor": "white",
             "linecolor": "white",
             "minorgridcolor": "white",
             "startlinecolor": "#2a3f5f"
            },
            "type": "carpet"
           }
          ],
          "choropleth": [
           {
            "colorbar": {
             "outlinewidth": 0,
             "ticks": ""
            },
            "type": "choropleth"
           }
          ],
          "contour": [
           {
            "colorbar": {
             "outlinewidth": 0,
             "ticks": ""
            },
            "colorscale": [
             [
              0,
              "#0d0887"
             ],
             [
              0.1111111111111111,
              "#46039f"
             ],
             [
              0.2222222222222222,
              "#7201a8"
             ],
             [
              0.3333333333333333,
              "#9c179e"
             ],
             [
              0.4444444444444444,
              "#bd3786"
             ],
             [
              0.5555555555555556,
              "#d8576b"
             ],
             [
              0.6666666666666666,
              "#ed7953"
             ],
             [
              0.7777777777777778,
              "#fb9f3a"
             ],
             [
              0.8888888888888888,
              "#fdca26"
             ],
             [
              1,
              "#f0f921"
             ]
            ],
            "type": "contour"
           }
          ],
          "contourcarpet": [
           {
            "colorbar": {
             "outlinewidth": 0,
             "ticks": ""
            },
            "type": "contourcarpet"
           }
          ],
          "heatmap": [
           {
            "colorbar": {
             "outlinewidth": 0,
             "ticks": ""
            },
            "colorscale": [
             [
              0,
              "#0d0887"
             ],
             [
              0.1111111111111111,
              "#46039f"
             ],
             [
              0.2222222222222222,
              "#7201a8"
             ],
             [
              0.3333333333333333,
              "#9c179e"
             ],
             [
              0.4444444444444444,
              "#bd3786"
             ],
             [
              0.5555555555555556,
              "#d8576b"
             ],
             [
              0.6666666666666666,
              "#ed7953"
             ],
             [
              0.7777777777777778,
              "#fb9f3a"
             ],
             [
              0.8888888888888888,
              "#fdca26"
             ],
             [
              1,
              "#f0f921"
             ]
            ],
            "type": "heatmap"
           }
          ],
          "heatmapgl": [
           {
            "colorbar": {
             "outlinewidth": 0,
             "ticks": ""
            },
            "colorscale": [
             [
              0,
              "#0d0887"
             ],
             [
              0.1111111111111111,
              "#46039f"
             ],
             [
              0.2222222222222222,
              "#7201a8"
             ],
             [
              0.3333333333333333,
              "#9c179e"
             ],
             [
              0.4444444444444444,
              "#bd3786"
             ],
             [
              0.5555555555555556,
              "#d8576b"
             ],
             [
              0.6666666666666666,
              "#ed7953"
             ],
             [
              0.7777777777777778,
              "#fb9f3a"
             ],
             [
              0.8888888888888888,
              "#fdca26"
             ],
             [
              1,
              "#f0f921"
             ]
            ],
            "type": "heatmapgl"
           }
          ],
          "histogram": [
           {
            "marker": {
             "colorbar": {
              "outlinewidth": 0,
              "ticks": ""
             }
            },
            "type": "histogram"
           }
          ],
          "histogram2d": [
           {
            "colorbar": {
             "outlinewidth": 0,
             "ticks": ""
            },
            "colorscale": [
             [
              0,
              "#0d0887"
             ],
             [
              0.1111111111111111,
              "#46039f"
             ],
             [
              0.2222222222222222,
              "#7201a8"
             ],
             [
              0.3333333333333333,
              "#9c179e"
             ],
             [
              0.4444444444444444,
              "#bd3786"
             ],
             [
              0.5555555555555556,
              "#d8576b"
             ],
             [
              0.6666666666666666,
              "#ed7953"
             ],
             [
              0.7777777777777778,
              "#fb9f3a"
             ],
             [
              0.8888888888888888,
              "#fdca26"
             ],
             [
              1,
              "#f0f921"
             ]
            ],
            "type": "histogram2d"
           }
          ],
          "histogram2dcontour": [
           {
            "colorbar": {
             "outlinewidth": 0,
             "ticks": ""
            },
            "colorscale": [
             [
              0,
              "#0d0887"
             ],
             [
              0.1111111111111111,
              "#46039f"
             ],
             [
              0.2222222222222222,
              "#7201a8"
             ],
             [
              0.3333333333333333,
              "#9c179e"
             ],
             [
              0.4444444444444444,
              "#bd3786"
             ],
             [
              0.5555555555555556,
              "#d8576b"
             ],
             [
              0.6666666666666666,
              "#ed7953"
             ],
             [
              0.7777777777777778,
              "#fb9f3a"
             ],
             [
              0.8888888888888888,
              "#fdca26"
             ],
             [
              1,
              "#f0f921"
             ]
            ],
            "type": "histogram2dcontour"
           }
          ],
          "mesh3d": [
           {
            "colorbar": {
             "outlinewidth": 0,
             "ticks": ""
            },
            "type": "mesh3d"
           }
          ],
          "parcoords": [
           {
            "line": {
             "colorbar": {
              "outlinewidth": 0,
              "ticks": ""
             }
            },
            "type": "parcoords"
           }
          ],
          "scatter": [
           {
            "marker": {
             "colorbar": {
              "outlinewidth": 0,
              "ticks": ""
             }
            },
            "type": "scatter"
           }
          ],
          "scatter3d": [
           {
            "line": {
             "colorbar": {
              "outlinewidth": 0,
              "ticks": ""
             }
            },
            "marker": {
             "colorbar": {
              "outlinewidth": 0,
              "ticks": ""
             }
            },
            "type": "scatter3d"
           }
          ],
          "scattercarpet": [
           {
            "marker": {
             "colorbar": {
              "outlinewidth": 0,
              "ticks": ""
             }
            },
            "type": "scattercarpet"
           }
          ],
          "scattergeo": [
           {
            "marker": {
             "colorbar": {
              "outlinewidth": 0,
              "ticks": ""
             }
            },
            "type": "scattergeo"
           }
          ],
          "scattergl": [
           {
            "marker": {
             "colorbar": {
              "outlinewidth": 0,
              "ticks": ""
             }
            },
            "type": "scattergl"
           }
          ],
          "scattermapbox": [
           {
            "marker": {
             "colorbar": {
              "outlinewidth": 0,
              "ticks": ""
             }
            },
            "type": "scattermapbox"
           }
          ],
          "scatterpolar": [
           {
            "marker": {
             "colorbar": {
              "outlinewidth": 0,
              "ticks": ""
             }
            },
            "type": "scatterpolar"
           }
          ],
          "scatterpolargl": [
           {
            "marker": {
             "colorbar": {
              "outlinewidth": 0,
              "ticks": ""
             }
            },
            "type": "scatterpolargl"
           }
          ],
          "scatterternary": [
           {
            "marker": {
             "colorbar": {
              "outlinewidth": 0,
              "ticks": ""
             }
            },
            "type": "scatterternary"
           }
          ],
          "surface": [
           {
            "colorbar": {
             "outlinewidth": 0,
             "ticks": ""
            },
            "colorscale": [
             [
              0,
              "#0d0887"
             ],
             [
              0.1111111111111111,
              "#46039f"
             ],
             [
              0.2222222222222222,
              "#7201a8"
             ],
             [
              0.3333333333333333,
              "#9c179e"
             ],
             [
              0.4444444444444444,
              "#bd3786"
             ],
             [
              0.5555555555555556,
              "#d8576b"
             ],
             [
              0.6666666666666666,
              "#ed7953"
             ],
             [
              0.7777777777777778,
              "#fb9f3a"
             ],
             [
              0.8888888888888888,
              "#fdca26"
             ],
             [
              1,
              "#f0f921"
             ]
            ],
            "type": "surface"
           }
          ],
          "table": [
           {
            "cells": {
             "fill": {
              "color": "#EBF0F8"
             },
             "line": {
              "color": "white"
             }
            },
            "header": {
             "fill": {
              "color": "#C8D4E3"
             },
             "line": {
              "color": "white"
             }
            },
            "type": "table"
           }
          ]
         },
         "layout": {
          "annotationdefaults": {
           "arrowcolor": "#2a3f5f",
           "arrowhead": 0,
           "arrowwidth": 1
          },
          "colorscale": {
           "diverging": [
            [
             0,
             "#8e0152"
            ],
            [
             0.1,
             "#c51b7d"
            ],
            [
             0.2,
             "#de77ae"
            ],
            [
             0.3,
             "#f1b6da"
            ],
            [
             0.4,
             "#fde0ef"
            ],
            [
             0.5,
             "#f7f7f7"
            ],
            [
             0.6,
             "#e6f5d0"
            ],
            [
             0.7,
             "#b8e186"
            ],
            [
             0.8,
             "#7fbc41"
            ],
            [
             0.9,
             "#4d9221"
            ],
            [
             1,
             "#276419"
            ]
           ],
           "sequential": [
            [
             0,
             "#0d0887"
            ],
            [
             0.1111111111111111,
             "#46039f"
            ],
            [
             0.2222222222222222,
             "#7201a8"
            ],
            [
             0.3333333333333333,
             "#9c179e"
            ],
            [
             0.4444444444444444,
             "#bd3786"
            ],
            [
             0.5555555555555556,
             "#d8576b"
            ],
            [
             0.6666666666666666,
             "#ed7953"
            ],
            [
             0.7777777777777778,
             "#fb9f3a"
            ],
            [
             0.8888888888888888,
             "#fdca26"
            ],
            [
             1,
             "#f0f921"
            ]
           ],
           "sequentialminus": [
            [
             0,
             "#0d0887"
            ],
            [
             0.1111111111111111,
             "#46039f"
            ],
            [
             0.2222222222222222,
             "#7201a8"
            ],
            [
             0.3333333333333333,
             "#9c179e"
            ],
            [
             0.4444444444444444,
             "#bd3786"
            ],
            [
             0.5555555555555556,
             "#d8576b"
            ],
            [
             0.6666666666666666,
             "#ed7953"
            ],
            [
             0.7777777777777778,
             "#fb9f3a"
            ],
            [
             0.8888888888888888,
             "#fdca26"
            ],
            [
             1,
             "#f0f921"
            ]
           ]
          },
          "colorway": [
           "#636efa",
           "#EF553B",
           "#00cc96",
           "#ab63fa",
           "#FFA15A",
           "#19d3f3",
           "#FF6692",
           "#B6E880",
           "#FF97FF",
           "#FECB52"
          ],
          "font": {
           "color": "#2a3f5f"
          },
          "geo": {
           "bgcolor": "white",
           "lakecolor": "white",
           "landcolor": "#E5ECF6",
           "showlakes": true,
           "showland": true,
           "subunitcolor": "white"
          },
          "hoverlabel": {
           "align": "left"
          },
          "hovermode": "closest",
          "mapbox": {
           "style": "light"
          },
          "paper_bgcolor": "white",
          "plot_bgcolor": "#E5ECF6",
          "polar": {
           "angularaxis": {
            "gridcolor": "white",
            "linecolor": "white",
            "ticks": ""
           },
           "bgcolor": "#E5ECF6",
           "radialaxis": {
            "gridcolor": "white",
            "linecolor": "white",
            "ticks": ""
           }
          },
          "scene": {
           "xaxis": {
            "backgroundcolor": "#E5ECF6",
            "gridcolor": "white",
            "gridwidth": 2,
            "linecolor": "white",
            "showbackground": true,
            "ticks": "",
            "zerolinecolor": "white"
           },
           "yaxis": {
            "backgroundcolor": "#E5ECF6",
            "gridcolor": "white",
            "gridwidth": 2,
            "linecolor": "white",
            "showbackground": true,
            "ticks": "",
            "zerolinecolor": "white"
           },
           "zaxis": {
            "backgroundcolor": "#E5ECF6",
            "gridcolor": "white",
            "gridwidth": 2,
            "linecolor": "white",
            "showbackground": true,
            "ticks": "",
            "zerolinecolor": "white"
           }
          },
          "shapedefaults": {
           "line": {
            "color": "#2a3f5f"
           }
          },
          "ternary": {
           "aaxis": {
            "gridcolor": "white",
            "linecolor": "white",
            "ticks": ""
           },
           "baxis": {
            "gridcolor": "white",
            "linecolor": "white",
            "ticks": ""
           },
           "bgcolor": "#E5ECF6",
           "caxis": {
            "gridcolor": "white",
            "linecolor": "white",
            "ticks": ""
           }
          },
          "title": {
           "x": 0.05
          },
          "xaxis": {
           "automargin": true,
           "gridcolor": "white",
           "linecolor": "white",
           "ticks": "",
           "zerolinecolor": "white",
           "zerolinewidth": 2
          },
          "yaxis": {
           "automargin": true,
           "gridcolor": "white",
           "linecolor": "white",
           "ticks": "",
           "zerolinecolor": "white",
           "zerolinewidth": 2
          }
         }
        },
        "title": {
         "font": {
          "family": "Times New Roman"
         },
         "text": "<b>Correlation Coefficients for the MLS Areas of Boise<b>",
         "x": 0.5,
         "xref": "paper"
        },
        "xaxis": {
         "title": {
          "font": {
           "family": "Times New Roman",
           "size": 16
          },
          "text": "<b>Feature Key<b>"
         },
         "type": "category"
        },
        "yaxis": {
         "title": {
          "font": {
           "family": "Times New Roman",
           "size": 16
          },
          "text": "<b>Correlation Coefficient<b>"
         }
        }
       }
      },
      "text/html": [
       "<div>\n",
       "        \n",
       "        \n",
       "            <div id=\"dfbb8537-5ccc-4c57-9ad9-62b7128514ea\" class=\"plotly-graph-div\" style=\"height:525px; width:100%;\"></div>\n",
       "            <script type=\"text/javascript\">\n",
       "                require([\"plotly\"], function(Plotly) {\n",
       "                    window.PLOTLYENV=window.PLOTLYENV || {};\n",
       "                    \n",
       "                if (document.getElementById(\"dfbb8537-5ccc-4c57-9ad9-62b7128514ea\")) {\n",
       "                    Plotly.newPlot(\n",
       "                        'dfbb8537-5ccc-4c57-9ad9-62b7128514ea',\n",
       "                        [{\"marker\": {\"color\": \"rgb(220,20,60)\", \"size\": 10, \"symbol\": \"square-open\"}, \"mode\": \"markers\", \"name\": \"NW Boise\", \"type\": \"scatter\", \"x\": [\"01\", \"02\", \"09\", \"12\", \"15\", \"18\", \"20\", \"21\", \"24\", \"28\", \"29\", \"30\"], \"y\": [0.20512159087241913, 0.20202415393377984, 0.15580723101335364, null, 0.20297371252017204, 0.17163317062771433, 0.20723197604888455, 0.19265518844715313, null, 0.21006497116471967, 0.1980678101943947, 0.2194234637811191]}, {\"marker\": {\"color\": \"rgb(0,128,128)\", \"size\": 10, \"symbol\": \"star-diamond-open\"}, \"mode\": \"markers\", \"name\": \"Boise Bench\", \"type\": \"scatter\", \"x\": [\"01\", \"02\", \"09\", \"12\", \"15\", \"18\", \"20\", \"21\", \"24\", \"28\", \"29\", \"30\"], \"y\": [0.32229565012681455, 0.2977798318315564, 0.26285977724726195, null, 0.2964887347404128, 0.272514238926972, 0.3368547084586827, 0.3129320707425859, null, 0.3083006612882456, 0.3091620597574776, 0.34116317866143864]}, {\"marker\": {\"color\": \"rgb(0,0,128)\", \"size\": 10, \"symbol\": \"pentagon-open\"}, \"mode\": \"markers\", \"name\": \"SE Boise\", \"type\": \"scatter\", \"x\": [\"01\", \"02\", \"09\", \"12\", \"15\", \"18\", \"20\", \"21\", \"24\", \"28\", \"29\", \"30\"], \"y\": [0.15165217623671404, 0.1734840864835354, null, null, 0.15737235712812978, 0.1371784809545204, 0.1697408477614244, 0.14697773768881994, 0.14220614099515813, 0.17784203090063153, 0.17361536502233788, 0.1789425947447074]}, {\"marker\": {\"color\": \"rgb(107,142,35)\", \"size\": 10, \"symbol\": \"star-open\"}, \"mode\": \"markers\", \"name\": \"N Boise\", \"type\": \"scatter\", \"x\": [\"01\", \"02\", \"09\", \"12\", \"15\", \"18\", \"20\", \"21\", \"24\", \"28\", \"29\", \"30\"], \"y\": [0.14568582626853804, 0.16123274910358384, 0.14203870429727855, null, 0.16107155863138956, null, 0.1778548012365404, 0.1672556839217225, 0.14263095766200048, 0.19851334669155937, 0.20551528108839293, 0.1750492026773702]}, {\"marker\": {\"color\": \"rgb(199,21,133)\", \"size\": 10, \"symbol\": \"bowtie-open\"}, \"mode\": \"markers\", \"name\": \"NE Boise\", \"type\": \"scatter\", \"x\": [\"01\", \"02\", \"09\", \"12\", \"15\", \"18\", \"20\", \"21\", \"24\", \"28\", \"29\", \"30\"], \"y\": [null, 0.03192043949798312, 0.026809437454825388, 0.023057916262704235, 0.028292428886185668, 0.029265182343593755, 0.031063975572862466, 0.024672545434538812, null, 0.02878594374273333, 0.031774543826914844, 0.03517291426907938]}, {\"marker\": {\"color\": \"rgb(47,79,79)\", \"size\": 10, \"symbol\": \"circle-cross-open\"}, \"mode\": \"markers\", \"name\": \"W Boise\", \"type\": \"scatter\", \"x\": [\"01\", \"02\", \"09\", \"12\", \"15\", \"18\", \"20\", \"21\", \"24\", \"28\", \"29\", \"30\"], \"y\": [0.29519200186127226, 0.30411753621650506, null, null, 0.27954755117672947, 0.2583987627632459, 0.30643098999833923, 0.27529209359889817, 0.23000235919516213, 0.28374230141513573, 0.27966548526962093, 0.316576752139436]}, {\"marker\": {\"color\": \"rgb(139,69,19)\", \"size\": 10, \"symbol\": \"triangle-nw-open\"}, \"mode\": \"markers\", \"name\": \"SW Boise M\", \"type\": \"scatter\", \"x\": [\"01\", \"02\", \"09\", \"12\", \"15\", \"18\", \"20\", \"21\", \"24\", \"28\", \"29\", \"30\"], \"y\": [0.1504959753661697, 0.19855952481727007, 0.16073145051703916, null, 0.15638199418159174, 0.14752294027571, 0.1861149105898015, 0.1621694067401815, null, 0.1476974534956342, 0.15610206178053995, 0.18751794041229808]}, {\"marker\": {\"color\": \"rgb(255,140,0)\", \"size\": 10, \"symbol\": \"hourglass-open\"}, \"mode\": \"markers\", \"name\": \"W Boise-Meridian\", \"type\": \"scatter\", \"x\": [\"01\", \"02\", \"09\", \"12\", \"15\", \"18\", \"20\", \"21\", \"24\", \"28\", \"29\", \"30\"], \"y\": [0.17200512497700174, 0.1904964859912985, 0.1682920275536081, null, 0.1872697109980509, 0.16916813917865597, 0.19343996709316957, 0.1889609160179004, null, 0.19680433092148597, 0.19205655325395457, 0.21572484830063943]}, {\"marker\": {\"color\": \"rgb(128,0,128)\", \"size\": 10, \"symbol\": \"diamond-tall-open\"}, \"mode\": \"markers\", \"name\": \"SW Boise\", \"type\": \"scatter\", \"x\": [\"01\", \"02\", \"09\", \"12\", \"15\", \"18\", \"20\", \"21\", \"24\", \"28\", \"29\", \"30\"], \"y\": [0.22035769938390118, 0.2100096397353598, 0.17849278215008724, null, null, 0.1861785956967291, 0.2478144672058495, 0.19438792897553028, 0.1692682959775328, 0.1989783959986223, 0.1929026311951265, 0.21577060714910704]}, {\"line\": {\"color\": \"Black\", \"dash\": \"dot\", \"width\": 1}, \"mode\": \"lines\", \"name\": \">0.3 Moderate Linear Relationship\", \"type\": \"scatter\", \"x\": [\"01\", \"02\", \"09\", \"12\", \"15\", \"18\", \"20\", \"21\", \"24\", \"28\", \"29\", \"30\"], \"y\": [0.3, 0.3, 0.3, 0.3, 0.3, 0.3, 0.3, 0.3, 0.3, 0.3, 0.3, 0.3]}],\n",
       "                        {\"template\": {\"data\": {\"bar\": [{\"error_x\": {\"color\": \"#2a3f5f\"}, \"error_y\": {\"color\": \"#2a3f5f\"}, \"marker\": {\"line\": {\"color\": \"#E5ECF6\", \"width\": 0.5}}, \"type\": \"bar\"}], \"barpolar\": [{\"marker\": {\"line\": {\"color\": \"#E5ECF6\", \"width\": 0.5}}, \"type\": \"barpolar\"}], \"carpet\": [{\"aaxis\": {\"endlinecolor\": \"#2a3f5f\", \"gridcolor\": \"white\", \"linecolor\": \"white\", \"minorgridcolor\": \"white\", \"startlinecolor\": \"#2a3f5f\"}, \"baxis\": {\"endlinecolor\": \"#2a3f5f\", \"gridcolor\": \"white\", \"linecolor\": \"white\", \"minorgridcolor\": \"white\", \"startlinecolor\": \"#2a3f5f\"}, \"type\": \"carpet\"}], \"choropleth\": [{\"colorbar\": {\"outlinewidth\": 0, \"ticks\": \"\"}, \"type\": \"choropleth\"}], \"contour\": [{\"colorbar\": {\"outlinewidth\": 0, \"ticks\": \"\"}, \"colorscale\": [[0.0, \"#0d0887\"], [0.1111111111111111, \"#46039f\"], [0.2222222222222222, \"#7201a8\"], [0.3333333333333333, \"#9c179e\"], [0.4444444444444444, \"#bd3786\"], [0.5555555555555556, \"#d8576b\"], [0.6666666666666666, \"#ed7953\"], [0.7777777777777778, \"#fb9f3a\"], [0.8888888888888888, \"#fdca26\"], [1.0, \"#f0f921\"]], \"type\": \"contour\"}], \"contourcarpet\": [{\"colorbar\": {\"outlinewidth\": 0, \"ticks\": \"\"}, \"type\": \"contourcarpet\"}], \"heatmap\": [{\"colorbar\": {\"outlinewidth\": 0, \"ticks\": \"\"}, \"colorscale\": [[0.0, \"#0d0887\"], [0.1111111111111111, \"#46039f\"], [0.2222222222222222, \"#7201a8\"], [0.3333333333333333, \"#9c179e\"], [0.4444444444444444, \"#bd3786\"], [0.5555555555555556, \"#d8576b\"], [0.6666666666666666, \"#ed7953\"], [0.7777777777777778, \"#fb9f3a\"], [0.8888888888888888, \"#fdca26\"], [1.0, \"#f0f921\"]], \"type\": \"heatmap\"}], \"heatmapgl\": [{\"colorbar\": {\"outlinewidth\": 0, \"ticks\": \"\"}, \"colorscale\": [[0.0, \"#0d0887\"], [0.1111111111111111, \"#46039f\"], [0.2222222222222222, \"#7201a8\"], [0.3333333333333333, \"#9c179e\"], [0.4444444444444444, \"#bd3786\"], [0.5555555555555556, \"#d8576b\"], [0.6666666666666666, \"#ed7953\"], [0.7777777777777778, \"#fb9f3a\"], [0.8888888888888888, \"#fdca26\"], [1.0, \"#f0f921\"]], \"type\": \"heatmapgl\"}], \"histogram\": [{\"marker\": {\"colorbar\": {\"outlinewidth\": 0, \"ticks\": \"\"}}, \"type\": \"histogram\"}], \"histogram2d\": [{\"colorbar\": {\"outlinewidth\": 0, \"ticks\": \"\"}, \"colorscale\": [[0.0, \"#0d0887\"], [0.1111111111111111, \"#46039f\"], [0.2222222222222222, \"#7201a8\"], [0.3333333333333333, \"#9c179e\"], [0.4444444444444444, \"#bd3786\"], [0.5555555555555556, \"#d8576b\"], [0.6666666666666666, \"#ed7953\"], [0.7777777777777778, \"#fb9f3a\"], [0.8888888888888888, \"#fdca26\"], [1.0, \"#f0f921\"]], \"type\": \"histogram2d\"}], \"histogram2dcontour\": [{\"colorbar\": {\"outlinewidth\": 0, \"ticks\": \"\"}, \"colorscale\": [[0.0, \"#0d0887\"], [0.1111111111111111, \"#46039f\"], [0.2222222222222222, \"#7201a8\"], [0.3333333333333333, \"#9c179e\"], [0.4444444444444444, \"#bd3786\"], [0.5555555555555556, \"#d8576b\"], [0.6666666666666666, \"#ed7953\"], [0.7777777777777778, \"#fb9f3a\"], [0.8888888888888888, \"#fdca26\"], [1.0, \"#f0f921\"]], \"type\": \"histogram2dcontour\"}], \"mesh3d\": [{\"colorbar\": {\"outlinewidth\": 0, \"ticks\": \"\"}, \"type\": \"mesh3d\"}], \"parcoords\": [{\"line\": {\"colorbar\": {\"outlinewidth\": 0, \"ticks\": \"\"}}, \"type\": \"parcoords\"}], \"scatter\": [{\"marker\": {\"colorbar\": {\"outlinewidth\": 0, \"ticks\": \"\"}}, \"type\": \"scatter\"}], \"scatter3d\": [{\"line\": {\"colorbar\": {\"outlinewidth\": 0, \"ticks\": \"\"}}, \"marker\": {\"colorbar\": {\"outlinewidth\": 0, \"ticks\": \"\"}}, \"type\": \"scatter3d\"}], \"scattercarpet\": [{\"marker\": {\"colorbar\": {\"outlinewidth\": 0, \"ticks\": \"\"}}, \"type\": \"scattercarpet\"}], \"scattergeo\": [{\"marker\": {\"colorbar\": {\"outlinewidth\": 0, \"ticks\": \"\"}}, \"type\": \"scattergeo\"}], \"scattergl\": [{\"marker\": {\"colorbar\": {\"outlinewidth\": 0, \"ticks\": \"\"}}, \"type\": \"scattergl\"}], \"scattermapbox\": [{\"marker\": {\"colorbar\": {\"outlinewidth\": 0, \"ticks\": \"\"}}, \"type\": \"scattermapbox\"}], \"scatterpolar\": [{\"marker\": {\"colorbar\": {\"outlinewidth\": 0, \"ticks\": \"\"}}, \"type\": \"scatterpolar\"}], \"scatterpolargl\": [{\"marker\": {\"colorbar\": {\"outlinewidth\": 0, \"ticks\": \"\"}}, \"type\": \"scatterpolargl\"}], \"scatterternary\": [{\"marker\": {\"colorbar\": {\"outlinewidth\": 0, \"ticks\": \"\"}}, \"type\": \"scatterternary\"}], \"surface\": [{\"colorbar\": {\"outlinewidth\": 0, \"ticks\": \"\"}, \"colorscale\": [[0.0, \"#0d0887\"], [0.1111111111111111, \"#46039f\"], [0.2222222222222222, \"#7201a8\"], [0.3333333333333333, \"#9c179e\"], [0.4444444444444444, \"#bd3786\"], [0.5555555555555556, \"#d8576b\"], [0.6666666666666666, \"#ed7953\"], [0.7777777777777778, \"#fb9f3a\"], [0.8888888888888888, \"#fdca26\"], [1.0, \"#f0f921\"]], \"type\": \"surface\"}], \"table\": [{\"cells\": {\"fill\": {\"color\": \"#EBF0F8\"}, \"line\": {\"color\": \"white\"}}, \"header\": {\"fill\": {\"color\": \"#C8D4E3\"}, \"line\": {\"color\": \"white\"}}, \"type\": \"table\"}]}, \"layout\": {\"annotationdefaults\": {\"arrowcolor\": \"#2a3f5f\", \"arrowhead\": 0, \"arrowwidth\": 1}, \"colorscale\": {\"diverging\": [[0, \"#8e0152\"], [0.1, \"#c51b7d\"], [0.2, \"#de77ae\"], [0.3, \"#f1b6da\"], [0.4, \"#fde0ef\"], [0.5, \"#f7f7f7\"], [0.6, \"#e6f5d0\"], [0.7, \"#b8e186\"], [0.8, \"#7fbc41\"], [0.9, \"#4d9221\"], [1, \"#276419\"]], \"sequential\": [[0.0, \"#0d0887\"], [0.1111111111111111, \"#46039f\"], [0.2222222222222222, \"#7201a8\"], [0.3333333333333333, \"#9c179e\"], [0.4444444444444444, \"#bd3786\"], [0.5555555555555556, \"#d8576b\"], [0.6666666666666666, \"#ed7953\"], [0.7777777777777778, \"#fb9f3a\"], [0.8888888888888888, \"#fdca26\"], [1.0, \"#f0f921\"]], \"sequentialminus\": [[0.0, \"#0d0887\"], [0.1111111111111111, \"#46039f\"], [0.2222222222222222, \"#7201a8\"], [0.3333333333333333, \"#9c179e\"], [0.4444444444444444, \"#bd3786\"], [0.5555555555555556, \"#d8576b\"], [0.6666666666666666, \"#ed7953\"], [0.7777777777777778, \"#fb9f3a\"], [0.8888888888888888, \"#fdca26\"], [1.0, \"#f0f921\"]]}, \"colorway\": [\"#636efa\", \"#EF553B\", \"#00cc96\", \"#ab63fa\", \"#FFA15A\", \"#19d3f3\", \"#FF6692\", \"#B6E880\", \"#FF97FF\", \"#FECB52\"], \"font\": {\"color\": \"#2a3f5f\"}, \"geo\": {\"bgcolor\": \"white\", \"lakecolor\": \"white\", \"landcolor\": \"#E5ECF6\", \"showlakes\": true, \"showland\": true, \"subunitcolor\": \"white\"}, \"hoverlabel\": {\"align\": \"left\"}, \"hovermode\": \"closest\", \"mapbox\": {\"style\": \"light\"}, \"paper_bgcolor\": \"white\", \"plot_bgcolor\": \"#E5ECF6\", \"polar\": {\"angularaxis\": {\"gridcolor\": \"white\", \"linecolor\": \"white\", \"ticks\": \"\"}, \"bgcolor\": \"#E5ECF6\", \"radialaxis\": {\"gridcolor\": \"white\", \"linecolor\": \"white\", \"ticks\": \"\"}}, \"scene\": {\"xaxis\": {\"backgroundcolor\": \"#E5ECF6\", \"gridcolor\": \"white\", \"gridwidth\": 2, \"linecolor\": \"white\", \"showbackground\": true, \"ticks\": \"\", \"zerolinecolor\": \"white\"}, \"yaxis\": {\"backgroundcolor\": \"#E5ECF6\", \"gridcolor\": \"white\", \"gridwidth\": 2, \"linecolor\": \"white\", \"showbackground\": true, \"ticks\": \"\", \"zerolinecolor\": \"white\"}, \"zaxis\": {\"backgroundcolor\": \"#E5ECF6\", \"gridcolor\": \"white\", \"gridwidth\": 2, \"linecolor\": \"white\", \"showbackground\": true, \"ticks\": \"\", \"zerolinecolor\": \"white\"}}, \"shapedefaults\": {\"line\": {\"color\": \"#2a3f5f\"}}, \"ternary\": {\"aaxis\": {\"gridcolor\": \"white\", \"linecolor\": \"white\", \"ticks\": \"\"}, \"baxis\": {\"gridcolor\": \"white\", \"linecolor\": \"white\", \"ticks\": \"\"}, \"bgcolor\": \"#E5ECF6\", \"caxis\": {\"gridcolor\": \"white\", \"linecolor\": \"white\", \"ticks\": \"\"}}, \"title\": {\"x\": 0.05}, \"xaxis\": {\"automargin\": true, \"gridcolor\": \"white\", \"linecolor\": \"white\", \"ticks\": \"\", \"zerolinecolor\": \"white\", \"zerolinewidth\": 2}, \"yaxis\": {\"automargin\": true, \"gridcolor\": \"white\", \"linecolor\": \"white\", \"ticks\": \"\", \"zerolinecolor\": \"white\", \"zerolinewidth\": 2}}}, \"title\": {\"font\": {\"family\": \"Times New Roman\"}, \"text\": \"<b>Correlation Coefficients for the MLS Areas of Boise<b>\", \"x\": 0.5, \"xref\": \"paper\"}, \"xaxis\": {\"title\": {\"font\": {\"family\": \"Times New Roman\", \"size\": 16}, \"text\": \"<b>Feature Key<b>\"}, \"type\": \"category\"}, \"yaxis\": {\"title\": {\"font\": {\"family\": \"Times New Roman\", \"size\": 16}, \"text\": \"<b>Correlation Coefficient<b>\"}}},\n",
       "                        {\"responsive\": true}\n",
       "                    ).then(function(){\n",
       "                            \n",
       "var gd = document.getElementById('dfbb8537-5ccc-4c57-9ad9-62b7128514ea');\n",
       "var x = new MutationObserver(function (mutations, observer) {{\n",
       "        var display = window.getComputedStyle(gd).display;\n",
       "        if (!display || display === 'none') {{\n",
       "            console.log([gd, 'removed!']);\n",
       "            Plotly.purge(gd);\n",
       "            observer.disconnect();\n",
       "        }}\n",
       "}});\n",
       "\n",
       "// Listen for the removal of the full notebook cells\n",
       "var notebookContainer = gd.closest('#notebook-container');\n",
       "if (notebookContainer) {{\n",
       "    x.observe(notebookContainer, {childList: true});\n",
       "}}\n",
       "\n",
       "// Listen for the clearing of the current output cell\n",
       "var outputEl = gd.closest('.output');\n",
       "if (outputEl) {{\n",
       "    x.observe(outputEl, {childList: true});\n",
       "}}\n",
       "\n",
       "                        })\n",
       "                };\n",
       "                });\n",
       "            </script>\n",
       "        </div>"
      ]
     },
     "metadata": {},
     "output_type": "display_data"
    }
   ],
   "source": [
    "df = pd.read_pickle('a-Coeff-compare.pkl')\n",
    "\n",
    "# drops rows up to TAV_Ch, below TAV_Ch = 0 and TAV_Ch = 1 \n",
    "df = df.iloc[9:]\n",
    "\n",
    "# Needed to make a key for ease a readability and to make the reference line for moderate linear \n",
    "# relationship\n",
    "df= df.rename(columns = {'index' : 'Feature_Name'})\n",
    "df['index'] = ['00','01','02','03','04','05','06','07','08','09','10','11','12','13','14',\n",
    "             '15','16','17','18','19','20','21','22','23','24','25','26','27','28','29','30']\n",
    "df['ref_line'] = .3\n",
    "\n",
    "\n",
    "#this will drop rows that have less than 4 values (feature name, key, ref line, & @ least 1 value)\n",
    "df = df.dropna(thresh = 4)\n",
    "\n",
    "\n",
    "area_fig = go.Figure()\n",
    "\n",
    "area_fig.add_trace(go.Scatter(x= df['index'], y=df['NW_Boise_GC'],\n",
    "                    mode='markers',\n",
    "                    marker_color = 'rgb(220,20,60)',\n",
    "                    marker=dict(size= 10, symbol = \"square-open\"),          \n",
    "                    name='NW Boise'))\n",
    "\n",
    "area_fig.add_trace(go.Scatter(x= df['index'], y=df['B_Bench'],\n",
    "                    mode='markers',\n",
    "                    marker_color = 'rgb(0,128,128)',\n",
    "                    marker=dict(size= 10, symbol = \"star-diamond-open\"), \n",
    "                    name='Boise Bench'))\n",
    "\n",
    "area_fig.add_trace(go.Scatter(x= df['index'], y=df['SE_Boise'],\n",
    "                    mode='markers',\n",
    "                    marker_color = 'rgb(0,0,128)',\n",
    "                    marker=dict(size= 10, symbol = \"pentagon-open\"),          \n",
    "                    name='SE Boise'))\n",
    "\n",
    "area_fig.add_trace(go.Scatter(x= df['index'], y=df['N_Boise'],\n",
    "                    mode='markers',\n",
    "                    marker_color = 'rgb(107,142,35)',\n",
    "                    marker=dict(size= 10, symbol = \"star-open\"),          \n",
    "                    name='N Boise'))\n",
    "\n",
    "area_fig.add_trace(go.Scatter(x= df['index'], y=df['NE_Boise'],\n",
    "                    mode='markers',\n",
    "                    marker_color = 'rgb(199,21,133)',\n",
    "                    marker=dict(size= 10, symbol = \"bowtie-open\"),           \n",
    "                    name='NE Boise'))\n",
    "\n",
    "area_fig.add_trace(go.Scatter(x= df['index'], y=df['W_Boise'],\n",
    "                    mode='markers',\n",
    "                    marker_color = 'rgb(47,79,79)',\n",
    "                    marker=dict(size= 10, symbol = \"circle-cross-open\"),          \n",
    "                    name='W Boise'))\n",
    "\n",
    "area_fig.add_trace(go.Scatter(x= df['index'], y=df['SW_Boise_M'],\n",
    "                    mode='markers',\n",
    "                    marker_color = 'rgb(139,69,19)',\n",
    "                    marker=dict(size= 10, symbol = \"triangle-nw-open\"),          \n",
    "                    name='SW Boise M'))\n",
    "\n",
    "area_fig.add_trace(go.Scatter(x= df['index'], y=df['W_Boise_M'],\n",
    "                    mode='markers',\n",
    "                    marker_color = 'rgb(255,140,0)',\n",
    "                    marker=dict(size= 10, symbol = \"hourglass-open\"),          \n",
    "                    name='W Boise-Meridian'))\n",
    "\n",
    "area_fig.add_trace(go.Scatter(x= df['index'], y=df['SW_Boise'],\n",
    "                    mode='markers',\n",
    "                    marker_color = 'rgb(128,0,128)',\n",
    "                    marker=dict(size= 10, symbol = \"diamond-tall-open\"),           \n",
    "                    name='SW Boise'))\n",
    "\n",
    "\n",
    "area_fig.add_trace(go.Scatter(x= df['index'] , y=df['ref_line'],\n",
    "                    mode = 'lines',          \n",
    "                    line = dict(color='Black', width=1, dash='dot'),          \n",
    "                    name='>0.3 Moderate Linear Relationship'))\n",
    "\n",
    "area_fig.update_layout(\n",
    "    title=go.layout.Title(\n",
    "        text=\"<b>Correlation Coefficients for the MLS Areas of Boise<b>\",\n",
    "        font = dict( \n",
    "            family = 'Times New Roman'),\n",
    "        xref=\"paper\",\n",
    "        x=.5\n",
    "    ),\n",
    "    yaxis=go.layout.YAxis(\n",
    "        title=go.layout.yaxis.Title(\n",
    "            text=\"<b>Correlation Coefficient<b>\",\n",
    "            font=dict(\n",
    "                family=\"Times New Roman\",\n",
    "                size=16,\n",
    "#                color=\"#7f7f7f\"\n",
    "            )\n",
    "        )\n",
    "    ),\n",
    "    xaxis=go.layout.XAxis(\n",
    "        type = 'category',\n",
    "        title=go.layout.xaxis.Title(\n",
    "            text=\"<b>Feature Key<b>\",\n",
    "            font=dict(\n",
    "                family=\"Times New Roman\",\n",
    "                size=16,\n",
    "#                color=\"#7f7f7f\"\n",
    "            )\n",
    "        )\n",
    "    ))\n",
    "\n",
    "\n",
    "area_fig.write_image(\"images/Area_fig.jpg\")\n",
    "area_fig.show()\n",
    "\n"
   ]
  },
  {
   "cell_type": "code",
   "execution_count": null,
   "metadata": {},
   "outputs": [],
   "source": []
  },
  {
   "cell_type": "markdown",
   "metadata": {},
   "source": [
    "# do this for area https://plot.ly/python/splom/"
   ]
  },
  {
   "cell_type": "code",
   "execution_count": null,
   "metadata": {},
   "outputs": [],
   "source": []
  },
  {
   "cell_type": "markdown",
   "metadata": {},
   "source": [
    "# Area-Neighborhood Correlation Coefficient Comparison"
   ]
  },
  {
   "cell_type": "code",
   "execution_count": null,
   "metadata": {},
   "outputs": [],
   "source": [
    "df = pd.read_pickle('WB-Coeff-compare.pkl')\n",
    "df2 = pd.read_pickle('a-Coeff-compare.pkl')\n",
    "\n",
    "\n",
    "df = pd.merge(df,df2, on = 'index', how = 'outer')\n",
    "\n",
    "df = df.dropna(thresh = 2)\n",
    "df = df.reset_index(drop = True)\n",
    "\n",
    "df = df.iloc[1:]\n",
    "#df"
   ]
  },
  {
   "cell_type": "markdown",
   "metadata": {},
   "source": [
    "## West Boise"
   ]
  },
  {
   "cell_type": "code",
   "execution_count": 87,
   "metadata": {},
   "outputs": [
    {
     "data": {
      "application/vnd.plotly.v1+json": {
       "config": {
        "plotlyServerURL": "https://plot.ly"
       },
       "data": [
        {
         "marker": {
          "color": "rgba(47, 79, 79, .8)",
          "size": 12,
          "symbol": "circle-cross-open"
         },
         "mode": "markers",
         "name": "West Boise Area",
         "type": "scatter",
         "x": [
          "01",
          "02",
          "09",
          "12",
          "15",
          "18",
          "20",
          "21",
          "22",
          "24",
          "28",
          "29",
          "30"
         ],
         "y": [
          0.29519200186127226,
          0.30411753621650506,
          null,
          null,
          0.27954755117672947,
          0.2583987627632459,
          0.30643098999833923,
          0.27529209359889817,
          null,
          0.23000235919516213,
          0.28374230141513573,
          0.27966548526962093,
          0.316576752139436
         ]
        },
        {
         "marker": {
          "color": "rgb(0,0,0)"
         },
         "mode": "markers",
         "name": "North Central Bench",
         "type": "scatter",
         "x": [
          "01",
          "02",
          "09",
          "12",
          "15",
          "18",
          "20",
          "21",
          "22",
          "24",
          "28",
          "29",
          "30"
         ],
         "y": [
          0.3408121044231221,
          0.3548843351248777,
          null,
          null,
          0.32682710046024566,
          0.27693482791430296,
          0.33846103026694313,
          0.30448338203427067,
          null,
          0.2648112033369074,
          0.331082769540031,
          0.32280932451287464,
          0.35228166387112725
         ]
        },
        {
         "marker": {
          "color": "rgb(119,136,153)"
         },
         "mode": "markers",
         "name": "West Boise",
         "type": "scatter",
         "x": [
          "01",
          "02",
          "09",
          "12",
          "15",
          "18",
          "20",
          "21",
          "22",
          "24",
          "28",
          "29",
          "30"
         ],
         "y": [
          0.24468380177026633,
          0.254660107404812,
          0.20168504612852323,
          null,
          0.256964806303417,
          0.2545880288233967,
          0.2957744537833685,
          0.270868901743769,
          null,
          null,
          0.26258627554212394,
          0.26267802611001534,
          0.2994889214537766
         ]
        },
        {
         "marker": {
          "color": "rgb(169,169,169)"
         },
         "mode": "markers",
         "name": "West B. Freeway Cor.",
         "type": "scatter",
         "x": [
          "01",
          "02",
          "09",
          "12",
          "15",
          "18",
          "20",
          "21",
          "22",
          "24",
          "28",
          "29",
          "30"
         ],
         "y": [
          0.20516665361348102,
          0.19119047143088264,
          0.1720890647006011,
          null,
          null,
          0.20798506019290355,
          0.2161010160009209,
          0.1848362076853966,
          0.1490865838312788,
          0.15158379383483478,
          null,
          0.15087399337712443,
          0.22004006955914113
         ]
        },
        {
         "line": {
          "color": "Black",
          "dash": "dot",
          "width": 1
         },
         "mode": "lines",
         "name": ">0.3 Moderate Linear Relationship",
         "type": "scatter",
         "x": [
          "01",
          "02",
          "09",
          "12",
          "15",
          "18",
          "20",
          "21",
          "22",
          "24",
          "28",
          "29",
          "30"
         ],
         "y": [
          0.3,
          0.3,
          0.3,
          0.3,
          0.3,
          0.3,
          0.3,
          0.3,
          0.3,
          0.3,
          0.3,
          0.3,
          0.3
         ]
        }
       ],
       "layout": {
        "template": {
         "data": {
          "bar": [
           {
            "error_x": {
             "color": "#2a3f5f"
            },
            "error_y": {
             "color": "#2a3f5f"
            },
            "marker": {
             "line": {
              "color": "#E5ECF6",
              "width": 0.5
             }
            },
            "type": "bar"
           }
          ],
          "barpolar": [
           {
            "marker": {
             "line": {
              "color": "#E5ECF6",
              "width": 0.5
             }
            },
            "type": "barpolar"
           }
          ],
          "carpet": [
           {
            "aaxis": {
             "endlinecolor": "#2a3f5f",
             "gridcolor": "white",
             "linecolor": "white",
             "minorgridcolor": "white",
             "startlinecolor": "#2a3f5f"
            },
            "baxis": {
             "endlinecolor": "#2a3f5f",
             "gridcolor": "white",
             "linecolor": "white",
             "minorgridcolor": "white",
             "startlinecolor": "#2a3f5f"
            },
            "type": "carpet"
           }
          ],
          "choropleth": [
           {
            "colorbar": {
             "outlinewidth": 0,
             "ticks": ""
            },
            "type": "choropleth"
           }
          ],
          "contour": [
           {
            "colorbar": {
             "outlinewidth": 0,
             "ticks": ""
            },
            "colorscale": [
             [
              0,
              "#0d0887"
             ],
             [
              0.1111111111111111,
              "#46039f"
             ],
             [
              0.2222222222222222,
              "#7201a8"
             ],
             [
              0.3333333333333333,
              "#9c179e"
             ],
             [
              0.4444444444444444,
              "#bd3786"
             ],
             [
              0.5555555555555556,
              "#d8576b"
             ],
             [
              0.6666666666666666,
              "#ed7953"
             ],
             [
              0.7777777777777778,
              "#fb9f3a"
             ],
             [
              0.8888888888888888,
              "#fdca26"
             ],
             [
              1,
              "#f0f921"
             ]
            ],
            "type": "contour"
           }
          ],
          "contourcarpet": [
           {
            "colorbar": {
             "outlinewidth": 0,
             "ticks": ""
            },
            "type": "contourcarpet"
           }
          ],
          "heatmap": [
           {
            "colorbar": {
             "outlinewidth": 0,
             "ticks": ""
            },
            "colorscale": [
             [
              0,
              "#0d0887"
             ],
             [
              0.1111111111111111,
              "#46039f"
             ],
             [
              0.2222222222222222,
              "#7201a8"
             ],
             [
              0.3333333333333333,
              "#9c179e"
             ],
             [
              0.4444444444444444,
              "#bd3786"
             ],
             [
              0.5555555555555556,
              "#d8576b"
             ],
             [
              0.6666666666666666,
              "#ed7953"
             ],
             [
              0.7777777777777778,
              "#fb9f3a"
             ],
             [
              0.8888888888888888,
              "#fdca26"
             ],
             [
              1,
              "#f0f921"
             ]
            ],
            "type": "heatmap"
           }
          ],
          "heatmapgl": [
           {
            "colorbar": {
             "outlinewidth": 0,
             "ticks": ""
            },
            "colorscale": [
             [
              0,
              "#0d0887"
             ],
             [
              0.1111111111111111,
              "#46039f"
             ],
             [
              0.2222222222222222,
              "#7201a8"
             ],
             [
              0.3333333333333333,
              "#9c179e"
             ],
             [
              0.4444444444444444,
              "#bd3786"
             ],
             [
              0.5555555555555556,
              "#d8576b"
             ],
             [
              0.6666666666666666,
              "#ed7953"
             ],
             [
              0.7777777777777778,
              "#fb9f3a"
             ],
             [
              0.8888888888888888,
              "#fdca26"
             ],
             [
              1,
              "#f0f921"
             ]
            ],
            "type": "heatmapgl"
           }
          ],
          "histogram": [
           {
            "marker": {
             "colorbar": {
              "outlinewidth": 0,
              "ticks": ""
             }
            },
            "type": "histogram"
           }
          ],
          "histogram2d": [
           {
            "colorbar": {
             "outlinewidth": 0,
             "ticks": ""
            },
            "colorscale": [
             [
              0,
              "#0d0887"
             ],
             [
              0.1111111111111111,
              "#46039f"
             ],
             [
              0.2222222222222222,
              "#7201a8"
             ],
             [
              0.3333333333333333,
              "#9c179e"
             ],
             [
              0.4444444444444444,
              "#bd3786"
             ],
             [
              0.5555555555555556,
              "#d8576b"
             ],
             [
              0.6666666666666666,
              "#ed7953"
             ],
             [
              0.7777777777777778,
              "#fb9f3a"
             ],
             [
              0.8888888888888888,
              "#fdca26"
             ],
             [
              1,
              "#f0f921"
             ]
            ],
            "type": "histogram2d"
           }
          ],
          "histogram2dcontour": [
           {
            "colorbar": {
             "outlinewidth": 0,
             "ticks": ""
            },
            "colorscale": [
             [
              0,
              "#0d0887"
             ],
             [
              0.1111111111111111,
              "#46039f"
             ],
             [
              0.2222222222222222,
              "#7201a8"
             ],
             [
              0.3333333333333333,
              "#9c179e"
             ],
             [
              0.4444444444444444,
              "#bd3786"
             ],
             [
              0.5555555555555556,
              "#d8576b"
             ],
             [
              0.6666666666666666,
              "#ed7953"
             ],
             [
              0.7777777777777778,
              "#fb9f3a"
             ],
             [
              0.8888888888888888,
              "#fdca26"
             ],
             [
              1,
              "#f0f921"
             ]
            ],
            "type": "histogram2dcontour"
           }
          ],
          "mesh3d": [
           {
            "colorbar": {
             "outlinewidth": 0,
             "ticks": ""
            },
            "type": "mesh3d"
           }
          ],
          "parcoords": [
           {
            "line": {
             "colorbar": {
              "outlinewidth": 0,
              "ticks": ""
             }
            },
            "type": "parcoords"
           }
          ],
          "scatter": [
           {
            "marker": {
             "colorbar": {
              "outlinewidth": 0,
              "ticks": ""
             }
            },
            "type": "scatter"
           }
          ],
          "scatter3d": [
           {
            "line": {
             "colorbar": {
              "outlinewidth": 0,
              "ticks": ""
             }
            },
            "marker": {
             "colorbar": {
              "outlinewidth": 0,
              "ticks": ""
             }
            },
            "type": "scatter3d"
           }
          ],
          "scattercarpet": [
           {
            "marker": {
             "colorbar": {
              "outlinewidth": 0,
              "ticks": ""
             }
            },
            "type": "scattercarpet"
           }
          ],
          "scattergeo": [
           {
            "marker": {
             "colorbar": {
              "outlinewidth": 0,
              "ticks": ""
             }
            },
            "type": "scattergeo"
           }
          ],
          "scattergl": [
           {
            "marker": {
             "colorbar": {
              "outlinewidth": 0,
              "ticks": ""
             }
            },
            "type": "scattergl"
           }
          ],
          "scattermapbox": [
           {
            "marker": {
             "colorbar": {
              "outlinewidth": 0,
              "ticks": ""
             }
            },
            "type": "scattermapbox"
           }
          ],
          "scatterpolar": [
           {
            "marker": {
             "colorbar": {
              "outlinewidth": 0,
              "ticks": ""
             }
            },
            "type": "scatterpolar"
           }
          ],
          "scatterpolargl": [
           {
            "marker": {
             "colorbar": {
              "outlinewidth": 0,
              "ticks": ""
             }
            },
            "type": "scatterpolargl"
           }
          ],
          "scatterternary": [
           {
            "marker": {
             "colorbar": {
              "outlinewidth": 0,
              "ticks": ""
             }
            },
            "type": "scatterternary"
           }
          ],
          "surface": [
           {
            "colorbar": {
             "outlinewidth": 0,
             "ticks": ""
            },
            "colorscale": [
             [
              0,
              "#0d0887"
             ],
             [
              0.1111111111111111,
              "#46039f"
             ],
             [
              0.2222222222222222,
              "#7201a8"
             ],
             [
              0.3333333333333333,
              "#9c179e"
             ],
             [
              0.4444444444444444,
              "#bd3786"
             ],
             [
              0.5555555555555556,
              "#d8576b"
             ],
             [
              0.6666666666666666,
              "#ed7953"
             ],
             [
              0.7777777777777778,
              "#fb9f3a"
             ],
             [
              0.8888888888888888,
              "#fdca26"
             ],
             [
              1,
              "#f0f921"
             ]
            ],
            "type": "surface"
           }
          ],
          "table": [
           {
            "cells": {
             "fill": {
              "color": "#EBF0F8"
             },
             "line": {
              "color": "white"
             }
            },
            "header": {
             "fill": {
              "color": "#C8D4E3"
             },
             "line": {
              "color": "white"
             }
            },
            "type": "table"
           }
          ]
         },
         "layout": {
          "annotationdefaults": {
           "arrowcolor": "#2a3f5f",
           "arrowhead": 0,
           "arrowwidth": 1
          },
          "colorscale": {
           "diverging": [
            [
             0,
             "#8e0152"
            ],
            [
             0.1,
             "#c51b7d"
            ],
            [
             0.2,
             "#de77ae"
            ],
            [
             0.3,
             "#f1b6da"
            ],
            [
             0.4,
             "#fde0ef"
            ],
            [
             0.5,
             "#f7f7f7"
            ],
            [
             0.6,
             "#e6f5d0"
            ],
            [
             0.7,
             "#b8e186"
            ],
            [
             0.8,
             "#7fbc41"
            ],
            [
             0.9,
             "#4d9221"
            ],
            [
             1,
             "#276419"
            ]
           ],
           "sequential": [
            [
             0,
             "#0d0887"
            ],
            [
             0.1111111111111111,
             "#46039f"
            ],
            [
             0.2222222222222222,
             "#7201a8"
            ],
            [
             0.3333333333333333,
             "#9c179e"
            ],
            [
             0.4444444444444444,
             "#bd3786"
            ],
            [
             0.5555555555555556,
             "#d8576b"
            ],
            [
             0.6666666666666666,
             "#ed7953"
            ],
            [
             0.7777777777777778,
             "#fb9f3a"
            ],
            [
             0.8888888888888888,
             "#fdca26"
            ],
            [
             1,
             "#f0f921"
            ]
           ],
           "sequentialminus": [
            [
             0,
             "#0d0887"
            ],
            [
             0.1111111111111111,
             "#46039f"
            ],
            [
             0.2222222222222222,
             "#7201a8"
            ],
            [
             0.3333333333333333,
             "#9c179e"
            ],
            [
             0.4444444444444444,
             "#bd3786"
            ],
            [
             0.5555555555555556,
             "#d8576b"
            ],
            [
             0.6666666666666666,
             "#ed7953"
            ],
            [
             0.7777777777777778,
             "#fb9f3a"
            ],
            [
             0.8888888888888888,
             "#fdca26"
            ],
            [
             1,
             "#f0f921"
            ]
           ]
          },
          "colorway": [
           "#636efa",
           "#EF553B",
           "#00cc96",
           "#ab63fa",
           "#FFA15A",
           "#19d3f3",
           "#FF6692",
           "#B6E880",
           "#FF97FF",
           "#FECB52"
          ],
          "font": {
           "color": "#2a3f5f"
          },
          "geo": {
           "bgcolor": "white",
           "lakecolor": "white",
           "landcolor": "#E5ECF6",
           "showlakes": true,
           "showland": true,
           "subunitcolor": "white"
          },
          "hoverlabel": {
           "align": "left"
          },
          "hovermode": "closest",
          "mapbox": {
           "style": "light"
          },
          "paper_bgcolor": "white",
          "plot_bgcolor": "#E5ECF6",
          "polar": {
           "angularaxis": {
            "gridcolor": "white",
            "linecolor": "white",
            "ticks": ""
           },
           "bgcolor": "#E5ECF6",
           "radialaxis": {
            "gridcolor": "white",
            "linecolor": "white",
            "ticks": ""
           }
          },
          "scene": {
           "xaxis": {
            "backgroundcolor": "#E5ECF6",
            "gridcolor": "white",
            "gridwidth": 2,
            "linecolor": "white",
            "showbackground": true,
            "ticks": "",
            "zerolinecolor": "white"
           },
           "yaxis": {
            "backgroundcolor": "#E5ECF6",
            "gridcolor": "white",
            "gridwidth": 2,
            "linecolor": "white",
            "showbackground": true,
            "ticks": "",
            "zerolinecolor": "white"
           },
           "zaxis": {
            "backgroundcolor": "#E5ECF6",
            "gridcolor": "white",
            "gridwidth": 2,
            "linecolor": "white",
            "showbackground": true,
            "ticks": "",
            "zerolinecolor": "white"
           }
          },
          "shapedefaults": {
           "line": {
            "color": "#2a3f5f"
           }
          },
          "ternary": {
           "aaxis": {
            "gridcolor": "white",
            "linecolor": "white",
            "ticks": ""
           },
           "baxis": {
            "gridcolor": "white",
            "linecolor": "white",
            "ticks": ""
           },
           "bgcolor": "#E5ECF6",
           "caxis": {
            "gridcolor": "white",
            "linecolor": "white",
            "ticks": ""
           }
          },
          "title": {
           "x": 0.05
          },
          "xaxis": {
           "automargin": true,
           "gridcolor": "white",
           "linecolor": "white",
           "ticks": "",
           "zerolinecolor": "white",
           "zerolinewidth": 2
          },
          "yaxis": {
           "automargin": true,
           "gridcolor": "white",
           "linecolor": "white",
           "ticks": "",
           "zerolinecolor": "white",
           "zerolinewidth": 2
          }
         }
        },
        "title": {
         "font": {
          "family": "Times New Roman"
         },
         "text": "<b>Correlation Coefficients for West Boise and Associated Neighborhoods<b>",
         "x": 0.5,
         "xref": "paper"
        },
        "xaxis": {
         "title": {
          "font": {
           "family": "Times New Roman",
           "size": 16
          },
          "text": "<b>Feature Key<b>"
         },
         "type": "category"
        },
        "yaxis": {
         "title": {
          "font": {
           "family": "Times New Roman",
           "size": 16
          },
          "text": "<b>Correlation Coefficient<b>"
         }
        }
       }
      },
      "text/html": [
       "<div>\n",
       "        \n",
       "        \n",
       "            <div id=\"e99e5d97-6458-49c5-b63b-aaa6090b7224\" class=\"plotly-graph-div\" style=\"height:525px; width:100%;\"></div>\n",
       "            <script type=\"text/javascript\">\n",
       "                require([\"plotly\"], function(Plotly) {\n",
       "                    window.PLOTLYENV=window.PLOTLYENV || {};\n",
       "                    \n",
       "                if (document.getElementById(\"e99e5d97-6458-49c5-b63b-aaa6090b7224\")) {\n",
       "                    Plotly.newPlot(\n",
       "                        'e99e5d97-6458-49c5-b63b-aaa6090b7224',\n",
       "                        [{\"marker\": {\"color\": \"rgba(47, 79, 79, .8)\", \"size\": 12, \"symbol\": \"circle-cross-open\"}, \"mode\": \"markers\", \"name\": \"West Boise Area\", \"type\": \"scatter\", \"x\": [\"01\", \"02\", \"09\", \"12\", \"15\", \"18\", \"20\", \"21\", \"22\", \"24\", \"28\", \"29\", \"30\"], \"y\": [0.29519200186127226, 0.30411753621650506, null, null, 0.27954755117672947, 0.2583987627632459, 0.30643098999833923, 0.27529209359889817, null, 0.23000235919516213, 0.28374230141513573, 0.27966548526962093, 0.316576752139436]}, {\"marker\": {\"color\": \"rgb(0,0,0)\"}, \"mode\": \"markers\", \"name\": \"North Central Bench\", \"type\": \"scatter\", \"x\": [\"01\", \"02\", \"09\", \"12\", \"15\", \"18\", \"20\", \"21\", \"22\", \"24\", \"28\", \"29\", \"30\"], \"y\": [0.3408121044231221, 0.3548843351248777, null, null, 0.32682710046024566, 0.27693482791430296, 0.33846103026694313, 0.30448338203427067, null, 0.2648112033369074, 0.331082769540031, 0.32280932451287464, 0.35228166387112725]}, {\"marker\": {\"color\": \"rgb(119,136,153)\"}, \"mode\": \"markers\", \"name\": \"West Boise\", \"type\": \"scatter\", \"x\": [\"01\", \"02\", \"09\", \"12\", \"15\", \"18\", \"20\", \"21\", \"22\", \"24\", \"28\", \"29\", \"30\"], \"y\": [0.24468380177026633, 0.254660107404812, 0.20168504612852323, null, 0.256964806303417, 0.2545880288233967, 0.2957744537833685, 0.270868901743769, null, null, 0.26258627554212394, 0.26267802611001534, 0.2994889214537766]}, {\"marker\": {\"color\": \"rgb(169,169,169)\"}, \"mode\": \"markers\", \"name\": \"West B. Freeway Cor.\", \"type\": \"scatter\", \"x\": [\"01\", \"02\", \"09\", \"12\", \"15\", \"18\", \"20\", \"21\", \"22\", \"24\", \"28\", \"29\", \"30\"], \"y\": [0.20516665361348102, 0.19119047143088264, 0.1720890647006011, null, null, 0.20798506019290355, 0.2161010160009209, 0.1848362076853966, 0.1490865838312788, 0.15158379383483478, null, 0.15087399337712443, 0.22004006955914113]}, {\"line\": {\"color\": \"Black\", \"dash\": \"dot\", \"width\": 1}, \"mode\": \"lines\", \"name\": \">0.3 Moderate Linear Relationship\", \"type\": \"scatter\", \"x\": [\"01\", \"02\", \"09\", \"12\", \"15\", \"18\", \"20\", \"21\", \"22\", \"24\", \"28\", \"29\", \"30\"], \"y\": [0.3, 0.3, 0.3, 0.3, 0.3, 0.3, 0.3, 0.3, 0.3, 0.3, 0.3, 0.3, 0.3]}],\n",
       "                        {\"template\": {\"data\": {\"bar\": [{\"error_x\": {\"color\": \"#2a3f5f\"}, \"error_y\": {\"color\": \"#2a3f5f\"}, \"marker\": {\"line\": {\"color\": \"#E5ECF6\", \"width\": 0.5}}, \"type\": \"bar\"}], \"barpolar\": [{\"marker\": {\"line\": {\"color\": \"#E5ECF6\", \"width\": 0.5}}, \"type\": \"barpolar\"}], \"carpet\": [{\"aaxis\": {\"endlinecolor\": \"#2a3f5f\", \"gridcolor\": \"white\", \"linecolor\": \"white\", \"minorgridcolor\": \"white\", \"startlinecolor\": \"#2a3f5f\"}, \"baxis\": {\"endlinecolor\": \"#2a3f5f\", \"gridcolor\": \"white\", \"linecolor\": \"white\", \"minorgridcolor\": \"white\", \"startlinecolor\": \"#2a3f5f\"}, \"type\": \"carpet\"}], \"choropleth\": [{\"colorbar\": {\"outlinewidth\": 0, \"ticks\": \"\"}, \"type\": \"choropleth\"}], \"contour\": [{\"colorbar\": {\"outlinewidth\": 0, \"ticks\": \"\"}, \"colorscale\": [[0.0, \"#0d0887\"], [0.1111111111111111, \"#46039f\"], [0.2222222222222222, \"#7201a8\"], [0.3333333333333333, \"#9c179e\"], [0.4444444444444444, \"#bd3786\"], [0.5555555555555556, \"#d8576b\"], [0.6666666666666666, \"#ed7953\"], [0.7777777777777778, \"#fb9f3a\"], [0.8888888888888888, \"#fdca26\"], [1.0, \"#f0f921\"]], \"type\": \"contour\"}], \"contourcarpet\": [{\"colorbar\": {\"outlinewidth\": 0, \"ticks\": \"\"}, \"type\": \"contourcarpet\"}], \"heatmap\": [{\"colorbar\": {\"outlinewidth\": 0, \"ticks\": \"\"}, \"colorscale\": [[0.0, \"#0d0887\"], [0.1111111111111111, \"#46039f\"], [0.2222222222222222, \"#7201a8\"], [0.3333333333333333, \"#9c179e\"], [0.4444444444444444, \"#bd3786\"], [0.5555555555555556, \"#d8576b\"], [0.6666666666666666, \"#ed7953\"], [0.7777777777777778, \"#fb9f3a\"], [0.8888888888888888, \"#fdca26\"], [1.0, \"#f0f921\"]], \"type\": \"heatmap\"}], \"heatmapgl\": [{\"colorbar\": {\"outlinewidth\": 0, \"ticks\": \"\"}, \"colorscale\": [[0.0, \"#0d0887\"], [0.1111111111111111, \"#46039f\"], [0.2222222222222222, \"#7201a8\"], [0.3333333333333333, \"#9c179e\"], [0.4444444444444444, \"#bd3786\"], [0.5555555555555556, \"#d8576b\"], [0.6666666666666666, \"#ed7953\"], [0.7777777777777778, \"#fb9f3a\"], [0.8888888888888888, \"#fdca26\"], [1.0, \"#f0f921\"]], \"type\": \"heatmapgl\"}], \"histogram\": [{\"marker\": {\"colorbar\": {\"outlinewidth\": 0, \"ticks\": \"\"}}, \"type\": \"histogram\"}], \"histogram2d\": [{\"colorbar\": {\"outlinewidth\": 0, \"ticks\": \"\"}, \"colorscale\": [[0.0, \"#0d0887\"], [0.1111111111111111, \"#46039f\"], [0.2222222222222222, \"#7201a8\"], [0.3333333333333333, \"#9c179e\"], [0.4444444444444444, \"#bd3786\"], [0.5555555555555556, \"#d8576b\"], [0.6666666666666666, \"#ed7953\"], [0.7777777777777778, \"#fb9f3a\"], [0.8888888888888888, \"#fdca26\"], [1.0, \"#f0f921\"]], \"type\": \"histogram2d\"}], \"histogram2dcontour\": [{\"colorbar\": {\"outlinewidth\": 0, \"ticks\": \"\"}, \"colorscale\": [[0.0, \"#0d0887\"], [0.1111111111111111, \"#46039f\"], [0.2222222222222222, \"#7201a8\"], [0.3333333333333333, \"#9c179e\"], [0.4444444444444444, \"#bd3786\"], [0.5555555555555556, \"#d8576b\"], [0.6666666666666666, \"#ed7953\"], [0.7777777777777778, \"#fb9f3a\"], [0.8888888888888888, \"#fdca26\"], [1.0, \"#f0f921\"]], \"type\": \"histogram2dcontour\"}], \"mesh3d\": [{\"colorbar\": {\"outlinewidth\": 0, \"ticks\": \"\"}, \"type\": \"mesh3d\"}], \"parcoords\": [{\"line\": {\"colorbar\": {\"outlinewidth\": 0, \"ticks\": \"\"}}, \"type\": \"parcoords\"}], \"scatter\": [{\"marker\": {\"colorbar\": {\"outlinewidth\": 0, \"ticks\": \"\"}}, \"type\": \"scatter\"}], \"scatter3d\": [{\"line\": {\"colorbar\": {\"outlinewidth\": 0, \"ticks\": \"\"}}, \"marker\": {\"colorbar\": {\"outlinewidth\": 0, \"ticks\": \"\"}}, \"type\": \"scatter3d\"}], \"scattercarpet\": [{\"marker\": {\"colorbar\": {\"outlinewidth\": 0, \"ticks\": \"\"}}, \"type\": \"scattercarpet\"}], \"scattergeo\": [{\"marker\": {\"colorbar\": {\"outlinewidth\": 0, \"ticks\": \"\"}}, \"type\": \"scattergeo\"}], \"scattergl\": [{\"marker\": {\"colorbar\": {\"outlinewidth\": 0, \"ticks\": \"\"}}, \"type\": \"scattergl\"}], \"scattermapbox\": [{\"marker\": {\"colorbar\": {\"outlinewidth\": 0, \"ticks\": \"\"}}, \"type\": \"scattermapbox\"}], \"scatterpolar\": [{\"marker\": {\"colorbar\": {\"outlinewidth\": 0, \"ticks\": \"\"}}, \"type\": \"scatterpolar\"}], \"scatterpolargl\": [{\"marker\": {\"colorbar\": {\"outlinewidth\": 0, \"ticks\": \"\"}}, \"type\": \"scatterpolargl\"}], \"scatterternary\": [{\"marker\": {\"colorbar\": {\"outlinewidth\": 0, \"ticks\": \"\"}}, \"type\": \"scatterternary\"}], \"surface\": [{\"colorbar\": {\"outlinewidth\": 0, \"ticks\": \"\"}, \"colorscale\": [[0.0, \"#0d0887\"], [0.1111111111111111, \"#46039f\"], [0.2222222222222222, \"#7201a8\"], [0.3333333333333333, \"#9c179e\"], [0.4444444444444444, \"#bd3786\"], [0.5555555555555556, \"#d8576b\"], [0.6666666666666666, \"#ed7953\"], [0.7777777777777778, \"#fb9f3a\"], [0.8888888888888888, \"#fdca26\"], [1.0, \"#f0f921\"]], \"type\": \"surface\"}], \"table\": [{\"cells\": {\"fill\": {\"color\": \"#EBF0F8\"}, \"line\": {\"color\": \"white\"}}, \"header\": {\"fill\": {\"color\": \"#C8D4E3\"}, \"line\": {\"color\": \"white\"}}, \"type\": \"table\"}]}, \"layout\": {\"annotationdefaults\": {\"arrowcolor\": \"#2a3f5f\", \"arrowhead\": 0, \"arrowwidth\": 1}, \"colorscale\": {\"diverging\": [[0, \"#8e0152\"], [0.1, \"#c51b7d\"], [0.2, \"#de77ae\"], [0.3, \"#f1b6da\"], [0.4, \"#fde0ef\"], [0.5, \"#f7f7f7\"], [0.6, \"#e6f5d0\"], [0.7, \"#b8e186\"], [0.8, \"#7fbc41\"], [0.9, \"#4d9221\"], [1, \"#276419\"]], \"sequential\": [[0.0, \"#0d0887\"], [0.1111111111111111, \"#46039f\"], [0.2222222222222222, \"#7201a8\"], [0.3333333333333333, \"#9c179e\"], [0.4444444444444444, \"#bd3786\"], [0.5555555555555556, \"#d8576b\"], [0.6666666666666666, \"#ed7953\"], [0.7777777777777778, \"#fb9f3a\"], [0.8888888888888888, \"#fdca26\"], [1.0, \"#f0f921\"]], \"sequentialminus\": [[0.0, \"#0d0887\"], [0.1111111111111111, \"#46039f\"], [0.2222222222222222, \"#7201a8\"], [0.3333333333333333, \"#9c179e\"], [0.4444444444444444, \"#bd3786\"], [0.5555555555555556, \"#d8576b\"], [0.6666666666666666, \"#ed7953\"], [0.7777777777777778, \"#fb9f3a\"], [0.8888888888888888, \"#fdca26\"], [1.0, \"#f0f921\"]]}, \"colorway\": [\"#636efa\", \"#EF553B\", \"#00cc96\", \"#ab63fa\", \"#FFA15A\", \"#19d3f3\", \"#FF6692\", \"#B6E880\", \"#FF97FF\", \"#FECB52\"], \"font\": {\"color\": \"#2a3f5f\"}, \"geo\": {\"bgcolor\": \"white\", \"lakecolor\": \"white\", \"landcolor\": \"#E5ECF6\", \"showlakes\": true, \"showland\": true, \"subunitcolor\": \"white\"}, \"hoverlabel\": {\"align\": \"left\"}, \"hovermode\": \"closest\", \"mapbox\": {\"style\": \"light\"}, \"paper_bgcolor\": \"white\", \"plot_bgcolor\": \"#E5ECF6\", \"polar\": {\"angularaxis\": {\"gridcolor\": \"white\", \"linecolor\": \"white\", \"ticks\": \"\"}, \"bgcolor\": \"#E5ECF6\", \"radialaxis\": {\"gridcolor\": \"white\", \"linecolor\": \"white\", \"ticks\": \"\"}}, \"scene\": {\"xaxis\": {\"backgroundcolor\": \"#E5ECF6\", \"gridcolor\": \"white\", \"gridwidth\": 2, \"linecolor\": \"white\", \"showbackground\": true, \"ticks\": \"\", \"zerolinecolor\": \"white\"}, \"yaxis\": {\"backgroundcolor\": \"#E5ECF6\", \"gridcolor\": \"white\", \"gridwidth\": 2, \"linecolor\": \"white\", \"showbackground\": true, \"ticks\": \"\", \"zerolinecolor\": \"white\"}, \"zaxis\": {\"backgroundcolor\": \"#E5ECF6\", \"gridcolor\": \"white\", \"gridwidth\": 2, \"linecolor\": \"white\", \"showbackground\": true, \"ticks\": \"\", \"zerolinecolor\": \"white\"}}, \"shapedefaults\": {\"line\": {\"color\": \"#2a3f5f\"}}, \"ternary\": {\"aaxis\": {\"gridcolor\": \"white\", \"linecolor\": \"white\", \"ticks\": \"\"}, \"baxis\": {\"gridcolor\": \"white\", \"linecolor\": \"white\", \"ticks\": \"\"}, \"bgcolor\": \"#E5ECF6\", \"caxis\": {\"gridcolor\": \"white\", \"linecolor\": \"white\", \"ticks\": \"\"}}, \"title\": {\"x\": 0.05}, \"xaxis\": {\"automargin\": true, \"gridcolor\": \"white\", \"linecolor\": \"white\", \"ticks\": \"\", \"zerolinecolor\": \"white\", \"zerolinewidth\": 2}, \"yaxis\": {\"automargin\": true, \"gridcolor\": \"white\", \"linecolor\": \"white\", \"ticks\": \"\", \"zerolinecolor\": \"white\", \"zerolinewidth\": 2}}}, \"title\": {\"font\": {\"family\": \"Times New Roman\"}, \"text\": \"<b>Correlation Coefficients for West Boise and Associated Neighborhoods<b>\", \"x\": 0.5, \"xref\": \"paper\"}, \"xaxis\": {\"title\": {\"font\": {\"family\": \"Times New Roman\", \"size\": 16}, \"text\": \"<b>Feature Key<b>\"}, \"type\": \"category\"}, \"yaxis\": {\"title\": {\"font\": {\"family\": \"Times New Roman\", \"size\": 16}, \"text\": \"<b>Correlation Coefficient<b>\"}}},\n",
       "                        {\"responsive\": true}\n",
       "                    ).then(function(){\n",
       "                            \n",
       "var gd = document.getElementById('e99e5d97-6458-49c5-b63b-aaa6090b7224');\n",
       "var x = new MutationObserver(function (mutations, observer) {{\n",
       "        var display = window.getComputedStyle(gd).display;\n",
       "        if (!display || display === 'none') {{\n",
       "            console.log([gd, 'removed!']);\n",
       "            Plotly.purge(gd);\n",
       "            observer.disconnect();\n",
       "        }}\n",
       "}});\n",
       "\n",
       "// Listen for the removal of the full notebook cells\n",
       "var notebookContainer = gd.closest('#notebook-container');\n",
       "if (notebookContainer) {{\n",
       "    x.observe(notebookContainer, {childList: true});\n",
       "}}\n",
       "\n",
       "// Listen for the clearing of the current output cell\n",
       "var outputEl = gd.closest('.output');\n",
       "if (outputEl) {{\n",
       "    x.observe(outputEl, {childList: true});\n",
       "}}\n",
       "\n",
       "                        })\n",
       "                };\n",
       "                });\n",
       "            </script>\n",
       "        </div>"
      ]
     },
     "metadata": {},
     "output_type": "display_data"
    }
   ],
   "source": [
    "df = pd.read_pickle('WB-Coeff-compare.pkl')\n",
    "df2 = pd.read_pickle('a-Coeff-compare.pkl')\n",
    "\n",
    "\n",
    "df = pd.merge(df,df2, on = 'index', how = 'outer')\n",
    "\n",
    "# drops rows up to TAV_Ch, below TAV_Ch = 0 and TAV_Ch = 1 \n",
    "df = df.iloc[9:]\n",
    "\n",
    "# Needed to make a key for ease a readability and to make the reference line for moderate linear \n",
    "# relationship\n",
    "df= df.rename(columns = {'index' : 'Feature_Name'})\n",
    "df['index'] = ['00','01','02','03','04','05','06','07','08','09','10','11','12','13','14',\n",
    "             '15','16','17','18','19','20','21','22','23','24','25','26','27','28','29','30']\n",
    "df['ref_line'] = .3\n",
    "\n",
    "\n",
    "#this will drop rows that have less than 4 values (feature name, key, ref line, & @ least 1 value)\n",
    "df = df.dropna(thresh = 4)\n",
    "\n",
    "WB_fig = go.Figure()\n",
    "\n",
    "WB_fig.add_trace(go.Scatter(x= df['index'], y=df['W_Boise'],\n",
    "                    mode='markers',  \n",
    "                    marker_color='rgba(47, 79, 79, .8)',\n",
    "                    marker=dict(size= 12, symbol = \"circle-cross-open\" ),     \n",
    "                    name='West Boise Area'))\n",
    "\n",
    "WB_fig.add_trace(go.Scatter(x= df['index'], y=df['WB_NC_Bench'],\n",
    "                    mode='markers',  \n",
    "                    marker_color='rgb(0,0,0)',     \n",
    "                    name='North Central Bench'))\n",
    "\n",
    "WB_fig.add_trace(go.Scatter(x= df['index'], y=df['WB_W_Boise'],\n",
    "                    mode='markers',\n",
    "                    marker_color='rgb(119,136,153)',     \n",
    "                    name='West Boise'))\n",
    "\n",
    "WB_fig.add_trace(go.Scatter(x= df['index'], y=df['WB_WBF_Corridor'],\n",
    "                    mode='markers',\n",
    "                    marker_color='rgb(169,169,169)',     \n",
    "                    name='West B. Freeway Cor.'))\n",
    "\n",
    "\n",
    "WB_fig.add_trace(go.Scatter(x= df['index'] , y=df['ref_line'],\n",
    "                    mode = 'lines',          \n",
    "                    line = dict(color='Black', width=1, dash='dot'),          \n",
    "                    name='>0.3 Moderate Linear Relationship'))\n",
    "\n",
    "WB_fig.update_layout(\n",
    "    title=go.layout.Title(\n",
    "        text=\"<b>Correlation Coefficients for West Boise and Associated Neighborhoods<b>\",\n",
    "        font = dict( \n",
    "            family = 'Times New Roman'),\n",
    "        xref=\"paper\",\n",
    "        x=.5\n",
    "    ),\n",
    "    yaxis=go.layout.YAxis(\n",
    "        title=go.layout.yaxis.Title(\n",
    "            text=\"<b>Correlation Coefficient<b>\",\n",
    "            font=dict(\n",
    "                family=\"Times New Roman\",\n",
    "                size=16,\n",
    "#                color=\"#7f7f7f\"\n",
    "            )\n",
    "        )\n",
    "    ),\n",
    "    xaxis=go.layout.XAxis(\n",
    "        type = 'category',\n",
    "        title=go.layout.xaxis.Title(\n",
    "            text=\"<b>Feature Key<b>\",\n",
    "            font=dict(\n",
    "                family=\"Times New Roman\",\n",
    "                size=16,\n",
    "#                color=\"#7f7f7f\"\n",
    "            )\n",
    "        )\n",
    "    ))\n",
    "\n",
    "\n",
    "WB_fig.write_image(\"images/WB_fig.jpg\")\n",
    "WB_fig.show()\n"
   ]
  },
  {
   "cell_type": "markdown",
   "metadata": {},
   "source": [
    "## Boise Bench"
   ]
  },
  {
   "cell_type": "code",
   "execution_count": 86,
   "metadata": {},
   "outputs": [
    {
     "data": {
      "application/vnd.plotly.v1+json": {
       "config": {
        "plotlyServerURL": "https://plot.ly"
       },
       "data": [
        {
         "marker": {
          "color": "rgb(0,128,128)",
          "size": 12,
          "symbol": "star-diamond-open"
         },
         "mode": "markers",
         "name": "Boise Bench Area",
         "type": "scatter",
         "x": [
          "01",
          "02",
          "03",
          "05",
          "06",
          "09",
          "12",
          "15",
          "18",
          "20",
          "21",
          "24",
          "28",
          "29",
          "30"
         ],
         "y": [
          0.32229565012681455,
          0.2977798318315564,
          null,
          null,
          null,
          0.26285977724726195,
          null,
          0.2964887347404128,
          0.272514238926972,
          0.3368547084586827,
          0.3129320707425859,
          null,
          0.3083006612882456,
          0.3091620597574776,
          0.34116317866143864
         ]
        },
        {
         "marker": {
          "color": "rgb(102,205,170)"
         },
         "mode": "markers",
         "name": "Central B. Bench",
         "type": "scatter",
         "x": [
          "01",
          "02",
          "03",
          "05",
          "06",
          "09",
          "12",
          "15",
          "18",
          "20",
          "21",
          "24",
          "28",
          "29",
          "30"
         ],
         "y": [
          0.29113025046178553,
          0.27029738342295123,
          null,
          null,
          null,
          0.23314668846262257,
          null,
          0.2726343860753003,
          0.23713671381709017,
          0.2965559851566002,
          0.28123923459226485,
          null,
          0.2857401290307556,
          0.2837925660847719,
          0.3044393648508358
         ]
        },
        {
         "marker": {
          "color": "rgb(32,178,170)"
         },
         "mode": "markers",
         "name": "North Central Bench",
         "type": "scatter",
         "x": [
          "01",
          "02",
          "03",
          "05",
          "06",
          "09",
          "12",
          "15",
          "18",
          "20",
          "21",
          "24",
          "28",
          "29",
          "30"
         ],
         "y": [
          0.5632478119746038,
          0.5052040795893772,
          null,
          null,
          null,
          null,
          0.3029926273015629,
          0.46352266601133607,
          0.4183711733704762,
          0.5170844573674065,
          0.4097523743951764,
          null,
          0.3831379788213676,
          0.36052590919395433,
          0.47299035914572424
         ]
        },
        {
         "marker": {
          "color": "rgb(0,139,139)"
         },
         "mode": "markers",
         "name": "B. Bench Freeway Cor.",
         "type": "scatter",
         "x": [
          "01",
          "02",
          "03",
          "05",
          "06",
          "09",
          "12",
          "15",
          "18",
          "20",
          "21",
          "24",
          "28",
          "29",
          "30"
         ],
         "y": [
          0.4824896474954259,
          0.44515268409704933,
          null,
          null,
          null,
          0.42854155629512847,
          null,
          0.4225881923336079,
          0.44958817284539565,
          0.5462912933745997,
          0.49515989563736934,
          null,
          0.4383273133564845,
          0.4548747183016398,
          0.5370429521790449
         ]
        },
        {
         "marker": {
          "color": "rgb(0,255,255)"
         },
         "mode": "markers",
         "name": "Park & University Waterfront",
         "type": "scatter",
         "x": [
          "01",
          "02",
          "03",
          "05",
          "06",
          "09",
          "12",
          "15",
          "18",
          "20",
          "21",
          "24",
          "28",
          "29",
          "30"
         ],
         "y": [
          0.31724873887825455,
          null,
          0.27677334648649415,
          0.23981926569067952,
          0.35476488680254525,
          null,
          0.3204031570087898,
          0.42727329046772966,
          0.28586340401273214,
          null,
          null,
          0.3877514650306652,
          0.3425782552483783,
          null,
          0.2376114744245148
         ]
        },
        {
         "line": {
          "color": "Black",
          "dash": "dot",
          "width": 1
         },
         "mode": "lines",
         "name": ">0.3 Moderate Linear Relationship",
         "type": "scatter",
         "x": [
          "01",
          "02",
          "03",
          "05",
          "06",
          "09",
          "12",
          "15",
          "18",
          "20",
          "21",
          "24",
          "28",
          "29",
          "30"
         ],
         "y": [
          0.3,
          0.3,
          0.3,
          0.3,
          0.3,
          0.3,
          0.3,
          0.3,
          0.3,
          0.3,
          0.3,
          0.3,
          0.3,
          0.3,
          0.3
         ]
        }
       ],
       "layout": {
        "template": {
         "data": {
          "bar": [
           {
            "error_x": {
             "color": "#2a3f5f"
            },
            "error_y": {
             "color": "#2a3f5f"
            },
            "marker": {
             "line": {
              "color": "#E5ECF6",
              "width": 0.5
             }
            },
            "type": "bar"
           }
          ],
          "barpolar": [
           {
            "marker": {
             "line": {
              "color": "#E5ECF6",
              "width": 0.5
             }
            },
            "type": "barpolar"
           }
          ],
          "carpet": [
           {
            "aaxis": {
             "endlinecolor": "#2a3f5f",
             "gridcolor": "white",
             "linecolor": "white",
             "minorgridcolor": "white",
             "startlinecolor": "#2a3f5f"
            },
            "baxis": {
             "endlinecolor": "#2a3f5f",
             "gridcolor": "white",
             "linecolor": "white",
             "minorgridcolor": "white",
             "startlinecolor": "#2a3f5f"
            },
            "type": "carpet"
           }
          ],
          "choropleth": [
           {
            "colorbar": {
             "outlinewidth": 0,
             "ticks": ""
            },
            "type": "choropleth"
           }
          ],
          "contour": [
           {
            "colorbar": {
             "outlinewidth": 0,
             "ticks": ""
            },
            "colorscale": [
             [
              0,
              "#0d0887"
             ],
             [
              0.1111111111111111,
              "#46039f"
             ],
             [
              0.2222222222222222,
              "#7201a8"
             ],
             [
              0.3333333333333333,
              "#9c179e"
             ],
             [
              0.4444444444444444,
              "#bd3786"
             ],
             [
              0.5555555555555556,
              "#d8576b"
             ],
             [
              0.6666666666666666,
              "#ed7953"
             ],
             [
              0.7777777777777778,
              "#fb9f3a"
             ],
             [
              0.8888888888888888,
              "#fdca26"
             ],
             [
              1,
              "#f0f921"
             ]
            ],
            "type": "contour"
           }
          ],
          "contourcarpet": [
           {
            "colorbar": {
             "outlinewidth": 0,
             "ticks": ""
            },
            "type": "contourcarpet"
           }
          ],
          "heatmap": [
           {
            "colorbar": {
             "outlinewidth": 0,
             "ticks": ""
            },
            "colorscale": [
             [
              0,
              "#0d0887"
             ],
             [
              0.1111111111111111,
              "#46039f"
             ],
             [
              0.2222222222222222,
              "#7201a8"
             ],
             [
              0.3333333333333333,
              "#9c179e"
             ],
             [
              0.4444444444444444,
              "#bd3786"
             ],
             [
              0.5555555555555556,
              "#d8576b"
             ],
             [
              0.6666666666666666,
              "#ed7953"
             ],
             [
              0.7777777777777778,
              "#fb9f3a"
             ],
             [
              0.8888888888888888,
              "#fdca26"
             ],
             [
              1,
              "#f0f921"
             ]
            ],
            "type": "heatmap"
           }
          ],
          "heatmapgl": [
           {
            "colorbar": {
             "outlinewidth": 0,
             "ticks": ""
            },
            "colorscale": [
             [
              0,
              "#0d0887"
             ],
             [
              0.1111111111111111,
              "#46039f"
             ],
             [
              0.2222222222222222,
              "#7201a8"
             ],
             [
              0.3333333333333333,
              "#9c179e"
             ],
             [
              0.4444444444444444,
              "#bd3786"
             ],
             [
              0.5555555555555556,
              "#d8576b"
             ],
             [
              0.6666666666666666,
              "#ed7953"
             ],
             [
              0.7777777777777778,
              "#fb9f3a"
             ],
             [
              0.8888888888888888,
              "#fdca26"
             ],
             [
              1,
              "#f0f921"
             ]
            ],
            "type": "heatmapgl"
           }
          ],
          "histogram": [
           {
            "marker": {
             "colorbar": {
              "outlinewidth": 0,
              "ticks": ""
             }
            },
            "type": "histogram"
           }
          ],
          "histogram2d": [
           {
            "colorbar": {
             "outlinewidth": 0,
             "ticks": ""
            },
            "colorscale": [
             [
              0,
              "#0d0887"
             ],
             [
              0.1111111111111111,
              "#46039f"
             ],
             [
              0.2222222222222222,
              "#7201a8"
             ],
             [
              0.3333333333333333,
              "#9c179e"
             ],
             [
              0.4444444444444444,
              "#bd3786"
             ],
             [
              0.5555555555555556,
              "#d8576b"
             ],
             [
              0.6666666666666666,
              "#ed7953"
             ],
             [
              0.7777777777777778,
              "#fb9f3a"
             ],
             [
              0.8888888888888888,
              "#fdca26"
             ],
             [
              1,
              "#f0f921"
             ]
            ],
            "type": "histogram2d"
           }
          ],
          "histogram2dcontour": [
           {
            "colorbar": {
             "outlinewidth": 0,
             "ticks": ""
            },
            "colorscale": [
             [
              0,
              "#0d0887"
             ],
             [
              0.1111111111111111,
              "#46039f"
             ],
             [
              0.2222222222222222,
              "#7201a8"
             ],
             [
              0.3333333333333333,
              "#9c179e"
             ],
             [
              0.4444444444444444,
              "#bd3786"
             ],
             [
              0.5555555555555556,
              "#d8576b"
             ],
             [
              0.6666666666666666,
              "#ed7953"
             ],
             [
              0.7777777777777778,
              "#fb9f3a"
             ],
             [
              0.8888888888888888,
              "#fdca26"
             ],
             [
              1,
              "#f0f921"
             ]
            ],
            "type": "histogram2dcontour"
           }
          ],
          "mesh3d": [
           {
            "colorbar": {
             "outlinewidth": 0,
             "ticks": ""
            },
            "type": "mesh3d"
           }
          ],
          "parcoords": [
           {
            "line": {
             "colorbar": {
              "outlinewidth": 0,
              "ticks": ""
             }
            },
            "type": "parcoords"
           }
          ],
          "scatter": [
           {
            "marker": {
             "colorbar": {
              "outlinewidth": 0,
              "ticks": ""
             }
            },
            "type": "scatter"
           }
          ],
          "scatter3d": [
           {
            "line": {
             "colorbar": {
              "outlinewidth": 0,
              "ticks": ""
             }
            },
            "marker": {
             "colorbar": {
              "outlinewidth": 0,
              "ticks": ""
             }
            },
            "type": "scatter3d"
           }
          ],
          "scattercarpet": [
           {
            "marker": {
             "colorbar": {
              "outlinewidth": 0,
              "ticks": ""
             }
            },
            "type": "scattercarpet"
           }
          ],
          "scattergeo": [
           {
            "marker": {
             "colorbar": {
              "outlinewidth": 0,
              "ticks": ""
             }
            },
            "type": "scattergeo"
           }
          ],
          "scattergl": [
           {
            "marker": {
             "colorbar": {
              "outlinewidth": 0,
              "ticks": ""
             }
            },
            "type": "scattergl"
           }
          ],
          "scattermapbox": [
           {
            "marker": {
             "colorbar": {
              "outlinewidth": 0,
              "ticks": ""
             }
            },
            "type": "scattermapbox"
           }
          ],
          "scatterpolar": [
           {
            "marker": {
             "colorbar": {
              "outlinewidth": 0,
              "ticks": ""
             }
            },
            "type": "scatterpolar"
           }
          ],
          "scatterpolargl": [
           {
            "marker": {
             "colorbar": {
              "outlinewidth": 0,
              "ticks": ""
             }
            },
            "type": "scatterpolargl"
           }
          ],
          "scatterternary": [
           {
            "marker": {
             "colorbar": {
              "outlinewidth": 0,
              "ticks": ""
             }
            },
            "type": "scatterternary"
           }
          ],
          "surface": [
           {
            "colorbar": {
             "outlinewidth": 0,
             "ticks": ""
            },
            "colorscale": [
             [
              0,
              "#0d0887"
             ],
             [
              0.1111111111111111,
              "#46039f"
             ],
             [
              0.2222222222222222,
              "#7201a8"
             ],
             [
              0.3333333333333333,
              "#9c179e"
             ],
             [
              0.4444444444444444,
              "#bd3786"
             ],
             [
              0.5555555555555556,
              "#d8576b"
             ],
             [
              0.6666666666666666,
              "#ed7953"
             ],
             [
              0.7777777777777778,
              "#fb9f3a"
             ],
             [
              0.8888888888888888,
              "#fdca26"
             ],
             [
              1,
              "#f0f921"
             ]
            ],
            "type": "surface"
           }
          ],
          "table": [
           {
            "cells": {
             "fill": {
              "color": "#EBF0F8"
             },
             "line": {
              "color": "white"
             }
            },
            "header": {
             "fill": {
              "color": "#C8D4E3"
             },
             "line": {
              "color": "white"
             }
            },
            "type": "table"
           }
          ]
         },
         "layout": {
          "annotationdefaults": {
           "arrowcolor": "#2a3f5f",
           "arrowhead": 0,
           "arrowwidth": 1
          },
          "colorscale": {
           "diverging": [
            [
             0,
             "#8e0152"
            ],
            [
             0.1,
             "#c51b7d"
            ],
            [
             0.2,
             "#de77ae"
            ],
            [
             0.3,
             "#f1b6da"
            ],
            [
             0.4,
             "#fde0ef"
            ],
            [
             0.5,
             "#f7f7f7"
            ],
            [
             0.6,
             "#e6f5d0"
            ],
            [
             0.7,
             "#b8e186"
            ],
            [
             0.8,
             "#7fbc41"
            ],
            [
             0.9,
             "#4d9221"
            ],
            [
             1,
             "#276419"
            ]
           ],
           "sequential": [
            [
             0,
             "#0d0887"
            ],
            [
             0.1111111111111111,
             "#46039f"
            ],
            [
             0.2222222222222222,
             "#7201a8"
            ],
            [
             0.3333333333333333,
             "#9c179e"
            ],
            [
             0.4444444444444444,
             "#bd3786"
            ],
            [
             0.5555555555555556,
             "#d8576b"
            ],
            [
             0.6666666666666666,
             "#ed7953"
            ],
            [
             0.7777777777777778,
             "#fb9f3a"
            ],
            [
             0.8888888888888888,
             "#fdca26"
            ],
            [
             1,
             "#f0f921"
            ]
           ],
           "sequentialminus": [
            [
             0,
             "#0d0887"
            ],
            [
             0.1111111111111111,
             "#46039f"
            ],
            [
             0.2222222222222222,
             "#7201a8"
            ],
            [
             0.3333333333333333,
             "#9c179e"
            ],
            [
             0.4444444444444444,
             "#bd3786"
            ],
            [
             0.5555555555555556,
             "#d8576b"
            ],
            [
             0.6666666666666666,
             "#ed7953"
            ],
            [
             0.7777777777777778,
             "#fb9f3a"
            ],
            [
             0.8888888888888888,
             "#fdca26"
            ],
            [
             1,
             "#f0f921"
            ]
           ]
          },
          "colorway": [
           "#636efa",
           "#EF553B",
           "#00cc96",
           "#ab63fa",
           "#FFA15A",
           "#19d3f3",
           "#FF6692",
           "#B6E880",
           "#FF97FF",
           "#FECB52"
          ],
          "font": {
           "color": "#2a3f5f"
          },
          "geo": {
           "bgcolor": "white",
           "lakecolor": "white",
           "landcolor": "#E5ECF6",
           "showlakes": true,
           "showland": true,
           "subunitcolor": "white"
          },
          "hoverlabel": {
           "align": "left"
          },
          "hovermode": "closest",
          "mapbox": {
           "style": "light"
          },
          "paper_bgcolor": "white",
          "plot_bgcolor": "#E5ECF6",
          "polar": {
           "angularaxis": {
            "gridcolor": "white",
            "linecolor": "white",
            "ticks": ""
           },
           "bgcolor": "#E5ECF6",
           "radialaxis": {
            "gridcolor": "white",
            "linecolor": "white",
            "ticks": ""
           }
          },
          "scene": {
           "xaxis": {
            "backgroundcolor": "#E5ECF6",
            "gridcolor": "white",
            "gridwidth": 2,
            "linecolor": "white",
            "showbackground": true,
            "ticks": "",
            "zerolinecolor": "white"
           },
           "yaxis": {
            "backgroundcolor": "#E5ECF6",
            "gridcolor": "white",
            "gridwidth": 2,
            "linecolor": "white",
            "showbackground": true,
            "ticks": "",
            "zerolinecolor": "white"
           },
           "zaxis": {
            "backgroundcolor": "#E5ECF6",
            "gridcolor": "white",
            "gridwidth": 2,
            "linecolor": "white",
            "showbackground": true,
            "ticks": "",
            "zerolinecolor": "white"
           }
          },
          "shapedefaults": {
           "line": {
            "color": "#2a3f5f"
           }
          },
          "ternary": {
           "aaxis": {
            "gridcolor": "white",
            "linecolor": "white",
            "ticks": ""
           },
           "baxis": {
            "gridcolor": "white",
            "linecolor": "white",
            "ticks": ""
           },
           "bgcolor": "#E5ECF6",
           "caxis": {
            "gridcolor": "white",
            "linecolor": "white",
            "ticks": ""
           }
          },
          "title": {
           "x": 0.05
          },
          "xaxis": {
           "automargin": true,
           "gridcolor": "white",
           "linecolor": "white",
           "ticks": "",
           "zerolinecolor": "white",
           "zerolinewidth": 2
          },
          "yaxis": {
           "automargin": true,
           "gridcolor": "white",
           "linecolor": "white",
           "ticks": "",
           "zerolinecolor": "white",
           "zerolinewidth": 2
          }
         }
        },
        "title": {
         "font": {
          "family": "Times New Roman"
         },
         "text": "<b>Correlation Coefficients for Boise Bench and Associated Neighborhoods<b>",
         "x": 0.5,
         "xref": "paper"
        },
        "xaxis": {
         "title": {
          "font": {
           "family": "Times New Roman",
           "size": 16
          },
          "text": "<b>Feature Key<b>"
         },
         "type": "category"
        },
        "yaxis": {
         "title": {
          "font": {
           "family": "Times New Roman",
           "size": 16
          },
          "text": "<b>Correlation Coefficient<b>"
         }
        }
       }
      },
      "text/html": [
       "<div>\n",
       "        \n",
       "        \n",
       "            <div id=\"4fa6a12c-6283-4480-b4a3-6a6848ad6451\" class=\"plotly-graph-div\" style=\"height:525px; width:100%;\"></div>\n",
       "            <script type=\"text/javascript\">\n",
       "                require([\"plotly\"], function(Plotly) {\n",
       "                    window.PLOTLYENV=window.PLOTLYENV || {};\n",
       "                    \n",
       "                if (document.getElementById(\"4fa6a12c-6283-4480-b4a3-6a6848ad6451\")) {\n",
       "                    Plotly.newPlot(\n",
       "                        '4fa6a12c-6283-4480-b4a3-6a6848ad6451',\n",
       "                        [{\"marker\": {\"color\": \"rgb(0,128,128)\", \"size\": 12, \"symbol\": \"star-diamond-open\"}, \"mode\": \"markers\", \"name\": \"Boise Bench Area\", \"type\": \"scatter\", \"x\": [\"01\", \"02\", \"03\", \"05\", \"06\", \"09\", \"12\", \"15\", \"18\", \"20\", \"21\", \"24\", \"28\", \"29\", \"30\"], \"y\": [0.32229565012681455, 0.2977798318315564, null, null, null, 0.26285977724726195, null, 0.2964887347404128, 0.272514238926972, 0.3368547084586827, 0.3129320707425859, null, 0.3083006612882456, 0.3091620597574776, 0.34116317866143864]}, {\"marker\": {\"color\": \"rgb(102,205,170)\"}, \"mode\": \"markers\", \"name\": \"Central B. Bench\", \"type\": \"scatter\", \"x\": [\"01\", \"02\", \"03\", \"05\", \"06\", \"09\", \"12\", \"15\", \"18\", \"20\", \"21\", \"24\", \"28\", \"29\", \"30\"], \"y\": [0.29113025046178553, 0.27029738342295123, null, null, null, 0.23314668846262257, null, 0.2726343860753003, 0.23713671381709017, 0.2965559851566002, 0.28123923459226485, null, 0.2857401290307556, 0.2837925660847719, 0.3044393648508358]}, {\"marker\": {\"color\": \"rgb(32,178,170)\"}, \"mode\": \"markers\", \"name\": \"North Central Bench\", \"type\": \"scatter\", \"x\": [\"01\", \"02\", \"03\", \"05\", \"06\", \"09\", \"12\", \"15\", \"18\", \"20\", \"21\", \"24\", \"28\", \"29\", \"30\"], \"y\": [0.5632478119746038, 0.5052040795893772, null, null, null, null, 0.3029926273015629, 0.46352266601133607, 0.4183711733704762, 0.5170844573674065, 0.4097523743951764, null, 0.3831379788213676, 0.36052590919395433, 0.47299035914572424]}, {\"marker\": {\"color\": \"rgb(0,139,139)\"}, \"mode\": \"markers\", \"name\": \"B. Bench Freeway Cor.\", \"type\": \"scatter\", \"x\": [\"01\", \"02\", \"03\", \"05\", \"06\", \"09\", \"12\", \"15\", \"18\", \"20\", \"21\", \"24\", \"28\", \"29\", \"30\"], \"y\": [0.4824896474954259, 0.44515268409704933, null, null, null, 0.42854155629512847, null, 0.4225881923336079, 0.44958817284539565, 0.5462912933745997, 0.49515989563736934, null, 0.4383273133564845, 0.4548747183016398, 0.5370429521790449]}, {\"marker\": {\"color\": \"rgb(0,255,255)\"}, \"mode\": \"markers\", \"name\": \"Park & University Waterfront\", \"type\": \"scatter\", \"x\": [\"01\", \"02\", \"03\", \"05\", \"06\", \"09\", \"12\", \"15\", \"18\", \"20\", \"21\", \"24\", \"28\", \"29\", \"30\"], \"y\": [0.31724873887825455, null, 0.27677334648649415, 0.23981926569067952, 0.35476488680254525, null, 0.3204031570087898, 0.42727329046772966, 0.28586340401273214, null, null, 0.3877514650306652, 0.3425782552483783, null, 0.2376114744245148]}, {\"line\": {\"color\": \"Black\", \"dash\": \"dot\", \"width\": 1}, \"mode\": \"lines\", \"name\": \">0.3 Moderate Linear Relationship\", \"type\": \"scatter\", \"x\": [\"01\", \"02\", \"03\", \"05\", \"06\", \"09\", \"12\", \"15\", \"18\", \"20\", \"21\", \"24\", \"28\", \"29\", \"30\"], \"y\": [0.3, 0.3, 0.3, 0.3, 0.3, 0.3, 0.3, 0.3, 0.3, 0.3, 0.3, 0.3, 0.3, 0.3, 0.3]}],\n",
       "                        {\"template\": {\"data\": {\"bar\": [{\"error_x\": {\"color\": \"#2a3f5f\"}, \"error_y\": {\"color\": \"#2a3f5f\"}, \"marker\": {\"line\": {\"color\": \"#E5ECF6\", \"width\": 0.5}}, \"type\": \"bar\"}], \"barpolar\": [{\"marker\": {\"line\": {\"color\": \"#E5ECF6\", \"width\": 0.5}}, \"type\": \"barpolar\"}], \"carpet\": [{\"aaxis\": {\"endlinecolor\": \"#2a3f5f\", \"gridcolor\": \"white\", \"linecolor\": \"white\", \"minorgridcolor\": \"white\", \"startlinecolor\": \"#2a3f5f\"}, \"baxis\": {\"endlinecolor\": \"#2a3f5f\", \"gridcolor\": \"white\", \"linecolor\": \"white\", \"minorgridcolor\": \"white\", \"startlinecolor\": \"#2a3f5f\"}, \"type\": \"carpet\"}], \"choropleth\": [{\"colorbar\": {\"outlinewidth\": 0, \"ticks\": \"\"}, \"type\": \"choropleth\"}], \"contour\": [{\"colorbar\": {\"outlinewidth\": 0, \"ticks\": \"\"}, \"colorscale\": [[0.0, \"#0d0887\"], [0.1111111111111111, \"#46039f\"], [0.2222222222222222, \"#7201a8\"], [0.3333333333333333, \"#9c179e\"], [0.4444444444444444, \"#bd3786\"], [0.5555555555555556, \"#d8576b\"], [0.6666666666666666, \"#ed7953\"], [0.7777777777777778, \"#fb9f3a\"], [0.8888888888888888, \"#fdca26\"], [1.0, \"#f0f921\"]], \"type\": \"contour\"}], \"contourcarpet\": [{\"colorbar\": {\"outlinewidth\": 0, \"ticks\": \"\"}, \"type\": \"contourcarpet\"}], \"heatmap\": [{\"colorbar\": {\"outlinewidth\": 0, \"ticks\": \"\"}, \"colorscale\": [[0.0, \"#0d0887\"], [0.1111111111111111, \"#46039f\"], [0.2222222222222222, \"#7201a8\"], [0.3333333333333333, \"#9c179e\"], [0.4444444444444444, \"#bd3786\"], [0.5555555555555556, \"#d8576b\"], [0.6666666666666666, \"#ed7953\"], [0.7777777777777778, \"#fb9f3a\"], [0.8888888888888888, \"#fdca26\"], [1.0, \"#f0f921\"]], \"type\": \"heatmap\"}], \"heatmapgl\": [{\"colorbar\": {\"outlinewidth\": 0, \"ticks\": \"\"}, \"colorscale\": [[0.0, \"#0d0887\"], [0.1111111111111111, \"#46039f\"], [0.2222222222222222, \"#7201a8\"], [0.3333333333333333, \"#9c179e\"], [0.4444444444444444, \"#bd3786\"], [0.5555555555555556, \"#d8576b\"], [0.6666666666666666, \"#ed7953\"], [0.7777777777777778, \"#fb9f3a\"], [0.8888888888888888, \"#fdca26\"], [1.0, \"#f0f921\"]], \"type\": \"heatmapgl\"}], \"histogram\": [{\"marker\": {\"colorbar\": {\"outlinewidth\": 0, \"ticks\": \"\"}}, \"type\": \"histogram\"}], \"histogram2d\": [{\"colorbar\": {\"outlinewidth\": 0, \"ticks\": \"\"}, \"colorscale\": [[0.0, \"#0d0887\"], [0.1111111111111111, \"#46039f\"], [0.2222222222222222, \"#7201a8\"], [0.3333333333333333, \"#9c179e\"], [0.4444444444444444, \"#bd3786\"], [0.5555555555555556, \"#d8576b\"], [0.6666666666666666, \"#ed7953\"], [0.7777777777777778, \"#fb9f3a\"], [0.8888888888888888, \"#fdca26\"], [1.0, \"#f0f921\"]], \"type\": \"histogram2d\"}], \"histogram2dcontour\": [{\"colorbar\": {\"outlinewidth\": 0, \"ticks\": \"\"}, \"colorscale\": [[0.0, \"#0d0887\"], [0.1111111111111111, \"#46039f\"], [0.2222222222222222, \"#7201a8\"], [0.3333333333333333, \"#9c179e\"], [0.4444444444444444, \"#bd3786\"], [0.5555555555555556, \"#d8576b\"], [0.6666666666666666, \"#ed7953\"], [0.7777777777777778, \"#fb9f3a\"], [0.8888888888888888, \"#fdca26\"], [1.0, \"#f0f921\"]], \"type\": \"histogram2dcontour\"}], \"mesh3d\": [{\"colorbar\": {\"outlinewidth\": 0, \"ticks\": \"\"}, \"type\": \"mesh3d\"}], \"parcoords\": [{\"line\": {\"colorbar\": {\"outlinewidth\": 0, \"ticks\": \"\"}}, \"type\": \"parcoords\"}], \"scatter\": [{\"marker\": {\"colorbar\": {\"outlinewidth\": 0, \"ticks\": \"\"}}, \"type\": \"scatter\"}], \"scatter3d\": [{\"line\": {\"colorbar\": {\"outlinewidth\": 0, \"ticks\": \"\"}}, \"marker\": {\"colorbar\": {\"outlinewidth\": 0, \"ticks\": \"\"}}, \"type\": \"scatter3d\"}], \"scattercarpet\": [{\"marker\": {\"colorbar\": {\"outlinewidth\": 0, \"ticks\": \"\"}}, \"type\": \"scattercarpet\"}], \"scattergeo\": [{\"marker\": {\"colorbar\": {\"outlinewidth\": 0, \"ticks\": \"\"}}, \"type\": \"scattergeo\"}], \"scattergl\": [{\"marker\": {\"colorbar\": {\"outlinewidth\": 0, \"ticks\": \"\"}}, \"type\": \"scattergl\"}], \"scattermapbox\": [{\"marker\": {\"colorbar\": {\"outlinewidth\": 0, \"ticks\": \"\"}}, \"type\": \"scattermapbox\"}], \"scatterpolar\": [{\"marker\": {\"colorbar\": {\"outlinewidth\": 0, \"ticks\": \"\"}}, \"type\": \"scatterpolar\"}], \"scatterpolargl\": [{\"marker\": {\"colorbar\": {\"outlinewidth\": 0, \"ticks\": \"\"}}, \"type\": \"scatterpolargl\"}], \"scatterternary\": [{\"marker\": {\"colorbar\": {\"outlinewidth\": 0, \"ticks\": \"\"}}, \"type\": \"scatterternary\"}], \"surface\": [{\"colorbar\": {\"outlinewidth\": 0, \"ticks\": \"\"}, \"colorscale\": [[0.0, \"#0d0887\"], [0.1111111111111111, \"#46039f\"], [0.2222222222222222, \"#7201a8\"], [0.3333333333333333, \"#9c179e\"], [0.4444444444444444, \"#bd3786\"], [0.5555555555555556, \"#d8576b\"], [0.6666666666666666, \"#ed7953\"], [0.7777777777777778, \"#fb9f3a\"], [0.8888888888888888, \"#fdca26\"], [1.0, \"#f0f921\"]], \"type\": \"surface\"}], \"table\": [{\"cells\": {\"fill\": {\"color\": \"#EBF0F8\"}, \"line\": {\"color\": \"white\"}}, \"header\": {\"fill\": {\"color\": \"#C8D4E3\"}, \"line\": {\"color\": \"white\"}}, \"type\": \"table\"}]}, \"layout\": {\"annotationdefaults\": {\"arrowcolor\": \"#2a3f5f\", \"arrowhead\": 0, \"arrowwidth\": 1}, \"colorscale\": {\"diverging\": [[0, \"#8e0152\"], [0.1, \"#c51b7d\"], [0.2, \"#de77ae\"], [0.3, \"#f1b6da\"], [0.4, \"#fde0ef\"], [0.5, \"#f7f7f7\"], [0.6, \"#e6f5d0\"], [0.7, \"#b8e186\"], [0.8, \"#7fbc41\"], [0.9, \"#4d9221\"], [1, \"#276419\"]], \"sequential\": [[0.0, \"#0d0887\"], [0.1111111111111111, \"#46039f\"], [0.2222222222222222, \"#7201a8\"], [0.3333333333333333, \"#9c179e\"], [0.4444444444444444, \"#bd3786\"], [0.5555555555555556, \"#d8576b\"], [0.6666666666666666, \"#ed7953\"], [0.7777777777777778, \"#fb9f3a\"], [0.8888888888888888, \"#fdca26\"], [1.0, \"#f0f921\"]], \"sequentialminus\": [[0.0, \"#0d0887\"], [0.1111111111111111, \"#46039f\"], [0.2222222222222222, \"#7201a8\"], [0.3333333333333333, \"#9c179e\"], [0.4444444444444444, \"#bd3786\"], [0.5555555555555556, \"#d8576b\"], [0.6666666666666666, \"#ed7953\"], [0.7777777777777778, \"#fb9f3a\"], [0.8888888888888888, \"#fdca26\"], [1.0, \"#f0f921\"]]}, \"colorway\": [\"#636efa\", \"#EF553B\", \"#00cc96\", \"#ab63fa\", \"#FFA15A\", \"#19d3f3\", \"#FF6692\", \"#B6E880\", \"#FF97FF\", \"#FECB52\"], \"font\": {\"color\": \"#2a3f5f\"}, \"geo\": {\"bgcolor\": \"white\", \"lakecolor\": \"white\", \"landcolor\": \"#E5ECF6\", \"showlakes\": true, \"showland\": true, \"subunitcolor\": \"white\"}, \"hoverlabel\": {\"align\": \"left\"}, \"hovermode\": \"closest\", \"mapbox\": {\"style\": \"light\"}, \"paper_bgcolor\": \"white\", \"plot_bgcolor\": \"#E5ECF6\", \"polar\": {\"angularaxis\": {\"gridcolor\": \"white\", \"linecolor\": \"white\", \"ticks\": \"\"}, \"bgcolor\": \"#E5ECF6\", \"radialaxis\": {\"gridcolor\": \"white\", \"linecolor\": \"white\", \"ticks\": \"\"}}, \"scene\": {\"xaxis\": {\"backgroundcolor\": \"#E5ECF6\", \"gridcolor\": \"white\", \"gridwidth\": 2, \"linecolor\": \"white\", \"showbackground\": true, \"ticks\": \"\", \"zerolinecolor\": \"white\"}, \"yaxis\": {\"backgroundcolor\": \"#E5ECF6\", \"gridcolor\": \"white\", \"gridwidth\": 2, \"linecolor\": \"white\", \"showbackground\": true, \"ticks\": \"\", \"zerolinecolor\": \"white\"}, \"zaxis\": {\"backgroundcolor\": \"#E5ECF6\", \"gridcolor\": \"white\", \"gridwidth\": 2, \"linecolor\": \"white\", \"showbackground\": true, \"ticks\": \"\", \"zerolinecolor\": \"white\"}}, \"shapedefaults\": {\"line\": {\"color\": \"#2a3f5f\"}}, \"ternary\": {\"aaxis\": {\"gridcolor\": \"white\", \"linecolor\": \"white\", \"ticks\": \"\"}, \"baxis\": {\"gridcolor\": \"white\", \"linecolor\": \"white\", \"ticks\": \"\"}, \"bgcolor\": \"#E5ECF6\", \"caxis\": {\"gridcolor\": \"white\", \"linecolor\": \"white\", \"ticks\": \"\"}}, \"title\": {\"x\": 0.05}, \"xaxis\": {\"automargin\": true, \"gridcolor\": \"white\", \"linecolor\": \"white\", \"ticks\": \"\", \"zerolinecolor\": \"white\", \"zerolinewidth\": 2}, \"yaxis\": {\"automargin\": true, \"gridcolor\": \"white\", \"linecolor\": \"white\", \"ticks\": \"\", \"zerolinecolor\": \"white\", \"zerolinewidth\": 2}}}, \"title\": {\"font\": {\"family\": \"Times New Roman\"}, \"text\": \"<b>Correlation Coefficients for Boise Bench and Associated Neighborhoods<b>\", \"x\": 0.5, \"xref\": \"paper\"}, \"xaxis\": {\"title\": {\"font\": {\"family\": \"Times New Roman\", \"size\": 16}, \"text\": \"<b>Feature Key<b>\"}, \"type\": \"category\"}, \"yaxis\": {\"title\": {\"font\": {\"family\": \"Times New Roman\", \"size\": 16}, \"text\": \"<b>Correlation Coefficient<b>\"}}},\n",
       "                        {\"responsive\": true}\n",
       "                    ).then(function(){\n",
       "                            \n",
       "var gd = document.getElementById('4fa6a12c-6283-4480-b4a3-6a6848ad6451');\n",
       "var x = new MutationObserver(function (mutations, observer) {{\n",
       "        var display = window.getComputedStyle(gd).display;\n",
       "        if (!display || display === 'none') {{\n",
       "            console.log([gd, 'removed!']);\n",
       "            Plotly.purge(gd);\n",
       "            observer.disconnect();\n",
       "        }}\n",
       "}});\n",
       "\n",
       "// Listen for the removal of the full notebook cells\n",
       "var notebookContainer = gd.closest('#notebook-container');\n",
       "if (notebookContainer) {{\n",
       "    x.observe(notebookContainer, {childList: true});\n",
       "}}\n",
       "\n",
       "// Listen for the clearing of the current output cell\n",
       "var outputEl = gd.closest('.output');\n",
       "if (outputEl) {{\n",
       "    x.observe(outputEl, {childList: true});\n",
       "}}\n",
       "\n",
       "                        })\n",
       "                };\n",
       "                });\n",
       "            </script>\n",
       "        </div>"
      ]
     },
     "metadata": {},
     "output_type": "display_data"
    }
   ],
   "source": [
    "df = pd.read_pickle('BB-Coeff-compare.pkl')\n",
    "df2 = pd.read_pickle('a-Coeff-compare.pkl')\n",
    "\n",
    "df = pd.merge(df,df2, on = 'index', how = 'outer')\n",
    "\n",
    "# drops rows up to TAV_Ch, below TAV_Ch = 0 and TAV_Ch = 1 \n",
    "df = df.iloc[9:]\n",
    "\n",
    "# Needed to make a key for ease a readability and to make the reference line for moderate linear \n",
    "# relationship\n",
    "df= df.rename(columns = {'index' : 'Feature_Name'})\n",
    "df['index'] = ['00','01','02','03','04','05','06','07','08','09','10','11','12','13','14',\n",
    "             '15','16','17','18','19','20','21','22','23','24','25','26','27','28','29','30']\n",
    "df['ref_line'] = .3\n",
    "\n",
    "\n",
    "#this will drop rows that have less than 4 values (feature name, key, ref line, & @ least 1 value)\n",
    "df = df.dropna(thresh = 4)\n",
    "\n",
    "BB_fig = go.Figure()\n",
    "\n",
    "BB_fig.add_trace(go.Scatter(x= df['index'], y=df['B_Bench'],\n",
    "                    mode='markers',\n",
    "                    marker_color = 'rgb(0,128,128)',\n",
    "                    marker=dict(size= 12, symbol = \"star-diamond-open\"), \n",
    "                    name='Boise Bench Area'))\n",
    "\n",
    "BB_fig.add_trace(go.Scatter(x= df['index'], y=df['BB_CB_Bench'],\n",
    "                    mode='markers',  \n",
    "                    marker_color='rgb(102,205,170)',  \n",
    "                    name='Central B. Bench'))\n",
    "\n",
    "BB_fig.add_trace(go.Scatter(x= df['index'], y=df['BB_NC_Bench'],\n",
    "                    mode='markers',  \n",
    "                    marker_color='rgb(32,178,170)',     \n",
    "                    name='North Central Bench'))\n",
    "\n",
    "BB_fig.add_trace(go.Scatter(x= df['index'], y=df['BB_BBF_Corridor'],\n",
    "                    mode='markers',\n",
    "                    marker_color='rgb(0,139,139)',     \n",
    "                    name='B. Bench Freeway Cor.'))\n",
    "\n",
    "BB_fig.add_trace(go.Scatter(x= df['index'], y=df['BB_PU_Waterfront'],\n",
    "                    mode='markers',\n",
    "                    marker_color='rgb(0,255,255)',     \n",
    "                    name='Park & University Waterfront'))\n",
    "\n",
    "\n",
    "\n",
    "BB_fig.add_trace(go.Scatter(x= df['index'] , y=df['ref_line'],\n",
    "                    mode = 'lines',          \n",
    "                    line = dict(color='Black', width=1, dash='dot'),          \n",
    "                    name='>0.3 Moderate Linear Relationship'))\n",
    "\n",
    "BB_fig.update_layout(\n",
    "    title=go.layout.Title(\n",
    "        text=\"<b>Correlation Coefficients for Boise Bench and Associated Neighborhoods<b>\",\n",
    "        font = dict( \n",
    "            family = 'Times New Roman'),\n",
    "        xref=\"paper\",\n",
    "        x=.5\n",
    "    ),\n",
    "    yaxis=go.layout.YAxis(\n",
    "        title=go.layout.yaxis.Title(\n",
    "            text=\"<b>Correlation Coefficient<b>\",\n",
    "            font=dict(\n",
    "                family=\"Times New Roman\",\n",
    "                size=16,\n",
    "#                color=\"#7f7f7f\"\n",
    "            )\n",
    "        )\n",
    "    ),\n",
    "    xaxis=go.layout.XAxis(\n",
    "        type = 'category',\n",
    "        title=go.layout.xaxis.Title(\n",
    "            text=\"<b>Feature Key<b>\",\n",
    "            font=dict(\n",
    "                family=\"Times New Roman\",\n",
    "                size=16,\n",
    "#                color=\"#7f7f7f\"\n",
    "            )\n",
    "        )\n",
    "    ))\n",
    "\n",
    "\n",
    "BB_fig.write_image(\"images/BB_fig.jpg\")\n",
    "BB_fig.show()"
   ]
  },
  {
   "cell_type": "markdown",
   "metadata": {},
   "source": [
    "## West Boise-Meridian"
   ]
  },
  {
   "cell_type": "code",
   "execution_count": 85,
   "metadata": {},
   "outputs": [
    {
     "data": {
      "application/vnd.plotly.v1+json": {
       "config": {
        "plotlyServerURL": "https://plot.ly"
       },
       "data": [
        {
         "marker": {
          "color": "rgb(255,140,0)",
          "size": 12,
          "symbol": "hourglass-open"
         },
         "mode": "markers",
         "name": "West Boise-Meridian Area",
         "type": "scatter",
         "x": [
          "01",
          "02",
          "04",
          "09",
          "12",
          "15",
          "16",
          "18",
          "20",
          "21",
          "24",
          "28",
          "29",
          "30"
         ],
         "y": [
          0.17200512497700174,
          0.1904964859912985,
          null,
          0.1682920275536081,
          null,
          0.1872697109980509,
          null,
          0.16916813917865597,
          0.19343996709316957,
          0.1889609160179004,
          null,
          0.19680433092148597,
          0.19205655325395457,
          0.21572484830063943
         ]
        },
        {
         "marker": {
          "color": "rgb(255,140,0)"
         },
         "mode": "markers",
         "name": "West Boise",
         "type": "scatter",
         "x": [
          "01",
          "02",
          "04",
          "09",
          "12",
          "15",
          "16",
          "18",
          "20",
          "21",
          "24",
          "28",
          "29",
          "30"
         ],
         "y": [
          0.3035903819535061,
          0.32446347865687053,
          null,
          null,
          null,
          0.29548452918571827,
          null,
          0.2842149986167752,
          0.3244879054746189,
          0.3230057449983887,
          0.2847527146450548,
          0.3065965460744047,
          0.3074411338829379,
          0.35618347408301365
         ]
        },
        {
         "marker": {
          "color": "rgb(255,215,0)"
         },
         "mode": "markers",
         "name": "NE Meridian",
         "type": "scatter",
         "x": [
          "01",
          "02",
          "04",
          "09",
          "12",
          "15",
          "16",
          "18",
          "20",
          "21",
          "24",
          "28",
          "29",
          "30"
         ],
         "y": [
          null,
          0.09501694981469262,
          null,
          0.09363832627248132,
          null,
          0.1173610308045343,
          0.10128409521868051,
          0.09110578692137916,
          0.10808818881686318,
          0.09849233407612863,
          null,
          0.13352709438507587,
          0.12074455294179667,
          0.12342183020877188
         ]
        },
        {
         "marker": {
          "color": "rgb(255,69,0)"
         },
         "mode": "markers",
         "name": "W. B. Freeway Cor.",
         "type": "scatter",
         "x": [
          "01",
          "02",
          "04",
          "09",
          "12",
          "15",
          "16",
          "18",
          "20",
          "21",
          "24",
          "28",
          "29",
          "30"
         ],
         "y": [
          null,
          0.5345672547592468,
          null,
          null,
          null,
          0.47459395257198356,
          0.41305953501443055,
          0.4710863901251694,
          0.484906264784244,
          0.48382591482144544,
          0.39795281807539196,
          0.41554216603590166,
          0.4285454294868243,
          0.5469360227644535
         ]
        },
        {
         "marker": {
          "color": "rgb(255,99,71)"
         },
         "mode": "markers",
         "name": "North Central Bench",
         "type": "scatter",
         "x": [
          "01",
          "02",
          "04",
          "09",
          "12",
          "15",
          "16",
          "18",
          "20",
          "21",
          "24",
          "28",
          "29",
          "30"
         ],
         "y": [
          0.4559792923255224,
          0.5220244866430106,
          null,
          0.3780259588508258,
          null,
          0.5505818529354568,
          null,
          null,
          0.41030017281281733,
          0.3894446470271768,
          0.4094481369193571,
          0.5423126112491948,
          0.5219256766519385,
          0.4878490943967231
         ]
        },
        {
         "marker": {
          "color": "rgb(255,127,80)"
         },
         "mode": "markers",
         "name": "Gardin City Chinden Freeway Cor.",
         "type": "scatter",
         "x": [
          "01",
          "02",
          "04",
          "09",
          "12",
          "15",
          "16",
          "18",
          "20",
          "21",
          "24",
          "28",
          "29",
          "30"
         ],
         "y": [
          0.43632526241486447,
          0.3845879923655395,
          0.3376754845708248,
          0.3458282671617602,
          null,
          null,
          null,
          null,
          0.3988445224292313,
          0.339172722308786,
          0.3587975372361384,
          0.40452737219955287,
          0.36968354482575794,
          0.4201166592721965
         ]
        },
        {
         "marker": {
          "color": "rgb(255,165,0)"
         },
         "mode": "markers",
         "name": "Meridian Freeway Cor.",
         "type": "scatter",
         "x": [
          "01",
          "02",
          "04",
          "09",
          "12",
          "15",
          "16",
          "18",
          "20",
          "21",
          "24",
          "28",
          "29",
          "30"
         ],
         "y": [
          null,
          0.5893339081272435,
          null,
          0.5982425264481214,
          null,
          0.5966954332649353,
          0.5426278705140293,
          0.566332719163675,
          0.5597487621151188,
          0.6359715662090226,
          null,
          0.5465584973549037,
          0.5746166800420794,
          0.7261201409455981
         ]
        },
        {
         "line": {
          "color": "Black",
          "dash": "dot",
          "width": 1
         },
         "mode": "lines",
         "name": ">0.3 Moderate Linear Relationship",
         "type": "scatter",
         "x": [
          "01",
          "02",
          "04",
          "09",
          "12",
          "15",
          "16",
          "18",
          "20",
          "21",
          "24",
          "28",
          "29",
          "30"
         ],
         "y": [
          0.3,
          0.3,
          0.3,
          0.3,
          0.3,
          0.3,
          0.3,
          0.3,
          0.3,
          0.3,
          0.3,
          0.3,
          0.3,
          0.3
         ]
        }
       ],
       "layout": {
        "template": {
         "data": {
          "bar": [
           {
            "error_x": {
             "color": "#2a3f5f"
            },
            "error_y": {
             "color": "#2a3f5f"
            },
            "marker": {
             "line": {
              "color": "#E5ECF6",
              "width": 0.5
             }
            },
            "type": "bar"
           }
          ],
          "barpolar": [
           {
            "marker": {
             "line": {
              "color": "#E5ECF6",
              "width": 0.5
             }
            },
            "type": "barpolar"
           }
          ],
          "carpet": [
           {
            "aaxis": {
             "endlinecolor": "#2a3f5f",
             "gridcolor": "white",
             "linecolor": "white",
             "minorgridcolor": "white",
             "startlinecolor": "#2a3f5f"
            },
            "baxis": {
             "endlinecolor": "#2a3f5f",
             "gridcolor": "white",
             "linecolor": "white",
             "minorgridcolor": "white",
             "startlinecolor": "#2a3f5f"
            },
            "type": "carpet"
           }
          ],
          "choropleth": [
           {
            "colorbar": {
             "outlinewidth": 0,
             "ticks": ""
            },
            "type": "choropleth"
           }
          ],
          "contour": [
           {
            "colorbar": {
             "outlinewidth": 0,
             "ticks": ""
            },
            "colorscale": [
             [
              0,
              "#0d0887"
             ],
             [
              0.1111111111111111,
              "#46039f"
             ],
             [
              0.2222222222222222,
              "#7201a8"
             ],
             [
              0.3333333333333333,
              "#9c179e"
             ],
             [
              0.4444444444444444,
              "#bd3786"
             ],
             [
              0.5555555555555556,
              "#d8576b"
             ],
             [
              0.6666666666666666,
              "#ed7953"
             ],
             [
              0.7777777777777778,
              "#fb9f3a"
             ],
             [
              0.8888888888888888,
              "#fdca26"
             ],
             [
              1,
              "#f0f921"
             ]
            ],
            "type": "contour"
           }
          ],
          "contourcarpet": [
           {
            "colorbar": {
             "outlinewidth": 0,
             "ticks": ""
            },
            "type": "contourcarpet"
           }
          ],
          "heatmap": [
           {
            "colorbar": {
             "outlinewidth": 0,
             "ticks": ""
            },
            "colorscale": [
             [
              0,
              "#0d0887"
             ],
             [
              0.1111111111111111,
              "#46039f"
             ],
             [
              0.2222222222222222,
              "#7201a8"
             ],
             [
              0.3333333333333333,
              "#9c179e"
             ],
             [
              0.4444444444444444,
              "#bd3786"
             ],
             [
              0.5555555555555556,
              "#d8576b"
             ],
             [
              0.6666666666666666,
              "#ed7953"
             ],
             [
              0.7777777777777778,
              "#fb9f3a"
             ],
             [
              0.8888888888888888,
              "#fdca26"
             ],
             [
              1,
              "#f0f921"
             ]
            ],
            "type": "heatmap"
           }
          ],
          "heatmapgl": [
           {
            "colorbar": {
             "outlinewidth": 0,
             "ticks": ""
            },
            "colorscale": [
             [
              0,
              "#0d0887"
             ],
             [
              0.1111111111111111,
              "#46039f"
             ],
             [
              0.2222222222222222,
              "#7201a8"
             ],
             [
              0.3333333333333333,
              "#9c179e"
             ],
             [
              0.4444444444444444,
              "#bd3786"
             ],
             [
              0.5555555555555556,
              "#d8576b"
             ],
             [
              0.6666666666666666,
              "#ed7953"
             ],
             [
              0.7777777777777778,
              "#fb9f3a"
             ],
             [
              0.8888888888888888,
              "#fdca26"
             ],
             [
              1,
              "#f0f921"
             ]
            ],
            "type": "heatmapgl"
           }
          ],
          "histogram": [
           {
            "marker": {
             "colorbar": {
              "outlinewidth": 0,
              "ticks": ""
             }
            },
            "type": "histogram"
           }
          ],
          "histogram2d": [
           {
            "colorbar": {
             "outlinewidth": 0,
             "ticks": ""
            },
            "colorscale": [
             [
              0,
              "#0d0887"
             ],
             [
              0.1111111111111111,
              "#46039f"
             ],
             [
              0.2222222222222222,
              "#7201a8"
             ],
             [
              0.3333333333333333,
              "#9c179e"
             ],
             [
              0.4444444444444444,
              "#bd3786"
             ],
             [
              0.5555555555555556,
              "#d8576b"
             ],
             [
              0.6666666666666666,
              "#ed7953"
             ],
             [
              0.7777777777777778,
              "#fb9f3a"
             ],
             [
              0.8888888888888888,
              "#fdca26"
             ],
             [
              1,
              "#f0f921"
             ]
            ],
            "type": "histogram2d"
           }
          ],
          "histogram2dcontour": [
           {
            "colorbar": {
             "outlinewidth": 0,
             "ticks": ""
            },
            "colorscale": [
             [
              0,
              "#0d0887"
             ],
             [
              0.1111111111111111,
              "#46039f"
             ],
             [
              0.2222222222222222,
              "#7201a8"
             ],
             [
              0.3333333333333333,
              "#9c179e"
             ],
             [
              0.4444444444444444,
              "#bd3786"
             ],
             [
              0.5555555555555556,
              "#d8576b"
             ],
             [
              0.6666666666666666,
              "#ed7953"
             ],
             [
              0.7777777777777778,
              "#fb9f3a"
             ],
             [
              0.8888888888888888,
              "#fdca26"
             ],
             [
              1,
              "#f0f921"
             ]
            ],
            "type": "histogram2dcontour"
           }
          ],
          "mesh3d": [
           {
            "colorbar": {
             "outlinewidth": 0,
             "ticks": ""
            },
            "type": "mesh3d"
           }
          ],
          "parcoords": [
           {
            "line": {
             "colorbar": {
              "outlinewidth": 0,
              "ticks": ""
             }
            },
            "type": "parcoords"
           }
          ],
          "scatter": [
           {
            "marker": {
             "colorbar": {
              "outlinewidth": 0,
              "ticks": ""
             }
            },
            "type": "scatter"
           }
          ],
          "scatter3d": [
           {
            "line": {
             "colorbar": {
              "outlinewidth": 0,
              "ticks": ""
             }
            },
            "marker": {
             "colorbar": {
              "outlinewidth": 0,
              "ticks": ""
             }
            },
            "type": "scatter3d"
           }
          ],
          "scattercarpet": [
           {
            "marker": {
             "colorbar": {
              "outlinewidth": 0,
              "ticks": ""
             }
            },
            "type": "scattercarpet"
           }
          ],
          "scattergeo": [
           {
            "marker": {
             "colorbar": {
              "outlinewidth": 0,
              "ticks": ""
             }
            },
            "type": "scattergeo"
           }
          ],
          "scattergl": [
           {
            "marker": {
             "colorbar": {
              "outlinewidth": 0,
              "ticks": ""
             }
            },
            "type": "scattergl"
           }
          ],
          "scattermapbox": [
           {
            "marker": {
             "colorbar": {
              "outlinewidth": 0,
              "ticks": ""
             }
            },
            "type": "scattermapbox"
           }
          ],
          "scatterpolar": [
           {
            "marker": {
             "colorbar": {
              "outlinewidth": 0,
              "ticks": ""
             }
            },
            "type": "scatterpolar"
           }
          ],
          "scatterpolargl": [
           {
            "marker": {
             "colorbar": {
              "outlinewidth": 0,
              "ticks": ""
             }
            },
            "type": "scatterpolargl"
           }
          ],
          "scatterternary": [
           {
            "marker": {
             "colorbar": {
              "outlinewidth": 0,
              "ticks": ""
             }
            },
            "type": "scatterternary"
           }
          ],
          "surface": [
           {
            "colorbar": {
             "outlinewidth": 0,
             "ticks": ""
            },
            "colorscale": [
             [
              0,
              "#0d0887"
             ],
             [
              0.1111111111111111,
              "#46039f"
             ],
             [
              0.2222222222222222,
              "#7201a8"
             ],
             [
              0.3333333333333333,
              "#9c179e"
             ],
             [
              0.4444444444444444,
              "#bd3786"
             ],
             [
              0.5555555555555556,
              "#d8576b"
             ],
             [
              0.6666666666666666,
              "#ed7953"
             ],
             [
              0.7777777777777778,
              "#fb9f3a"
             ],
             [
              0.8888888888888888,
              "#fdca26"
             ],
             [
              1,
              "#f0f921"
             ]
            ],
            "type": "surface"
           }
          ],
          "table": [
           {
            "cells": {
             "fill": {
              "color": "#EBF0F8"
             },
             "line": {
              "color": "white"
             }
            },
            "header": {
             "fill": {
              "color": "#C8D4E3"
             },
             "line": {
              "color": "white"
             }
            },
            "type": "table"
           }
          ]
         },
         "layout": {
          "annotationdefaults": {
           "arrowcolor": "#2a3f5f",
           "arrowhead": 0,
           "arrowwidth": 1
          },
          "colorscale": {
           "diverging": [
            [
             0,
             "#8e0152"
            ],
            [
             0.1,
             "#c51b7d"
            ],
            [
             0.2,
             "#de77ae"
            ],
            [
             0.3,
             "#f1b6da"
            ],
            [
             0.4,
             "#fde0ef"
            ],
            [
             0.5,
             "#f7f7f7"
            ],
            [
             0.6,
             "#e6f5d0"
            ],
            [
             0.7,
             "#b8e186"
            ],
            [
             0.8,
             "#7fbc41"
            ],
            [
             0.9,
             "#4d9221"
            ],
            [
             1,
             "#276419"
            ]
           ],
           "sequential": [
            [
             0,
             "#0d0887"
            ],
            [
             0.1111111111111111,
             "#46039f"
            ],
            [
             0.2222222222222222,
             "#7201a8"
            ],
            [
             0.3333333333333333,
             "#9c179e"
            ],
            [
             0.4444444444444444,
             "#bd3786"
            ],
            [
             0.5555555555555556,
             "#d8576b"
            ],
            [
             0.6666666666666666,
             "#ed7953"
            ],
            [
             0.7777777777777778,
             "#fb9f3a"
            ],
            [
             0.8888888888888888,
             "#fdca26"
            ],
            [
             1,
             "#f0f921"
            ]
           ],
           "sequentialminus": [
            [
             0,
             "#0d0887"
            ],
            [
             0.1111111111111111,
             "#46039f"
            ],
            [
             0.2222222222222222,
             "#7201a8"
            ],
            [
             0.3333333333333333,
             "#9c179e"
            ],
            [
             0.4444444444444444,
             "#bd3786"
            ],
            [
             0.5555555555555556,
             "#d8576b"
            ],
            [
             0.6666666666666666,
             "#ed7953"
            ],
            [
             0.7777777777777778,
             "#fb9f3a"
            ],
            [
             0.8888888888888888,
             "#fdca26"
            ],
            [
             1,
             "#f0f921"
            ]
           ]
          },
          "colorway": [
           "#636efa",
           "#EF553B",
           "#00cc96",
           "#ab63fa",
           "#FFA15A",
           "#19d3f3",
           "#FF6692",
           "#B6E880",
           "#FF97FF",
           "#FECB52"
          ],
          "font": {
           "color": "#2a3f5f"
          },
          "geo": {
           "bgcolor": "white",
           "lakecolor": "white",
           "landcolor": "#E5ECF6",
           "showlakes": true,
           "showland": true,
           "subunitcolor": "white"
          },
          "hoverlabel": {
           "align": "left"
          },
          "hovermode": "closest",
          "mapbox": {
           "style": "light"
          },
          "paper_bgcolor": "white",
          "plot_bgcolor": "#E5ECF6",
          "polar": {
           "angularaxis": {
            "gridcolor": "white",
            "linecolor": "white",
            "ticks": ""
           },
           "bgcolor": "#E5ECF6",
           "radialaxis": {
            "gridcolor": "white",
            "linecolor": "white",
            "ticks": ""
           }
          },
          "scene": {
           "xaxis": {
            "backgroundcolor": "#E5ECF6",
            "gridcolor": "white",
            "gridwidth": 2,
            "linecolor": "white",
            "showbackground": true,
            "ticks": "",
            "zerolinecolor": "white"
           },
           "yaxis": {
            "backgroundcolor": "#E5ECF6",
            "gridcolor": "white",
            "gridwidth": 2,
            "linecolor": "white",
            "showbackground": true,
            "ticks": "",
            "zerolinecolor": "white"
           },
           "zaxis": {
            "backgroundcolor": "#E5ECF6",
            "gridcolor": "white",
            "gridwidth": 2,
            "linecolor": "white",
            "showbackground": true,
            "ticks": "",
            "zerolinecolor": "white"
           }
          },
          "shapedefaults": {
           "line": {
            "color": "#2a3f5f"
           }
          },
          "ternary": {
           "aaxis": {
            "gridcolor": "white",
            "linecolor": "white",
            "ticks": ""
           },
           "baxis": {
            "gridcolor": "white",
            "linecolor": "white",
            "ticks": ""
           },
           "bgcolor": "#E5ECF6",
           "caxis": {
            "gridcolor": "white",
            "linecolor": "white",
            "ticks": ""
           }
          },
          "title": {
           "x": 0.05
          },
          "xaxis": {
           "automargin": true,
           "gridcolor": "white",
           "linecolor": "white",
           "ticks": "",
           "zerolinecolor": "white",
           "zerolinewidth": 2
          },
          "yaxis": {
           "automargin": true,
           "gridcolor": "white",
           "linecolor": "white",
           "ticks": "",
           "zerolinecolor": "white",
           "zerolinewidth": 2
          }
         }
        },
        "title": {
         "font": {
          "family": "Times New Roman"
         },
         "text": "<b>Correlation Coefficients for West Boise-Meridian and Associated Neighborhoods<b>",
         "x": 0.5,
         "xref": "paper"
        },
        "xaxis": {
         "title": {
          "font": {
           "family": "Times New Roman",
           "size": 16
          },
          "text": "<b>Feature Key<b>"
         },
         "type": "category"
        },
        "yaxis": {
         "title": {
          "font": {
           "family": "Times New Roman",
           "size": 16
          },
          "text": "<b>Correlation Coefficient<b>"
         }
        }
       }
      },
      "text/html": [
       "<div>\n",
       "        \n",
       "        \n",
       "            <div id=\"99318584-57aa-4d79-812f-c98bdf57a648\" class=\"plotly-graph-div\" style=\"height:525px; width:100%;\"></div>\n",
       "            <script type=\"text/javascript\">\n",
       "                require([\"plotly\"], function(Plotly) {\n",
       "                    window.PLOTLYENV=window.PLOTLYENV || {};\n",
       "                    \n",
       "                if (document.getElementById(\"99318584-57aa-4d79-812f-c98bdf57a648\")) {\n",
       "                    Plotly.newPlot(\n",
       "                        '99318584-57aa-4d79-812f-c98bdf57a648',\n",
       "                        [{\"marker\": {\"color\": \"rgb(255,140,0)\", \"size\": 12, \"symbol\": \"hourglass-open\"}, \"mode\": \"markers\", \"name\": \"West Boise-Meridian Area\", \"type\": \"scatter\", \"x\": [\"01\", \"02\", \"04\", \"09\", \"12\", \"15\", \"16\", \"18\", \"20\", \"21\", \"24\", \"28\", \"29\", \"30\"], \"y\": [0.17200512497700174, 0.1904964859912985, null, 0.1682920275536081, null, 0.1872697109980509, null, 0.16916813917865597, 0.19343996709316957, 0.1889609160179004, null, 0.19680433092148597, 0.19205655325395457, 0.21572484830063943]}, {\"marker\": {\"color\": \"rgb(255,140,0)\"}, \"mode\": \"markers\", \"name\": \"West Boise\", \"type\": \"scatter\", \"x\": [\"01\", \"02\", \"04\", \"09\", \"12\", \"15\", \"16\", \"18\", \"20\", \"21\", \"24\", \"28\", \"29\", \"30\"], \"y\": [0.3035903819535061, 0.32446347865687053, null, null, null, 0.29548452918571827, null, 0.2842149986167752, 0.3244879054746189, 0.3230057449983887, 0.2847527146450548, 0.3065965460744047, 0.3074411338829379, 0.35618347408301365]}, {\"marker\": {\"color\": \"rgb(255,215,0)\"}, \"mode\": \"markers\", \"name\": \"NE Meridian\", \"type\": \"scatter\", \"x\": [\"01\", \"02\", \"04\", \"09\", \"12\", \"15\", \"16\", \"18\", \"20\", \"21\", \"24\", \"28\", \"29\", \"30\"], \"y\": [null, 0.09501694981469262, null, 0.09363832627248132, null, 0.1173610308045343, 0.10128409521868051, 0.09110578692137916, 0.10808818881686318, 0.09849233407612863, null, 0.13352709438507587, 0.12074455294179667, 0.12342183020877188]}, {\"marker\": {\"color\": \"rgb(255,69,0)\"}, \"mode\": \"markers\", \"name\": \"W. B. Freeway Cor.\", \"type\": \"scatter\", \"x\": [\"01\", \"02\", \"04\", \"09\", \"12\", \"15\", \"16\", \"18\", \"20\", \"21\", \"24\", \"28\", \"29\", \"30\"], \"y\": [null, 0.5345672547592468, null, null, null, 0.47459395257198356, 0.41305953501443055, 0.4710863901251694, 0.484906264784244, 0.48382591482144544, 0.39795281807539196, 0.41554216603590166, 0.4285454294868243, 0.5469360227644535]}, {\"marker\": {\"color\": \"rgb(255,99,71)\"}, \"mode\": \"markers\", \"name\": \"North Central Bench\", \"type\": \"scatter\", \"x\": [\"01\", \"02\", \"04\", \"09\", \"12\", \"15\", \"16\", \"18\", \"20\", \"21\", \"24\", \"28\", \"29\", \"30\"], \"y\": [0.4559792923255224, 0.5220244866430106, null, 0.3780259588508258, null, 0.5505818529354568, null, null, 0.41030017281281733, 0.3894446470271768, 0.4094481369193571, 0.5423126112491948, 0.5219256766519385, 0.4878490943967231]}, {\"marker\": {\"color\": \"rgb(255,127,80)\"}, \"mode\": \"markers\", \"name\": \"Gardin City Chinden Freeway Cor.\", \"type\": \"scatter\", \"x\": [\"01\", \"02\", \"04\", \"09\", \"12\", \"15\", \"16\", \"18\", \"20\", \"21\", \"24\", \"28\", \"29\", \"30\"], \"y\": [0.43632526241486447, 0.3845879923655395, 0.3376754845708248, 0.3458282671617602, null, null, null, null, 0.3988445224292313, 0.339172722308786, 0.3587975372361384, 0.40452737219955287, 0.36968354482575794, 0.4201166592721965]}, {\"marker\": {\"color\": \"rgb(255,165,0)\"}, \"mode\": \"markers\", \"name\": \"Meridian Freeway Cor.\", \"type\": \"scatter\", \"x\": [\"01\", \"02\", \"04\", \"09\", \"12\", \"15\", \"16\", \"18\", \"20\", \"21\", \"24\", \"28\", \"29\", \"30\"], \"y\": [null, 0.5893339081272435, null, 0.5982425264481214, null, 0.5966954332649353, 0.5426278705140293, 0.566332719163675, 0.5597487621151188, 0.6359715662090226, null, 0.5465584973549037, 0.5746166800420794, 0.7261201409455981]}, {\"line\": {\"color\": \"Black\", \"dash\": \"dot\", \"width\": 1}, \"mode\": \"lines\", \"name\": \">0.3 Moderate Linear Relationship\", \"type\": \"scatter\", \"x\": [\"01\", \"02\", \"04\", \"09\", \"12\", \"15\", \"16\", \"18\", \"20\", \"21\", \"24\", \"28\", \"29\", \"30\"], \"y\": [0.3, 0.3, 0.3, 0.3, 0.3, 0.3, 0.3, 0.3, 0.3, 0.3, 0.3, 0.3, 0.3, 0.3]}],\n",
       "                        {\"template\": {\"data\": {\"bar\": [{\"error_x\": {\"color\": \"#2a3f5f\"}, \"error_y\": {\"color\": \"#2a3f5f\"}, \"marker\": {\"line\": {\"color\": \"#E5ECF6\", \"width\": 0.5}}, \"type\": \"bar\"}], \"barpolar\": [{\"marker\": {\"line\": {\"color\": \"#E5ECF6\", \"width\": 0.5}}, \"type\": \"barpolar\"}], \"carpet\": [{\"aaxis\": {\"endlinecolor\": \"#2a3f5f\", \"gridcolor\": \"white\", \"linecolor\": \"white\", \"minorgridcolor\": \"white\", \"startlinecolor\": \"#2a3f5f\"}, \"baxis\": {\"endlinecolor\": \"#2a3f5f\", \"gridcolor\": \"white\", \"linecolor\": \"white\", \"minorgridcolor\": \"white\", \"startlinecolor\": \"#2a3f5f\"}, \"type\": \"carpet\"}], \"choropleth\": [{\"colorbar\": {\"outlinewidth\": 0, \"ticks\": \"\"}, \"type\": \"choropleth\"}], \"contour\": [{\"colorbar\": {\"outlinewidth\": 0, \"ticks\": \"\"}, \"colorscale\": [[0.0, \"#0d0887\"], [0.1111111111111111, \"#46039f\"], [0.2222222222222222, \"#7201a8\"], [0.3333333333333333, \"#9c179e\"], [0.4444444444444444, \"#bd3786\"], [0.5555555555555556, \"#d8576b\"], [0.6666666666666666, \"#ed7953\"], [0.7777777777777778, \"#fb9f3a\"], [0.8888888888888888, \"#fdca26\"], [1.0, \"#f0f921\"]], \"type\": \"contour\"}], \"contourcarpet\": [{\"colorbar\": {\"outlinewidth\": 0, \"ticks\": \"\"}, \"type\": \"contourcarpet\"}], \"heatmap\": [{\"colorbar\": {\"outlinewidth\": 0, \"ticks\": \"\"}, \"colorscale\": [[0.0, \"#0d0887\"], [0.1111111111111111, \"#46039f\"], [0.2222222222222222, \"#7201a8\"], [0.3333333333333333, \"#9c179e\"], [0.4444444444444444, \"#bd3786\"], [0.5555555555555556, \"#d8576b\"], [0.6666666666666666, \"#ed7953\"], [0.7777777777777778, \"#fb9f3a\"], [0.8888888888888888, \"#fdca26\"], [1.0, \"#f0f921\"]], \"type\": \"heatmap\"}], \"heatmapgl\": [{\"colorbar\": {\"outlinewidth\": 0, \"ticks\": \"\"}, \"colorscale\": [[0.0, \"#0d0887\"], [0.1111111111111111, \"#46039f\"], [0.2222222222222222, \"#7201a8\"], [0.3333333333333333, \"#9c179e\"], [0.4444444444444444, \"#bd3786\"], [0.5555555555555556, \"#d8576b\"], [0.6666666666666666, \"#ed7953\"], [0.7777777777777778, \"#fb9f3a\"], [0.8888888888888888, \"#fdca26\"], [1.0, \"#f0f921\"]], \"type\": \"heatmapgl\"}], \"histogram\": [{\"marker\": {\"colorbar\": {\"outlinewidth\": 0, \"ticks\": \"\"}}, \"type\": \"histogram\"}], \"histogram2d\": [{\"colorbar\": {\"outlinewidth\": 0, \"ticks\": \"\"}, \"colorscale\": [[0.0, \"#0d0887\"], [0.1111111111111111, \"#46039f\"], [0.2222222222222222, \"#7201a8\"], [0.3333333333333333, \"#9c179e\"], [0.4444444444444444, \"#bd3786\"], [0.5555555555555556, \"#d8576b\"], [0.6666666666666666, \"#ed7953\"], [0.7777777777777778, \"#fb9f3a\"], [0.8888888888888888, \"#fdca26\"], [1.0, \"#f0f921\"]], \"type\": \"histogram2d\"}], \"histogram2dcontour\": [{\"colorbar\": {\"outlinewidth\": 0, \"ticks\": \"\"}, \"colorscale\": [[0.0, \"#0d0887\"], [0.1111111111111111, \"#46039f\"], [0.2222222222222222, \"#7201a8\"], [0.3333333333333333, \"#9c179e\"], [0.4444444444444444, \"#bd3786\"], [0.5555555555555556, \"#d8576b\"], [0.6666666666666666, \"#ed7953\"], [0.7777777777777778, \"#fb9f3a\"], [0.8888888888888888, \"#fdca26\"], [1.0, \"#f0f921\"]], \"type\": \"histogram2dcontour\"}], \"mesh3d\": [{\"colorbar\": {\"outlinewidth\": 0, \"ticks\": \"\"}, \"type\": \"mesh3d\"}], \"parcoords\": [{\"line\": {\"colorbar\": {\"outlinewidth\": 0, \"ticks\": \"\"}}, \"type\": \"parcoords\"}], \"scatter\": [{\"marker\": {\"colorbar\": {\"outlinewidth\": 0, \"ticks\": \"\"}}, \"type\": \"scatter\"}], \"scatter3d\": [{\"line\": {\"colorbar\": {\"outlinewidth\": 0, \"ticks\": \"\"}}, \"marker\": {\"colorbar\": {\"outlinewidth\": 0, \"ticks\": \"\"}}, \"type\": \"scatter3d\"}], \"scattercarpet\": [{\"marker\": {\"colorbar\": {\"outlinewidth\": 0, \"ticks\": \"\"}}, \"type\": \"scattercarpet\"}], \"scattergeo\": [{\"marker\": {\"colorbar\": {\"outlinewidth\": 0, \"ticks\": \"\"}}, \"type\": \"scattergeo\"}], \"scattergl\": [{\"marker\": {\"colorbar\": {\"outlinewidth\": 0, \"ticks\": \"\"}}, \"type\": \"scattergl\"}], \"scattermapbox\": [{\"marker\": {\"colorbar\": {\"outlinewidth\": 0, \"ticks\": \"\"}}, \"type\": \"scattermapbox\"}], \"scatterpolar\": [{\"marker\": {\"colorbar\": {\"outlinewidth\": 0, \"ticks\": \"\"}}, \"type\": \"scatterpolar\"}], \"scatterpolargl\": [{\"marker\": {\"colorbar\": {\"outlinewidth\": 0, \"ticks\": \"\"}}, \"type\": \"scatterpolargl\"}], \"scatterternary\": [{\"marker\": {\"colorbar\": {\"outlinewidth\": 0, \"ticks\": \"\"}}, \"type\": \"scatterternary\"}], \"surface\": [{\"colorbar\": {\"outlinewidth\": 0, \"ticks\": \"\"}, \"colorscale\": [[0.0, \"#0d0887\"], [0.1111111111111111, \"#46039f\"], [0.2222222222222222, \"#7201a8\"], [0.3333333333333333, \"#9c179e\"], [0.4444444444444444, \"#bd3786\"], [0.5555555555555556, \"#d8576b\"], [0.6666666666666666, \"#ed7953\"], [0.7777777777777778, \"#fb9f3a\"], [0.8888888888888888, \"#fdca26\"], [1.0, \"#f0f921\"]], \"type\": \"surface\"}], \"table\": [{\"cells\": {\"fill\": {\"color\": \"#EBF0F8\"}, \"line\": {\"color\": \"white\"}}, \"header\": {\"fill\": {\"color\": \"#C8D4E3\"}, \"line\": {\"color\": \"white\"}}, \"type\": \"table\"}]}, \"layout\": {\"annotationdefaults\": {\"arrowcolor\": \"#2a3f5f\", \"arrowhead\": 0, \"arrowwidth\": 1}, \"colorscale\": {\"diverging\": [[0, \"#8e0152\"], [0.1, \"#c51b7d\"], [0.2, \"#de77ae\"], [0.3, \"#f1b6da\"], [0.4, \"#fde0ef\"], [0.5, \"#f7f7f7\"], [0.6, \"#e6f5d0\"], [0.7, \"#b8e186\"], [0.8, \"#7fbc41\"], [0.9, \"#4d9221\"], [1, \"#276419\"]], \"sequential\": [[0.0, \"#0d0887\"], [0.1111111111111111, \"#46039f\"], [0.2222222222222222, \"#7201a8\"], [0.3333333333333333, \"#9c179e\"], [0.4444444444444444, \"#bd3786\"], [0.5555555555555556, \"#d8576b\"], [0.6666666666666666, \"#ed7953\"], [0.7777777777777778, \"#fb9f3a\"], [0.8888888888888888, \"#fdca26\"], [1.0, \"#f0f921\"]], \"sequentialminus\": [[0.0, \"#0d0887\"], [0.1111111111111111, \"#46039f\"], [0.2222222222222222, \"#7201a8\"], [0.3333333333333333, \"#9c179e\"], [0.4444444444444444, \"#bd3786\"], [0.5555555555555556, \"#d8576b\"], [0.6666666666666666, \"#ed7953\"], [0.7777777777777778, \"#fb9f3a\"], [0.8888888888888888, \"#fdca26\"], [1.0, \"#f0f921\"]]}, \"colorway\": [\"#636efa\", \"#EF553B\", \"#00cc96\", \"#ab63fa\", \"#FFA15A\", \"#19d3f3\", \"#FF6692\", \"#B6E880\", \"#FF97FF\", \"#FECB52\"], \"font\": {\"color\": \"#2a3f5f\"}, \"geo\": {\"bgcolor\": \"white\", \"lakecolor\": \"white\", \"landcolor\": \"#E5ECF6\", \"showlakes\": true, \"showland\": true, \"subunitcolor\": \"white\"}, \"hoverlabel\": {\"align\": \"left\"}, \"hovermode\": \"closest\", \"mapbox\": {\"style\": \"light\"}, \"paper_bgcolor\": \"white\", \"plot_bgcolor\": \"#E5ECF6\", \"polar\": {\"angularaxis\": {\"gridcolor\": \"white\", \"linecolor\": \"white\", \"ticks\": \"\"}, \"bgcolor\": \"#E5ECF6\", \"radialaxis\": {\"gridcolor\": \"white\", \"linecolor\": \"white\", \"ticks\": \"\"}}, \"scene\": {\"xaxis\": {\"backgroundcolor\": \"#E5ECF6\", \"gridcolor\": \"white\", \"gridwidth\": 2, \"linecolor\": \"white\", \"showbackground\": true, \"ticks\": \"\", \"zerolinecolor\": \"white\"}, \"yaxis\": {\"backgroundcolor\": \"#E5ECF6\", \"gridcolor\": \"white\", \"gridwidth\": 2, \"linecolor\": \"white\", \"showbackground\": true, \"ticks\": \"\", \"zerolinecolor\": \"white\"}, \"zaxis\": {\"backgroundcolor\": \"#E5ECF6\", \"gridcolor\": \"white\", \"gridwidth\": 2, \"linecolor\": \"white\", \"showbackground\": true, \"ticks\": \"\", \"zerolinecolor\": \"white\"}}, \"shapedefaults\": {\"line\": {\"color\": \"#2a3f5f\"}}, \"ternary\": {\"aaxis\": {\"gridcolor\": \"white\", \"linecolor\": \"white\", \"ticks\": \"\"}, \"baxis\": {\"gridcolor\": \"white\", \"linecolor\": \"white\", \"ticks\": \"\"}, \"bgcolor\": \"#E5ECF6\", \"caxis\": {\"gridcolor\": \"white\", \"linecolor\": \"white\", \"ticks\": \"\"}}, \"title\": {\"x\": 0.05}, \"xaxis\": {\"automargin\": true, \"gridcolor\": \"white\", \"linecolor\": \"white\", \"ticks\": \"\", \"zerolinecolor\": \"white\", \"zerolinewidth\": 2}, \"yaxis\": {\"automargin\": true, \"gridcolor\": \"white\", \"linecolor\": \"white\", \"ticks\": \"\", \"zerolinecolor\": \"white\", \"zerolinewidth\": 2}}}, \"title\": {\"font\": {\"family\": \"Times New Roman\"}, \"text\": \"<b>Correlation Coefficients for West Boise-Meridian and Associated Neighborhoods<b>\", \"x\": 0.5, \"xref\": \"paper\"}, \"xaxis\": {\"title\": {\"font\": {\"family\": \"Times New Roman\", \"size\": 16}, \"text\": \"<b>Feature Key<b>\"}, \"type\": \"category\"}, \"yaxis\": {\"title\": {\"font\": {\"family\": \"Times New Roman\", \"size\": 16}, \"text\": \"<b>Correlation Coefficient<b>\"}}},\n",
       "                        {\"responsive\": true}\n",
       "                    ).then(function(){\n",
       "                            \n",
       "var gd = document.getElementById('99318584-57aa-4d79-812f-c98bdf57a648');\n",
       "var x = new MutationObserver(function (mutations, observer) {{\n",
       "        var display = window.getComputedStyle(gd).display;\n",
       "        if (!display || display === 'none') {{\n",
       "            console.log([gd, 'removed!']);\n",
       "            Plotly.purge(gd);\n",
       "            observer.disconnect();\n",
       "        }}\n",
       "}});\n",
       "\n",
       "// Listen for the removal of the full notebook cells\n",
       "var notebookContainer = gd.closest('#notebook-container');\n",
       "if (notebookContainer) {{\n",
       "    x.observe(notebookContainer, {childList: true});\n",
       "}}\n",
       "\n",
       "// Listen for the clearing of the current output cell\n",
       "var outputEl = gd.closest('.output');\n",
       "if (outputEl) {{\n",
       "    x.observe(outputEl, {childList: true});\n",
       "}}\n",
       "\n",
       "                        })\n",
       "                };\n",
       "                });\n",
       "            </script>\n",
       "        </div>"
      ]
     },
     "metadata": {},
     "output_type": "display_data"
    }
   ],
   "source": [
    "df = pd.read_pickle('WBM-Coeff-compare.pkl')\n",
    "df2 = pd.read_pickle('a-Coeff-compare.pkl')\n",
    "\n",
    "\n",
    "df = pd.merge(df,df2, on = 'index', how = 'outer')\n",
    "\n",
    "# drops rows up to TAV_Ch, below TAV_Ch = 0 and TAV_Ch = 1 \n",
    "df = df.iloc[9:]\n",
    "\n",
    "# Needed to make a key for ease a readability and to make the reference line for moderate linear \n",
    "# relationship\n",
    "df= df.rename(columns = {'index' : 'Feature_Name'})\n",
    "df['index'] = ['00','01','02','03','04','05','06','07','08','09','10','11','12','13','14',\n",
    "             '15','16','17','18','19','20','21','22','23','24','25','26','27','28','29','30']\n",
    "df['ref_line'] = .3\n",
    "\n",
    "\n",
    "#this will drop rows that have less than 4 values (feature name, key, ref line, & @ least 1 value)\n",
    "df = df.dropna(thresh = 4)\n",
    "\n",
    "WBM_fig = go.Figure()\n",
    "\n",
    "WBM_fig.add_trace(go.Scatter(x= df['index'], y=df['W_Boise_M'],\n",
    "                    mode='markers',\n",
    "                    marker_color = 'rgb(255,140,0)',\n",
    "                    marker=dict(size= 12, symbol = \"hourglass-open\"),          \n",
    "                    name='West Boise-Meridian Area'))\n",
    "\n",
    "WBM_fig.add_trace(go.Scatter(x= df['index'], y=df['WBM_W_Boise'],\n",
    "                    mode='markers',\n",
    "                    marker_color = 'rgb(255,140,0)',\n",
    "                    name='West Boise'))\n",
    "\n",
    "WBM_fig.add_trace(go.Scatter(x= df['index'], y=df['WBM_NE_Meridian'],\n",
    "                    mode='markers',  \n",
    "                    marker_color='rgb(255,215,0)',  \n",
    "                    name='NE Meridian'))\n",
    "\n",
    "WBM_fig.add_trace(go.Scatter(x= df['index'], y=df['WBM_WBF_Corridor'],\n",
    "                    mode='markers',  \n",
    "                    marker_color='rgb(255,69,0)',     \n",
    "                    name='W. B. Freeway Cor.'))\n",
    "\n",
    "WBM_fig.add_trace(go.Scatter(x= df['index'], y=df['WBM_NC_Bench'],\n",
    "                    mode='markers',\n",
    "                    marker_color='rgb(255,99,71)',     \n",
    "                    name='North Central Bench'))\n",
    "\n",
    "WBM_fig.add_trace(go.Scatter(x= df['index'], y=df['WBM_GCC_Corridor'],\n",
    "                    mode='markers',  \n",
    "                    marker_color='rgb(255,127,80)',     \n",
    "                    name='Gardin City Chinden Freeway Cor.'))\n",
    "\n",
    "\n",
    "WBM_fig.add_trace(go.Scatter(x= df['index'], y=df['WBM_MF_Corridor'],\n",
    "                    mode='markers',\n",
    "                    marker_color='rgb(255,165,0)',     \n",
    "                    name='Meridian Freeway Cor.'))\n",
    "\n",
    "WBM_fig.add_trace(go.Scatter(x= df['index'] , y=df['ref_line'],\n",
    "                    mode = 'lines',          \n",
    "                    line = dict(color='Black', width=1, dash='dot'),          \n",
    "                    name='>0.3 Moderate Linear Relationship'))\n",
    "\n",
    "WBM_fig.update_layout(\n",
    "    title=go.layout.Title(\n",
    "        text=\"<b>Correlation Coefficients for West Boise-Meridian and Associated Neighborhoods<b>\",\n",
    "        font = dict( \n",
    "            family = 'Times New Roman'),\n",
    "        xref=\"paper\",\n",
    "        x=.5\n",
    "    ),\n",
    "    yaxis=go.layout.YAxis(\n",
    "        title=go.layout.yaxis.Title(\n",
    "            text=\"<b>Correlation Coefficient<b>\",\n",
    "            font=dict(\n",
    "                family=\"Times New Roman\",\n",
    "                size=16,\n",
    "#                color=\"#7f7f7f\"\n",
    "            )\n",
    "        )\n",
    "    ),\n",
    "    xaxis=go.layout.XAxis(\n",
    "        type = 'category',\n",
    "        title=go.layout.xaxis.Title(\n",
    "            text=\"<b>Feature Key<b>\",\n",
    "            font=dict(\n",
    "                family=\"Times New Roman\",\n",
    "                size=16,\n",
    "#                color=\"#7f7f7f\"\n",
    "            )\n",
    "        )\n",
    "    ))\n",
    "\n",
    "WBM_fig.write_image(\"images/WBM_fig.jpg\")\n",
    "WBM_fig.show()"
   ]
  },
  {
   "cell_type": "markdown",
   "metadata": {},
   "source": [
    "## North Boise"
   ]
  },
  {
   "cell_type": "code",
   "execution_count": 89,
   "metadata": {},
   "outputs": [
    {
     "data": {
      "application/vnd.plotly.v1+json": {
       "config": {
        "plotlyServerURL": "https://plot.ly"
       },
       "data": [
        {
         "marker": {
          "color": "rgb(107,142,35)",
          "size": 12,
          "symbol": "star-open"
         },
         "mode": "markers",
         "name": "North Boise Area",
         "type": "scatter",
         "x": [
          "00",
          "01",
          "02",
          "09",
          "10",
          "12",
          "15",
          "16",
          "18",
          "20",
          "21",
          "23",
          "24",
          "28",
          "29",
          "30"
         ],
         "y": [
          null,
          0.14568582626853804,
          0.16123274910358384,
          0.14203870429727855,
          null,
          null,
          0.16107155863138956,
          null,
          null,
          0.1778548012365404,
          0.1672556839217225,
          null,
          0.14263095766200048,
          0.19851334669155937,
          0.20551528108839293,
          0.1750492026773702
         ]
        },
        {
         "marker": {
          "color": "rgb(85,107,47)"
         },
         "mode": "markers",
         "name": "Old North Boise",
         "type": "scatter",
         "x": [
          "00",
          "01",
          "02",
          "09",
          "10",
          "12",
          "15",
          "16",
          "18",
          "20",
          "21",
          "23",
          "24",
          "28",
          "29",
          "30"
         ],
         "y": [
          null,
          0.20890240750408184,
          0.23768575915166132,
          0.19093727984505499,
          null,
          null,
          0.21842046638390714,
          null,
          null,
          0.257997324629699,
          0.2426661201503394,
          null,
          0.210506565887627,
          0.29925319830437824,
          0.3035999514064031,
          0.23912542516595348
         ]
        },
        {
         "marker": {
          "color": "rgb(128,128,0)"
         },
         "mode": "markers",
         "name": "Boise Foothills",
         "type": "scatter",
         "x": [
          "00",
          "01",
          "02",
          "09",
          "10",
          "12",
          "15",
          "16",
          "18",
          "20",
          "21",
          "23",
          "24",
          "28",
          "29",
          "30"
         ],
         "y": [
          null,
          0.20366595901266252,
          0.22704990305644684,
          0.20453126454215464,
          null,
          null,
          0.2425894586166002,
          null,
          null,
          0.25530251877007604,
          0.21169415660562207,
          null,
          0.20699475619285942,
          0.29920636237696635,
          0.31006579171661036,
          0.24706836631198573
         ]
        },
        {
         "marker": {
          "color": "rgb(46,139,87)"
         },
         "mode": "markers",
         "name": "New North Boise",
         "type": "scatter",
         "x": [
          "00",
          "01",
          "02",
          "09",
          "10",
          "12",
          "15",
          "16",
          "18",
          "20",
          "21",
          "23",
          "24",
          "28",
          "29",
          "30"
         ],
         "y": [
          null,
          0.22225283588261682,
          0.2291646549860865,
          0.20733118289037344,
          null,
          null,
          0.2242376368440619,
          null,
          null,
          0.24299312592459976,
          0.24532569229486342,
          null,
          0.2091174794489411,
          0.2577593398142031,
          0.26528159285674946,
          0.2498896200421328
         ]
        },
        {
         "marker": {
          "color": "rgb(60,179,113)"
         },
         "mode": "markers",
         "name": "Downtown",
         "type": "scatter",
         "x": [
          "00",
          "01",
          "02",
          "09",
          "10",
          "12",
          "15",
          "16",
          "18",
          "20",
          "21",
          "23",
          "24",
          "28",
          "29",
          "30"
         ],
         "y": [
          0.03352004862191958,
          null,
          null,
          0.04302256152376076,
          0.05640425799965896,
          null,
          0.046225942051989044,
          0.033197719158487696,
          0.0699327843707666,
          0.04071983472206441,
          0.04600285282523186,
          null,
          null,
          null,
          0.03475720161904012,
          0.05611950606165878
         ]
        },
        {
         "marker": {
          "color": "rgb(0,128,0)"
         },
         "mode": "markers",
         "name": "Warm Springs",
         "type": "scatter",
         "x": [
          "00",
          "01",
          "02",
          "09",
          "10",
          "12",
          "15",
          "16",
          "18",
          "20",
          "21",
          "23",
          "24",
          "28",
          "29",
          "30"
         ],
         "y": [
          null,
          null,
          null,
          0.12230763741129187,
          null,
          0.10940197146903555,
          0.15698447718576325,
          0.1198706436820292,
          0.1120660943701583,
          null,
          0.12162003242044106,
          0.11713582756598614,
          null,
          0.16592782661777633,
          0.17216406147367724,
          0.16117991712879476
         ]
        },
        {
         "marker": {
          "color": "rgb(50,205,50)"
         },
         "mode": "markers",
         "name": "Park & University Waterfront",
         "type": "scatter",
         "x": [
          "00",
          "01",
          "02",
          "09",
          "10",
          "12",
          "15",
          "16",
          "18",
          "20",
          "21",
          "23",
          "24",
          "28",
          "29",
          "30"
         ],
         "y": [
          null,
          null,
          null,
          0.37298949937329096,
          null,
          null,
          0.42472841723086385,
          0.3647029482556309,
          0.4798425216148109,
          0.4686418366179307,
          0.38755996852143454,
          0.3731287689533843,
          null,
          0.44619573004479285,
          0.5099436056037736,
          0.5301230946025057
         ]
        },
        {
         "line": {
          "color": "Black",
          "dash": "dot",
          "width": 1
         },
         "mode": "lines",
         "name": ">0.3 Moderate Linear Relationship",
         "type": "scatter",
         "x": [
          "00",
          "01",
          "02",
          "09",
          "10",
          "12",
          "15",
          "16",
          "18",
          "20",
          "21",
          "23",
          "24",
          "28",
          "29",
          "30"
         ],
         "y": [
          0.3,
          0.3,
          0.3,
          0.3,
          0.3,
          0.3,
          0.3,
          0.3,
          0.3,
          0.3,
          0.3,
          0.3,
          0.3,
          0.3,
          0.3,
          0.3
         ]
        }
       ],
       "layout": {
        "template": {
         "data": {
          "bar": [
           {
            "error_x": {
             "color": "#2a3f5f"
            },
            "error_y": {
             "color": "#2a3f5f"
            },
            "marker": {
             "line": {
              "color": "#E5ECF6",
              "width": 0.5
             }
            },
            "type": "bar"
           }
          ],
          "barpolar": [
           {
            "marker": {
             "line": {
              "color": "#E5ECF6",
              "width": 0.5
             }
            },
            "type": "barpolar"
           }
          ],
          "carpet": [
           {
            "aaxis": {
             "endlinecolor": "#2a3f5f",
             "gridcolor": "white",
             "linecolor": "white",
             "minorgridcolor": "white",
             "startlinecolor": "#2a3f5f"
            },
            "baxis": {
             "endlinecolor": "#2a3f5f",
             "gridcolor": "white",
             "linecolor": "white",
             "minorgridcolor": "white",
             "startlinecolor": "#2a3f5f"
            },
            "type": "carpet"
           }
          ],
          "choropleth": [
           {
            "colorbar": {
             "outlinewidth": 0,
             "ticks": ""
            },
            "type": "choropleth"
           }
          ],
          "contour": [
           {
            "colorbar": {
             "outlinewidth": 0,
             "ticks": ""
            },
            "colorscale": [
             [
              0,
              "#0d0887"
             ],
             [
              0.1111111111111111,
              "#46039f"
             ],
             [
              0.2222222222222222,
              "#7201a8"
             ],
             [
              0.3333333333333333,
              "#9c179e"
             ],
             [
              0.4444444444444444,
              "#bd3786"
             ],
             [
              0.5555555555555556,
              "#d8576b"
             ],
             [
              0.6666666666666666,
              "#ed7953"
             ],
             [
              0.7777777777777778,
              "#fb9f3a"
             ],
             [
              0.8888888888888888,
              "#fdca26"
             ],
             [
              1,
              "#f0f921"
             ]
            ],
            "type": "contour"
           }
          ],
          "contourcarpet": [
           {
            "colorbar": {
             "outlinewidth": 0,
             "ticks": ""
            },
            "type": "contourcarpet"
           }
          ],
          "heatmap": [
           {
            "colorbar": {
             "outlinewidth": 0,
             "ticks": ""
            },
            "colorscale": [
             [
              0,
              "#0d0887"
             ],
             [
              0.1111111111111111,
              "#46039f"
             ],
             [
              0.2222222222222222,
              "#7201a8"
             ],
             [
              0.3333333333333333,
              "#9c179e"
             ],
             [
              0.4444444444444444,
              "#bd3786"
             ],
             [
              0.5555555555555556,
              "#d8576b"
             ],
             [
              0.6666666666666666,
              "#ed7953"
             ],
             [
              0.7777777777777778,
              "#fb9f3a"
             ],
             [
              0.8888888888888888,
              "#fdca26"
             ],
             [
              1,
              "#f0f921"
             ]
            ],
            "type": "heatmap"
           }
          ],
          "heatmapgl": [
           {
            "colorbar": {
             "outlinewidth": 0,
             "ticks": ""
            },
            "colorscale": [
             [
              0,
              "#0d0887"
             ],
             [
              0.1111111111111111,
              "#46039f"
             ],
             [
              0.2222222222222222,
              "#7201a8"
             ],
             [
              0.3333333333333333,
              "#9c179e"
             ],
             [
              0.4444444444444444,
              "#bd3786"
             ],
             [
              0.5555555555555556,
              "#d8576b"
             ],
             [
              0.6666666666666666,
              "#ed7953"
             ],
             [
              0.7777777777777778,
              "#fb9f3a"
             ],
             [
              0.8888888888888888,
              "#fdca26"
             ],
             [
              1,
              "#f0f921"
             ]
            ],
            "type": "heatmapgl"
           }
          ],
          "histogram": [
           {
            "marker": {
             "colorbar": {
              "outlinewidth": 0,
              "ticks": ""
             }
            },
            "type": "histogram"
           }
          ],
          "histogram2d": [
           {
            "colorbar": {
             "outlinewidth": 0,
             "ticks": ""
            },
            "colorscale": [
             [
              0,
              "#0d0887"
             ],
             [
              0.1111111111111111,
              "#46039f"
             ],
             [
              0.2222222222222222,
              "#7201a8"
             ],
             [
              0.3333333333333333,
              "#9c179e"
             ],
             [
              0.4444444444444444,
              "#bd3786"
             ],
             [
              0.5555555555555556,
              "#d8576b"
             ],
             [
              0.6666666666666666,
              "#ed7953"
             ],
             [
              0.7777777777777778,
              "#fb9f3a"
             ],
             [
              0.8888888888888888,
              "#fdca26"
             ],
             [
              1,
              "#f0f921"
             ]
            ],
            "type": "histogram2d"
           }
          ],
          "histogram2dcontour": [
           {
            "colorbar": {
             "outlinewidth": 0,
             "ticks": ""
            },
            "colorscale": [
             [
              0,
              "#0d0887"
             ],
             [
              0.1111111111111111,
              "#46039f"
             ],
             [
              0.2222222222222222,
              "#7201a8"
             ],
             [
              0.3333333333333333,
              "#9c179e"
             ],
             [
              0.4444444444444444,
              "#bd3786"
             ],
             [
              0.5555555555555556,
              "#d8576b"
             ],
             [
              0.6666666666666666,
              "#ed7953"
             ],
             [
              0.7777777777777778,
              "#fb9f3a"
             ],
             [
              0.8888888888888888,
              "#fdca26"
             ],
             [
              1,
              "#f0f921"
             ]
            ],
            "type": "histogram2dcontour"
           }
          ],
          "mesh3d": [
           {
            "colorbar": {
             "outlinewidth": 0,
             "ticks": ""
            },
            "type": "mesh3d"
           }
          ],
          "parcoords": [
           {
            "line": {
             "colorbar": {
              "outlinewidth": 0,
              "ticks": ""
             }
            },
            "type": "parcoords"
           }
          ],
          "scatter": [
           {
            "marker": {
             "colorbar": {
              "outlinewidth": 0,
              "ticks": ""
             }
            },
            "type": "scatter"
           }
          ],
          "scatter3d": [
           {
            "line": {
             "colorbar": {
              "outlinewidth": 0,
              "ticks": ""
             }
            },
            "marker": {
             "colorbar": {
              "outlinewidth": 0,
              "ticks": ""
             }
            },
            "type": "scatter3d"
           }
          ],
          "scattercarpet": [
           {
            "marker": {
             "colorbar": {
              "outlinewidth": 0,
              "ticks": ""
             }
            },
            "type": "scattercarpet"
           }
          ],
          "scattergeo": [
           {
            "marker": {
             "colorbar": {
              "outlinewidth": 0,
              "ticks": ""
             }
            },
            "type": "scattergeo"
           }
          ],
          "scattergl": [
           {
            "marker": {
             "colorbar": {
              "outlinewidth": 0,
              "ticks": ""
             }
            },
            "type": "scattergl"
           }
          ],
          "scattermapbox": [
           {
            "marker": {
             "colorbar": {
              "outlinewidth": 0,
              "ticks": ""
             }
            },
            "type": "scattermapbox"
           }
          ],
          "scatterpolar": [
           {
            "marker": {
             "colorbar": {
              "outlinewidth": 0,
              "ticks": ""
             }
            },
            "type": "scatterpolar"
           }
          ],
          "scatterpolargl": [
           {
            "marker": {
             "colorbar": {
              "outlinewidth": 0,
              "ticks": ""
             }
            },
            "type": "scatterpolargl"
           }
          ],
          "scatterternary": [
           {
            "marker": {
             "colorbar": {
              "outlinewidth": 0,
              "ticks": ""
             }
            },
            "type": "scatterternary"
           }
          ],
          "surface": [
           {
            "colorbar": {
             "outlinewidth": 0,
             "ticks": ""
            },
            "colorscale": [
             [
              0,
              "#0d0887"
             ],
             [
              0.1111111111111111,
              "#46039f"
             ],
             [
              0.2222222222222222,
              "#7201a8"
             ],
             [
              0.3333333333333333,
              "#9c179e"
             ],
             [
              0.4444444444444444,
              "#bd3786"
             ],
             [
              0.5555555555555556,
              "#d8576b"
             ],
             [
              0.6666666666666666,
              "#ed7953"
             ],
             [
              0.7777777777777778,
              "#fb9f3a"
             ],
             [
              0.8888888888888888,
              "#fdca26"
             ],
             [
              1,
              "#f0f921"
             ]
            ],
            "type": "surface"
           }
          ],
          "table": [
           {
            "cells": {
             "fill": {
              "color": "#EBF0F8"
             },
             "line": {
              "color": "white"
             }
            },
            "header": {
             "fill": {
              "color": "#C8D4E3"
             },
             "line": {
              "color": "white"
             }
            },
            "type": "table"
           }
          ]
         },
         "layout": {
          "annotationdefaults": {
           "arrowcolor": "#2a3f5f",
           "arrowhead": 0,
           "arrowwidth": 1
          },
          "colorscale": {
           "diverging": [
            [
             0,
             "#8e0152"
            ],
            [
             0.1,
             "#c51b7d"
            ],
            [
             0.2,
             "#de77ae"
            ],
            [
             0.3,
             "#f1b6da"
            ],
            [
             0.4,
             "#fde0ef"
            ],
            [
             0.5,
             "#f7f7f7"
            ],
            [
             0.6,
             "#e6f5d0"
            ],
            [
             0.7,
             "#b8e186"
            ],
            [
             0.8,
             "#7fbc41"
            ],
            [
             0.9,
             "#4d9221"
            ],
            [
             1,
             "#276419"
            ]
           ],
           "sequential": [
            [
             0,
             "#0d0887"
            ],
            [
             0.1111111111111111,
             "#46039f"
            ],
            [
             0.2222222222222222,
             "#7201a8"
            ],
            [
             0.3333333333333333,
             "#9c179e"
            ],
            [
             0.4444444444444444,
             "#bd3786"
            ],
            [
             0.5555555555555556,
             "#d8576b"
            ],
            [
             0.6666666666666666,
             "#ed7953"
            ],
            [
             0.7777777777777778,
             "#fb9f3a"
            ],
            [
             0.8888888888888888,
             "#fdca26"
            ],
            [
             1,
             "#f0f921"
            ]
           ],
           "sequentialminus": [
            [
             0,
             "#0d0887"
            ],
            [
             0.1111111111111111,
             "#46039f"
            ],
            [
             0.2222222222222222,
             "#7201a8"
            ],
            [
             0.3333333333333333,
             "#9c179e"
            ],
            [
             0.4444444444444444,
             "#bd3786"
            ],
            [
             0.5555555555555556,
             "#d8576b"
            ],
            [
             0.6666666666666666,
             "#ed7953"
            ],
            [
             0.7777777777777778,
             "#fb9f3a"
            ],
            [
             0.8888888888888888,
             "#fdca26"
            ],
            [
             1,
             "#f0f921"
            ]
           ]
          },
          "colorway": [
           "#636efa",
           "#EF553B",
           "#00cc96",
           "#ab63fa",
           "#FFA15A",
           "#19d3f3",
           "#FF6692",
           "#B6E880",
           "#FF97FF",
           "#FECB52"
          ],
          "font": {
           "color": "#2a3f5f"
          },
          "geo": {
           "bgcolor": "white",
           "lakecolor": "white",
           "landcolor": "#E5ECF6",
           "showlakes": true,
           "showland": true,
           "subunitcolor": "white"
          },
          "hoverlabel": {
           "align": "left"
          },
          "hovermode": "closest",
          "mapbox": {
           "style": "light"
          },
          "paper_bgcolor": "white",
          "plot_bgcolor": "#E5ECF6",
          "polar": {
           "angularaxis": {
            "gridcolor": "white",
            "linecolor": "white",
            "ticks": ""
           },
           "bgcolor": "#E5ECF6",
           "radialaxis": {
            "gridcolor": "white",
            "linecolor": "white",
            "ticks": ""
           }
          },
          "scene": {
           "xaxis": {
            "backgroundcolor": "#E5ECF6",
            "gridcolor": "white",
            "gridwidth": 2,
            "linecolor": "white",
            "showbackground": true,
            "ticks": "",
            "zerolinecolor": "white"
           },
           "yaxis": {
            "backgroundcolor": "#E5ECF6",
            "gridcolor": "white",
            "gridwidth": 2,
            "linecolor": "white",
            "showbackground": true,
            "ticks": "",
            "zerolinecolor": "white"
           },
           "zaxis": {
            "backgroundcolor": "#E5ECF6",
            "gridcolor": "white",
            "gridwidth": 2,
            "linecolor": "white",
            "showbackground": true,
            "ticks": "",
            "zerolinecolor": "white"
           }
          },
          "shapedefaults": {
           "line": {
            "color": "#2a3f5f"
           }
          },
          "ternary": {
           "aaxis": {
            "gridcolor": "white",
            "linecolor": "white",
            "ticks": ""
           },
           "baxis": {
            "gridcolor": "white",
            "linecolor": "white",
            "ticks": ""
           },
           "bgcolor": "#E5ECF6",
           "caxis": {
            "gridcolor": "white",
            "linecolor": "white",
            "ticks": ""
           }
          },
          "title": {
           "x": 0.05
          },
          "xaxis": {
           "automargin": true,
           "gridcolor": "white",
           "linecolor": "white",
           "ticks": "",
           "zerolinecolor": "white",
           "zerolinewidth": 2
          },
          "yaxis": {
           "automargin": true,
           "gridcolor": "white",
           "linecolor": "white",
           "ticks": "",
           "zerolinecolor": "white",
           "zerolinewidth": 2
          }
         }
        },
        "title": {
         "font": {
          "family": "Times New Roman"
         },
         "text": "<b>Correlation Coefficients for North Boise and Associated Neighborhoods<b>",
         "x": 0.5,
         "xref": "paper"
        },
        "xaxis": {
         "title": {
          "font": {
           "family": "Times New Roman",
           "size": 16
          },
          "text": "<b>Feature Key<b>"
         },
         "type": "category"
        },
        "yaxis": {
         "title": {
          "font": {
           "family": "Times New Roman",
           "size": 16
          },
          "text": "<b>Correlation Coefficient<b>"
         }
        }
       }
      },
      "text/html": [
       "<div>\n",
       "        \n",
       "        \n",
       "            <div id=\"013c5c3f-9264-40e5-8865-28dd4d8d1018\" class=\"plotly-graph-div\" style=\"height:525px; width:100%;\"></div>\n",
       "            <script type=\"text/javascript\">\n",
       "                require([\"plotly\"], function(Plotly) {\n",
       "                    window.PLOTLYENV=window.PLOTLYENV || {};\n",
       "                    \n",
       "                if (document.getElementById(\"013c5c3f-9264-40e5-8865-28dd4d8d1018\")) {\n",
       "                    Plotly.newPlot(\n",
       "                        '013c5c3f-9264-40e5-8865-28dd4d8d1018',\n",
       "                        [{\"marker\": {\"color\": \"rgb(107,142,35)\", \"size\": 12, \"symbol\": \"star-open\"}, \"mode\": \"markers\", \"name\": \"North Boise Area\", \"type\": \"scatter\", \"x\": [\"00\", \"01\", \"02\", \"09\", \"10\", \"12\", \"15\", \"16\", \"18\", \"20\", \"21\", \"23\", \"24\", \"28\", \"29\", \"30\"], \"y\": [null, 0.14568582626853804, 0.16123274910358384, 0.14203870429727855, null, null, 0.16107155863138956, null, null, 0.1778548012365404, 0.1672556839217225, null, 0.14263095766200048, 0.19851334669155937, 0.20551528108839293, 0.1750492026773702]}, {\"marker\": {\"color\": \"rgb(85,107,47)\"}, \"mode\": \"markers\", \"name\": \"Old North Boise\", \"type\": \"scatter\", \"x\": [\"00\", \"01\", \"02\", \"09\", \"10\", \"12\", \"15\", \"16\", \"18\", \"20\", \"21\", \"23\", \"24\", \"28\", \"29\", \"30\"], \"y\": [null, 0.20890240750408184, 0.23768575915166132, 0.19093727984505499, null, null, 0.21842046638390714, null, null, 0.257997324629699, 0.2426661201503394, null, 0.210506565887627, 0.29925319830437824, 0.3035999514064031, 0.23912542516595348]}, {\"marker\": {\"color\": \"rgb(128,128,0)\"}, \"mode\": \"markers\", \"name\": \"Boise Foothills\", \"type\": \"scatter\", \"x\": [\"00\", \"01\", \"02\", \"09\", \"10\", \"12\", \"15\", \"16\", \"18\", \"20\", \"21\", \"23\", \"24\", \"28\", \"29\", \"30\"], \"y\": [null, 0.20366595901266252, 0.22704990305644684, 0.20453126454215464, null, null, 0.2425894586166002, null, null, 0.25530251877007604, 0.21169415660562207, null, 0.20699475619285942, 0.29920636237696635, 0.31006579171661036, 0.24706836631198573]}, {\"marker\": {\"color\": \"rgb(46,139,87)\"}, \"mode\": \"markers\", \"name\": \"New North Boise\", \"type\": \"scatter\", \"x\": [\"00\", \"01\", \"02\", \"09\", \"10\", \"12\", \"15\", \"16\", \"18\", \"20\", \"21\", \"23\", \"24\", \"28\", \"29\", \"30\"], \"y\": [null, 0.22225283588261682, 0.2291646549860865, 0.20733118289037344, null, null, 0.2242376368440619, null, null, 0.24299312592459976, 0.24532569229486342, null, 0.2091174794489411, 0.2577593398142031, 0.26528159285674946, 0.2498896200421328]}, {\"marker\": {\"color\": \"rgb(60,179,113)\"}, \"mode\": \"markers\", \"name\": \"Downtown\", \"type\": \"scatter\", \"x\": [\"00\", \"01\", \"02\", \"09\", \"10\", \"12\", \"15\", \"16\", \"18\", \"20\", \"21\", \"23\", \"24\", \"28\", \"29\", \"30\"], \"y\": [0.03352004862191958, null, null, 0.04302256152376076, 0.05640425799965896, null, 0.046225942051989044, 0.033197719158487696, 0.0699327843707666, 0.04071983472206441, 0.04600285282523186, null, null, null, 0.03475720161904012, 0.05611950606165878]}, {\"marker\": {\"color\": \"rgb(0,128,0)\"}, \"mode\": \"markers\", \"name\": \"Warm Springs\", \"type\": \"scatter\", \"x\": [\"00\", \"01\", \"02\", \"09\", \"10\", \"12\", \"15\", \"16\", \"18\", \"20\", \"21\", \"23\", \"24\", \"28\", \"29\", \"30\"], \"y\": [null, null, null, 0.12230763741129187, null, 0.10940197146903555, 0.15698447718576325, 0.1198706436820292, 0.1120660943701583, null, 0.12162003242044106, 0.11713582756598614, null, 0.16592782661777633, 0.17216406147367724, 0.16117991712879476]}, {\"marker\": {\"color\": \"rgb(50,205,50)\"}, \"mode\": \"markers\", \"name\": \"Park & University Waterfront\", \"type\": \"scatter\", \"x\": [\"00\", \"01\", \"02\", \"09\", \"10\", \"12\", \"15\", \"16\", \"18\", \"20\", \"21\", \"23\", \"24\", \"28\", \"29\", \"30\"], \"y\": [null, null, null, 0.37298949937329096, null, null, 0.42472841723086385, 0.3647029482556309, 0.4798425216148109, 0.4686418366179307, 0.38755996852143454, 0.3731287689533843, null, 0.44619573004479285, 0.5099436056037736, 0.5301230946025057]}, {\"line\": {\"color\": \"Black\", \"dash\": \"dot\", \"width\": 1}, \"mode\": \"lines\", \"name\": \">0.3 Moderate Linear Relationship\", \"type\": \"scatter\", \"x\": [\"00\", \"01\", \"02\", \"09\", \"10\", \"12\", \"15\", \"16\", \"18\", \"20\", \"21\", \"23\", \"24\", \"28\", \"29\", \"30\"], \"y\": [0.3, 0.3, 0.3, 0.3, 0.3, 0.3, 0.3, 0.3, 0.3, 0.3, 0.3, 0.3, 0.3, 0.3, 0.3, 0.3]}],\n",
       "                        {\"template\": {\"data\": {\"bar\": [{\"error_x\": {\"color\": \"#2a3f5f\"}, \"error_y\": {\"color\": \"#2a3f5f\"}, \"marker\": {\"line\": {\"color\": \"#E5ECF6\", \"width\": 0.5}}, \"type\": \"bar\"}], \"barpolar\": [{\"marker\": {\"line\": {\"color\": \"#E5ECF6\", \"width\": 0.5}}, \"type\": \"barpolar\"}], \"carpet\": [{\"aaxis\": {\"endlinecolor\": \"#2a3f5f\", \"gridcolor\": \"white\", \"linecolor\": \"white\", \"minorgridcolor\": \"white\", \"startlinecolor\": \"#2a3f5f\"}, \"baxis\": {\"endlinecolor\": \"#2a3f5f\", \"gridcolor\": \"white\", \"linecolor\": \"white\", \"minorgridcolor\": \"white\", \"startlinecolor\": \"#2a3f5f\"}, \"type\": \"carpet\"}], \"choropleth\": [{\"colorbar\": {\"outlinewidth\": 0, \"ticks\": \"\"}, \"type\": \"choropleth\"}], \"contour\": [{\"colorbar\": {\"outlinewidth\": 0, \"ticks\": \"\"}, \"colorscale\": [[0.0, \"#0d0887\"], [0.1111111111111111, \"#46039f\"], [0.2222222222222222, \"#7201a8\"], [0.3333333333333333, \"#9c179e\"], [0.4444444444444444, \"#bd3786\"], [0.5555555555555556, \"#d8576b\"], [0.6666666666666666, \"#ed7953\"], [0.7777777777777778, \"#fb9f3a\"], [0.8888888888888888, \"#fdca26\"], [1.0, \"#f0f921\"]], \"type\": \"contour\"}], \"contourcarpet\": [{\"colorbar\": {\"outlinewidth\": 0, \"ticks\": \"\"}, \"type\": \"contourcarpet\"}], \"heatmap\": [{\"colorbar\": {\"outlinewidth\": 0, \"ticks\": \"\"}, \"colorscale\": [[0.0, \"#0d0887\"], [0.1111111111111111, \"#46039f\"], [0.2222222222222222, \"#7201a8\"], [0.3333333333333333, \"#9c179e\"], [0.4444444444444444, \"#bd3786\"], [0.5555555555555556, \"#d8576b\"], [0.6666666666666666, \"#ed7953\"], [0.7777777777777778, \"#fb9f3a\"], [0.8888888888888888, \"#fdca26\"], [1.0, \"#f0f921\"]], \"type\": \"heatmap\"}], \"heatmapgl\": [{\"colorbar\": {\"outlinewidth\": 0, \"ticks\": \"\"}, \"colorscale\": [[0.0, \"#0d0887\"], [0.1111111111111111, \"#46039f\"], [0.2222222222222222, \"#7201a8\"], [0.3333333333333333, \"#9c179e\"], [0.4444444444444444, \"#bd3786\"], [0.5555555555555556, \"#d8576b\"], [0.6666666666666666, \"#ed7953\"], [0.7777777777777778, \"#fb9f3a\"], [0.8888888888888888, \"#fdca26\"], [1.0, \"#f0f921\"]], \"type\": \"heatmapgl\"}], \"histogram\": [{\"marker\": {\"colorbar\": {\"outlinewidth\": 0, \"ticks\": \"\"}}, \"type\": \"histogram\"}], \"histogram2d\": [{\"colorbar\": {\"outlinewidth\": 0, \"ticks\": \"\"}, \"colorscale\": [[0.0, \"#0d0887\"], [0.1111111111111111, \"#46039f\"], [0.2222222222222222, \"#7201a8\"], [0.3333333333333333, \"#9c179e\"], [0.4444444444444444, \"#bd3786\"], [0.5555555555555556, \"#d8576b\"], [0.6666666666666666, \"#ed7953\"], [0.7777777777777778, \"#fb9f3a\"], [0.8888888888888888, \"#fdca26\"], [1.0, \"#f0f921\"]], \"type\": \"histogram2d\"}], \"histogram2dcontour\": [{\"colorbar\": {\"outlinewidth\": 0, \"ticks\": \"\"}, \"colorscale\": [[0.0, \"#0d0887\"], [0.1111111111111111, \"#46039f\"], [0.2222222222222222, \"#7201a8\"], [0.3333333333333333, \"#9c179e\"], [0.4444444444444444, \"#bd3786\"], [0.5555555555555556, \"#d8576b\"], [0.6666666666666666, \"#ed7953\"], [0.7777777777777778, \"#fb9f3a\"], [0.8888888888888888, \"#fdca26\"], [1.0, \"#f0f921\"]], \"type\": \"histogram2dcontour\"}], \"mesh3d\": [{\"colorbar\": {\"outlinewidth\": 0, \"ticks\": \"\"}, \"type\": \"mesh3d\"}], \"parcoords\": [{\"line\": {\"colorbar\": {\"outlinewidth\": 0, \"ticks\": \"\"}}, \"type\": \"parcoords\"}], \"scatter\": [{\"marker\": {\"colorbar\": {\"outlinewidth\": 0, \"ticks\": \"\"}}, \"type\": \"scatter\"}], \"scatter3d\": [{\"line\": {\"colorbar\": {\"outlinewidth\": 0, \"ticks\": \"\"}}, \"marker\": {\"colorbar\": {\"outlinewidth\": 0, \"ticks\": \"\"}}, \"type\": \"scatter3d\"}], \"scattercarpet\": [{\"marker\": {\"colorbar\": {\"outlinewidth\": 0, \"ticks\": \"\"}}, \"type\": \"scattercarpet\"}], \"scattergeo\": [{\"marker\": {\"colorbar\": {\"outlinewidth\": 0, \"ticks\": \"\"}}, \"type\": \"scattergeo\"}], \"scattergl\": [{\"marker\": {\"colorbar\": {\"outlinewidth\": 0, \"ticks\": \"\"}}, \"type\": \"scattergl\"}], \"scattermapbox\": [{\"marker\": {\"colorbar\": {\"outlinewidth\": 0, \"ticks\": \"\"}}, \"type\": \"scattermapbox\"}], \"scatterpolar\": [{\"marker\": {\"colorbar\": {\"outlinewidth\": 0, \"ticks\": \"\"}}, \"type\": \"scatterpolar\"}], \"scatterpolargl\": [{\"marker\": {\"colorbar\": {\"outlinewidth\": 0, \"ticks\": \"\"}}, \"type\": \"scatterpolargl\"}], \"scatterternary\": [{\"marker\": {\"colorbar\": {\"outlinewidth\": 0, \"ticks\": \"\"}}, \"type\": \"scatterternary\"}], \"surface\": [{\"colorbar\": {\"outlinewidth\": 0, \"ticks\": \"\"}, \"colorscale\": [[0.0, \"#0d0887\"], [0.1111111111111111, \"#46039f\"], [0.2222222222222222, \"#7201a8\"], [0.3333333333333333, \"#9c179e\"], [0.4444444444444444, \"#bd3786\"], [0.5555555555555556, \"#d8576b\"], [0.6666666666666666, \"#ed7953\"], [0.7777777777777778, \"#fb9f3a\"], [0.8888888888888888, \"#fdca26\"], [1.0, \"#f0f921\"]], \"type\": \"surface\"}], \"table\": [{\"cells\": {\"fill\": {\"color\": \"#EBF0F8\"}, \"line\": {\"color\": \"white\"}}, \"header\": {\"fill\": {\"color\": \"#C8D4E3\"}, \"line\": {\"color\": \"white\"}}, \"type\": \"table\"}]}, \"layout\": {\"annotationdefaults\": {\"arrowcolor\": \"#2a3f5f\", \"arrowhead\": 0, \"arrowwidth\": 1}, \"colorscale\": {\"diverging\": [[0, \"#8e0152\"], [0.1, \"#c51b7d\"], [0.2, \"#de77ae\"], [0.3, \"#f1b6da\"], [0.4, \"#fde0ef\"], [0.5, \"#f7f7f7\"], [0.6, \"#e6f5d0\"], [0.7, \"#b8e186\"], [0.8, \"#7fbc41\"], [0.9, \"#4d9221\"], [1, \"#276419\"]], \"sequential\": [[0.0, \"#0d0887\"], [0.1111111111111111, \"#46039f\"], [0.2222222222222222, \"#7201a8\"], [0.3333333333333333, \"#9c179e\"], [0.4444444444444444, \"#bd3786\"], [0.5555555555555556, \"#d8576b\"], [0.6666666666666666, \"#ed7953\"], [0.7777777777777778, \"#fb9f3a\"], [0.8888888888888888, \"#fdca26\"], [1.0, \"#f0f921\"]], \"sequentialminus\": [[0.0, \"#0d0887\"], [0.1111111111111111, \"#46039f\"], [0.2222222222222222, \"#7201a8\"], [0.3333333333333333, \"#9c179e\"], [0.4444444444444444, \"#bd3786\"], [0.5555555555555556, \"#d8576b\"], [0.6666666666666666, \"#ed7953\"], [0.7777777777777778, \"#fb9f3a\"], [0.8888888888888888, \"#fdca26\"], [1.0, \"#f0f921\"]]}, \"colorway\": [\"#636efa\", \"#EF553B\", \"#00cc96\", \"#ab63fa\", \"#FFA15A\", \"#19d3f3\", \"#FF6692\", \"#B6E880\", \"#FF97FF\", \"#FECB52\"], \"font\": {\"color\": \"#2a3f5f\"}, \"geo\": {\"bgcolor\": \"white\", \"lakecolor\": \"white\", \"landcolor\": \"#E5ECF6\", \"showlakes\": true, \"showland\": true, \"subunitcolor\": \"white\"}, \"hoverlabel\": {\"align\": \"left\"}, \"hovermode\": \"closest\", \"mapbox\": {\"style\": \"light\"}, \"paper_bgcolor\": \"white\", \"plot_bgcolor\": \"#E5ECF6\", \"polar\": {\"angularaxis\": {\"gridcolor\": \"white\", \"linecolor\": \"white\", \"ticks\": \"\"}, \"bgcolor\": \"#E5ECF6\", \"radialaxis\": {\"gridcolor\": \"white\", \"linecolor\": \"white\", \"ticks\": \"\"}}, \"scene\": {\"xaxis\": {\"backgroundcolor\": \"#E5ECF6\", \"gridcolor\": \"white\", \"gridwidth\": 2, \"linecolor\": \"white\", \"showbackground\": true, \"ticks\": \"\", \"zerolinecolor\": \"white\"}, \"yaxis\": {\"backgroundcolor\": \"#E5ECF6\", \"gridcolor\": \"white\", \"gridwidth\": 2, \"linecolor\": \"white\", \"showbackground\": true, \"ticks\": \"\", \"zerolinecolor\": \"white\"}, \"zaxis\": {\"backgroundcolor\": \"#E5ECF6\", \"gridcolor\": \"white\", \"gridwidth\": 2, \"linecolor\": \"white\", \"showbackground\": true, \"ticks\": \"\", \"zerolinecolor\": \"white\"}}, \"shapedefaults\": {\"line\": {\"color\": \"#2a3f5f\"}}, \"ternary\": {\"aaxis\": {\"gridcolor\": \"white\", \"linecolor\": \"white\", \"ticks\": \"\"}, \"baxis\": {\"gridcolor\": \"white\", \"linecolor\": \"white\", \"ticks\": \"\"}, \"bgcolor\": \"#E5ECF6\", \"caxis\": {\"gridcolor\": \"white\", \"linecolor\": \"white\", \"ticks\": \"\"}}, \"title\": {\"x\": 0.05}, \"xaxis\": {\"automargin\": true, \"gridcolor\": \"white\", \"linecolor\": \"white\", \"ticks\": \"\", \"zerolinecolor\": \"white\", \"zerolinewidth\": 2}, \"yaxis\": {\"automargin\": true, \"gridcolor\": \"white\", \"linecolor\": \"white\", \"ticks\": \"\", \"zerolinecolor\": \"white\", \"zerolinewidth\": 2}}}, \"title\": {\"font\": {\"family\": \"Times New Roman\"}, \"text\": \"<b>Correlation Coefficients for North Boise and Associated Neighborhoods<b>\", \"x\": 0.5, \"xref\": \"paper\"}, \"xaxis\": {\"title\": {\"font\": {\"family\": \"Times New Roman\", \"size\": 16}, \"text\": \"<b>Feature Key<b>\"}, \"type\": \"category\"}, \"yaxis\": {\"title\": {\"font\": {\"family\": \"Times New Roman\", \"size\": 16}, \"text\": \"<b>Correlation Coefficient<b>\"}}},\n",
       "                        {\"responsive\": true}\n",
       "                    ).then(function(){\n",
       "                            \n",
       "var gd = document.getElementById('013c5c3f-9264-40e5-8865-28dd4d8d1018');\n",
       "var x = new MutationObserver(function (mutations, observer) {{\n",
       "        var display = window.getComputedStyle(gd).display;\n",
       "        if (!display || display === 'none') {{\n",
       "            console.log([gd, 'removed!']);\n",
       "            Plotly.purge(gd);\n",
       "            observer.disconnect();\n",
       "        }}\n",
       "}});\n",
       "\n",
       "// Listen for the removal of the full notebook cells\n",
       "var notebookContainer = gd.closest('#notebook-container');\n",
       "if (notebookContainer) {{\n",
       "    x.observe(notebookContainer, {childList: true});\n",
       "}}\n",
       "\n",
       "// Listen for the clearing of the current output cell\n",
       "var outputEl = gd.closest('.output');\n",
       "if (outputEl) {{\n",
       "    x.observe(outputEl, {childList: true});\n",
       "}}\n",
       "\n",
       "                        })\n",
       "                };\n",
       "                });\n",
       "            </script>\n",
       "        </div>"
      ]
     },
     "metadata": {},
     "output_type": "display_data"
    }
   ],
   "source": [
    "df = pd.read_pickle('NB-Coeff-compare.pkl')\n",
    "df2 = pd.read_pickle('a-Coeff-compare.pkl')\n",
    "\n",
    "\n",
    "df = pd.merge(df,df2, on = 'index', how = 'outer')\n",
    "\n",
    "# drops rows up to TAV_Ch, below TAV_Ch = 0 and TAV_Ch = 1 \n",
    "df = df.iloc[9:]\n",
    "\n",
    "# Needed to make a key for ease a readability and to make the reference line for moderate linear \n",
    "# relationship\n",
    "df= df.rename(columns = {'index' : 'Feature_Name'})\n",
    "df['index'] = ['00','01','02','03','04','05','06','07','08','09','10','11','12','13','14',\n",
    "             '15','16','17','18','19','20','21','22','23','24','25','26','27','28','29','30']\n",
    "df['ref_line'] = .3\n",
    "\n",
    "\n",
    "#this will drop rows that have less than 4 values (feature name, key, ref line, & @ least 1 value)\n",
    "df = df.dropna(thresh = 4)\n",
    "\n",
    "NB_fig = go.Figure()\n",
    "\n",
    "NB_fig.add_trace(go.Scatter(x= df['index'], y=df['N_Boise'],\n",
    "                    mode='markers',\n",
    "                    marker_color = 'rgb(107,142,35)',\n",
    "                    marker=dict(size= 12, symbol = \"star-open\"),          \n",
    "                    name='North Boise Area'))\n",
    "\n",
    "NB_fig.add_trace(go.Scatter(x= df['index'], y=df['NB_Old_N_Boise'],\n",
    "                    mode='markers',\n",
    "                    marker_color = 'rgb(85,107,47)',\n",
    "                    name='Old North Boise'))\n",
    "\n",
    "NB_fig.add_trace(go.Scatter(x= df['index'], y=df['NB_B_Foothills'],\n",
    "                    mode='markers',  \n",
    "                    marker_color='rgb(128,128,0)',  \n",
    "                    name='Boise Foothills'))\n",
    "\n",
    "NB_fig.add_trace(go.Scatter(x= df['index'], y=df['NB_New_N_Boise'],\n",
    "                    mode='markers',  \n",
    "                    marker_color='rgb(46,139,87)',     \n",
    "                    name='New North Boise'))\n",
    "\n",
    "NB_fig.add_trace(go.Scatter(x= df['index'], y=df['NB_Downtown'],\n",
    "                    mode='markers',\n",
    "                    marker_color='rgb(60,179,113)',     \n",
    "                    name='Downtown'))\n",
    "\n",
    "NB_fig.add_trace(go.Scatter(x= df['index'], y=df['NB_Warm_Springs'],\n",
    "                    mode='markers',  \n",
    "                    marker_color='rgb(0,128,0)',     \n",
    "                    name='Warm Springs'))\n",
    "\n",
    "\n",
    "NB_fig.add_trace(go.Scatter(x= df['index'], y=df['NB_PU_Waterfront'],\n",
    "                    mode='markers',\n",
    "                    marker_color='rgb(50,205,50)',     \n",
    "                    name='Park & University Waterfront'))\n",
    "\n",
    "NB_fig.add_trace(go.Scatter(x= df['index'] , y=df['ref_line'],\n",
    "                    mode = 'lines',          \n",
    "                    line = dict(color='Black', width=1, dash='dot'),          \n",
    "                    name='>0.3 Moderate Linear Relationship'))\n",
    "\n",
    "NB_fig.update_layout(\n",
    "    title=go.layout.Title(\n",
    "        text=\"<b>Correlation Coefficients for North Boise and Associated Neighborhoods<b>\",\n",
    "        font = dict( \n",
    "            family = 'Times New Roman'),\n",
    "        xref=\"paper\",\n",
    "        x=.5\n",
    "    ),\n",
    "    yaxis=go.layout.YAxis(\n",
    "        title=go.layout.yaxis.Title(\n",
    "            text=\"<b>Correlation Coefficient<b>\",\n",
    "            font=dict(\n",
    "                family=\"Times New Roman\",\n",
    "                size=16,\n",
    "#                color=\"#7f7f7f\"\n",
    "            )\n",
    "        )\n",
    "    ),\n",
    "    xaxis=go.layout.XAxis(\n",
    "        type = 'category',\n",
    "        title=go.layout.xaxis.Title(\n",
    "            text=\"<b>Feature Key<b>\",\n",
    "            font=dict(\n",
    "                family=\"Times New Roman\",\n",
    "                size=16,\n",
    "#                color=\"#7f7f7f\"\n",
    "            )\n",
    "        )\n",
    "    ))\n",
    "\n",
    "\n",
    "NB_fig.write_image(\"images/NB_fig.jpg\")\n",
    "NB_fig.show()"
   ]
  },
  {
   "cell_type": "markdown",
   "metadata": {},
   "source": [
    "## Southeast Boise"
   ]
  },
  {
   "cell_type": "code",
   "execution_count": 118,
   "metadata": {},
   "outputs": [
    {
     "data": {
      "application/vnd.plotly.v1+json": {
       "config": {
        "plotlyServerURL": "https://plot.ly"
       },
       "data": [
        {
         "marker": {
          "color": "rgb(0,0,128)",
          "size": 12,
          "symbol": "pentagon-open"
         },
         "mode": "markers",
         "name": "SE Boise",
         "type": "scatter",
         "x": [
          "00",
          "01",
          "02",
          "08",
          "09",
          "12",
          "15",
          "16",
          "17",
          "18",
          "19",
          "20",
          "21",
          "24",
          "26",
          "27",
          "28",
          "29",
          "30"
         ],
         "y": [
          null,
          0.15165217623671404,
          0.1734840864835354,
          null,
          null,
          null,
          0.15737235712812978,
          null,
          null,
          0.1371784809545204,
          null,
          0.1697408477614244,
          0.14697773768881994,
          0.14220614099515813,
          null,
          null,
          0.17784203090063153,
          0.17361536502233788,
          0.1789425947447074
         ]
        },
        {
         "marker": {
          "color": "rgb(0,0,128)"
         },
         "mode": "markers",
         "name": "New Southeast Boise",
         "type": "scatter",
         "x": [
          "00",
          "01",
          "02",
          "08",
          "09",
          "12",
          "15",
          "16",
          "17",
          "18",
          "19",
          "20",
          "21",
          "24",
          "26",
          "27",
          "28",
          "29",
          "30"
         ],
         "y": [
          null,
          0.2159692912903652,
          0.24588839870558768,
          null,
          null,
          null,
          0.205905552683031,
          null,
          null,
          0.20067206179133873,
          null,
          0.2387459293628735,
          0.20856657542958912,
          0.19461455929518764,
          null,
          null,
          0.22345522285723618,
          0.21923672070692035,
          0.24781400447377683
         ]
        },
        {
         "marker": {
          "color": "rgb(0,0,205)"
         },
         "mode": "markers",
         "name": "Southeast Boise Infill",
         "type": "scatter",
         "x": [
          "00",
          "01",
          "02",
          "08",
          "09",
          "12",
          "15",
          "16",
          "17",
          "18",
          "19",
          "20",
          "21",
          "24",
          "26",
          "27",
          "28",
          "29",
          "30"
         ],
         "y": [
          null,
          0.13627073644112883,
          0.1650856613742261,
          null,
          null,
          null,
          0.150578213149734,
          null,
          null,
          0.1006591304185931,
          null,
          0.13516325616769756,
          0.11984509382657957,
          0.14813252501830315,
          null,
          null,
          0.1668983331364847,
          0.16154523650618272,
          0.14801368853551
         ]
        },
        {
         "marker": {
          "color": "rgb(0,0,255)"
         },
         "mode": "markers",
         "name": "East Boise Waterfront",
         "type": "scatter",
         "x": [
          "00",
          "01",
          "02",
          "08",
          "09",
          "12",
          "15",
          "16",
          "17",
          "18",
          "19",
          "20",
          "21",
          "24",
          "26",
          "27",
          "28",
          "29",
          "30"
         ],
         "y": [
          null,
          0.31884658468768473,
          0.36676695005745,
          null,
          0.32412928392918106,
          null,
          null,
          null,
          null,
          0.337986321666153,
          null,
          0.434827712965583,
          0.390064940619467,
          0.3591171579669419,
          null,
          null,
          0.4166245990270192,
          0.40930165357677994,
          0.4301959652387477
         ]
        },
        {
         "marker": {
          "color": "rgb(70,130,180)"
         },
         "mode": "markers",
         "name": "Oregon Trail",
         "type": "scatter",
         "x": [
          "00",
          "01",
          "02",
          "08",
          "09",
          "12",
          "15",
          "16",
          "17",
          "18",
          "19",
          "20",
          "21",
          "24",
          "26",
          "27",
          "28",
          "29",
          "30"
         ],
         "y": [
          null,
          0.1523223070351683,
          0.15090005797668096,
          null,
          null,
          null,
          0.15672292362852044,
          0.13825979428423668,
          null,
          0.14823632610638043,
          null,
          0.1761765768588123,
          0.15411183052006217,
          null,
          null,
          null,
          0.19088974589752158,
          0.1846227163443814,
          0.18615396375184598
         ]
        },
        {
         "marker": {
          "color": "rgb(30,144,255)"
         },
         "mode": "markers",
         "name": "Park & University Waterfront",
         "type": "scatter",
         "x": [
          "00",
          "01",
          "02",
          "08",
          "09",
          "12",
          "15",
          "16",
          "17",
          "18",
          "19",
          "20",
          "21",
          "24",
          "26",
          "27",
          "28",
          "29",
          "30"
         ],
         "y": [
          null,
          0.519291561121908,
          0.6793196582149313,
          null,
          0.4799407076058661,
          null,
          0.4888527782608205,
          null,
          null,
          null,
          null,
          0.5415758976973007,
          0.4730568848980165,
          0.5590995377345096,
          null,
          null,
          0.6078266710576338,
          0.5997866334955946,
          0.5581177886918645
         ]
        },
        {
         "marker": {
          "color": "rgb(0,191,255)"
         },
         "mode": "markers",
         "name": "South Boise Desert",
         "type": "scatter",
         "x": [
          "00",
          "01",
          "02",
          "08",
          "09",
          "12",
          "15",
          "16",
          "17",
          "18",
          "19",
          "20",
          "21",
          "24",
          "26",
          "27",
          "28",
          "29",
          "30"
         ],
         "y": [
          0.06945620798068387,
          null,
          0.16037367820914208,
          0.14288276964386593,
          0.06346060954903374,
          0.0860632891554779,
          null,
          null,
          0.1013515890346874,
          null,
          0.09913375724124472,
          0.11629502658688161,
          null,
          null,
          0.06449637198423641,
          0.11821067195637934,
          null,
          null,
          null
         ]
        },
        {
         "line": {
          "color": "Black",
          "dash": "dot",
          "width": 1
         },
         "mode": "lines",
         "name": ">0.3 Moderate Linear Relationship",
         "type": "scatter",
         "x": [
          "00",
          "01",
          "02",
          "08",
          "09",
          "12",
          "15",
          "16",
          "17",
          "18",
          "19",
          "20",
          "21",
          "24",
          "26",
          "27",
          "28",
          "29",
          "30"
         ],
         "y": [
          0.3,
          0.3,
          0.3,
          0.3,
          0.3,
          0.3,
          0.3,
          0.3,
          0.3,
          0.3,
          0.3,
          0.3,
          0.3,
          0.3,
          0.3,
          0.3,
          0.3,
          0.3,
          0.3
         ]
        }
       ],
       "layout": {
        "template": {
         "data": {
          "bar": [
           {
            "error_x": {
             "color": "#2a3f5f"
            },
            "error_y": {
             "color": "#2a3f5f"
            },
            "marker": {
             "line": {
              "color": "#E5ECF6",
              "width": 0.5
             }
            },
            "type": "bar"
           }
          ],
          "barpolar": [
           {
            "marker": {
             "line": {
              "color": "#E5ECF6",
              "width": 0.5
             }
            },
            "type": "barpolar"
           }
          ],
          "carpet": [
           {
            "aaxis": {
             "endlinecolor": "#2a3f5f",
             "gridcolor": "white",
             "linecolor": "white",
             "minorgridcolor": "white",
             "startlinecolor": "#2a3f5f"
            },
            "baxis": {
             "endlinecolor": "#2a3f5f",
             "gridcolor": "white",
             "linecolor": "white",
             "minorgridcolor": "white",
             "startlinecolor": "#2a3f5f"
            },
            "type": "carpet"
           }
          ],
          "choropleth": [
           {
            "colorbar": {
             "outlinewidth": 0,
             "ticks": ""
            },
            "type": "choropleth"
           }
          ],
          "contour": [
           {
            "colorbar": {
             "outlinewidth": 0,
             "ticks": ""
            },
            "colorscale": [
             [
              0,
              "#0d0887"
             ],
             [
              0.1111111111111111,
              "#46039f"
             ],
             [
              0.2222222222222222,
              "#7201a8"
             ],
             [
              0.3333333333333333,
              "#9c179e"
             ],
             [
              0.4444444444444444,
              "#bd3786"
             ],
             [
              0.5555555555555556,
              "#d8576b"
             ],
             [
              0.6666666666666666,
              "#ed7953"
             ],
             [
              0.7777777777777778,
              "#fb9f3a"
             ],
             [
              0.8888888888888888,
              "#fdca26"
             ],
             [
              1,
              "#f0f921"
             ]
            ],
            "type": "contour"
           }
          ],
          "contourcarpet": [
           {
            "colorbar": {
             "outlinewidth": 0,
             "ticks": ""
            },
            "type": "contourcarpet"
           }
          ],
          "heatmap": [
           {
            "colorbar": {
             "outlinewidth": 0,
             "ticks": ""
            },
            "colorscale": [
             [
              0,
              "#0d0887"
             ],
             [
              0.1111111111111111,
              "#46039f"
             ],
             [
              0.2222222222222222,
              "#7201a8"
             ],
             [
              0.3333333333333333,
              "#9c179e"
             ],
             [
              0.4444444444444444,
              "#bd3786"
             ],
             [
              0.5555555555555556,
              "#d8576b"
             ],
             [
              0.6666666666666666,
              "#ed7953"
             ],
             [
              0.7777777777777778,
              "#fb9f3a"
             ],
             [
              0.8888888888888888,
              "#fdca26"
             ],
             [
              1,
              "#f0f921"
             ]
            ],
            "type": "heatmap"
           }
          ],
          "heatmapgl": [
           {
            "colorbar": {
             "outlinewidth": 0,
             "ticks": ""
            },
            "colorscale": [
             [
              0,
              "#0d0887"
             ],
             [
              0.1111111111111111,
              "#46039f"
             ],
             [
              0.2222222222222222,
              "#7201a8"
             ],
             [
              0.3333333333333333,
              "#9c179e"
             ],
             [
              0.4444444444444444,
              "#bd3786"
             ],
             [
              0.5555555555555556,
              "#d8576b"
             ],
             [
              0.6666666666666666,
              "#ed7953"
             ],
             [
              0.7777777777777778,
              "#fb9f3a"
             ],
             [
              0.8888888888888888,
              "#fdca26"
             ],
             [
              1,
              "#f0f921"
             ]
            ],
            "type": "heatmapgl"
           }
          ],
          "histogram": [
           {
            "marker": {
             "colorbar": {
              "outlinewidth": 0,
              "ticks": ""
             }
            },
            "type": "histogram"
           }
          ],
          "histogram2d": [
           {
            "colorbar": {
             "outlinewidth": 0,
             "ticks": ""
            },
            "colorscale": [
             [
              0,
              "#0d0887"
             ],
             [
              0.1111111111111111,
              "#46039f"
             ],
             [
              0.2222222222222222,
              "#7201a8"
             ],
             [
              0.3333333333333333,
              "#9c179e"
             ],
             [
              0.4444444444444444,
              "#bd3786"
             ],
             [
              0.5555555555555556,
              "#d8576b"
             ],
             [
              0.6666666666666666,
              "#ed7953"
             ],
             [
              0.7777777777777778,
              "#fb9f3a"
             ],
             [
              0.8888888888888888,
              "#fdca26"
             ],
             [
              1,
              "#f0f921"
             ]
            ],
            "type": "histogram2d"
           }
          ],
          "histogram2dcontour": [
           {
            "colorbar": {
             "outlinewidth": 0,
             "ticks": ""
            },
            "colorscale": [
             [
              0,
              "#0d0887"
             ],
             [
              0.1111111111111111,
              "#46039f"
             ],
             [
              0.2222222222222222,
              "#7201a8"
             ],
             [
              0.3333333333333333,
              "#9c179e"
             ],
             [
              0.4444444444444444,
              "#bd3786"
             ],
             [
              0.5555555555555556,
              "#d8576b"
             ],
             [
              0.6666666666666666,
              "#ed7953"
             ],
             [
              0.7777777777777778,
              "#fb9f3a"
             ],
             [
              0.8888888888888888,
              "#fdca26"
             ],
             [
              1,
              "#f0f921"
             ]
            ],
            "type": "histogram2dcontour"
           }
          ],
          "mesh3d": [
           {
            "colorbar": {
             "outlinewidth": 0,
             "ticks": ""
            },
            "type": "mesh3d"
           }
          ],
          "parcoords": [
           {
            "line": {
             "colorbar": {
              "outlinewidth": 0,
              "ticks": ""
             }
            },
            "type": "parcoords"
           }
          ],
          "scatter": [
           {
            "marker": {
             "colorbar": {
              "outlinewidth": 0,
              "ticks": ""
             }
            },
            "type": "scatter"
           }
          ],
          "scatter3d": [
           {
            "line": {
             "colorbar": {
              "outlinewidth": 0,
              "ticks": ""
             }
            },
            "marker": {
             "colorbar": {
              "outlinewidth": 0,
              "ticks": ""
             }
            },
            "type": "scatter3d"
           }
          ],
          "scattercarpet": [
           {
            "marker": {
             "colorbar": {
              "outlinewidth": 0,
              "ticks": ""
             }
            },
            "type": "scattercarpet"
           }
          ],
          "scattergeo": [
           {
            "marker": {
             "colorbar": {
              "outlinewidth": 0,
              "ticks": ""
             }
            },
            "type": "scattergeo"
           }
          ],
          "scattergl": [
           {
            "marker": {
             "colorbar": {
              "outlinewidth": 0,
              "ticks": ""
             }
            },
            "type": "scattergl"
           }
          ],
          "scattermapbox": [
           {
            "marker": {
             "colorbar": {
              "outlinewidth": 0,
              "ticks": ""
             }
            },
            "type": "scattermapbox"
           }
          ],
          "scatterpolar": [
           {
            "marker": {
             "colorbar": {
              "outlinewidth": 0,
              "ticks": ""
             }
            },
            "type": "scatterpolar"
           }
          ],
          "scatterpolargl": [
           {
            "marker": {
             "colorbar": {
              "outlinewidth": 0,
              "ticks": ""
             }
            },
            "type": "scatterpolargl"
           }
          ],
          "scatterternary": [
           {
            "marker": {
             "colorbar": {
              "outlinewidth": 0,
              "ticks": ""
             }
            },
            "type": "scatterternary"
           }
          ],
          "surface": [
           {
            "colorbar": {
             "outlinewidth": 0,
             "ticks": ""
            },
            "colorscale": [
             [
              0,
              "#0d0887"
             ],
             [
              0.1111111111111111,
              "#46039f"
             ],
             [
              0.2222222222222222,
              "#7201a8"
             ],
             [
              0.3333333333333333,
              "#9c179e"
             ],
             [
              0.4444444444444444,
              "#bd3786"
             ],
             [
              0.5555555555555556,
              "#d8576b"
             ],
             [
              0.6666666666666666,
              "#ed7953"
             ],
             [
              0.7777777777777778,
              "#fb9f3a"
             ],
             [
              0.8888888888888888,
              "#fdca26"
             ],
             [
              1,
              "#f0f921"
             ]
            ],
            "type": "surface"
           }
          ],
          "table": [
           {
            "cells": {
             "fill": {
              "color": "#EBF0F8"
             },
             "line": {
              "color": "white"
             }
            },
            "header": {
             "fill": {
              "color": "#C8D4E3"
             },
             "line": {
              "color": "white"
             }
            },
            "type": "table"
           }
          ]
         },
         "layout": {
          "annotationdefaults": {
           "arrowcolor": "#2a3f5f",
           "arrowhead": 0,
           "arrowwidth": 1
          },
          "colorscale": {
           "diverging": [
            [
             0,
             "#8e0152"
            ],
            [
             0.1,
             "#c51b7d"
            ],
            [
             0.2,
             "#de77ae"
            ],
            [
             0.3,
             "#f1b6da"
            ],
            [
             0.4,
             "#fde0ef"
            ],
            [
             0.5,
             "#f7f7f7"
            ],
            [
             0.6,
             "#e6f5d0"
            ],
            [
             0.7,
             "#b8e186"
            ],
            [
             0.8,
             "#7fbc41"
            ],
            [
             0.9,
             "#4d9221"
            ],
            [
             1,
             "#276419"
            ]
           ],
           "sequential": [
            [
             0,
             "#0d0887"
            ],
            [
             0.1111111111111111,
             "#46039f"
            ],
            [
             0.2222222222222222,
             "#7201a8"
            ],
            [
             0.3333333333333333,
             "#9c179e"
            ],
            [
             0.4444444444444444,
             "#bd3786"
            ],
            [
             0.5555555555555556,
             "#d8576b"
            ],
            [
             0.6666666666666666,
             "#ed7953"
            ],
            [
             0.7777777777777778,
             "#fb9f3a"
            ],
            [
             0.8888888888888888,
             "#fdca26"
            ],
            [
             1,
             "#f0f921"
            ]
           ],
           "sequentialminus": [
            [
             0,
             "#0d0887"
            ],
            [
             0.1111111111111111,
             "#46039f"
            ],
            [
             0.2222222222222222,
             "#7201a8"
            ],
            [
             0.3333333333333333,
             "#9c179e"
            ],
            [
             0.4444444444444444,
             "#bd3786"
            ],
            [
             0.5555555555555556,
             "#d8576b"
            ],
            [
             0.6666666666666666,
             "#ed7953"
            ],
            [
             0.7777777777777778,
             "#fb9f3a"
            ],
            [
             0.8888888888888888,
             "#fdca26"
            ],
            [
             1,
             "#f0f921"
            ]
           ]
          },
          "colorway": [
           "#636efa",
           "#EF553B",
           "#00cc96",
           "#ab63fa",
           "#FFA15A",
           "#19d3f3",
           "#FF6692",
           "#B6E880",
           "#FF97FF",
           "#FECB52"
          ],
          "font": {
           "color": "#2a3f5f"
          },
          "geo": {
           "bgcolor": "white",
           "lakecolor": "white",
           "landcolor": "#E5ECF6",
           "showlakes": true,
           "showland": true,
           "subunitcolor": "white"
          },
          "hoverlabel": {
           "align": "left"
          },
          "hovermode": "closest",
          "mapbox": {
           "style": "light"
          },
          "paper_bgcolor": "white",
          "plot_bgcolor": "#E5ECF6",
          "polar": {
           "angularaxis": {
            "gridcolor": "white",
            "linecolor": "white",
            "ticks": ""
           },
           "bgcolor": "#E5ECF6",
           "radialaxis": {
            "gridcolor": "white",
            "linecolor": "white",
            "ticks": ""
           }
          },
          "scene": {
           "xaxis": {
            "backgroundcolor": "#E5ECF6",
            "gridcolor": "white",
            "gridwidth": 2,
            "linecolor": "white",
            "showbackground": true,
            "ticks": "",
            "zerolinecolor": "white"
           },
           "yaxis": {
            "backgroundcolor": "#E5ECF6",
            "gridcolor": "white",
            "gridwidth": 2,
            "linecolor": "white",
            "showbackground": true,
            "ticks": "",
            "zerolinecolor": "white"
           },
           "zaxis": {
            "backgroundcolor": "#E5ECF6",
            "gridcolor": "white",
            "gridwidth": 2,
            "linecolor": "white",
            "showbackground": true,
            "ticks": "",
            "zerolinecolor": "white"
           }
          },
          "shapedefaults": {
           "line": {
            "color": "#2a3f5f"
           }
          },
          "ternary": {
           "aaxis": {
            "gridcolor": "white",
            "linecolor": "white",
            "ticks": ""
           },
           "baxis": {
            "gridcolor": "white",
            "linecolor": "white",
            "ticks": ""
           },
           "bgcolor": "#E5ECF6",
           "caxis": {
            "gridcolor": "white",
            "linecolor": "white",
            "ticks": ""
           }
          },
          "title": {
           "x": 0.05
          },
          "xaxis": {
           "automargin": true,
           "gridcolor": "white",
           "linecolor": "white",
           "ticks": "",
           "zerolinecolor": "white",
           "zerolinewidth": 2
          },
          "yaxis": {
           "automargin": true,
           "gridcolor": "white",
           "linecolor": "white",
           "ticks": "",
           "zerolinecolor": "white",
           "zerolinewidth": 2
          }
         }
        },
        "title": {
         "font": {
          "family": "Times New Roman"
         },
         "text": "<b>Correlation Coefficients for Southeast Boise and Associated Neighborhoods<b>",
         "x": 0.5,
         "xref": "paper"
        },
        "xaxis": {
         "title": {
          "font": {
           "family": "Times New Roman",
           "size": 16
          },
          "text": "<b>Feature Key<b>"
         },
         "type": "category"
        },
        "yaxis": {
         "title": {
          "font": {
           "family": "Times New Roman",
           "size": 16
          },
          "text": "<b>Correlation Coefficient<b>"
         }
        }
       }
      },
      "text/html": [
       "<div>\n",
       "        \n",
       "        \n",
       "            <div id=\"a3c3410a-47d9-4de1-9079-2221641a0c86\" class=\"plotly-graph-div\" style=\"height:525px; width:100%;\"></div>\n",
       "            <script type=\"text/javascript\">\n",
       "                require([\"plotly\"], function(Plotly) {\n",
       "                    window.PLOTLYENV=window.PLOTLYENV || {};\n",
       "                    \n",
       "                if (document.getElementById(\"a3c3410a-47d9-4de1-9079-2221641a0c86\")) {\n",
       "                    Plotly.newPlot(\n",
       "                        'a3c3410a-47d9-4de1-9079-2221641a0c86',\n",
       "                        [{\"marker\": {\"color\": \"rgb(0,0,128)\", \"size\": 12, \"symbol\": \"pentagon-open\"}, \"mode\": \"markers\", \"name\": \"SE Boise\", \"type\": \"scatter\", \"x\": [\"00\", \"01\", \"02\", \"08\", \"09\", \"12\", \"15\", \"16\", \"17\", \"18\", \"19\", \"20\", \"21\", \"24\", \"26\", \"27\", \"28\", \"29\", \"30\"], \"y\": [null, 0.15165217623671404, 0.1734840864835354, null, null, null, 0.15737235712812978, null, null, 0.1371784809545204, null, 0.1697408477614244, 0.14697773768881994, 0.14220614099515813, null, null, 0.17784203090063153, 0.17361536502233788, 0.1789425947447074]}, {\"marker\": {\"color\": \"rgb(0,0,128)\"}, \"mode\": \"markers\", \"name\": \"New Southeast Boise\", \"type\": \"scatter\", \"x\": [\"00\", \"01\", \"02\", \"08\", \"09\", \"12\", \"15\", \"16\", \"17\", \"18\", \"19\", \"20\", \"21\", \"24\", \"26\", \"27\", \"28\", \"29\", \"30\"], \"y\": [null, 0.2159692912903652, 0.24588839870558768, null, null, null, 0.205905552683031, null, null, 0.20067206179133873, null, 0.2387459293628735, 0.20856657542958912, 0.19461455929518764, null, null, 0.22345522285723618, 0.21923672070692035, 0.24781400447377683]}, {\"marker\": {\"color\": \"rgb(0,0,205)\"}, \"mode\": \"markers\", \"name\": \"Southeast Boise Infill\", \"type\": \"scatter\", \"x\": [\"00\", \"01\", \"02\", \"08\", \"09\", \"12\", \"15\", \"16\", \"17\", \"18\", \"19\", \"20\", \"21\", \"24\", \"26\", \"27\", \"28\", \"29\", \"30\"], \"y\": [null, 0.13627073644112883, 0.1650856613742261, null, null, null, 0.150578213149734, null, null, 0.1006591304185931, null, 0.13516325616769756, 0.11984509382657957, 0.14813252501830315, null, null, 0.1668983331364847, 0.16154523650618272, 0.14801368853551]}, {\"marker\": {\"color\": \"rgb(0,0,255)\"}, \"mode\": \"markers\", \"name\": \"East Boise Waterfront\", \"type\": \"scatter\", \"x\": [\"00\", \"01\", \"02\", \"08\", \"09\", \"12\", \"15\", \"16\", \"17\", \"18\", \"19\", \"20\", \"21\", \"24\", \"26\", \"27\", \"28\", \"29\", \"30\"], \"y\": [null, 0.31884658468768473, 0.36676695005745, null, 0.32412928392918106, null, null, null, null, 0.337986321666153, null, 0.434827712965583, 0.390064940619467, 0.3591171579669419, null, null, 0.4166245990270192, 0.40930165357677994, 0.4301959652387477]}, {\"marker\": {\"color\": \"rgb(70,130,180)\"}, \"mode\": \"markers\", \"name\": \"Oregon Trail\", \"type\": \"scatter\", \"x\": [\"00\", \"01\", \"02\", \"08\", \"09\", \"12\", \"15\", \"16\", \"17\", \"18\", \"19\", \"20\", \"21\", \"24\", \"26\", \"27\", \"28\", \"29\", \"30\"], \"y\": [null, 0.1523223070351683, 0.15090005797668096, null, null, null, 0.15672292362852044, 0.13825979428423668, null, 0.14823632610638043, null, 0.1761765768588123, 0.15411183052006217, null, null, null, 0.19088974589752158, 0.1846227163443814, 0.18615396375184598]}, {\"marker\": {\"color\": \"rgb(30,144,255)\"}, \"mode\": \"markers\", \"name\": \"Park & University Waterfront\", \"type\": \"scatter\", \"x\": [\"00\", \"01\", \"02\", \"08\", \"09\", \"12\", \"15\", \"16\", \"17\", \"18\", \"19\", \"20\", \"21\", \"24\", \"26\", \"27\", \"28\", \"29\", \"30\"], \"y\": [null, 0.519291561121908, 0.6793196582149313, null, 0.4799407076058661, null, 0.4888527782608205, null, null, null, null, 0.5415758976973007, 0.4730568848980165, 0.5590995377345096, null, null, 0.6078266710576338, 0.5997866334955946, 0.5581177886918645]}, {\"marker\": {\"color\": \"rgb(0,191,255)\"}, \"mode\": \"markers\", \"name\": \"South Boise Desert\", \"type\": \"scatter\", \"x\": [\"00\", \"01\", \"02\", \"08\", \"09\", \"12\", \"15\", \"16\", \"17\", \"18\", \"19\", \"20\", \"21\", \"24\", \"26\", \"27\", \"28\", \"29\", \"30\"], \"y\": [0.06945620798068387, null, 0.16037367820914208, 0.14288276964386593, 0.06346060954903374, 0.0860632891554779, null, null, 0.1013515890346874, null, 0.09913375724124472, 0.11629502658688161, null, null, 0.06449637198423641, 0.11821067195637934, null, null, null]}, {\"line\": {\"color\": \"Black\", \"dash\": \"dot\", \"width\": 1}, \"mode\": \"lines\", \"name\": \">0.3 Moderate Linear Relationship\", \"type\": \"scatter\", \"x\": [\"00\", \"01\", \"02\", \"08\", \"09\", \"12\", \"15\", \"16\", \"17\", \"18\", \"19\", \"20\", \"21\", \"24\", \"26\", \"27\", \"28\", \"29\", \"30\"], \"y\": [0.3, 0.3, 0.3, 0.3, 0.3, 0.3, 0.3, 0.3, 0.3, 0.3, 0.3, 0.3, 0.3, 0.3, 0.3, 0.3, 0.3, 0.3, 0.3]}],\n",
       "                        {\"template\": {\"data\": {\"bar\": [{\"error_x\": {\"color\": \"#2a3f5f\"}, \"error_y\": {\"color\": \"#2a3f5f\"}, \"marker\": {\"line\": {\"color\": \"#E5ECF6\", \"width\": 0.5}}, \"type\": \"bar\"}], \"barpolar\": [{\"marker\": {\"line\": {\"color\": \"#E5ECF6\", \"width\": 0.5}}, \"type\": \"barpolar\"}], \"carpet\": [{\"aaxis\": {\"endlinecolor\": \"#2a3f5f\", \"gridcolor\": \"white\", \"linecolor\": \"white\", \"minorgridcolor\": \"white\", \"startlinecolor\": \"#2a3f5f\"}, \"baxis\": {\"endlinecolor\": \"#2a3f5f\", \"gridcolor\": \"white\", \"linecolor\": \"white\", \"minorgridcolor\": \"white\", \"startlinecolor\": \"#2a3f5f\"}, \"type\": \"carpet\"}], \"choropleth\": [{\"colorbar\": {\"outlinewidth\": 0, \"ticks\": \"\"}, \"type\": \"choropleth\"}], \"contour\": [{\"colorbar\": {\"outlinewidth\": 0, \"ticks\": \"\"}, \"colorscale\": [[0.0, \"#0d0887\"], [0.1111111111111111, \"#46039f\"], [0.2222222222222222, \"#7201a8\"], [0.3333333333333333, \"#9c179e\"], [0.4444444444444444, \"#bd3786\"], [0.5555555555555556, \"#d8576b\"], [0.6666666666666666, \"#ed7953\"], [0.7777777777777778, \"#fb9f3a\"], [0.8888888888888888, \"#fdca26\"], [1.0, \"#f0f921\"]], \"type\": \"contour\"}], \"contourcarpet\": [{\"colorbar\": {\"outlinewidth\": 0, \"ticks\": \"\"}, \"type\": \"contourcarpet\"}], \"heatmap\": [{\"colorbar\": {\"outlinewidth\": 0, \"ticks\": \"\"}, \"colorscale\": [[0.0, \"#0d0887\"], [0.1111111111111111, \"#46039f\"], [0.2222222222222222, \"#7201a8\"], [0.3333333333333333, \"#9c179e\"], [0.4444444444444444, \"#bd3786\"], [0.5555555555555556, \"#d8576b\"], [0.6666666666666666, \"#ed7953\"], [0.7777777777777778, \"#fb9f3a\"], [0.8888888888888888, \"#fdca26\"], [1.0, \"#f0f921\"]], \"type\": \"heatmap\"}], \"heatmapgl\": [{\"colorbar\": {\"outlinewidth\": 0, \"ticks\": \"\"}, \"colorscale\": [[0.0, \"#0d0887\"], [0.1111111111111111, \"#46039f\"], [0.2222222222222222, \"#7201a8\"], [0.3333333333333333, \"#9c179e\"], [0.4444444444444444, \"#bd3786\"], [0.5555555555555556, \"#d8576b\"], [0.6666666666666666, \"#ed7953\"], [0.7777777777777778, \"#fb9f3a\"], [0.8888888888888888, \"#fdca26\"], [1.0, \"#f0f921\"]], \"type\": \"heatmapgl\"}], \"histogram\": [{\"marker\": {\"colorbar\": {\"outlinewidth\": 0, \"ticks\": \"\"}}, \"type\": \"histogram\"}], \"histogram2d\": [{\"colorbar\": {\"outlinewidth\": 0, \"ticks\": \"\"}, \"colorscale\": [[0.0, \"#0d0887\"], [0.1111111111111111, \"#46039f\"], [0.2222222222222222, \"#7201a8\"], [0.3333333333333333, \"#9c179e\"], [0.4444444444444444, \"#bd3786\"], [0.5555555555555556, \"#d8576b\"], [0.6666666666666666, \"#ed7953\"], [0.7777777777777778, \"#fb9f3a\"], [0.8888888888888888, \"#fdca26\"], [1.0, \"#f0f921\"]], \"type\": \"histogram2d\"}], \"histogram2dcontour\": [{\"colorbar\": {\"outlinewidth\": 0, \"ticks\": \"\"}, \"colorscale\": [[0.0, \"#0d0887\"], [0.1111111111111111, \"#46039f\"], [0.2222222222222222, \"#7201a8\"], [0.3333333333333333, \"#9c179e\"], [0.4444444444444444, \"#bd3786\"], [0.5555555555555556, \"#d8576b\"], [0.6666666666666666, \"#ed7953\"], [0.7777777777777778, \"#fb9f3a\"], [0.8888888888888888, \"#fdca26\"], [1.0, \"#f0f921\"]], \"type\": \"histogram2dcontour\"}], \"mesh3d\": [{\"colorbar\": {\"outlinewidth\": 0, \"ticks\": \"\"}, \"type\": \"mesh3d\"}], \"parcoords\": [{\"line\": {\"colorbar\": {\"outlinewidth\": 0, \"ticks\": \"\"}}, \"type\": \"parcoords\"}], \"scatter\": [{\"marker\": {\"colorbar\": {\"outlinewidth\": 0, \"ticks\": \"\"}}, \"type\": \"scatter\"}], \"scatter3d\": [{\"line\": {\"colorbar\": {\"outlinewidth\": 0, \"ticks\": \"\"}}, \"marker\": {\"colorbar\": {\"outlinewidth\": 0, \"ticks\": \"\"}}, \"type\": \"scatter3d\"}], \"scattercarpet\": [{\"marker\": {\"colorbar\": {\"outlinewidth\": 0, \"ticks\": \"\"}}, \"type\": \"scattercarpet\"}], \"scattergeo\": [{\"marker\": {\"colorbar\": {\"outlinewidth\": 0, \"ticks\": \"\"}}, \"type\": \"scattergeo\"}], \"scattergl\": [{\"marker\": {\"colorbar\": {\"outlinewidth\": 0, \"ticks\": \"\"}}, \"type\": \"scattergl\"}], \"scattermapbox\": [{\"marker\": {\"colorbar\": {\"outlinewidth\": 0, \"ticks\": \"\"}}, \"type\": \"scattermapbox\"}], \"scatterpolar\": [{\"marker\": {\"colorbar\": {\"outlinewidth\": 0, \"ticks\": \"\"}}, \"type\": \"scatterpolar\"}], \"scatterpolargl\": [{\"marker\": {\"colorbar\": {\"outlinewidth\": 0, \"ticks\": \"\"}}, \"type\": \"scatterpolargl\"}], \"scatterternary\": [{\"marker\": {\"colorbar\": {\"outlinewidth\": 0, \"ticks\": \"\"}}, \"type\": \"scatterternary\"}], \"surface\": [{\"colorbar\": {\"outlinewidth\": 0, \"ticks\": \"\"}, \"colorscale\": [[0.0, \"#0d0887\"], [0.1111111111111111, \"#46039f\"], [0.2222222222222222, \"#7201a8\"], [0.3333333333333333, \"#9c179e\"], [0.4444444444444444, \"#bd3786\"], [0.5555555555555556, \"#d8576b\"], [0.6666666666666666, \"#ed7953\"], [0.7777777777777778, \"#fb9f3a\"], [0.8888888888888888, \"#fdca26\"], [1.0, \"#f0f921\"]], \"type\": \"surface\"}], \"table\": [{\"cells\": {\"fill\": {\"color\": \"#EBF0F8\"}, \"line\": {\"color\": \"white\"}}, \"header\": {\"fill\": {\"color\": \"#C8D4E3\"}, \"line\": {\"color\": \"white\"}}, \"type\": \"table\"}]}, \"layout\": {\"annotationdefaults\": {\"arrowcolor\": \"#2a3f5f\", \"arrowhead\": 0, \"arrowwidth\": 1}, \"colorscale\": {\"diverging\": [[0, \"#8e0152\"], [0.1, \"#c51b7d\"], [0.2, \"#de77ae\"], [0.3, \"#f1b6da\"], [0.4, \"#fde0ef\"], [0.5, \"#f7f7f7\"], [0.6, \"#e6f5d0\"], [0.7, \"#b8e186\"], [0.8, \"#7fbc41\"], [0.9, \"#4d9221\"], [1, \"#276419\"]], \"sequential\": [[0.0, \"#0d0887\"], [0.1111111111111111, \"#46039f\"], [0.2222222222222222, \"#7201a8\"], [0.3333333333333333, \"#9c179e\"], [0.4444444444444444, \"#bd3786\"], [0.5555555555555556, \"#d8576b\"], [0.6666666666666666, \"#ed7953\"], [0.7777777777777778, \"#fb9f3a\"], [0.8888888888888888, \"#fdca26\"], [1.0, \"#f0f921\"]], \"sequentialminus\": [[0.0, \"#0d0887\"], [0.1111111111111111, \"#46039f\"], [0.2222222222222222, \"#7201a8\"], [0.3333333333333333, \"#9c179e\"], [0.4444444444444444, \"#bd3786\"], [0.5555555555555556, \"#d8576b\"], [0.6666666666666666, \"#ed7953\"], [0.7777777777777778, \"#fb9f3a\"], [0.8888888888888888, \"#fdca26\"], [1.0, \"#f0f921\"]]}, \"colorway\": [\"#636efa\", \"#EF553B\", \"#00cc96\", \"#ab63fa\", \"#FFA15A\", \"#19d3f3\", \"#FF6692\", \"#B6E880\", \"#FF97FF\", \"#FECB52\"], \"font\": {\"color\": \"#2a3f5f\"}, \"geo\": {\"bgcolor\": \"white\", \"lakecolor\": \"white\", \"landcolor\": \"#E5ECF6\", \"showlakes\": true, \"showland\": true, \"subunitcolor\": \"white\"}, \"hoverlabel\": {\"align\": \"left\"}, \"hovermode\": \"closest\", \"mapbox\": {\"style\": \"light\"}, \"paper_bgcolor\": \"white\", \"plot_bgcolor\": \"#E5ECF6\", \"polar\": {\"angularaxis\": {\"gridcolor\": \"white\", \"linecolor\": \"white\", \"ticks\": \"\"}, \"bgcolor\": \"#E5ECF6\", \"radialaxis\": {\"gridcolor\": \"white\", \"linecolor\": \"white\", \"ticks\": \"\"}}, \"scene\": {\"xaxis\": {\"backgroundcolor\": \"#E5ECF6\", \"gridcolor\": \"white\", \"gridwidth\": 2, \"linecolor\": \"white\", \"showbackground\": true, \"ticks\": \"\", \"zerolinecolor\": \"white\"}, \"yaxis\": {\"backgroundcolor\": \"#E5ECF6\", \"gridcolor\": \"white\", \"gridwidth\": 2, \"linecolor\": \"white\", \"showbackground\": true, \"ticks\": \"\", \"zerolinecolor\": \"white\"}, \"zaxis\": {\"backgroundcolor\": \"#E5ECF6\", \"gridcolor\": \"white\", \"gridwidth\": 2, \"linecolor\": \"white\", \"showbackground\": true, \"ticks\": \"\", \"zerolinecolor\": \"white\"}}, \"shapedefaults\": {\"line\": {\"color\": \"#2a3f5f\"}}, \"ternary\": {\"aaxis\": {\"gridcolor\": \"white\", \"linecolor\": \"white\", \"ticks\": \"\"}, \"baxis\": {\"gridcolor\": \"white\", \"linecolor\": \"white\", \"ticks\": \"\"}, \"bgcolor\": \"#E5ECF6\", \"caxis\": {\"gridcolor\": \"white\", \"linecolor\": \"white\", \"ticks\": \"\"}}, \"title\": {\"x\": 0.05}, \"xaxis\": {\"automargin\": true, \"gridcolor\": \"white\", \"linecolor\": \"white\", \"ticks\": \"\", \"zerolinecolor\": \"white\", \"zerolinewidth\": 2}, \"yaxis\": {\"automargin\": true, \"gridcolor\": \"white\", \"linecolor\": \"white\", \"ticks\": \"\", \"zerolinecolor\": \"white\", \"zerolinewidth\": 2}}}, \"title\": {\"font\": {\"family\": \"Times New Roman\"}, \"text\": \"<b>Correlation Coefficients for Southeast Boise and Associated Neighborhoods<b>\", \"x\": 0.5, \"xref\": \"paper\"}, \"xaxis\": {\"title\": {\"font\": {\"family\": \"Times New Roman\", \"size\": 16}, \"text\": \"<b>Feature Key<b>\"}, \"type\": \"category\"}, \"yaxis\": {\"title\": {\"font\": {\"family\": \"Times New Roman\", \"size\": 16}, \"text\": \"<b>Correlation Coefficient<b>\"}}},\n",
       "                        {\"responsive\": true}\n",
       "                    ).then(function(){\n",
       "                            \n",
       "var gd = document.getElementById('a3c3410a-47d9-4de1-9079-2221641a0c86');\n",
       "var x = new MutationObserver(function (mutations, observer) {{\n",
       "        var display = window.getComputedStyle(gd).display;\n",
       "        if (!display || display === 'none') {{\n",
       "            console.log([gd, 'removed!']);\n",
       "            Plotly.purge(gd);\n",
       "            observer.disconnect();\n",
       "        }}\n",
       "}});\n",
       "\n",
       "// Listen for the removal of the full notebook cells\n",
       "var notebookContainer = gd.closest('#notebook-container');\n",
       "if (notebookContainer) {{\n",
       "    x.observe(notebookContainer, {childList: true});\n",
       "}}\n",
       "\n",
       "// Listen for the clearing of the current output cell\n",
       "var outputEl = gd.closest('.output');\n",
       "if (outputEl) {{\n",
       "    x.observe(outputEl, {childList: true});\n",
       "}}\n",
       "\n",
       "                        })\n",
       "                };\n",
       "                });\n",
       "            </script>\n",
       "        </div>"
      ]
     },
     "metadata": {},
     "output_type": "display_data"
    }
   ],
   "source": [
    "df = pd.read_pickle('SE-Coeff-compare.pkl')\n",
    "df2 = pd.read_pickle('a-Coeff-compare.pkl')\n",
    "\n",
    "\n",
    "df = pd.merge(df,df2, on = 'index', how = 'outer')\n",
    "\n",
    "\n",
    "###########################################################\n",
    "\n",
    "# drops rows up to TAV_Ch, below TAV_Ch = 0 and TAV_Ch = 1 \n",
    "df = df.iloc[9:]\n",
    "\n",
    "# Needed to make a key for ease a readability and to make the reference line for moderate linear \n",
    "# relationship\n",
    "df= df.rename(columns = {'index' : 'Feature_Name'})\n",
    "df['index'] = ['00','01','02','03','04','05','06','07','08','09','10','11','12','13','14',\n",
    "             '15','16','17','18','19','20','21','22','23','24','25','26','27','28','29','30']\n",
    "df['ref_line'] = .3\n",
    "\n",
    "\n",
    "#this will drop rows that have less than 4 values (feature name, key, ref line, & @ least 1 value)\n",
    "df = df.dropna(thresh = 4)\n",
    "\n",
    "\n",
    "###########################################################\n",
    "\n",
    "SEB_fig = go.Figure()\n",
    "\n",
    "SEB_fig.add_trace(go.Scatter(x= df['index'], y=df['SE_Boise'],\n",
    "                    mode='markers',\n",
    "                    marker_color = 'rgb(0,0,128)',\n",
    "                    marker=dict(size= 12, symbol = \"pentagon-open\"),          \n",
    "                    name='SE Boise'))\n",
    "\n",
    "SEB_fig.add_trace(go.Scatter(x= df['index'], y=df['SE_New_SE_Boise'],\n",
    "                    mode='markers',\n",
    "                    marker_color = 'rgb(0,0,128)',\n",
    "                    name='New Southeast Boise'))\n",
    "\n",
    "SEB_fig.add_trace(go.Scatter(x= df['index'], y=df['SE_SE_Boise_Infill'],\n",
    "                    mode='markers',  \n",
    "                    marker_color='rgb(0,0,205)',  \n",
    "                    name='Southeast Boise Infill'))\n",
    "\n",
    "SEB_fig.add_trace(go.Scatter(x= df['index'], y=df['SE_E_Boise_Waterfront'],\n",
    "                    mode='markers',  \n",
    "                    marker_color='rgb(0,0,255)',     \n",
    "                    name='East Boise Waterfront'))\n",
    "\n",
    "SEB_fig.add_trace(go.Scatter(x= df['index'], y=df['SE_Oregon_Trail'],\n",
    "                    mode='markers',\n",
    "                    marker_color='rgb(70,130,180)',     \n",
    "                    name='Oregon Trail'))\n",
    "\n",
    "SEB_fig.add_trace(go.Scatter(x= df['index'], y=df['SE_PU_Waterfront'],\n",
    "                    mode='markers',  \n",
    "                    marker_color='rgb(30,144,255)',     \n",
    "                    name='Park & University Waterfront'))\n",
    "\n",
    "\n",
    "SEB_fig.add_trace(go.Scatter(x= df['index'], y=df['SE_S_Boise_Desert'],\n",
    "                    mode='markers',\n",
    "                    marker_color='rgb(0,191,255)',     \n",
    "                    name='South Boise Desert'))\n",
    "\n",
    "#################### Reference line\n",
    "\n",
    "\n",
    "SEB_fig.add_trace(go.Scatter(x= df['index'] , y=df['ref_line'],\n",
    "                    mode = 'lines',          \n",
    "                    line = dict(color='Black', width=1, dash='dot'),          \n",
    "                    name='>0.3 Moderate Linear Relationship'))\n",
    "\n",
    "#################### Layout Title and Axis stuff\n",
    "\n",
    "SEB_fig.update_layout(\n",
    "    title=go.layout.Title(\n",
    "        text=\"<b>Correlation Coefficients for Southeast Boise and Associated Neighborhoods<b>\",\n",
    "        font = dict( \n",
    "            family = 'Times New Roman'),\n",
    "        xref=\"paper\",\n",
    "        x=.5\n",
    "    ),\n",
    "    yaxis=go.layout.YAxis(\n",
    "        title=go.layout.yaxis.Title(\n",
    "            text=\"<b>Correlation Coefficient<b>\",\n",
    "            font=dict(\n",
    "                family=\"Times New Roman\",\n",
    "                size=16,\n",
    "#                color=\"#7f7f7f\"\n",
    "            )\n",
    "        )\n",
    "    ),\n",
    "    xaxis=go.layout.XAxis(\n",
    "        type = 'category',\n",
    "        title=go.layout.xaxis.Title(\n",
    "            text=\"<b>Feature Key<b>\",\n",
    "            font=dict(\n",
    "                family=\"Times New Roman\",\n",
    "                size=16,\n",
    "#                color=\"#7f7f7f\"\n",
    "            )\n",
    "        )\n",
    "    ))\n",
    "\n",
    "\n",
    "SEB_fig.write_image(\"images/SEB_fig.jpg\")\n",
    "SEB_fig.show()"
   ]
  },
  {
   "cell_type": "markdown",
   "metadata": {},
   "source": [
    "## Northwest Boise-Garden City"
   ]
  },
  {
   "cell_type": "code",
   "execution_count": 130,
   "metadata": {},
   "outputs": [
    {
     "data": {
      "application/vnd.plotly.v1+json": {
       "config": {
        "plotlyServerURL": "https://plot.ly"
       },
       "data": [
        {
         "marker": {
          "color": "rgb(220,20,60)",
          "size": 12,
          "symbol": "square-open"
         },
         "mode": "markers",
         "name": "NW Boise-Garden City Area",
         "type": "scatter",
         "x": [
          "01",
          "02",
          "09",
          "10",
          "12",
          "13",
          "14",
          "15",
          "18",
          "20",
          "21",
          "23",
          "24",
          "28",
          "29",
          "30"
         ],
         "y": [
          0.20512159087241913,
          0.20202415393377984,
          0.15580723101335364,
          null,
          null,
          null,
          null,
          0.20297371252017204,
          0.17163317062771433,
          0.20723197604888455,
          0.19265518844715313,
          null,
          null,
          0.21006497116471967,
          0.1980678101943947,
          0.2194234637811191
         ]
        },
        {
         "marker": {
          "color": "rgb(128,0,0)"
         },
         "mode": "markers",
         "name": "New North Boise",
         "type": "scatter",
         "x": [
          "01",
          "02",
          "09",
          "10",
          "12",
          "13",
          "14",
          "15",
          "18",
          "20",
          "21",
          "23",
          "24",
          "28",
          "29",
          "30"
         ],
         "y": [
          0.3579694696064304,
          0.33033069281343774,
          0.2722034983750048,
          null,
          0.23402493940197397,
          null,
          null,
          0.3494426433629793,
          null,
          0.23812330557997743,
          0.2537134021361736,
          null,
          null,
          0.3448550395892318,
          0.30986084743158476,
          0.31868238749952277
         ]
        },
        {
         "marker": {
          "color": "rgb(255,0,0)"
         },
         "mode": "markers",
         "name": "Northwest Boise",
         "type": "scatter",
         "x": [
          "01",
          "02",
          "09",
          "10",
          "12",
          "13",
          "14",
          "15",
          "18",
          "20",
          "21",
          "23",
          "24",
          "28",
          "29",
          "30"
         ],
         "y": [
          0.1925200626685406,
          0.19761231428285989,
          0.14506665400176877,
          null,
          null,
          null,
          null,
          0.1927394198991377,
          0.17833922583532855,
          0.2162729948767343,
          0.19510422397642072,
          null,
          null,
          0.2001885661505043,
          0.18953431152796152,
          0.21553269517548176
         ]
        },
        {
         "marker": {
          "color": "rgb(220,20,60)"
         },
         "mode": "markers",
         "name": "Gardin City Waterfront",
         "type": "scatter",
         "x": [
          "01",
          "02",
          "09",
          "10",
          "12",
          "13",
          "14",
          "15",
          "18",
          "20",
          "21",
          "23",
          "24",
          "28",
          "29",
          "30"
         ],
         "y": [
          0.1913872594876601,
          null,
          0.1364477638313495,
          null,
          0.1386701267267931,
          null,
          null,
          0.18395393993349177,
          0.1466189853560936,
          0.14457963272259194,
          0.1379410667661464,
          null,
          null,
          0.18818003698410707,
          0.17374970505259607,
          0.18725440943190894
         ]
        },
        {
         "marker": {
          "color": "rgb(205,92,92)"
         },
         "mode": "markers",
         "name": "Boise Foothills",
         "type": "scatter",
         "x": [
          "01",
          "02",
          "09",
          "10",
          "12",
          "13",
          "14",
          "15",
          "18",
          "20",
          "21",
          "23",
          "24",
          "28",
          "29",
          "30"
         ],
         "y": [
          0.19115207884674978,
          0.20631899777615406,
          0.15750287769368876,
          null,
          null,
          null,
          null,
          0.18099932145816808,
          null,
          0.19863873328601286,
          0.18792017054958482,
          null,
          0.16995666060608156,
          0.2010876330422833,
          0.19977284182258842,
          0.21015240467528612
         ]
        },
        {
         "marker": {
          "color": "rgb(240,128,128)"
         },
         "mode": "markers",
         "name": "Garden City Cor.",
         "type": "scatter",
         "x": [
          "01",
          "02",
          "09",
          "10",
          "12",
          "13",
          "14",
          "15",
          "18",
          "20",
          "21",
          "23",
          "24",
          "28",
          "29",
          "30"
         ],
         "y": [
          null,
          null,
          null,
          0.41811454525471814,
          null,
          0.42877432015723116,
          0.38331019825530266,
          0.39792258172379913,
          0.31495907742555135,
          null,
          0.6456417938104717,
          0.6097706386646005,
          null,
          0.39538889475448535,
          0.5402777362651017,
          0.4113815931364336
         ]
        },
        {
         "line": {
          "color": "Black",
          "dash": "dot",
          "width": 1
         },
         "mode": "lines",
         "name": ">0.3 Moderate Linear Relationship",
         "type": "scatter",
         "x": [
          "01",
          "02",
          "09",
          "10",
          "12",
          "13",
          "14",
          "15",
          "18",
          "20",
          "21",
          "23",
          "24",
          "28",
          "29",
          "30"
         ],
         "y": [
          0.3,
          0.3,
          0.3,
          0.3,
          0.3,
          0.3,
          0.3,
          0.3,
          0.3,
          0.3,
          0.3,
          0.3,
          0.3,
          0.3,
          0.3,
          0.3
         ]
        }
       ],
       "layout": {
        "template": {
         "data": {
          "bar": [
           {
            "error_x": {
             "color": "#2a3f5f"
            },
            "error_y": {
             "color": "#2a3f5f"
            },
            "marker": {
             "line": {
              "color": "#E5ECF6",
              "width": 0.5
             }
            },
            "type": "bar"
           }
          ],
          "barpolar": [
           {
            "marker": {
             "line": {
              "color": "#E5ECF6",
              "width": 0.5
             }
            },
            "type": "barpolar"
           }
          ],
          "carpet": [
           {
            "aaxis": {
             "endlinecolor": "#2a3f5f",
             "gridcolor": "white",
             "linecolor": "white",
             "minorgridcolor": "white",
             "startlinecolor": "#2a3f5f"
            },
            "baxis": {
             "endlinecolor": "#2a3f5f",
             "gridcolor": "white",
             "linecolor": "white",
             "minorgridcolor": "white",
             "startlinecolor": "#2a3f5f"
            },
            "type": "carpet"
           }
          ],
          "choropleth": [
           {
            "colorbar": {
             "outlinewidth": 0,
             "ticks": ""
            },
            "type": "choropleth"
           }
          ],
          "contour": [
           {
            "colorbar": {
             "outlinewidth": 0,
             "ticks": ""
            },
            "colorscale": [
             [
              0,
              "#0d0887"
             ],
             [
              0.1111111111111111,
              "#46039f"
             ],
             [
              0.2222222222222222,
              "#7201a8"
             ],
             [
              0.3333333333333333,
              "#9c179e"
             ],
             [
              0.4444444444444444,
              "#bd3786"
             ],
             [
              0.5555555555555556,
              "#d8576b"
             ],
             [
              0.6666666666666666,
              "#ed7953"
             ],
             [
              0.7777777777777778,
              "#fb9f3a"
             ],
             [
              0.8888888888888888,
              "#fdca26"
             ],
             [
              1,
              "#f0f921"
             ]
            ],
            "type": "contour"
           }
          ],
          "contourcarpet": [
           {
            "colorbar": {
             "outlinewidth": 0,
             "ticks": ""
            },
            "type": "contourcarpet"
           }
          ],
          "heatmap": [
           {
            "colorbar": {
             "outlinewidth": 0,
             "ticks": ""
            },
            "colorscale": [
             [
              0,
              "#0d0887"
             ],
             [
              0.1111111111111111,
              "#46039f"
             ],
             [
              0.2222222222222222,
              "#7201a8"
             ],
             [
              0.3333333333333333,
              "#9c179e"
             ],
             [
              0.4444444444444444,
              "#bd3786"
             ],
             [
              0.5555555555555556,
              "#d8576b"
             ],
             [
              0.6666666666666666,
              "#ed7953"
             ],
             [
              0.7777777777777778,
              "#fb9f3a"
             ],
             [
              0.8888888888888888,
              "#fdca26"
             ],
             [
              1,
              "#f0f921"
             ]
            ],
            "type": "heatmap"
           }
          ],
          "heatmapgl": [
           {
            "colorbar": {
             "outlinewidth": 0,
             "ticks": ""
            },
            "colorscale": [
             [
              0,
              "#0d0887"
             ],
             [
              0.1111111111111111,
              "#46039f"
             ],
             [
              0.2222222222222222,
              "#7201a8"
             ],
             [
              0.3333333333333333,
              "#9c179e"
             ],
             [
              0.4444444444444444,
              "#bd3786"
             ],
             [
              0.5555555555555556,
              "#d8576b"
             ],
             [
              0.6666666666666666,
              "#ed7953"
             ],
             [
              0.7777777777777778,
              "#fb9f3a"
             ],
             [
              0.8888888888888888,
              "#fdca26"
             ],
             [
              1,
              "#f0f921"
             ]
            ],
            "type": "heatmapgl"
           }
          ],
          "histogram": [
           {
            "marker": {
             "colorbar": {
              "outlinewidth": 0,
              "ticks": ""
             }
            },
            "type": "histogram"
           }
          ],
          "histogram2d": [
           {
            "colorbar": {
             "outlinewidth": 0,
             "ticks": ""
            },
            "colorscale": [
             [
              0,
              "#0d0887"
             ],
             [
              0.1111111111111111,
              "#46039f"
             ],
             [
              0.2222222222222222,
              "#7201a8"
             ],
             [
              0.3333333333333333,
              "#9c179e"
             ],
             [
              0.4444444444444444,
              "#bd3786"
             ],
             [
              0.5555555555555556,
              "#d8576b"
             ],
             [
              0.6666666666666666,
              "#ed7953"
             ],
             [
              0.7777777777777778,
              "#fb9f3a"
             ],
             [
              0.8888888888888888,
              "#fdca26"
             ],
             [
              1,
              "#f0f921"
             ]
            ],
            "type": "histogram2d"
           }
          ],
          "histogram2dcontour": [
           {
            "colorbar": {
             "outlinewidth": 0,
             "ticks": ""
            },
            "colorscale": [
             [
              0,
              "#0d0887"
             ],
             [
              0.1111111111111111,
              "#46039f"
             ],
             [
              0.2222222222222222,
              "#7201a8"
             ],
             [
              0.3333333333333333,
              "#9c179e"
             ],
             [
              0.4444444444444444,
              "#bd3786"
             ],
             [
              0.5555555555555556,
              "#d8576b"
             ],
             [
              0.6666666666666666,
              "#ed7953"
             ],
             [
              0.7777777777777778,
              "#fb9f3a"
             ],
             [
              0.8888888888888888,
              "#fdca26"
             ],
             [
              1,
              "#f0f921"
             ]
            ],
            "type": "histogram2dcontour"
           }
          ],
          "mesh3d": [
           {
            "colorbar": {
             "outlinewidth": 0,
             "ticks": ""
            },
            "type": "mesh3d"
           }
          ],
          "parcoords": [
           {
            "line": {
             "colorbar": {
              "outlinewidth": 0,
              "ticks": ""
             }
            },
            "type": "parcoords"
           }
          ],
          "scatter": [
           {
            "marker": {
             "colorbar": {
              "outlinewidth": 0,
              "ticks": ""
             }
            },
            "type": "scatter"
           }
          ],
          "scatter3d": [
           {
            "line": {
             "colorbar": {
              "outlinewidth": 0,
              "ticks": ""
             }
            },
            "marker": {
             "colorbar": {
              "outlinewidth": 0,
              "ticks": ""
             }
            },
            "type": "scatter3d"
           }
          ],
          "scattercarpet": [
           {
            "marker": {
             "colorbar": {
              "outlinewidth": 0,
              "ticks": ""
             }
            },
            "type": "scattercarpet"
           }
          ],
          "scattergeo": [
           {
            "marker": {
             "colorbar": {
              "outlinewidth": 0,
              "ticks": ""
             }
            },
            "type": "scattergeo"
           }
          ],
          "scattergl": [
           {
            "marker": {
             "colorbar": {
              "outlinewidth": 0,
              "ticks": ""
             }
            },
            "type": "scattergl"
           }
          ],
          "scattermapbox": [
           {
            "marker": {
             "colorbar": {
              "outlinewidth": 0,
              "ticks": ""
             }
            },
            "type": "scattermapbox"
           }
          ],
          "scatterpolar": [
           {
            "marker": {
             "colorbar": {
              "outlinewidth": 0,
              "ticks": ""
             }
            },
            "type": "scatterpolar"
           }
          ],
          "scatterpolargl": [
           {
            "marker": {
             "colorbar": {
              "outlinewidth": 0,
              "ticks": ""
             }
            },
            "type": "scatterpolargl"
           }
          ],
          "scatterternary": [
           {
            "marker": {
             "colorbar": {
              "outlinewidth": 0,
              "ticks": ""
             }
            },
            "type": "scatterternary"
           }
          ],
          "surface": [
           {
            "colorbar": {
             "outlinewidth": 0,
             "ticks": ""
            },
            "colorscale": [
             [
              0,
              "#0d0887"
             ],
             [
              0.1111111111111111,
              "#46039f"
             ],
             [
              0.2222222222222222,
              "#7201a8"
             ],
             [
              0.3333333333333333,
              "#9c179e"
             ],
             [
              0.4444444444444444,
              "#bd3786"
             ],
             [
              0.5555555555555556,
              "#d8576b"
             ],
             [
              0.6666666666666666,
              "#ed7953"
             ],
             [
              0.7777777777777778,
              "#fb9f3a"
             ],
             [
              0.8888888888888888,
              "#fdca26"
             ],
             [
              1,
              "#f0f921"
             ]
            ],
            "type": "surface"
           }
          ],
          "table": [
           {
            "cells": {
             "fill": {
              "color": "#EBF0F8"
             },
             "line": {
              "color": "white"
             }
            },
            "header": {
             "fill": {
              "color": "#C8D4E3"
             },
             "line": {
              "color": "white"
             }
            },
            "type": "table"
           }
          ]
         },
         "layout": {
          "annotationdefaults": {
           "arrowcolor": "#2a3f5f",
           "arrowhead": 0,
           "arrowwidth": 1
          },
          "colorscale": {
           "diverging": [
            [
             0,
             "#8e0152"
            ],
            [
             0.1,
             "#c51b7d"
            ],
            [
             0.2,
             "#de77ae"
            ],
            [
             0.3,
             "#f1b6da"
            ],
            [
             0.4,
             "#fde0ef"
            ],
            [
             0.5,
             "#f7f7f7"
            ],
            [
             0.6,
             "#e6f5d0"
            ],
            [
             0.7,
             "#b8e186"
            ],
            [
             0.8,
             "#7fbc41"
            ],
            [
             0.9,
             "#4d9221"
            ],
            [
             1,
             "#276419"
            ]
           ],
           "sequential": [
            [
             0,
             "#0d0887"
            ],
            [
             0.1111111111111111,
             "#46039f"
            ],
            [
             0.2222222222222222,
             "#7201a8"
            ],
            [
             0.3333333333333333,
             "#9c179e"
            ],
            [
             0.4444444444444444,
             "#bd3786"
            ],
            [
             0.5555555555555556,
             "#d8576b"
            ],
            [
             0.6666666666666666,
             "#ed7953"
            ],
            [
             0.7777777777777778,
             "#fb9f3a"
            ],
            [
             0.8888888888888888,
             "#fdca26"
            ],
            [
             1,
             "#f0f921"
            ]
           ],
           "sequentialminus": [
            [
             0,
             "#0d0887"
            ],
            [
             0.1111111111111111,
             "#46039f"
            ],
            [
             0.2222222222222222,
             "#7201a8"
            ],
            [
             0.3333333333333333,
             "#9c179e"
            ],
            [
             0.4444444444444444,
             "#bd3786"
            ],
            [
             0.5555555555555556,
             "#d8576b"
            ],
            [
             0.6666666666666666,
             "#ed7953"
            ],
            [
             0.7777777777777778,
             "#fb9f3a"
            ],
            [
             0.8888888888888888,
             "#fdca26"
            ],
            [
             1,
             "#f0f921"
            ]
           ]
          },
          "colorway": [
           "#636efa",
           "#EF553B",
           "#00cc96",
           "#ab63fa",
           "#FFA15A",
           "#19d3f3",
           "#FF6692",
           "#B6E880",
           "#FF97FF",
           "#FECB52"
          ],
          "font": {
           "color": "#2a3f5f"
          },
          "geo": {
           "bgcolor": "white",
           "lakecolor": "white",
           "landcolor": "#E5ECF6",
           "showlakes": true,
           "showland": true,
           "subunitcolor": "white"
          },
          "hoverlabel": {
           "align": "left"
          },
          "hovermode": "closest",
          "mapbox": {
           "style": "light"
          },
          "paper_bgcolor": "white",
          "plot_bgcolor": "#E5ECF6",
          "polar": {
           "angularaxis": {
            "gridcolor": "white",
            "linecolor": "white",
            "ticks": ""
           },
           "bgcolor": "#E5ECF6",
           "radialaxis": {
            "gridcolor": "white",
            "linecolor": "white",
            "ticks": ""
           }
          },
          "scene": {
           "xaxis": {
            "backgroundcolor": "#E5ECF6",
            "gridcolor": "white",
            "gridwidth": 2,
            "linecolor": "white",
            "showbackground": true,
            "ticks": "",
            "zerolinecolor": "white"
           },
           "yaxis": {
            "backgroundcolor": "#E5ECF6",
            "gridcolor": "white",
            "gridwidth": 2,
            "linecolor": "white",
            "showbackground": true,
            "ticks": "",
            "zerolinecolor": "white"
           },
           "zaxis": {
            "backgroundcolor": "#E5ECF6",
            "gridcolor": "white",
            "gridwidth": 2,
            "linecolor": "white",
            "showbackground": true,
            "ticks": "",
            "zerolinecolor": "white"
           }
          },
          "shapedefaults": {
           "line": {
            "color": "#2a3f5f"
           }
          },
          "ternary": {
           "aaxis": {
            "gridcolor": "white",
            "linecolor": "white",
            "ticks": ""
           },
           "baxis": {
            "gridcolor": "white",
            "linecolor": "white",
            "ticks": ""
           },
           "bgcolor": "#E5ECF6",
           "caxis": {
            "gridcolor": "white",
            "linecolor": "white",
            "ticks": ""
           }
          },
          "title": {
           "x": 0.05
          },
          "xaxis": {
           "automargin": true,
           "gridcolor": "white",
           "linecolor": "white",
           "ticks": "",
           "zerolinecolor": "white",
           "zerolinewidth": 2
          },
          "yaxis": {
           "automargin": true,
           "gridcolor": "white",
           "linecolor": "white",
           "ticks": "",
           "zerolinecolor": "white",
           "zerolinewidth": 2
          }
         }
        },
        "title": {
         "font": {
          "family": "Times New Roman"
         },
         "text": "<b>Correlation Coefficients for Northwest Boise-Garden City and Associated Neighborhoods<b>",
         "x": 0.5,
         "xref": "paper"
        },
        "xaxis": {
         "title": {
          "font": {
           "family": "Times New Roman",
           "size": 16
          },
          "text": "<b>Feature Key<b>"
         },
         "type": "category"
        },
        "yaxis": {
         "title": {
          "font": {
           "family": "Times New Roman",
           "size": 16
          },
          "text": "<b>Correlation Coefficient<b>"
         }
        }
       }
      },
      "text/html": [
       "<div>\n",
       "        \n",
       "        \n",
       "            <div id=\"905845a7-377a-4556-998d-df7038e310c2\" class=\"plotly-graph-div\" style=\"height:525px; width:100%;\"></div>\n",
       "            <script type=\"text/javascript\">\n",
       "                require([\"plotly\"], function(Plotly) {\n",
       "                    window.PLOTLYENV=window.PLOTLYENV || {};\n",
       "                    \n",
       "                if (document.getElementById(\"905845a7-377a-4556-998d-df7038e310c2\")) {\n",
       "                    Plotly.newPlot(\n",
       "                        '905845a7-377a-4556-998d-df7038e310c2',\n",
       "                        [{\"marker\": {\"color\": \"rgb(220,20,60)\", \"size\": 12, \"symbol\": \"square-open\"}, \"mode\": \"markers\", \"name\": \"NW Boise-Garden City Area\", \"type\": \"scatter\", \"x\": [\"01\", \"02\", \"09\", \"10\", \"12\", \"13\", \"14\", \"15\", \"18\", \"20\", \"21\", \"23\", \"24\", \"28\", \"29\", \"30\"], \"y\": [0.20512159087241913, 0.20202415393377984, 0.15580723101335364, null, null, null, null, 0.20297371252017204, 0.17163317062771433, 0.20723197604888455, 0.19265518844715313, null, null, 0.21006497116471967, 0.1980678101943947, 0.2194234637811191]}, {\"marker\": {\"color\": \"rgb(128,0,0)\"}, \"mode\": \"markers\", \"name\": \"New North Boise\", \"type\": \"scatter\", \"x\": [\"01\", \"02\", \"09\", \"10\", \"12\", \"13\", \"14\", \"15\", \"18\", \"20\", \"21\", \"23\", \"24\", \"28\", \"29\", \"30\"], \"y\": [0.3579694696064304, 0.33033069281343774, 0.2722034983750048, null, 0.23402493940197397, null, null, 0.3494426433629793, null, 0.23812330557997743, 0.2537134021361736, null, null, 0.3448550395892318, 0.30986084743158476, 0.31868238749952277]}, {\"marker\": {\"color\": \"rgb(255,0,0)\"}, \"mode\": \"markers\", \"name\": \"Northwest Boise\", \"type\": \"scatter\", \"x\": [\"01\", \"02\", \"09\", \"10\", \"12\", \"13\", \"14\", \"15\", \"18\", \"20\", \"21\", \"23\", \"24\", \"28\", \"29\", \"30\"], \"y\": [0.1925200626685406, 0.19761231428285989, 0.14506665400176877, null, null, null, null, 0.1927394198991377, 0.17833922583532855, 0.2162729948767343, 0.19510422397642072, null, null, 0.2001885661505043, 0.18953431152796152, 0.21553269517548176]}, {\"marker\": {\"color\": \"rgb(220,20,60)\"}, \"mode\": \"markers\", \"name\": \"Gardin City Waterfront\", \"type\": \"scatter\", \"x\": [\"01\", \"02\", \"09\", \"10\", \"12\", \"13\", \"14\", \"15\", \"18\", \"20\", \"21\", \"23\", \"24\", \"28\", \"29\", \"30\"], \"y\": [0.1913872594876601, null, 0.1364477638313495, null, 0.1386701267267931, null, null, 0.18395393993349177, 0.1466189853560936, 0.14457963272259194, 0.1379410667661464, null, null, 0.18818003698410707, 0.17374970505259607, 0.18725440943190894]}, {\"marker\": {\"color\": \"rgb(205,92,92)\"}, \"mode\": \"markers\", \"name\": \"Boise Foothills\", \"type\": \"scatter\", \"x\": [\"01\", \"02\", \"09\", \"10\", \"12\", \"13\", \"14\", \"15\", \"18\", \"20\", \"21\", \"23\", \"24\", \"28\", \"29\", \"30\"], \"y\": [0.19115207884674978, 0.20631899777615406, 0.15750287769368876, null, null, null, null, 0.18099932145816808, null, 0.19863873328601286, 0.18792017054958482, null, 0.16995666060608156, 0.2010876330422833, 0.19977284182258842, 0.21015240467528612]}, {\"marker\": {\"color\": \"rgb(240,128,128)\"}, \"mode\": \"markers\", \"name\": \"Garden City Cor.\", \"type\": \"scatter\", \"x\": [\"01\", \"02\", \"09\", \"10\", \"12\", \"13\", \"14\", \"15\", \"18\", \"20\", \"21\", \"23\", \"24\", \"28\", \"29\", \"30\"], \"y\": [null, null, null, 0.41811454525471814, null, 0.42877432015723116, 0.38331019825530266, 0.39792258172379913, 0.31495907742555135, null, 0.6456417938104717, 0.6097706386646005, null, 0.39538889475448535, 0.5402777362651017, 0.4113815931364336]}, {\"line\": {\"color\": \"Black\", \"dash\": \"dot\", \"width\": 1}, \"mode\": \"lines\", \"name\": \">0.3 Moderate Linear Relationship\", \"type\": \"scatter\", \"x\": [\"01\", \"02\", \"09\", \"10\", \"12\", \"13\", \"14\", \"15\", \"18\", \"20\", \"21\", \"23\", \"24\", \"28\", \"29\", \"30\"], \"y\": [0.3, 0.3, 0.3, 0.3, 0.3, 0.3, 0.3, 0.3, 0.3, 0.3, 0.3, 0.3, 0.3, 0.3, 0.3, 0.3]}],\n",
       "                        {\"template\": {\"data\": {\"bar\": [{\"error_x\": {\"color\": \"#2a3f5f\"}, \"error_y\": {\"color\": \"#2a3f5f\"}, \"marker\": {\"line\": {\"color\": \"#E5ECF6\", \"width\": 0.5}}, \"type\": \"bar\"}], \"barpolar\": [{\"marker\": {\"line\": {\"color\": \"#E5ECF6\", \"width\": 0.5}}, \"type\": \"barpolar\"}], \"carpet\": [{\"aaxis\": {\"endlinecolor\": \"#2a3f5f\", \"gridcolor\": \"white\", \"linecolor\": \"white\", \"minorgridcolor\": \"white\", \"startlinecolor\": \"#2a3f5f\"}, \"baxis\": {\"endlinecolor\": \"#2a3f5f\", \"gridcolor\": \"white\", \"linecolor\": \"white\", \"minorgridcolor\": \"white\", \"startlinecolor\": \"#2a3f5f\"}, \"type\": \"carpet\"}], \"choropleth\": [{\"colorbar\": {\"outlinewidth\": 0, \"ticks\": \"\"}, \"type\": \"choropleth\"}], \"contour\": [{\"colorbar\": {\"outlinewidth\": 0, \"ticks\": \"\"}, \"colorscale\": [[0.0, \"#0d0887\"], [0.1111111111111111, \"#46039f\"], [0.2222222222222222, \"#7201a8\"], [0.3333333333333333, \"#9c179e\"], [0.4444444444444444, \"#bd3786\"], [0.5555555555555556, \"#d8576b\"], [0.6666666666666666, \"#ed7953\"], [0.7777777777777778, \"#fb9f3a\"], [0.8888888888888888, \"#fdca26\"], [1.0, \"#f0f921\"]], \"type\": \"contour\"}], \"contourcarpet\": [{\"colorbar\": {\"outlinewidth\": 0, \"ticks\": \"\"}, \"type\": \"contourcarpet\"}], \"heatmap\": [{\"colorbar\": {\"outlinewidth\": 0, \"ticks\": \"\"}, \"colorscale\": [[0.0, \"#0d0887\"], [0.1111111111111111, \"#46039f\"], [0.2222222222222222, \"#7201a8\"], [0.3333333333333333, \"#9c179e\"], [0.4444444444444444, \"#bd3786\"], [0.5555555555555556, \"#d8576b\"], [0.6666666666666666, \"#ed7953\"], [0.7777777777777778, \"#fb9f3a\"], [0.8888888888888888, \"#fdca26\"], [1.0, \"#f0f921\"]], \"type\": \"heatmap\"}], \"heatmapgl\": [{\"colorbar\": {\"outlinewidth\": 0, \"ticks\": \"\"}, \"colorscale\": [[0.0, \"#0d0887\"], [0.1111111111111111, \"#46039f\"], [0.2222222222222222, \"#7201a8\"], [0.3333333333333333, \"#9c179e\"], [0.4444444444444444, \"#bd3786\"], [0.5555555555555556, \"#d8576b\"], [0.6666666666666666, \"#ed7953\"], [0.7777777777777778, \"#fb9f3a\"], [0.8888888888888888, \"#fdca26\"], [1.0, \"#f0f921\"]], \"type\": \"heatmapgl\"}], \"histogram\": [{\"marker\": {\"colorbar\": {\"outlinewidth\": 0, \"ticks\": \"\"}}, \"type\": \"histogram\"}], \"histogram2d\": [{\"colorbar\": {\"outlinewidth\": 0, \"ticks\": \"\"}, \"colorscale\": [[0.0, \"#0d0887\"], [0.1111111111111111, \"#46039f\"], [0.2222222222222222, \"#7201a8\"], [0.3333333333333333, \"#9c179e\"], [0.4444444444444444, \"#bd3786\"], [0.5555555555555556, \"#d8576b\"], [0.6666666666666666, \"#ed7953\"], [0.7777777777777778, \"#fb9f3a\"], [0.8888888888888888, \"#fdca26\"], [1.0, \"#f0f921\"]], \"type\": \"histogram2d\"}], \"histogram2dcontour\": [{\"colorbar\": {\"outlinewidth\": 0, \"ticks\": \"\"}, \"colorscale\": [[0.0, \"#0d0887\"], [0.1111111111111111, \"#46039f\"], [0.2222222222222222, \"#7201a8\"], [0.3333333333333333, \"#9c179e\"], [0.4444444444444444, \"#bd3786\"], [0.5555555555555556, \"#d8576b\"], [0.6666666666666666, \"#ed7953\"], [0.7777777777777778, \"#fb9f3a\"], [0.8888888888888888, \"#fdca26\"], [1.0, \"#f0f921\"]], \"type\": \"histogram2dcontour\"}], \"mesh3d\": [{\"colorbar\": {\"outlinewidth\": 0, \"ticks\": \"\"}, \"type\": \"mesh3d\"}], \"parcoords\": [{\"line\": {\"colorbar\": {\"outlinewidth\": 0, \"ticks\": \"\"}}, \"type\": \"parcoords\"}], \"scatter\": [{\"marker\": {\"colorbar\": {\"outlinewidth\": 0, \"ticks\": \"\"}}, \"type\": \"scatter\"}], \"scatter3d\": [{\"line\": {\"colorbar\": {\"outlinewidth\": 0, \"ticks\": \"\"}}, \"marker\": {\"colorbar\": {\"outlinewidth\": 0, \"ticks\": \"\"}}, \"type\": \"scatter3d\"}], \"scattercarpet\": [{\"marker\": {\"colorbar\": {\"outlinewidth\": 0, \"ticks\": \"\"}}, \"type\": \"scattercarpet\"}], \"scattergeo\": [{\"marker\": {\"colorbar\": {\"outlinewidth\": 0, \"ticks\": \"\"}}, \"type\": \"scattergeo\"}], \"scattergl\": [{\"marker\": {\"colorbar\": {\"outlinewidth\": 0, \"ticks\": \"\"}}, \"type\": \"scattergl\"}], \"scattermapbox\": [{\"marker\": {\"colorbar\": {\"outlinewidth\": 0, \"ticks\": \"\"}}, \"type\": \"scattermapbox\"}], \"scatterpolar\": [{\"marker\": {\"colorbar\": {\"outlinewidth\": 0, \"ticks\": \"\"}}, \"type\": \"scatterpolar\"}], \"scatterpolargl\": [{\"marker\": {\"colorbar\": {\"outlinewidth\": 0, \"ticks\": \"\"}}, \"type\": \"scatterpolargl\"}], \"scatterternary\": [{\"marker\": {\"colorbar\": {\"outlinewidth\": 0, \"ticks\": \"\"}}, \"type\": \"scatterternary\"}], \"surface\": [{\"colorbar\": {\"outlinewidth\": 0, \"ticks\": \"\"}, \"colorscale\": [[0.0, \"#0d0887\"], [0.1111111111111111, \"#46039f\"], [0.2222222222222222, \"#7201a8\"], [0.3333333333333333, \"#9c179e\"], [0.4444444444444444, \"#bd3786\"], [0.5555555555555556, \"#d8576b\"], [0.6666666666666666, \"#ed7953\"], [0.7777777777777778, \"#fb9f3a\"], [0.8888888888888888, \"#fdca26\"], [1.0, \"#f0f921\"]], \"type\": \"surface\"}], \"table\": [{\"cells\": {\"fill\": {\"color\": \"#EBF0F8\"}, \"line\": {\"color\": \"white\"}}, \"header\": {\"fill\": {\"color\": \"#C8D4E3\"}, \"line\": {\"color\": \"white\"}}, \"type\": \"table\"}]}, \"layout\": {\"annotationdefaults\": {\"arrowcolor\": \"#2a3f5f\", \"arrowhead\": 0, \"arrowwidth\": 1}, \"colorscale\": {\"diverging\": [[0, \"#8e0152\"], [0.1, \"#c51b7d\"], [0.2, \"#de77ae\"], [0.3, \"#f1b6da\"], [0.4, \"#fde0ef\"], [0.5, \"#f7f7f7\"], [0.6, \"#e6f5d0\"], [0.7, \"#b8e186\"], [0.8, \"#7fbc41\"], [0.9, \"#4d9221\"], [1, \"#276419\"]], \"sequential\": [[0.0, \"#0d0887\"], [0.1111111111111111, \"#46039f\"], [0.2222222222222222, \"#7201a8\"], [0.3333333333333333, \"#9c179e\"], [0.4444444444444444, \"#bd3786\"], [0.5555555555555556, \"#d8576b\"], [0.6666666666666666, \"#ed7953\"], [0.7777777777777778, \"#fb9f3a\"], [0.8888888888888888, \"#fdca26\"], [1.0, \"#f0f921\"]], \"sequentialminus\": [[0.0, \"#0d0887\"], [0.1111111111111111, \"#46039f\"], [0.2222222222222222, \"#7201a8\"], [0.3333333333333333, \"#9c179e\"], [0.4444444444444444, \"#bd3786\"], [0.5555555555555556, \"#d8576b\"], [0.6666666666666666, \"#ed7953\"], [0.7777777777777778, \"#fb9f3a\"], [0.8888888888888888, \"#fdca26\"], [1.0, \"#f0f921\"]]}, \"colorway\": [\"#636efa\", \"#EF553B\", \"#00cc96\", \"#ab63fa\", \"#FFA15A\", \"#19d3f3\", \"#FF6692\", \"#B6E880\", \"#FF97FF\", \"#FECB52\"], \"font\": {\"color\": \"#2a3f5f\"}, \"geo\": {\"bgcolor\": \"white\", \"lakecolor\": \"white\", \"landcolor\": \"#E5ECF6\", \"showlakes\": true, \"showland\": true, \"subunitcolor\": \"white\"}, \"hoverlabel\": {\"align\": \"left\"}, \"hovermode\": \"closest\", \"mapbox\": {\"style\": \"light\"}, \"paper_bgcolor\": \"white\", \"plot_bgcolor\": \"#E5ECF6\", \"polar\": {\"angularaxis\": {\"gridcolor\": \"white\", \"linecolor\": \"white\", \"ticks\": \"\"}, \"bgcolor\": \"#E5ECF6\", \"radialaxis\": {\"gridcolor\": \"white\", \"linecolor\": \"white\", \"ticks\": \"\"}}, \"scene\": {\"xaxis\": {\"backgroundcolor\": \"#E5ECF6\", \"gridcolor\": \"white\", \"gridwidth\": 2, \"linecolor\": \"white\", \"showbackground\": true, \"ticks\": \"\", \"zerolinecolor\": \"white\"}, \"yaxis\": {\"backgroundcolor\": \"#E5ECF6\", \"gridcolor\": \"white\", \"gridwidth\": 2, \"linecolor\": \"white\", \"showbackground\": true, \"ticks\": \"\", \"zerolinecolor\": \"white\"}, \"zaxis\": {\"backgroundcolor\": \"#E5ECF6\", \"gridcolor\": \"white\", \"gridwidth\": 2, \"linecolor\": \"white\", \"showbackground\": true, \"ticks\": \"\", \"zerolinecolor\": \"white\"}}, \"shapedefaults\": {\"line\": {\"color\": \"#2a3f5f\"}}, \"ternary\": {\"aaxis\": {\"gridcolor\": \"white\", \"linecolor\": \"white\", \"ticks\": \"\"}, \"baxis\": {\"gridcolor\": \"white\", \"linecolor\": \"white\", \"ticks\": \"\"}, \"bgcolor\": \"#E5ECF6\", \"caxis\": {\"gridcolor\": \"white\", \"linecolor\": \"white\", \"ticks\": \"\"}}, \"title\": {\"x\": 0.05}, \"xaxis\": {\"automargin\": true, \"gridcolor\": \"white\", \"linecolor\": \"white\", \"ticks\": \"\", \"zerolinecolor\": \"white\", \"zerolinewidth\": 2}, \"yaxis\": {\"automargin\": true, \"gridcolor\": \"white\", \"linecolor\": \"white\", \"ticks\": \"\", \"zerolinecolor\": \"white\", \"zerolinewidth\": 2}}}, \"title\": {\"font\": {\"family\": \"Times New Roman\"}, \"text\": \"<b>Correlation Coefficients for Northwest Boise-Garden City and Associated Neighborhoods<b>\", \"x\": 0.5, \"xref\": \"paper\"}, \"xaxis\": {\"title\": {\"font\": {\"family\": \"Times New Roman\", \"size\": 16}, \"text\": \"<b>Feature Key<b>\"}, \"type\": \"category\"}, \"yaxis\": {\"title\": {\"font\": {\"family\": \"Times New Roman\", \"size\": 16}, \"text\": \"<b>Correlation Coefficient<b>\"}}},\n",
       "                        {\"responsive\": true}\n",
       "                    ).then(function(){\n",
       "                            \n",
       "var gd = document.getElementById('905845a7-377a-4556-998d-df7038e310c2');\n",
       "var x = new MutationObserver(function (mutations, observer) {{\n",
       "        var display = window.getComputedStyle(gd).display;\n",
       "        if (!display || display === 'none') {{\n",
       "            console.log([gd, 'removed!']);\n",
       "            Plotly.purge(gd);\n",
       "            observer.disconnect();\n",
       "        }}\n",
       "}});\n",
       "\n",
       "// Listen for the removal of the full notebook cells\n",
       "var notebookContainer = gd.closest('#notebook-container');\n",
       "if (notebookContainer) {{\n",
       "    x.observe(notebookContainer, {childList: true});\n",
       "}}\n",
       "\n",
       "// Listen for the clearing of the current output cell\n",
       "var outputEl = gd.closest('.output');\n",
       "if (outputEl) {{\n",
       "    x.observe(outputEl, {childList: true});\n",
       "}}\n",
       "\n",
       "                        })\n",
       "                };\n",
       "                });\n",
       "            </script>\n",
       "        </div>"
      ]
     },
     "metadata": {},
     "output_type": "display_data"
    }
   ],
   "source": [
    "df = pd.read_pickle('NW-Coeff-compare.pkl')\n",
    "df2 = pd.read_pickle('a-Coeff-compare.pkl')\n",
    "\n",
    "\n",
    "df = pd.merge(df,df2, on = 'index', how = 'outer')\n",
    "\n",
    "\n",
    "###########################################################\n",
    "\n",
    "# drops rows up to TAV_Ch, below TAV_Ch = 0 and TAV_Ch = 1 \n",
    "df = df.iloc[9:]\n",
    "\n",
    "# Needed to make a key for ease a readability and to make the reference line for moderate linear \n",
    "# relationship\n",
    "df= df.rename(columns = {'index' : 'Feature_Name'})\n",
    "df['index'] = ['00','01','02','03','04','05','06','07','08','09','10','11','12','13','14',\n",
    "             '15','16','17','18','19','20','21','22','23','24','25','26','27','28','29','30']\n",
    "df['ref_line'] = .3\n",
    "\n",
    "\n",
    "#this will drop rows that have less than 4 values (feature name, key, ref line, & @ least 1 value)\n",
    "df = df.dropna(thresh = 4)\n",
    "\n",
    "\n",
    "###########################################################\n",
    "\n",
    "NW_fig = go.Figure()\n",
    "\n",
    "NW_fig.add_trace(go.Scatter(x= df['index'], y=df['NW_Boise_GC'],\n",
    "                    mode='markers',\n",
    "                    marker_color = 'rgb(220,20,60)',\n",
    "                    marker=dict(size= 12, symbol = \"square-open\"),          \n",
    "                    name='NW Boise-Garden City Area'))\n",
    "\n",
    "NW_fig.add_trace(go.Scatter(x= df['index'], y=df['NW_New_N_Boise'],\n",
    "                    mode='markers',\n",
    "                    marker_color = 'rgb(128,0,0)',\n",
    "                    name='New North Boise'))\n",
    "\n",
    "NW_fig.add_trace(go.Scatter(x= df['index'], y=df['NW_NW_Boise'],\n",
    "                    mode='markers',  \n",
    "                    marker_color='rgb(255,0,0)',  \n",
    "                    name='Northwest Boise'))\n",
    "\n",
    "NW_fig.add_trace(go.Scatter(x= df['index'], y=df['NW_GC_Waterfront'],\n",
    "                    mode='markers',  \n",
    "                    marker_color='rgb(220,20,60)',     \n",
    "                    name='Gardin City Waterfront'))\n",
    "\n",
    "NW_fig.add_trace(go.Scatter(x= df['index'], y=df['NW_B_Foothills'],\n",
    "                    mode='markers',\n",
    "                    marker_color='rgb(205,92,92)',     \n",
    "                    name='Boise Foothills'))\n",
    "\n",
    "NW_fig.add_trace(go.Scatter(x= df['index'], y=df['NW_GCC_Corridor'],\n",
    "                    mode='markers',  \n",
    "                    marker_color='rgb(240,128,128)',     \n",
    "                    name='Garden City Cor.'))\n",
    "\n",
    "\n",
    "\n",
    "#################### Reference line\n",
    "\n",
    "\n",
    "NW_fig.add_trace(go.Scatter(x= df['index'] , y=df['ref_line'],\n",
    "                    mode = 'lines',          \n",
    "                    line = dict(color='Black', width=1, dash='dot'),          \n",
    "                    name='>0.3 Moderate Linear Relationship'))\n",
    "\n",
    "#################### Layout Title and Axis stuff\n",
    "\n",
    "NW_fig.update_layout(\n",
    "    title=go.layout.Title(\n",
    "        text=\"<b>Correlation Coefficients for Northwest Boise-Garden City and Associated Neighborhoods<b>\",\n",
    "        font = dict( \n",
    "            family = 'Times New Roman'),\n",
    "        xref=\"paper\",\n",
    "        x=.5\n",
    "    ),\n",
    "    yaxis=go.layout.YAxis(\n",
    "        title=go.layout.yaxis.Title(\n",
    "            text=\"<b>Correlation Coefficient<b>\",\n",
    "            font=dict(\n",
    "                family=\"Times New Roman\",\n",
    "                size=16,\n",
    "#                color=\"#7f7f7f\"\n",
    "            )\n",
    "        )\n",
    "    ),\n",
    "    xaxis=go.layout.XAxis(\n",
    "        type = 'category',\n",
    "        title=go.layout.xaxis.Title(\n",
    "            text=\"<b>Feature Key<b>\",\n",
    "            font=dict(\n",
    "                family=\"Times New Roman\",\n",
    "                size=16,\n",
    "#                color=\"#7f7f7f\"\n",
    "            )\n",
    "        )\n",
    "    ))\n",
    "\n",
    "\n",
    "NW_fig.write_image(\"images/NW_fig.jpg\")\n",
    "NW_fig.show()"
   ]
  },
  {
   "cell_type": "markdown",
   "metadata": {},
   "source": [
    "## Northeast Boise"
   ]
  },
  {
   "cell_type": "code",
   "execution_count": 129,
   "metadata": {},
   "outputs": [
    {
     "data": {
      "application/vnd.plotly.v1+json": {
       "config": {
        "plotlyServerURL": "https://plot.ly"
       },
       "data": [
        {
         "marker": {
          "color": "rgb(199,21,133)",
          "size": 12,
          "symbol": "bowtie-open"
         },
         "mode": "markers",
         "name": "Northeast Boise Area",
         "type": "scatter",
         "x": [
          "01",
          "02",
          "05",
          "06",
          "07",
          "09",
          "11",
          "12",
          "15",
          "18",
          "20",
          "21",
          "22",
          "24",
          "26",
          "27",
          "28",
          "29",
          "30"
         ],
         "y": [
          null,
          0.03192043949798312,
          null,
          null,
          null,
          0.026809437454825388,
          null,
          0.023057916262704235,
          0.028292428886185668,
          0.029265182343593755,
          0.031063975572862466,
          0.024672545434538812,
          null,
          null,
          null,
          null,
          0.02878594374273333,
          0.031774543826914844,
          0.03517291426907938
         ]
        },
        {
         "marker": {
          "color": "rgb(199,21,133)"
         },
         "mode": "markers",
         "name": "Boise Foothills",
         "type": "scatter",
         "x": [
          "01",
          "02",
          "05",
          "06",
          "07",
          "09",
          "11",
          "12",
          "15",
          "18",
          "20",
          "21",
          "22",
          "24",
          "26",
          "27",
          "28",
          "29",
          "30"
         ],
         "y": [
          0.2851084271483166,
          0.29971215823805175,
          null,
          null,
          null,
          0.33160525736416807,
          null,
          null,
          0.31329517553779956,
          0.3314105821135322,
          0.41159935941792986,
          0.3701274495280811,
          null,
          null,
          null,
          null,
          0.3702415716171266,
          0.4039162201832312,
          0.4162395131901293
         ]
        },
        {
         "marker": {
          "color": "rgb(255,20,147)"
         },
         "mode": "markers",
         "name": "Warm Springs",
         "type": "scatter",
         "x": [
          "01",
          "02",
          "05",
          "06",
          "07",
          "09",
          "11",
          "12",
          "15",
          "18",
          "20",
          "21",
          "22",
          "24",
          "26",
          "27",
          "28",
          "29",
          "30"
         ],
         "y": [
          null,
          null,
          0.013653771776093704,
          null,
          0.010563021968250784,
          null,
          0.010535984290999445,
          null,
          null,
          null,
          null,
          null,
          0.017247050109168927,
          0.013596652185587553,
          0.013733351454427674,
          0.018545081999656935,
          0.015358631331204117,
          0.015041397636989366,
          0.010816739457814445
         ]
        },
        {
         "marker": {
          "color": "rgb(240,128,128)"
         },
         "mode": "markers",
         "name": "East Boise Waterfront",
         "type": "scatter",
         "x": [
          "01",
          "02",
          "05",
          "06",
          "07",
          "09",
          "11",
          "12",
          "15",
          "18",
          "20",
          "21",
          "22",
          "24",
          "26",
          "27",
          "28",
          "29",
          "30"
         ],
         "y": [
          null,
          0.37335254426281395,
          null,
          null,
          null,
          0.38332845185073716,
          null,
          0.31927790514486526,
          0.4156357597427543,
          0.34495725283835765,
          0.3653435900073255,
          0.41242454774716386,
          null,
          null,
          null,
          null,
          0.40216251398899666,
          0.4316172630237212,
          0.426209714691374
         ]
        },
        {
         "marker": {
          "color": "rgb(255,182,193)"
         },
         "mode": "markers",
         "name": "Barber & Harris Ranch",
         "type": "scatter",
         "x": [
          "01",
          "02",
          "05",
          "06",
          "07",
          "09",
          "11",
          "12",
          "15",
          "18",
          "20",
          "21",
          "22",
          "24",
          "26",
          "27",
          "28",
          "29",
          "30"
         ],
         "y": [
          null,
          0.07959669169275807,
          null,
          0.052078728899328686,
          null,
          0.06287440184808747,
          null,
          0.0716762624894548,
          0.06252119522836835,
          0.05704239135143858,
          0.07467429978706064,
          0.04582023309666192,
          null,
          null,
          null,
          null,
          null,
          0.04418883701494587,
          0.07359982855950886
         ]
        },
        {
         "line": {
          "color": "Black",
          "dash": "dot",
          "width": 1
         },
         "mode": "lines",
         "name": ">0.3 Moderate Linear Relationship",
         "type": "scatter",
         "x": [
          "01",
          "02",
          "05",
          "06",
          "07",
          "09",
          "11",
          "12",
          "15",
          "18",
          "20",
          "21",
          "22",
          "24",
          "26",
          "27",
          "28",
          "29",
          "30"
         ],
         "y": [
          0.3,
          0.3,
          0.3,
          0.3,
          0.3,
          0.3,
          0.3,
          0.3,
          0.3,
          0.3,
          0.3,
          0.3,
          0.3,
          0.3,
          0.3,
          0.3,
          0.3,
          0.3,
          0.3
         ]
        }
       ],
       "layout": {
        "template": {
         "data": {
          "bar": [
           {
            "error_x": {
             "color": "#2a3f5f"
            },
            "error_y": {
             "color": "#2a3f5f"
            },
            "marker": {
             "line": {
              "color": "#E5ECF6",
              "width": 0.5
             }
            },
            "type": "bar"
           }
          ],
          "barpolar": [
           {
            "marker": {
             "line": {
              "color": "#E5ECF6",
              "width": 0.5
             }
            },
            "type": "barpolar"
           }
          ],
          "carpet": [
           {
            "aaxis": {
             "endlinecolor": "#2a3f5f",
             "gridcolor": "white",
             "linecolor": "white",
             "minorgridcolor": "white",
             "startlinecolor": "#2a3f5f"
            },
            "baxis": {
             "endlinecolor": "#2a3f5f",
             "gridcolor": "white",
             "linecolor": "white",
             "minorgridcolor": "white",
             "startlinecolor": "#2a3f5f"
            },
            "type": "carpet"
           }
          ],
          "choropleth": [
           {
            "colorbar": {
             "outlinewidth": 0,
             "ticks": ""
            },
            "type": "choropleth"
           }
          ],
          "contour": [
           {
            "colorbar": {
             "outlinewidth": 0,
             "ticks": ""
            },
            "colorscale": [
             [
              0,
              "#0d0887"
             ],
             [
              0.1111111111111111,
              "#46039f"
             ],
             [
              0.2222222222222222,
              "#7201a8"
             ],
             [
              0.3333333333333333,
              "#9c179e"
             ],
             [
              0.4444444444444444,
              "#bd3786"
             ],
             [
              0.5555555555555556,
              "#d8576b"
             ],
             [
              0.6666666666666666,
              "#ed7953"
             ],
             [
              0.7777777777777778,
              "#fb9f3a"
             ],
             [
              0.8888888888888888,
              "#fdca26"
             ],
             [
              1,
              "#f0f921"
             ]
            ],
            "type": "contour"
           }
          ],
          "contourcarpet": [
           {
            "colorbar": {
             "outlinewidth": 0,
             "ticks": ""
            },
            "type": "contourcarpet"
           }
          ],
          "heatmap": [
           {
            "colorbar": {
             "outlinewidth": 0,
             "ticks": ""
            },
            "colorscale": [
             [
              0,
              "#0d0887"
             ],
             [
              0.1111111111111111,
              "#46039f"
             ],
             [
              0.2222222222222222,
              "#7201a8"
             ],
             [
              0.3333333333333333,
              "#9c179e"
             ],
             [
              0.4444444444444444,
              "#bd3786"
             ],
             [
              0.5555555555555556,
              "#d8576b"
             ],
             [
              0.6666666666666666,
              "#ed7953"
             ],
             [
              0.7777777777777778,
              "#fb9f3a"
             ],
             [
              0.8888888888888888,
              "#fdca26"
             ],
             [
              1,
              "#f0f921"
             ]
            ],
            "type": "heatmap"
           }
          ],
          "heatmapgl": [
           {
            "colorbar": {
             "outlinewidth": 0,
             "ticks": ""
            },
            "colorscale": [
             [
              0,
              "#0d0887"
             ],
             [
              0.1111111111111111,
              "#46039f"
             ],
             [
              0.2222222222222222,
              "#7201a8"
             ],
             [
              0.3333333333333333,
              "#9c179e"
             ],
             [
              0.4444444444444444,
              "#bd3786"
             ],
             [
              0.5555555555555556,
              "#d8576b"
             ],
             [
              0.6666666666666666,
              "#ed7953"
             ],
             [
              0.7777777777777778,
              "#fb9f3a"
             ],
             [
              0.8888888888888888,
              "#fdca26"
             ],
             [
              1,
              "#f0f921"
             ]
            ],
            "type": "heatmapgl"
           }
          ],
          "histogram": [
           {
            "marker": {
             "colorbar": {
              "outlinewidth": 0,
              "ticks": ""
             }
            },
            "type": "histogram"
           }
          ],
          "histogram2d": [
           {
            "colorbar": {
             "outlinewidth": 0,
             "ticks": ""
            },
            "colorscale": [
             [
              0,
              "#0d0887"
             ],
             [
              0.1111111111111111,
              "#46039f"
             ],
             [
              0.2222222222222222,
              "#7201a8"
             ],
             [
              0.3333333333333333,
              "#9c179e"
             ],
             [
              0.4444444444444444,
              "#bd3786"
             ],
             [
              0.5555555555555556,
              "#d8576b"
             ],
             [
              0.6666666666666666,
              "#ed7953"
             ],
             [
              0.7777777777777778,
              "#fb9f3a"
             ],
             [
              0.8888888888888888,
              "#fdca26"
             ],
             [
              1,
              "#f0f921"
             ]
            ],
            "type": "histogram2d"
           }
          ],
          "histogram2dcontour": [
           {
            "colorbar": {
             "outlinewidth": 0,
             "ticks": ""
            },
            "colorscale": [
             [
              0,
              "#0d0887"
             ],
             [
              0.1111111111111111,
              "#46039f"
             ],
             [
              0.2222222222222222,
              "#7201a8"
             ],
             [
              0.3333333333333333,
              "#9c179e"
             ],
             [
              0.4444444444444444,
              "#bd3786"
             ],
             [
              0.5555555555555556,
              "#d8576b"
             ],
             [
              0.6666666666666666,
              "#ed7953"
             ],
             [
              0.7777777777777778,
              "#fb9f3a"
             ],
             [
              0.8888888888888888,
              "#fdca26"
             ],
             [
              1,
              "#f0f921"
             ]
            ],
            "type": "histogram2dcontour"
           }
          ],
          "mesh3d": [
           {
            "colorbar": {
             "outlinewidth": 0,
             "ticks": ""
            },
            "type": "mesh3d"
           }
          ],
          "parcoords": [
           {
            "line": {
             "colorbar": {
              "outlinewidth": 0,
              "ticks": ""
             }
            },
            "type": "parcoords"
           }
          ],
          "scatter": [
           {
            "marker": {
             "colorbar": {
              "outlinewidth": 0,
              "ticks": ""
             }
            },
            "type": "scatter"
           }
          ],
          "scatter3d": [
           {
            "line": {
             "colorbar": {
              "outlinewidth": 0,
              "ticks": ""
             }
            },
            "marker": {
             "colorbar": {
              "outlinewidth": 0,
              "ticks": ""
             }
            },
            "type": "scatter3d"
           }
          ],
          "scattercarpet": [
           {
            "marker": {
             "colorbar": {
              "outlinewidth": 0,
              "ticks": ""
             }
            },
            "type": "scattercarpet"
           }
          ],
          "scattergeo": [
           {
            "marker": {
             "colorbar": {
              "outlinewidth": 0,
              "ticks": ""
             }
            },
            "type": "scattergeo"
           }
          ],
          "scattergl": [
           {
            "marker": {
             "colorbar": {
              "outlinewidth": 0,
              "ticks": ""
             }
            },
            "type": "scattergl"
           }
          ],
          "scattermapbox": [
           {
            "marker": {
             "colorbar": {
              "outlinewidth": 0,
              "ticks": ""
             }
            },
            "type": "scattermapbox"
           }
          ],
          "scatterpolar": [
           {
            "marker": {
             "colorbar": {
              "outlinewidth": 0,
              "ticks": ""
             }
            },
            "type": "scatterpolar"
           }
          ],
          "scatterpolargl": [
           {
            "marker": {
             "colorbar": {
              "outlinewidth": 0,
              "ticks": ""
             }
            },
            "type": "scatterpolargl"
           }
          ],
          "scatterternary": [
           {
            "marker": {
             "colorbar": {
              "outlinewidth": 0,
              "ticks": ""
             }
            },
            "type": "scatterternary"
           }
          ],
          "surface": [
           {
            "colorbar": {
             "outlinewidth": 0,
             "ticks": ""
            },
            "colorscale": [
             [
              0,
              "#0d0887"
             ],
             [
              0.1111111111111111,
              "#46039f"
             ],
             [
              0.2222222222222222,
              "#7201a8"
             ],
             [
              0.3333333333333333,
              "#9c179e"
             ],
             [
              0.4444444444444444,
              "#bd3786"
             ],
             [
              0.5555555555555556,
              "#d8576b"
             ],
             [
              0.6666666666666666,
              "#ed7953"
             ],
             [
              0.7777777777777778,
              "#fb9f3a"
             ],
             [
              0.8888888888888888,
              "#fdca26"
             ],
             [
              1,
              "#f0f921"
             ]
            ],
            "type": "surface"
           }
          ],
          "table": [
           {
            "cells": {
             "fill": {
              "color": "#EBF0F8"
             },
             "line": {
              "color": "white"
             }
            },
            "header": {
             "fill": {
              "color": "#C8D4E3"
             },
             "line": {
              "color": "white"
             }
            },
            "type": "table"
           }
          ]
         },
         "layout": {
          "annotationdefaults": {
           "arrowcolor": "#2a3f5f",
           "arrowhead": 0,
           "arrowwidth": 1
          },
          "colorscale": {
           "diverging": [
            [
             0,
             "#8e0152"
            ],
            [
             0.1,
             "#c51b7d"
            ],
            [
             0.2,
             "#de77ae"
            ],
            [
             0.3,
             "#f1b6da"
            ],
            [
             0.4,
             "#fde0ef"
            ],
            [
             0.5,
             "#f7f7f7"
            ],
            [
             0.6,
             "#e6f5d0"
            ],
            [
             0.7,
             "#b8e186"
            ],
            [
             0.8,
             "#7fbc41"
            ],
            [
             0.9,
             "#4d9221"
            ],
            [
             1,
             "#276419"
            ]
           ],
           "sequential": [
            [
             0,
             "#0d0887"
            ],
            [
             0.1111111111111111,
             "#46039f"
            ],
            [
             0.2222222222222222,
             "#7201a8"
            ],
            [
             0.3333333333333333,
             "#9c179e"
            ],
            [
             0.4444444444444444,
             "#bd3786"
            ],
            [
             0.5555555555555556,
             "#d8576b"
            ],
            [
             0.6666666666666666,
             "#ed7953"
            ],
            [
             0.7777777777777778,
             "#fb9f3a"
            ],
            [
             0.8888888888888888,
             "#fdca26"
            ],
            [
             1,
             "#f0f921"
            ]
           ],
           "sequentialminus": [
            [
             0,
             "#0d0887"
            ],
            [
             0.1111111111111111,
             "#46039f"
            ],
            [
             0.2222222222222222,
             "#7201a8"
            ],
            [
             0.3333333333333333,
             "#9c179e"
            ],
            [
             0.4444444444444444,
             "#bd3786"
            ],
            [
             0.5555555555555556,
             "#d8576b"
            ],
            [
             0.6666666666666666,
             "#ed7953"
            ],
            [
             0.7777777777777778,
             "#fb9f3a"
            ],
            [
             0.8888888888888888,
             "#fdca26"
            ],
            [
             1,
             "#f0f921"
            ]
           ]
          },
          "colorway": [
           "#636efa",
           "#EF553B",
           "#00cc96",
           "#ab63fa",
           "#FFA15A",
           "#19d3f3",
           "#FF6692",
           "#B6E880",
           "#FF97FF",
           "#FECB52"
          ],
          "font": {
           "color": "#2a3f5f"
          },
          "geo": {
           "bgcolor": "white",
           "lakecolor": "white",
           "landcolor": "#E5ECF6",
           "showlakes": true,
           "showland": true,
           "subunitcolor": "white"
          },
          "hoverlabel": {
           "align": "left"
          },
          "hovermode": "closest",
          "mapbox": {
           "style": "light"
          },
          "paper_bgcolor": "white",
          "plot_bgcolor": "#E5ECF6",
          "polar": {
           "angularaxis": {
            "gridcolor": "white",
            "linecolor": "white",
            "ticks": ""
           },
           "bgcolor": "#E5ECF6",
           "radialaxis": {
            "gridcolor": "white",
            "linecolor": "white",
            "ticks": ""
           }
          },
          "scene": {
           "xaxis": {
            "backgroundcolor": "#E5ECF6",
            "gridcolor": "white",
            "gridwidth": 2,
            "linecolor": "white",
            "showbackground": true,
            "ticks": "",
            "zerolinecolor": "white"
           },
           "yaxis": {
            "backgroundcolor": "#E5ECF6",
            "gridcolor": "white",
            "gridwidth": 2,
            "linecolor": "white",
            "showbackground": true,
            "ticks": "",
            "zerolinecolor": "white"
           },
           "zaxis": {
            "backgroundcolor": "#E5ECF6",
            "gridcolor": "white",
            "gridwidth": 2,
            "linecolor": "white",
            "showbackground": true,
            "ticks": "",
            "zerolinecolor": "white"
           }
          },
          "shapedefaults": {
           "line": {
            "color": "#2a3f5f"
           }
          },
          "ternary": {
           "aaxis": {
            "gridcolor": "white",
            "linecolor": "white",
            "ticks": ""
           },
           "baxis": {
            "gridcolor": "white",
            "linecolor": "white",
            "ticks": ""
           },
           "bgcolor": "#E5ECF6",
           "caxis": {
            "gridcolor": "white",
            "linecolor": "white",
            "ticks": ""
           }
          },
          "title": {
           "x": 0.05
          },
          "xaxis": {
           "automargin": true,
           "gridcolor": "white",
           "linecolor": "white",
           "ticks": "",
           "zerolinecolor": "white",
           "zerolinewidth": 2
          },
          "yaxis": {
           "automargin": true,
           "gridcolor": "white",
           "linecolor": "white",
           "ticks": "",
           "zerolinecolor": "white",
           "zerolinewidth": 2
          }
         }
        },
        "title": {
         "font": {
          "family": "Times New Roman"
         },
         "text": "<b>Correlation Coefficients for Northeast Boise and Associated Neighborhoods<b>",
         "x": 0.5,
         "xref": "paper"
        },
        "xaxis": {
         "title": {
          "font": {
           "family": "Times New Roman",
           "size": 16
          },
          "text": "<b>Feature Key<b>"
         },
         "type": "category"
        },
        "yaxis": {
         "title": {
          "font": {
           "family": "Times New Roman",
           "size": 16
          },
          "text": "<b>Correlation Coefficient<b>"
         }
        }
       }
      },
      "text/html": [
       "<div>\n",
       "        \n",
       "        \n",
       "            <div id=\"91a9de20-828e-46d5-9cca-06648d3161c4\" class=\"plotly-graph-div\" style=\"height:525px; width:100%;\"></div>\n",
       "            <script type=\"text/javascript\">\n",
       "                require([\"plotly\"], function(Plotly) {\n",
       "                    window.PLOTLYENV=window.PLOTLYENV || {};\n",
       "                    \n",
       "                if (document.getElementById(\"91a9de20-828e-46d5-9cca-06648d3161c4\")) {\n",
       "                    Plotly.newPlot(\n",
       "                        '91a9de20-828e-46d5-9cca-06648d3161c4',\n",
       "                        [{\"marker\": {\"color\": \"rgb(199,21,133)\", \"size\": 12, \"symbol\": \"bowtie-open\"}, \"mode\": \"markers\", \"name\": \"Northeast Boise Area\", \"type\": \"scatter\", \"x\": [\"01\", \"02\", \"05\", \"06\", \"07\", \"09\", \"11\", \"12\", \"15\", \"18\", \"20\", \"21\", \"22\", \"24\", \"26\", \"27\", \"28\", \"29\", \"30\"], \"y\": [null, 0.03192043949798312, null, null, null, 0.026809437454825388, null, 0.023057916262704235, 0.028292428886185668, 0.029265182343593755, 0.031063975572862466, 0.024672545434538812, null, null, null, null, 0.02878594374273333, 0.031774543826914844, 0.03517291426907938]}, {\"marker\": {\"color\": \"rgb(199,21,133)\"}, \"mode\": \"markers\", \"name\": \"Boise Foothills\", \"type\": \"scatter\", \"x\": [\"01\", \"02\", \"05\", \"06\", \"07\", \"09\", \"11\", \"12\", \"15\", \"18\", \"20\", \"21\", \"22\", \"24\", \"26\", \"27\", \"28\", \"29\", \"30\"], \"y\": [0.2851084271483166, 0.29971215823805175, null, null, null, 0.33160525736416807, null, null, 0.31329517553779956, 0.3314105821135322, 0.41159935941792986, 0.3701274495280811, null, null, null, null, 0.3702415716171266, 0.4039162201832312, 0.4162395131901293]}, {\"marker\": {\"color\": \"rgb(255,20,147)\"}, \"mode\": \"markers\", \"name\": \"Warm Springs\", \"type\": \"scatter\", \"x\": [\"01\", \"02\", \"05\", \"06\", \"07\", \"09\", \"11\", \"12\", \"15\", \"18\", \"20\", \"21\", \"22\", \"24\", \"26\", \"27\", \"28\", \"29\", \"30\"], \"y\": [null, null, 0.013653771776093704, null, 0.010563021968250784, null, 0.010535984290999445, null, null, null, null, null, 0.017247050109168927, 0.013596652185587553, 0.013733351454427674, 0.018545081999656935, 0.015358631331204117, 0.015041397636989366, 0.010816739457814445]}, {\"marker\": {\"color\": \"rgb(240,128,128)\"}, \"mode\": \"markers\", \"name\": \"East Boise Waterfront\", \"type\": \"scatter\", \"x\": [\"01\", \"02\", \"05\", \"06\", \"07\", \"09\", \"11\", \"12\", \"15\", \"18\", \"20\", \"21\", \"22\", \"24\", \"26\", \"27\", \"28\", \"29\", \"30\"], \"y\": [null, 0.37335254426281395, null, null, null, 0.38332845185073716, null, 0.31927790514486526, 0.4156357597427543, 0.34495725283835765, 0.3653435900073255, 0.41242454774716386, null, null, null, null, 0.40216251398899666, 0.4316172630237212, 0.426209714691374]}, {\"marker\": {\"color\": \"rgb(255,182,193)\"}, \"mode\": \"markers\", \"name\": \"Barber & Harris Ranch\", \"type\": \"scatter\", \"x\": [\"01\", \"02\", \"05\", \"06\", \"07\", \"09\", \"11\", \"12\", \"15\", \"18\", \"20\", \"21\", \"22\", \"24\", \"26\", \"27\", \"28\", \"29\", \"30\"], \"y\": [null, 0.07959669169275807, null, 0.052078728899328686, null, 0.06287440184808747, null, 0.0716762624894548, 0.06252119522836835, 0.05704239135143858, 0.07467429978706064, 0.04582023309666192, null, null, null, null, null, 0.04418883701494587, 0.07359982855950886]}, {\"line\": {\"color\": \"Black\", \"dash\": \"dot\", \"width\": 1}, \"mode\": \"lines\", \"name\": \">0.3 Moderate Linear Relationship\", \"type\": \"scatter\", \"x\": [\"01\", \"02\", \"05\", \"06\", \"07\", \"09\", \"11\", \"12\", \"15\", \"18\", \"20\", \"21\", \"22\", \"24\", \"26\", \"27\", \"28\", \"29\", \"30\"], \"y\": [0.3, 0.3, 0.3, 0.3, 0.3, 0.3, 0.3, 0.3, 0.3, 0.3, 0.3, 0.3, 0.3, 0.3, 0.3, 0.3, 0.3, 0.3, 0.3]}],\n",
       "                        {\"template\": {\"data\": {\"bar\": [{\"error_x\": {\"color\": \"#2a3f5f\"}, \"error_y\": {\"color\": \"#2a3f5f\"}, \"marker\": {\"line\": {\"color\": \"#E5ECF6\", \"width\": 0.5}}, \"type\": \"bar\"}], \"barpolar\": [{\"marker\": {\"line\": {\"color\": \"#E5ECF6\", \"width\": 0.5}}, \"type\": \"barpolar\"}], \"carpet\": [{\"aaxis\": {\"endlinecolor\": \"#2a3f5f\", \"gridcolor\": \"white\", \"linecolor\": \"white\", \"minorgridcolor\": \"white\", \"startlinecolor\": \"#2a3f5f\"}, \"baxis\": {\"endlinecolor\": \"#2a3f5f\", \"gridcolor\": \"white\", \"linecolor\": \"white\", \"minorgridcolor\": \"white\", \"startlinecolor\": \"#2a3f5f\"}, \"type\": \"carpet\"}], \"choropleth\": [{\"colorbar\": {\"outlinewidth\": 0, \"ticks\": \"\"}, \"type\": \"choropleth\"}], \"contour\": [{\"colorbar\": {\"outlinewidth\": 0, \"ticks\": \"\"}, \"colorscale\": [[0.0, \"#0d0887\"], [0.1111111111111111, \"#46039f\"], [0.2222222222222222, \"#7201a8\"], [0.3333333333333333, \"#9c179e\"], [0.4444444444444444, \"#bd3786\"], [0.5555555555555556, \"#d8576b\"], [0.6666666666666666, \"#ed7953\"], [0.7777777777777778, \"#fb9f3a\"], [0.8888888888888888, \"#fdca26\"], [1.0, \"#f0f921\"]], \"type\": \"contour\"}], \"contourcarpet\": [{\"colorbar\": {\"outlinewidth\": 0, \"ticks\": \"\"}, \"type\": \"contourcarpet\"}], \"heatmap\": [{\"colorbar\": {\"outlinewidth\": 0, \"ticks\": \"\"}, \"colorscale\": [[0.0, \"#0d0887\"], [0.1111111111111111, \"#46039f\"], [0.2222222222222222, \"#7201a8\"], [0.3333333333333333, \"#9c179e\"], [0.4444444444444444, \"#bd3786\"], [0.5555555555555556, \"#d8576b\"], [0.6666666666666666, \"#ed7953\"], [0.7777777777777778, \"#fb9f3a\"], [0.8888888888888888, \"#fdca26\"], [1.0, \"#f0f921\"]], \"type\": \"heatmap\"}], \"heatmapgl\": [{\"colorbar\": {\"outlinewidth\": 0, \"ticks\": \"\"}, \"colorscale\": [[0.0, \"#0d0887\"], [0.1111111111111111, \"#46039f\"], [0.2222222222222222, \"#7201a8\"], [0.3333333333333333, \"#9c179e\"], [0.4444444444444444, \"#bd3786\"], [0.5555555555555556, \"#d8576b\"], [0.6666666666666666, \"#ed7953\"], [0.7777777777777778, \"#fb9f3a\"], [0.8888888888888888, \"#fdca26\"], [1.0, \"#f0f921\"]], \"type\": \"heatmapgl\"}], \"histogram\": [{\"marker\": {\"colorbar\": {\"outlinewidth\": 0, \"ticks\": \"\"}}, \"type\": \"histogram\"}], \"histogram2d\": [{\"colorbar\": {\"outlinewidth\": 0, \"ticks\": \"\"}, \"colorscale\": [[0.0, \"#0d0887\"], [0.1111111111111111, \"#46039f\"], [0.2222222222222222, \"#7201a8\"], [0.3333333333333333, \"#9c179e\"], [0.4444444444444444, \"#bd3786\"], [0.5555555555555556, \"#d8576b\"], [0.6666666666666666, \"#ed7953\"], [0.7777777777777778, \"#fb9f3a\"], [0.8888888888888888, \"#fdca26\"], [1.0, \"#f0f921\"]], \"type\": \"histogram2d\"}], \"histogram2dcontour\": [{\"colorbar\": {\"outlinewidth\": 0, \"ticks\": \"\"}, \"colorscale\": [[0.0, \"#0d0887\"], [0.1111111111111111, \"#46039f\"], [0.2222222222222222, \"#7201a8\"], [0.3333333333333333, \"#9c179e\"], [0.4444444444444444, \"#bd3786\"], [0.5555555555555556, \"#d8576b\"], [0.6666666666666666, \"#ed7953\"], [0.7777777777777778, \"#fb9f3a\"], [0.8888888888888888, \"#fdca26\"], [1.0, \"#f0f921\"]], \"type\": \"histogram2dcontour\"}], \"mesh3d\": [{\"colorbar\": {\"outlinewidth\": 0, \"ticks\": \"\"}, \"type\": \"mesh3d\"}], \"parcoords\": [{\"line\": {\"colorbar\": {\"outlinewidth\": 0, \"ticks\": \"\"}}, \"type\": \"parcoords\"}], \"scatter\": [{\"marker\": {\"colorbar\": {\"outlinewidth\": 0, \"ticks\": \"\"}}, \"type\": \"scatter\"}], \"scatter3d\": [{\"line\": {\"colorbar\": {\"outlinewidth\": 0, \"ticks\": \"\"}}, \"marker\": {\"colorbar\": {\"outlinewidth\": 0, \"ticks\": \"\"}}, \"type\": \"scatter3d\"}], \"scattercarpet\": [{\"marker\": {\"colorbar\": {\"outlinewidth\": 0, \"ticks\": \"\"}}, \"type\": \"scattercarpet\"}], \"scattergeo\": [{\"marker\": {\"colorbar\": {\"outlinewidth\": 0, \"ticks\": \"\"}}, \"type\": \"scattergeo\"}], \"scattergl\": [{\"marker\": {\"colorbar\": {\"outlinewidth\": 0, \"ticks\": \"\"}}, \"type\": \"scattergl\"}], \"scattermapbox\": [{\"marker\": {\"colorbar\": {\"outlinewidth\": 0, \"ticks\": \"\"}}, \"type\": \"scattermapbox\"}], \"scatterpolar\": [{\"marker\": {\"colorbar\": {\"outlinewidth\": 0, \"ticks\": \"\"}}, \"type\": \"scatterpolar\"}], \"scatterpolargl\": [{\"marker\": {\"colorbar\": {\"outlinewidth\": 0, \"ticks\": \"\"}}, \"type\": \"scatterpolargl\"}], \"scatterternary\": [{\"marker\": {\"colorbar\": {\"outlinewidth\": 0, \"ticks\": \"\"}}, \"type\": \"scatterternary\"}], \"surface\": [{\"colorbar\": {\"outlinewidth\": 0, \"ticks\": \"\"}, \"colorscale\": [[0.0, \"#0d0887\"], [0.1111111111111111, \"#46039f\"], [0.2222222222222222, \"#7201a8\"], [0.3333333333333333, \"#9c179e\"], [0.4444444444444444, \"#bd3786\"], [0.5555555555555556, \"#d8576b\"], [0.6666666666666666, \"#ed7953\"], [0.7777777777777778, \"#fb9f3a\"], [0.8888888888888888, \"#fdca26\"], [1.0, \"#f0f921\"]], \"type\": \"surface\"}], \"table\": [{\"cells\": {\"fill\": {\"color\": \"#EBF0F8\"}, \"line\": {\"color\": \"white\"}}, \"header\": {\"fill\": {\"color\": \"#C8D4E3\"}, \"line\": {\"color\": \"white\"}}, \"type\": \"table\"}]}, \"layout\": {\"annotationdefaults\": {\"arrowcolor\": \"#2a3f5f\", \"arrowhead\": 0, \"arrowwidth\": 1}, \"colorscale\": {\"diverging\": [[0, \"#8e0152\"], [0.1, \"#c51b7d\"], [0.2, \"#de77ae\"], [0.3, \"#f1b6da\"], [0.4, \"#fde0ef\"], [0.5, \"#f7f7f7\"], [0.6, \"#e6f5d0\"], [0.7, \"#b8e186\"], [0.8, \"#7fbc41\"], [0.9, \"#4d9221\"], [1, \"#276419\"]], \"sequential\": [[0.0, \"#0d0887\"], [0.1111111111111111, \"#46039f\"], [0.2222222222222222, \"#7201a8\"], [0.3333333333333333, \"#9c179e\"], [0.4444444444444444, \"#bd3786\"], [0.5555555555555556, \"#d8576b\"], [0.6666666666666666, \"#ed7953\"], [0.7777777777777778, \"#fb9f3a\"], [0.8888888888888888, \"#fdca26\"], [1.0, \"#f0f921\"]], \"sequentialminus\": [[0.0, \"#0d0887\"], [0.1111111111111111, \"#46039f\"], [0.2222222222222222, \"#7201a8\"], [0.3333333333333333, \"#9c179e\"], [0.4444444444444444, \"#bd3786\"], [0.5555555555555556, \"#d8576b\"], [0.6666666666666666, \"#ed7953\"], [0.7777777777777778, \"#fb9f3a\"], [0.8888888888888888, \"#fdca26\"], [1.0, \"#f0f921\"]]}, \"colorway\": [\"#636efa\", \"#EF553B\", \"#00cc96\", \"#ab63fa\", \"#FFA15A\", \"#19d3f3\", \"#FF6692\", \"#B6E880\", \"#FF97FF\", \"#FECB52\"], \"font\": {\"color\": \"#2a3f5f\"}, \"geo\": {\"bgcolor\": \"white\", \"lakecolor\": \"white\", \"landcolor\": \"#E5ECF6\", \"showlakes\": true, \"showland\": true, \"subunitcolor\": \"white\"}, \"hoverlabel\": {\"align\": \"left\"}, \"hovermode\": \"closest\", \"mapbox\": {\"style\": \"light\"}, \"paper_bgcolor\": \"white\", \"plot_bgcolor\": \"#E5ECF6\", \"polar\": {\"angularaxis\": {\"gridcolor\": \"white\", \"linecolor\": \"white\", \"ticks\": \"\"}, \"bgcolor\": \"#E5ECF6\", \"radialaxis\": {\"gridcolor\": \"white\", \"linecolor\": \"white\", \"ticks\": \"\"}}, \"scene\": {\"xaxis\": {\"backgroundcolor\": \"#E5ECF6\", \"gridcolor\": \"white\", \"gridwidth\": 2, \"linecolor\": \"white\", \"showbackground\": true, \"ticks\": \"\", \"zerolinecolor\": \"white\"}, \"yaxis\": {\"backgroundcolor\": \"#E5ECF6\", \"gridcolor\": \"white\", \"gridwidth\": 2, \"linecolor\": \"white\", \"showbackground\": true, \"ticks\": \"\", \"zerolinecolor\": \"white\"}, \"zaxis\": {\"backgroundcolor\": \"#E5ECF6\", \"gridcolor\": \"white\", \"gridwidth\": 2, \"linecolor\": \"white\", \"showbackground\": true, \"ticks\": \"\", \"zerolinecolor\": \"white\"}}, \"shapedefaults\": {\"line\": {\"color\": \"#2a3f5f\"}}, \"ternary\": {\"aaxis\": {\"gridcolor\": \"white\", \"linecolor\": \"white\", \"ticks\": \"\"}, \"baxis\": {\"gridcolor\": \"white\", \"linecolor\": \"white\", \"ticks\": \"\"}, \"bgcolor\": \"#E5ECF6\", \"caxis\": {\"gridcolor\": \"white\", \"linecolor\": \"white\", \"ticks\": \"\"}}, \"title\": {\"x\": 0.05}, \"xaxis\": {\"automargin\": true, \"gridcolor\": \"white\", \"linecolor\": \"white\", \"ticks\": \"\", \"zerolinecolor\": \"white\", \"zerolinewidth\": 2}, \"yaxis\": {\"automargin\": true, \"gridcolor\": \"white\", \"linecolor\": \"white\", \"ticks\": \"\", \"zerolinecolor\": \"white\", \"zerolinewidth\": 2}}}, \"title\": {\"font\": {\"family\": \"Times New Roman\"}, \"text\": \"<b>Correlation Coefficients for Northeast Boise and Associated Neighborhoods<b>\", \"x\": 0.5, \"xref\": \"paper\"}, \"xaxis\": {\"title\": {\"font\": {\"family\": \"Times New Roman\", \"size\": 16}, \"text\": \"<b>Feature Key<b>\"}, \"type\": \"category\"}, \"yaxis\": {\"title\": {\"font\": {\"family\": \"Times New Roman\", \"size\": 16}, \"text\": \"<b>Correlation Coefficient<b>\"}}},\n",
       "                        {\"responsive\": true}\n",
       "                    ).then(function(){\n",
       "                            \n",
       "var gd = document.getElementById('91a9de20-828e-46d5-9cca-06648d3161c4');\n",
       "var x = new MutationObserver(function (mutations, observer) {{\n",
       "        var display = window.getComputedStyle(gd).display;\n",
       "        if (!display || display === 'none') {{\n",
       "            console.log([gd, 'removed!']);\n",
       "            Plotly.purge(gd);\n",
       "            observer.disconnect();\n",
       "        }}\n",
       "}});\n",
       "\n",
       "// Listen for the removal of the full notebook cells\n",
       "var notebookContainer = gd.closest('#notebook-container');\n",
       "if (notebookContainer) {{\n",
       "    x.observe(notebookContainer, {childList: true});\n",
       "}}\n",
       "\n",
       "// Listen for the clearing of the current output cell\n",
       "var outputEl = gd.closest('.output');\n",
       "if (outputEl) {{\n",
       "    x.observe(outputEl, {childList: true});\n",
       "}}\n",
       "\n",
       "                        })\n",
       "                };\n",
       "                });\n",
       "            </script>\n",
       "        </div>"
      ]
     },
     "metadata": {},
     "output_type": "display_data"
    }
   ],
   "source": [
    "df = pd.read_pickle('NE-Coeff-compare.pkl')\n",
    "df2 = pd.read_pickle('a-Coeff-compare.pkl')\n",
    "\n",
    "\n",
    "df = pd.merge(df,df2, on = 'index', how = 'outer')\n",
    "\n",
    "\n",
    "###########################################################\n",
    "\n",
    "# drops rows up to TAV_Ch, below TAV_Ch = 0 and TAV_Ch = 1 \n",
    "df = df.iloc[9:]\n",
    "\n",
    "# Needed to make a key for ease a readability and to make the reference line for moderate linear \n",
    "# relationship\n",
    "df= df.rename(columns = {'index' : 'Feature_Name'})\n",
    "df['index'] = ['00','01','02','03','04','05','06','07','08','09','10','11','12','13','14',\n",
    "             '15','16','17','18','19','20','21','22','23','24','25','26','27','28','29','30']\n",
    "df['ref_line'] = .3\n",
    "\n",
    "\n",
    "#this will drop rows that have less than 4 values (feature name, key, ref line, & @ least 1 value)\n",
    "df = df.dropna(thresh = 4)\n",
    "\n",
    "\n",
    "###########################################################\n",
    "\n",
    "NE_fig = go.Figure()\n",
    "\n",
    "NE_fig.add_trace(go.Scatter(x= df['index'], y=df['NE_Boise'],\n",
    "                    mode='markers',\n",
    "                    marker_color = 'rgb(199,21,133)',\n",
    "                    marker=dict(size= 12, symbol = \"bowtie-open\"),           \n",
    "                    name='Northeast Boise Area'))\n",
    "\n",
    "NE_fig.add_trace(go.Scatter(x= df['index'], y=df['NE_B_Foothills'],\n",
    "                    mode='markers',\n",
    "                    marker_color = 'rgb(199,21,133)',\n",
    "                    name='Boise Foothills'))\n",
    "\n",
    "NE_fig.add_trace(go.Scatter(x= df['index'], y=df['NE_Warm_Springs'],\n",
    "                    mode='markers',  \n",
    "                    marker_color='rgb(255,20,147)',  \n",
    "                    name='Warm Springs'))\n",
    "\n",
    "NE_fig.add_trace(go.Scatter(x= df['index'], y=df['NE_E_Boise_Waterfront'],\n",
    "                    mode='markers',  \n",
    "                    marker_color='rgb(240,128,128)',     \n",
    "                    name='East Boise Waterfront'))\n",
    "\n",
    "NE_fig.add_trace(go.Scatter(x= df['index'], y=df['NE_Barber_Harris_Ranch'],\n",
    "                    mode='markers',\n",
    "                    marker_color='rgb(255,182,193)',     \n",
    "                    name='Barber & Harris Ranch'))\n",
    "\n",
    "\n",
    "\n",
    "\n",
    "#################### Reference line\n",
    "\n",
    "\n",
    "NE_fig.add_trace(go.Scatter(x= df['index'] , y=df['ref_line'],\n",
    "                    mode = 'lines',          \n",
    "                    line = dict(color='Black', width=1, dash='dot'),          \n",
    "                    name='>0.3 Moderate Linear Relationship'))\n",
    "\n",
    "#################### Layout Title and Axis stuff\n",
    "\n",
    "NE_fig.update_layout(\n",
    "    title=go.layout.Title(\n",
    "        text=\"<b>Correlation Coefficients for Northeast Boise and Associated Neighborhoods<b>\",\n",
    "        font = dict( \n",
    "            family = 'Times New Roman'),\n",
    "        xref=\"paper\",\n",
    "        x=.5\n",
    "    ),\n",
    "    yaxis=go.layout.YAxis(\n",
    "        title=go.layout.yaxis.Title(\n",
    "            text=\"<b>Correlation Coefficient<b>\",\n",
    "            font=dict(\n",
    "                family=\"Times New Roman\",\n",
    "                size=16,\n",
    "#                color=\"#7f7f7f\"\n",
    "            )\n",
    "        )\n",
    "    ),\n",
    "    xaxis=go.layout.XAxis(\n",
    "        type = 'category',\n",
    "        title=go.layout.xaxis.Title(\n",
    "            text=\"<b>Feature Key<b>\",\n",
    "            font=dict(\n",
    "                family=\"Times New Roman\",\n",
    "                size=16,\n",
    "#                color=\"#7f7f7f\"\n",
    "            )\n",
    "        )\n",
    "    ))\n",
    "\n",
    "\n",
    "NE_fig.write_image(\"images/NE_fig.jpg\")\n",
    "NE_fig.show()"
   ]
  },
  {
   "cell_type": "markdown",
   "metadata": {},
   "source": [
    "## Southwest Boise"
   ]
  },
  {
   "cell_type": "code",
   "execution_count": 128,
   "metadata": {},
   "outputs": [
    {
     "data": {
      "application/vnd.plotly.v1+json": {
       "config": {
        "plotlyServerURL": "https://plot.ly"
       },
       "data": [
        {
         "marker": {
          "color": "rgb(128,0,128)",
          "size": 12,
          "symbol": "diamond-tall-open"
         },
         "mode": "markers",
         "name": "Southwest Boise Area",
         "type": "scatter",
         "x": [
          "00",
          "01",
          "02",
          "09",
          "10",
          "12",
          "14",
          "15",
          "18",
          "20",
          "21",
          "23",
          "24",
          "28",
          "29",
          "30"
         ],
         "y": [
          null,
          0.22035769938390118,
          0.2100096397353598,
          0.17849278215008724,
          null,
          null,
          null,
          null,
          0.1861785956967291,
          0.2478144672058495,
          0.19438792897553028,
          null,
          0.1692682959775328,
          0.1989783959986223,
          0.1929026311951265,
          0.21577060714910704
         ]
        },
        {
         "marker": {
          "color": "rgb(75,0,130)"
         },
         "mode": "markers",
         "name": "West Boise Freeway Cor.",
         "type": "scatter",
         "x": [
          "00",
          "01",
          "02",
          "09",
          "10",
          "12",
          "14",
          "15",
          "18",
          "20",
          "21",
          "23",
          "24",
          "28",
          "29",
          "30"
         ],
         "y": [
          null,
          0.36945848071769855,
          0.36879544509183987,
          0.3187939463888035,
          null,
          null,
          null,
          0.3179790189004078,
          0.3374982738643324,
          0.4407964430670171,
          0.3456146715804806,
          null,
          null,
          0.32330491934009065,
          0.3195810974729122,
          0.4064139932299706
         ]
        },
        {
         "marker": {
          "color": "rgb(153,50,204)"
         },
         "mode": "markers",
         "name": "Airport",
         "type": "scatter",
         "x": [
          "00",
          "01",
          "02",
          "09",
          "10",
          "12",
          "14",
          "15",
          "18",
          "20",
          "21",
          "23",
          "24",
          "28",
          "29",
          "30"
         ],
         "y": [
          null,
          0.48858269861833675,
          0.3894595992456359,
          0.41239330823469633,
          null,
          null,
          null,
          null,
          0.4811527281353869,
          0.598193436174824,
          0.5080969338810566,
          null,
          0.3856014186293976,
          0.43722733527455093,
          0.4412360423244388,
          0.5381544975392759
         ]
        },
        {
         "marker": {
          "color": "rgb(255,0,255)"
         },
         "mode": "markers",
         "name": "Boise Bench Freeway Cor.",
         "type": "scatter",
         "x": [
          "00",
          "01",
          "02",
          "09",
          "10",
          "12",
          "14",
          "15",
          "18",
          "20",
          "21",
          "23",
          "24",
          "28",
          "29",
          "30"
         ],
         "y": [
          null,
          0.6557044879575586,
          null,
          0.488268531409346,
          null,
          null,
          null,
          null,
          0.44402425997290634,
          0.6908941436702112,
          0.6743182065334858,
          0.45946412935877456,
          0.5377544355665738,
          0.44854818254130946,
          0.4903490804769934,
          0.5131234112196391
         ]
        },
        {
         "marker": {
          "color": "rgb(147,112,219)"
         },
         "mode": "markers",
         "name": "South Boise Desert",
         "type": "scatter",
         "x": [
          "00",
          "01",
          "02",
          "09",
          "10",
          "12",
          "14",
          "15",
          "18",
          "20",
          "21",
          "23",
          "24",
          "28",
          "29",
          "30"
         ],
         "y": [
          0.1582940978997961,
          0.16340240925552274,
          null,
          null,
          0.17958170622428316,
          null,
          0.22255978798988632,
          null,
          0.24761394722184157,
          null,
          0.2676396778819218,
          0.2314148698013202,
          null,
          0.24420954007595,
          0.2520723813635193,
          0.1635092372222576
         ]
        },
        {
         "marker": {
          "color": "rgb(221,160,221)"
         },
         "mode": "markers",
         "name": "Southwest Boise",
         "type": "scatter",
         "x": [
          "00",
          "01",
          "02",
          "09",
          "10",
          "12",
          "14",
          "15",
          "18",
          "20",
          "21",
          "23",
          "24",
          "28",
          "29",
          "30"
         ],
         "y": [
          null,
          0.20291689053387973,
          0.19207332015093012,
          0.16172181841045613,
          null,
          null,
          null,
          null,
          0.16754122878340194,
          0.22444137039051706,
          0.1758410392705606,
          null,
          0.15465013849949363,
          0.18556326258328018,
          0.17845387915646624,
          0.1926538240137453
         ]
        },
        {
         "line": {
          "color": "Black",
          "dash": "dot",
          "width": 1
         },
         "mode": "lines",
         "name": ">0.3 Moderate Linear Relationship",
         "type": "scatter",
         "x": [
          "00",
          "01",
          "02",
          "09",
          "10",
          "12",
          "14",
          "15",
          "18",
          "20",
          "21",
          "23",
          "24",
          "28",
          "29",
          "30"
         ],
         "y": [
          0.3,
          0.3,
          0.3,
          0.3,
          0.3,
          0.3,
          0.3,
          0.3,
          0.3,
          0.3,
          0.3,
          0.3,
          0.3,
          0.3,
          0.3,
          0.3
         ]
        }
       ],
       "layout": {
        "template": {
         "data": {
          "bar": [
           {
            "error_x": {
             "color": "#2a3f5f"
            },
            "error_y": {
             "color": "#2a3f5f"
            },
            "marker": {
             "line": {
              "color": "#E5ECF6",
              "width": 0.5
             }
            },
            "type": "bar"
           }
          ],
          "barpolar": [
           {
            "marker": {
             "line": {
              "color": "#E5ECF6",
              "width": 0.5
             }
            },
            "type": "barpolar"
           }
          ],
          "carpet": [
           {
            "aaxis": {
             "endlinecolor": "#2a3f5f",
             "gridcolor": "white",
             "linecolor": "white",
             "minorgridcolor": "white",
             "startlinecolor": "#2a3f5f"
            },
            "baxis": {
             "endlinecolor": "#2a3f5f",
             "gridcolor": "white",
             "linecolor": "white",
             "minorgridcolor": "white",
             "startlinecolor": "#2a3f5f"
            },
            "type": "carpet"
           }
          ],
          "choropleth": [
           {
            "colorbar": {
             "outlinewidth": 0,
             "ticks": ""
            },
            "type": "choropleth"
           }
          ],
          "contour": [
           {
            "colorbar": {
             "outlinewidth": 0,
             "ticks": ""
            },
            "colorscale": [
             [
              0,
              "#0d0887"
             ],
             [
              0.1111111111111111,
              "#46039f"
             ],
             [
              0.2222222222222222,
              "#7201a8"
             ],
             [
              0.3333333333333333,
              "#9c179e"
             ],
             [
              0.4444444444444444,
              "#bd3786"
             ],
             [
              0.5555555555555556,
              "#d8576b"
             ],
             [
              0.6666666666666666,
              "#ed7953"
             ],
             [
              0.7777777777777778,
              "#fb9f3a"
             ],
             [
              0.8888888888888888,
              "#fdca26"
             ],
             [
              1,
              "#f0f921"
             ]
            ],
            "type": "contour"
           }
          ],
          "contourcarpet": [
           {
            "colorbar": {
             "outlinewidth": 0,
             "ticks": ""
            },
            "type": "contourcarpet"
           }
          ],
          "heatmap": [
           {
            "colorbar": {
             "outlinewidth": 0,
             "ticks": ""
            },
            "colorscale": [
             [
              0,
              "#0d0887"
             ],
             [
              0.1111111111111111,
              "#46039f"
             ],
             [
              0.2222222222222222,
              "#7201a8"
             ],
             [
              0.3333333333333333,
              "#9c179e"
             ],
             [
              0.4444444444444444,
              "#bd3786"
             ],
             [
              0.5555555555555556,
              "#d8576b"
             ],
             [
              0.6666666666666666,
              "#ed7953"
             ],
             [
              0.7777777777777778,
              "#fb9f3a"
             ],
             [
              0.8888888888888888,
              "#fdca26"
             ],
             [
              1,
              "#f0f921"
             ]
            ],
            "type": "heatmap"
           }
          ],
          "heatmapgl": [
           {
            "colorbar": {
             "outlinewidth": 0,
             "ticks": ""
            },
            "colorscale": [
             [
              0,
              "#0d0887"
             ],
             [
              0.1111111111111111,
              "#46039f"
             ],
             [
              0.2222222222222222,
              "#7201a8"
             ],
             [
              0.3333333333333333,
              "#9c179e"
             ],
             [
              0.4444444444444444,
              "#bd3786"
             ],
             [
              0.5555555555555556,
              "#d8576b"
             ],
             [
              0.6666666666666666,
              "#ed7953"
             ],
             [
              0.7777777777777778,
              "#fb9f3a"
             ],
             [
              0.8888888888888888,
              "#fdca26"
             ],
             [
              1,
              "#f0f921"
             ]
            ],
            "type": "heatmapgl"
           }
          ],
          "histogram": [
           {
            "marker": {
             "colorbar": {
              "outlinewidth": 0,
              "ticks": ""
             }
            },
            "type": "histogram"
           }
          ],
          "histogram2d": [
           {
            "colorbar": {
             "outlinewidth": 0,
             "ticks": ""
            },
            "colorscale": [
             [
              0,
              "#0d0887"
             ],
             [
              0.1111111111111111,
              "#46039f"
             ],
             [
              0.2222222222222222,
              "#7201a8"
             ],
             [
              0.3333333333333333,
              "#9c179e"
             ],
             [
              0.4444444444444444,
              "#bd3786"
             ],
             [
              0.5555555555555556,
              "#d8576b"
             ],
             [
              0.6666666666666666,
              "#ed7953"
             ],
             [
              0.7777777777777778,
              "#fb9f3a"
             ],
             [
              0.8888888888888888,
              "#fdca26"
             ],
             [
              1,
              "#f0f921"
             ]
            ],
            "type": "histogram2d"
           }
          ],
          "histogram2dcontour": [
           {
            "colorbar": {
             "outlinewidth": 0,
             "ticks": ""
            },
            "colorscale": [
             [
              0,
              "#0d0887"
             ],
             [
              0.1111111111111111,
              "#46039f"
             ],
             [
              0.2222222222222222,
              "#7201a8"
             ],
             [
              0.3333333333333333,
              "#9c179e"
             ],
             [
              0.4444444444444444,
              "#bd3786"
             ],
             [
              0.5555555555555556,
              "#d8576b"
             ],
             [
              0.6666666666666666,
              "#ed7953"
             ],
             [
              0.7777777777777778,
              "#fb9f3a"
             ],
             [
              0.8888888888888888,
              "#fdca26"
             ],
             [
              1,
              "#f0f921"
             ]
            ],
            "type": "histogram2dcontour"
           }
          ],
          "mesh3d": [
           {
            "colorbar": {
             "outlinewidth": 0,
             "ticks": ""
            },
            "type": "mesh3d"
           }
          ],
          "parcoords": [
           {
            "line": {
             "colorbar": {
              "outlinewidth": 0,
              "ticks": ""
             }
            },
            "type": "parcoords"
           }
          ],
          "scatter": [
           {
            "marker": {
             "colorbar": {
              "outlinewidth": 0,
              "ticks": ""
             }
            },
            "type": "scatter"
           }
          ],
          "scatter3d": [
           {
            "line": {
             "colorbar": {
              "outlinewidth": 0,
              "ticks": ""
             }
            },
            "marker": {
             "colorbar": {
              "outlinewidth": 0,
              "ticks": ""
             }
            },
            "type": "scatter3d"
           }
          ],
          "scattercarpet": [
           {
            "marker": {
             "colorbar": {
              "outlinewidth": 0,
              "ticks": ""
             }
            },
            "type": "scattercarpet"
           }
          ],
          "scattergeo": [
           {
            "marker": {
             "colorbar": {
              "outlinewidth": 0,
              "ticks": ""
             }
            },
            "type": "scattergeo"
           }
          ],
          "scattergl": [
           {
            "marker": {
             "colorbar": {
              "outlinewidth": 0,
              "ticks": ""
             }
            },
            "type": "scattergl"
           }
          ],
          "scattermapbox": [
           {
            "marker": {
             "colorbar": {
              "outlinewidth": 0,
              "ticks": ""
             }
            },
            "type": "scattermapbox"
           }
          ],
          "scatterpolar": [
           {
            "marker": {
             "colorbar": {
              "outlinewidth": 0,
              "ticks": ""
             }
            },
            "type": "scatterpolar"
           }
          ],
          "scatterpolargl": [
           {
            "marker": {
             "colorbar": {
              "outlinewidth": 0,
              "ticks": ""
             }
            },
            "type": "scatterpolargl"
           }
          ],
          "scatterternary": [
           {
            "marker": {
             "colorbar": {
              "outlinewidth": 0,
              "ticks": ""
             }
            },
            "type": "scatterternary"
           }
          ],
          "surface": [
           {
            "colorbar": {
             "outlinewidth": 0,
             "ticks": ""
            },
            "colorscale": [
             [
              0,
              "#0d0887"
             ],
             [
              0.1111111111111111,
              "#46039f"
             ],
             [
              0.2222222222222222,
              "#7201a8"
             ],
             [
              0.3333333333333333,
              "#9c179e"
             ],
             [
              0.4444444444444444,
              "#bd3786"
             ],
             [
              0.5555555555555556,
              "#d8576b"
             ],
             [
              0.6666666666666666,
              "#ed7953"
             ],
             [
              0.7777777777777778,
              "#fb9f3a"
             ],
             [
              0.8888888888888888,
              "#fdca26"
             ],
             [
              1,
              "#f0f921"
             ]
            ],
            "type": "surface"
           }
          ],
          "table": [
           {
            "cells": {
             "fill": {
              "color": "#EBF0F8"
             },
             "line": {
              "color": "white"
             }
            },
            "header": {
             "fill": {
              "color": "#C8D4E3"
             },
             "line": {
              "color": "white"
             }
            },
            "type": "table"
           }
          ]
         },
         "layout": {
          "annotationdefaults": {
           "arrowcolor": "#2a3f5f",
           "arrowhead": 0,
           "arrowwidth": 1
          },
          "colorscale": {
           "diverging": [
            [
             0,
             "#8e0152"
            ],
            [
             0.1,
             "#c51b7d"
            ],
            [
             0.2,
             "#de77ae"
            ],
            [
             0.3,
             "#f1b6da"
            ],
            [
             0.4,
             "#fde0ef"
            ],
            [
             0.5,
             "#f7f7f7"
            ],
            [
             0.6,
             "#e6f5d0"
            ],
            [
             0.7,
             "#b8e186"
            ],
            [
             0.8,
             "#7fbc41"
            ],
            [
             0.9,
             "#4d9221"
            ],
            [
             1,
             "#276419"
            ]
           ],
           "sequential": [
            [
             0,
             "#0d0887"
            ],
            [
             0.1111111111111111,
             "#46039f"
            ],
            [
             0.2222222222222222,
             "#7201a8"
            ],
            [
             0.3333333333333333,
             "#9c179e"
            ],
            [
             0.4444444444444444,
             "#bd3786"
            ],
            [
             0.5555555555555556,
             "#d8576b"
            ],
            [
             0.6666666666666666,
             "#ed7953"
            ],
            [
             0.7777777777777778,
             "#fb9f3a"
            ],
            [
             0.8888888888888888,
             "#fdca26"
            ],
            [
             1,
             "#f0f921"
            ]
           ],
           "sequentialminus": [
            [
             0,
             "#0d0887"
            ],
            [
             0.1111111111111111,
             "#46039f"
            ],
            [
             0.2222222222222222,
             "#7201a8"
            ],
            [
             0.3333333333333333,
             "#9c179e"
            ],
            [
             0.4444444444444444,
             "#bd3786"
            ],
            [
             0.5555555555555556,
             "#d8576b"
            ],
            [
             0.6666666666666666,
             "#ed7953"
            ],
            [
             0.7777777777777778,
             "#fb9f3a"
            ],
            [
             0.8888888888888888,
             "#fdca26"
            ],
            [
             1,
             "#f0f921"
            ]
           ]
          },
          "colorway": [
           "#636efa",
           "#EF553B",
           "#00cc96",
           "#ab63fa",
           "#FFA15A",
           "#19d3f3",
           "#FF6692",
           "#B6E880",
           "#FF97FF",
           "#FECB52"
          ],
          "font": {
           "color": "#2a3f5f"
          },
          "geo": {
           "bgcolor": "white",
           "lakecolor": "white",
           "landcolor": "#E5ECF6",
           "showlakes": true,
           "showland": true,
           "subunitcolor": "white"
          },
          "hoverlabel": {
           "align": "left"
          },
          "hovermode": "closest",
          "mapbox": {
           "style": "light"
          },
          "paper_bgcolor": "white",
          "plot_bgcolor": "#E5ECF6",
          "polar": {
           "angularaxis": {
            "gridcolor": "white",
            "linecolor": "white",
            "ticks": ""
           },
           "bgcolor": "#E5ECF6",
           "radialaxis": {
            "gridcolor": "white",
            "linecolor": "white",
            "ticks": ""
           }
          },
          "scene": {
           "xaxis": {
            "backgroundcolor": "#E5ECF6",
            "gridcolor": "white",
            "gridwidth": 2,
            "linecolor": "white",
            "showbackground": true,
            "ticks": "",
            "zerolinecolor": "white"
           },
           "yaxis": {
            "backgroundcolor": "#E5ECF6",
            "gridcolor": "white",
            "gridwidth": 2,
            "linecolor": "white",
            "showbackground": true,
            "ticks": "",
            "zerolinecolor": "white"
           },
           "zaxis": {
            "backgroundcolor": "#E5ECF6",
            "gridcolor": "white",
            "gridwidth": 2,
            "linecolor": "white",
            "showbackground": true,
            "ticks": "",
            "zerolinecolor": "white"
           }
          },
          "shapedefaults": {
           "line": {
            "color": "#2a3f5f"
           }
          },
          "ternary": {
           "aaxis": {
            "gridcolor": "white",
            "linecolor": "white",
            "ticks": ""
           },
           "baxis": {
            "gridcolor": "white",
            "linecolor": "white",
            "ticks": ""
           },
           "bgcolor": "#E5ECF6",
           "caxis": {
            "gridcolor": "white",
            "linecolor": "white",
            "ticks": ""
           }
          },
          "title": {
           "x": 0.05
          },
          "xaxis": {
           "automargin": true,
           "gridcolor": "white",
           "linecolor": "white",
           "ticks": "",
           "zerolinecolor": "white",
           "zerolinewidth": 2
          },
          "yaxis": {
           "automargin": true,
           "gridcolor": "white",
           "linecolor": "white",
           "ticks": "",
           "zerolinecolor": "white",
           "zerolinewidth": 2
          }
         }
        },
        "title": {
         "font": {
          "family": "Times New Roman"
         },
         "text": "<b>Correlation Coefficients for Southwest Boise and Associated Neighborhoods<b>",
         "x": 0.5,
         "xref": "paper"
        },
        "xaxis": {
         "title": {
          "font": {
           "family": "Times New Roman",
           "size": 16
          },
          "text": "<b>Feature Key<b>"
         },
         "type": "category"
        },
        "yaxis": {
         "title": {
          "font": {
           "family": "Times New Roman",
           "size": 16
          },
          "text": "<b>Correlation Coefficient<b>"
         }
        }
       }
      },
      "text/html": [
       "<div>\n",
       "        \n",
       "        \n",
       "            <div id=\"3cb4e7ed-edaf-41f8-b895-3ec4e18631e2\" class=\"plotly-graph-div\" style=\"height:525px; width:100%;\"></div>\n",
       "            <script type=\"text/javascript\">\n",
       "                require([\"plotly\"], function(Plotly) {\n",
       "                    window.PLOTLYENV=window.PLOTLYENV || {};\n",
       "                    \n",
       "                if (document.getElementById(\"3cb4e7ed-edaf-41f8-b895-3ec4e18631e2\")) {\n",
       "                    Plotly.newPlot(\n",
       "                        '3cb4e7ed-edaf-41f8-b895-3ec4e18631e2',\n",
       "                        [{\"marker\": {\"color\": \"rgb(128,0,128)\", \"size\": 12, \"symbol\": \"diamond-tall-open\"}, \"mode\": \"markers\", \"name\": \"Southwest Boise Area\", \"type\": \"scatter\", \"x\": [\"00\", \"01\", \"02\", \"09\", \"10\", \"12\", \"14\", \"15\", \"18\", \"20\", \"21\", \"23\", \"24\", \"28\", \"29\", \"30\"], \"y\": [null, 0.22035769938390118, 0.2100096397353598, 0.17849278215008724, null, null, null, null, 0.1861785956967291, 0.2478144672058495, 0.19438792897553028, null, 0.1692682959775328, 0.1989783959986223, 0.1929026311951265, 0.21577060714910704]}, {\"marker\": {\"color\": \"rgb(75,0,130)\"}, \"mode\": \"markers\", \"name\": \"West Boise Freeway Cor.\", \"type\": \"scatter\", \"x\": [\"00\", \"01\", \"02\", \"09\", \"10\", \"12\", \"14\", \"15\", \"18\", \"20\", \"21\", \"23\", \"24\", \"28\", \"29\", \"30\"], \"y\": [null, 0.36945848071769855, 0.36879544509183987, 0.3187939463888035, null, null, null, 0.3179790189004078, 0.3374982738643324, 0.4407964430670171, 0.3456146715804806, null, null, 0.32330491934009065, 0.3195810974729122, 0.4064139932299706]}, {\"marker\": {\"color\": \"rgb(153,50,204)\"}, \"mode\": \"markers\", \"name\": \"Airport\", \"type\": \"scatter\", \"x\": [\"00\", \"01\", \"02\", \"09\", \"10\", \"12\", \"14\", \"15\", \"18\", \"20\", \"21\", \"23\", \"24\", \"28\", \"29\", \"30\"], \"y\": [null, 0.48858269861833675, 0.3894595992456359, 0.41239330823469633, null, null, null, null, 0.4811527281353869, 0.598193436174824, 0.5080969338810566, null, 0.3856014186293976, 0.43722733527455093, 0.4412360423244388, 0.5381544975392759]}, {\"marker\": {\"color\": \"rgb(255,0,255)\"}, \"mode\": \"markers\", \"name\": \"Boise Bench Freeway Cor.\", \"type\": \"scatter\", \"x\": [\"00\", \"01\", \"02\", \"09\", \"10\", \"12\", \"14\", \"15\", \"18\", \"20\", \"21\", \"23\", \"24\", \"28\", \"29\", \"30\"], \"y\": [null, 0.6557044879575586, null, 0.488268531409346, null, null, null, null, 0.44402425997290634, 0.6908941436702112, 0.6743182065334858, 0.45946412935877456, 0.5377544355665738, 0.44854818254130946, 0.4903490804769934, 0.5131234112196391]}, {\"marker\": {\"color\": \"rgb(147,112,219)\"}, \"mode\": \"markers\", \"name\": \"South Boise Desert\", \"type\": \"scatter\", \"x\": [\"00\", \"01\", \"02\", \"09\", \"10\", \"12\", \"14\", \"15\", \"18\", \"20\", \"21\", \"23\", \"24\", \"28\", \"29\", \"30\"], \"y\": [0.1582940978997961, 0.16340240925552274, null, null, 0.17958170622428316, null, 0.22255978798988632, null, 0.24761394722184157, null, 0.2676396778819218, 0.2314148698013202, null, 0.24420954007595, 0.2520723813635193, 0.1635092372222576]}, {\"marker\": {\"color\": \"rgb(221,160,221)\"}, \"mode\": \"markers\", \"name\": \"Southwest Boise\", \"type\": \"scatter\", \"x\": [\"00\", \"01\", \"02\", \"09\", \"10\", \"12\", \"14\", \"15\", \"18\", \"20\", \"21\", \"23\", \"24\", \"28\", \"29\", \"30\"], \"y\": [null, 0.20291689053387973, 0.19207332015093012, 0.16172181841045613, null, null, null, null, 0.16754122878340194, 0.22444137039051706, 0.1758410392705606, null, 0.15465013849949363, 0.18556326258328018, 0.17845387915646624, 0.1926538240137453]}, {\"line\": {\"color\": \"Black\", \"dash\": \"dot\", \"width\": 1}, \"mode\": \"lines\", \"name\": \">0.3 Moderate Linear Relationship\", \"type\": \"scatter\", \"x\": [\"00\", \"01\", \"02\", \"09\", \"10\", \"12\", \"14\", \"15\", \"18\", \"20\", \"21\", \"23\", \"24\", \"28\", \"29\", \"30\"], \"y\": [0.3, 0.3, 0.3, 0.3, 0.3, 0.3, 0.3, 0.3, 0.3, 0.3, 0.3, 0.3, 0.3, 0.3, 0.3, 0.3]}],\n",
       "                        {\"template\": {\"data\": {\"bar\": [{\"error_x\": {\"color\": \"#2a3f5f\"}, \"error_y\": {\"color\": \"#2a3f5f\"}, \"marker\": {\"line\": {\"color\": \"#E5ECF6\", \"width\": 0.5}}, \"type\": \"bar\"}], \"barpolar\": [{\"marker\": {\"line\": {\"color\": \"#E5ECF6\", \"width\": 0.5}}, \"type\": \"barpolar\"}], \"carpet\": [{\"aaxis\": {\"endlinecolor\": \"#2a3f5f\", \"gridcolor\": \"white\", \"linecolor\": \"white\", \"minorgridcolor\": \"white\", \"startlinecolor\": \"#2a3f5f\"}, \"baxis\": {\"endlinecolor\": \"#2a3f5f\", \"gridcolor\": \"white\", \"linecolor\": \"white\", \"minorgridcolor\": \"white\", \"startlinecolor\": \"#2a3f5f\"}, \"type\": \"carpet\"}], \"choropleth\": [{\"colorbar\": {\"outlinewidth\": 0, \"ticks\": \"\"}, \"type\": \"choropleth\"}], \"contour\": [{\"colorbar\": {\"outlinewidth\": 0, \"ticks\": \"\"}, \"colorscale\": [[0.0, \"#0d0887\"], [0.1111111111111111, \"#46039f\"], [0.2222222222222222, \"#7201a8\"], [0.3333333333333333, \"#9c179e\"], [0.4444444444444444, \"#bd3786\"], [0.5555555555555556, \"#d8576b\"], [0.6666666666666666, \"#ed7953\"], [0.7777777777777778, \"#fb9f3a\"], [0.8888888888888888, \"#fdca26\"], [1.0, \"#f0f921\"]], \"type\": \"contour\"}], \"contourcarpet\": [{\"colorbar\": {\"outlinewidth\": 0, \"ticks\": \"\"}, \"type\": \"contourcarpet\"}], \"heatmap\": [{\"colorbar\": {\"outlinewidth\": 0, \"ticks\": \"\"}, \"colorscale\": [[0.0, \"#0d0887\"], [0.1111111111111111, \"#46039f\"], [0.2222222222222222, \"#7201a8\"], [0.3333333333333333, \"#9c179e\"], [0.4444444444444444, \"#bd3786\"], [0.5555555555555556, \"#d8576b\"], [0.6666666666666666, \"#ed7953\"], [0.7777777777777778, \"#fb9f3a\"], [0.8888888888888888, \"#fdca26\"], [1.0, \"#f0f921\"]], \"type\": \"heatmap\"}], \"heatmapgl\": [{\"colorbar\": {\"outlinewidth\": 0, \"ticks\": \"\"}, \"colorscale\": [[0.0, \"#0d0887\"], [0.1111111111111111, \"#46039f\"], [0.2222222222222222, \"#7201a8\"], [0.3333333333333333, \"#9c179e\"], [0.4444444444444444, \"#bd3786\"], [0.5555555555555556, \"#d8576b\"], [0.6666666666666666, \"#ed7953\"], [0.7777777777777778, \"#fb9f3a\"], [0.8888888888888888, \"#fdca26\"], [1.0, \"#f0f921\"]], \"type\": \"heatmapgl\"}], \"histogram\": [{\"marker\": {\"colorbar\": {\"outlinewidth\": 0, \"ticks\": \"\"}}, \"type\": \"histogram\"}], \"histogram2d\": [{\"colorbar\": {\"outlinewidth\": 0, \"ticks\": \"\"}, \"colorscale\": [[0.0, \"#0d0887\"], [0.1111111111111111, \"#46039f\"], [0.2222222222222222, \"#7201a8\"], [0.3333333333333333, \"#9c179e\"], [0.4444444444444444, \"#bd3786\"], [0.5555555555555556, \"#d8576b\"], [0.6666666666666666, \"#ed7953\"], [0.7777777777777778, \"#fb9f3a\"], [0.8888888888888888, \"#fdca26\"], [1.0, \"#f0f921\"]], \"type\": \"histogram2d\"}], \"histogram2dcontour\": [{\"colorbar\": {\"outlinewidth\": 0, \"ticks\": \"\"}, \"colorscale\": [[0.0, \"#0d0887\"], [0.1111111111111111, \"#46039f\"], [0.2222222222222222, \"#7201a8\"], [0.3333333333333333, \"#9c179e\"], [0.4444444444444444, \"#bd3786\"], [0.5555555555555556, \"#d8576b\"], [0.6666666666666666, \"#ed7953\"], [0.7777777777777778, \"#fb9f3a\"], [0.8888888888888888, \"#fdca26\"], [1.0, \"#f0f921\"]], \"type\": \"histogram2dcontour\"}], \"mesh3d\": [{\"colorbar\": {\"outlinewidth\": 0, \"ticks\": \"\"}, \"type\": \"mesh3d\"}], \"parcoords\": [{\"line\": {\"colorbar\": {\"outlinewidth\": 0, \"ticks\": \"\"}}, \"type\": \"parcoords\"}], \"scatter\": [{\"marker\": {\"colorbar\": {\"outlinewidth\": 0, \"ticks\": \"\"}}, \"type\": \"scatter\"}], \"scatter3d\": [{\"line\": {\"colorbar\": {\"outlinewidth\": 0, \"ticks\": \"\"}}, \"marker\": {\"colorbar\": {\"outlinewidth\": 0, \"ticks\": \"\"}}, \"type\": \"scatter3d\"}], \"scattercarpet\": [{\"marker\": {\"colorbar\": {\"outlinewidth\": 0, \"ticks\": \"\"}}, \"type\": \"scattercarpet\"}], \"scattergeo\": [{\"marker\": {\"colorbar\": {\"outlinewidth\": 0, \"ticks\": \"\"}}, \"type\": \"scattergeo\"}], \"scattergl\": [{\"marker\": {\"colorbar\": {\"outlinewidth\": 0, \"ticks\": \"\"}}, \"type\": \"scattergl\"}], \"scattermapbox\": [{\"marker\": {\"colorbar\": {\"outlinewidth\": 0, \"ticks\": \"\"}}, \"type\": \"scattermapbox\"}], \"scatterpolar\": [{\"marker\": {\"colorbar\": {\"outlinewidth\": 0, \"ticks\": \"\"}}, \"type\": \"scatterpolar\"}], \"scatterpolargl\": [{\"marker\": {\"colorbar\": {\"outlinewidth\": 0, \"ticks\": \"\"}}, \"type\": \"scatterpolargl\"}], \"scatterternary\": [{\"marker\": {\"colorbar\": {\"outlinewidth\": 0, \"ticks\": \"\"}}, \"type\": \"scatterternary\"}], \"surface\": [{\"colorbar\": {\"outlinewidth\": 0, \"ticks\": \"\"}, \"colorscale\": [[0.0, \"#0d0887\"], [0.1111111111111111, \"#46039f\"], [0.2222222222222222, \"#7201a8\"], [0.3333333333333333, \"#9c179e\"], [0.4444444444444444, \"#bd3786\"], [0.5555555555555556, \"#d8576b\"], [0.6666666666666666, \"#ed7953\"], [0.7777777777777778, \"#fb9f3a\"], [0.8888888888888888, \"#fdca26\"], [1.0, \"#f0f921\"]], \"type\": \"surface\"}], \"table\": [{\"cells\": {\"fill\": {\"color\": \"#EBF0F8\"}, \"line\": {\"color\": \"white\"}}, \"header\": {\"fill\": {\"color\": \"#C8D4E3\"}, \"line\": {\"color\": \"white\"}}, \"type\": \"table\"}]}, \"layout\": {\"annotationdefaults\": {\"arrowcolor\": \"#2a3f5f\", \"arrowhead\": 0, \"arrowwidth\": 1}, \"colorscale\": {\"diverging\": [[0, \"#8e0152\"], [0.1, \"#c51b7d\"], [0.2, \"#de77ae\"], [0.3, \"#f1b6da\"], [0.4, \"#fde0ef\"], [0.5, \"#f7f7f7\"], [0.6, \"#e6f5d0\"], [0.7, \"#b8e186\"], [0.8, \"#7fbc41\"], [0.9, \"#4d9221\"], [1, \"#276419\"]], \"sequential\": [[0.0, \"#0d0887\"], [0.1111111111111111, \"#46039f\"], [0.2222222222222222, \"#7201a8\"], [0.3333333333333333, \"#9c179e\"], [0.4444444444444444, \"#bd3786\"], [0.5555555555555556, \"#d8576b\"], [0.6666666666666666, \"#ed7953\"], [0.7777777777777778, \"#fb9f3a\"], [0.8888888888888888, \"#fdca26\"], [1.0, \"#f0f921\"]], \"sequentialminus\": [[0.0, \"#0d0887\"], [0.1111111111111111, \"#46039f\"], [0.2222222222222222, \"#7201a8\"], [0.3333333333333333, \"#9c179e\"], [0.4444444444444444, \"#bd3786\"], [0.5555555555555556, \"#d8576b\"], [0.6666666666666666, \"#ed7953\"], [0.7777777777777778, \"#fb9f3a\"], [0.8888888888888888, \"#fdca26\"], [1.0, \"#f0f921\"]]}, \"colorway\": [\"#636efa\", \"#EF553B\", \"#00cc96\", \"#ab63fa\", \"#FFA15A\", \"#19d3f3\", \"#FF6692\", \"#B6E880\", \"#FF97FF\", \"#FECB52\"], \"font\": {\"color\": \"#2a3f5f\"}, \"geo\": {\"bgcolor\": \"white\", \"lakecolor\": \"white\", \"landcolor\": \"#E5ECF6\", \"showlakes\": true, \"showland\": true, \"subunitcolor\": \"white\"}, \"hoverlabel\": {\"align\": \"left\"}, \"hovermode\": \"closest\", \"mapbox\": {\"style\": \"light\"}, \"paper_bgcolor\": \"white\", \"plot_bgcolor\": \"#E5ECF6\", \"polar\": {\"angularaxis\": {\"gridcolor\": \"white\", \"linecolor\": \"white\", \"ticks\": \"\"}, \"bgcolor\": \"#E5ECF6\", \"radialaxis\": {\"gridcolor\": \"white\", \"linecolor\": \"white\", \"ticks\": \"\"}}, \"scene\": {\"xaxis\": {\"backgroundcolor\": \"#E5ECF6\", \"gridcolor\": \"white\", \"gridwidth\": 2, \"linecolor\": \"white\", \"showbackground\": true, \"ticks\": \"\", \"zerolinecolor\": \"white\"}, \"yaxis\": {\"backgroundcolor\": \"#E5ECF6\", \"gridcolor\": \"white\", \"gridwidth\": 2, \"linecolor\": \"white\", \"showbackground\": true, \"ticks\": \"\", \"zerolinecolor\": \"white\"}, \"zaxis\": {\"backgroundcolor\": \"#E5ECF6\", \"gridcolor\": \"white\", \"gridwidth\": 2, \"linecolor\": \"white\", \"showbackground\": true, \"ticks\": \"\", \"zerolinecolor\": \"white\"}}, \"shapedefaults\": {\"line\": {\"color\": \"#2a3f5f\"}}, \"ternary\": {\"aaxis\": {\"gridcolor\": \"white\", \"linecolor\": \"white\", \"ticks\": \"\"}, \"baxis\": {\"gridcolor\": \"white\", \"linecolor\": \"white\", \"ticks\": \"\"}, \"bgcolor\": \"#E5ECF6\", \"caxis\": {\"gridcolor\": \"white\", \"linecolor\": \"white\", \"ticks\": \"\"}}, \"title\": {\"x\": 0.05}, \"xaxis\": {\"automargin\": true, \"gridcolor\": \"white\", \"linecolor\": \"white\", \"ticks\": \"\", \"zerolinecolor\": \"white\", \"zerolinewidth\": 2}, \"yaxis\": {\"automargin\": true, \"gridcolor\": \"white\", \"linecolor\": \"white\", \"ticks\": \"\", \"zerolinecolor\": \"white\", \"zerolinewidth\": 2}}}, \"title\": {\"font\": {\"family\": \"Times New Roman\"}, \"text\": \"<b>Correlation Coefficients for Southwest Boise and Associated Neighborhoods<b>\", \"x\": 0.5, \"xref\": \"paper\"}, \"xaxis\": {\"title\": {\"font\": {\"family\": \"Times New Roman\", \"size\": 16}, \"text\": \"<b>Feature Key<b>\"}, \"type\": \"category\"}, \"yaxis\": {\"title\": {\"font\": {\"family\": \"Times New Roman\", \"size\": 16}, \"text\": \"<b>Correlation Coefficient<b>\"}}},\n",
       "                        {\"responsive\": true}\n",
       "                    ).then(function(){\n",
       "                            \n",
       "var gd = document.getElementById('3cb4e7ed-edaf-41f8-b895-3ec4e18631e2');\n",
       "var x = new MutationObserver(function (mutations, observer) {{\n",
       "        var display = window.getComputedStyle(gd).display;\n",
       "        if (!display || display === 'none') {{\n",
       "            console.log([gd, 'removed!']);\n",
       "            Plotly.purge(gd);\n",
       "            observer.disconnect();\n",
       "        }}\n",
       "}});\n",
       "\n",
       "// Listen for the removal of the full notebook cells\n",
       "var notebookContainer = gd.closest('#notebook-container');\n",
       "if (notebookContainer) {{\n",
       "    x.observe(notebookContainer, {childList: true});\n",
       "}}\n",
       "\n",
       "// Listen for the clearing of the current output cell\n",
       "var outputEl = gd.closest('.output');\n",
       "if (outputEl) {{\n",
       "    x.observe(outputEl, {childList: true});\n",
       "}}\n",
       "\n",
       "                        })\n",
       "                };\n",
       "                });\n",
       "            </script>\n",
       "        </div>"
      ]
     },
     "metadata": {},
     "output_type": "display_data"
    }
   ],
   "source": [
    "df = pd.read_pickle('SW-Coeff-compare.pkl')\n",
    "df2 = pd.read_pickle('a-Coeff-compare.pkl')\n",
    "\n",
    "\n",
    "df = pd.merge(df,df2, on = 'index', how = 'outer')\n",
    "\n",
    "\n",
    "###########################################################\n",
    "\n",
    "# drops rows up to TAV_Ch, below TAV_Ch = 0 and TAV_Ch = 1 \n",
    "df = df.iloc[9:]\n",
    "\n",
    "# Needed to make a key for ease a readability and to make the reference line for moderate linear \n",
    "# relationship\n",
    "df= df.rename(columns = {'index' : 'Feature_Name'})\n",
    "df['index'] = ['00','01','02','03','04','05','06','07','08','09','10','11','12','13','14',\n",
    "             '15','16','17','18','19','20','21','22','23','24','25','26','27','28','29','30']\n",
    "df['ref_line'] = .3\n",
    "\n",
    "\n",
    "#this will drop rows that have less than 4 values (feature name, key, ref line, & @ least 1 value)\n",
    "df = df.dropna(thresh = 4)\n",
    "\n",
    "\n",
    "###########################################################\n",
    "\n",
    "SW_fig = go.Figure()\n",
    "\n",
    "SW_fig.add_trace(go.Scatter(x= df['index'], y=df['SW_Boise'],\n",
    "                    mode='markers',\n",
    "                    marker_color = 'rgb(128,0,128)',\n",
    "                    marker=dict(size= 12, symbol = \"diamond-tall-open\"),           \n",
    "                    name='Southwest Boise Area'))\n",
    "\n",
    "SW_fig.add_trace(go.Scatter(x= df['index'], y=df['SW_WBF_Corridor'],\n",
    "                    mode='markers',\n",
    "                    marker_color = 'rgb(75,0,130)',\n",
    "                    name='West Boise Freeway Cor.'))\n",
    "\n",
    "SW_fig.add_trace(go.Scatter(x= df['index'], y=df['SW_Airport'],\n",
    "                    mode='markers',  \n",
    "                    marker_color='rgb(153,50,204)',  \n",
    "                    name='Airport'))\n",
    "\n",
    "SW_fig.add_trace(go.Scatter(x= df['index'], y=df['SW_BBF_Corridor'],\n",
    "                    mode='markers',  \n",
    "                    marker_color='rgb(255,0,255)',     \n",
    "                    name='Boise Bench Freeway Cor.'))\n",
    "\n",
    "SW_fig.add_trace(go.Scatter(x= df['index'], y=df['SW_S_B_Desert'],\n",
    "                    mode='markers',\n",
    "                    marker_color='rgb(147,112,219)',     \n",
    "                    name='South Boise Desert'))\n",
    "\n",
    "SW_fig.add_trace(go.Scatter(x= df['index'], y=df['SW_SW_Boise'],\n",
    "                    mode='markers',\n",
    "                    marker_color='rgb(221,160,221)',     \n",
    "                    name='Southwest Boise'))\n",
    "\n",
    "\n",
    "\n",
    "\n",
    "#################### Reference line\n",
    "\n",
    "\n",
    "SW_fig.add_trace(go.Scatter(x= df['index'] , y=df['ref_line'],\n",
    "                    mode = 'lines',          \n",
    "                    line = dict(color='Black', width=1, dash='dot'),          \n",
    "                    name='>0.3 Moderate Linear Relationship'))\n",
    "\n",
    "#################### Layout Title and Axis stuff\n",
    "\n",
    "SW_fig.update_layout(\n",
    "    title=go.layout.Title(\n",
    "        text=\"<b>Correlation Coefficients for Southwest Boise and Associated Neighborhoods<b>\",\n",
    "        font = dict( \n",
    "            family = 'Times New Roman'),\n",
    "        xref=\"paper\",\n",
    "        x=.5\n",
    "    ),\n",
    "    yaxis=go.layout.YAxis(\n",
    "        title=go.layout.yaxis.Title(\n",
    "            text=\"<b>Correlation Coefficient<b>\",\n",
    "            font=dict(\n",
    "                family=\"Times New Roman\",\n",
    "                size=16,\n",
    "#                color=\"#7f7f7f\"\n",
    "            )\n",
    "        )\n",
    "    ),\n",
    "    xaxis=go.layout.XAxis(\n",
    "        type = 'category',\n",
    "        title=go.layout.xaxis.Title(\n",
    "            text=\"<b>Feature Key<b>\",\n",
    "            font=dict(\n",
    "                family=\"Times New Roman\",\n",
    "                size=16,\n",
    "#                color=\"#7f7f7f\"\n",
    "            )\n",
    "        )\n",
    "    ))\n",
    "\n",
    "\n",
    "SW_fig.write_image(\"images/SW_fig.jpg\")\n",
    "SW_fig.show()"
   ]
  },
  {
   "cell_type": "markdown",
   "metadata": {},
   "source": [
    "## Southwest Boise-Meridian"
   ]
  },
  {
   "cell_type": "code",
   "execution_count": 133,
   "metadata": {},
   "outputs": [
    {
     "data": {
      "application/vnd.plotly.v1+json": {
       "config": {
        "plotlyServerURL": "https://plot.ly"
       },
       "data": [
        {
         "marker": {
          "color": "rgb(139,69,19)",
          "size": 14,
          "symbol": "triangle-nw-open"
         },
         "mode": "markers",
         "name": "SW Boise-Meridian Area",
         "type": "scatter",
         "x": [
          "00",
          "01",
          "02",
          "09",
          "12",
          "15",
          "18",
          "20",
          "21",
          "22",
          "24",
          "28",
          "29",
          "30"
         ],
         "y": [
          null,
          0.1504959753661697,
          0.19855952481727007,
          0.16073145051703916,
          null,
          0.15638199418159174,
          0.14752294027571,
          0.1861149105898015,
          0.1621694067401815,
          null,
          null,
          0.1476974534956342,
          0.15610206178053995,
          0.18751794041229808
         ]
        },
        {
         "marker": {
          "color": "rgb(128,0,0)"
         },
         "mode": "markers",
         "name": "West Boise Freeway Cor.",
         "type": "scatter",
         "x": [
          "00",
          "01",
          "02",
          "09",
          "12",
          "15",
          "18",
          "20",
          "21",
          "22",
          "24",
          "28",
          "29",
          "30"
         ],
         "y": [
          null,
          null,
          0.16619364454662783,
          0.10743136340641135,
          0.08853655693669438,
          0.10766258556700453,
          0.08668232672969145,
          0.13212178509827638,
          0.08596850965593593,
          null,
          null,
          0.08163809184738682,
          0.0912388386420706,
          0.12807014245377882
         ]
        },
        {
         "marker": {
          "color": "rgb(160,82,45)"
         },
         "mode": "markers",
         "name": "Meridian Freeway Cor.",
         "type": "scatter",
         "x": [
          "00",
          "01",
          "02",
          "09",
          "12",
          "15",
          "18",
          "20",
          "21",
          "22",
          "24",
          "28",
          "29",
          "30"
         ],
         "y": [
          null,
          0.4042250397822426,
          0.4524737685934701,
          0.45969883992597155,
          null,
          0.467846544397704,
          0.3854932831710156,
          0.38423041233966565,
          0.4449808280869146,
          null,
          null,
          0.44749933096115085,
          0.46402244562293576,
          0.510396782186659
         ]
        },
        {
         "marker": {
          "color": "rgb(210,105,30)"
         },
         "mode": "markers",
         "name": "South Meridian",
         "type": "scatter",
         "x": [
          "00",
          "01",
          "02",
          "09",
          "12",
          "15",
          "18",
          "20",
          "21",
          "22",
          "24",
          "28",
          "29",
          "30"
         ],
         "y": [
          0.6079958304352185,
          null,
          0.6788561413412694,
          0.6009095776204748,
          null,
          null,
          null,
          0.6489389940615237,
          0.6304073202438316,
          0.5890226268288667,
          0.5866717297502217,
          0.6357777720335346,
          0.6370906227678288,
          0.6934317931738386
         ]
        },
        {
         "marker": {
          "color": "rgb(218,165,32)"
         },
         "mode": "markers",
         "name": "Southwest Boise",
         "type": "scatter",
         "x": [
          "00",
          "01",
          "02",
          "09",
          "12",
          "15",
          "18",
          "20",
          "21",
          "22",
          "24",
          "28",
          "29",
          "30"
         ],
         "y": [
          0.2452340766154551,
          0.30977948751152007,
          0.29920903598452875,
          0.2675081517193416,
          null,
          null,
          0.2774849950332892,
          0.3287808521124385,
          0.31426232060964954,
          null,
          null,
          0.25174737075624937,
          0.266570345462572,
          0.3136174831590906
         ]
        },
        {
         "line": {
          "color": "Black",
          "dash": "dot",
          "width": 1
         },
         "mode": "lines",
         "name": ">0.3 Moderate Linear Relationship",
         "type": "scatter",
         "x": [
          "00",
          "01",
          "02",
          "09",
          "12",
          "15",
          "18",
          "20",
          "21",
          "22",
          "24",
          "28",
          "29",
          "30"
         ],
         "y": [
          0.3,
          0.3,
          0.3,
          0.3,
          0.3,
          0.3,
          0.3,
          0.3,
          0.3,
          0.3,
          0.3,
          0.3,
          0.3,
          0.3
         ]
        }
       ],
       "layout": {
        "template": {
         "data": {
          "bar": [
           {
            "error_x": {
             "color": "#2a3f5f"
            },
            "error_y": {
             "color": "#2a3f5f"
            },
            "marker": {
             "line": {
              "color": "#E5ECF6",
              "width": 0.5
             }
            },
            "type": "bar"
           }
          ],
          "barpolar": [
           {
            "marker": {
             "line": {
              "color": "#E5ECF6",
              "width": 0.5
             }
            },
            "type": "barpolar"
           }
          ],
          "carpet": [
           {
            "aaxis": {
             "endlinecolor": "#2a3f5f",
             "gridcolor": "white",
             "linecolor": "white",
             "minorgridcolor": "white",
             "startlinecolor": "#2a3f5f"
            },
            "baxis": {
             "endlinecolor": "#2a3f5f",
             "gridcolor": "white",
             "linecolor": "white",
             "minorgridcolor": "white",
             "startlinecolor": "#2a3f5f"
            },
            "type": "carpet"
           }
          ],
          "choropleth": [
           {
            "colorbar": {
             "outlinewidth": 0,
             "ticks": ""
            },
            "type": "choropleth"
           }
          ],
          "contour": [
           {
            "colorbar": {
             "outlinewidth": 0,
             "ticks": ""
            },
            "colorscale": [
             [
              0,
              "#0d0887"
             ],
             [
              0.1111111111111111,
              "#46039f"
             ],
             [
              0.2222222222222222,
              "#7201a8"
             ],
             [
              0.3333333333333333,
              "#9c179e"
             ],
             [
              0.4444444444444444,
              "#bd3786"
             ],
             [
              0.5555555555555556,
              "#d8576b"
             ],
             [
              0.6666666666666666,
              "#ed7953"
             ],
             [
              0.7777777777777778,
              "#fb9f3a"
             ],
             [
              0.8888888888888888,
              "#fdca26"
             ],
             [
              1,
              "#f0f921"
             ]
            ],
            "type": "contour"
           }
          ],
          "contourcarpet": [
           {
            "colorbar": {
             "outlinewidth": 0,
             "ticks": ""
            },
            "type": "contourcarpet"
           }
          ],
          "heatmap": [
           {
            "colorbar": {
             "outlinewidth": 0,
             "ticks": ""
            },
            "colorscale": [
             [
              0,
              "#0d0887"
             ],
             [
              0.1111111111111111,
              "#46039f"
             ],
             [
              0.2222222222222222,
              "#7201a8"
             ],
             [
              0.3333333333333333,
              "#9c179e"
             ],
             [
              0.4444444444444444,
              "#bd3786"
             ],
             [
              0.5555555555555556,
              "#d8576b"
             ],
             [
              0.6666666666666666,
              "#ed7953"
             ],
             [
              0.7777777777777778,
              "#fb9f3a"
             ],
             [
              0.8888888888888888,
              "#fdca26"
             ],
             [
              1,
              "#f0f921"
             ]
            ],
            "type": "heatmap"
           }
          ],
          "heatmapgl": [
           {
            "colorbar": {
             "outlinewidth": 0,
             "ticks": ""
            },
            "colorscale": [
             [
              0,
              "#0d0887"
             ],
             [
              0.1111111111111111,
              "#46039f"
             ],
             [
              0.2222222222222222,
              "#7201a8"
             ],
             [
              0.3333333333333333,
              "#9c179e"
             ],
             [
              0.4444444444444444,
              "#bd3786"
             ],
             [
              0.5555555555555556,
              "#d8576b"
             ],
             [
              0.6666666666666666,
              "#ed7953"
             ],
             [
              0.7777777777777778,
              "#fb9f3a"
             ],
             [
              0.8888888888888888,
              "#fdca26"
             ],
             [
              1,
              "#f0f921"
             ]
            ],
            "type": "heatmapgl"
           }
          ],
          "histogram": [
           {
            "marker": {
             "colorbar": {
              "outlinewidth": 0,
              "ticks": ""
             }
            },
            "type": "histogram"
           }
          ],
          "histogram2d": [
           {
            "colorbar": {
             "outlinewidth": 0,
             "ticks": ""
            },
            "colorscale": [
             [
              0,
              "#0d0887"
             ],
             [
              0.1111111111111111,
              "#46039f"
             ],
             [
              0.2222222222222222,
              "#7201a8"
             ],
             [
              0.3333333333333333,
              "#9c179e"
             ],
             [
              0.4444444444444444,
              "#bd3786"
             ],
             [
              0.5555555555555556,
              "#d8576b"
             ],
             [
              0.6666666666666666,
              "#ed7953"
             ],
             [
              0.7777777777777778,
              "#fb9f3a"
             ],
             [
              0.8888888888888888,
              "#fdca26"
             ],
             [
              1,
              "#f0f921"
             ]
            ],
            "type": "histogram2d"
           }
          ],
          "histogram2dcontour": [
           {
            "colorbar": {
             "outlinewidth": 0,
             "ticks": ""
            },
            "colorscale": [
             [
              0,
              "#0d0887"
             ],
             [
              0.1111111111111111,
              "#46039f"
             ],
             [
              0.2222222222222222,
              "#7201a8"
             ],
             [
              0.3333333333333333,
              "#9c179e"
             ],
             [
              0.4444444444444444,
              "#bd3786"
             ],
             [
              0.5555555555555556,
              "#d8576b"
             ],
             [
              0.6666666666666666,
              "#ed7953"
             ],
             [
              0.7777777777777778,
              "#fb9f3a"
             ],
             [
              0.8888888888888888,
              "#fdca26"
             ],
             [
              1,
              "#f0f921"
             ]
            ],
            "type": "histogram2dcontour"
           }
          ],
          "mesh3d": [
           {
            "colorbar": {
             "outlinewidth": 0,
             "ticks": ""
            },
            "type": "mesh3d"
           }
          ],
          "parcoords": [
           {
            "line": {
             "colorbar": {
              "outlinewidth": 0,
              "ticks": ""
             }
            },
            "type": "parcoords"
           }
          ],
          "scatter": [
           {
            "marker": {
             "colorbar": {
              "outlinewidth": 0,
              "ticks": ""
             }
            },
            "type": "scatter"
           }
          ],
          "scatter3d": [
           {
            "line": {
             "colorbar": {
              "outlinewidth": 0,
              "ticks": ""
             }
            },
            "marker": {
             "colorbar": {
              "outlinewidth": 0,
              "ticks": ""
             }
            },
            "type": "scatter3d"
           }
          ],
          "scattercarpet": [
           {
            "marker": {
             "colorbar": {
              "outlinewidth": 0,
              "ticks": ""
             }
            },
            "type": "scattercarpet"
           }
          ],
          "scattergeo": [
           {
            "marker": {
             "colorbar": {
              "outlinewidth": 0,
              "ticks": ""
             }
            },
            "type": "scattergeo"
           }
          ],
          "scattergl": [
           {
            "marker": {
             "colorbar": {
              "outlinewidth": 0,
              "ticks": ""
             }
            },
            "type": "scattergl"
           }
          ],
          "scattermapbox": [
           {
            "marker": {
             "colorbar": {
              "outlinewidth": 0,
              "ticks": ""
             }
            },
            "type": "scattermapbox"
           }
          ],
          "scatterpolar": [
           {
            "marker": {
             "colorbar": {
              "outlinewidth": 0,
              "ticks": ""
             }
            },
            "type": "scatterpolar"
           }
          ],
          "scatterpolargl": [
           {
            "marker": {
             "colorbar": {
              "outlinewidth": 0,
              "ticks": ""
             }
            },
            "type": "scatterpolargl"
           }
          ],
          "scatterternary": [
           {
            "marker": {
             "colorbar": {
              "outlinewidth": 0,
              "ticks": ""
             }
            },
            "type": "scatterternary"
           }
          ],
          "surface": [
           {
            "colorbar": {
             "outlinewidth": 0,
             "ticks": ""
            },
            "colorscale": [
             [
              0,
              "#0d0887"
             ],
             [
              0.1111111111111111,
              "#46039f"
             ],
             [
              0.2222222222222222,
              "#7201a8"
             ],
             [
              0.3333333333333333,
              "#9c179e"
             ],
             [
              0.4444444444444444,
              "#bd3786"
             ],
             [
              0.5555555555555556,
              "#d8576b"
             ],
             [
              0.6666666666666666,
              "#ed7953"
             ],
             [
              0.7777777777777778,
              "#fb9f3a"
             ],
             [
              0.8888888888888888,
              "#fdca26"
             ],
             [
              1,
              "#f0f921"
             ]
            ],
            "type": "surface"
           }
          ],
          "table": [
           {
            "cells": {
             "fill": {
              "color": "#EBF0F8"
             },
             "line": {
              "color": "white"
             }
            },
            "header": {
             "fill": {
              "color": "#C8D4E3"
             },
             "line": {
              "color": "white"
             }
            },
            "type": "table"
           }
          ]
         },
         "layout": {
          "annotationdefaults": {
           "arrowcolor": "#2a3f5f",
           "arrowhead": 0,
           "arrowwidth": 1
          },
          "colorscale": {
           "diverging": [
            [
             0,
             "#8e0152"
            ],
            [
             0.1,
             "#c51b7d"
            ],
            [
             0.2,
             "#de77ae"
            ],
            [
             0.3,
             "#f1b6da"
            ],
            [
             0.4,
             "#fde0ef"
            ],
            [
             0.5,
             "#f7f7f7"
            ],
            [
             0.6,
             "#e6f5d0"
            ],
            [
             0.7,
             "#b8e186"
            ],
            [
             0.8,
             "#7fbc41"
            ],
            [
             0.9,
             "#4d9221"
            ],
            [
             1,
             "#276419"
            ]
           ],
           "sequential": [
            [
             0,
             "#0d0887"
            ],
            [
             0.1111111111111111,
             "#46039f"
            ],
            [
             0.2222222222222222,
             "#7201a8"
            ],
            [
             0.3333333333333333,
             "#9c179e"
            ],
            [
             0.4444444444444444,
             "#bd3786"
            ],
            [
             0.5555555555555556,
             "#d8576b"
            ],
            [
             0.6666666666666666,
             "#ed7953"
            ],
            [
             0.7777777777777778,
             "#fb9f3a"
            ],
            [
             0.8888888888888888,
             "#fdca26"
            ],
            [
             1,
             "#f0f921"
            ]
           ],
           "sequentialminus": [
            [
             0,
             "#0d0887"
            ],
            [
             0.1111111111111111,
             "#46039f"
            ],
            [
             0.2222222222222222,
             "#7201a8"
            ],
            [
             0.3333333333333333,
             "#9c179e"
            ],
            [
             0.4444444444444444,
             "#bd3786"
            ],
            [
             0.5555555555555556,
             "#d8576b"
            ],
            [
             0.6666666666666666,
             "#ed7953"
            ],
            [
             0.7777777777777778,
             "#fb9f3a"
            ],
            [
             0.8888888888888888,
             "#fdca26"
            ],
            [
             1,
             "#f0f921"
            ]
           ]
          },
          "colorway": [
           "#636efa",
           "#EF553B",
           "#00cc96",
           "#ab63fa",
           "#FFA15A",
           "#19d3f3",
           "#FF6692",
           "#B6E880",
           "#FF97FF",
           "#FECB52"
          ],
          "font": {
           "color": "#2a3f5f"
          },
          "geo": {
           "bgcolor": "white",
           "lakecolor": "white",
           "landcolor": "#E5ECF6",
           "showlakes": true,
           "showland": true,
           "subunitcolor": "white"
          },
          "hoverlabel": {
           "align": "left"
          },
          "hovermode": "closest",
          "mapbox": {
           "style": "light"
          },
          "paper_bgcolor": "white",
          "plot_bgcolor": "#E5ECF6",
          "polar": {
           "angularaxis": {
            "gridcolor": "white",
            "linecolor": "white",
            "ticks": ""
           },
           "bgcolor": "#E5ECF6",
           "radialaxis": {
            "gridcolor": "white",
            "linecolor": "white",
            "ticks": ""
           }
          },
          "scene": {
           "xaxis": {
            "backgroundcolor": "#E5ECF6",
            "gridcolor": "white",
            "gridwidth": 2,
            "linecolor": "white",
            "showbackground": true,
            "ticks": "",
            "zerolinecolor": "white"
           },
           "yaxis": {
            "backgroundcolor": "#E5ECF6",
            "gridcolor": "white",
            "gridwidth": 2,
            "linecolor": "white",
            "showbackground": true,
            "ticks": "",
            "zerolinecolor": "white"
           },
           "zaxis": {
            "backgroundcolor": "#E5ECF6",
            "gridcolor": "white",
            "gridwidth": 2,
            "linecolor": "white",
            "showbackground": true,
            "ticks": "",
            "zerolinecolor": "white"
           }
          },
          "shapedefaults": {
           "line": {
            "color": "#2a3f5f"
           }
          },
          "ternary": {
           "aaxis": {
            "gridcolor": "white",
            "linecolor": "white",
            "ticks": ""
           },
           "baxis": {
            "gridcolor": "white",
            "linecolor": "white",
            "ticks": ""
           },
           "bgcolor": "#E5ECF6",
           "caxis": {
            "gridcolor": "white",
            "linecolor": "white",
            "ticks": ""
           }
          },
          "title": {
           "x": 0.05
          },
          "xaxis": {
           "automargin": true,
           "gridcolor": "white",
           "linecolor": "white",
           "ticks": "",
           "zerolinecolor": "white",
           "zerolinewidth": 2
          },
          "yaxis": {
           "automargin": true,
           "gridcolor": "white",
           "linecolor": "white",
           "ticks": "",
           "zerolinecolor": "white",
           "zerolinewidth": 2
          }
         }
        },
        "title": {
         "font": {
          "family": "Times New Roman"
         },
         "text": "<b>Correlation Coefficients for Southwest Boise-Meridian and Associated Neighborhoods<b>",
         "x": 0.5,
         "xref": "paper"
        },
        "xaxis": {
         "title": {
          "font": {
           "family": "Times New Roman",
           "size": 16
          },
          "text": "<b>Feature Key<b>"
         },
         "type": "category"
        },
        "yaxis": {
         "title": {
          "font": {
           "family": "Times New Roman",
           "size": 16
          },
          "text": "<b>Correlation Coefficient<b>"
         }
        }
       }
      },
      "text/html": [
       "<div>\n",
       "        \n",
       "        \n",
       "            <div id=\"838e6979-a1e6-42f6-b513-dad5ed4e2a3b\" class=\"plotly-graph-div\" style=\"height:525px; width:100%;\"></div>\n",
       "            <script type=\"text/javascript\">\n",
       "                require([\"plotly\"], function(Plotly) {\n",
       "                    window.PLOTLYENV=window.PLOTLYENV || {};\n",
       "                    \n",
       "                if (document.getElementById(\"838e6979-a1e6-42f6-b513-dad5ed4e2a3b\")) {\n",
       "                    Plotly.newPlot(\n",
       "                        '838e6979-a1e6-42f6-b513-dad5ed4e2a3b',\n",
       "                        [{\"marker\": {\"color\": \"rgb(139,69,19)\", \"size\": 14, \"symbol\": \"triangle-nw-open\"}, \"mode\": \"markers\", \"name\": \"SW Boise-Meridian Area\", \"type\": \"scatter\", \"x\": [\"00\", \"01\", \"02\", \"09\", \"12\", \"15\", \"18\", \"20\", \"21\", \"22\", \"24\", \"28\", \"29\", \"30\"], \"y\": [null, 0.1504959753661697, 0.19855952481727007, 0.16073145051703916, null, 0.15638199418159174, 0.14752294027571, 0.1861149105898015, 0.1621694067401815, null, null, 0.1476974534956342, 0.15610206178053995, 0.18751794041229808]}, {\"marker\": {\"color\": \"rgb(128,0,0)\"}, \"mode\": \"markers\", \"name\": \"West Boise Freeway Cor.\", \"type\": \"scatter\", \"x\": [\"00\", \"01\", \"02\", \"09\", \"12\", \"15\", \"18\", \"20\", \"21\", \"22\", \"24\", \"28\", \"29\", \"30\"], \"y\": [null, null, 0.16619364454662783, 0.10743136340641135, 0.08853655693669438, 0.10766258556700453, 0.08668232672969145, 0.13212178509827638, 0.08596850965593593, null, null, 0.08163809184738682, 0.0912388386420706, 0.12807014245377882]}, {\"marker\": {\"color\": \"rgb(160,82,45)\"}, \"mode\": \"markers\", \"name\": \"Meridian Freeway Cor.\", \"type\": \"scatter\", \"x\": [\"00\", \"01\", \"02\", \"09\", \"12\", \"15\", \"18\", \"20\", \"21\", \"22\", \"24\", \"28\", \"29\", \"30\"], \"y\": [null, 0.4042250397822426, 0.4524737685934701, 0.45969883992597155, null, 0.467846544397704, 0.3854932831710156, 0.38423041233966565, 0.4449808280869146, null, null, 0.44749933096115085, 0.46402244562293576, 0.510396782186659]}, {\"marker\": {\"color\": \"rgb(210,105,30)\"}, \"mode\": \"markers\", \"name\": \"South Meridian\", \"type\": \"scatter\", \"x\": [\"00\", \"01\", \"02\", \"09\", \"12\", \"15\", \"18\", \"20\", \"21\", \"22\", \"24\", \"28\", \"29\", \"30\"], \"y\": [0.6079958304352185, null, 0.6788561413412694, 0.6009095776204748, null, null, null, 0.6489389940615237, 0.6304073202438316, 0.5890226268288667, 0.5866717297502217, 0.6357777720335346, 0.6370906227678288, 0.6934317931738386]}, {\"marker\": {\"color\": \"rgb(218,165,32)\"}, \"mode\": \"markers\", \"name\": \"Southwest Boise\", \"type\": \"scatter\", \"x\": [\"00\", \"01\", \"02\", \"09\", \"12\", \"15\", \"18\", \"20\", \"21\", \"22\", \"24\", \"28\", \"29\", \"30\"], \"y\": [0.2452340766154551, 0.30977948751152007, 0.29920903598452875, 0.2675081517193416, null, null, 0.2774849950332892, 0.3287808521124385, 0.31426232060964954, null, null, 0.25174737075624937, 0.266570345462572, 0.3136174831590906]}, {\"line\": {\"color\": \"Black\", \"dash\": \"dot\", \"width\": 1}, \"mode\": \"lines\", \"name\": \">0.3 Moderate Linear Relationship\", \"type\": \"scatter\", \"x\": [\"00\", \"01\", \"02\", \"09\", \"12\", \"15\", \"18\", \"20\", \"21\", \"22\", \"24\", \"28\", \"29\", \"30\"], \"y\": [0.3, 0.3, 0.3, 0.3, 0.3, 0.3, 0.3, 0.3, 0.3, 0.3, 0.3, 0.3, 0.3, 0.3]}],\n",
       "                        {\"template\": {\"data\": {\"bar\": [{\"error_x\": {\"color\": \"#2a3f5f\"}, \"error_y\": {\"color\": \"#2a3f5f\"}, \"marker\": {\"line\": {\"color\": \"#E5ECF6\", \"width\": 0.5}}, \"type\": \"bar\"}], \"barpolar\": [{\"marker\": {\"line\": {\"color\": \"#E5ECF6\", \"width\": 0.5}}, \"type\": \"barpolar\"}], \"carpet\": [{\"aaxis\": {\"endlinecolor\": \"#2a3f5f\", \"gridcolor\": \"white\", \"linecolor\": \"white\", \"minorgridcolor\": \"white\", \"startlinecolor\": \"#2a3f5f\"}, \"baxis\": {\"endlinecolor\": \"#2a3f5f\", \"gridcolor\": \"white\", \"linecolor\": \"white\", \"minorgridcolor\": \"white\", \"startlinecolor\": \"#2a3f5f\"}, \"type\": \"carpet\"}], \"choropleth\": [{\"colorbar\": {\"outlinewidth\": 0, \"ticks\": \"\"}, \"type\": \"choropleth\"}], \"contour\": [{\"colorbar\": {\"outlinewidth\": 0, \"ticks\": \"\"}, \"colorscale\": [[0.0, \"#0d0887\"], [0.1111111111111111, \"#46039f\"], [0.2222222222222222, \"#7201a8\"], [0.3333333333333333, \"#9c179e\"], [0.4444444444444444, \"#bd3786\"], [0.5555555555555556, \"#d8576b\"], [0.6666666666666666, \"#ed7953\"], [0.7777777777777778, \"#fb9f3a\"], [0.8888888888888888, \"#fdca26\"], [1.0, \"#f0f921\"]], \"type\": \"contour\"}], \"contourcarpet\": [{\"colorbar\": {\"outlinewidth\": 0, \"ticks\": \"\"}, \"type\": \"contourcarpet\"}], \"heatmap\": [{\"colorbar\": {\"outlinewidth\": 0, \"ticks\": \"\"}, \"colorscale\": [[0.0, \"#0d0887\"], [0.1111111111111111, \"#46039f\"], [0.2222222222222222, \"#7201a8\"], [0.3333333333333333, \"#9c179e\"], [0.4444444444444444, \"#bd3786\"], [0.5555555555555556, \"#d8576b\"], [0.6666666666666666, \"#ed7953\"], [0.7777777777777778, \"#fb9f3a\"], [0.8888888888888888, \"#fdca26\"], [1.0, \"#f0f921\"]], \"type\": \"heatmap\"}], \"heatmapgl\": [{\"colorbar\": {\"outlinewidth\": 0, \"ticks\": \"\"}, \"colorscale\": [[0.0, \"#0d0887\"], [0.1111111111111111, \"#46039f\"], [0.2222222222222222, \"#7201a8\"], [0.3333333333333333, \"#9c179e\"], [0.4444444444444444, \"#bd3786\"], [0.5555555555555556, \"#d8576b\"], [0.6666666666666666, \"#ed7953\"], [0.7777777777777778, \"#fb9f3a\"], [0.8888888888888888, \"#fdca26\"], [1.0, \"#f0f921\"]], \"type\": \"heatmapgl\"}], \"histogram\": [{\"marker\": {\"colorbar\": {\"outlinewidth\": 0, \"ticks\": \"\"}}, \"type\": \"histogram\"}], \"histogram2d\": [{\"colorbar\": {\"outlinewidth\": 0, \"ticks\": \"\"}, \"colorscale\": [[0.0, \"#0d0887\"], [0.1111111111111111, \"#46039f\"], [0.2222222222222222, \"#7201a8\"], [0.3333333333333333, \"#9c179e\"], [0.4444444444444444, \"#bd3786\"], [0.5555555555555556, \"#d8576b\"], [0.6666666666666666, \"#ed7953\"], [0.7777777777777778, \"#fb9f3a\"], [0.8888888888888888, \"#fdca26\"], [1.0, \"#f0f921\"]], \"type\": \"histogram2d\"}], \"histogram2dcontour\": [{\"colorbar\": {\"outlinewidth\": 0, \"ticks\": \"\"}, \"colorscale\": [[0.0, \"#0d0887\"], [0.1111111111111111, \"#46039f\"], [0.2222222222222222, \"#7201a8\"], [0.3333333333333333, \"#9c179e\"], [0.4444444444444444, \"#bd3786\"], [0.5555555555555556, \"#d8576b\"], [0.6666666666666666, \"#ed7953\"], [0.7777777777777778, \"#fb9f3a\"], [0.8888888888888888, \"#fdca26\"], [1.0, \"#f0f921\"]], \"type\": \"histogram2dcontour\"}], \"mesh3d\": [{\"colorbar\": {\"outlinewidth\": 0, \"ticks\": \"\"}, \"type\": \"mesh3d\"}], \"parcoords\": [{\"line\": {\"colorbar\": {\"outlinewidth\": 0, \"ticks\": \"\"}}, \"type\": \"parcoords\"}], \"scatter\": [{\"marker\": {\"colorbar\": {\"outlinewidth\": 0, \"ticks\": \"\"}}, \"type\": \"scatter\"}], \"scatter3d\": [{\"line\": {\"colorbar\": {\"outlinewidth\": 0, \"ticks\": \"\"}}, \"marker\": {\"colorbar\": {\"outlinewidth\": 0, \"ticks\": \"\"}}, \"type\": \"scatter3d\"}], \"scattercarpet\": [{\"marker\": {\"colorbar\": {\"outlinewidth\": 0, \"ticks\": \"\"}}, \"type\": \"scattercarpet\"}], \"scattergeo\": [{\"marker\": {\"colorbar\": {\"outlinewidth\": 0, \"ticks\": \"\"}}, \"type\": \"scattergeo\"}], \"scattergl\": [{\"marker\": {\"colorbar\": {\"outlinewidth\": 0, \"ticks\": \"\"}}, \"type\": \"scattergl\"}], \"scattermapbox\": [{\"marker\": {\"colorbar\": {\"outlinewidth\": 0, \"ticks\": \"\"}}, \"type\": \"scattermapbox\"}], \"scatterpolar\": [{\"marker\": {\"colorbar\": {\"outlinewidth\": 0, \"ticks\": \"\"}}, \"type\": \"scatterpolar\"}], \"scatterpolargl\": [{\"marker\": {\"colorbar\": {\"outlinewidth\": 0, \"ticks\": \"\"}}, \"type\": \"scatterpolargl\"}], \"scatterternary\": [{\"marker\": {\"colorbar\": {\"outlinewidth\": 0, \"ticks\": \"\"}}, \"type\": \"scatterternary\"}], \"surface\": [{\"colorbar\": {\"outlinewidth\": 0, \"ticks\": \"\"}, \"colorscale\": [[0.0, \"#0d0887\"], [0.1111111111111111, \"#46039f\"], [0.2222222222222222, \"#7201a8\"], [0.3333333333333333, \"#9c179e\"], [0.4444444444444444, \"#bd3786\"], [0.5555555555555556, \"#d8576b\"], [0.6666666666666666, \"#ed7953\"], [0.7777777777777778, \"#fb9f3a\"], [0.8888888888888888, \"#fdca26\"], [1.0, \"#f0f921\"]], \"type\": \"surface\"}], \"table\": [{\"cells\": {\"fill\": {\"color\": \"#EBF0F8\"}, \"line\": {\"color\": \"white\"}}, \"header\": {\"fill\": {\"color\": \"#C8D4E3\"}, \"line\": {\"color\": \"white\"}}, \"type\": \"table\"}]}, \"layout\": {\"annotationdefaults\": {\"arrowcolor\": \"#2a3f5f\", \"arrowhead\": 0, \"arrowwidth\": 1}, \"colorscale\": {\"diverging\": [[0, \"#8e0152\"], [0.1, \"#c51b7d\"], [0.2, \"#de77ae\"], [0.3, \"#f1b6da\"], [0.4, \"#fde0ef\"], [0.5, \"#f7f7f7\"], [0.6, \"#e6f5d0\"], [0.7, \"#b8e186\"], [0.8, \"#7fbc41\"], [0.9, \"#4d9221\"], [1, \"#276419\"]], \"sequential\": [[0.0, \"#0d0887\"], [0.1111111111111111, \"#46039f\"], [0.2222222222222222, \"#7201a8\"], [0.3333333333333333, \"#9c179e\"], [0.4444444444444444, \"#bd3786\"], [0.5555555555555556, \"#d8576b\"], [0.6666666666666666, \"#ed7953\"], [0.7777777777777778, \"#fb9f3a\"], [0.8888888888888888, \"#fdca26\"], [1.0, \"#f0f921\"]], \"sequentialminus\": [[0.0, \"#0d0887\"], [0.1111111111111111, \"#46039f\"], [0.2222222222222222, \"#7201a8\"], [0.3333333333333333, \"#9c179e\"], [0.4444444444444444, \"#bd3786\"], [0.5555555555555556, \"#d8576b\"], [0.6666666666666666, \"#ed7953\"], [0.7777777777777778, \"#fb9f3a\"], [0.8888888888888888, \"#fdca26\"], [1.0, \"#f0f921\"]]}, \"colorway\": [\"#636efa\", \"#EF553B\", \"#00cc96\", \"#ab63fa\", \"#FFA15A\", \"#19d3f3\", \"#FF6692\", \"#B6E880\", \"#FF97FF\", \"#FECB52\"], \"font\": {\"color\": \"#2a3f5f\"}, \"geo\": {\"bgcolor\": \"white\", \"lakecolor\": \"white\", \"landcolor\": \"#E5ECF6\", \"showlakes\": true, \"showland\": true, \"subunitcolor\": \"white\"}, \"hoverlabel\": {\"align\": \"left\"}, \"hovermode\": \"closest\", \"mapbox\": {\"style\": \"light\"}, \"paper_bgcolor\": \"white\", \"plot_bgcolor\": \"#E5ECF6\", \"polar\": {\"angularaxis\": {\"gridcolor\": \"white\", \"linecolor\": \"white\", \"ticks\": \"\"}, \"bgcolor\": \"#E5ECF6\", \"radialaxis\": {\"gridcolor\": \"white\", \"linecolor\": \"white\", \"ticks\": \"\"}}, \"scene\": {\"xaxis\": {\"backgroundcolor\": \"#E5ECF6\", \"gridcolor\": \"white\", \"gridwidth\": 2, \"linecolor\": \"white\", \"showbackground\": true, \"ticks\": \"\", \"zerolinecolor\": \"white\"}, \"yaxis\": {\"backgroundcolor\": \"#E5ECF6\", \"gridcolor\": \"white\", \"gridwidth\": 2, \"linecolor\": \"white\", \"showbackground\": true, \"ticks\": \"\", \"zerolinecolor\": \"white\"}, \"zaxis\": {\"backgroundcolor\": \"#E5ECF6\", \"gridcolor\": \"white\", \"gridwidth\": 2, \"linecolor\": \"white\", \"showbackground\": true, \"ticks\": \"\", \"zerolinecolor\": \"white\"}}, \"shapedefaults\": {\"line\": {\"color\": \"#2a3f5f\"}}, \"ternary\": {\"aaxis\": {\"gridcolor\": \"white\", \"linecolor\": \"white\", \"ticks\": \"\"}, \"baxis\": {\"gridcolor\": \"white\", \"linecolor\": \"white\", \"ticks\": \"\"}, \"bgcolor\": \"#E5ECF6\", \"caxis\": {\"gridcolor\": \"white\", \"linecolor\": \"white\", \"ticks\": \"\"}}, \"title\": {\"x\": 0.05}, \"xaxis\": {\"automargin\": true, \"gridcolor\": \"white\", \"linecolor\": \"white\", \"ticks\": \"\", \"zerolinecolor\": \"white\", \"zerolinewidth\": 2}, \"yaxis\": {\"automargin\": true, \"gridcolor\": \"white\", \"linecolor\": \"white\", \"ticks\": \"\", \"zerolinecolor\": \"white\", \"zerolinewidth\": 2}}}, \"title\": {\"font\": {\"family\": \"Times New Roman\"}, \"text\": \"<b>Correlation Coefficients for Southwest Boise-Meridian and Associated Neighborhoods<b>\", \"x\": 0.5, \"xref\": \"paper\"}, \"xaxis\": {\"title\": {\"font\": {\"family\": \"Times New Roman\", \"size\": 16}, \"text\": \"<b>Feature Key<b>\"}, \"type\": \"category\"}, \"yaxis\": {\"title\": {\"font\": {\"family\": \"Times New Roman\", \"size\": 16}, \"text\": \"<b>Correlation Coefficient<b>\"}}},\n",
       "                        {\"responsive\": true}\n",
       "                    ).then(function(){\n",
       "                            \n",
       "var gd = document.getElementById('838e6979-a1e6-42f6-b513-dad5ed4e2a3b');\n",
       "var x = new MutationObserver(function (mutations, observer) {{\n",
       "        var display = window.getComputedStyle(gd).display;\n",
       "        if (!display || display === 'none') {{\n",
       "            console.log([gd, 'removed!']);\n",
       "            Plotly.purge(gd);\n",
       "            observer.disconnect();\n",
       "        }}\n",
       "}});\n",
       "\n",
       "// Listen for the removal of the full notebook cells\n",
       "var notebookContainer = gd.closest('#notebook-container');\n",
       "if (notebookContainer) {{\n",
       "    x.observe(notebookContainer, {childList: true});\n",
       "}}\n",
       "\n",
       "// Listen for the clearing of the current output cell\n",
       "var outputEl = gd.closest('.output');\n",
       "if (outputEl) {{\n",
       "    x.observe(outputEl, {childList: true});\n",
       "}}\n",
       "\n",
       "                        })\n",
       "                };\n",
       "                });\n",
       "            </script>\n",
       "        </div>"
      ]
     },
     "metadata": {},
     "output_type": "display_data"
    }
   ],
   "source": [
    "df = pd.read_pickle('SWBM-Coeff-compare.pkl')\n",
    "df2 = pd.read_pickle('a-Coeff-compare.pkl')\n",
    "\n",
    "\n",
    "df = pd.merge(df,df2, on = 'index', how = 'outer')\n",
    "\n",
    "\n",
    "###########################################################\n",
    "\n",
    "# drops rows up to TAV_Ch, below TAV_Ch = 0 and TAV_Ch = 1 \n",
    "df = df.iloc[9:]\n",
    "\n",
    "# Needed to make a key for ease a readability and to make the reference line for moderate linear \n",
    "# relationship\n",
    "df= df.rename(columns = {'index' : 'Feature_Name'})\n",
    "df['index'] = ['00','01','02','03','04','05','06','07','08','09','10','11','12','13','14',\n",
    "             '15','16','17','18','19','20','21','22','23','24','25','26','27','28','29','30']\n",
    "df['ref_line'] = .3\n",
    "\n",
    "\n",
    "#this will drop rows that have less than 4 values (feature name, key, ref line, & @ least 1 value)\n",
    "df = df.dropna(thresh = 4)\n",
    "\n",
    "\n",
    "###########################################################\n",
    "\n",
    "SWBM_fig = go.Figure()\n",
    "\n",
    "SWBM_fig.add_trace(go.Scatter(x= df['index'], y=df['SW_Boise_M'],\n",
    "                    mode='markers',\n",
    "                    marker_color = 'rgb(139,69,19)',\n",
    "                    marker=dict(size= 14, symbol = \"triangle-nw-open\"),          \n",
    "                    name='SW Boise-Meridian Area'))\n",
    "\n",
    "SWBM_fig.add_trace(go.Scatter(x= df['index'], y=df['SWBM_WBF_Corridor'],\n",
    "                    mode='markers',\n",
    "                    marker_color = 'rgb(128,0,0)',\n",
    "                    name='West Boise Freeway Cor.'))\n",
    "\n",
    "SWBM_fig.add_trace(go.Scatter(x= df['index'], y=df['SWBM_MF_Corridor'],\n",
    "                    mode='markers',  \n",
    "                    marker_color='rgb(160,82,45)',     \n",
    "                    name='Meridian Freeway Cor.'))\n",
    "\n",
    "SWBM_fig.add_trace(go.Scatter(x= df['index'], y=df['SWBM_S_Meridian'],\n",
    "                    mode='markers',\n",
    "                    marker_color='rgb(210,105,30)',     \n",
    "                    name='South Meridian'))\n",
    "\n",
    "SWBM_fig.add_trace(go.Scatter(x= df['index'], y=df['SWBM_SW_Boise'],\n",
    "                    mode='markers',\n",
    "                    marker_color='rgb(218,165,32)',     \n",
    "                    name='Southwest Boise'))\n",
    "\n",
    "\n",
    "\n",
    "\n",
    "#################### Reference line\n",
    "\n",
    "\n",
    "SWBM_fig.add_trace(go.Scatter(x= df['index'] , y=df['ref_line'],\n",
    "                    mode = 'lines',          \n",
    "                    line = dict(color='Black', width=1, dash='dot'),          \n",
    "                    name='>0.3 Moderate Linear Relationship'))\n",
    "\n",
    "#################### Layout Title and Axis stuff\n",
    "\n",
    "SWBM_fig.update_layout(\n",
    "    title=go.layout.Title(\n",
    "        text=\"<b>Correlation Coefficients for Southwest Boise-Meridian and Associated Neighborhoods<b>\",\n",
    "        font = dict( \n",
    "            family = 'Times New Roman'),\n",
    "        xref=\"paper\",\n",
    "        x=.5\n",
    "    ),\n",
    "    yaxis=go.layout.YAxis(\n",
    "        title=go.layout.yaxis.Title(\n",
    "            text=\"<b>Correlation Coefficient<b>\",\n",
    "            font=dict(\n",
    "                family=\"Times New Roman\",\n",
    "                size=16,\n",
    "#                color=\"#7f7f7f\"\n",
    "            )\n",
    "        )\n",
    "    ),\n",
    "    xaxis=go.layout.XAxis(\n",
    "        type = 'category',\n",
    "        title=go.layout.xaxis.Title(\n",
    "            text=\"<b>Feature Key<b>\",\n",
    "            font=dict(\n",
    "                family=\"Times New Roman\",\n",
    "                size=16,\n",
    "#                color=\"#7f7f7f\"\n",
    "            )\n",
    "        )\n",
    "    ))\n",
    "\n",
    "\n",
    "SWBM_fig.write_image(\"images/SWBM_fig.jpg\")\n",
    "SWBM_fig.show()"
   ]
  },
  {
   "cell_type": "markdown",
   "metadata": {},
   "source": [
    "# Combine into a 3x3 grid"
   ]
  },
  {
   "cell_type": "code",
   "execution_count": null,
   "metadata": {},
   "outputs": [],
   "source": [
    "# nGrid = make_subplots(rows = 2, cols = 1)\n",
    "\n",
    "# nGrid.append_trace(WB_fig, row = 1, col = 1)\n",
    "# nGrid.append_trace(BB_fig, row = 2, col = 1)\n",
    "\n",
    "# nGrid.update_layout(height=600, width=600, title_text=\"Stacked subplots\")\n",
    "\n",
    "# nGrid.show()\n",
    "\n",
    "NGrid = go.Figure()\n",
    "\n",
    "nGrid.add_traces([WB_fig, BB_fig])\n",
    "\n",
    "nGrid.layout.update(BB_fig.layout)\n",
    "nGrid.layout.update(WB_fig.layout)\n",
    "\n",
    "fig.show()"
   ]
  },
  {
   "cell_type": "code",
   "execution_count": null,
   "metadata": {},
   "outputs": [],
   "source": [
    "WB_fig"
   ]
  },
  {
   "cell_type": "code",
   "execution_count": null,
   "metadata": {},
   "outputs": [],
   "source": []
  },
  {
   "cell_type": "code",
   "execution_count": null,
   "metadata": {},
   "outputs": [],
   "source": []
  },
  {
   "cell_type": "code",
   "execution_count": null,
   "metadata": {},
   "outputs": [],
   "source": []
  }
 ],
 "metadata": {
  "kernelspec": {
   "display_name": "Python 3",
   "language": "python",
   "name": "python3"
  },
  "language_info": {
   "codemirror_mode": {
    "name": "ipython",
    "version": 3
   },
   "file_extension": ".py",
   "mimetype": "text/x-python",
   "name": "python",
   "nbconvert_exporter": "python",
   "pygments_lexer": "ipython3",
   "version": "3.7.3"
  }
 },
 "nbformat": 4,
 "nbformat_minor": 2
}
