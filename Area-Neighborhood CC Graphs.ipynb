{
 "cells": [
  {
   "cell_type": "code",
   "execution_count": 1,
   "metadata": {},
   "outputs": [],
   "source": [
    "import pandas as pd\n",
    "import numpy as np\n",
    "import plotly.express as px\n",
    "from plotly.subplots import make_subplots\n",
    "import plotly.graph_objects as go\n",
    "import xlrd\n",
    "import os\n",
    "import psutil\n",
    "import sys\n",
    "np.set_printoptions(threshold=np.inf)"
   ]
  },
  {
   "cell_type": "code",
   "execution_count": null,
   "metadata": {},
   "outputs": [],
   "source": [
    "#'W BOISE' : 'NORTH CENTRAL BENCH', 'WEST BOISE', 'WEST BOISE FREEWAY CORRIDOR'\n",
    "\n",
    "#'BOISE BENCH' : 'CENTRAL BOISE BENCH', 'NORTH CENTRAL BENCH',  'BOISE BENCH FREEWAY CORRIDOR', \n",
    "#                'PARK & UNIVERSITY WATERFRONT'\n",
    "\n",
    "#'W BOISE-MERIDIAN' : 'WEST BOISE', 'NORTHEAST MERIDIAN', 'WEST BOISE FREEWAY CORRIDOR', 'NORTH CENTRAL BENCH',\n",
    "#                      'GARDEN CITY CHINDEN CORRIDOR', 'MERIDIAN FREEWAY CORRIDOR'\n",
    "\n",
    "#'NORTH BOISE' : 'OLD NORTH BOISE', 'BOISE FOOTHILLS', 'NEW NORTH BOISE','DOWNTOWN BOISE', 'WARM SPRINGS',\n",
    "#                'PARK & UNIVERSITY WATERFRONT'\n",
    "\n",
    "#'SE BOISE' : 'NEW SOUTHEAST BOISE', 'SOUTHEAST BOISE INFILL','EAST BOISE WATERFRONT', 'OREGON TRAIL', \n",
    "#              'PARK & UNIVERSITY WATERFRONT', 'SOUTH BOISE DESERT'\n",
    "\n",
    "#'NW BOISE-GARDEN CITY' : 'NEW NORTH BOISE', 'NORTHWEST BOISE', 'GARDEN CITY WATERFRONT', 'BOISE FOOTHILLS',\n",
    "#                         'GARDEN CITY CHINDEN CORRIDOR']\n",
    "\n",
    "#'NE BOISE' : 'BOISE FOOTHILLS', 'WARM SPRINGS', 'EAST BOISE WATERFRONT', 'BARBER & HARRIS RANCH'\n",
    "\n",
    "#'SW BOISE' : 'WEST BOISE FREEWAY CORRIDOR', 'AIRPORT', 'BOISE BENCH FREEWAY CORRIDOR', 'SOUTH BOISE DESERT',\n",
    "#              'SOUTHWEST BOISE'\n",
    "\n",
    "#'SW BOISE-MERIDIAN': 'WEST BOISE FREEWAY CORRIDOR', 'MERIDIAN FREEWAY CORRIDOR', 'SOUTH MERIDIAN', 'SOUTHWEST BOISE'\n",
    "\n",
    "df = pd.read_pickle('testing.pkl')\n",
    "#df.info()\n",
    "df = df[df['Area'] == \"NW BOISE-GARDEN CITY\"]\n",
    "df.Neighborhood.unique()\n",
    "#df.Area.unique()\n",
    "#df.head(5)"
   ]
  },
  {
   "cell_type": "markdown",
   "metadata": {},
   "source": [
    "# Area Correlation Coefficient Comparison"
   ]
  },
  {
   "cell_type": "code",
   "execution_count": 20,
   "metadata": {},
   "outputs": [
    {
     "data": {
      "text/html": [
       "<div>\n",
       "<style scoped>\n",
       "    .dataframe tbody tr th:only-of-type {\n",
       "        vertical-align: middle;\n",
       "    }\n",
       "\n",
       "    .dataframe tbody tr th {\n",
       "        vertical-align: top;\n",
       "    }\n",
       "\n",
       "    .dataframe thead th {\n",
       "        text-align: right;\n",
       "    }\n",
       "</style>\n",
       "<table border=\"1\" class=\"dataframe\">\n",
       "  <thead>\n",
       "    <tr style=\"text-align: right;\">\n",
       "      <th></th>\n",
       "      <th>index</th>\n",
       "      <th>NW_Boise_GC</th>\n",
       "      <th>B_Bench</th>\n",
       "      <th>SE_Boise</th>\n",
       "      <th>N_Boise</th>\n",
       "      <th>NE_Boise</th>\n",
       "      <th>W_Boise</th>\n",
       "      <th>SW_Boise_M</th>\n",
       "      <th>W_Boise_M</th>\n",
       "      <th>SW_Boise</th>\n",
       "    </tr>\n",
       "  </thead>\n",
       "  <tbody>\n",
       "    <tr>\n",
       "      <th>0</th>\n",
       "      <td>TAV_Ch</td>\n",
       "      <td>1.000000</td>\n",
       "      <td>1.000000</td>\n",
       "      <td>1.000000</td>\n",
       "      <td>1.000000</td>\n",
       "      <td>1.000000</td>\n",
       "      <td>1.000000</td>\n",
       "      <td>1.000000</td>\n",
       "      <td>1.000000</td>\n",
       "      <td>1.000000</td>\n",
       "    </tr>\n",
       "    <tr>\n",
       "      <th>1</th>\n",
       "      <td>Arts, Design, Entertainment, Sports, And Media...</td>\n",
       "      <td>0.205122</td>\n",
       "      <td>0.322296</td>\n",
       "      <td>0.151652</td>\n",
       "      <td>0.145686</td>\n",
       "      <td>NaN</td>\n",
       "      <td>0.295192</td>\n",
       "      <td>0.150496</td>\n",
       "      <td>0.172005</td>\n",
       "      <td>0.220358</td>\n",
       "    </tr>\n",
       "    <tr>\n",
       "      <th>2</th>\n",
       "      <td>Building And Grounds Cleaning And Maintenance ...</td>\n",
       "      <td>0.202024</td>\n",
       "      <td>0.297780</td>\n",
       "      <td>0.173484</td>\n",
       "      <td>0.161233</td>\n",
       "      <td>0.031920</td>\n",
       "      <td>0.304118</td>\n",
       "      <td>0.198560</td>\n",
       "      <td>0.190496</td>\n",
       "      <td>0.210010</td>\n",
       "    </tr>\n",
       "    <tr>\n",
       "      <th>3</th>\n",
       "      <td>Food Preparation And Serving Related Occupations</td>\n",
       "      <td>0.155807</td>\n",
       "      <td>0.262860</td>\n",
       "      <td>NaN</td>\n",
       "      <td>0.142039</td>\n",
       "      <td>0.026809</td>\n",
       "      <td>NaN</td>\n",
       "      <td>0.160731</td>\n",
       "      <td>0.168292</td>\n",
       "      <td>0.178493</td>\n",
       "    </tr>\n",
       "    <tr>\n",
       "      <th>4</th>\n",
       "      <td>Installation, Maintenance, And Repair Occupations</td>\n",
       "      <td>NaN</td>\n",
       "      <td>NaN</td>\n",
       "      <td>NaN</td>\n",
       "      <td>NaN</td>\n",
       "      <td>0.023058</td>\n",
       "      <td>NaN</td>\n",
       "      <td>NaN</td>\n",
       "      <td>NaN</td>\n",
       "      <td>NaN</td>\n",
       "    </tr>\n",
       "    <tr>\n",
       "      <th>5</th>\n",
       "      <td>Management Occupations</td>\n",
       "      <td>0.202974</td>\n",
       "      <td>0.296489</td>\n",
       "      <td>0.157372</td>\n",
       "      <td>0.161072</td>\n",
       "      <td>0.028292</td>\n",
       "      <td>0.279548</td>\n",
       "      <td>0.156382</td>\n",
       "      <td>0.187270</td>\n",
       "      <td>NaN</td>\n",
       "    </tr>\n",
       "    <tr>\n",
       "      <th>6</th>\n",
       "      <td>Production Occupations</td>\n",
       "      <td>0.171633</td>\n",
       "      <td>0.272514</td>\n",
       "      <td>0.137178</td>\n",
       "      <td>NaN</td>\n",
       "      <td>0.029265</td>\n",
       "      <td>0.258399</td>\n",
       "      <td>0.147523</td>\n",
       "      <td>0.169168</td>\n",
       "      <td>0.186179</td>\n",
       "    </tr>\n",
       "    <tr>\n",
       "      <th>7</th>\n",
       "      <td>Sales And Related Occupations</td>\n",
       "      <td>0.207232</td>\n",
       "      <td>0.336855</td>\n",
       "      <td>0.169741</td>\n",
       "      <td>0.177855</td>\n",
       "      <td>0.031064</td>\n",
       "      <td>0.306431</td>\n",
       "      <td>0.186115</td>\n",
       "      <td>0.193440</td>\n",
       "      <td>0.247814</td>\n",
       "    </tr>\n",
       "    <tr>\n",
       "      <th>8</th>\n",
       "      <td>Transportation And Material Moving Occupations</td>\n",
       "      <td>0.192655</td>\n",
       "      <td>0.312932</td>\n",
       "      <td>0.146978</td>\n",
       "      <td>0.167256</td>\n",
       "      <td>0.024673</td>\n",
       "      <td>0.275292</td>\n",
       "      <td>0.162169</td>\n",
       "      <td>0.188961</td>\n",
       "      <td>0.194388</td>\n",
       "    </tr>\n",
       "    <tr>\n",
       "      <th>9</th>\n",
       "      <td>(70000.0, 100000.0]</td>\n",
       "      <td>NaN</td>\n",
       "      <td>NaN</td>\n",
       "      <td>0.142206</td>\n",
       "      <td>0.142631</td>\n",
       "      <td>NaN</td>\n",
       "      <td>0.230002</td>\n",
       "      <td>NaN</td>\n",
       "      <td>NaN</td>\n",
       "      <td>0.169268</td>\n",
       "    </tr>\n",
       "    <tr>\n",
       "      <th>10</th>\n",
       "      <td>Total_House_Change</td>\n",
       "      <td>0.210065</td>\n",
       "      <td>0.308301</td>\n",
       "      <td>0.177842</td>\n",
       "      <td>0.198513</td>\n",
       "      <td>0.028786</td>\n",
       "      <td>0.283742</td>\n",
       "      <td>0.147697</td>\n",
       "      <td>0.196804</td>\n",
       "      <td>0.198978</td>\n",
       "    </tr>\n",
       "    <tr>\n",
       "      <th>11</th>\n",
       "      <td>Total_Pop_Change</td>\n",
       "      <td>0.198068</td>\n",
       "      <td>0.309162</td>\n",
       "      <td>0.173615</td>\n",
       "      <td>0.205515</td>\n",
       "      <td>0.031775</td>\n",
       "      <td>0.279665</td>\n",
       "      <td>0.156102</td>\n",
       "      <td>0.192057</td>\n",
       "      <td>0.192903</td>\n",
       "    </tr>\n",
       "    <tr>\n",
       "      <th>12</th>\n",
       "      <td>Total_Emp_Change</td>\n",
       "      <td>0.219423</td>\n",
       "      <td>0.341163</td>\n",
       "      <td>0.178943</td>\n",
       "      <td>0.175049</td>\n",
       "      <td>0.035173</td>\n",
       "      <td>0.316577</td>\n",
       "      <td>0.187518</td>\n",
       "      <td>0.215725</td>\n",
       "      <td>0.215771</td>\n",
       "    </tr>\n",
       "  </tbody>\n",
       "</table>\n",
       "</div>"
      ],
      "text/plain": [
       "                                                index  NW_Boise_GC   B_Bench  \\\n",
       "0                                              TAV_Ch     1.000000  1.000000   \n",
       "1   Arts, Design, Entertainment, Sports, And Media...     0.205122  0.322296   \n",
       "2   Building And Grounds Cleaning And Maintenance ...     0.202024  0.297780   \n",
       "3    Food Preparation And Serving Related Occupations     0.155807  0.262860   \n",
       "4   Installation, Maintenance, And Repair Occupations          NaN       NaN   \n",
       "5                              Management Occupations     0.202974  0.296489   \n",
       "6                              Production Occupations     0.171633  0.272514   \n",
       "7                       Sales And Related Occupations     0.207232  0.336855   \n",
       "8      Transportation And Material Moving Occupations     0.192655  0.312932   \n",
       "9                                 (70000.0, 100000.0]          NaN       NaN   \n",
       "10                                 Total_House_Change     0.210065  0.308301   \n",
       "11                                   Total_Pop_Change     0.198068  0.309162   \n",
       "12                                   Total_Emp_Change     0.219423  0.341163   \n",
       "\n",
       "    SE_Boise   N_Boise  NE_Boise   W_Boise  SW_Boise_M  W_Boise_M  SW_Boise  \n",
       "0   1.000000  1.000000  1.000000  1.000000    1.000000   1.000000  1.000000  \n",
       "1   0.151652  0.145686       NaN  0.295192    0.150496   0.172005  0.220358  \n",
       "2   0.173484  0.161233  0.031920  0.304118    0.198560   0.190496  0.210010  \n",
       "3        NaN  0.142039  0.026809       NaN    0.160731   0.168292  0.178493  \n",
       "4        NaN       NaN  0.023058       NaN         NaN        NaN       NaN  \n",
       "5   0.157372  0.161072  0.028292  0.279548    0.156382   0.187270       NaN  \n",
       "6   0.137178       NaN  0.029265  0.258399    0.147523   0.169168  0.186179  \n",
       "7   0.169741  0.177855  0.031064  0.306431    0.186115   0.193440  0.247814  \n",
       "8   0.146978  0.167256  0.024673  0.275292    0.162169   0.188961  0.194388  \n",
       "9   0.142206  0.142631       NaN  0.230002         NaN        NaN  0.169268  \n",
       "10  0.177842  0.198513  0.028786  0.283742    0.147697   0.196804  0.198978  \n",
       "11  0.173615  0.205515  0.031775  0.279665    0.156102   0.192057  0.192903  \n",
       "12  0.178943  0.175049  0.035173  0.316577    0.187518   0.215725  0.215771  "
      ]
     },
     "execution_count": 20,
     "metadata": {},
     "output_type": "execute_result"
    }
   ],
   "source": [
    "df = pd.read_pickle('a-Coeff-compare.pkl')\n",
    "\n",
    "#this will drop rows that have less than 2 values (name & @ least 1 value)\n",
    "df = df.dropna(thresh = 2)\n",
    "df = df.reset_index(drop = True)\n",
    "df"
   ]
  },
  {
   "cell_type": "code",
   "execution_count": 43,
   "metadata": {},
   "outputs": [
    {
     "data": {
      "application/vnd.plotly.v1+json": {
       "config": {
        "plotlyServerURL": "https://plot.ly"
       },
       "data": [
        {
         "marker": {
          "color": "rgb(220,20,60)",
          "size": 10,
          "symbol": "square-open"
         },
         "mode": "markers",
         "name": "NW Boise",
         "type": "scatter",
         "x": [
          "Arts, Design, Entertainment, Sports, And Media Occupations",
          "Building And Grounds Cleaning And Maintenance Occupations",
          "Food Preparation And Serving Related Occupations",
          "Installation, Maintenance, And Repair Occupations",
          "Management Occupations",
          "Production Occupations",
          "Sales And Related Occupations",
          "Transportation And Material Moving Occupations",
          "(70000.0, 100000.0]",
          "Total_House_Change",
          "Total_Pop_Change",
          "Total_Emp_Change"
         ],
         "y": [
          0.20512159087241913,
          0.20202415393377984,
          0.15580723101335364,
          null,
          0.20297371252017204,
          0.17163317062771433,
          0.20723197604888455,
          0.19265518844715313,
          null,
          0.21006497116471967,
          0.1980678101943947,
          0.2194234637811191
         ]
        },
        {
         "marker": {
          "color": "rgb(0,128,128)",
          "size": 10,
          "symbol": "star-diamond-open"
         },
         "mode": "markers",
         "name": "Boise Bench",
         "type": "scatter",
         "x": [
          "Arts, Design, Entertainment, Sports, And Media Occupations",
          "Building And Grounds Cleaning And Maintenance Occupations",
          "Food Preparation And Serving Related Occupations",
          "Installation, Maintenance, And Repair Occupations",
          "Management Occupations",
          "Production Occupations",
          "Sales And Related Occupations",
          "Transportation And Material Moving Occupations",
          "(70000.0, 100000.0]",
          "Total_House_Change",
          "Total_Pop_Change",
          "Total_Emp_Change"
         ],
         "y": [
          0.32229565012681455,
          0.2977798318315564,
          0.26285977724726195,
          null,
          0.2964887347404128,
          0.272514238926972,
          0.3368547084586827,
          0.3129320707425859,
          null,
          0.3083006612882456,
          0.3091620597574776,
          0.34116317866143864
         ]
        },
        {
         "marker": {
          "color": "rgb(0,0,128)",
          "size": 10,
          "symbol": "pentagon-open"
         },
         "mode": "markers",
         "name": "SE Boise",
         "type": "scatter",
         "x": [
          "Arts, Design, Entertainment, Sports, And Media Occupations",
          "Building And Grounds Cleaning And Maintenance Occupations",
          "Food Preparation And Serving Related Occupations",
          "Installation, Maintenance, And Repair Occupations",
          "Management Occupations",
          "Production Occupations",
          "Sales And Related Occupations",
          "Transportation And Material Moving Occupations",
          "(70000.0, 100000.0]",
          "Total_House_Change",
          "Total_Pop_Change",
          "Total_Emp_Change"
         ],
         "y": [
          0.15165217623671404,
          0.1734840864835354,
          null,
          null,
          0.15737235712812978,
          0.1371784809545204,
          0.1697408477614244,
          0.14697773768881994,
          0.14220614099515813,
          0.17784203090063153,
          0.17361536502233788,
          0.1789425947447074
         ]
        },
        {
         "marker": {
          "color": "rgb(107,142,35)",
          "size": 10,
          "symbol": "star-open"
         },
         "mode": "markers",
         "name": "N Boise",
         "type": "scatter",
         "x": [
          "Arts, Design, Entertainment, Sports, And Media Occupations",
          "Building And Grounds Cleaning And Maintenance Occupations",
          "Food Preparation And Serving Related Occupations",
          "Installation, Maintenance, And Repair Occupations",
          "Management Occupations",
          "Production Occupations",
          "Sales And Related Occupations",
          "Transportation And Material Moving Occupations",
          "(70000.0, 100000.0]",
          "Total_House_Change",
          "Total_Pop_Change",
          "Total_Emp_Change"
         ],
         "y": [
          0.14568582626853804,
          0.16123274910358384,
          0.14203870429727855,
          null,
          0.16107155863138956,
          null,
          0.1778548012365404,
          0.1672556839217225,
          0.14263095766200048,
          0.19851334669155937,
          0.20551528108839293,
          0.1750492026773702
         ]
        },
        {
         "marker": {
          "color": "rgb(199,21,133)",
          "size": 10,
          "symbol": "bowtie-open"
         },
         "mode": "markers",
         "name": "NE Boise",
         "type": "scatter",
         "x": [
          "Arts, Design, Entertainment, Sports, And Media Occupations",
          "Building And Grounds Cleaning And Maintenance Occupations",
          "Food Preparation And Serving Related Occupations",
          "Installation, Maintenance, And Repair Occupations",
          "Management Occupations",
          "Production Occupations",
          "Sales And Related Occupations",
          "Transportation And Material Moving Occupations",
          "(70000.0, 100000.0]",
          "Total_House_Change",
          "Total_Pop_Change",
          "Total_Emp_Change"
         ],
         "y": [
          null,
          0.03192043949798312,
          0.026809437454825388,
          0.023057916262704235,
          0.028292428886185668,
          0.029265182343593755,
          0.031063975572862466,
          0.024672545434538812,
          null,
          0.02878594374273333,
          0.031774543826914844,
          0.03517291426907938
         ]
        },
        {
         "marker": {
          "color": "rgb(47,79,79)",
          "size": 10,
          "symbol": "circle-cross-open"
         },
         "mode": "markers",
         "name": "W Boise",
         "type": "scatter",
         "x": [
          "Arts, Design, Entertainment, Sports, And Media Occupations",
          "Building And Grounds Cleaning And Maintenance Occupations",
          "Food Preparation And Serving Related Occupations",
          "Installation, Maintenance, And Repair Occupations",
          "Management Occupations",
          "Production Occupations",
          "Sales And Related Occupations",
          "Transportation And Material Moving Occupations",
          "(70000.0, 100000.0]",
          "Total_House_Change",
          "Total_Pop_Change",
          "Total_Emp_Change"
         ],
         "y": [
          0.29519200186127226,
          0.30411753621650506,
          null,
          null,
          0.27954755117672947,
          0.2583987627632459,
          0.30643098999833923,
          0.27529209359889817,
          0.23000235919516213,
          0.28374230141513573,
          0.27966548526962093,
          0.316576752139436
         ]
        },
        {
         "marker": {
          "color": "rgb(139,69,19)",
          "size": 10,
          "symbol": "triangle-nw-open"
         },
         "mode": "markers",
         "name": "SW Boise M",
         "type": "scatter",
         "x": [
          "Arts, Design, Entertainment, Sports, And Media Occupations",
          "Building And Grounds Cleaning And Maintenance Occupations",
          "Food Preparation And Serving Related Occupations",
          "Installation, Maintenance, And Repair Occupations",
          "Management Occupations",
          "Production Occupations",
          "Sales And Related Occupations",
          "Transportation And Material Moving Occupations",
          "(70000.0, 100000.0]",
          "Total_House_Change",
          "Total_Pop_Change",
          "Total_Emp_Change"
         ],
         "y": [
          0.1504959753661697,
          0.19855952481727007,
          0.16073145051703916,
          null,
          0.15638199418159174,
          0.14752294027571,
          0.1861149105898015,
          0.1621694067401815,
          null,
          0.1476974534956342,
          0.15610206178053995,
          0.18751794041229808
         ]
        },
        {
         "marker": {
          "color": "rgb(255,140,0)",
          "size": 10,
          "symbol": "hourglass-open"
         },
         "mode": "markers",
         "name": "W Boise-Meridian",
         "type": "scatter",
         "x": [
          "Arts, Design, Entertainment, Sports, And Media Occupations",
          "Building And Grounds Cleaning And Maintenance Occupations",
          "Food Preparation And Serving Related Occupations",
          "Installation, Maintenance, And Repair Occupations",
          "Management Occupations",
          "Production Occupations",
          "Sales And Related Occupations",
          "Transportation And Material Moving Occupations",
          "(70000.0, 100000.0]",
          "Total_House_Change",
          "Total_Pop_Change",
          "Total_Emp_Change"
         ],
         "y": [
          0.17200512497700174,
          0.1904964859912985,
          0.1682920275536081,
          null,
          0.1872697109980509,
          0.16916813917865597,
          0.19343996709316957,
          0.1889609160179004,
          null,
          0.19680433092148597,
          0.19205655325395457,
          0.21572484830063943
         ]
        },
        {
         "marker": {
          "color": "rgb(128,0,128)",
          "size": 10,
          "symbol": "diamond-tall-open"
         },
         "mode": "markers",
         "name": "SW Boise",
         "type": "scatter",
         "x": [
          "Arts, Design, Entertainment, Sports, And Media Occupations",
          "Building And Grounds Cleaning And Maintenance Occupations",
          "Food Preparation And Serving Related Occupations",
          "Installation, Maintenance, And Repair Occupations",
          "Management Occupations",
          "Production Occupations",
          "Sales And Related Occupations",
          "Transportation And Material Moving Occupations",
          "(70000.0, 100000.0]",
          "Total_House_Change",
          "Total_Pop_Change",
          "Total_Emp_Change"
         ],
         "y": [
          0.22035769938390118,
          0.2100096397353598,
          0.17849278215008724,
          null,
          null,
          0.1861785956967291,
          0.2478144672058495,
          0.19438792897553028,
          0.1692682959775328,
          0.1989783959986223,
          0.1929026311951265,
          0.21577060714910704
         ]
        }
       ],
       "layout": {
        "shapes": [
         {
          "line": {
           "color": "Grey",
           "dash": "dashdot",
           "width": 1
          },
          "type": "line",
          "x0": -1,
          "x1": 12,
          "y0": 0.3,
          "y1": 0.3
         }
        ],
        "template": {
         "data": {
          "bar": [
           {
            "error_x": {
             "color": "#2a3f5f"
            },
            "error_y": {
             "color": "#2a3f5f"
            },
            "marker": {
             "line": {
              "color": "#E5ECF6",
              "width": 0.5
             }
            },
            "type": "bar"
           }
          ],
          "barpolar": [
           {
            "marker": {
             "line": {
              "color": "#E5ECF6",
              "width": 0.5
             }
            },
            "type": "barpolar"
           }
          ],
          "carpet": [
           {
            "aaxis": {
             "endlinecolor": "#2a3f5f",
             "gridcolor": "white",
             "linecolor": "white",
             "minorgridcolor": "white",
             "startlinecolor": "#2a3f5f"
            },
            "baxis": {
             "endlinecolor": "#2a3f5f",
             "gridcolor": "white",
             "linecolor": "white",
             "minorgridcolor": "white",
             "startlinecolor": "#2a3f5f"
            },
            "type": "carpet"
           }
          ],
          "choropleth": [
           {
            "colorbar": {
             "outlinewidth": 0,
             "ticks": ""
            },
            "type": "choropleth"
           }
          ],
          "contour": [
           {
            "colorbar": {
             "outlinewidth": 0,
             "ticks": ""
            },
            "colorscale": [
             [
              0,
              "#0d0887"
             ],
             [
              0.1111111111111111,
              "#46039f"
             ],
             [
              0.2222222222222222,
              "#7201a8"
             ],
             [
              0.3333333333333333,
              "#9c179e"
             ],
             [
              0.4444444444444444,
              "#bd3786"
             ],
             [
              0.5555555555555556,
              "#d8576b"
             ],
             [
              0.6666666666666666,
              "#ed7953"
             ],
             [
              0.7777777777777778,
              "#fb9f3a"
             ],
             [
              0.8888888888888888,
              "#fdca26"
             ],
             [
              1,
              "#f0f921"
             ]
            ],
            "type": "contour"
           }
          ],
          "contourcarpet": [
           {
            "colorbar": {
             "outlinewidth": 0,
             "ticks": ""
            },
            "type": "contourcarpet"
           }
          ],
          "heatmap": [
           {
            "colorbar": {
             "outlinewidth": 0,
             "ticks": ""
            },
            "colorscale": [
             [
              0,
              "#0d0887"
             ],
             [
              0.1111111111111111,
              "#46039f"
             ],
             [
              0.2222222222222222,
              "#7201a8"
             ],
             [
              0.3333333333333333,
              "#9c179e"
             ],
             [
              0.4444444444444444,
              "#bd3786"
             ],
             [
              0.5555555555555556,
              "#d8576b"
             ],
             [
              0.6666666666666666,
              "#ed7953"
             ],
             [
              0.7777777777777778,
              "#fb9f3a"
             ],
             [
              0.8888888888888888,
              "#fdca26"
             ],
             [
              1,
              "#f0f921"
             ]
            ],
            "type": "heatmap"
           }
          ],
          "heatmapgl": [
           {
            "colorbar": {
             "outlinewidth": 0,
             "ticks": ""
            },
            "colorscale": [
             [
              0,
              "#0d0887"
             ],
             [
              0.1111111111111111,
              "#46039f"
             ],
             [
              0.2222222222222222,
              "#7201a8"
             ],
             [
              0.3333333333333333,
              "#9c179e"
             ],
             [
              0.4444444444444444,
              "#bd3786"
             ],
             [
              0.5555555555555556,
              "#d8576b"
             ],
             [
              0.6666666666666666,
              "#ed7953"
             ],
             [
              0.7777777777777778,
              "#fb9f3a"
             ],
             [
              0.8888888888888888,
              "#fdca26"
             ],
             [
              1,
              "#f0f921"
             ]
            ],
            "type": "heatmapgl"
           }
          ],
          "histogram": [
           {
            "marker": {
             "colorbar": {
              "outlinewidth": 0,
              "ticks": ""
             }
            },
            "type": "histogram"
           }
          ],
          "histogram2d": [
           {
            "colorbar": {
             "outlinewidth": 0,
             "ticks": ""
            },
            "colorscale": [
             [
              0,
              "#0d0887"
             ],
             [
              0.1111111111111111,
              "#46039f"
             ],
             [
              0.2222222222222222,
              "#7201a8"
             ],
             [
              0.3333333333333333,
              "#9c179e"
             ],
             [
              0.4444444444444444,
              "#bd3786"
             ],
             [
              0.5555555555555556,
              "#d8576b"
             ],
             [
              0.6666666666666666,
              "#ed7953"
             ],
             [
              0.7777777777777778,
              "#fb9f3a"
             ],
             [
              0.8888888888888888,
              "#fdca26"
             ],
             [
              1,
              "#f0f921"
             ]
            ],
            "type": "histogram2d"
           }
          ],
          "histogram2dcontour": [
           {
            "colorbar": {
             "outlinewidth": 0,
             "ticks": ""
            },
            "colorscale": [
             [
              0,
              "#0d0887"
             ],
             [
              0.1111111111111111,
              "#46039f"
             ],
             [
              0.2222222222222222,
              "#7201a8"
             ],
             [
              0.3333333333333333,
              "#9c179e"
             ],
             [
              0.4444444444444444,
              "#bd3786"
             ],
             [
              0.5555555555555556,
              "#d8576b"
             ],
             [
              0.6666666666666666,
              "#ed7953"
             ],
             [
              0.7777777777777778,
              "#fb9f3a"
             ],
             [
              0.8888888888888888,
              "#fdca26"
             ],
             [
              1,
              "#f0f921"
             ]
            ],
            "type": "histogram2dcontour"
           }
          ],
          "mesh3d": [
           {
            "colorbar": {
             "outlinewidth": 0,
             "ticks": ""
            },
            "type": "mesh3d"
           }
          ],
          "parcoords": [
           {
            "line": {
             "colorbar": {
              "outlinewidth": 0,
              "ticks": ""
             }
            },
            "type": "parcoords"
           }
          ],
          "scatter": [
           {
            "marker": {
             "colorbar": {
              "outlinewidth": 0,
              "ticks": ""
             }
            },
            "type": "scatter"
           }
          ],
          "scatter3d": [
           {
            "line": {
             "colorbar": {
              "outlinewidth": 0,
              "ticks": ""
             }
            },
            "marker": {
             "colorbar": {
              "outlinewidth": 0,
              "ticks": ""
             }
            },
            "type": "scatter3d"
           }
          ],
          "scattercarpet": [
           {
            "marker": {
             "colorbar": {
              "outlinewidth": 0,
              "ticks": ""
             }
            },
            "type": "scattercarpet"
           }
          ],
          "scattergeo": [
           {
            "marker": {
             "colorbar": {
              "outlinewidth": 0,
              "ticks": ""
             }
            },
            "type": "scattergeo"
           }
          ],
          "scattergl": [
           {
            "marker": {
             "colorbar": {
              "outlinewidth": 0,
              "ticks": ""
             }
            },
            "type": "scattergl"
           }
          ],
          "scattermapbox": [
           {
            "marker": {
             "colorbar": {
              "outlinewidth": 0,
              "ticks": ""
             }
            },
            "type": "scattermapbox"
           }
          ],
          "scatterpolar": [
           {
            "marker": {
             "colorbar": {
              "outlinewidth": 0,
              "ticks": ""
             }
            },
            "type": "scatterpolar"
           }
          ],
          "scatterpolargl": [
           {
            "marker": {
             "colorbar": {
              "outlinewidth": 0,
              "ticks": ""
             }
            },
            "type": "scatterpolargl"
           }
          ],
          "scatterternary": [
           {
            "marker": {
             "colorbar": {
              "outlinewidth": 0,
              "ticks": ""
             }
            },
            "type": "scatterternary"
           }
          ],
          "surface": [
           {
            "colorbar": {
             "outlinewidth": 0,
             "ticks": ""
            },
            "colorscale": [
             [
              0,
              "#0d0887"
             ],
             [
              0.1111111111111111,
              "#46039f"
             ],
             [
              0.2222222222222222,
              "#7201a8"
             ],
             [
              0.3333333333333333,
              "#9c179e"
             ],
             [
              0.4444444444444444,
              "#bd3786"
             ],
             [
              0.5555555555555556,
              "#d8576b"
             ],
             [
              0.6666666666666666,
              "#ed7953"
             ],
             [
              0.7777777777777778,
              "#fb9f3a"
             ],
             [
              0.8888888888888888,
              "#fdca26"
             ],
             [
              1,
              "#f0f921"
             ]
            ],
            "type": "surface"
           }
          ],
          "table": [
           {
            "cells": {
             "fill": {
              "color": "#EBF0F8"
             },
             "line": {
              "color": "white"
             }
            },
            "header": {
             "fill": {
              "color": "#C8D4E3"
             },
             "line": {
              "color": "white"
             }
            },
            "type": "table"
           }
          ]
         },
         "layout": {
          "annotationdefaults": {
           "arrowcolor": "#2a3f5f",
           "arrowhead": 0,
           "arrowwidth": 1
          },
          "colorscale": {
           "diverging": [
            [
             0,
             "#8e0152"
            ],
            [
             0.1,
             "#c51b7d"
            ],
            [
             0.2,
             "#de77ae"
            ],
            [
             0.3,
             "#f1b6da"
            ],
            [
             0.4,
             "#fde0ef"
            ],
            [
             0.5,
             "#f7f7f7"
            ],
            [
             0.6,
             "#e6f5d0"
            ],
            [
             0.7,
             "#b8e186"
            ],
            [
             0.8,
             "#7fbc41"
            ],
            [
             0.9,
             "#4d9221"
            ],
            [
             1,
             "#276419"
            ]
           ],
           "sequential": [
            [
             0,
             "#0d0887"
            ],
            [
             0.1111111111111111,
             "#46039f"
            ],
            [
             0.2222222222222222,
             "#7201a8"
            ],
            [
             0.3333333333333333,
             "#9c179e"
            ],
            [
             0.4444444444444444,
             "#bd3786"
            ],
            [
             0.5555555555555556,
             "#d8576b"
            ],
            [
             0.6666666666666666,
             "#ed7953"
            ],
            [
             0.7777777777777778,
             "#fb9f3a"
            ],
            [
             0.8888888888888888,
             "#fdca26"
            ],
            [
             1,
             "#f0f921"
            ]
           ],
           "sequentialminus": [
            [
             0,
             "#0d0887"
            ],
            [
             0.1111111111111111,
             "#46039f"
            ],
            [
             0.2222222222222222,
             "#7201a8"
            ],
            [
             0.3333333333333333,
             "#9c179e"
            ],
            [
             0.4444444444444444,
             "#bd3786"
            ],
            [
             0.5555555555555556,
             "#d8576b"
            ],
            [
             0.6666666666666666,
             "#ed7953"
            ],
            [
             0.7777777777777778,
             "#fb9f3a"
            ],
            [
             0.8888888888888888,
             "#fdca26"
            ],
            [
             1,
             "#f0f921"
            ]
           ]
          },
          "colorway": [
           "#636efa",
           "#EF553B",
           "#00cc96",
           "#ab63fa",
           "#FFA15A",
           "#19d3f3",
           "#FF6692",
           "#B6E880",
           "#FF97FF",
           "#FECB52"
          ],
          "font": {
           "color": "#2a3f5f"
          },
          "geo": {
           "bgcolor": "white",
           "lakecolor": "white",
           "landcolor": "#E5ECF6",
           "showlakes": true,
           "showland": true,
           "subunitcolor": "white"
          },
          "hoverlabel": {
           "align": "left"
          },
          "hovermode": "closest",
          "mapbox": {
           "style": "light"
          },
          "paper_bgcolor": "white",
          "plot_bgcolor": "#E5ECF6",
          "polar": {
           "angularaxis": {
            "gridcolor": "white",
            "linecolor": "white",
            "ticks": ""
           },
           "bgcolor": "#E5ECF6",
           "radialaxis": {
            "gridcolor": "white",
            "linecolor": "white",
            "ticks": ""
           }
          },
          "scene": {
           "xaxis": {
            "backgroundcolor": "#E5ECF6",
            "gridcolor": "white",
            "gridwidth": 2,
            "linecolor": "white",
            "showbackground": true,
            "ticks": "",
            "zerolinecolor": "white"
           },
           "yaxis": {
            "backgroundcolor": "#E5ECF6",
            "gridcolor": "white",
            "gridwidth": 2,
            "linecolor": "white",
            "showbackground": true,
            "ticks": "",
            "zerolinecolor": "white"
           },
           "zaxis": {
            "backgroundcolor": "#E5ECF6",
            "gridcolor": "white",
            "gridwidth": 2,
            "linecolor": "white",
            "showbackground": true,
            "ticks": "",
            "zerolinecolor": "white"
           }
          },
          "shapedefaults": {
           "line": {
            "color": "#2a3f5f"
           }
          },
          "ternary": {
           "aaxis": {
            "gridcolor": "white",
            "linecolor": "white",
            "ticks": ""
           },
           "baxis": {
            "gridcolor": "white",
            "linecolor": "white",
            "ticks": ""
           },
           "bgcolor": "#E5ECF6",
           "caxis": {
            "gridcolor": "white",
            "linecolor": "white",
            "ticks": ""
           }
          },
          "title": {
           "x": 0.05
          },
          "xaxis": {
           "automargin": true,
           "gridcolor": "white",
           "linecolor": "white",
           "ticks": "",
           "zerolinecolor": "white",
           "zerolinewidth": 2
          },
          "yaxis": {
           "automargin": true,
           "gridcolor": "white",
           "linecolor": "white",
           "ticks": "",
           "zerolinecolor": "white",
           "zerolinewidth": 2
          }
         }
        },
        "title": {
         "font": {
          "family": "Times New Roman"
         },
         "text": "<b>Correlation Coefficients for the MLS Areas of Boise<b>",
         "x": 0.5,
         "xref": "paper"
        },
        "yaxis": {
         "title": {
          "font": {
           "family": "Times New Roman",
           "size": 16
          },
          "text": "<b>Correlation Coefficient<b>"
         }
        }
       }
      },
      "text/html": [
       "<div>\n",
       "        \n",
       "        \n",
       "            <div id=\"0586ff02-f11a-482d-b1e1-d10789a0c223\" class=\"plotly-graph-div\" style=\"height:525px; width:100%;\"></div>\n",
       "            <script type=\"text/javascript\">\n",
       "                require([\"plotly\"], function(Plotly) {\n",
       "                    window.PLOTLYENV=window.PLOTLYENV || {};\n",
       "                    \n",
       "                if (document.getElementById(\"0586ff02-f11a-482d-b1e1-d10789a0c223\")) {\n",
       "                    Plotly.newPlot(\n",
       "                        '0586ff02-f11a-482d-b1e1-d10789a0c223',\n",
       "                        [{\"marker\": {\"color\": \"rgb(220,20,60)\", \"size\": 10, \"symbol\": \"square-open\"}, \"mode\": \"markers\", \"name\": \"NW Boise\", \"type\": \"scatter\", \"x\": [\"Arts, Design, Entertainment, Sports, And Media Occupations\", \"Building And Grounds Cleaning And Maintenance Occupations\", \"Food Preparation And Serving Related Occupations\", \"Installation, Maintenance, And Repair Occupations\", \"Management Occupations\", \"Production Occupations\", \"Sales And Related Occupations\", \"Transportation And Material Moving Occupations\", \"(70000.0, 100000.0]\", \"Total_House_Change\", \"Total_Pop_Change\", \"Total_Emp_Change\"], \"y\": [0.20512159087241913, 0.20202415393377984, 0.15580723101335364, null, 0.20297371252017204, 0.17163317062771433, 0.20723197604888455, 0.19265518844715313, null, 0.21006497116471967, 0.1980678101943947, 0.2194234637811191]}, {\"marker\": {\"color\": \"rgb(0,128,128)\", \"size\": 10, \"symbol\": \"star-diamond-open\"}, \"mode\": \"markers\", \"name\": \"Boise Bench\", \"type\": \"scatter\", \"x\": [\"Arts, Design, Entertainment, Sports, And Media Occupations\", \"Building And Grounds Cleaning And Maintenance Occupations\", \"Food Preparation And Serving Related Occupations\", \"Installation, Maintenance, And Repair Occupations\", \"Management Occupations\", \"Production Occupations\", \"Sales And Related Occupations\", \"Transportation And Material Moving Occupations\", \"(70000.0, 100000.0]\", \"Total_House_Change\", \"Total_Pop_Change\", \"Total_Emp_Change\"], \"y\": [0.32229565012681455, 0.2977798318315564, 0.26285977724726195, null, 0.2964887347404128, 0.272514238926972, 0.3368547084586827, 0.3129320707425859, null, 0.3083006612882456, 0.3091620597574776, 0.34116317866143864]}, {\"marker\": {\"color\": \"rgb(0,0,128)\", \"size\": 10, \"symbol\": \"pentagon-open\"}, \"mode\": \"markers\", \"name\": \"SE Boise\", \"type\": \"scatter\", \"x\": [\"Arts, Design, Entertainment, Sports, And Media Occupations\", \"Building And Grounds Cleaning And Maintenance Occupations\", \"Food Preparation And Serving Related Occupations\", \"Installation, Maintenance, And Repair Occupations\", \"Management Occupations\", \"Production Occupations\", \"Sales And Related Occupations\", \"Transportation And Material Moving Occupations\", \"(70000.0, 100000.0]\", \"Total_House_Change\", \"Total_Pop_Change\", \"Total_Emp_Change\"], \"y\": [0.15165217623671404, 0.1734840864835354, null, null, 0.15737235712812978, 0.1371784809545204, 0.1697408477614244, 0.14697773768881994, 0.14220614099515813, 0.17784203090063153, 0.17361536502233788, 0.1789425947447074]}, {\"marker\": {\"color\": \"rgb(107,142,35)\", \"size\": 10, \"symbol\": \"star-open\"}, \"mode\": \"markers\", \"name\": \"N Boise\", \"type\": \"scatter\", \"x\": [\"Arts, Design, Entertainment, Sports, And Media Occupations\", \"Building And Grounds Cleaning And Maintenance Occupations\", \"Food Preparation And Serving Related Occupations\", \"Installation, Maintenance, And Repair Occupations\", \"Management Occupations\", \"Production Occupations\", \"Sales And Related Occupations\", \"Transportation And Material Moving Occupations\", \"(70000.0, 100000.0]\", \"Total_House_Change\", \"Total_Pop_Change\", \"Total_Emp_Change\"], \"y\": [0.14568582626853804, 0.16123274910358384, 0.14203870429727855, null, 0.16107155863138956, null, 0.1778548012365404, 0.1672556839217225, 0.14263095766200048, 0.19851334669155937, 0.20551528108839293, 0.1750492026773702]}, {\"marker\": {\"color\": \"rgb(199,21,133)\", \"size\": 10, \"symbol\": \"bowtie-open\"}, \"mode\": \"markers\", \"name\": \"NE Boise\", \"type\": \"scatter\", \"x\": [\"Arts, Design, Entertainment, Sports, And Media Occupations\", \"Building And Grounds Cleaning And Maintenance Occupations\", \"Food Preparation And Serving Related Occupations\", \"Installation, Maintenance, And Repair Occupations\", \"Management Occupations\", \"Production Occupations\", \"Sales And Related Occupations\", \"Transportation And Material Moving Occupations\", \"(70000.0, 100000.0]\", \"Total_House_Change\", \"Total_Pop_Change\", \"Total_Emp_Change\"], \"y\": [null, 0.03192043949798312, 0.026809437454825388, 0.023057916262704235, 0.028292428886185668, 0.029265182343593755, 0.031063975572862466, 0.024672545434538812, null, 0.02878594374273333, 0.031774543826914844, 0.03517291426907938]}, {\"marker\": {\"color\": \"rgb(47,79,79)\", \"size\": 10, \"symbol\": \"circle-cross-open\"}, \"mode\": \"markers\", \"name\": \"W Boise\", \"type\": \"scatter\", \"x\": [\"Arts, Design, Entertainment, Sports, And Media Occupations\", \"Building And Grounds Cleaning And Maintenance Occupations\", \"Food Preparation And Serving Related Occupations\", \"Installation, Maintenance, And Repair Occupations\", \"Management Occupations\", \"Production Occupations\", \"Sales And Related Occupations\", \"Transportation And Material Moving Occupations\", \"(70000.0, 100000.0]\", \"Total_House_Change\", \"Total_Pop_Change\", \"Total_Emp_Change\"], \"y\": [0.29519200186127226, 0.30411753621650506, null, null, 0.27954755117672947, 0.2583987627632459, 0.30643098999833923, 0.27529209359889817, 0.23000235919516213, 0.28374230141513573, 0.27966548526962093, 0.316576752139436]}, {\"marker\": {\"color\": \"rgb(139,69,19)\", \"size\": 10, \"symbol\": \"triangle-nw-open\"}, \"mode\": \"markers\", \"name\": \"SW Boise M\", \"type\": \"scatter\", \"x\": [\"Arts, Design, Entertainment, Sports, And Media Occupations\", \"Building And Grounds Cleaning And Maintenance Occupations\", \"Food Preparation And Serving Related Occupations\", \"Installation, Maintenance, And Repair Occupations\", \"Management Occupations\", \"Production Occupations\", \"Sales And Related Occupations\", \"Transportation And Material Moving Occupations\", \"(70000.0, 100000.0]\", \"Total_House_Change\", \"Total_Pop_Change\", \"Total_Emp_Change\"], \"y\": [0.1504959753661697, 0.19855952481727007, 0.16073145051703916, null, 0.15638199418159174, 0.14752294027571, 0.1861149105898015, 0.1621694067401815, null, 0.1476974534956342, 0.15610206178053995, 0.18751794041229808]}, {\"marker\": {\"color\": \"rgb(255,140,0)\", \"size\": 10, \"symbol\": \"hourglass-open\"}, \"mode\": \"markers\", \"name\": \"W Boise-Meridian\", \"type\": \"scatter\", \"x\": [\"Arts, Design, Entertainment, Sports, And Media Occupations\", \"Building And Grounds Cleaning And Maintenance Occupations\", \"Food Preparation And Serving Related Occupations\", \"Installation, Maintenance, And Repair Occupations\", \"Management Occupations\", \"Production Occupations\", \"Sales And Related Occupations\", \"Transportation And Material Moving Occupations\", \"(70000.0, 100000.0]\", \"Total_House_Change\", \"Total_Pop_Change\", \"Total_Emp_Change\"], \"y\": [0.17200512497700174, 0.1904964859912985, 0.1682920275536081, null, 0.1872697109980509, 0.16916813917865597, 0.19343996709316957, 0.1889609160179004, null, 0.19680433092148597, 0.19205655325395457, 0.21572484830063943]}, {\"marker\": {\"color\": \"rgb(128,0,128)\", \"size\": 10, \"symbol\": \"diamond-tall-open\"}, \"mode\": \"markers\", \"name\": \"SW Boise\", \"type\": \"scatter\", \"x\": [\"Arts, Design, Entertainment, Sports, And Media Occupations\", \"Building And Grounds Cleaning And Maintenance Occupations\", \"Food Preparation And Serving Related Occupations\", \"Installation, Maintenance, And Repair Occupations\", \"Management Occupations\", \"Production Occupations\", \"Sales And Related Occupations\", \"Transportation And Material Moving Occupations\", \"(70000.0, 100000.0]\", \"Total_House_Change\", \"Total_Pop_Change\", \"Total_Emp_Change\"], \"y\": [0.22035769938390118, 0.2100096397353598, 0.17849278215008724, null, null, 0.1861785956967291, 0.2478144672058495, 0.19438792897553028, 0.1692682959775328, 0.1989783959986223, 0.1929026311951265, 0.21577060714910704]}],\n",
       "                        {\"shapes\": [{\"line\": {\"color\": \"Grey\", \"dash\": \"dashdot\", \"width\": 1}, \"type\": \"line\", \"x0\": -1, \"x1\": 12, \"y0\": 0.3, \"y1\": 0.3}], \"template\": {\"data\": {\"bar\": [{\"error_x\": {\"color\": \"#2a3f5f\"}, \"error_y\": {\"color\": \"#2a3f5f\"}, \"marker\": {\"line\": {\"color\": \"#E5ECF6\", \"width\": 0.5}}, \"type\": \"bar\"}], \"barpolar\": [{\"marker\": {\"line\": {\"color\": \"#E5ECF6\", \"width\": 0.5}}, \"type\": \"barpolar\"}], \"carpet\": [{\"aaxis\": {\"endlinecolor\": \"#2a3f5f\", \"gridcolor\": \"white\", \"linecolor\": \"white\", \"minorgridcolor\": \"white\", \"startlinecolor\": \"#2a3f5f\"}, \"baxis\": {\"endlinecolor\": \"#2a3f5f\", \"gridcolor\": \"white\", \"linecolor\": \"white\", \"minorgridcolor\": \"white\", \"startlinecolor\": \"#2a3f5f\"}, \"type\": \"carpet\"}], \"choropleth\": [{\"colorbar\": {\"outlinewidth\": 0, \"ticks\": \"\"}, \"type\": \"choropleth\"}], \"contour\": [{\"colorbar\": {\"outlinewidth\": 0, \"ticks\": \"\"}, \"colorscale\": [[0.0, \"#0d0887\"], [0.1111111111111111, \"#46039f\"], [0.2222222222222222, \"#7201a8\"], [0.3333333333333333, \"#9c179e\"], [0.4444444444444444, \"#bd3786\"], [0.5555555555555556, \"#d8576b\"], [0.6666666666666666, \"#ed7953\"], [0.7777777777777778, \"#fb9f3a\"], [0.8888888888888888, \"#fdca26\"], [1.0, \"#f0f921\"]], \"type\": \"contour\"}], \"contourcarpet\": [{\"colorbar\": {\"outlinewidth\": 0, \"ticks\": \"\"}, \"type\": \"contourcarpet\"}], \"heatmap\": [{\"colorbar\": {\"outlinewidth\": 0, \"ticks\": \"\"}, \"colorscale\": [[0.0, \"#0d0887\"], [0.1111111111111111, \"#46039f\"], [0.2222222222222222, \"#7201a8\"], [0.3333333333333333, \"#9c179e\"], [0.4444444444444444, \"#bd3786\"], [0.5555555555555556, \"#d8576b\"], [0.6666666666666666, \"#ed7953\"], [0.7777777777777778, \"#fb9f3a\"], [0.8888888888888888, \"#fdca26\"], [1.0, \"#f0f921\"]], \"type\": \"heatmap\"}], \"heatmapgl\": [{\"colorbar\": {\"outlinewidth\": 0, \"ticks\": \"\"}, \"colorscale\": [[0.0, \"#0d0887\"], [0.1111111111111111, \"#46039f\"], [0.2222222222222222, \"#7201a8\"], [0.3333333333333333, \"#9c179e\"], [0.4444444444444444, \"#bd3786\"], [0.5555555555555556, \"#d8576b\"], [0.6666666666666666, \"#ed7953\"], [0.7777777777777778, \"#fb9f3a\"], [0.8888888888888888, \"#fdca26\"], [1.0, \"#f0f921\"]], \"type\": \"heatmapgl\"}], \"histogram\": [{\"marker\": {\"colorbar\": {\"outlinewidth\": 0, \"ticks\": \"\"}}, \"type\": \"histogram\"}], \"histogram2d\": [{\"colorbar\": {\"outlinewidth\": 0, \"ticks\": \"\"}, \"colorscale\": [[0.0, \"#0d0887\"], [0.1111111111111111, \"#46039f\"], [0.2222222222222222, \"#7201a8\"], [0.3333333333333333, \"#9c179e\"], [0.4444444444444444, \"#bd3786\"], [0.5555555555555556, \"#d8576b\"], [0.6666666666666666, \"#ed7953\"], [0.7777777777777778, \"#fb9f3a\"], [0.8888888888888888, \"#fdca26\"], [1.0, \"#f0f921\"]], \"type\": \"histogram2d\"}], \"histogram2dcontour\": [{\"colorbar\": {\"outlinewidth\": 0, \"ticks\": \"\"}, \"colorscale\": [[0.0, \"#0d0887\"], [0.1111111111111111, \"#46039f\"], [0.2222222222222222, \"#7201a8\"], [0.3333333333333333, \"#9c179e\"], [0.4444444444444444, \"#bd3786\"], [0.5555555555555556, \"#d8576b\"], [0.6666666666666666, \"#ed7953\"], [0.7777777777777778, \"#fb9f3a\"], [0.8888888888888888, \"#fdca26\"], [1.0, \"#f0f921\"]], \"type\": \"histogram2dcontour\"}], \"mesh3d\": [{\"colorbar\": {\"outlinewidth\": 0, \"ticks\": \"\"}, \"type\": \"mesh3d\"}], \"parcoords\": [{\"line\": {\"colorbar\": {\"outlinewidth\": 0, \"ticks\": \"\"}}, \"type\": \"parcoords\"}], \"scatter\": [{\"marker\": {\"colorbar\": {\"outlinewidth\": 0, \"ticks\": \"\"}}, \"type\": \"scatter\"}], \"scatter3d\": [{\"line\": {\"colorbar\": {\"outlinewidth\": 0, \"ticks\": \"\"}}, \"marker\": {\"colorbar\": {\"outlinewidth\": 0, \"ticks\": \"\"}}, \"type\": \"scatter3d\"}], \"scattercarpet\": [{\"marker\": {\"colorbar\": {\"outlinewidth\": 0, \"ticks\": \"\"}}, \"type\": \"scattercarpet\"}], \"scattergeo\": [{\"marker\": {\"colorbar\": {\"outlinewidth\": 0, \"ticks\": \"\"}}, \"type\": \"scattergeo\"}], \"scattergl\": [{\"marker\": {\"colorbar\": {\"outlinewidth\": 0, \"ticks\": \"\"}}, \"type\": \"scattergl\"}], \"scattermapbox\": [{\"marker\": {\"colorbar\": {\"outlinewidth\": 0, \"ticks\": \"\"}}, \"type\": \"scattermapbox\"}], \"scatterpolar\": [{\"marker\": {\"colorbar\": {\"outlinewidth\": 0, \"ticks\": \"\"}}, \"type\": \"scatterpolar\"}], \"scatterpolargl\": [{\"marker\": {\"colorbar\": {\"outlinewidth\": 0, \"ticks\": \"\"}}, \"type\": \"scatterpolargl\"}], \"scatterternary\": [{\"marker\": {\"colorbar\": {\"outlinewidth\": 0, \"ticks\": \"\"}}, \"type\": \"scatterternary\"}], \"surface\": [{\"colorbar\": {\"outlinewidth\": 0, \"ticks\": \"\"}, \"colorscale\": [[0.0, \"#0d0887\"], [0.1111111111111111, \"#46039f\"], [0.2222222222222222, \"#7201a8\"], [0.3333333333333333, \"#9c179e\"], [0.4444444444444444, \"#bd3786\"], [0.5555555555555556, \"#d8576b\"], [0.6666666666666666, \"#ed7953\"], [0.7777777777777778, \"#fb9f3a\"], [0.8888888888888888, \"#fdca26\"], [1.0, \"#f0f921\"]], \"type\": \"surface\"}], \"table\": [{\"cells\": {\"fill\": {\"color\": \"#EBF0F8\"}, \"line\": {\"color\": \"white\"}}, \"header\": {\"fill\": {\"color\": \"#C8D4E3\"}, \"line\": {\"color\": \"white\"}}, \"type\": \"table\"}]}, \"layout\": {\"annotationdefaults\": {\"arrowcolor\": \"#2a3f5f\", \"arrowhead\": 0, \"arrowwidth\": 1}, \"colorscale\": {\"diverging\": [[0, \"#8e0152\"], [0.1, \"#c51b7d\"], [0.2, \"#de77ae\"], [0.3, \"#f1b6da\"], [0.4, \"#fde0ef\"], [0.5, \"#f7f7f7\"], [0.6, \"#e6f5d0\"], [0.7, \"#b8e186\"], [0.8, \"#7fbc41\"], [0.9, \"#4d9221\"], [1, \"#276419\"]], \"sequential\": [[0.0, \"#0d0887\"], [0.1111111111111111, \"#46039f\"], [0.2222222222222222, \"#7201a8\"], [0.3333333333333333, \"#9c179e\"], [0.4444444444444444, \"#bd3786\"], [0.5555555555555556, \"#d8576b\"], [0.6666666666666666, \"#ed7953\"], [0.7777777777777778, \"#fb9f3a\"], [0.8888888888888888, \"#fdca26\"], [1.0, \"#f0f921\"]], \"sequentialminus\": [[0.0, \"#0d0887\"], [0.1111111111111111, \"#46039f\"], [0.2222222222222222, \"#7201a8\"], [0.3333333333333333, \"#9c179e\"], [0.4444444444444444, \"#bd3786\"], [0.5555555555555556, \"#d8576b\"], [0.6666666666666666, \"#ed7953\"], [0.7777777777777778, \"#fb9f3a\"], [0.8888888888888888, \"#fdca26\"], [1.0, \"#f0f921\"]]}, \"colorway\": [\"#636efa\", \"#EF553B\", \"#00cc96\", \"#ab63fa\", \"#FFA15A\", \"#19d3f3\", \"#FF6692\", \"#B6E880\", \"#FF97FF\", \"#FECB52\"], \"font\": {\"color\": \"#2a3f5f\"}, \"geo\": {\"bgcolor\": \"white\", \"lakecolor\": \"white\", \"landcolor\": \"#E5ECF6\", \"showlakes\": true, \"showland\": true, \"subunitcolor\": \"white\"}, \"hoverlabel\": {\"align\": \"left\"}, \"hovermode\": \"closest\", \"mapbox\": {\"style\": \"light\"}, \"paper_bgcolor\": \"white\", \"plot_bgcolor\": \"#E5ECF6\", \"polar\": {\"angularaxis\": {\"gridcolor\": \"white\", \"linecolor\": \"white\", \"ticks\": \"\"}, \"bgcolor\": \"#E5ECF6\", \"radialaxis\": {\"gridcolor\": \"white\", \"linecolor\": \"white\", \"ticks\": \"\"}}, \"scene\": {\"xaxis\": {\"backgroundcolor\": \"#E5ECF6\", \"gridcolor\": \"white\", \"gridwidth\": 2, \"linecolor\": \"white\", \"showbackground\": true, \"ticks\": \"\", \"zerolinecolor\": \"white\"}, \"yaxis\": {\"backgroundcolor\": \"#E5ECF6\", \"gridcolor\": \"white\", \"gridwidth\": 2, \"linecolor\": \"white\", \"showbackground\": true, \"ticks\": \"\", \"zerolinecolor\": \"white\"}, \"zaxis\": {\"backgroundcolor\": \"#E5ECF6\", \"gridcolor\": \"white\", \"gridwidth\": 2, \"linecolor\": \"white\", \"showbackground\": true, \"ticks\": \"\", \"zerolinecolor\": \"white\"}}, \"shapedefaults\": {\"line\": {\"color\": \"#2a3f5f\"}}, \"ternary\": {\"aaxis\": {\"gridcolor\": \"white\", \"linecolor\": \"white\", \"ticks\": \"\"}, \"baxis\": {\"gridcolor\": \"white\", \"linecolor\": \"white\", \"ticks\": \"\"}, \"bgcolor\": \"#E5ECF6\", \"caxis\": {\"gridcolor\": \"white\", \"linecolor\": \"white\", \"ticks\": \"\"}}, \"title\": {\"x\": 0.05}, \"xaxis\": {\"automargin\": true, \"gridcolor\": \"white\", \"linecolor\": \"white\", \"ticks\": \"\", \"zerolinecolor\": \"white\", \"zerolinewidth\": 2}, \"yaxis\": {\"automargin\": true, \"gridcolor\": \"white\", \"linecolor\": \"white\", \"ticks\": \"\", \"zerolinecolor\": \"white\", \"zerolinewidth\": 2}}}, \"title\": {\"font\": {\"family\": \"Times New Roman\"}, \"text\": \"<b>Correlation Coefficients for the MLS Areas of Boise<b>\", \"x\": 0.5, \"xref\": \"paper\"}, \"yaxis\": {\"title\": {\"font\": {\"family\": \"Times New Roman\", \"size\": 16}, \"text\": \"<b>Correlation Coefficient<b>\"}}},\n",
       "                        {\"responsive\": true}\n",
       "                    ).then(function(){\n",
       "                            \n",
       "var gd = document.getElementById('0586ff02-f11a-482d-b1e1-d10789a0c223');\n",
       "var x = new MutationObserver(function (mutations, observer) {{\n",
       "        var display = window.getComputedStyle(gd).display;\n",
       "        if (!display || display === 'none') {{\n",
       "            console.log([gd, 'removed!']);\n",
       "            Plotly.purge(gd);\n",
       "            observer.disconnect();\n",
       "        }}\n",
       "}});\n",
       "\n",
       "// Listen for the removal of the full notebook cells\n",
       "var notebookContainer = gd.closest('#notebook-container');\n",
       "if (notebookContainer) {{\n",
       "    x.observe(notebookContainer, {childList: true});\n",
       "}}\n",
       "\n",
       "// Listen for the clearing of the current output cell\n",
       "var outputEl = gd.closest('.output');\n",
       "if (outputEl) {{\n",
       "    x.observe(outputEl, {childList: true});\n",
       "}}\n",
       "\n",
       "                        })\n",
       "                };\n",
       "                });\n",
       "            </script>\n",
       "        </div>"
      ]
     },
     "metadata": {},
     "output_type": "display_data"
    }
   ],
   "source": [
    "df = pd.read_pickle('a-Coeff-compare.pkl')\n",
    "\n",
    "#this will drop rows that have less than 2 values (name & @ least 1 value)\n",
    "df = df.dropna(thresh = 2)\n",
    "df = df.reset_index(drop = True)\n",
    "\n",
    "df = df.iloc[1:]\n",
    "\n",
    "area_fig = go.Figure()\n",
    "\n",
    "area_fig.add_trace(go.Scatter(x= df['index'], y=df['NW_Boise_GC'],\n",
    "                    mode='markers',\n",
    "                    marker_color = 'rgb(220,20,60)',\n",
    "                    marker=dict(size= 10, symbol = \"square-open\"),          \n",
    "                    name='NW Boise'))\n",
    "\n",
    "area_fig.add_trace(go.Scatter(x= df['index'], y=df['B_Bench'],\n",
    "                    mode='markers',\n",
    "                    marker_color = 'rgb(0,128,128)',\n",
    "                    marker=dict(size= 10, symbol = \"star-diamond-open\"), \n",
    "                    name='Boise Bench'))\n",
    "\n",
    "area_fig.add_trace(go.Scatter(x= df['index'], y=df['SE_Boise'],\n",
    "                    mode='markers',\n",
    "                    marker_color = 'rgb(0,0,128)',\n",
    "                    marker=dict(size= 10, symbol = \"pentagon-open\"),          \n",
    "                    name='SE Boise'))\n",
    "\n",
    "area_fig.add_trace(go.Scatter(x= df['index'], y=df['N_Boise'],\n",
    "                    mode='markers',\n",
    "                    marker_color = 'rgb(107,142,35)',\n",
    "                    marker=dict(size= 10, symbol = \"star-open\"),          \n",
    "                    name='N Boise'))\n",
    "\n",
    "area_fig.add_trace(go.Scatter(x= df['index'], y=df['NE_Boise'],\n",
    "                    mode='markers',\n",
    "                    marker_color = 'rgb(199,21,133)',\n",
    "                    marker=dict(size= 10, symbol = \"bowtie-open\"),           \n",
    "                    name='NE Boise'))\n",
    "\n",
    "area_fig.add_trace(go.Scatter(x= df['index'], y=df['W_Boise'],\n",
    "                    mode='markers',\n",
    "                    marker_color = 'rgb(47,79,79)',\n",
    "                    marker=dict(size= 10, symbol = \"circle-cross-open\"),          \n",
    "                    name='W Boise'))\n",
    "\n",
    "area_fig.add_trace(go.Scatter(x= df['index'], y=df['SW_Boise_M'],\n",
    "                    mode='markers',\n",
    "                    marker_color = 'rgb(139,69,19)',\n",
    "                    marker=dict(size= 10, symbol = \"triangle-nw-open\"),          \n",
    "                    name='SW Boise M'))\n",
    "\n",
    "area_fig.add_trace(go.Scatter(x= df['index'], y=df['W_Boise_M'],\n",
    "                    mode='markers',\n",
    "                    marker_color = 'rgb(255,140,0)',\n",
    "                    marker=dict(size= 10, symbol = \"hourglass-open\"),          \n",
    "                    name='W Boise-Meridian'))\n",
    "\n",
    "area_fig.add_trace(go.Scatter(x= df['index'], y=df['SW_Boise'],\n",
    "                    mode='markers',\n",
    "                    marker_color = 'rgb(128,0,128)',\n",
    "                    marker=dict(size= 10, symbol = \"diamond-tall-open\"),           \n",
    "                    name='SW Boise'))\n",
    "\n",
    "\n",
    "area_fig.update_layout(\n",
    "    shapes=[\n",
    "        # Line Horizontal\n",
    "        go.layout.Shape(\n",
    "            type=\"line\",\n",
    "            x0=0,y0=.7,\n",
    "            x1=11,y1=.7,\n",
    "            line=dict(\n",
    "                color=\"Grey\",\n",
    "                width=1,\n",
    "                dash=\"dashdot\",),),])\n",
    "area_fig.update_layout(\n",
    "    shapes=[\n",
    "        # Line Horizontal\n",
    "        go.layout.Shape(\n",
    "            type=\"line\",\n",
    "            x0=-1,y0=.3,\n",
    "            x1=12,y1=.3,\n",
    "            line=dict(\n",
    "                color=\"Grey\",\n",
    "                width=1,\n",
    "                dash=\"dashdot\",),),])\n",
    "\n",
    "area_fig.update_layout(\n",
    "    title=go.layout.Title(\n",
    "        text=\"<b>Correlation Coefficients for the MLS Areas of Boise<b>\",\n",
    "        font = dict( \n",
    "            family = 'Times New Roman'),\n",
    "        xref=\"paper\",\n",
    "        x=.5\n",
    "    ),\n",
    "    yaxis=go.layout.YAxis(\n",
    "        title=go.layout.yaxis.Title(\n",
    "            text=\"<b>Correlation Coefficient<b>\",\n",
    "            font=dict(\n",
    "                family=\"Times New Roman\",\n",
    "                size=16,\n",
    "#                color=\"#7f7f7f\"\n",
    "            )\n",
    "        )\n",
    "    ))\n",
    "\n",
    "\n",
    "area_fig.write_image(\"images/Area_fig.jpg\")\n",
    "area_fig.show()\n",
    "\n"
   ]
  },
  {
   "cell_type": "code",
   "execution_count": 64,
   "metadata": {},
   "outputs": [
    {
     "data": {
      "application/vnd.plotly.v1+json": {
       "config": {
        "plotlyServerURL": "https://plot.ly"
       },
       "data": [
        {
         "marker": {
          "color": "rgb(220,20,60)",
          "size": 10,
          "symbol": "square-open"
         },
         "mode": "markers",
         "name": "NW Boise",
         "type": "scatter",
         "x": [
          "1      1\n2      2\n9      9\n12    12\n15    15\n18    18\n20    20\n21    21\n24    24\n28    28\n29    29\n30    30",
          "1      1\n2      2\n9      9\n12    12\n15    15\n18    18\n20    20\n21    21\n24    24\n28    28\n29    29\n30    30",
          "1      1\n2      2\n9      9\n12    12\n15    15\n18    18\n20    20\n21    21\n24    24\n28    28\n29    29\n30    30",
          "1      1\n2      2\n9      9\n12    12\n15    15\n18    18\n20    20\n21    21\n24    24\n28    28\n29    29\n30    30",
          "1      1\n2      2\n9      9\n12    12\n15    15\n18    18\n20    20\n21    21\n24    24\n28    28\n29    29\n30    30",
          "1      1\n2      2\n9      9\n12    12\n15    15\n18    18\n20    20\n21    21\n24    24\n28    28\n29    29\n30    30",
          "1      1\n2      2\n9      9\n12    12\n15    15\n18    18\n20    20\n21    21\n24    24\n28    28\n29    29\n30    30",
          "1      1\n2      2\n9      9\n12    12\n15    15\n18    18\n20    20\n21    21\n24    24\n28    28\n29    29\n30    30",
          "1      1\n2      2\n9      9\n12    12\n15    15\n18    18\n20    20\n21    21\n24    24\n28    28\n29    29\n30    30",
          "1      1\n2      2\n9      9\n12    12\n15    15\n18    18\n20    20\n21    21\n24    24\n28    28\n29    29\n30    30",
          "1      1\n2      2\n9      9\n12    12\n15    15\n18    18\n20    20\n21    21\n24    24\n28    28\n29    29\n30    30",
          "1      1\n2      2\n9      9\n12    12\n15    15\n18    18\n20    20\n21    21\n24    24\n28    28\n29    29\n30    30"
         ],
         "y": [
          0.20512159087241913,
          0.20202415393377984,
          0.15580723101335364,
          null,
          0.20297371252017204,
          0.17163317062771433,
          0.20723197604888455,
          0.19265518844715313,
          null,
          0.21006497116471967,
          0.1980678101943947,
          0.2194234637811191
         ]
        },
        {
         "marker": {
          "color": "rgb(0,128,128)",
          "size": 10,
          "symbol": "star-diamond-open"
         },
         "mode": "markers",
         "name": "Boise Bench",
         "type": "scatter",
         "x": [
          "1      1\n2      2\n9      9\n12    12\n15    15\n18    18\n20    20\n21    21\n24    24\n28    28\n29    29\n30    30",
          "1      1\n2      2\n9      9\n12    12\n15    15\n18    18\n20    20\n21    21\n24    24\n28    28\n29    29\n30    30",
          "1      1\n2      2\n9      9\n12    12\n15    15\n18    18\n20    20\n21    21\n24    24\n28    28\n29    29\n30    30",
          "1      1\n2      2\n9      9\n12    12\n15    15\n18    18\n20    20\n21    21\n24    24\n28    28\n29    29\n30    30",
          "1      1\n2      2\n9      9\n12    12\n15    15\n18    18\n20    20\n21    21\n24    24\n28    28\n29    29\n30    30",
          "1      1\n2      2\n9      9\n12    12\n15    15\n18    18\n20    20\n21    21\n24    24\n28    28\n29    29\n30    30",
          "1      1\n2      2\n9      9\n12    12\n15    15\n18    18\n20    20\n21    21\n24    24\n28    28\n29    29\n30    30",
          "1      1\n2      2\n9      9\n12    12\n15    15\n18    18\n20    20\n21    21\n24    24\n28    28\n29    29\n30    30",
          "1      1\n2      2\n9      9\n12    12\n15    15\n18    18\n20    20\n21    21\n24    24\n28    28\n29    29\n30    30",
          "1      1\n2      2\n9      9\n12    12\n15    15\n18    18\n20    20\n21    21\n24    24\n28    28\n29    29\n30    30",
          "1      1\n2      2\n9      9\n12    12\n15    15\n18    18\n20    20\n21    21\n24    24\n28    28\n29    29\n30    30",
          "1      1\n2      2\n9      9\n12    12\n15    15\n18    18\n20    20\n21    21\n24    24\n28    28\n29    29\n30    30"
         ],
         "y": [
          0.32229565012681455,
          0.2977798318315564,
          0.26285977724726195,
          null,
          0.2964887347404128,
          0.272514238926972,
          0.3368547084586827,
          0.3129320707425859,
          null,
          0.3083006612882456,
          0.3091620597574776,
          0.34116317866143864
         ]
        },
        {
         "marker": {
          "color": "rgb(0,0,128)",
          "size": 10,
          "symbol": "pentagon-open"
         },
         "mode": "markers",
         "name": "SE Boise",
         "type": "scatter",
         "x": [
          "1      1\n2      2\n9      9\n12    12\n15    15\n18    18\n20    20\n21    21\n24    24\n28    28\n29    29\n30    30",
          "1      1\n2      2\n9      9\n12    12\n15    15\n18    18\n20    20\n21    21\n24    24\n28    28\n29    29\n30    30",
          "1      1\n2      2\n9      9\n12    12\n15    15\n18    18\n20    20\n21    21\n24    24\n28    28\n29    29\n30    30",
          "1      1\n2      2\n9      9\n12    12\n15    15\n18    18\n20    20\n21    21\n24    24\n28    28\n29    29\n30    30",
          "1      1\n2      2\n9      9\n12    12\n15    15\n18    18\n20    20\n21    21\n24    24\n28    28\n29    29\n30    30",
          "1      1\n2      2\n9      9\n12    12\n15    15\n18    18\n20    20\n21    21\n24    24\n28    28\n29    29\n30    30",
          "1      1\n2      2\n9      9\n12    12\n15    15\n18    18\n20    20\n21    21\n24    24\n28    28\n29    29\n30    30",
          "1      1\n2      2\n9      9\n12    12\n15    15\n18    18\n20    20\n21    21\n24    24\n28    28\n29    29\n30    30",
          "1      1\n2      2\n9      9\n12    12\n15    15\n18    18\n20    20\n21    21\n24    24\n28    28\n29    29\n30    30",
          "1      1\n2      2\n9      9\n12    12\n15    15\n18    18\n20    20\n21    21\n24    24\n28    28\n29    29\n30    30",
          "1      1\n2      2\n9      9\n12    12\n15    15\n18    18\n20    20\n21    21\n24    24\n28    28\n29    29\n30    30",
          "1      1\n2      2\n9      9\n12    12\n15    15\n18    18\n20    20\n21    21\n24    24\n28    28\n29    29\n30    30"
         ],
         "y": [
          0.15165217623671404,
          0.1734840864835354,
          null,
          null,
          0.15737235712812978,
          0.1371784809545204,
          0.1697408477614244,
          0.14697773768881994,
          0.14220614099515813,
          0.17784203090063153,
          0.17361536502233788,
          0.1789425947447074
         ]
        },
        {
         "marker": {
          "color": "rgb(107,142,35)",
          "size": 10,
          "symbol": "star-open"
         },
         "mode": "markers",
         "name": "N Boise",
         "type": "scatter",
         "x": [
          "1      1\n2      2\n9      9\n12    12\n15    15\n18    18\n20    20\n21    21\n24    24\n28    28\n29    29\n30    30",
          "1      1\n2      2\n9      9\n12    12\n15    15\n18    18\n20    20\n21    21\n24    24\n28    28\n29    29\n30    30",
          "1      1\n2      2\n9      9\n12    12\n15    15\n18    18\n20    20\n21    21\n24    24\n28    28\n29    29\n30    30",
          "1      1\n2      2\n9      9\n12    12\n15    15\n18    18\n20    20\n21    21\n24    24\n28    28\n29    29\n30    30",
          "1      1\n2      2\n9      9\n12    12\n15    15\n18    18\n20    20\n21    21\n24    24\n28    28\n29    29\n30    30",
          "1      1\n2      2\n9      9\n12    12\n15    15\n18    18\n20    20\n21    21\n24    24\n28    28\n29    29\n30    30",
          "1      1\n2      2\n9      9\n12    12\n15    15\n18    18\n20    20\n21    21\n24    24\n28    28\n29    29\n30    30",
          "1      1\n2      2\n9      9\n12    12\n15    15\n18    18\n20    20\n21    21\n24    24\n28    28\n29    29\n30    30",
          "1      1\n2      2\n9      9\n12    12\n15    15\n18    18\n20    20\n21    21\n24    24\n28    28\n29    29\n30    30",
          "1      1\n2      2\n9      9\n12    12\n15    15\n18    18\n20    20\n21    21\n24    24\n28    28\n29    29\n30    30",
          "1      1\n2      2\n9      9\n12    12\n15    15\n18    18\n20    20\n21    21\n24    24\n28    28\n29    29\n30    30",
          "1      1\n2      2\n9      9\n12    12\n15    15\n18    18\n20    20\n21    21\n24    24\n28    28\n29    29\n30    30"
         ],
         "y": [
          0.14568582626853804,
          0.16123274910358384,
          0.14203870429727855,
          null,
          0.16107155863138956,
          null,
          0.1778548012365404,
          0.1672556839217225,
          0.14263095766200048,
          0.19851334669155937,
          0.20551528108839293,
          0.1750492026773702
         ]
        },
        {
         "marker": {
          "color": "rgb(199,21,133)",
          "size": 10,
          "symbol": "bowtie-open"
         },
         "mode": "markers",
         "name": "NE Boise",
         "type": "scatter",
         "x": [
          "1      1\n2      2\n9      9\n12    12\n15    15\n18    18\n20    20\n21    21\n24    24\n28    28\n29    29\n30    30",
          "1      1\n2      2\n9      9\n12    12\n15    15\n18    18\n20    20\n21    21\n24    24\n28    28\n29    29\n30    30",
          "1      1\n2      2\n9      9\n12    12\n15    15\n18    18\n20    20\n21    21\n24    24\n28    28\n29    29\n30    30",
          "1      1\n2      2\n9      9\n12    12\n15    15\n18    18\n20    20\n21    21\n24    24\n28    28\n29    29\n30    30",
          "1      1\n2      2\n9      9\n12    12\n15    15\n18    18\n20    20\n21    21\n24    24\n28    28\n29    29\n30    30",
          "1      1\n2      2\n9      9\n12    12\n15    15\n18    18\n20    20\n21    21\n24    24\n28    28\n29    29\n30    30",
          "1      1\n2      2\n9      9\n12    12\n15    15\n18    18\n20    20\n21    21\n24    24\n28    28\n29    29\n30    30",
          "1      1\n2      2\n9      9\n12    12\n15    15\n18    18\n20    20\n21    21\n24    24\n28    28\n29    29\n30    30",
          "1      1\n2      2\n9      9\n12    12\n15    15\n18    18\n20    20\n21    21\n24    24\n28    28\n29    29\n30    30",
          "1      1\n2      2\n9      9\n12    12\n15    15\n18    18\n20    20\n21    21\n24    24\n28    28\n29    29\n30    30",
          "1      1\n2      2\n9      9\n12    12\n15    15\n18    18\n20    20\n21    21\n24    24\n28    28\n29    29\n30    30",
          "1      1\n2      2\n9      9\n12    12\n15    15\n18    18\n20    20\n21    21\n24    24\n28    28\n29    29\n30    30"
         ],
         "y": [
          null,
          0.03192043949798312,
          0.026809437454825388,
          0.023057916262704235,
          0.028292428886185668,
          0.029265182343593755,
          0.031063975572862466,
          0.024672545434538812,
          null,
          0.02878594374273333,
          0.031774543826914844,
          0.03517291426907938
         ]
        },
        {
         "marker": {
          "color": "rgb(47,79,79)",
          "size": 10,
          "symbol": "circle-cross-open"
         },
         "mode": "markers",
         "name": "W Boise",
         "type": "scatter",
         "x": [
          "1      1\n2      2\n9      9\n12    12\n15    15\n18    18\n20    20\n21    21\n24    24\n28    28\n29    29\n30    30",
          "1      1\n2      2\n9      9\n12    12\n15    15\n18    18\n20    20\n21    21\n24    24\n28    28\n29    29\n30    30",
          "1      1\n2      2\n9      9\n12    12\n15    15\n18    18\n20    20\n21    21\n24    24\n28    28\n29    29\n30    30",
          "1      1\n2      2\n9      9\n12    12\n15    15\n18    18\n20    20\n21    21\n24    24\n28    28\n29    29\n30    30",
          "1      1\n2      2\n9      9\n12    12\n15    15\n18    18\n20    20\n21    21\n24    24\n28    28\n29    29\n30    30",
          "1      1\n2      2\n9      9\n12    12\n15    15\n18    18\n20    20\n21    21\n24    24\n28    28\n29    29\n30    30",
          "1      1\n2      2\n9      9\n12    12\n15    15\n18    18\n20    20\n21    21\n24    24\n28    28\n29    29\n30    30",
          "1      1\n2      2\n9      9\n12    12\n15    15\n18    18\n20    20\n21    21\n24    24\n28    28\n29    29\n30    30",
          "1      1\n2      2\n9      9\n12    12\n15    15\n18    18\n20    20\n21    21\n24    24\n28    28\n29    29\n30    30",
          "1      1\n2      2\n9      9\n12    12\n15    15\n18    18\n20    20\n21    21\n24    24\n28    28\n29    29\n30    30",
          "1      1\n2      2\n9      9\n12    12\n15    15\n18    18\n20    20\n21    21\n24    24\n28    28\n29    29\n30    30",
          "1      1\n2      2\n9      9\n12    12\n15    15\n18    18\n20    20\n21    21\n24    24\n28    28\n29    29\n30    30"
         ],
         "y": [
          0.29519200186127226,
          0.30411753621650506,
          null,
          null,
          0.27954755117672947,
          0.2583987627632459,
          0.30643098999833923,
          0.27529209359889817,
          0.23000235919516213,
          0.28374230141513573,
          0.27966548526962093,
          0.316576752139436
         ]
        },
        {
         "marker": {
          "color": "rgb(139,69,19)",
          "size": 10,
          "symbol": "triangle-nw-open"
         },
         "mode": "markers",
         "name": "SW Boise M",
         "type": "scatter",
         "x": [
          "1      1\n2      2\n9      9\n12    12\n15    15\n18    18\n20    20\n21    21\n24    24\n28    28\n29    29\n30    30",
          "1      1\n2      2\n9      9\n12    12\n15    15\n18    18\n20    20\n21    21\n24    24\n28    28\n29    29\n30    30",
          "1      1\n2      2\n9      9\n12    12\n15    15\n18    18\n20    20\n21    21\n24    24\n28    28\n29    29\n30    30",
          "1      1\n2      2\n9      9\n12    12\n15    15\n18    18\n20    20\n21    21\n24    24\n28    28\n29    29\n30    30",
          "1      1\n2      2\n9      9\n12    12\n15    15\n18    18\n20    20\n21    21\n24    24\n28    28\n29    29\n30    30",
          "1      1\n2      2\n9      9\n12    12\n15    15\n18    18\n20    20\n21    21\n24    24\n28    28\n29    29\n30    30",
          "1      1\n2      2\n9      9\n12    12\n15    15\n18    18\n20    20\n21    21\n24    24\n28    28\n29    29\n30    30",
          "1      1\n2      2\n9      9\n12    12\n15    15\n18    18\n20    20\n21    21\n24    24\n28    28\n29    29\n30    30",
          "1      1\n2      2\n9      9\n12    12\n15    15\n18    18\n20    20\n21    21\n24    24\n28    28\n29    29\n30    30",
          "1      1\n2      2\n9      9\n12    12\n15    15\n18    18\n20    20\n21    21\n24    24\n28    28\n29    29\n30    30",
          "1      1\n2      2\n9      9\n12    12\n15    15\n18    18\n20    20\n21    21\n24    24\n28    28\n29    29\n30    30",
          "1      1\n2      2\n9      9\n12    12\n15    15\n18    18\n20    20\n21    21\n24    24\n28    28\n29    29\n30    30"
         ],
         "y": [
          0.1504959753661697,
          0.19855952481727007,
          0.16073145051703916,
          null,
          0.15638199418159174,
          0.14752294027571,
          0.1861149105898015,
          0.1621694067401815,
          null,
          0.1476974534956342,
          0.15610206178053995,
          0.18751794041229808
         ]
        },
        {
         "marker": {
          "color": "rgb(255,140,0)",
          "size": 10,
          "symbol": "hourglass-open"
         },
         "mode": "markers",
         "name": "W Boise-Meridian",
         "type": "scatter",
         "x": [
          "1      1\n2      2\n9      9\n12    12\n15    15\n18    18\n20    20\n21    21\n24    24\n28    28\n29    29\n30    30",
          "1      1\n2      2\n9      9\n12    12\n15    15\n18    18\n20    20\n21    21\n24    24\n28    28\n29    29\n30    30",
          "1      1\n2      2\n9      9\n12    12\n15    15\n18    18\n20    20\n21    21\n24    24\n28    28\n29    29\n30    30",
          "1      1\n2      2\n9      9\n12    12\n15    15\n18    18\n20    20\n21    21\n24    24\n28    28\n29    29\n30    30",
          "1      1\n2      2\n9      9\n12    12\n15    15\n18    18\n20    20\n21    21\n24    24\n28    28\n29    29\n30    30",
          "1      1\n2      2\n9      9\n12    12\n15    15\n18    18\n20    20\n21    21\n24    24\n28    28\n29    29\n30    30",
          "1      1\n2      2\n9      9\n12    12\n15    15\n18    18\n20    20\n21    21\n24    24\n28    28\n29    29\n30    30",
          "1      1\n2      2\n9      9\n12    12\n15    15\n18    18\n20    20\n21    21\n24    24\n28    28\n29    29\n30    30",
          "1      1\n2      2\n9      9\n12    12\n15    15\n18    18\n20    20\n21    21\n24    24\n28    28\n29    29\n30    30",
          "1      1\n2      2\n9      9\n12    12\n15    15\n18    18\n20    20\n21    21\n24    24\n28    28\n29    29\n30    30",
          "1      1\n2      2\n9      9\n12    12\n15    15\n18    18\n20    20\n21    21\n24    24\n28    28\n29    29\n30    30",
          "1      1\n2      2\n9      9\n12    12\n15    15\n18    18\n20    20\n21    21\n24    24\n28    28\n29    29\n30    30"
         ],
         "y": [
          0.17200512497700174,
          0.1904964859912985,
          0.1682920275536081,
          null,
          0.1872697109980509,
          0.16916813917865597,
          0.19343996709316957,
          0.1889609160179004,
          null,
          0.19680433092148597,
          0.19205655325395457,
          0.21572484830063943
         ]
        },
        {
         "marker": {
          "color": "rgb(128,0,128)",
          "size": 10,
          "symbol": "diamond-tall-open"
         },
         "mode": "markers",
         "name": "SW Boise",
         "type": "scatter",
         "x": [
          "1      1\n2      2\n9      9\n12    12\n15    15\n18    18\n20    20\n21    21\n24    24\n28    28\n29    29\n30    30",
          "1      1\n2      2\n9      9\n12    12\n15    15\n18    18\n20    20\n21    21\n24    24\n28    28\n29    29\n30    30",
          "1      1\n2      2\n9      9\n12    12\n15    15\n18    18\n20    20\n21    21\n24    24\n28    28\n29    29\n30    30",
          "1      1\n2      2\n9      9\n12    12\n15    15\n18    18\n20    20\n21    21\n24    24\n28    28\n29    29\n30    30",
          "1      1\n2      2\n9      9\n12    12\n15    15\n18    18\n20    20\n21    21\n24    24\n28    28\n29    29\n30    30",
          "1      1\n2      2\n9      9\n12    12\n15    15\n18    18\n20    20\n21    21\n24    24\n28    28\n29    29\n30    30",
          "1      1\n2      2\n9      9\n12    12\n15    15\n18    18\n20    20\n21    21\n24    24\n28    28\n29    29\n30    30",
          "1      1\n2      2\n9      9\n12    12\n15    15\n18    18\n20    20\n21    21\n24    24\n28    28\n29    29\n30    30",
          "1      1\n2      2\n9      9\n12    12\n15    15\n18    18\n20    20\n21    21\n24    24\n28    28\n29    29\n30    30",
          "1      1\n2      2\n9      9\n12    12\n15    15\n18    18\n20    20\n21    21\n24    24\n28    28\n29    29\n30    30",
          "1      1\n2      2\n9      9\n12    12\n15    15\n18    18\n20    20\n21    21\n24    24\n28    28\n29    29\n30    30",
          "1      1\n2      2\n9      9\n12    12\n15    15\n18    18\n20    20\n21    21\n24    24\n28    28\n29    29\n30    30"
         ],
         "y": [
          0.22035769938390118,
          0.2100096397353598,
          0.17849278215008724,
          null,
          null,
          0.1861785956967291,
          0.2478144672058495,
          0.19438792897553028,
          0.1692682959775328,
          0.1989783959986223,
          0.1929026311951265,
          0.21577060714910704
         ]
        }
       ],
       "layout": {
        "template": {
         "data": {
          "bar": [
           {
            "error_x": {
             "color": "#2a3f5f"
            },
            "error_y": {
             "color": "#2a3f5f"
            },
            "marker": {
             "line": {
              "color": "#E5ECF6",
              "width": 0.5
             }
            },
            "type": "bar"
           }
          ],
          "barpolar": [
           {
            "marker": {
             "line": {
              "color": "#E5ECF6",
              "width": 0.5
             }
            },
            "type": "barpolar"
           }
          ],
          "carpet": [
           {
            "aaxis": {
             "endlinecolor": "#2a3f5f",
             "gridcolor": "white",
             "linecolor": "white",
             "minorgridcolor": "white",
             "startlinecolor": "#2a3f5f"
            },
            "baxis": {
             "endlinecolor": "#2a3f5f",
             "gridcolor": "white",
             "linecolor": "white",
             "minorgridcolor": "white",
             "startlinecolor": "#2a3f5f"
            },
            "type": "carpet"
           }
          ],
          "choropleth": [
           {
            "colorbar": {
             "outlinewidth": 0,
             "ticks": ""
            },
            "type": "choropleth"
           }
          ],
          "contour": [
           {
            "colorbar": {
             "outlinewidth": 0,
             "ticks": ""
            },
            "colorscale": [
             [
              0,
              "#0d0887"
             ],
             [
              0.1111111111111111,
              "#46039f"
             ],
             [
              0.2222222222222222,
              "#7201a8"
             ],
             [
              0.3333333333333333,
              "#9c179e"
             ],
             [
              0.4444444444444444,
              "#bd3786"
             ],
             [
              0.5555555555555556,
              "#d8576b"
             ],
             [
              0.6666666666666666,
              "#ed7953"
             ],
             [
              0.7777777777777778,
              "#fb9f3a"
             ],
             [
              0.8888888888888888,
              "#fdca26"
             ],
             [
              1,
              "#f0f921"
             ]
            ],
            "type": "contour"
           }
          ],
          "contourcarpet": [
           {
            "colorbar": {
             "outlinewidth": 0,
             "ticks": ""
            },
            "type": "contourcarpet"
           }
          ],
          "heatmap": [
           {
            "colorbar": {
             "outlinewidth": 0,
             "ticks": ""
            },
            "colorscale": [
             [
              0,
              "#0d0887"
             ],
             [
              0.1111111111111111,
              "#46039f"
             ],
             [
              0.2222222222222222,
              "#7201a8"
             ],
             [
              0.3333333333333333,
              "#9c179e"
             ],
             [
              0.4444444444444444,
              "#bd3786"
             ],
             [
              0.5555555555555556,
              "#d8576b"
             ],
             [
              0.6666666666666666,
              "#ed7953"
             ],
             [
              0.7777777777777778,
              "#fb9f3a"
             ],
             [
              0.8888888888888888,
              "#fdca26"
             ],
             [
              1,
              "#f0f921"
             ]
            ],
            "type": "heatmap"
           }
          ],
          "heatmapgl": [
           {
            "colorbar": {
             "outlinewidth": 0,
             "ticks": ""
            },
            "colorscale": [
             [
              0,
              "#0d0887"
             ],
             [
              0.1111111111111111,
              "#46039f"
             ],
             [
              0.2222222222222222,
              "#7201a8"
             ],
             [
              0.3333333333333333,
              "#9c179e"
             ],
             [
              0.4444444444444444,
              "#bd3786"
             ],
             [
              0.5555555555555556,
              "#d8576b"
             ],
             [
              0.6666666666666666,
              "#ed7953"
             ],
             [
              0.7777777777777778,
              "#fb9f3a"
             ],
             [
              0.8888888888888888,
              "#fdca26"
             ],
             [
              1,
              "#f0f921"
             ]
            ],
            "type": "heatmapgl"
           }
          ],
          "histogram": [
           {
            "marker": {
             "colorbar": {
              "outlinewidth": 0,
              "ticks": ""
             }
            },
            "type": "histogram"
           }
          ],
          "histogram2d": [
           {
            "colorbar": {
             "outlinewidth": 0,
             "ticks": ""
            },
            "colorscale": [
             [
              0,
              "#0d0887"
             ],
             [
              0.1111111111111111,
              "#46039f"
             ],
             [
              0.2222222222222222,
              "#7201a8"
             ],
             [
              0.3333333333333333,
              "#9c179e"
             ],
             [
              0.4444444444444444,
              "#bd3786"
             ],
             [
              0.5555555555555556,
              "#d8576b"
             ],
             [
              0.6666666666666666,
              "#ed7953"
             ],
             [
              0.7777777777777778,
              "#fb9f3a"
             ],
             [
              0.8888888888888888,
              "#fdca26"
             ],
             [
              1,
              "#f0f921"
             ]
            ],
            "type": "histogram2d"
           }
          ],
          "histogram2dcontour": [
           {
            "colorbar": {
             "outlinewidth": 0,
             "ticks": ""
            },
            "colorscale": [
             [
              0,
              "#0d0887"
             ],
             [
              0.1111111111111111,
              "#46039f"
             ],
             [
              0.2222222222222222,
              "#7201a8"
             ],
             [
              0.3333333333333333,
              "#9c179e"
             ],
             [
              0.4444444444444444,
              "#bd3786"
             ],
             [
              0.5555555555555556,
              "#d8576b"
             ],
             [
              0.6666666666666666,
              "#ed7953"
             ],
             [
              0.7777777777777778,
              "#fb9f3a"
             ],
             [
              0.8888888888888888,
              "#fdca26"
             ],
             [
              1,
              "#f0f921"
             ]
            ],
            "type": "histogram2dcontour"
           }
          ],
          "mesh3d": [
           {
            "colorbar": {
             "outlinewidth": 0,
             "ticks": ""
            },
            "type": "mesh3d"
           }
          ],
          "parcoords": [
           {
            "line": {
             "colorbar": {
              "outlinewidth": 0,
              "ticks": ""
             }
            },
            "type": "parcoords"
           }
          ],
          "scatter": [
           {
            "marker": {
             "colorbar": {
              "outlinewidth": 0,
              "ticks": ""
             }
            },
            "type": "scatter"
           }
          ],
          "scatter3d": [
           {
            "line": {
             "colorbar": {
              "outlinewidth": 0,
              "ticks": ""
             }
            },
            "marker": {
             "colorbar": {
              "outlinewidth": 0,
              "ticks": ""
             }
            },
            "type": "scatter3d"
           }
          ],
          "scattercarpet": [
           {
            "marker": {
             "colorbar": {
              "outlinewidth": 0,
              "ticks": ""
             }
            },
            "type": "scattercarpet"
           }
          ],
          "scattergeo": [
           {
            "marker": {
             "colorbar": {
              "outlinewidth": 0,
              "ticks": ""
             }
            },
            "type": "scattergeo"
           }
          ],
          "scattergl": [
           {
            "marker": {
             "colorbar": {
              "outlinewidth": 0,
              "ticks": ""
             }
            },
            "type": "scattergl"
           }
          ],
          "scattermapbox": [
           {
            "marker": {
             "colorbar": {
              "outlinewidth": 0,
              "ticks": ""
             }
            },
            "type": "scattermapbox"
           }
          ],
          "scatterpolar": [
           {
            "marker": {
             "colorbar": {
              "outlinewidth": 0,
              "ticks": ""
             }
            },
            "type": "scatterpolar"
           }
          ],
          "scatterpolargl": [
           {
            "marker": {
             "colorbar": {
              "outlinewidth": 0,
              "ticks": ""
             }
            },
            "type": "scatterpolargl"
           }
          ],
          "scatterternary": [
           {
            "marker": {
             "colorbar": {
              "outlinewidth": 0,
              "ticks": ""
             }
            },
            "type": "scatterternary"
           }
          ],
          "surface": [
           {
            "colorbar": {
             "outlinewidth": 0,
             "ticks": ""
            },
            "colorscale": [
             [
              0,
              "#0d0887"
             ],
             [
              0.1111111111111111,
              "#46039f"
             ],
             [
              0.2222222222222222,
              "#7201a8"
             ],
             [
              0.3333333333333333,
              "#9c179e"
             ],
             [
              0.4444444444444444,
              "#bd3786"
             ],
             [
              0.5555555555555556,
              "#d8576b"
             ],
             [
              0.6666666666666666,
              "#ed7953"
             ],
             [
              0.7777777777777778,
              "#fb9f3a"
             ],
             [
              0.8888888888888888,
              "#fdca26"
             ],
             [
              1,
              "#f0f921"
             ]
            ],
            "type": "surface"
           }
          ],
          "table": [
           {
            "cells": {
             "fill": {
              "color": "#EBF0F8"
             },
             "line": {
              "color": "white"
             }
            },
            "header": {
             "fill": {
              "color": "#C8D4E3"
             },
             "line": {
              "color": "white"
             }
            },
            "type": "table"
           }
          ]
         },
         "layout": {
          "annotationdefaults": {
           "arrowcolor": "#2a3f5f",
           "arrowhead": 0,
           "arrowwidth": 1
          },
          "colorscale": {
           "diverging": [
            [
             0,
             "#8e0152"
            ],
            [
             0.1,
             "#c51b7d"
            ],
            [
             0.2,
             "#de77ae"
            ],
            [
             0.3,
             "#f1b6da"
            ],
            [
             0.4,
             "#fde0ef"
            ],
            [
             0.5,
             "#f7f7f7"
            ],
            [
             0.6,
             "#e6f5d0"
            ],
            [
             0.7,
             "#b8e186"
            ],
            [
             0.8,
             "#7fbc41"
            ],
            [
             0.9,
             "#4d9221"
            ],
            [
             1,
             "#276419"
            ]
           ],
           "sequential": [
            [
             0,
             "#0d0887"
            ],
            [
             0.1111111111111111,
             "#46039f"
            ],
            [
             0.2222222222222222,
             "#7201a8"
            ],
            [
             0.3333333333333333,
             "#9c179e"
            ],
            [
             0.4444444444444444,
             "#bd3786"
            ],
            [
             0.5555555555555556,
             "#d8576b"
            ],
            [
             0.6666666666666666,
             "#ed7953"
            ],
            [
             0.7777777777777778,
             "#fb9f3a"
            ],
            [
             0.8888888888888888,
             "#fdca26"
            ],
            [
             1,
             "#f0f921"
            ]
           ],
           "sequentialminus": [
            [
             0,
             "#0d0887"
            ],
            [
             0.1111111111111111,
             "#46039f"
            ],
            [
             0.2222222222222222,
             "#7201a8"
            ],
            [
             0.3333333333333333,
             "#9c179e"
            ],
            [
             0.4444444444444444,
             "#bd3786"
            ],
            [
             0.5555555555555556,
             "#d8576b"
            ],
            [
             0.6666666666666666,
             "#ed7953"
            ],
            [
             0.7777777777777778,
             "#fb9f3a"
            ],
            [
             0.8888888888888888,
             "#fdca26"
            ],
            [
             1,
             "#f0f921"
            ]
           ]
          },
          "colorway": [
           "#636efa",
           "#EF553B",
           "#00cc96",
           "#ab63fa",
           "#FFA15A",
           "#19d3f3",
           "#FF6692",
           "#B6E880",
           "#FF97FF",
           "#FECB52"
          ],
          "font": {
           "color": "#2a3f5f"
          },
          "geo": {
           "bgcolor": "white",
           "lakecolor": "white",
           "landcolor": "#E5ECF6",
           "showlakes": true,
           "showland": true,
           "subunitcolor": "white"
          },
          "hoverlabel": {
           "align": "left"
          },
          "hovermode": "closest",
          "mapbox": {
           "style": "light"
          },
          "paper_bgcolor": "white",
          "plot_bgcolor": "#E5ECF6",
          "polar": {
           "angularaxis": {
            "gridcolor": "white",
            "linecolor": "white",
            "ticks": ""
           },
           "bgcolor": "#E5ECF6",
           "radialaxis": {
            "gridcolor": "white",
            "linecolor": "white",
            "ticks": ""
           }
          },
          "scene": {
           "xaxis": {
            "backgroundcolor": "#E5ECF6",
            "gridcolor": "white",
            "gridwidth": 2,
            "linecolor": "white",
            "showbackground": true,
            "ticks": "",
            "zerolinecolor": "white"
           },
           "yaxis": {
            "backgroundcolor": "#E5ECF6",
            "gridcolor": "white",
            "gridwidth": 2,
            "linecolor": "white",
            "showbackground": true,
            "ticks": "",
            "zerolinecolor": "white"
           },
           "zaxis": {
            "backgroundcolor": "#E5ECF6",
            "gridcolor": "white",
            "gridwidth": 2,
            "linecolor": "white",
            "showbackground": true,
            "ticks": "",
            "zerolinecolor": "white"
           }
          },
          "shapedefaults": {
           "line": {
            "color": "#2a3f5f"
           }
          },
          "ternary": {
           "aaxis": {
            "gridcolor": "white",
            "linecolor": "white",
            "ticks": ""
           },
           "baxis": {
            "gridcolor": "white",
            "linecolor": "white",
            "ticks": ""
           },
           "bgcolor": "#E5ECF6",
           "caxis": {
            "gridcolor": "white",
            "linecolor": "white",
            "ticks": ""
           }
          },
          "title": {
           "x": 0.05
          },
          "xaxis": {
           "automargin": true,
           "gridcolor": "white",
           "linecolor": "white",
           "ticks": "",
           "zerolinecolor": "white",
           "zerolinewidth": 2
          },
          "yaxis": {
           "automargin": true,
           "gridcolor": "white",
           "linecolor": "white",
           "ticks": "",
           "zerolinecolor": "white",
           "zerolinewidth": 2
          }
         }
        },
        "title": {
         "font": {
          "family": "Times New Roman"
         },
         "text": "<b>Correlation Coefficients for the MLS Areas of Boise<b>",
         "x": 0.5,
         "xref": "paper"
        },
        "yaxis": {
         "title": {
          "font": {
           "family": "Times New Roman",
           "size": 16
          },
          "text": "<b>Correlation Coefficient<b>"
         }
        }
       }
      },
      "text/html": [
       "<div>\n",
       "        \n",
       "        \n",
       "            <div id=\"6a34717c-025d-46b8-94c2-fc344d3900ef\" class=\"plotly-graph-div\" style=\"height:525px; width:100%;\"></div>\n",
       "            <script type=\"text/javascript\">\n",
       "                require([\"plotly\"], function(Plotly) {\n",
       "                    window.PLOTLYENV=window.PLOTLYENV || {};\n",
       "                    \n",
       "                if (document.getElementById(\"6a34717c-025d-46b8-94c2-fc344d3900ef\")) {\n",
       "                    Plotly.newPlot(\n",
       "                        '6a34717c-025d-46b8-94c2-fc344d3900ef',\n",
       "                        [{\"marker\": {\"color\": \"rgb(220,20,60)\", \"size\": 10, \"symbol\": \"square-open\"}, \"mode\": \"markers\", \"name\": \"NW Boise\", \"type\": \"scatter\", \"x\": [\"1      1\\n2      2\\n9      9\\n12    12\\n15    15\\n18    18\\n20    20\\n21    21\\n24    24\\n28    28\\n29    29\\n30    30\", \"1      1\\n2      2\\n9      9\\n12    12\\n15    15\\n18    18\\n20    20\\n21    21\\n24    24\\n28    28\\n29    29\\n30    30\", \"1      1\\n2      2\\n9      9\\n12    12\\n15    15\\n18    18\\n20    20\\n21    21\\n24    24\\n28    28\\n29    29\\n30    30\", \"1      1\\n2      2\\n9      9\\n12    12\\n15    15\\n18    18\\n20    20\\n21    21\\n24    24\\n28    28\\n29    29\\n30    30\", \"1      1\\n2      2\\n9      9\\n12    12\\n15    15\\n18    18\\n20    20\\n21    21\\n24    24\\n28    28\\n29    29\\n30    30\", \"1      1\\n2      2\\n9      9\\n12    12\\n15    15\\n18    18\\n20    20\\n21    21\\n24    24\\n28    28\\n29    29\\n30    30\", \"1      1\\n2      2\\n9      9\\n12    12\\n15    15\\n18    18\\n20    20\\n21    21\\n24    24\\n28    28\\n29    29\\n30    30\", \"1      1\\n2      2\\n9      9\\n12    12\\n15    15\\n18    18\\n20    20\\n21    21\\n24    24\\n28    28\\n29    29\\n30    30\", \"1      1\\n2      2\\n9      9\\n12    12\\n15    15\\n18    18\\n20    20\\n21    21\\n24    24\\n28    28\\n29    29\\n30    30\", \"1      1\\n2      2\\n9      9\\n12    12\\n15    15\\n18    18\\n20    20\\n21    21\\n24    24\\n28    28\\n29    29\\n30    30\", \"1      1\\n2      2\\n9      9\\n12    12\\n15    15\\n18    18\\n20    20\\n21    21\\n24    24\\n28    28\\n29    29\\n30    30\", \"1      1\\n2      2\\n9      9\\n12    12\\n15    15\\n18    18\\n20    20\\n21    21\\n24    24\\n28    28\\n29    29\\n30    30\"], \"y\": [0.20512159087241913, 0.20202415393377984, 0.15580723101335364, null, 0.20297371252017204, 0.17163317062771433, 0.20723197604888455, 0.19265518844715313, null, 0.21006497116471967, 0.1980678101943947, 0.2194234637811191]}, {\"marker\": {\"color\": \"rgb(0,128,128)\", \"size\": 10, \"symbol\": \"star-diamond-open\"}, \"mode\": \"markers\", \"name\": \"Boise Bench\", \"type\": \"scatter\", \"x\": [\"1      1\\n2      2\\n9      9\\n12    12\\n15    15\\n18    18\\n20    20\\n21    21\\n24    24\\n28    28\\n29    29\\n30    30\", \"1      1\\n2      2\\n9      9\\n12    12\\n15    15\\n18    18\\n20    20\\n21    21\\n24    24\\n28    28\\n29    29\\n30    30\", \"1      1\\n2      2\\n9      9\\n12    12\\n15    15\\n18    18\\n20    20\\n21    21\\n24    24\\n28    28\\n29    29\\n30    30\", \"1      1\\n2      2\\n9      9\\n12    12\\n15    15\\n18    18\\n20    20\\n21    21\\n24    24\\n28    28\\n29    29\\n30    30\", \"1      1\\n2      2\\n9      9\\n12    12\\n15    15\\n18    18\\n20    20\\n21    21\\n24    24\\n28    28\\n29    29\\n30    30\", \"1      1\\n2      2\\n9      9\\n12    12\\n15    15\\n18    18\\n20    20\\n21    21\\n24    24\\n28    28\\n29    29\\n30    30\", \"1      1\\n2      2\\n9      9\\n12    12\\n15    15\\n18    18\\n20    20\\n21    21\\n24    24\\n28    28\\n29    29\\n30    30\", \"1      1\\n2      2\\n9      9\\n12    12\\n15    15\\n18    18\\n20    20\\n21    21\\n24    24\\n28    28\\n29    29\\n30    30\", \"1      1\\n2      2\\n9      9\\n12    12\\n15    15\\n18    18\\n20    20\\n21    21\\n24    24\\n28    28\\n29    29\\n30    30\", \"1      1\\n2      2\\n9      9\\n12    12\\n15    15\\n18    18\\n20    20\\n21    21\\n24    24\\n28    28\\n29    29\\n30    30\", \"1      1\\n2      2\\n9      9\\n12    12\\n15    15\\n18    18\\n20    20\\n21    21\\n24    24\\n28    28\\n29    29\\n30    30\", \"1      1\\n2      2\\n9      9\\n12    12\\n15    15\\n18    18\\n20    20\\n21    21\\n24    24\\n28    28\\n29    29\\n30    30\"], \"y\": [0.32229565012681455, 0.2977798318315564, 0.26285977724726195, null, 0.2964887347404128, 0.272514238926972, 0.3368547084586827, 0.3129320707425859, null, 0.3083006612882456, 0.3091620597574776, 0.34116317866143864]}, {\"marker\": {\"color\": \"rgb(0,0,128)\", \"size\": 10, \"symbol\": \"pentagon-open\"}, \"mode\": \"markers\", \"name\": \"SE Boise\", \"type\": \"scatter\", \"x\": [\"1      1\\n2      2\\n9      9\\n12    12\\n15    15\\n18    18\\n20    20\\n21    21\\n24    24\\n28    28\\n29    29\\n30    30\", \"1      1\\n2      2\\n9      9\\n12    12\\n15    15\\n18    18\\n20    20\\n21    21\\n24    24\\n28    28\\n29    29\\n30    30\", \"1      1\\n2      2\\n9      9\\n12    12\\n15    15\\n18    18\\n20    20\\n21    21\\n24    24\\n28    28\\n29    29\\n30    30\", \"1      1\\n2      2\\n9      9\\n12    12\\n15    15\\n18    18\\n20    20\\n21    21\\n24    24\\n28    28\\n29    29\\n30    30\", \"1      1\\n2      2\\n9      9\\n12    12\\n15    15\\n18    18\\n20    20\\n21    21\\n24    24\\n28    28\\n29    29\\n30    30\", \"1      1\\n2      2\\n9      9\\n12    12\\n15    15\\n18    18\\n20    20\\n21    21\\n24    24\\n28    28\\n29    29\\n30    30\", \"1      1\\n2      2\\n9      9\\n12    12\\n15    15\\n18    18\\n20    20\\n21    21\\n24    24\\n28    28\\n29    29\\n30    30\", \"1      1\\n2      2\\n9      9\\n12    12\\n15    15\\n18    18\\n20    20\\n21    21\\n24    24\\n28    28\\n29    29\\n30    30\", \"1      1\\n2      2\\n9      9\\n12    12\\n15    15\\n18    18\\n20    20\\n21    21\\n24    24\\n28    28\\n29    29\\n30    30\", \"1      1\\n2      2\\n9      9\\n12    12\\n15    15\\n18    18\\n20    20\\n21    21\\n24    24\\n28    28\\n29    29\\n30    30\", \"1      1\\n2      2\\n9      9\\n12    12\\n15    15\\n18    18\\n20    20\\n21    21\\n24    24\\n28    28\\n29    29\\n30    30\", \"1      1\\n2      2\\n9      9\\n12    12\\n15    15\\n18    18\\n20    20\\n21    21\\n24    24\\n28    28\\n29    29\\n30    30\"], \"y\": [0.15165217623671404, 0.1734840864835354, null, null, 0.15737235712812978, 0.1371784809545204, 0.1697408477614244, 0.14697773768881994, 0.14220614099515813, 0.17784203090063153, 0.17361536502233788, 0.1789425947447074]}, {\"marker\": {\"color\": \"rgb(107,142,35)\", \"size\": 10, \"symbol\": \"star-open\"}, \"mode\": \"markers\", \"name\": \"N Boise\", \"type\": \"scatter\", \"x\": [\"1      1\\n2      2\\n9      9\\n12    12\\n15    15\\n18    18\\n20    20\\n21    21\\n24    24\\n28    28\\n29    29\\n30    30\", \"1      1\\n2      2\\n9      9\\n12    12\\n15    15\\n18    18\\n20    20\\n21    21\\n24    24\\n28    28\\n29    29\\n30    30\", \"1      1\\n2      2\\n9      9\\n12    12\\n15    15\\n18    18\\n20    20\\n21    21\\n24    24\\n28    28\\n29    29\\n30    30\", \"1      1\\n2      2\\n9      9\\n12    12\\n15    15\\n18    18\\n20    20\\n21    21\\n24    24\\n28    28\\n29    29\\n30    30\", \"1      1\\n2      2\\n9      9\\n12    12\\n15    15\\n18    18\\n20    20\\n21    21\\n24    24\\n28    28\\n29    29\\n30    30\", \"1      1\\n2      2\\n9      9\\n12    12\\n15    15\\n18    18\\n20    20\\n21    21\\n24    24\\n28    28\\n29    29\\n30    30\", \"1      1\\n2      2\\n9      9\\n12    12\\n15    15\\n18    18\\n20    20\\n21    21\\n24    24\\n28    28\\n29    29\\n30    30\", \"1      1\\n2      2\\n9      9\\n12    12\\n15    15\\n18    18\\n20    20\\n21    21\\n24    24\\n28    28\\n29    29\\n30    30\", \"1      1\\n2      2\\n9      9\\n12    12\\n15    15\\n18    18\\n20    20\\n21    21\\n24    24\\n28    28\\n29    29\\n30    30\", \"1      1\\n2      2\\n9      9\\n12    12\\n15    15\\n18    18\\n20    20\\n21    21\\n24    24\\n28    28\\n29    29\\n30    30\", \"1      1\\n2      2\\n9      9\\n12    12\\n15    15\\n18    18\\n20    20\\n21    21\\n24    24\\n28    28\\n29    29\\n30    30\", \"1      1\\n2      2\\n9      9\\n12    12\\n15    15\\n18    18\\n20    20\\n21    21\\n24    24\\n28    28\\n29    29\\n30    30\"], \"y\": [0.14568582626853804, 0.16123274910358384, 0.14203870429727855, null, 0.16107155863138956, null, 0.1778548012365404, 0.1672556839217225, 0.14263095766200048, 0.19851334669155937, 0.20551528108839293, 0.1750492026773702]}, {\"marker\": {\"color\": \"rgb(199,21,133)\", \"size\": 10, \"symbol\": \"bowtie-open\"}, \"mode\": \"markers\", \"name\": \"NE Boise\", \"type\": \"scatter\", \"x\": [\"1      1\\n2      2\\n9      9\\n12    12\\n15    15\\n18    18\\n20    20\\n21    21\\n24    24\\n28    28\\n29    29\\n30    30\", \"1      1\\n2      2\\n9      9\\n12    12\\n15    15\\n18    18\\n20    20\\n21    21\\n24    24\\n28    28\\n29    29\\n30    30\", \"1      1\\n2      2\\n9      9\\n12    12\\n15    15\\n18    18\\n20    20\\n21    21\\n24    24\\n28    28\\n29    29\\n30    30\", \"1      1\\n2      2\\n9      9\\n12    12\\n15    15\\n18    18\\n20    20\\n21    21\\n24    24\\n28    28\\n29    29\\n30    30\", \"1      1\\n2      2\\n9      9\\n12    12\\n15    15\\n18    18\\n20    20\\n21    21\\n24    24\\n28    28\\n29    29\\n30    30\", \"1      1\\n2      2\\n9      9\\n12    12\\n15    15\\n18    18\\n20    20\\n21    21\\n24    24\\n28    28\\n29    29\\n30    30\", \"1      1\\n2      2\\n9      9\\n12    12\\n15    15\\n18    18\\n20    20\\n21    21\\n24    24\\n28    28\\n29    29\\n30    30\", \"1      1\\n2      2\\n9      9\\n12    12\\n15    15\\n18    18\\n20    20\\n21    21\\n24    24\\n28    28\\n29    29\\n30    30\", \"1      1\\n2      2\\n9      9\\n12    12\\n15    15\\n18    18\\n20    20\\n21    21\\n24    24\\n28    28\\n29    29\\n30    30\", \"1      1\\n2      2\\n9      9\\n12    12\\n15    15\\n18    18\\n20    20\\n21    21\\n24    24\\n28    28\\n29    29\\n30    30\", \"1      1\\n2      2\\n9      9\\n12    12\\n15    15\\n18    18\\n20    20\\n21    21\\n24    24\\n28    28\\n29    29\\n30    30\", \"1      1\\n2      2\\n9      9\\n12    12\\n15    15\\n18    18\\n20    20\\n21    21\\n24    24\\n28    28\\n29    29\\n30    30\"], \"y\": [null, 0.03192043949798312, 0.026809437454825388, 0.023057916262704235, 0.028292428886185668, 0.029265182343593755, 0.031063975572862466, 0.024672545434538812, null, 0.02878594374273333, 0.031774543826914844, 0.03517291426907938]}, {\"marker\": {\"color\": \"rgb(47,79,79)\", \"size\": 10, \"symbol\": \"circle-cross-open\"}, \"mode\": \"markers\", \"name\": \"W Boise\", \"type\": \"scatter\", \"x\": [\"1      1\\n2      2\\n9      9\\n12    12\\n15    15\\n18    18\\n20    20\\n21    21\\n24    24\\n28    28\\n29    29\\n30    30\", \"1      1\\n2      2\\n9      9\\n12    12\\n15    15\\n18    18\\n20    20\\n21    21\\n24    24\\n28    28\\n29    29\\n30    30\", \"1      1\\n2      2\\n9      9\\n12    12\\n15    15\\n18    18\\n20    20\\n21    21\\n24    24\\n28    28\\n29    29\\n30    30\", \"1      1\\n2      2\\n9      9\\n12    12\\n15    15\\n18    18\\n20    20\\n21    21\\n24    24\\n28    28\\n29    29\\n30    30\", \"1      1\\n2      2\\n9      9\\n12    12\\n15    15\\n18    18\\n20    20\\n21    21\\n24    24\\n28    28\\n29    29\\n30    30\", \"1      1\\n2      2\\n9      9\\n12    12\\n15    15\\n18    18\\n20    20\\n21    21\\n24    24\\n28    28\\n29    29\\n30    30\", \"1      1\\n2      2\\n9      9\\n12    12\\n15    15\\n18    18\\n20    20\\n21    21\\n24    24\\n28    28\\n29    29\\n30    30\", \"1      1\\n2      2\\n9      9\\n12    12\\n15    15\\n18    18\\n20    20\\n21    21\\n24    24\\n28    28\\n29    29\\n30    30\", \"1      1\\n2      2\\n9      9\\n12    12\\n15    15\\n18    18\\n20    20\\n21    21\\n24    24\\n28    28\\n29    29\\n30    30\", \"1      1\\n2      2\\n9      9\\n12    12\\n15    15\\n18    18\\n20    20\\n21    21\\n24    24\\n28    28\\n29    29\\n30    30\", \"1      1\\n2      2\\n9      9\\n12    12\\n15    15\\n18    18\\n20    20\\n21    21\\n24    24\\n28    28\\n29    29\\n30    30\", \"1      1\\n2      2\\n9      9\\n12    12\\n15    15\\n18    18\\n20    20\\n21    21\\n24    24\\n28    28\\n29    29\\n30    30\"], \"y\": [0.29519200186127226, 0.30411753621650506, null, null, 0.27954755117672947, 0.2583987627632459, 0.30643098999833923, 0.27529209359889817, 0.23000235919516213, 0.28374230141513573, 0.27966548526962093, 0.316576752139436]}, {\"marker\": {\"color\": \"rgb(139,69,19)\", \"size\": 10, \"symbol\": \"triangle-nw-open\"}, \"mode\": \"markers\", \"name\": \"SW Boise M\", \"type\": \"scatter\", \"x\": [\"1      1\\n2      2\\n9      9\\n12    12\\n15    15\\n18    18\\n20    20\\n21    21\\n24    24\\n28    28\\n29    29\\n30    30\", \"1      1\\n2      2\\n9      9\\n12    12\\n15    15\\n18    18\\n20    20\\n21    21\\n24    24\\n28    28\\n29    29\\n30    30\", \"1      1\\n2      2\\n9      9\\n12    12\\n15    15\\n18    18\\n20    20\\n21    21\\n24    24\\n28    28\\n29    29\\n30    30\", \"1      1\\n2      2\\n9      9\\n12    12\\n15    15\\n18    18\\n20    20\\n21    21\\n24    24\\n28    28\\n29    29\\n30    30\", \"1      1\\n2      2\\n9      9\\n12    12\\n15    15\\n18    18\\n20    20\\n21    21\\n24    24\\n28    28\\n29    29\\n30    30\", \"1      1\\n2      2\\n9      9\\n12    12\\n15    15\\n18    18\\n20    20\\n21    21\\n24    24\\n28    28\\n29    29\\n30    30\", \"1      1\\n2      2\\n9      9\\n12    12\\n15    15\\n18    18\\n20    20\\n21    21\\n24    24\\n28    28\\n29    29\\n30    30\", \"1      1\\n2      2\\n9      9\\n12    12\\n15    15\\n18    18\\n20    20\\n21    21\\n24    24\\n28    28\\n29    29\\n30    30\", \"1      1\\n2      2\\n9      9\\n12    12\\n15    15\\n18    18\\n20    20\\n21    21\\n24    24\\n28    28\\n29    29\\n30    30\", \"1      1\\n2      2\\n9      9\\n12    12\\n15    15\\n18    18\\n20    20\\n21    21\\n24    24\\n28    28\\n29    29\\n30    30\", \"1      1\\n2      2\\n9      9\\n12    12\\n15    15\\n18    18\\n20    20\\n21    21\\n24    24\\n28    28\\n29    29\\n30    30\", \"1      1\\n2      2\\n9      9\\n12    12\\n15    15\\n18    18\\n20    20\\n21    21\\n24    24\\n28    28\\n29    29\\n30    30\"], \"y\": [0.1504959753661697, 0.19855952481727007, 0.16073145051703916, null, 0.15638199418159174, 0.14752294027571, 0.1861149105898015, 0.1621694067401815, null, 0.1476974534956342, 0.15610206178053995, 0.18751794041229808]}, {\"marker\": {\"color\": \"rgb(255,140,0)\", \"size\": 10, \"symbol\": \"hourglass-open\"}, \"mode\": \"markers\", \"name\": \"W Boise-Meridian\", \"type\": \"scatter\", \"x\": [\"1      1\\n2      2\\n9      9\\n12    12\\n15    15\\n18    18\\n20    20\\n21    21\\n24    24\\n28    28\\n29    29\\n30    30\", \"1      1\\n2      2\\n9      9\\n12    12\\n15    15\\n18    18\\n20    20\\n21    21\\n24    24\\n28    28\\n29    29\\n30    30\", \"1      1\\n2      2\\n9      9\\n12    12\\n15    15\\n18    18\\n20    20\\n21    21\\n24    24\\n28    28\\n29    29\\n30    30\", \"1      1\\n2      2\\n9      9\\n12    12\\n15    15\\n18    18\\n20    20\\n21    21\\n24    24\\n28    28\\n29    29\\n30    30\", \"1      1\\n2      2\\n9      9\\n12    12\\n15    15\\n18    18\\n20    20\\n21    21\\n24    24\\n28    28\\n29    29\\n30    30\", \"1      1\\n2      2\\n9      9\\n12    12\\n15    15\\n18    18\\n20    20\\n21    21\\n24    24\\n28    28\\n29    29\\n30    30\", \"1      1\\n2      2\\n9      9\\n12    12\\n15    15\\n18    18\\n20    20\\n21    21\\n24    24\\n28    28\\n29    29\\n30    30\", \"1      1\\n2      2\\n9      9\\n12    12\\n15    15\\n18    18\\n20    20\\n21    21\\n24    24\\n28    28\\n29    29\\n30    30\", \"1      1\\n2      2\\n9      9\\n12    12\\n15    15\\n18    18\\n20    20\\n21    21\\n24    24\\n28    28\\n29    29\\n30    30\", \"1      1\\n2      2\\n9      9\\n12    12\\n15    15\\n18    18\\n20    20\\n21    21\\n24    24\\n28    28\\n29    29\\n30    30\", \"1      1\\n2      2\\n9      9\\n12    12\\n15    15\\n18    18\\n20    20\\n21    21\\n24    24\\n28    28\\n29    29\\n30    30\", \"1      1\\n2      2\\n9      9\\n12    12\\n15    15\\n18    18\\n20    20\\n21    21\\n24    24\\n28    28\\n29    29\\n30    30\"], \"y\": [0.17200512497700174, 0.1904964859912985, 0.1682920275536081, null, 0.1872697109980509, 0.16916813917865597, 0.19343996709316957, 0.1889609160179004, null, 0.19680433092148597, 0.19205655325395457, 0.21572484830063943]}, {\"marker\": {\"color\": \"rgb(128,0,128)\", \"size\": 10, \"symbol\": \"diamond-tall-open\"}, \"mode\": \"markers\", \"name\": \"SW Boise\", \"type\": \"scatter\", \"x\": [\"1      1\\n2      2\\n9      9\\n12    12\\n15    15\\n18    18\\n20    20\\n21    21\\n24    24\\n28    28\\n29    29\\n30    30\", \"1      1\\n2      2\\n9      9\\n12    12\\n15    15\\n18    18\\n20    20\\n21    21\\n24    24\\n28    28\\n29    29\\n30    30\", \"1      1\\n2      2\\n9      9\\n12    12\\n15    15\\n18    18\\n20    20\\n21    21\\n24    24\\n28    28\\n29    29\\n30    30\", \"1      1\\n2      2\\n9      9\\n12    12\\n15    15\\n18    18\\n20    20\\n21    21\\n24    24\\n28    28\\n29    29\\n30    30\", \"1      1\\n2      2\\n9      9\\n12    12\\n15    15\\n18    18\\n20    20\\n21    21\\n24    24\\n28    28\\n29    29\\n30    30\", \"1      1\\n2      2\\n9      9\\n12    12\\n15    15\\n18    18\\n20    20\\n21    21\\n24    24\\n28    28\\n29    29\\n30    30\", \"1      1\\n2      2\\n9      9\\n12    12\\n15    15\\n18    18\\n20    20\\n21    21\\n24    24\\n28    28\\n29    29\\n30    30\", \"1      1\\n2      2\\n9      9\\n12    12\\n15    15\\n18    18\\n20    20\\n21    21\\n24    24\\n28    28\\n29    29\\n30    30\", \"1      1\\n2      2\\n9      9\\n12    12\\n15    15\\n18    18\\n20    20\\n21    21\\n24    24\\n28    28\\n29    29\\n30    30\", \"1      1\\n2      2\\n9      9\\n12    12\\n15    15\\n18    18\\n20    20\\n21    21\\n24    24\\n28    28\\n29    29\\n30    30\", \"1      1\\n2      2\\n9      9\\n12    12\\n15    15\\n18    18\\n20    20\\n21    21\\n24    24\\n28    28\\n29    29\\n30    30\", \"1      1\\n2      2\\n9      9\\n12    12\\n15    15\\n18    18\\n20    20\\n21    21\\n24    24\\n28    28\\n29    29\\n30    30\"], \"y\": [0.22035769938390118, 0.2100096397353598, 0.17849278215008724, null, null, 0.1861785956967291, 0.2478144672058495, 0.19438792897553028, 0.1692682959775328, 0.1989783959986223, 0.1929026311951265, 0.21577060714910704]}],\n",
       "                        {\"template\": {\"data\": {\"bar\": [{\"error_x\": {\"color\": \"#2a3f5f\"}, \"error_y\": {\"color\": \"#2a3f5f\"}, \"marker\": {\"line\": {\"color\": \"#E5ECF6\", \"width\": 0.5}}, \"type\": \"bar\"}], \"barpolar\": [{\"marker\": {\"line\": {\"color\": \"#E5ECF6\", \"width\": 0.5}}, \"type\": \"barpolar\"}], \"carpet\": [{\"aaxis\": {\"endlinecolor\": \"#2a3f5f\", \"gridcolor\": \"white\", \"linecolor\": \"white\", \"minorgridcolor\": \"white\", \"startlinecolor\": \"#2a3f5f\"}, \"baxis\": {\"endlinecolor\": \"#2a3f5f\", \"gridcolor\": \"white\", \"linecolor\": \"white\", \"minorgridcolor\": \"white\", \"startlinecolor\": \"#2a3f5f\"}, \"type\": \"carpet\"}], \"choropleth\": [{\"colorbar\": {\"outlinewidth\": 0, \"ticks\": \"\"}, \"type\": \"choropleth\"}], \"contour\": [{\"colorbar\": {\"outlinewidth\": 0, \"ticks\": \"\"}, \"colorscale\": [[0.0, \"#0d0887\"], [0.1111111111111111, \"#46039f\"], [0.2222222222222222, \"#7201a8\"], [0.3333333333333333, \"#9c179e\"], [0.4444444444444444, \"#bd3786\"], [0.5555555555555556, \"#d8576b\"], [0.6666666666666666, \"#ed7953\"], [0.7777777777777778, \"#fb9f3a\"], [0.8888888888888888, \"#fdca26\"], [1.0, \"#f0f921\"]], \"type\": \"contour\"}], \"contourcarpet\": [{\"colorbar\": {\"outlinewidth\": 0, \"ticks\": \"\"}, \"type\": \"contourcarpet\"}], \"heatmap\": [{\"colorbar\": {\"outlinewidth\": 0, \"ticks\": \"\"}, \"colorscale\": [[0.0, \"#0d0887\"], [0.1111111111111111, \"#46039f\"], [0.2222222222222222, \"#7201a8\"], [0.3333333333333333, \"#9c179e\"], [0.4444444444444444, \"#bd3786\"], [0.5555555555555556, \"#d8576b\"], [0.6666666666666666, \"#ed7953\"], [0.7777777777777778, \"#fb9f3a\"], [0.8888888888888888, \"#fdca26\"], [1.0, \"#f0f921\"]], \"type\": \"heatmap\"}], \"heatmapgl\": [{\"colorbar\": {\"outlinewidth\": 0, \"ticks\": \"\"}, \"colorscale\": [[0.0, \"#0d0887\"], [0.1111111111111111, \"#46039f\"], [0.2222222222222222, \"#7201a8\"], [0.3333333333333333, \"#9c179e\"], [0.4444444444444444, \"#bd3786\"], [0.5555555555555556, \"#d8576b\"], [0.6666666666666666, \"#ed7953\"], [0.7777777777777778, \"#fb9f3a\"], [0.8888888888888888, \"#fdca26\"], [1.0, \"#f0f921\"]], \"type\": \"heatmapgl\"}], \"histogram\": [{\"marker\": {\"colorbar\": {\"outlinewidth\": 0, \"ticks\": \"\"}}, \"type\": \"histogram\"}], \"histogram2d\": [{\"colorbar\": {\"outlinewidth\": 0, \"ticks\": \"\"}, \"colorscale\": [[0.0, \"#0d0887\"], [0.1111111111111111, \"#46039f\"], [0.2222222222222222, \"#7201a8\"], [0.3333333333333333, \"#9c179e\"], [0.4444444444444444, \"#bd3786\"], [0.5555555555555556, \"#d8576b\"], [0.6666666666666666, \"#ed7953\"], [0.7777777777777778, \"#fb9f3a\"], [0.8888888888888888, \"#fdca26\"], [1.0, \"#f0f921\"]], \"type\": \"histogram2d\"}], \"histogram2dcontour\": [{\"colorbar\": {\"outlinewidth\": 0, \"ticks\": \"\"}, \"colorscale\": [[0.0, \"#0d0887\"], [0.1111111111111111, \"#46039f\"], [0.2222222222222222, \"#7201a8\"], [0.3333333333333333, \"#9c179e\"], [0.4444444444444444, \"#bd3786\"], [0.5555555555555556, \"#d8576b\"], [0.6666666666666666, \"#ed7953\"], [0.7777777777777778, \"#fb9f3a\"], [0.8888888888888888, \"#fdca26\"], [1.0, \"#f0f921\"]], \"type\": \"histogram2dcontour\"}], \"mesh3d\": [{\"colorbar\": {\"outlinewidth\": 0, \"ticks\": \"\"}, \"type\": \"mesh3d\"}], \"parcoords\": [{\"line\": {\"colorbar\": {\"outlinewidth\": 0, \"ticks\": \"\"}}, \"type\": \"parcoords\"}], \"scatter\": [{\"marker\": {\"colorbar\": {\"outlinewidth\": 0, \"ticks\": \"\"}}, \"type\": \"scatter\"}], \"scatter3d\": [{\"line\": {\"colorbar\": {\"outlinewidth\": 0, \"ticks\": \"\"}}, \"marker\": {\"colorbar\": {\"outlinewidth\": 0, \"ticks\": \"\"}}, \"type\": \"scatter3d\"}], \"scattercarpet\": [{\"marker\": {\"colorbar\": {\"outlinewidth\": 0, \"ticks\": \"\"}}, \"type\": \"scattercarpet\"}], \"scattergeo\": [{\"marker\": {\"colorbar\": {\"outlinewidth\": 0, \"ticks\": \"\"}}, \"type\": \"scattergeo\"}], \"scattergl\": [{\"marker\": {\"colorbar\": {\"outlinewidth\": 0, \"ticks\": \"\"}}, \"type\": \"scattergl\"}], \"scattermapbox\": [{\"marker\": {\"colorbar\": {\"outlinewidth\": 0, \"ticks\": \"\"}}, \"type\": \"scattermapbox\"}], \"scatterpolar\": [{\"marker\": {\"colorbar\": {\"outlinewidth\": 0, \"ticks\": \"\"}}, \"type\": \"scatterpolar\"}], \"scatterpolargl\": [{\"marker\": {\"colorbar\": {\"outlinewidth\": 0, \"ticks\": \"\"}}, \"type\": \"scatterpolargl\"}], \"scatterternary\": [{\"marker\": {\"colorbar\": {\"outlinewidth\": 0, \"ticks\": \"\"}}, \"type\": \"scatterternary\"}], \"surface\": [{\"colorbar\": {\"outlinewidth\": 0, \"ticks\": \"\"}, \"colorscale\": [[0.0, \"#0d0887\"], [0.1111111111111111, \"#46039f\"], [0.2222222222222222, \"#7201a8\"], [0.3333333333333333, \"#9c179e\"], [0.4444444444444444, \"#bd3786\"], [0.5555555555555556, \"#d8576b\"], [0.6666666666666666, \"#ed7953\"], [0.7777777777777778, \"#fb9f3a\"], [0.8888888888888888, \"#fdca26\"], [1.0, \"#f0f921\"]], \"type\": \"surface\"}], \"table\": [{\"cells\": {\"fill\": {\"color\": \"#EBF0F8\"}, \"line\": {\"color\": \"white\"}}, \"header\": {\"fill\": {\"color\": \"#C8D4E3\"}, \"line\": {\"color\": \"white\"}}, \"type\": \"table\"}]}, \"layout\": {\"annotationdefaults\": {\"arrowcolor\": \"#2a3f5f\", \"arrowhead\": 0, \"arrowwidth\": 1}, \"colorscale\": {\"diverging\": [[0, \"#8e0152\"], [0.1, \"#c51b7d\"], [0.2, \"#de77ae\"], [0.3, \"#f1b6da\"], [0.4, \"#fde0ef\"], [0.5, \"#f7f7f7\"], [0.6, \"#e6f5d0\"], [0.7, \"#b8e186\"], [0.8, \"#7fbc41\"], [0.9, \"#4d9221\"], [1, \"#276419\"]], \"sequential\": [[0.0, \"#0d0887\"], [0.1111111111111111, \"#46039f\"], [0.2222222222222222, \"#7201a8\"], [0.3333333333333333, \"#9c179e\"], [0.4444444444444444, \"#bd3786\"], [0.5555555555555556, \"#d8576b\"], [0.6666666666666666, \"#ed7953\"], [0.7777777777777778, \"#fb9f3a\"], [0.8888888888888888, \"#fdca26\"], [1.0, \"#f0f921\"]], \"sequentialminus\": [[0.0, \"#0d0887\"], [0.1111111111111111, \"#46039f\"], [0.2222222222222222, \"#7201a8\"], [0.3333333333333333, \"#9c179e\"], [0.4444444444444444, \"#bd3786\"], [0.5555555555555556, \"#d8576b\"], [0.6666666666666666, \"#ed7953\"], [0.7777777777777778, \"#fb9f3a\"], [0.8888888888888888, \"#fdca26\"], [1.0, \"#f0f921\"]]}, \"colorway\": [\"#636efa\", \"#EF553B\", \"#00cc96\", \"#ab63fa\", \"#FFA15A\", \"#19d3f3\", \"#FF6692\", \"#B6E880\", \"#FF97FF\", \"#FECB52\"], \"font\": {\"color\": \"#2a3f5f\"}, \"geo\": {\"bgcolor\": \"white\", \"lakecolor\": \"white\", \"landcolor\": \"#E5ECF6\", \"showlakes\": true, \"showland\": true, \"subunitcolor\": \"white\"}, \"hoverlabel\": {\"align\": \"left\"}, \"hovermode\": \"closest\", \"mapbox\": {\"style\": \"light\"}, \"paper_bgcolor\": \"white\", \"plot_bgcolor\": \"#E5ECF6\", \"polar\": {\"angularaxis\": {\"gridcolor\": \"white\", \"linecolor\": \"white\", \"ticks\": \"\"}, \"bgcolor\": \"#E5ECF6\", \"radialaxis\": {\"gridcolor\": \"white\", \"linecolor\": \"white\", \"ticks\": \"\"}}, \"scene\": {\"xaxis\": {\"backgroundcolor\": \"#E5ECF6\", \"gridcolor\": \"white\", \"gridwidth\": 2, \"linecolor\": \"white\", \"showbackground\": true, \"ticks\": \"\", \"zerolinecolor\": \"white\"}, \"yaxis\": {\"backgroundcolor\": \"#E5ECF6\", \"gridcolor\": \"white\", \"gridwidth\": 2, \"linecolor\": \"white\", \"showbackground\": true, \"ticks\": \"\", \"zerolinecolor\": \"white\"}, \"zaxis\": {\"backgroundcolor\": \"#E5ECF6\", \"gridcolor\": \"white\", \"gridwidth\": 2, \"linecolor\": \"white\", \"showbackground\": true, \"ticks\": \"\", \"zerolinecolor\": \"white\"}}, \"shapedefaults\": {\"line\": {\"color\": \"#2a3f5f\"}}, \"ternary\": {\"aaxis\": {\"gridcolor\": \"white\", \"linecolor\": \"white\", \"ticks\": \"\"}, \"baxis\": {\"gridcolor\": \"white\", \"linecolor\": \"white\", \"ticks\": \"\"}, \"bgcolor\": \"#E5ECF6\", \"caxis\": {\"gridcolor\": \"white\", \"linecolor\": \"white\", \"ticks\": \"\"}}, \"title\": {\"x\": 0.05}, \"xaxis\": {\"automargin\": true, \"gridcolor\": \"white\", \"linecolor\": \"white\", \"ticks\": \"\", \"zerolinecolor\": \"white\", \"zerolinewidth\": 2}, \"yaxis\": {\"automargin\": true, \"gridcolor\": \"white\", \"linecolor\": \"white\", \"ticks\": \"\", \"zerolinecolor\": \"white\", \"zerolinewidth\": 2}}}, \"title\": {\"font\": {\"family\": \"Times New Roman\"}, \"text\": \"<b>Correlation Coefficients for the MLS Areas of Boise<b>\", \"x\": 0.5, \"xref\": \"paper\"}, \"yaxis\": {\"title\": {\"font\": {\"family\": \"Times New Roman\", \"size\": 16}, \"text\": \"<b>Correlation Coefficient<b>\"}}},\n",
       "                        {\"responsive\": true}\n",
       "                    ).then(function(){\n",
       "                            \n",
       "var gd = document.getElementById('6a34717c-025d-46b8-94c2-fc344d3900ef');\n",
       "var x = new MutationObserver(function (mutations, observer) {{\n",
       "        var display = window.getComputedStyle(gd).display;\n",
       "        if (!display || display === 'none') {{\n",
       "            console.log([gd, 'removed!']);\n",
       "            Plotly.purge(gd);\n",
       "            observer.disconnect();\n",
       "        }}\n",
       "}});\n",
       "\n",
       "// Listen for the removal of the full notebook cells\n",
       "var notebookContainer = gd.closest('#notebook-container');\n",
       "if (notebookContainer) {{\n",
       "    x.observe(notebookContainer, {childList: true});\n",
       "}}\n",
       "\n",
       "// Listen for the clearing of the current output cell\n",
       "var outputEl = gd.closest('.output');\n",
       "if (outputEl) {{\n",
       "    x.observe(outputEl, {childList: true});\n",
       "}}\n",
       "\n",
       "                        })\n",
       "                };\n",
       "                });\n",
       "            </script>\n",
       "        </div>"
      ]
     },
     "metadata": {},
     "output_type": "display_data"
    }
   ],
   "source": [
    "df = pd.read_pickle('a-Coeff-compare.pkl')\n",
    "df = df.iloc[9:]\n",
    "df = df.reset_index(drop = True)\n",
    "df = df.reset_index(drop = False)\n",
    "df = df.dropna(thresh = 3)\n",
    "df['level_0'] = df['level_0'].to_string()\n",
    "\n",
    "area_fig = go.Figure()\n",
    "\n",
    "area_fig.add_trace(go.Scatter(x= df['level_0'], y=df['NW_Boise_GC'],\n",
    "                    mode='markers',\n",
    "                    marker_color = 'rgb(220,20,60)',\n",
    "                    marker=dict(size= 10, symbol = \"square-open\"),          \n",
    "                    name='NW Boise'))\n",
    "\n",
    "area_fig.add_trace(go.Scatter(x= df['level_0'], y=df['B_Bench'],\n",
    "                    mode='markers',\n",
    "                    marker_color = 'rgb(0,128,128)',\n",
    "                    marker=dict(size= 10, symbol = \"star-diamond-open\"), \n",
    "                    name='Boise Bench'))\n",
    "\n",
    "area_fig.add_trace(go.Scatter(x= df['level_0'], y=df['SE_Boise'],\n",
    "                    mode='markers',\n",
    "                    marker_color = 'rgb(0,0,128)',\n",
    "                    marker=dict(size= 10, symbol = \"pentagon-open\"),          \n",
    "                    name='SE Boise'))\n",
    "\n",
    "area_fig.add_trace(go.Scatter(x= df['level_0'], y=df['N_Boise'],\n",
    "                    mode='markers',\n",
    "                    marker_color = 'rgb(107,142,35)',\n",
    "                    marker=dict(size= 10, symbol = \"star-open\"),          \n",
    "                    name='N Boise'))\n",
    "\n",
    "area_fig.add_trace(go.Scatter(x= df['level_0'], y=df['NE_Boise'],\n",
    "                    mode='markers',\n",
    "                    marker_color = 'rgb(199,21,133)',\n",
    "                    marker=dict(size= 10, symbol = \"bowtie-open\"),           \n",
    "                    name='NE Boise'))\n",
    "\n",
    "area_fig.add_trace(go.Scatter(x= df['level_0'], y=df['W_Boise'],\n",
    "                    mode='markers',\n",
    "                    marker_color = 'rgb(47,79,79)',\n",
    "                    marker=dict(size= 10, symbol = \"circle-cross-open\"),          \n",
    "                    name='W Boise'))\n",
    "\n",
    "area_fig.add_trace(go.Scatter(x= df['level_0'], y=df['SW_Boise_M'],\n",
    "                    mode='markers',\n",
    "                    marker_color = 'rgb(139,69,19)',\n",
    "                    marker=dict(size= 10, symbol = \"triangle-nw-open\"),          \n",
    "                    name='SW Boise M'))\n",
    "\n",
    "area_fig.add_trace(go.Scatter(x= df['level_0'], y=df['W_Boise_M'],\n",
    "                    mode='markers',\n",
    "                    marker_color = 'rgb(255,140,0)',\n",
    "                    marker=dict(size= 10, symbol = \"hourglass-open\"),          \n",
    "                    name='W Boise-Meridian'))\n",
    "\n",
    "area_fig.add_trace(go.Scatter(x= df['level_0'], y=df['SW_Boise'],\n",
    "                    mode='markers',\n",
    "                    marker_color = 'rgb(128,0,128)',\n",
    "                    marker=dict(size= 10, symbol = \"diamond-tall-open\"),           \n",
    "                    name='SW Boise'))\n",
    "\n",
    "\n",
    "# area_fig.update_layout(\n",
    "#     shapes=[\n",
    "#         # Line Horizontal\n",
    "#         go.layout.Shape(\n",
    "#             type=\"line\",\n",
    "#             x0=0,y0=.7,\n",
    "#             x1=11,y1=.7,\n",
    "#             line=dict(\n",
    "#                 color=\"Grey\",\n",
    "#                 width=1,\n",
    "#                 dash=\"dashdot\",),),])\n",
    "# area_fig.update_layout(\n",
    "#     shapes=[\n",
    "#         # Line Horizontal\n",
    "#         go.layout.Shape(\n",
    "#             type=\"line\",\n",
    "#             x0=-1,y0=.3,\n",
    "#             x1=12,y1=.3,\n",
    "#             line=dict(\n",
    "#                 color=\"Grey\",\n",
    "#                 width=1,\n",
    "#                 dash=\"dashdot\",),),])\n",
    "\n",
    "area_fig.update_layout(\n",
    "    title=go.layout.Title(\n",
    "        text=\"<b>Correlation Coefficients for the MLS Areas of Boise<b>\",\n",
    "        font = dict( \n",
    "            family = 'Times New Roman'),\n",
    "        xref=\"paper\",\n",
    "        x=.5\n",
    "    ),\n",
    "    yaxis=go.layout.YAxis(\n",
    "        title=go.layout.yaxis.Title(\n",
    "            text=\"<b>Correlation Coefficient<b>\",\n",
    "            font=dict(\n",
    "                family=\"Times New Roman\",\n",
    "                size=16,\n",
    "#                color=\"#7f7f7f\"\n",
    "            )\n",
    "        )\n",
    "    ))\n",
    "\n",
    "\n",
    "area_fig.show()"
   ]
  },
  {
   "cell_type": "markdown",
   "metadata": {},
   "source": [
    "# do this for area https://plot.ly/python/splom/"
   ]
  },
  {
   "cell_type": "code",
   "execution_count": null,
   "metadata": {},
   "outputs": [],
   "source": []
  },
  {
   "cell_type": "markdown",
   "metadata": {},
   "source": [
    "# Area-Neighborhood Correlation Coefficient Comparison"
   ]
  },
  {
   "cell_type": "code",
   "execution_count": 16,
   "metadata": {},
   "outputs": [],
   "source": [
    "df = pd.read_pickle('WB-Coeff-compare.pkl')\n",
    "df2 = pd.read_pickle('a-Coeff-compare.pkl')\n",
    "\n",
    "\n",
    "df = pd.merge(df,df2, on = 'index', how = 'outer')\n",
    "\n",
    "df = df.dropna(thresh = 2)\n",
    "df = df.reset_index(drop = True)\n",
    "\n",
    "df = df.iloc[1:]\n",
    "#df"
   ]
  },
  {
   "cell_type": "markdown",
   "metadata": {},
   "source": [
    "## West Boise"
   ]
  },
  {
   "cell_type": "code",
   "execution_count": 40,
   "metadata": {},
   "outputs": [
    {
     "data": {
      "application/vnd.plotly.v1+json": {
       "config": {
        "plotlyServerURL": "https://plot.ly"
       },
       "data": [
        {
         "marker": {
          "color": "rgba(47, 79, 79, .8)",
          "size": 12,
          "symbol": "circle-cross-open"
         },
         "mode": "markers",
         "name": "West Boise Area",
         "type": "scatter",
         "x": [
          "Arts, Design, Entertainment, Sports, And Media Occupations",
          "Building And Grounds Cleaning And Maintenance Occupations",
          "Food Preparation And Serving Related Occupations",
          "Installation, Maintenance, And Repair Occupations",
          "Management Occupations",
          "Production Occupations",
          "Sales And Related Occupations",
          "Transportation And Material Moving Occupations",
          "(10000.0, 40000.0]",
          "(70000.0, 100000.0]",
          "Total_House_Change",
          "Total_Pop_Change",
          "Total_Emp_Change"
         ],
         "y": [
          0.29519200186127226,
          0.30411753621650506,
          null,
          null,
          0.27954755117672947,
          0.2583987627632459,
          0.30643098999833923,
          0.27529209359889817,
          null,
          0.23000235919516213,
          0.28374230141513573,
          0.27966548526962093,
          0.316576752139436
         ]
        },
        {
         "marker": {
          "color": "rgb(0,0,0)"
         },
         "mode": "markers",
         "name": "North Central Bench",
         "type": "scatter",
         "x": [
          "Arts, Design, Entertainment, Sports, And Media Occupations",
          "Building And Grounds Cleaning And Maintenance Occupations",
          "Food Preparation And Serving Related Occupations",
          "Installation, Maintenance, And Repair Occupations",
          "Management Occupations",
          "Production Occupations",
          "Sales And Related Occupations",
          "Transportation And Material Moving Occupations",
          "(10000.0, 40000.0]",
          "(70000.0, 100000.0]",
          "Total_House_Change",
          "Total_Pop_Change",
          "Total_Emp_Change"
         ],
         "y": [
          0.3408121044231221,
          0.3548843351248777,
          null,
          null,
          0.32682710046024566,
          0.27693482791430296,
          0.33846103026694313,
          0.30448338203427067,
          null,
          0.2648112033369074,
          0.331082769540031,
          0.32280932451287464,
          0.35228166387112725
         ]
        },
        {
         "marker": {
          "color": "rgb(119,136,153)"
         },
         "mode": "markers",
         "name": "West Boise",
         "type": "scatter",
         "x": [
          "Arts, Design, Entertainment, Sports, And Media Occupations",
          "Building And Grounds Cleaning And Maintenance Occupations",
          "Food Preparation And Serving Related Occupations",
          "Installation, Maintenance, And Repair Occupations",
          "Management Occupations",
          "Production Occupations",
          "Sales And Related Occupations",
          "Transportation And Material Moving Occupations",
          "(10000.0, 40000.0]",
          "(70000.0, 100000.0]",
          "Total_House_Change",
          "Total_Pop_Change",
          "Total_Emp_Change"
         ],
         "y": [
          0.24468380177026633,
          0.254660107404812,
          0.20168504612852323,
          null,
          0.256964806303417,
          0.2545880288233967,
          0.2957744537833685,
          0.270868901743769,
          null,
          null,
          0.26258627554212394,
          0.26267802611001534,
          0.2994889214537766
         ]
        },
        {
         "marker": {
          "color": "rgb(169,169,169)"
         },
         "mode": "markers",
         "name": "West B. Freeway Cor.",
         "type": "scatter",
         "x": [
          "Arts, Design, Entertainment, Sports, And Media Occupations",
          "Building And Grounds Cleaning And Maintenance Occupations",
          "Food Preparation And Serving Related Occupations",
          "Installation, Maintenance, And Repair Occupations",
          "Management Occupations",
          "Production Occupations",
          "Sales And Related Occupations",
          "Transportation And Material Moving Occupations",
          "(10000.0, 40000.0]",
          "(70000.0, 100000.0]",
          "Total_House_Change",
          "Total_Pop_Change",
          "Total_Emp_Change"
         ],
         "y": [
          0.20516665361348102,
          0.19119047143088264,
          0.1720890647006011,
          null,
          null,
          0.20798506019290355,
          0.2161010160009209,
          0.1848362076853966,
          0.1490865838312788,
          0.15158379383483478,
          null,
          0.15087399337712443,
          0.22004006955914113
         ]
        }
       ],
       "layout": {
        "shapes": [
         {
          "line": {
           "color": "Grey",
           "dash": "dashdot",
           "width": 1
          },
          "type": "line",
          "x0": -1,
          "x1": 13,
          "y0": 0.3,
          "y1": 0.3
         }
        ],
        "template": {
         "data": {
          "bar": [
           {
            "error_x": {
             "color": "#2a3f5f"
            },
            "error_y": {
             "color": "#2a3f5f"
            },
            "marker": {
             "line": {
              "color": "#E5ECF6",
              "width": 0.5
             }
            },
            "type": "bar"
           }
          ],
          "barpolar": [
           {
            "marker": {
             "line": {
              "color": "#E5ECF6",
              "width": 0.5
             }
            },
            "type": "barpolar"
           }
          ],
          "carpet": [
           {
            "aaxis": {
             "endlinecolor": "#2a3f5f",
             "gridcolor": "white",
             "linecolor": "white",
             "minorgridcolor": "white",
             "startlinecolor": "#2a3f5f"
            },
            "baxis": {
             "endlinecolor": "#2a3f5f",
             "gridcolor": "white",
             "linecolor": "white",
             "minorgridcolor": "white",
             "startlinecolor": "#2a3f5f"
            },
            "type": "carpet"
           }
          ],
          "choropleth": [
           {
            "colorbar": {
             "outlinewidth": 0,
             "ticks": ""
            },
            "type": "choropleth"
           }
          ],
          "contour": [
           {
            "colorbar": {
             "outlinewidth": 0,
             "ticks": ""
            },
            "colorscale": [
             [
              0,
              "#0d0887"
             ],
             [
              0.1111111111111111,
              "#46039f"
             ],
             [
              0.2222222222222222,
              "#7201a8"
             ],
             [
              0.3333333333333333,
              "#9c179e"
             ],
             [
              0.4444444444444444,
              "#bd3786"
             ],
             [
              0.5555555555555556,
              "#d8576b"
             ],
             [
              0.6666666666666666,
              "#ed7953"
             ],
             [
              0.7777777777777778,
              "#fb9f3a"
             ],
             [
              0.8888888888888888,
              "#fdca26"
             ],
             [
              1,
              "#f0f921"
             ]
            ],
            "type": "contour"
           }
          ],
          "contourcarpet": [
           {
            "colorbar": {
             "outlinewidth": 0,
             "ticks": ""
            },
            "type": "contourcarpet"
           }
          ],
          "heatmap": [
           {
            "colorbar": {
             "outlinewidth": 0,
             "ticks": ""
            },
            "colorscale": [
             [
              0,
              "#0d0887"
             ],
             [
              0.1111111111111111,
              "#46039f"
             ],
             [
              0.2222222222222222,
              "#7201a8"
             ],
             [
              0.3333333333333333,
              "#9c179e"
             ],
             [
              0.4444444444444444,
              "#bd3786"
             ],
             [
              0.5555555555555556,
              "#d8576b"
             ],
             [
              0.6666666666666666,
              "#ed7953"
             ],
             [
              0.7777777777777778,
              "#fb9f3a"
             ],
             [
              0.8888888888888888,
              "#fdca26"
             ],
             [
              1,
              "#f0f921"
             ]
            ],
            "type": "heatmap"
           }
          ],
          "heatmapgl": [
           {
            "colorbar": {
             "outlinewidth": 0,
             "ticks": ""
            },
            "colorscale": [
             [
              0,
              "#0d0887"
             ],
             [
              0.1111111111111111,
              "#46039f"
             ],
             [
              0.2222222222222222,
              "#7201a8"
             ],
             [
              0.3333333333333333,
              "#9c179e"
             ],
             [
              0.4444444444444444,
              "#bd3786"
             ],
             [
              0.5555555555555556,
              "#d8576b"
             ],
             [
              0.6666666666666666,
              "#ed7953"
             ],
             [
              0.7777777777777778,
              "#fb9f3a"
             ],
             [
              0.8888888888888888,
              "#fdca26"
             ],
             [
              1,
              "#f0f921"
             ]
            ],
            "type": "heatmapgl"
           }
          ],
          "histogram": [
           {
            "marker": {
             "colorbar": {
              "outlinewidth": 0,
              "ticks": ""
             }
            },
            "type": "histogram"
           }
          ],
          "histogram2d": [
           {
            "colorbar": {
             "outlinewidth": 0,
             "ticks": ""
            },
            "colorscale": [
             [
              0,
              "#0d0887"
             ],
             [
              0.1111111111111111,
              "#46039f"
             ],
             [
              0.2222222222222222,
              "#7201a8"
             ],
             [
              0.3333333333333333,
              "#9c179e"
             ],
             [
              0.4444444444444444,
              "#bd3786"
             ],
             [
              0.5555555555555556,
              "#d8576b"
             ],
             [
              0.6666666666666666,
              "#ed7953"
             ],
             [
              0.7777777777777778,
              "#fb9f3a"
             ],
             [
              0.8888888888888888,
              "#fdca26"
             ],
             [
              1,
              "#f0f921"
             ]
            ],
            "type": "histogram2d"
           }
          ],
          "histogram2dcontour": [
           {
            "colorbar": {
             "outlinewidth": 0,
             "ticks": ""
            },
            "colorscale": [
             [
              0,
              "#0d0887"
             ],
             [
              0.1111111111111111,
              "#46039f"
             ],
             [
              0.2222222222222222,
              "#7201a8"
             ],
             [
              0.3333333333333333,
              "#9c179e"
             ],
             [
              0.4444444444444444,
              "#bd3786"
             ],
             [
              0.5555555555555556,
              "#d8576b"
             ],
             [
              0.6666666666666666,
              "#ed7953"
             ],
             [
              0.7777777777777778,
              "#fb9f3a"
             ],
             [
              0.8888888888888888,
              "#fdca26"
             ],
             [
              1,
              "#f0f921"
             ]
            ],
            "type": "histogram2dcontour"
           }
          ],
          "mesh3d": [
           {
            "colorbar": {
             "outlinewidth": 0,
             "ticks": ""
            },
            "type": "mesh3d"
           }
          ],
          "parcoords": [
           {
            "line": {
             "colorbar": {
              "outlinewidth": 0,
              "ticks": ""
             }
            },
            "type": "parcoords"
           }
          ],
          "scatter": [
           {
            "marker": {
             "colorbar": {
              "outlinewidth": 0,
              "ticks": ""
             }
            },
            "type": "scatter"
           }
          ],
          "scatter3d": [
           {
            "line": {
             "colorbar": {
              "outlinewidth": 0,
              "ticks": ""
             }
            },
            "marker": {
             "colorbar": {
              "outlinewidth": 0,
              "ticks": ""
             }
            },
            "type": "scatter3d"
           }
          ],
          "scattercarpet": [
           {
            "marker": {
             "colorbar": {
              "outlinewidth": 0,
              "ticks": ""
             }
            },
            "type": "scattercarpet"
           }
          ],
          "scattergeo": [
           {
            "marker": {
             "colorbar": {
              "outlinewidth": 0,
              "ticks": ""
             }
            },
            "type": "scattergeo"
           }
          ],
          "scattergl": [
           {
            "marker": {
             "colorbar": {
              "outlinewidth": 0,
              "ticks": ""
             }
            },
            "type": "scattergl"
           }
          ],
          "scattermapbox": [
           {
            "marker": {
             "colorbar": {
              "outlinewidth": 0,
              "ticks": ""
             }
            },
            "type": "scattermapbox"
           }
          ],
          "scatterpolar": [
           {
            "marker": {
             "colorbar": {
              "outlinewidth": 0,
              "ticks": ""
             }
            },
            "type": "scatterpolar"
           }
          ],
          "scatterpolargl": [
           {
            "marker": {
             "colorbar": {
              "outlinewidth": 0,
              "ticks": ""
             }
            },
            "type": "scatterpolargl"
           }
          ],
          "scatterternary": [
           {
            "marker": {
             "colorbar": {
              "outlinewidth": 0,
              "ticks": ""
             }
            },
            "type": "scatterternary"
           }
          ],
          "surface": [
           {
            "colorbar": {
             "outlinewidth": 0,
             "ticks": ""
            },
            "colorscale": [
             [
              0,
              "#0d0887"
             ],
             [
              0.1111111111111111,
              "#46039f"
             ],
             [
              0.2222222222222222,
              "#7201a8"
             ],
             [
              0.3333333333333333,
              "#9c179e"
             ],
             [
              0.4444444444444444,
              "#bd3786"
             ],
             [
              0.5555555555555556,
              "#d8576b"
             ],
             [
              0.6666666666666666,
              "#ed7953"
             ],
             [
              0.7777777777777778,
              "#fb9f3a"
             ],
             [
              0.8888888888888888,
              "#fdca26"
             ],
             [
              1,
              "#f0f921"
             ]
            ],
            "type": "surface"
           }
          ],
          "table": [
           {
            "cells": {
             "fill": {
              "color": "#EBF0F8"
             },
             "line": {
              "color": "white"
             }
            },
            "header": {
             "fill": {
              "color": "#C8D4E3"
             },
             "line": {
              "color": "white"
             }
            },
            "type": "table"
           }
          ]
         },
         "layout": {
          "annotationdefaults": {
           "arrowcolor": "#2a3f5f",
           "arrowhead": 0,
           "arrowwidth": 1
          },
          "colorscale": {
           "diverging": [
            [
             0,
             "#8e0152"
            ],
            [
             0.1,
             "#c51b7d"
            ],
            [
             0.2,
             "#de77ae"
            ],
            [
             0.3,
             "#f1b6da"
            ],
            [
             0.4,
             "#fde0ef"
            ],
            [
             0.5,
             "#f7f7f7"
            ],
            [
             0.6,
             "#e6f5d0"
            ],
            [
             0.7,
             "#b8e186"
            ],
            [
             0.8,
             "#7fbc41"
            ],
            [
             0.9,
             "#4d9221"
            ],
            [
             1,
             "#276419"
            ]
           ],
           "sequential": [
            [
             0,
             "#0d0887"
            ],
            [
             0.1111111111111111,
             "#46039f"
            ],
            [
             0.2222222222222222,
             "#7201a8"
            ],
            [
             0.3333333333333333,
             "#9c179e"
            ],
            [
             0.4444444444444444,
             "#bd3786"
            ],
            [
             0.5555555555555556,
             "#d8576b"
            ],
            [
             0.6666666666666666,
             "#ed7953"
            ],
            [
             0.7777777777777778,
             "#fb9f3a"
            ],
            [
             0.8888888888888888,
             "#fdca26"
            ],
            [
             1,
             "#f0f921"
            ]
           ],
           "sequentialminus": [
            [
             0,
             "#0d0887"
            ],
            [
             0.1111111111111111,
             "#46039f"
            ],
            [
             0.2222222222222222,
             "#7201a8"
            ],
            [
             0.3333333333333333,
             "#9c179e"
            ],
            [
             0.4444444444444444,
             "#bd3786"
            ],
            [
             0.5555555555555556,
             "#d8576b"
            ],
            [
             0.6666666666666666,
             "#ed7953"
            ],
            [
             0.7777777777777778,
             "#fb9f3a"
            ],
            [
             0.8888888888888888,
             "#fdca26"
            ],
            [
             1,
             "#f0f921"
            ]
           ]
          },
          "colorway": [
           "#636efa",
           "#EF553B",
           "#00cc96",
           "#ab63fa",
           "#FFA15A",
           "#19d3f3",
           "#FF6692",
           "#B6E880",
           "#FF97FF",
           "#FECB52"
          ],
          "font": {
           "color": "#2a3f5f"
          },
          "geo": {
           "bgcolor": "white",
           "lakecolor": "white",
           "landcolor": "#E5ECF6",
           "showlakes": true,
           "showland": true,
           "subunitcolor": "white"
          },
          "hoverlabel": {
           "align": "left"
          },
          "hovermode": "closest",
          "mapbox": {
           "style": "light"
          },
          "paper_bgcolor": "white",
          "plot_bgcolor": "#E5ECF6",
          "polar": {
           "angularaxis": {
            "gridcolor": "white",
            "linecolor": "white",
            "ticks": ""
           },
           "bgcolor": "#E5ECF6",
           "radialaxis": {
            "gridcolor": "white",
            "linecolor": "white",
            "ticks": ""
           }
          },
          "scene": {
           "xaxis": {
            "backgroundcolor": "#E5ECF6",
            "gridcolor": "white",
            "gridwidth": 2,
            "linecolor": "white",
            "showbackground": true,
            "ticks": "",
            "zerolinecolor": "white"
           },
           "yaxis": {
            "backgroundcolor": "#E5ECF6",
            "gridcolor": "white",
            "gridwidth": 2,
            "linecolor": "white",
            "showbackground": true,
            "ticks": "",
            "zerolinecolor": "white"
           },
           "zaxis": {
            "backgroundcolor": "#E5ECF6",
            "gridcolor": "white",
            "gridwidth": 2,
            "linecolor": "white",
            "showbackground": true,
            "ticks": "",
            "zerolinecolor": "white"
           }
          },
          "shapedefaults": {
           "line": {
            "color": "#2a3f5f"
           }
          },
          "ternary": {
           "aaxis": {
            "gridcolor": "white",
            "linecolor": "white",
            "ticks": ""
           },
           "baxis": {
            "gridcolor": "white",
            "linecolor": "white",
            "ticks": ""
           },
           "bgcolor": "#E5ECF6",
           "caxis": {
            "gridcolor": "white",
            "linecolor": "white",
            "ticks": ""
           }
          },
          "title": {
           "x": 0.05
          },
          "xaxis": {
           "automargin": true,
           "gridcolor": "white",
           "linecolor": "white",
           "ticks": "",
           "zerolinecolor": "white",
           "zerolinewidth": 2
          },
          "yaxis": {
           "automargin": true,
           "gridcolor": "white",
           "linecolor": "white",
           "ticks": "",
           "zerolinecolor": "white",
           "zerolinewidth": 2
          }
         }
        },
        "title": {
         "font": {
          "family": "Times New Roman"
         },
         "text": "<b>Correlation Coefficients for West Boise and Associated Neighborhoods<b>",
         "x": 0.5,
         "xref": "paper"
        },
        "yaxis": {
         "range": [
          0,
          0.7
         ],
         "title": {
          "font": {
           "family": "Times New Roman",
           "size": 16
          },
          "text": "<b>Correlation Coefficient<b>"
         }
        }
       }
      },
      "text/html": [
       "<div>\n",
       "        \n",
       "        \n",
       "            <div id=\"089e446e-8ab2-4ba4-98fc-743bd8585cf5\" class=\"plotly-graph-div\" style=\"height:525px; width:100%;\"></div>\n",
       "            <script type=\"text/javascript\">\n",
       "                require([\"plotly\"], function(Plotly) {\n",
       "                    window.PLOTLYENV=window.PLOTLYENV || {};\n",
       "                    \n",
       "                if (document.getElementById(\"089e446e-8ab2-4ba4-98fc-743bd8585cf5\")) {\n",
       "                    Plotly.newPlot(\n",
       "                        '089e446e-8ab2-4ba4-98fc-743bd8585cf5',\n",
       "                        [{\"marker\": {\"color\": \"rgba(47, 79, 79, .8)\", \"size\": 12, \"symbol\": \"circle-cross-open\"}, \"mode\": \"markers\", \"name\": \"West Boise Area\", \"type\": \"scatter\", \"x\": [\"Arts, Design, Entertainment, Sports, And Media Occupations\", \"Building And Grounds Cleaning And Maintenance Occupations\", \"Food Preparation And Serving Related Occupations\", \"Installation, Maintenance, And Repair Occupations\", \"Management Occupations\", \"Production Occupations\", \"Sales And Related Occupations\", \"Transportation And Material Moving Occupations\", \"(10000.0, 40000.0]\", \"(70000.0, 100000.0]\", \"Total_House_Change\", \"Total_Pop_Change\", \"Total_Emp_Change\"], \"y\": [0.29519200186127226, 0.30411753621650506, null, null, 0.27954755117672947, 0.2583987627632459, 0.30643098999833923, 0.27529209359889817, null, 0.23000235919516213, 0.28374230141513573, 0.27966548526962093, 0.316576752139436]}, {\"marker\": {\"color\": \"rgb(0,0,0)\"}, \"mode\": \"markers\", \"name\": \"North Central Bench\", \"type\": \"scatter\", \"x\": [\"Arts, Design, Entertainment, Sports, And Media Occupations\", \"Building And Grounds Cleaning And Maintenance Occupations\", \"Food Preparation And Serving Related Occupations\", \"Installation, Maintenance, And Repair Occupations\", \"Management Occupations\", \"Production Occupations\", \"Sales And Related Occupations\", \"Transportation And Material Moving Occupations\", \"(10000.0, 40000.0]\", \"(70000.0, 100000.0]\", \"Total_House_Change\", \"Total_Pop_Change\", \"Total_Emp_Change\"], \"y\": [0.3408121044231221, 0.3548843351248777, null, null, 0.32682710046024566, 0.27693482791430296, 0.33846103026694313, 0.30448338203427067, null, 0.2648112033369074, 0.331082769540031, 0.32280932451287464, 0.35228166387112725]}, {\"marker\": {\"color\": \"rgb(119,136,153)\"}, \"mode\": \"markers\", \"name\": \"West Boise\", \"type\": \"scatter\", \"x\": [\"Arts, Design, Entertainment, Sports, And Media Occupations\", \"Building And Grounds Cleaning And Maintenance Occupations\", \"Food Preparation And Serving Related Occupations\", \"Installation, Maintenance, And Repair Occupations\", \"Management Occupations\", \"Production Occupations\", \"Sales And Related Occupations\", \"Transportation And Material Moving Occupations\", \"(10000.0, 40000.0]\", \"(70000.0, 100000.0]\", \"Total_House_Change\", \"Total_Pop_Change\", \"Total_Emp_Change\"], \"y\": [0.24468380177026633, 0.254660107404812, 0.20168504612852323, null, 0.256964806303417, 0.2545880288233967, 0.2957744537833685, 0.270868901743769, null, null, 0.26258627554212394, 0.26267802611001534, 0.2994889214537766]}, {\"marker\": {\"color\": \"rgb(169,169,169)\"}, \"mode\": \"markers\", \"name\": \"West B. Freeway Cor.\", \"type\": \"scatter\", \"x\": [\"Arts, Design, Entertainment, Sports, And Media Occupations\", \"Building And Grounds Cleaning And Maintenance Occupations\", \"Food Preparation And Serving Related Occupations\", \"Installation, Maintenance, And Repair Occupations\", \"Management Occupations\", \"Production Occupations\", \"Sales And Related Occupations\", \"Transportation And Material Moving Occupations\", \"(10000.0, 40000.0]\", \"(70000.0, 100000.0]\", \"Total_House_Change\", \"Total_Pop_Change\", \"Total_Emp_Change\"], \"y\": [0.20516665361348102, 0.19119047143088264, 0.1720890647006011, null, null, 0.20798506019290355, 0.2161010160009209, 0.1848362076853966, 0.1490865838312788, 0.15158379383483478, null, 0.15087399337712443, 0.22004006955914113]}],\n",
       "                        {\"shapes\": [{\"line\": {\"color\": \"Grey\", \"dash\": \"dashdot\", \"width\": 1}, \"type\": \"line\", \"x0\": -1, \"x1\": 13, \"y0\": 0.3, \"y1\": 0.3}], \"template\": {\"data\": {\"bar\": [{\"error_x\": {\"color\": \"#2a3f5f\"}, \"error_y\": {\"color\": \"#2a3f5f\"}, \"marker\": {\"line\": {\"color\": \"#E5ECF6\", \"width\": 0.5}}, \"type\": \"bar\"}], \"barpolar\": [{\"marker\": {\"line\": {\"color\": \"#E5ECF6\", \"width\": 0.5}}, \"type\": \"barpolar\"}], \"carpet\": [{\"aaxis\": {\"endlinecolor\": \"#2a3f5f\", \"gridcolor\": \"white\", \"linecolor\": \"white\", \"minorgridcolor\": \"white\", \"startlinecolor\": \"#2a3f5f\"}, \"baxis\": {\"endlinecolor\": \"#2a3f5f\", \"gridcolor\": \"white\", \"linecolor\": \"white\", \"minorgridcolor\": \"white\", \"startlinecolor\": \"#2a3f5f\"}, \"type\": \"carpet\"}], \"choropleth\": [{\"colorbar\": {\"outlinewidth\": 0, \"ticks\": \"\"}, \"type\": \"choropleth\"}], \"contour\": [{\"colorbar\": {\"outlinewidth\": 0, \"ticks\": \"\"}, \"colorscale\": [[0.0, \"#0d0887\"], [0.1111111111111111, \"#46039f\"], [0.2222222222222222, \"#7201a8\"], [0.3333333333333333, \"#9c179e\"], [0.4444444444444444, \"#bd3786\"], [0.5555555555555556, \"#d8576b\"], [0.6666666666666666, \"#ed7953\"], [0.7777777777777778, \"#fb9f3a\"], [0.8888888888888888, \"#fdca26\"], [1.0, \"#f0f921\"]], \"type\": \"contour\"}], \"contourcarpet\": [{\"colorbar\": {\"outlinewidth\": 0, \"ticks\": \"\"}, \"type\": \"contourcarpet\"}], \"heatmap\": [{\"colorbar\": {\"outlinewidth\": 0, \"ticks\": \"\"}, \"colorscale\": [[0.0, \"#0d0887\"], [0.1111111111111111, \"#46039f\"], [0.2222222222222222, \"#7201a8\"], [0.3333333333333333, \"#9c179e\"], [0.4444444444444444, \"#bd3786\"], [0.5555555555555556, \"#d8576b\"], [0.6666666666666666, \"#ed7953\"], [0.7777777777777778, \"#fb9f3a\"], [0.8888888888888888, \"#fdca26\"], [1.0, \"#f0f921\"]], \"type\": \"heatmap\"}], \"heatmapgl\": [{\"colorbar\": {\"outlinewidth\": 0, \"ticks\": \"\"}, \"colorscale\": [[0.0, \"#0d0887\"], [0.1111111111111111, \"#46039f\"], [0.2222222222222222, \"#7201a8\"], [0.3333333333333333, \"#9c179e\"], [0.4444444444444444, \"#bd3786\"], [0.5555555555555556, \"#d8576b\"], [0.6666666666666666, \"#ed7953\"], [0.7777777777777778, \"#fb9f3a\"], [0.8888888888888888, \"#fdca26\"], [1.0, \"#f0f921\"]], \"type\": \"heatmapgl\"}], \"histogram\": [{\"marker\": {\"colorbar\": {\"outlinewidth\": 0, \"ticks\": \"\"}}, \"type\": \"histogram\"}], \"histogram2d\": [{\"colorbar\": {\"outlinewidth\": 0, \"ticks\": \"\"}, \"colorscale\": [[0.0, \"#0d0887\"], [0.1111111111111111, \"#46039f\"], [0.2222222222222222, \"#7201a8\"], [0.3333333333333333, \"#9c179e\"], [0.4444444444444444, \"#bd3786\"], [0.5555555555555556, \"#d8576b\"], [0.6666666666666666, \"#ed7953\"], [0.7777777777777778, \"#fb9f3a\"], [0.8888888888888888, \"#fdca26\"], [1.0, \"#f0f921\"]], \"type\": \"histogram2d\"}], \"histogram2dcontour\": [{\"colorbar\": {\"outlinewidth\": 0, \"ticks\": \"\"}, \"colorscale\": [[0.0, \"#0d0887\"], [0.1111111111111111, \"#46039f\"], [0.2222222222222222, \"#7201a8\"], [0.3333333333333333, \"#9c179e\"], [0.4444444444444444, \"#bd3786\"], [0.5555555555555556, \"#d8576b\"], [0.6666666666666666, \"#ed7953\"], [0.7777777777777778, \"#fb9f3a\"], [0.8888888888888888, \"#fdca26\"], [1.0, \"#f0f921\"]], \"type\": \"histogram2dcontour\"}], \"mesh3d\": [{\"colorbar\": {\"outlinewidth\": 0, \"ticks\": \"\"}, \"type\": \"mesh3d\"}], \"parcoords\": [{\"line\": {\"colorbar\": {\"outlinewidth\": 0, \"ticks\": \"\"}}, \"type\": \"parcoords\"}], \"scatter\": [{\"marker\": {\"colorbar\": {\"outlinewidth\": 0, \"ticks\": \"\"}}, \"type\": \"scatter\"}], \"scatter3d\": [{\"line\": {\"colorbar\": {\"outlinewidth\": 0, \"ticks\": \"\"}}, \"marker\": {\"colorbar\": {\"outlinewidth\": 0, \"ticks\": \"\"}}, \"type\": \"scatter3d\"}], \"scattercarpet\": [{\"marker\": {\"colorbar\": {\"outlinewidth\": 0, \"ticks\": \"\"}}, \"type\": \"scattercarpet\"}], \"scattergeo\": [{\"marker\": {\"colorbar\": {\"outlinewidth\": 0, \"ticks\": \"\"}}, \"type\": \"scattergeo\"}], \"scattergl\": [{\"marker\": {\"colorbar\": {\"outlinewidth\": 0, \"ticks\": \"\"}}, \"type\": \"scattergl\"}], \"scattermapbox\": [{\"marker\": {\"colorbar\": {\"outlinewidth\": 0, \"ticks\": \"\"}}, \"type\": \"scattermapbox\"}], \"scatterpolar\": [{\"marker\": {\"colorbar\": {\"outlinewidth\": 0, \"ticks\": \"\"}}, \"type\": \"scatterpolar\"}], \"scatterpolargl\": [{\"marker\": {\"colorbar\": {\"outlinewidth\": 0, \"ticks\": \"\"}}, \"type\": \"scatterpolargl\"}], \"scatterternary\": [{\"marker\": {\"colorbar\": {\"outlinewidth\": 0, \"ticks\": \"\"}}, \"type\": \"scatterternary\"}], \"surface\": [{\"colorbar\": {\"outlinewidth\": 0, \"ticks\": \"\"}, \"colorscale\": [[0.0, \"#0d0887\"], [0.1111111111111111, \"#46039f\"], [0.2222222222222222, \"#7201a8\"], [0.3333333333333333, \"#9c179e\"], [0.4444444444444444, \"#bd3786\"], [0.5555555555555556, \"#d8576b\"], [0.6666666666666666, \"#ed7953\"], [0.7777777777777778, \"#fb9f3a\"], [0.8888888888888888, \"#fdca26\"], [1.0, \"#f0f921\"]], \"type\": \"surface\"}], \"table\": [{\"cells\": {\"fill\": {\"color\": \"#EBF0F8\"}, \"line\": {\"color\": \"white\"}}, \"header\": {\"fill\": {\"color\": \"#C8D4E3\"}, \"line\": {\"color\": \"white\"}}, \"type\": \"table\"}]}, \"layout\": {\"annotationdefaults\": {\"arrowcolor\": \"#2a3f5f\", \"arrowhead\": 0, \"arrowwidth\": 1}, \"colorscale\": {\"diverging\": [[0, \"#8e0152\"], [0.1, \"#c51b7d\"], [0.2, \"#de77ae\"], [0.3, \"#f1b6da\"], [0.4, \"#fde0ef\"], [0.5, \"#f7f7f7\"], [0.6, \"#e6f5d0\"], [0.7, \"#b8e186\"], [0.8, \"#7fbc41\"], [0.9, \"#4d9221\"], [1, \"#276419\"]], \"sequential\": [[0.0, \"#0d0887\"], [0.1111111111111111, \"#46039f\"], [0.2222222222222222, \"#7201a8\"], [0.3333333333333333, \"#9c179e\"], [0.4444444444444444, \"#bd3786\"], [0.5555555555555556, \"#d8576b\"], [0.6666666666666666, \"#ed7953\"], [0.7777777777777778, \"#fb9f3a\"], [0.8888888888888888, \"#fdca26\"], [1.0, \"#f0f921\"]], \"sequentialminus\": [[0.0, \"#0d0887\"], [0.1111111111111111, \"#46039f\"], [0.2222222222222222, \"#7201a8\"], [0.3333333333333333, \"#9c179e\"], [0.4444444444444444, \"#bd3786\"], [0.5555555555555556, \"#d8576b\"], [0.6666666666666666, \"#ed7953\"], [0.7777777777777778, \"#fb9f3a\"], [0.8888888888888888, \"#fdca26\"], [1.0, \"#f0f921\"]]}, \"colorway\": [\"#636efa\", \"#EF553B\", \"#00cc96\", \"#ab63fa\", \"#FFA15A\", \"#19d3f3\", \"#FF6692\", \"#B6E880\", \"#FF97FF\", \"#FECB52\"], \"font\": {\"color\": \"#2a3f5f\"}, \"geo\": {\"bgcolor\": \"white\", \"lakecolor\": \"white\", \"landcolor\": \"#E5ECF6\", \"showlakes\": true, \"showland\": true, \"subunitcolor\": \"white\"}, \"hoverlabel\": {\"align\": \"left\"}, \"hovermode\": \"closest\", \"mapbox\": {\"style\": \"light\"}, \"paper_bgcolor\": \"white\", \"plot_bgcolor\": \"#E5ECF6\", \"polar\": {\"angularaxis\": {\"gridcolor\": \"white\", \"linecolor\": \"white\", \"ticks\": \"\"}, \"bgcolor\": \"#E5ECF6\", \"radialaxis\": {\"gridcolor\": \"white\", \"linecolor\": \"white\", \"ticks\": \"\"}}, \"scene\": {\"xaxis\": {\"backgroundcolor\": \"#E5ECF6\", \"gridcolor\": \"white\", \"gridwidth\": 2, \"linecolor\": \"white\", \"showbackground\": true, \"ticks\": \"\", \"zerolinecolor\": \"white\"}, \"yaxis\": {\"backgroundcolor\": \"#E5ECF6\", \"gridcolor\": \"white\", \"gridwidth\": 2, \"linecolor\": \"white\", \"showbackground\": true, \"ticks\": \"\", \"zerolinecolor\": \"white\"}, \"zaxis\": {\"backgroundcolor\": \"#E5ECF6\", \"gridcolor\": \"white\", \"gridwidth\": 2, \"linecolor\": \"white\", \"showbackground\": true, \"ticks\": \"\", \"zerolinecolor\": \"white\"}}, \"shapedefaults\": {\"line\": {\"color\": \"#2a3f5f\"}}, \"ternary\": {\"aaxis\": {\"gridcolor\": \"white\", \"linecolor\": \"white\", \"ticks\": \"\"}, \"baxis\": {\"gridcolor\": \"white\", \"linecolor\": \"white\", \"ticks\": \"\"}, \"bgcolor\": \"#E5ECF6\", \"caxis\": {\"gridcolor\": \"white\", \"linecolor\": \"white\", \"ticks\": \"\"}}, \"title\": {\"x\": 0.05}, \"xaxis\": {\"automargin\": true, \"gridcolor\": \"white\", \"linecolor\": \"white\", \"ticks\": \"\", \"zerolinecolor\": \"white\", \"zerolinewidth\": 2}, \"yaxis\": {\"automargin\": true, \"gridcolor\": \"white\", \"linecolor\": \"white\", \"ticks\": \"\", \"zerolinecolor\": \"white\", \"zerolinewidth\": 2}}}, \"title\": {\"font\": {\"family\": \"Times New Roman\"}, \"text\": \"<b>Correlation Coefficients for West Boise and Associated Neighborhoods<b>\", \"x\": 0.5, \"xref\": \"paper\"}, \"yaxis\": {\"range\": [0, 0.7], \"title\": {\"font\": {\"family\": \"Times New Roman\", \"size\": 16}, \"text\": \"<b>Correlation Coefficient<b>\"}}},\n",
       "                        {\"responsive\": true}\n",
       "                    ).then(function(){\n",
       "                            \n",
       "var gd = document.getElementById('089e446e-8ab2-4ba4-98fc-743bd8585cf5');\n",
       "var x = new MutationObserver(function (mutations, observer) {{\n",
       "        var display = window.getComputedStyle(gd).display;\n",
       "        if (!display || display === 'none') {{\n",
       "            console.log([gd, 'removed!']);\n",
       "            Plotly.purge(gd);\n",
       "            observer.disconnect();\n",
       "        }}\n",
       "}});\n",
       "\n",
       "// Listen for the removal of the full notebook cells\n",
       "var notebookContainer = gd.closest('#notebook-container');\n",
       "if (notebookContainer) {{\n",
       "    x.observe(notebookContainer, {childList: true});\n",
       "}}\n",
       "\n",
       "// Listen for the clearing of the current output cell\n",
       "var outputEl = gd.closest('.output');\n",
       "if (outputEl) {{\n",
       "    x.observe(outputEl, {childList: true});\n",
       "}}\n",
       "\n",
       "                        })\n",
       "                };\n",
       "                });\n",
       "            </script>\n",
       "        </div>"
      ]
     },
     "metadata": {},
     "output_type": "display_data"
    }
   ],
   "source": [
    "df = pd.read_pickle('WB-Coeff-compare.pkl')\n",
    "df2 = pd.read_pickle('a-Coeff-compare.pkl')\n",
    "\n",
    "\n",
    "df = pd.merge(df,df2, on = 'index', how = 'outer')\n",
    "\n",
    "df = df.dropna(thresh = 2)\n",
    "df = df.reset_index(drop = True)\n",
    "\n",
    "df = df.iloc[1:]\n",
    "\n",
    "WB_fig = go.Figure()\n",
    "\n",
    "WB_fig.add_trace(go.Scatter(x= df['index'], y=df['W_Boise'],\n",
    "                    mode='markers',  \n",
    "                    marker_color='rgba(47, 79, 79, .8)',\n",
    "                    marker=dict(size= 12, symbol = \"circle-cross-open\" ),     \n",
    "                    name='West Boise Area'))\n",
    "\n",
    "WB_fig.add_trace(go.Scatter(x= df['index'], y=df['WB_NC_Bench'],\n",
    "                    mode='markers',  \n",
    "                    marker_color='rgb(0,0,0)',     \n",
    "                    name='North Central Bench'))\n",
    "\n",
    "WB_fig.add_trace(go.Scatter(x= df['index'], y=df['WB_W_Boise'],\n",
    "                    mode='markers',\n",
    "                    marker_color='rgb(119,136,153)',     \n",
    "                    name='West Boise'))\n",
    "\n",
    "WB_fig.add_trace(go.Scatter(x= df['index'], y=df['WB_WBF_Corridor'],\n",
    "                    mode='markers',\n",
    "                    marker_color='rgb(169,169,169)',     \n",
    "                    name='West B. Freeway Cor.'))\n",
    "\n",
    "\n",
    "WB_fig.update_layout(\n",
    "    shapes=[\n",
    "        # Line Horizontal\n",
    "        go.layout.Shape(\n",
    "            type=\"line\",\n",
    "            x0=0,y0=.7,\n",
    "            x1=11,y1=.7,\n",
    "            line=dict(\n",
    "                color=\"Grey\",\n",
    "                width=1,\n",
    "                dash=\"dashdot\",),),])\n",
    "WB_fig.update_layout(\n",
    "    shapes=[\n",
    "        # Line Horizontal\n",
    "        go.layout.Shape(\n",
    "            type=\"line\",\n",
    "            x0=-1,y0=.3,\n",
    "            x1=13,y1=.3,\n",
    "            line=dict(\n",
    "                color=\"Grey\",\n",
    "                width=1,\n",
    "                dash=\"dashdot\",),),])\n",
    "\n",
    "WB_fig.update_layout(\n",
    "    title=go.layout.Title(\n",
    "        text=\"<b>Correlation Coefficients for West Boise and Associated Neighborhoods<b>\",\n",
    "        font = dict( \n",
    "            family = 'Times New Roman'),\n",
    "        xref=\"paper\",\n",
    "        x=.5\n",
    "    ),\n",
    "    yaxis=go.layout.YAxis(\n",
    "        title=go.layout.yaxis.Title(\n",
    "            text=\"<b>Correlation Coefficient<b>\",\n",
    "            font=dict(\n",
    "                family=\"Times New Roman\",\n",
    "                size=16,\n",
    "#               color=\"#7f7f7f\"\n",
    "                )\n",
    "        ),\n",
    "        range = [0,.7]\n",
    "    ))\n",
    "\n",
    "\n",
    "WB_fig.write_image(\"images/WB_fig.jpg\")\n",
    "WB_fig.show()\n"
   ]
  },
  {
   "cell_type": "markdown",
   "metadata": {},
   "source": [
    "## Boise Bench"
   ]
  },
  {
   "cell_type": "code",
   "execution_count": 45,
   "metadata": {},
   "outputs": [
    {
     "data": {
      "application/vnd.plotly.v1+json": {
       "config": {
        "plotlyServerURL": "https://plot.ly"
       },
       "data": [
        {
         "marker": {
          "color": "rgb(0,128,128)",
          "size": 12,
          "symbol": "star-diamond-open"
         },
         "mode": "markers",
         "name": "Boise Bench Area",
         "type": "scatter",
         "x": [
          "Arts, Design, Entertainment, Sports, And Media Occupations",
          "Building And Grounds Cleaning And Maintenance Occupations",
          "Business And Financial Operations Occupations",
          "Computer And Mathematical Occupations",
          "Construction And Extraction Occupations",
          "Food Preparation And Serving Related Occupations",
          "Installation, Maintenance, And Repair Occupations",
          "Management Occupations",
          "Production Occupations",
          "Sales And Related Occupations",
          "Transportation And Material Moving Occupations",
          "(70000.0, 100000.0]",
          "Total_House_Change",
          "Total_Pop_Change",
          "Total_Emp_Change"
         ],
         "y": [
          0.32229565012681455,
          0.2977798318315564,
          null,
          null,
          null,
          0.26285977724726195,
          null,
          0.2964887347404128,
          0.272514238926972,
          0.3368547084586827,
          0.3129320707425859,
          null,
          0.3083006612882456,
          0.3091620597574776,
          0.34116317866143864
         ]
        },
        {
         "marker": {
          "color": "rgb(102,205,170)"
         },
         "mode": "markers",
         "name": "Central B. Bench",
         "type": "scatter",
         "x": [
          "Arts, Design, Entertainment, Sports, And Media Occupations",
          "Building And Grounds Cleaning And Maintenance Occupations",
          "Business And Financial Operations Occupations",
          "Computer And Mathematical Occupations",
          "Construction And Extraction Occupations",
          "Food Preparation And Serving Related Occupations",
          "Installation, Maintenance, And Repair Occupations",
          "Management Occupations",
          "Production Occupations",
          "Sales And Related Occupations",
          "Transportation And Material Moving Occupations",
          "(70000.0, 100000.0]",
          "Total_House_Change",
          "Total_Pop_Change",
          "Total_Emp_Change"
         ],
         "y": [
          0.29113025046178553,
          0.27029738342295123,
          null,
          null,
          null,
          0.23314668846262257,
          null,
          0.2726343860753003,
          0.23713671381709017,
          0.2965559851566002,
          0.28123923459226485,
          null,
          0.2857401290307556,
          0.2837925660847719,
          0.3044393648508358
         ]
        },
        {
         "marker": {
          "color": "rgb(32,178,170)"
         },
         "mode": "markers",
         "name": "North Central Bench",
         "type": "scatter",
         "x": [
          "Arts, Design, Entertainment, Sports, And Media Occupations",
          "Building And Grounds Cleaning And Maintenance Occupations",
          "Business And Financial Operations Occupations",
          "Computer And Mathematical Occupations",
          "Construction And Extraction Occupations",
          "Food Preparation And Serving Related Occupations",
          "Installation, Maintenance, And Repair Occupations",
          "Management Occupations",
          "Production Occupations",
          "Sales And Related Occupations",
          "Transportation And Material Moving Occupations",
          "(70000.0, 100000.0]",
          "Total_House_Change",
          "Total_Pop_Change",
          "Total_Emp_Change"
         ],
         "y": [
          0.5632478119746038,
          0.5052040795893772,
          null,
          null,
          null,
          null,
          0.3029926273015629,
          0.46352266601133607,
          0.4183711733704762,
          0.5170844573674065,
          0.4097523743951764,
          null,
          0.3831379788213676,
          0.36052590919395433,
          0.47299035914572424
         ]
        },
        {
         "marker": {
          "color": "rgb(0,139,139)"
         },
         "mode": "markers",
         "name": "B. Bench Freeway Cor.",
         "type": "scatter",
         "x": [
          "Arts, Design, Entertainment, Sports, And Media Occupations",
          "Building And Grounds Cleaning And Maintenance Occupations",
          "Business And Financial Operations Occupations",
          "Computer And Mathematical Occupations",
          "Construction And Extraction Occupations",
          "Food Preparation And Serving Related Occupations",
          "Installation, Maintenance, And Repair Occupations",
          "Management Occupations",
          "Production Occupations",
          "Sales And Related Occupations",
          "Transportation And Material Moving Occupations",
          "(70000.0, 100000.0]",
          "Total_House_Change",
          "Total_Pop_Change",
          "Total_Emp_Change"
         ],
         "y": [
          0.4824896474954259,
          0.44515268409704933,
          null,
          null,
          null,
          0.42854155629512847,
          null,
          0.4225881923336079,
          0.44958817284539565,
          0.5462912933745997,
          0.49515989563736934,
          null,
          0.4383273133564845,
          0.4548747183016398,
          0.5370429521790449
         ]
        },
        {
         "marker": {
          "color": "rgb(0,255,255)"
         },
         "mode": "markers",
         "name": "Park & University Waterfront",
         "type": "scatter",
         "x": [
          "Arts, Design, Entertainment, Sports, And Media Occupations",
          "Building And Grounds Cleaning And Maintenance Occupations",
          "Business And Financial Operations Occupations",
          "Computer And Mathematical Occupations",
          "Construction And Extraction Occupations",
          "Food Preparation And Serving Related Occupations",
          "Installation, Maintenance, And Repair Occupations",
          "Management Occupations",
          "Production Occupations",
          "Sales And Related Occupations",
          "Transportation And Material Moving Occupations",
          "(70000.0, 100000.0]",
          "Total_House_Change",
          "Total_Pop_Change",
          "Total_Emp_Change"
         ],
         "y": [
          0.31724873887825455,
          null,
          0.27677334648649415,
          0.23981926569067952,
          0.35476488680254525,
          null,
          0.3204031570087898,
          0.42727329046772966,
          0.28586340401273214,
          null,
          null,
          0.3877514650306652,
          0.3425782552483783,
          null,
          0.2376114744245148
         ]
        }
       ],
       "layout": {
        "shapes": [
         {
          "line": {
           "color": "Grey",
           "dash": "dashdot",
           "width": 1
          },
          "type": "line",
          "x0": -1,
          "x1": 15,
          "y0": 0.3,
          "y1": 0.3
         }
        ],
        "template": {
         "data": {
          "bar": [
           {
            "error_x": {
             "color": "#2a3f5f"
            },
            "error_y": {
             "color": "#2a3f5f"
            },
            "marker": {
             "line": {
              "color": "#E5ECF6",
              "width": 0.5
             }
            },
            "type": "bar"
           }
          ],
          "barpolar": [
           {
            "marker": {
             "line": {
              "color": "#E5ECF6",
              "width": 0.5
             }
            },
            "type": "barpolar"
           }
          ],
          "carpet": [
           {
            "aaxis": {
             "endlinecolor": "#2a3f5f",
             "gridcolor": "white",
             "linecolor": "white",
             "minorgridcolor": "white",
             "startlinecolor": "#2a3f5f"
            },
            "baxis": {
             "endlinecolor": "#2a3f5f",
             "gridcolor": "white",
             "linecolor": "white",
             "minorgridcolor": "white",
             "startlinecolor": "#2a3f5f"
            },
            "type": "carpet"
           }
          ],
          "choropleth": [
           {
            "colorbar": {
             "outlinewidth": 0,
             "ticks": ""
            },
            "type": "choropleth"
           }
          ],
          "contour": [
           {
            "colorbar": {
             "outlinewidth": 0,
             "ticks": ""
            },
            "colorscale": [
             [
              0,
              "#0d0887"
             ],
             [
              0.1111111111111111,
              "#46039f"
             ],
             [
              0.2222222222222222,
              "#7201a8"
             ],
             [
              0.3333333333333333,
              "#9c179e"
             ],
             [
              0.4444444444444444,
              "#bd3786"
             ],
             [
              0.5555555555555556,
              "#d8576b"
             ],
             [
              0.6666666666666666,
              "#ed7953"
             ],
             [
              0.7777777777777778,
              "#fb9f3a"
             ],
             [
              0.8888888888888888,
              "#fdca26"
             ],
             [
              1,
              "#f0f921"
             ]
            ],
            "type": "contour"
           }
          ],
          "contourcarpet": [
           {
            "colorbar": {
             "outlinewidth": 0,
             "ticks": ""
            },
            "type": "contourcarpet"
           }
          ],
          "heatmap": [
           {
            "colorbar": {
             "outlinewidth": 0,
             "ticks": ""
            },
            "colorscale": [
             [
              0,
              "#0d0887"
             ],
             [
              0.1111111111111111,
              "#46039f"
             ],
             [
              0.2222222222222222,
              "#7201a8"
             ],
             [
              0.3333333333333333,
              "#9c179e"
             ],
             [
              0.4444444444444444,
              "#bd3786"
             ],
             [
              0.5555555555555556,
              "#d8576b"
             ],
             [
              0.6666666666666666,
              "#ed7953"
             ],
             [
              0.7777777777777778,
              "#fb9f3a"
             ],
             [
              0.8888888888888888,
              "#fdca26"
             ],
             [
              1,
              "#f0f921"
             ]
            ],
            "type": "heatmap"
           }
          ],
          "heatmapgl": [
           {
            "colorbar": {
             "outlinewidth": 0,
             "ticks": ""
            },
            "colorscale": [
             [
              0,
              "#0d0887"
             ],
             [
              0.1111111111111111,
              "#46039f"
             ],
             [
              0.2222222222222222,
              "#7201a8"
             ],
             [
              0.3333333333333333,
              "#9c179e"
             ],
             [
              0.4444444444444444,
              "#bd3786"
             ],
             [
              0.5555555555555556,
              "#d8576b"
             ],
             [
              0.6666666666666666,
              "#ed7953"
             ],
             [
              0.7777777777777778,
              "#fb9f3a"
             ],
             [
              0.8888888888888888,
              "#fdca26"
             ],
             [
              1,
              "#f0f921"
             ]
            ],
            "type": "heatmapgl"
           }
          ],
          "histogram": [
           {
            "marker": {
             "colorbar": {
              "outlinewidth": 0,
              "ticks": ""
             }
            },
            "type": "histogram"
           }
          ],
          "histogram2d": [
           {
            "colorbar": {
             "outlinewidth": 0,
             "ticks": ""
            },
            "colorscale": [
             [
              0,
              "#0d0887"
             ],
             [
              0.1111111111111111,
              "#46039f"
             ],
             [
              0.2222222222222222,
              "#7201a8"
             ],
             [
              0.3333333333333333,
              "#9c179e"
             ],
             [
              0.4444444444444444,
              "#bd3786"
             ],
             [
              0.5555555555555556,
              "#d8576b"
             ],
             [
              0.6666666666666666,
              "#ed7953"
             ],
             [
              0.7777777777777778,
              "#fb9f3a"
             ],
             [
              0.8888888888888888,
              "#fdca26"
             ],
             [
              1,
              "#f0f921"
             ]
            ],
            "type": "histogram2d"
           }
          ],
          "histogram2dcontour": [
           {
            "colorbar": {
             "outlinewidth": 0,
             "ticks": ""
            },
            "colorscale": [
             [
              0,
              "#0d0887"
             ],
             [
              0.1111111111111111,
              "#46039f"
             ],
             [
              0.2222222222222222,
              "#7201a8"
             ],
             [
              0.3333333333333333,
              "#9c179e"
             ],
             [
              0.4444444444444444,
              "#bd3786"
             ],
             [
              0.5555555555555556,
              "#d8576b"
             ],
             [
              0.6666666666666666,
              "#ed7953"
             ],
             [
              0.7777777777777778,
              "#fb9f3a"
             ],
             [
              0.8888888888888888,
              "#fdca26"
             ],
             [
              1,
              "#f0f921"
             ]
            ],
            "type": "histogram2dcontour"
           }
          ],
          "mesh3d": [
           {
            "colorbar": {
             "outlinewidth": 0,
             "ticks": ""
            },
            "type": "mesh3d"
           }
          ],
          "parcoords": [
           {
            "line": {
             "colorbar": {
              "outlinewidth": 0,
              "ticks": ""
             }
            },
            "type": "parcoords"
           }
          ],
          "scatter": [
           {
            "marker": {
             "colorbar": {
              "outlinewidth": 0,
              "ticks": ""
             }
            },
            "type": "scatter"
           }
          ],
          "scatter3d": [
           {
            "line": {
             "colorbar": {
              "outlinewidth": 0,
              "ticks": ""
             }
            },
            "marker": {
             "colorbar": {
              "outlinewidth": 0,
              "ticks": ""
             }
            },
            "type": "scatter3d"
           }
          ],
          "scattercarpet": [
           {
            "marker": {
             "colorbar": {
              "outlinewidth": 0,
              "ticks": ""
             }
            },
            "type": "scattercarpet"
           }
          ],
          "scattergeo": [
           {
            "marker": {
             "colorbar": {
              "outlinewidth": 0,
              "ticks": ""
             }
            },
            "type": "scattergeo"
           }
          ],
          "scattergl": [
           {
            "marker": {
             "colorbar": {
              "outlinewidth": 0,
              "ticks": ""
             }
            },
            "type": "scattergl"
           }
          ],
          "scattermapbox": [
           {
            "marker": {
             "colorbar": {
              "outlinewidth": 0,
              "ticks": ""
             }
            },
            "type": "scattermapbox"
           }
          ],
          "scatterpolar": [
           {
            "marker": {
             "colorbar": {
              "outlinewidth": 0,
              "ticks": ""
             }
            },
            "type": "scatterpolar"
           }
          ],
          "scatterpolargl": [
           {
            "marker": {
             "colorbar": {
              "outlinewidth": 0,
              "ticks": ""
             }
            },
            "type": "scatterpolargl"
           }
          ],
          "scatterternary": [
           {
            "marker": {
             "colorbar": {
              "outlinewidth": 0,
              "ticks": ""
             }
            },
            "type": "scatterternary"
           }
          ],
          "surface": [
           {
            "colorbar": {
             "outlinewidth": 0,
             "ticks": ""
            },
            "colorscale": [
             [
              0,
              "#0d0887"
             ],
             [
              0.1111111111111111,
              "#46039f"
             ],
             [
              0.2222222222222222,
              "#7201a8"
             ],
             [
              0.3333333333333333,
              "#9c179e"
             ],
             [
              0.4444444444444444,
              "#bd3786"
             ],
             [
              0.5555555555555556,
              "#d8576b"
             ],
             [
              0.6666666666666666,
              "#ed7953"
             ],
             [
              0.7777777777777778,
              "#fb9f3a"
             ],
             [
              0.8888888888888888,
              "#fdca26"
             ],
             [
              1,
              "#f0f921"
             ]
            ],
            "type": "surface"
           }
          ],
          "table": [
           {
            "cells": {
             "fill": {
              "color": "#EBF0F8"
             },
             "line": {
              "color": "white"
             }
            },
            "header": {
             "fill": {
              "color": "#C8D4E3"
             },
             "line": {
              "color": "white"
             }
            },
            "type": "table"
           }
          ]
         },
         "layout": {
          "annotationdefaults": {
           "arrowcolor": "#2a3f5f",
           "arrowhead": 0,
           "arrowwidth": 1
          },
          "colorscale": {
           "diverging": [
            [
             0,
             "#8e0152"
            ],
            [
             0.1,
             "#c51b7d"
            ],
            [
             0.2,
             "#de77ae"
            ],
            [
             0.3,
             "#f1b6da"
            ],
            [
             0.4,
             "#fde0ef"
            ],
            [
             0.5,
             "#f7f7f7"
            ],
            [
             0.6,
             "#e6f5d0"
            ],
            [
             0.7,
             "#b8e186"
            ],
            [
             0.8,
             "#7fbc41"
            ],
            [
             0.9,
             "#4d9221"
            ],
            [
             1,
             "#276419"
            ]
           ],
           "sequential": [
            [
             0,
             "#0d0887"
            ],
            [
             0.1111111111111111,
             "#46039f"
            ],
            [
             0.2222222222222222,
             "#7201a8"
            ],
            [
             0.3333333333333333,
             "#9c179e"
            ],
            [
             0.4444444444444444,
             "#bd3786"
            ],
            [
             0.5555555555555556,
             "#d8576b"
            ],
            [
             0.6666666666666666,
             "#ed7953"
            ],
            [
             0.7777777777777778,
             "#fb9f3a"
            ],
            [
             0.8888888888888888,
             "#fdca26"
            ],
            [
             1,
             "#f0f921"
            ]
           ],
           "sequentialminus": [
            [
             0,
             "#0d0887"
            ],
            [
             0.1111111111111111,
             "#46039f"
            ],
            [
             0.2222222222222222,
             "#7201a8"
            ],
            [
             0.3333333333333333,
             "#9c179e"
            ],
            [
             0.4444444444444444,
             "#bd3786"
            ],
            [
             0.5555555555555556,
             "#d8576b"
            ],
            [
             0.6666666666666666,
             "#ed7953"
            ],
            [
             0.7777777777777778,
             "#fb9f3a"
            ],
            [
             0.8888888888888888,
             "#fdca26"
            ],
            [
             1,
             "#f0f921"
            ]
           ]
          },
          "colorway": [
           "#636efa",
           "#EF553B",
           "#00cc96",
           "#ab63fa",
           "#FFA15A",
           "#19d3f3",
           "#FF6692",
           "#B6E880",
           "#FF97FF",
           "#FECB52"
          ],
          "font": {
           "color": "#2a3f5f"
          },
          "geo": {
           "bgcolor": "white",
           "lakecolor": "white",
           "landcolor": "#E5ECF6",
           "showlakes": true,
           "showland": true,
           "subunitcolor": "white"
          },
          "hoverlabel": {
           "align": "left"
          },
          "hovermode": "closest",
          "mapbox": {
           "style": "light"
          },
          "paper_bgcolor": "white",
          "plot_bgcolor": "#E5ECF6",
          "polar": {
           "angularaxis": {
            "gridcolor": "white",
            "linecolor": "white",
            "ticks": ""
           },
           "bgcolor": "#E5ECF6",
           "radialaxis": {
            "gridcolor": "white",
            "linecolor": "white",
            "ticks": ""
           }
          },
          "scene": {
           "xaxis": {
            "backgroundcolor": "#E5ECF6",
            "gridcolor": "white",
            "gridwidth": 2,
            "linecolor": "white",
            "showbackground": true,
            "ticks": "",
            "zerolinecolor": "white"
           },
           "yaxis": {
            "backgroundcolor": "#E5ECF6",
            "gridcolor": "white",
            "gridwidth": 2,
            "linecolor": "white",
            "showbackground": true,
            "ticks": "",
            "zerolinecolor": "white"
           },
           "zaxis": {
            "backgroundcolor": "#E5ECF6",
            "gridcolor": "white",
            "gridwidth": 2,
            "linecolor": "white",
            "showbackground": true,
            "ticks": "",
            "zerolinecolor": "white"
           }
          },
          "shapedefaults": {
           "line": {
            "color": "#2a3f5f"
           }
          },
          "ternary": {
           "aaxis": {
            "gridcolor": "white",
            "linecolor": "white",
            "ticks": ""
           },
           "baxis": {
            "gridcolor": "white",
            "linecolor": "white",
            "ticks": ""
           },
           "bgcolor": "#E5ECF6",
           "caxis": {
            "gridcolor": "white",
            "linecolor": "white",
            "ticks": ""
           }
          },
          "title": {
           "x": 0.05
          },
          "xaxis": {
           "automargin": true,
           "gridcolor": "white",
           "linecolor": "white",
           "ticks": "",
           "zerolinecolor": "white",
           "zerolinewidth": 2
          },
          "yaxis": {
           "automargin": true,
           "gridcolor": "white",
           "linecolor": "white",
           "ticks": "",
           "zerolinecolor": "white",
           "zerolinewidth": 2
          }
         }
        },
        "title": {
         "font": {
          "family": "Times New Roman"
         },
         "text": "<b>Correlation Coefficients for Boise Bench and Associated Neighborhoods<b>",
         "x": 0.5,
         "xref": "paper"
        },
        "yaxis": {
         "range": [
          0,
          0.7
         ],
         "title": {
          "font": {
           "family": "Times New Roman",
           "size": 16
          },
          "text": "<b>Correlation Coefficient<b>"
         }
        }
       }
      },
      "text/html": [
       "<div>\n",
       "        \n",
       "        \n",
       "            <div id=\"111622b2-2561-46a3-81aa-b86bb3b7318b\" class=\"plotly-graph-div\" style=\"height:525px; width:100%;\"></div>\n",
       "            <script type=\"text/javascript\">\n",
       "                require([\"plotly\"], function(Plotly) {\n",
       "                    window.PLOTLYENV=window.PLOTLYENV || {};\n",
       "                    \n",
       "                if (document.getElementById(\"111622b2-2561-46a3-81aa-b86bb3b7318b\")) {\n",
       "                    Plotly.newPlot(\n",
       "                        '111622b2-2561-46a3-81aa-b86bb3b7318b',\n",
       "                        [{\"marker\": {\"color\": \"rgb(0,128,128)\", \"size\": 12, \"symbol\": \"star-diamond-open\"}, \"mode\": \"markers\", \"name\": \"Boise Bench Area\", \"type\": \"scatter\", \"x\": [\"Arts, Design, Entertainment, Sports, And Media Occupations\", \"Building And Grounds Cleaning And Maintenance Occupations\", \"Business And Financial Operations Occupations\", \"Computer And Mathematical Occupations\", \"Construction And Extraction Occupations\", \"Food Preparation And Serving Related Occupations\", \"Installation, Maintenance, And Repair Occupations\", \"Management Occupations\", \"Production Occupations\", \"Sales And Related Occupations\", \"Transportation And Material Moving Occupations\", \"(70000.0, 100000.0]\", \"Total_House_Change\", \"Total_Pop_Change\", \"Total_Emp_Change\"], \"y\": [0.32229565012681455, 0.2977798318315564, null, null, null, 0.26285977724726195, null, 0.2964887347404128, 0.272514238926972, 0.3368547084586827, 0.3129320707425859, null, 0.3083006612882456, 0.3091620597574776, 0.34116317866143864]}, {\"marker\": {\"color\": \"rgb(102,205,170)\"}, \"mode\": \"markers\", \"name\": \"Central B. Bench\", \"type\": \"scatter\", \"x\": [\"Arts, Design, Entertainment, Sports, And Media Occupations\", \"Building And Grounds Cleaning And Maintenance Occupations\", \"Business And Financial Operations Occupations\", \"Computer And Mathematical Occupations\", \"Construction And Extraction Occupations\", \"Food Preparation And Serving Related Occupations\", \"Installation, Maintenance, And Repair Occupations\", \"Management Occupations\", \"Production Occupations\", \"Sales And Related Occupations\", \"Transportation And Material Moving Occupations\", \"(70000.0, 100000.0]\", \"Total_House_Change\", \"Total_Pop_Change\", \"Total_Emp_Change\"], \"y\": [0.29113025046178553, 0.27029738342295123, null, null, null, 0.23314668846262257, null, 0.2726343860753003, 0.23713671381709017, 0.2965559851566002, 0.28123923459226485, null, 0.2857401290307556, 0.2837925660847719, 0.3044393648508358]}, {\"marker\": {\"color\": \"rgb(32,178,170)\"}, \"mode\": \"markers\", \"name\": \"North Central Bench\", \"type\": \"scatter\", \"x\": [\"Arts, Design, Entertainment, Sports, And Media Occupations\", \"Building And Grounds Cleaning And Maintenance Occupations\", \"Business And Financial Operations Occupations\", \"Computer And Mathematical Occupations\", \"Construction And Extraction Occupations\", \"Food Preparation And Serving Related Occupations\", \"Installation, Maintenance, And Repair Occupations\", \"Management Occupations\", \"Production Occupations\", \"Sales And Related Occupations\", \"Transportation And Material Moving Occupations\", \"(70000.0, 100000.0]\", \"Total_House_Change\", \"Total_Pop_Change\", \"Total_Emp_Change\"], \"y\": [0.5632478119746038, 0.5052040795893772, null, null, null, null, 0.3029926273015629, 0.46352266601133607, 0.4183711733704762, 0.5170844573674065, 0.4097523743951764, null, 0.3831379788213676, 0.36052590919395433, 0.47299035914572424]}, {\"marker\": {\"color\": \"rgb(0,139,139)\"}, \"mode\": \"markers\", \"name\": \"B. Bench Freeway Cor.\", \"type\": \"scatter\", \"x\": [\"Arts, Design, Entertainment, Sports, And Media Occupations\", \"Building And Grounds Cleaning And Maintenance Occupations\", \"Business And Financial Operations Occupations\", \"Computer And Mathematical Occupations\", \"Construction And Extraction Occupations\", \"Food Preparation And Serving Related Occupations\", \"Installation, Maintenance, And Repair Occupations\", \"Management Occupations\", \"Production Occupations\", \"Sales And Related Occupations\", \"Transportation And Material Moving Occupations\", \"(70000.0, 100000.0]\", \"Total_House_Change\", \"Total_Pop_Change\", \"Total_Emp_Change\"], \"y\": [0.4824896474954259, 0.44515268409704933, null, null, null, 0.42854155629512847, null, 0.4225881923336079, 0.44958817284539565, 0.5462912933745997, 0.49515989563736934, null, 0.4383273133564845, 0.4548747183016398, 0.5370429521790449]}, {\"marker\": {\"color\": \"rgb(0,255,255)\"}, \"mode\": \"markers\", \"name\": \"Park & University Waterfront\", \"type\": \"scatter\", \"x\": [\"Arts, Design, Entertainment, Sports, And Media Occupations\", \"Building And Grounds Cleaning And Maintenance Occupations\", \"Business And Financial Operations Occupations\", \"Computer And Mathematical Occupations\", \"Construction And Extraction Occupations\", \"Food Preparation And Serving Related Occupations\", \"Installation, Maintenance, And Repair Occupations\", \"Management Occupations\", \"Production Occupations\", \"Sales And Related Occupations\", \"Transportation And Material Moving Occupations\", \"(70000.0, 100000.0]\", \"Total_House_Change\", \"Total_Pop_Change\", \"Total_Emp_Change\"], \"y\": [0.31724873887825455, null, 0.27677334648649415, 0.23981926569067952, 0.35476488680254525, null, 0.3204031570087898, 0.42727329046772966, 0.28586340401273214, null, null, 0.3877514650306652, 0.3425782552483783, null, 0.2376114744245148]}],\n",
       "                        {\"shapes\": [{\"line\": {\"color\": \"Grey\", \"dash\": \"dashdot\", \"width\": 1}, \"type\": \"line\", \"x0\": -1, \"x1\": 15, \"y0\": 0.3, \"y1\": 0.3}], \"template\": {\"data\": {\"bar\": [{\"error_x\": {\"color\": \"#2a3f5f\"}, \"error_y\": {\"color\": \"#2a3f5f\"}, \"marker\": {\"line\": {\"color\": \"#E5ECF6\", \"width\": 0.5}}, \"type\": \"bar\"}], \"barpolar\": [{\"marker\": {\"line\": {\"color\": \"#E5ECF6\", \"width\": 0.5}}, \"type\": \"barpolar\"}], \"carpet\": [{\"aaxis\": {\"endlinecolor\": \"#2a3f5f\", \"gridcolor\": \"white\", \"linecolor\": \"white\", \"minorgridcolor\": \"white\", \"startlinecolor\": \"#2a3f5f\"}, \"baxis\": {\"endlinecolor\": \"#2a3f5f\", \"gridcolor\": \"white\", \"linecolor\": \"white\", \"minorgridcolor\": \"white\", \"startlinecolor\": \"#2a3f5f\"}, \"type\": \"carpet\"}], \"choropleth\": [{\"colorbar\": {\"outlinewidth\": 0, \"ticks\": \"\"}, \"type\": \"choropleth\"}], \"contour\": [{\"colorbar\": {\"outlinewidth\": 0, \"ticks\": \"\"}, \"colorscale\": [[0.0, \"#0d0887\"], [0.1111111111111111, \"#46039f\"], [0.2222222222222222, \"#7201a8\"], [0.3333333333333333, \"#9c179e\"], [0.4444444444444444, \"#bd3786\"], [0.5555555555555556, \"#d8576b\"], [0.6666666666666666, \"#ed7953\"], [0.7777777777777778, \"#fb9f3a\"], [0.8888888888888888, \"#fdca26\"], [1.0, \"#f0f921\"]], \"type\": \"contour\"}], \"contourcarpet\": [{\"colorbar\": {\"outlinewidth\": 0, \"ticks\": \"\"}, \"type\": \"contourcarpet\"}], \"heatmap\": [{\"colorbar\": {\"outlinewidth\": 0, \"ticks\": \"\"}, \"colorscale\": [[0.0, \"#0d0887\"], [0.1111111111111111, \"#46039f\"], [0.2222222222222222, \"#7201a8\"], [0.3333333333333333, \"#9c179e\"], [0.4444444444444444, \"#bd3786\"], [0.5555555555555556, \"#d8576b\"], [0.6666666666666666, \"#ed7953\"], [0.7777777777777778, \"#fb9f3a\"], [0.8888888888888888, \"#fdca26\"], [1.0, \"#f0f921\"]], \"type\": \"heatmap\"}], \"heatmapgl\": [{\"colorbar\": {\"outlinewidth\": 0, \"ticks\": \"\"}, \"colorscale\": [[0.0, \"#0d0887\"], [0.1111111111111111, \"#46039f\"], [0.2222222222222222, \"#7201a8\"], [0.3333333333333333, \"#9c179e\"], [0.4444444444444444, \"#bd3786\"], [0.5555555555555556, \"#d8576b\"], [0.6666666666666666, \"#ed7953\"], [0.7777777777777778, \"#fb9f3a\"], [0.8888888888888888, \"#fdca26\"], [1.0, \"#f0f921\"]], \"type\": \"heatmapgl\"}], \"histogram\": [{\"marker\": {\"colorbar\": {\"outlinewidth\": 0, \"ticks\": \"\"}}, \"type\": \"histogram\"}], \"histogram2d\": [{\"colorbar\": {\"outlinewidth\": 0, \"ticks\": \"\"}, \"colorscale\": [[0.0, \"#0d0887\"], [0.1111111111111111, \"#46039f\"], [0.2222222222222222, \"#7201a8\"], [0.3333333333333333, \"#9c179e\"], [0.4444444444444444, \"#bd3786\"], [0.5555555555555556, \"#d8576b\"], [0.6666666666666666, \"#ed7953\"], [0.7777777777777778, \"#fb9f3a\"], [0.8888888888888888, \"#fdca26\"], [1.0, \"#f0f921\"]], \"type\": \"histogram2d\"}], \"histogram2dcontour\": [{\"colorbar\": {\"outlinewidth\": 0, \"ticks\": \"\"}, \"colorscale\": [[0.0, \"#0d0887\"], [0.1111111111111111, \"#46039f\"], [0.2222222222222222, \"#7201a8\"], [0.3333333333333333, \"#9c179e\"], [0.4444444444444444, \"#bd3786\"], [0.5555555555555556, \"#d8576b\"], [0.6666666666666666, \"#ed7953\"], [0.7777777777777778, \"#fb9f3a\"], [0.8888888888888888, \"#fdca26\"], [1.0, \"#f0f921\"]], \"type\": \"histogram2dcontour\"}], \"mesh3d\": [{\"colorbar\": {\"outlinewidth\": 0, \"ticks\": \"\"}, \"type\": \"mesh3d\"}], \"parcoords\": [{\"line\": {\"colorbar\": {\"outlinewidth\": 0, \"ticks\": \"\"}}, \"type\": \"parcoords\"}], \"scatter\": [{\"marker\": {\"colorbar\": {\"outlinewidth\": 0, \"ticks\": \"\"}}, \"type\": \"scatter\"}], \"scatter3d\": [{\"line\": {\"colorbar\": {\"outlinewidth\": 0, \"ticks\": \"\"}}, \"marker\": {\"colorbar\": {\"outlinewidth\": 0, \"ticks\": \"\"}}, \"type\": \"scatter3d\"}], \"scattercarpet\": [{\"marker\": {\"colorbar\": {\"outlinewidth\": 0, \"ticks\": \"\"}}, \"type\": \"scattercarpet\"}], \"scattergeo\": [{\"marker\": {\"colorbar\": {\"outlinewidth\": 0, \"ticks\": \"\"}}, \"type\": \"scattergeo\"}], \"scattergl\": [{\"marker\": {\"colorbar\": {\"outlinewidth\": 0, \"ticks\": \"\"}}, \"type\": \"scattergl\"}], \"scattermapbox\": [{\"marker\": {\"colorbar\": {\"outlinewidth\": 0, \"ticks\": \"\"}}, \"type\": \"scattermapbox\"}], \"scatterpolar\": [{\"marker\": {\"colorbar\": {\"outlinewidth\": 0, \"ticks\": \"\"}}, \"type\": \"scatterpolar\"}], \"scatterpolargl\": [{\"marker\": {\"colorbar\": {\"outlinewidth\": 0, \"ticks\": \"\"}}, \"type\": \"scatterpolargl\"}], \"scatterternary\": [{\"marker\": {\"colorbar\": {\"outlinewidth\": 0, \"ticks\": \"\"}}, \"type\": \"scatterternary\"}], \"surface\": [{\"colorbar\": {\"outlinewidth\": 0, \"ticks\": \"\"}, \"colorscale\": [[0.0, \"#0d0887\"], [0.1111111111111111, \"#46039f\"], [0.2222222222222222, \"#7201a8\"], [0.3333333333333333, \"#9c179e\"], [0.4444444444444444, \"#bd3786\"], [0.5555555555555556, \"#d8576b\"], [0.6666666666666666, \"#ed7953\"], [0.7777777777777778, \"#fb9f3a\"], [0.8888888888888888, \"#fdca26\"], [1.0, \"#f0f921\"]], \"type\": \"surface\"}], \"table\": [{\"cells\": {\"fill\": {\"color\": \"#EBF0F8\"}, \"line\": {\"color\": \"white\"}}, \"header\": {\"fill\": {\"color\": \"#C8D4E3\"}, \"line\": {\"color\": \"white\"}}, \"type\": \"table\"}]}, \"layout\": {\"annotationdefaults\": {\"arrowcolor\": \"#2a3f5f\", \"arrowhead\": 0, \"arrowwidth\": 1}, \"colorscale\": {\"diverging\": [[0, \"#8e0152\"], [0.1, \"#c51b7d\"], [0.2, \"#de77ae\"], [0.3, \"#f1b6da\"], [0.4, \"#fde0ef\"], [0.5, \"#f7f7f7\"], [0.6, \"#e6f5d0\"], [0.7, \"#b8e186\"], [0.8, \"#7fbc41\"], [0.9, \"#4d9221\"], [1, \"#276419\"]], \"sequential\": [[0.0, \"#0d0887\"], [0.1111111111111111, \"#46039f\"], [0.2222222222222222, \"#7201a8\"], [0.3333333333333333, \"#9c179e\"], [0.4444444444444444, \"#bd3786\"], [0.5555555555555556, \"#d8576b\"], [0.6666666666666666, \"#ed7953\"], [0.7777777777777778, \"#fb9f3a\"], [0.8888888888888888, \"#fdca26\"], [1.0, \"#f0f921\"]], \"sequentialminus\": [[0.0, \"#0d0887\"], [0.1111111111111111, \"#46039f\"], [0.2222222222222222, \"#7201a8\"], [0.3333333333333333, \"#9c179e\"], [0.4444444444444444, \"#bd3786\"], [0.5555555555555556, \"#d8576b\"], [0.6666666666666666, \"#ed7953\"], [0.7777777777777778, \"#fb9f3a\"], [0.8888888888888888, \"#fdca26\"], [1.0, \"#f0f921\"]]}, \"colorway\": [\"#636efa\", \"#EF553B\", \"#00cc96\", \"#ab63fa\", \"#FFA15A\", \"#19d3f3\", \"#FF6692\", \"#B6E880\", \"#FF97FF\", \"#FECB52\"], \"font\": {\"color\": \"#2a3f5f\"}, \"geo\": {\"bgcolor\": \"white\", \"lakecolor\": \"white\", \"landcolor\": \"#E5ECF6\", \"showlakes\": true, \"showland\": true, \"subunitcolor\": \"white\"}, \"hoverlabel\": {\"align\": \"left\"}, \"hovermode\": \"closest\", \"mapbox\": {\"style\": \"light\"}, \"paper_bgcolor\": \"white\", \"plot_bgcolor\": \"#E5ECF6\", \"polar\": {\"angularaxis\": {\"gridcolor\": \"white\", \"linecolor\": \"white\", \"ticks\": \"\"}, \"bgcolor\": \"#E5ECF6\", \"radialaxis\": {\"gridcolor\": \"white\", \"linecolor\": \"white\", \"ticks\": \"\"}}, \"scene\": {\"xaxis\": {\"backgroundcolor\": \"#E5ECF6\", \"gridcolor\": \"white\", \"gridwidth\": 2, \"linecolor\": \"white\", \"showbackground\": true, \"ticks\": \"\", \"zerolinecolor\": \"white\"}, \"yaxis\": {\"backgroundcolor\": \"#E5ECF6\", \"gridcolor\": \"white\", \"gridwidth\": 2, \"linecolor\": \"white\", \"showbackground\": true, \"ticks\": \"\", \"zerolinecolor\": \"white\"}, \"zaxis\": {\"backgroundcolor\": \"#E5ECF6\", \"gridcolor\": \"white\", \"gridwidth\": 2, \"linecolor\": \"white\", \"showbackground\": true, \"ticks\": \"\", \"zerolinecolor\": \"white\"}}, \"shapedefaults\": {\"line\": {\"color\": \"#2a3f5f\"}}, \"ternary\": {\"aaxis\": {\"gridcolor\": \"white\", \"linecolor\": \"white\", \"ticks\": \"\"}, \"baxis\": {\"gridcolor\": \"white\", \"linecolor\": \"white\", \"ticks\": \"\"}, \"bgcolor\": \"#E5ECF6\", \"caxis\": {\"gridcolor\": \"white\", \"linecolor\": \"white\", \"ticks\": \"\"}}, \"title\": {\"x\": 0.05}, \"xaxis\": {\"automargin\": true, \"gridcolor\": \"white\", \"linecolor\": \"white\", \"ticks\": \"\", \"zerolinecolor\": \"white\", \"zerolinewidth\": 2}, \"yaxis\": {\"automargin\": true, \"gridcolor\": \"white\", \"linecolor\": \"white\", \"ticks\": \"\", \"zerolinecolor\": \"white\", \"zerolinewidth\": 2}}}, \"title\": {\"font\": {\"family\": \"Times New Roman\"}, \"text\": \"<b>Correlation Coefficients for Boise Bench and Associated Neighborhoods<b>\", \"x\": 0.5, \"xref\": \"paper\"}, \"yaxis\": {\"range\": [0, 0.7], \"title\": {\"font\": {\"family\": \"Times New Roman\", \"size\": 16}, \"text\": \"<b>Correlation Coefficient<b>\"}}},\n",
       "                        {\"responsive\": true}\n",
       "                    ).then(function(){\n",
       "                            \n",
       "var gd = document.getElementById('111622b2-2561-46a3-81aa-b86bb3b7318b');\n",
       "var x = new MutationObserver(function (mutations, observer) {{\n",
       "        var display = window.getComputedStyle(gd).display;\n",
       "        if (!display || display === 'none') {{\n",
       "            console.log([gd, 'removed!']);\n",
       "            Plotly.purge(gd);\n",
       "            observer.disconnect();\n",
       "        }}\n",
       "}});\n",
       "\n",
       "// Listen for the removal of the full notebook cells\n",
       "var notebookContainer = gd.closest('#notebook-container');\n",
       "if (notebookContainer) {{\n",
       "    x.observe(notebookContainer, {childList: true});\n",
       "}}\n",
       "\n",
       "// Listen for the clearing of the current output cell\n",
       "var outputEl = gd.closest('.output');\n",
       "if (outputEl) {{\n",
       "    x.observe(outputEl, {childList: true});\n",
       "}}\n",
       "\n",
       "                        })\n",
       "                };\n",
       "                });\n",
       "            </script>\n",
       "        </div>"
      ]
     },
     "metadata": {},
     "output_type": "display_data"
    }
   ],
   "source": [
    "df = pd.read_pickle('BB-Coeff-compare.pkl')\n",
    "df2 = pd.read_pickle('a-Coeff-compare.pkl')\n",
    "\n",
    "\n",
    "df = pd.merge(df,df2, on = 'index', how = 'outer')\n",
    "\n",
    "df = df.dropna(thresh = 2)\n",
    "df = df.reset_index(drop = True)\n",
    "\n",
    "df = df.iloc[1:]\n",
    "\n",
    "BB_fig = go.Figure()\n",
    "\n",
    "BB_fig.add_trace(go.Scatter(x= df['index'], y=df['B_Bench'],\n",
    "                    mode='markers',\n",
    "                    marker_color = 'rgb(0,128,128)',\n",
    "                    marker=dict(size= 12, symbol = \"star-diamond-open\"), \n",
    "                    name='Boise Bench Area'))\n",
    "\n",
    "BB_fig.add_trace(go.Scatter(x= df['index'], y=df['BB_CB_Bench'],\n",
    "                    mode='markers',  \n",
    "                    marker_color='rgb(102,205,170)',  \n",
    "                    name='Central B. Bench'))\n",
    "\n",
    "BB_fig.add_trace(go.Scatter(x= df['index'], y=df['BB_NC_Bench'],\n",
    "                    mode='markers',  \n",
    "                    marker_color='rgb(32,178,170)',     \n",
    "                    name='North Central Bench'))\n",
    "\n",
    "BB_fig.add_trace(go.Scatter(x= df['index'], y=df['BB_BBF_Corridor'],\n",
    "                    mode='markers',\n",
    "                    marker_color='rgb(0,139,139)',     \n",
    "                    name='B. Bench Freeway Cor.'))\n",
    "\n",
    "BB_fig.add_trace(go.Scatter(x= df['index'], y=df['BB_PU_Waterfront'],\n",
    "                    mode='markers',\n",
    "                    marker_color='rgb(0,255,255)',     \n",
    "                    name='Park & University Waterfront'))\n",
    "\n",
    "\n",
    "BB_fig.update_layout(\n",
    "    shapes=[\n",
    "        # Line Horizontal\n",
    "        go.layout.Shape(\n",
    "            type=\"line\",\n",
    "            x0=0,y0=.7,\n",
    "            x1=11,y1=.7,\n",
    "            line=dict(\n",
    "                color=\"Grey\",\n",
    "                width=1,\n",
    "                dash=\"dashdot\",),),])\n",
    "BB_fig.update_layout(\n",
    "    shapes=[\n",
    "        # Line Horizontal\n",
    "        go.layout.Shape(\n",
    "            type=\"line\",\n",
    "            x0=-1,y0=.3,\n",
    "            x1=15,y1=.3,\n",
    "            line=dict(\n",
    "                color=\"Grey\",\n",
    "                width=1,\n",
    "                dash=\"dashdot\",),),])\n",
    "\n",
    "BB_fig.update_layout(\n",
    "    title=go.layout.Title(\n",
    "        text=\"<b>Correlation Coefficients for Boise Bench and Associated Neighborhoods<b>\",\n",
    "        font = dict( \n",
    "            family = 'Times New Roman'),\n",
    "        xref=\"paper\",\n",
    "        x=.5\n",
    "    ),\n",
    "    yaxis=go.layout.YAxis(\n",
    "        title=go.layout.yaxis.Title(\n",
    "            text=\"<b>Correlation Coefficient<b>\",\n",
    "            font=dict(\n",
    "                family=\"Times New Roman\",\n",
    "                size=16,\n",
    "#                color=\"#7f7f7f\"\n",
    "            )\n",
    "        ),\n",
    "        range = [0,.7]\n",
    "    ))\n",
    "\n",
    "\n",
    "BB_fig.write_image(\"images/BB_fig.jpg\")\n",
    "BB_fig.show()"
   ]
  },
  {
   "cell_type": "markdown",
   "metadata": {},
   "source": [
    "## West Boise-Meridian"
   ]
  },
  {
   "cell_type": "code",
   "execution_count": 47,
   "metadata": {},
   "outputs": [
    {
     "data": {
      "application/vnd.plotly.v1+json": {
       "config": {
        "plotlyServerURL": "https://plot.ly"
       },
       "data": [
        {
         "marker": {
          "color": "rgb(255,140,0)",
          "size": 12,
          "symbol": "hourglass-open"
         },
         "mode": "markers",
         "name": "West Boise-Meridian Area",
         "type": "scatter",
         "x": [
          "Arts, Design, Entertainment, Sports, And Media Occupations",
          "Building And Grounds Cleaning And Maintenance Occupations",
          "Community And Social Service Occupations",
          "Food Preparation And Serving Related Occupations",
          "Installation, Maintenance, And Repair Occupations",
          "Management Occupations",
          "Office And Administrative Support Occupations",
          "Production Occupations",
          "Sales And Related Occupations",
          "Transportation And Material Moving Occupations",
          "(70000.0, 100000.0]",
          "Total_House_Change",
          "Total_Pop_Change",
          "Total_Emp_Change"
         ],
         "y": [
          0.17200512497700174,
          0.1904964859912985,
          null,
          0.1682920275536081,
          null,
          0.1872697109980509,
          null,
          0.16916813917865597,
          0.19343996709316957,
          0.1889609160179004,
          null,
          0.19680433092148597,
          0.19205655325395457,
          0.21572484830063943
         ]
        },
        {
         "marker": {
          "color": "rgb(255,140,0)"
         },
         "mode": "markers",
         "name": "West Boise",
         "type": "scatter",
         "x": [
          "Arts, Design, Entertainment, Sports, And Media Occupations",
          "Building And Grounds Cleaning And Maintenance Occupations",
          "Community And Social Service Occupations",
          "Food Preparation And Serving Related Occupations",
          "Installation, Maintenance, And Repair Occupations",
          "Management Occupations",
          "Office And Administrative Support Occupations",
          "Production Occupations",
          "Sales And Related Occupations",
          "Transportation And Material Moving Occupations",
          "(70000.0, 100000.0]",
          "Total_House_Change",
          "Total_Pop_Change",
          "Total_Emp_Change"
         ],
         "y": [
          0.3035903819535061,
          0.32446347865687053,
          null,
          null,
          null,
          0.29548452918571827,
          null,
          0.2842149986167752,
          0.3244879054746189,
          0.3230057449983887,
          0.2847527146450548,
          0.3065965460744047,
          0.3074411338829379,
          0.35618347408301365
         ]
        },
        {
         "marker": {
          "color": "rgb(255,215,0)"
         },
         "mode": "markers",
         "name": "NE Meridian",
         "type": "scatter",
         "x": [
          "Arts, Design, Entertainment, Sports, And Media Occupations",
          "Building And Grounds Cleaning And Maintenance Occupations",
          "Community And Social Service Occupations",
          "Food Preparation And Serving Related Occupations",
          "Installation, Maintenance, And Repair Occupations",
          "Management Occupations",
          "Office And Administrative Support Occupations",
          "Production Occupations",
          "Sales And Related Occupations",
          "Transportation And Material Moving Occupations",
          "(70000.0, 100000.0]",
          "Total_House_Change",
          "Total_Pop_Change",
          "Total_Emp_Change"
         ],
         "y": [
          null,
          0.09501694981469262,
          null,
          0.09363832627248132,
          null,
          0.1173610308045343,
          0.10128409521868051,
          0.09110578692137916,
          0.10808818881686318,
          0.09849233407612863,
          null,
          0.13352709438507587,
          0.12074455294179667,
          0.12342183020877188
         ]
        },
        {
         "marker": {
          "color": "rgb(255,69,0)"
         },
         "mode": "markers",
         "name": "W. B. Freeway Cor.",
         "type": "scatter",
         "x": [
          "Arts, Design, Entertainment, Sports, And Media Occupations",
          "Building And Grounds Cleaning And Maintenance Occupations",
          "Community And Social Service Occupations",
          "Food Preparation And Serving Related Occupations",
          "Installation, Maintenance, And Repair Occupations",
          "Management Occupations",
          "Office And Administrative Support Occupations",
          "Production Occupations",
          "Sales And Related Occupations",
          "Transportation And Material Moving Occupations",
          "(70000.0, 100000.0]",
          "Total_House_Change",
          "Total_Pop_Change",
          "Total_Emp_Change"
         ],
         "y": [
          null,
          0.5345672547592468,
          null,
          null,
          null,
          0.47459395257198356,
          0.41305953501443055,
          0.4710863901251694,
          0.484906264784244,
          0.48382591482144544,
          0.39795281807539196,
          0.41554216603590166,
          0.4285454294868243,
          0.5469360227644535
         ]
        },
        {
         "marker": {
          "color": "rgb(255,99,71)"
         },
         "mode": "markers",
         "name": "North Central Bench",
         "type": "scatter",
         "x": [
          "Arts, Design, Entertainment, Sports, And Media Occupations",
          "Building And Grounds Cleaning And Maintenance Occupations",
          "Community And Social Service Occupations",
          "Food Preparation And Serving Related Occupations",
          "Installation, Maintenance, And Repair Occupations",
          "Management Occupations",
          "Office And Administrative Support Occupations",
          "Production Occupations",
          "Sales And Related Occupations",
          "Transportation And Material Moving Occupations",
          "(70000.0, 100000.0]",
          "Total_House_Change",
          "Total_Pop_Change",
          "Total_Emp_Change"
         ],
         "y": [
          0.4559792923255224,
          0.5220244866430106,
          null,
          0.3780259588508258,
          null,
          0.5505818529354568,
          null,
          null,
          0.41030017281281733,
          0.3894446470271768,
          0.4094481369193571,
          0.5423126112491948,
          0.5219256766519385,
          0.4878490943967231
         ]
        },
        {
         "marker": {
          "color": "rgb(255,127,80)"
         },
         "mode": "markers",
         "name": "Gardin City Chinden Freeway Cor.",
         "type": "scatter",
         "x": [
          "Arts, Design, Entertainment, Sports, And Media Occupations",
          "Building And Grounds Cleaning And Maintenance Occupations",
          "Community And Social Service Occupations",
          "Food Preparation And Serving Related Occupations",
          "Installation, Maintenance, And Repair Occupations",
          "Management Occupations",
          "Office And Administrative Support Occupations",
          "Production Occupations",
          "Sales And Related Occupations",
          "Transportation And Material Moving Occupations",
          "(70000.0, 100000.0]",
          "Total_House_Change",
          "Total_Pop_Change",
          "Total_Emp_Change"
         ],
         "y": [
          0.43632526241486447,
          0.3845879923655395,
          0.3376754845708248,
          0.3458282671617602,
          null,
          null,
          null,
          null,
          0.3988445224292313,
          0.339172722308786,
          0.3587975372361384,
          0.40452737219955287,
          0.36968354482575794,
          0.4201166592721965
         ]
        },
        {
         "marker": {
          "color": "rgb(255,165,0)"
         },
         "mode": "markers",
         "name": "Meridian Freeway Cor.",
         "type": "scatter",
         "x": [
          "Arts, Design, Entertainment, Sports, And Media Occupations",
          "Building And Grounds Cleaning And Maintenance Occupations",
          "Community And Social Service Occupations",
          "Food Preparation And Serving Related Occupations",
          "Installation, Maintenance, And Repair Occupations",
          "Management Occupations",
          "Office And Administrative Support Occupations",
          "Production Occupations",
          "Sales And Related Occupations",
          "Transportation And Material Moving Occupations",
          "(70000.0, 100000.0]",
          "Total_House_Change",
          "Total_Pop_Change",
          "Total_Emp_Change"
         ],
         "y": [
          null,
          0.5893339081272435,
          null,
          0.5982425264481214,
          null,
          0.5966954332649353,
          0.5426278705140293,
          0.566332719163675,
          0.5597487621151188,
          0.6359715662090226,
          null,
          0.5465584973549037,
          0.5746166800420794,
          0.7261201409455981
         ]
        }
       ],
       "layout": {
        "shapes": [
         {
          "line": {
           "color": "Grey",
           "dash": "dashdot",
           "width": 1
          },
          "type": "line",
          "x0": -1,
          "x1": 14,
          "y0": 0.3,
          "y1": 0.3
         }
        ],
        "template": {
         "data": {
          "bar": [
           {
            "error_x": {
             "color": "#2a3f5f"
            },
            "error_y": {
             "color": "#2a3f5f"
            },
            "marker": {
             "line": {
              "color": "#E5ECF6",
              "width": 0.5
             }
            },
            "type": "bar"
           }
          ],
          "barpolar": [
           {
            "marker": {
             "line": {
              "color": "#E5ECF6",
              "width": 0.5
             }
            },
            "type": "barpolar"
           }
          ],
          "carpet": [
           {
            "aaxis": {
             "endlinecolor": "#2a3f5f",
             "gridcolor": "white",
             "linecolor": "white",
             "minorgridcolor": "white",
             "startlinecolor": "#2a3f5f"
            },
            "baxis": {
             "endlinecolor": "#2a3f5f",
             "gridcolor": "white",
             "linecolor": "white",
             "minorgridcolor": "white",
             "startlinecolor": "#2a3f5f"
            },
            "type": "carpet"
           }
          ],
          "choropleth": [
           {
            "colorbar": {
             "outlinewidth": 0,
             "ticks": ""
            },
            "type": "choropleth"
           }
          ],
          "contour": [
           {
            "colorbar": {
             "outlinewidth": 0,
             "ticks": ""
            },
            "colorscale": [
             [
              0,
              "#0d0887"
             ],
             [
              0.1111111111111111,
              "#46039f"
             ],
             [
              0.2222222222222222,
              "#7201a8"
             ],
             [
              0.3333333333333333,
              "#9c179e"
             ],
             [
              0.4444444444444444,
              "#bd3786"
             ],
             [
              0.5555555555555556,
              "#d8576b"
             ],
             [
              0.6666666666666666,
              "#ed7953"
             ],
             [
              0.7777777777777778,
              "#fb9f3a"
             ],
             [
              0.8888888888888888,
              "#fdca26"
             ],
             [
              1,
              "#f0f921"
             ]
            ],
            "type": "contour"
           }
          ],
          "contourcarpet": [
           {
            "colorbar": {
             "outlinewidth": 0,
             "ticks": ""
            },
            "type": "contourcarpet"
           }
          ],
          "heatmap": [
           {
            "colorbar": {
             "outlinewidth": 0,
             "ticks": ""
            },
            "colorscale": [
             [
              0,
              "#0d0887"
             ],
             [
              0.1111111111111111,
              "#46039f"
             ],
             [
              0.2222222222222222,
              "#7201a8"
             ],
             [
              0.3333333333333333,
              "#9c179e"
             ],
             [
              0.4444444444444444,
              "#bd3786"
             ],
             [
              0.5555555555555556,
              "#d8576b"
             ],
             [
              0.6666666666666666,
              "#ed7953"
             ],
             [
              0.7777777777777778,
              "#fb9f3a"
             ],
             [
              0.8888888888888888,
              "#fdca26"
             ],
             [
              1,
              "#f0f921"
             ]
            ],
            "type": "heatmap"
           }
          ],
          "heatmapgl": [
           {
            "colorbar": {
             "outlinewidth": 0,
             "ticks": ""
            },
            "colorscale": [
             [
              0,
              "#0d0887"
             ],
             [
              0.1111111111111111,
              "#46039f"
             ],
             [
              0.2222222222222222,
              "#7201a8"
             ],
             [
              0.3333333333333333,
              "#9c179e"
             ],
             [
              0.4444444444444444,
              "#bd3786"
             ],
             [
              0.5555555555555556,
              "#d8576b"
             ],
             [
              0.6666666666666666,
              "#ed7953"
             ],
             [
              0.7777777777777778,
              "#fb9f3a"
             ],
             [
              0.8888888888888888,
              "#fdca26"
             ],
             [
              1,
              "#f0f921"
             ]
            ],
            "type": "heatmapgl"
           }
          ],
          "histogram": [
           {
            "marker": {
             "colorbar": {
              "outlinewidth": 0,
              "ticks": ""
             }
            },
            "type": "histogram"
           }
          ],
          "histogram2d": [
           {
            "colorbar": {
             "outlinewidth": 0,
             "ticks": ""
            },
            "colorscale": [
             [
              0,
              "#0d0887"
             ],
             [
              0.1111111111111111,
              "#46039f"
             ],
             [
              0.2222222222222222,
              "#7201a8"
             ],
             [
              0.3333333333333333,
              "#9c179e"
             ],
             [
              0.4444444444444444,
              "#bd3786"
             ],
             [
              0.5555555555555556,
              "#d8576b"
             ],
             [
              0.6666666666666666,
              "#ed7953"
             ],
             [
              0.7777777777777778,
              "#fb9f3a"
             ],
             [
              0.8888888888888888,
              "#fdca26"
             ],
             [
              1,
              "#f0f921"
             ]
            ],
            "type": "histogram2d"
           }
          ],
          "histogram2dcontour": [
           {
            "colorbar": {
             "outlinewidth": 0,
             "ticks": ""
            },
            "colorscale": [
             [
              0,
              "#0d0887"
             ],
             [
              0.1111111111111111,
              "#46039f"
             ],
             [
              0.2222222222222222,
              "#7201a8"
             ],
             [
              0.3333333333333333,
              "#9c179e"
             ],
             [
              0.4444444444444444,
              "#bd3786"
             ],
             [
              0.5555555555555556,
              "#d8576b"
             ],
             [
              0.6666666666666666,
              "#ed7953"
             ],
             [
              0.7777777777777778,
              "#fb9f3a"
             ],
             [
              0.8888888888888888,
              "#fdca26"
             ],
             [
              1,
              "#f0f921"
             ]
            ],
            "type": "histogram2dcontour"
           }
          ],
          "mesh3d": [
           {
            "colorbar": {
             "outlinewidth": 0,
             "ticks": ""
            },
            "type": "mesh3d"
           }
          ],
          "parcoords": [
           {
            "line": {
             "colorbar": {
              "outlinewidth": 0,
              "ticks": ""
             }
            },
            "type": "parcoords"
           }
          ],
          "scatter": [
           {
            "marker": {
             "colorbar": {
              "outlinewidth": 0,
              "ticks": ""
             }
            },
            "type": "scatter"
           }
          ],
          "scatter3d": [
           {
            "line": {
             "colorbar": {
              "outlinewidth": 0,
              "ticks": ""
             }
            },
            "marker": {
             "colorbar": {
              "outlinewidth": 0,
              "ticks": ""
             }
            },
            "type": "scatter3d"
           }
          ],
          "scattercarpet": [
           {
            "marker": {
             "colorbar": {
              "outlinewidth": 0,
              "ticks": ""
             }
            },
            "type": "scattercarpet"
           }
          ],
          "scattergeo": [
           {
            "marker": {
             "colorbar": {
              "outlinewidth": 0,
              "ticks": ""
             }
            },
            "type": "scattergeo"
           }
          ],
          "scattergl": [
           {
            "marker": {
             "colorbar": {
              "outlinewidth": 0,
              "ticks": ""
             }
            },
            "type": "scattergl"
           }
          ],
          "scattermapbox": [
           {
            "marker": {
             "colorbar": {
              "outlinewidth": 0,
              "ticks": ""
             }
            },
            "type": "scattermapbox"
           }
          ],
          "scatterpolar": [
           {
            "marker": {
             "colorbar": {
              "outlinewidth": 0,
              "ticks": ""
             }
            },
            "type": "scatterpolar"
           }
          ],
          "scatterpolargl": [
           {
            "marker": {
             "colorbar": {
              "outlinewidth": 0,
              "ticks": ""
             }
            },
            "type": "scatterpolargl"
           }
          ],
          "scatterternary": [
           {
            "marker": {
             "colorbar": {
              "outlinewidth": 0,
              "ticks": ""
             }
            },
            "type": "scatterternary"
           }
          ],
          "surface": [
           {
            "colorbar": {
             "outlinewidth": 0,
             "ticks": ""
            },
            "colorscale": [
             [
              0,
              "#0d0887"
             ],
             [
              0.1111111111111111,
              "#46039f"
             ],
             [
              0.2222222222222222,
              "#7201a8"
             ],
             [
              0.3333333333333333,
              "#9c179e"
             ],
             [
              0.4444444444444444,
              "#bd3786"
             ],
             [
              0.5555555555555556,
              "#d8576b"
             ],
             [
              0.6666666666666666,
              "#ed7953"
             ],
             [
              0.7777777777777778,
              "#fb9f3a"
             ],
             [
              0.8888888888888888,
              "#fdca26"
             ],
             [
              1,
              "#f0f921"
             ]
            ],
            "type": "surface"
           }
          ],
          "table": [
           {
            "cells": {
             "fill": {
              "color": "#EBF0F8"
             },
             "line": {
              "color": "white"
             }
            },
            "header": {
             "fill": {
              "color": "#C8D4E3"
             },
             "line": {
              "color": "white"
             }
            },
            "type": "table"
           }
          ]
         },
         "layout": {
          "annotationdefaults": {
           "arrowcolor": "#2a3f5f",
           "arrowhead": 0,
           "arrowwidth": 1
          },
          "colorscale": {
           "diverging": [
            [
             0,
             "#8e0152"
            ],
            [
             0.1,
             "#c51b7d"
            ],
            [
             0.2,
             "#de77ae"
            ],
            [
             0.3,
             "#f1b6da"
            ],
            [
             0.4,
             "#fde0ef"
            ],
            [
             0.5,
             "#f7f7f7"
            ],
            [
             0.6,
             "#e6f5d0"
            ],
            [
             0.7,
             "#b8e186"
            ],
            [
             0.8,
             "#7fbc41"
            ],
            [
             0.9,
             "#4d9221"
            ],
            [
             1,
             "#276419"
            ]
           ],
           "sequential": [
            [
             0,
             "#0d0887"
            ],
            [
             0.1111111111111111,
             "#46039f"
            ],
            [
             0.2222222222222222,
             "#7201a8"
            ],
            [
             0.3333333333333333,
             "#9c179e"
            ],
            [
             0.4444444444444444,
             "#bd3786"
            ],
            [
             0.5555555555555556,
             "#d8576b"
            ],
            [
             0.6666666666666666,
             "#ed7953"
            ],
            [
             0.7777777777777778,
             "#fb9f3a"
            ],
            [
             0.8888888888888888,
             "#fdca26"
            ],
            [
             1,
             "#f0f921"
            ]
           ],
           "sequentialminus": [
            [
             0,
             "#0d0887"
            ],
            [
             0.1111111111111111,
             "#46039f"
            ],
            [
             0.2222222222222222,
             "#7201a8"
            ],
            [
             0.3333333333333333,
             "#9c179e"
            ],
            [
             0.4444444444444444,
             "#bd3786"
            ],
            [
             0.5555555555555556,
             "#d8576b"
            ],
            [
             0.6666666666666666,
             "#ed7953"
            ],
            [
             0.7777777777777778,
             "#fb9f3a"
            ],
            [
             0.8888888888888888,
             "#fdca26"
            ],
            [
             1,
             "#f0f921"
            ]
           ]
          },
          "colorway": [
           "#636efa",
           "#EF553B",
           "#00cc96",
           "#ab63fa",
           "#FFA15A",
           "#19d3f3",
           "#FF6692",
           "#B6E880",
           "#FF97FF",
           "#FECB52"
          ],
          "font": {
           "color": "#2a3f5f"
          },
          "geo": {
           "bgcolor": "white",
           "lakecolor": "white",
           "landcolor": "#E5ECF6",
           "showlakes": true,
           "showland": true,
           "subunitcolor": "white"
          },
          "hoverlabel": {
           "align": "left"
          },
          "hovermode": "closest",
          "mapbox": {
           "style": "light"
          },
          "paper_bgcolor": "white",
          "plot_bgcolor": "#E5ECF6",
          "polar": {
           "angularaxis": {
            "gridcolor": "white",
            "linecolor": "white",
            "ticks": ""
           },
           "bgcolor": "#E5ECF6",
           "radialaxis": {
            "gridcolor": "white",
            "linecolor": "white",
            "ticks": ""
           }
          },
          "scene": {
           "xaxis": {
            "backgroundcolor": "#E5ECF6",
            "gridcolor": "white",
            "gridwidth": 2,
            "linecolor": "white",
            "showbackground": true,
            "ticks": "",
            "zerolinecolor": "white"
           },
           "yaxis": {
            "backgroundcolor": "#E5ECF6",
            "gridcolor": "white",
            "gridwidth": 2,
            "linecolor": "white",
            "showbackground": true,
            "ticks": "",
            "zerolinecolor": "white"
           },
           "zaxis": {
            "backgroundcolor": "#E5ECF6",
            "gridcolor": "white",
            "gridwidth": 2,
            "linecolor": "white",
            "showbackground": true,
            "ticks": "",
            "zerolinecolor": "white"
           }
          },
          "shapedefaults": {
           "line": {
            "color": "#2a3f5f"
           }
          },
          "ternary": {
           "aaxis": {
            "gridcolor": "white",
            "linecolor": "white",
            "ticks": ""
           },
           "baxis": {
            "gridcolor": "white",
            "linecolor": "white",
            "ticks": ""
           },
           "bgcolor": "#E5ECF6",
           "caxis": {
            "gridcolor": "white",
            "linecolor": "white",
            "ticks": ""
           }
          },
          "title": {
           "x": 0.05
          },
          "xaxis": {
           "automargin": true,
           "gridcolor": "white",
           "linecolor": "white",
           "ticks": "",
           "zerolinecolor": "white",
           "zerolinewidth": 2
          },
          "yaxis": {
           "automargin": true,
           "gridcolor": "white",
           "linecolor": "white",
           "ticks": "",
           "zerolinecolor": "white",
           "zerolinewidth": 2
          }
         }
        },
        "title": {
         "font": {
          "family": "Times New Roman"
         },
         "text": "<b>Correlation Coefficients for West Boise-Meridian and Associated Neighborhoods<b>",
         "x": 0.5,
         "xref": "paper"
        },
        "yaxis": {
         "range": [
          0,
          0.7
         ],
         "title": {
          "font": {
           "family": "Times New Roman",
           "size": 16
          },
          "text": "<b>Correlation Coefficient<b>"
         }
        }
       }
      },
      "text/html": [
       "<div>\n",
       "        \n",
       "        \n",
       "            <div id=\"c97d7c20-209c-4c6a-a718-e4dc5f62839b\" class=\"plotly-graph-div\" style=\"height:525px; width:100%;\"></div>\n",
       "            <script type=\"text/javascript\">\n",
       "                require([\"plotly\"], function(Plotly) {\n",
       "                    window.PLOTLYENV=window.PLOTLYENV || {};\n",
       "                    \n",
       "                if (document.getElementById(\"c97d7c20-209c-4c6a-a718-e4dc5f62839b\")) {\n",
       "                    Plotly.newPlot(\n",
       "                        'c97d7c20-209c-4c6a-a718-e4dc5f62839b',\n",
       "                        [{\"marker\": {\"color\": \"rgb(255,140,0)\", \"size\": 12, \"symbol\": \"hourglass-open\"}, \"mode\": \"markers\", \"name\": \"West Boise-Meridian Area\", \"type\": \"scatter\", \"x\": [\"Arts, Design, Entertainment, Sports, And Media Occupations\", \"Building And Grounds Cleaning And Maintenance Occupations\", \"Community And Social Service Occupations\", \"Food Preparation And Serving Related Occupations\", \"Installation, Maintenance, And Repair Occupations\", \"Management Occupations\", \"Office And Administrative Support Occupations\", \"Production Occupations\", \"Sales And Related Occupations\", \"Transportation And Material Moving Occupations\", \"(70000.0, 100000.0]\", \"Total_House_Change\", \"Total_Pop_Change\", \"Total_Emp_Change\"], \"y\": [0.17200512497700174, 0.1904964859912985, null, 0.1682920275536081, null, 0.1872697109980509, null, 0.16916813917865597, 0.19343996709316957, 0.1889609160179004, null, 0.19680433092148597, 0.19205655325395457, 0.21572484830063943]}, {\"marker\": {\"color\": \"rgb(255,140,0)\"}, \"mode\": \"markers\", \"name\": \"West Boise\", \"type\": \"scatter\", \"x\": [\"Arts, Design, Entertainment, Sports, And Media Occupations\", \"Building And Grounds Cleaning And Maintenance Occupations\", \"Community And Social Service Occupations\", \"Food Preparation And Serving Related Occupations\", \"Installation, Maintenance, And Repair Occupations\", \"Management Occupations\", \"Office And Administrative Support Occupations\", \"Production Occupations\", \"Sales And Related Occupations\", \"Transportation And Material Moving Occupations\", \"(70000.0, 100000.0]\", \"Total_House_Change\", \"Total_Pop_Change\", \"Total_Emp_Change\"], \"y\": [0.3035903819535061, 0.32446347865687053, null, null, null, 0.29548452918571827, null, 0.2842149986167752, 0.3244879054746189, 0.3230057449983887, 0.2847527146450548, 0.3065965460744047, 0.3074411338829379, 0.35618347408301365]}, {\"marker\": {\"color\": \"rgb(255,215,0)\"}, \"mode\": \"markers\", \"name\": \"NE Meridian\", \"type\": \"scatter\", \"x\": [\"Arts, Design, Entertainment, Sports, And Media Occupations\", \"Building And Grounds Cleaning And Maintenance Occupations\", \"Community And Social Service Occupations\", \"Food Preparation And Serving Related Occupations\", \"Installation, Maintenance, And Repair Occupations\", \"Management Occupations\", \"Office And Administrative Support Occupations\", \"Production Occupations\", \"Sales And Related Occupations\", \"Transportation And Material Moving Occupations\", \"(70000.0, 100000.0]\", \"Total_House_Change\", \"Total_Pop_Change\", \"Total_Emp_Change\"], \"y\": [null, 0.09501694981469262, null, 0.09363832627248132, null, 0.1173610308045343, 0.10128409521868051, 0.09110578692137916, 0.10808818881686318, 0.09849233407612863, null, 0.13352709438507587, 0.12074455294179667, 0.12342183020877188]}, {\"marker\": {\"color\": \"rgb(255,69,0)\"}, \"mode\": \"markers\", \"name\": \"W. B. Freeway Cor.\", \"type\": \"scatter\", \"x\": [\"Arts, Design, Entertainment, Sports, And Media Occupations\", \"Building And Grounds Cleaning And Maintenance Occupations\", \"Community And Social Service Occupations\", \"Food Preparation And Serving Related Occupations\", \"Installation, Maintenance, And Repair Occupations\", \"Management Occupations\", \"Office And Administrative Support Occupations\", \"Production Occupations\", \"Sales And Related Occupations\", \"Transportation And Material Moving Occupations\", \"(70000.0, 100000.0]\", \"Total_House_Change\", \"Total_Pop_Change\", \"Total_Emp_Change\"], \"y\": [null, 0.5345672547592468, null, null, null, 0.47459395257198356, 0.41305953501443055, 0.4710863901251694, 0.484906264784244, 0.48382591482144544, 0.39795281807539196, 0.41554216603590166, 0.4285454294868243, 0.5469360227644535]}, {\"marker\": {\"color\": \"rgb(255,99,71)\"}, \"mode\": \"markers\", \"name\": \"North Central Bench\", \"type\": \"scatter\", \"x\": [\"Arts, Design, Entertainment, Sports, And Media Occupations\", \"Building And Grounds Cleaning And Maintenance Occupations\", \"Community And Social Service Occupations\", \"Food Preparation And Serving Related Occupations\", \"Installation, Maintenance, And Repair Occupations\", \"Management Occupations\", \"Office And Administrative Support Occupations\", \"Production Occupations\", \"Sales And Related Occupations\", \"Transportation And Material Moving Occupations\", \"(70000.0, 100000.0]\", \"Total_House_Change\", \"Total_Pop_Change\", \"Total_Emp_Change\"], \"y\": [0.4559792923255224, 0.5220244866430106, null, 0.3780259588508258, null, 0.5505818529354568, null, null, 0.41030017281281733, 0.3894446470271768, 0.4094481369193571, 0.5423126112491948, 0.5219256766519385, 0.4878490943967231]}, {\"marker\": {\"color\": \"rgb(255,127,80)\"}, \"mode\": \"markers\", \"name\": \"Gardin City Chinden Freeway Cor.\", \"type\": \"scatter\", \"x\": [\"Arts, Design, Entertainment, Sports, And Media Occupations\", \"Building And Grounds Cleaning And Maintenance Occupations\", \"Community And Social Service Occupations\", \"Food Preparation And Serving Related Occupations\", \"Installation, Maintenance, And Repair Occupations\", \"Management Occupations\", \"Office And Administrative Support Occupations\", \"Production Occupations\", \"Sales And Related Occupations\", \"Transportation And Material Moving Occupations\", \"(70000.0, 100000.0]\", \"Total_House_Change\", \"Total_Pop_Change\", \"Total_Emp_Change\"], \"y\": [0.43632526241486447, 0.3845879923655395, 0.3376754845708248, 0.3458282671617602, null, null, null, null, 0.3988445224292313, 0.339172722308786, 0.3587975372361384, 0.40452737219955287, 0.36968354482575794, 0.4201166592721965]}, {\"marker\": {\"color\": \"rgb(255,165,0)\"}, \"mode\": \"markers\", \"name\": \"Meridian Freeway Cor.\", \"type\": \"scatter\", \"x\": [\"Arts, Design, Entertainment, Sports, And Media Occupations\", \"Building And Grounds Cleaning And Maintenance Occupations\", \"Community And Social Service Occupations\", \"Food Preparation And Serving Related Occupations\", \"Installation, Maintenance, And Repair Occupations\", \"Management Occupations\", \"Office And Administrative Support Occupations\", \"Production Occupations\", \"Sales And Related Occupations\", \"Transportation And Material Moving Occupations\", \"(70000.0, 100000.0]\", \"Total_House_Change\", \"Total_Pop_Change\", \"Total_Emp_Change\"], \"y\": [null, 0.5893339081272435, null, 0.5982425264481214, null, 0.5966954332649353, 0.5426278705140293, 0.566332719163675, 0.5597487621151188, 0.6359715662090226, null, 0.5465584973549037, 0.5746166800420794, 0.7261201409455981]}],\n",
       "                        {\"shapes\": [{\"line\": {\"color\": \"Grey\", \"dash\": \"dashdot\", \"width\": 1}, \"type\": \"line\", \"x0\": -1, \"x1\": 14, \"y0\": 0.3, \"y1\": 0.3}], \"template\": {\"data\": {\"bar\": [{\"error_x\": {\"color\": \"#2a3f5f\"}, \"error_y\": {\"color\": \"#2a3f5f\"}, \"marker\": {\"line\": {\"color\": \"#E5ECF6\", \"width\": 0.5}}, \"type\": \"bar\"}], \"barpolar\": [{\"marker\": {\"line\": {\"color\": \"#E5ECF6\", \"width\": 0.5}}, \"type\": \"barpolar\"}], \"carpet\": [{\"aaxis\": {\"endlinecolor\": \"#2a3f5f\", \"gridcolor\": \"white\", \"linecolor\": \"white\", \"minorgridcolor\": \"white\", \"startlinecolor\": \"#2a3f5f\"}, \"baxis\": {\"endlinecolor\": \"#2a3f5f\", \"gridcolor\": \"white\", \"linecolor\": \"white\", \"minorgridcolor\": \"white\", \"startlinecolor\": \"#2a3f5f\"}, \"type\": \"carpet\"}], \"choropleth\": [{\"colorbar\": {\"outlinewidth\": 0, \"ticks\": \"\"}, \"type\": \"choropleth\"}], \"contour\": [{\"colorbar\": {\"outlinewidth\": 0, \"ticks\": \"\"}, \"colorscale\": [[0.0, \"#0d0887\"], [0.1111111111111111, \"#46039f\"], [0.2222222222222222, \"#7201a8\"], [0.3333333333333333, \"#9c179e\"], [0.4444444444444444, \"#bd3786\"], [0.5555555555555556, \"#d8576b\"], [0.6666666666666666, \"#ed7953\"], [0.7777777777777778, \"#fb9f3a\"], [0.8888888888888888, \"#fdca26\"], [1.0, \"#f0f921\"]], \"type\": \"contour\"}], \"contourcarpet\": [{\"colorbar\": {\"outlinewidth\": 0, \"ticks\": \"\"}, \"type\": \"contourcarpet\"}], \"heatmap\": [{\"colorbar\": {\"outlinewidth\": 0, \"ticks\": \"\"}, \"colorscale\": [[0.0, \"#0d0887\"], [0.1111111111111111, \"#46039f\"], [0.2222222222222222, \"#7201a8\"], [0.3333333333333333, \"#9c179e\"], [0.4444444444444444, \"#bd3786\"], [0.5555555555555556, \"#d8576b\"], [0.6666666666666666, \"#ed7953\"], [0.7777777777777778, \"#fb9f3a\"], [0.8888888888888888, \"#fdca26\"], [1.0, \"#f0f921\"]], \"type\": \"heatmap\"}], \"heatmapgl\": [{\"colorbar\": {\"outlinewidth\": 0, \"ticks\": \"\"}, \"colorscale\": [[0.0, \"#0d0887\"], [0.1111111111111111, \"#46039f\"], [0.2222222222222222, \"#7201a8\"], [0.3333333333333333, \"#9c179e\"], [0.4444444444444444, \"#bd3786\"], [0.5555555555555556, \"#d8576b\"], [0.6666666666666666, \"#ed7953\"], [0.7777777777777778, \"#fb9f3a\"], [0.8888888888888888, \"#fdca26\"], [1.0, \"#f0f921\"]], \"type\": \"heatmapgl\"}], \"histogram\": [{\"marker\": {\"colorbar\": {\"outlinewidth\": 0, \"ticks\": \"\"}}, \"type\": \"histogram\"}], \"histogram2d\": [{\"colorbar\": {\"outlinewidth\": 0, \"ticks\": \"\"}, \"colorscale\": [[0.0, \"#0d0887\"], [0.1111111111111111, \"#46039f\"], [0.2222222222222222, \"#7201a8\"], [0.3333333333333333, \"#9c179e\"], [0.4444444444444444, \"#bd3786\"], [0.5555555555555556, \"#d8576b\"], [0.6666666666666666, \"#ed7953\"], [0.7777777777777778, \"#fb9f3a\"], [0.8888888888888888, \"#fdca26\"], [1.0, \"#f0f921\"]], \"type\": \"histogram2d\"}], \"histogram2dcontour\": [{\"colorbar\": {\"outlinewidth\": 0, \"ticks\": \"\"}, \"colorscale\": [[0.0, \"#0d0887\"], [0.1111111111111111, \"#46039f\"], [0.2222222222222222, \"#7201a8\"], [0.3333333333333333, \"#9c179e\"], [0.4444444444444444, \"#bd3786\"], [0.5555555555555556, \"#d8576b\"], [0.6666666666666666, \"#ed7953\"], [0.7777777777777778, \"#fb9f3a\"], [0.8888888888888888, \"#fdca26\"], [1.0, \"#f0f921\"]], \"type\": \"histogram2dcontour\"}], \"mesh3d\": [{\"colorbar\": {\"outlinewidth\": 0, \"ticks\": \"\"}, \"type\": \"mesh3d\"}], \"parcoords\": [{\"line\": {\"colorbar\": {\"outlinewidth\": 0, \"ticks\": \"\"}}, \"type\": \"parcoords\"}], \"scatter\": [{\"marker\": {\"colorbar\": {\"outlinewidth\": 0, \"ticks\": \"\"}}, \"type\": \"scatter\"}], \"scatter3d\": [{\"line\": {\"colorbar\": {\"outlinewidth\": 0, \"ticks\": \"\"}}, \"marker\": {\"colorbar\": {\"outlinewidth\": 0, \"ticks\": \"\"}}, \"type\": \"scatter3d\"}], \"scattercarpet\": [{\"marker\": {\"colorbar\": {\"outlinewidth\": 0, \"ticks\": \"\"}}, \"type\": \"scattercarpet\"}], \"scattergeo\": [{\"marker\": {\"colorbar\": {\"outlinewidth\": 0, \"ticks\": \"\"}}, \"type\": \"scattergeo\"}], \"scattergl\": [{\"marker\": {\"colorbar\": {\"outlinewidth\": 0, \"ticks\": \"\"}}, \"type\": \"scattergl\"}], \"scattermapbox\": [{\"marker\": {\"colorbar\": {\"outlinewidth\": 0, \"ticks\": \"\"}}, \"type\": \"scattermapbox\"}], \"scatterpolar\": [{\"marker\": {\"colorbar\": {\"outlinewidth\": 0, \"ticks\": \"\"}}, \"type\": \"scatterpolar\"}], \"scatterpolargl\": [{\"marker\": {\"colorbar\": {\"outlinewidth\": 0, \"ticks\": \"\"}}, \"type\": \"scatterpolargl\"}], \"scatterternary\": [{\"marker\": {\"colorbar\": {\"outlinewidth\": 0, \"ticks\": \"\"}}, \"type\": \"scatterternary\"}], \"surface\": [{\"colorbar\": {\"outlinewidth\": 0, \"ticks\": \"\"}, \"colorscale\": [[0.0, \"#0d0887\"], [0.1111111111111111, \"#46039f\"], [0.2222222222222222, \"#7201a8\"], [0.3333333333333333, \"#9c179e\"], [0.4444444444444444, \"#bd3786\"], [0.5555555555555556, \"#d8576b\"], [0.6666666666666666, \"#ed7953\"], [0.7777777777777778, \"#fb9f3a\"], [0.8888888888888888, \"#fdca26\"], [1.0, \"#f0f921\"]], \"type\": \"surface\"}], \"table\": [{\"cells\": {\"fill\": {\"color\": \"#EBF0F8\"}, \"line\": {\"color\": \"white\"}}, \"header\": {\"fill\": {\"color\": \"#C8D4E3\"}, \"line\": {\"color\": \"white\"}}, \"type\": \"table\"}]}, \"layout\": {\"annotationdefaults\": {\"arrowcolor\": \"#2a3f5f\", \"arrowhead\": 0, \"arrowwidth\": 1}, \"colorscale\": {\"diverging\": [[0, \"#8e0152\"], [0.1, \"#c51b7d\"], [0.2, \"#de77ae\"], [0.3, \"#f1b6da\"], [0.4, \"#fde0ef\"], [0.5, \"#f7f7f7\"], [0.6, \"#e6f5d0\"], [0.7, \"#b8e186\"], [0.8, \"#7fbc41\"], [0.9, \"#4d9221\"], [1, \"#276419\"]], \"sequential\": [[0.0, \"#0d0887\"], [0.1111111111111111, \"#46039f\"], [0.2222222222222222, \"#7201a8\"], [0.3333333333333333, \"#9c179e\"], [0.4444444444444444, \"#bd3786\"], [0.5555555555555556, \"#d8576b\"], [0.6666666666666666, \"#ed7953\"], [0.7777777777777778, \"#fb9f3a\"], [0.8888888888888888, \"#fdca26\"], [1.0, \"#f0f921\"]], \"sequentialminus\": [[0.0, \"#0d0887\"], [0.1111111111111111, \"#46039f\"], [0.2222222222222222, \"#7201a8\"], [0.3333333333333333, \"#9c179e\"], [0.4444444444444444, \"#bd3786\"], [0.5555555555555556, \"#d8576b\"], [0.6666666666666666, \"#ed7953\"], [0.7777777777777778, \"#fb9f3a\"], [0.8888888888888888, \"#fdca26\"], [1.0, \"#f0f921\"]]}, \"colorway\": [\"#636efa\", \"#EF553B\", \"#00cc96\", \"#ab63fa\", \"#FFA15A\", \"#19d3f3\", \"#FF6692\", \"#B6E880\", \"#FF97FF\", \"#FECB52\"], \"font\": {\"color\": \"#2a3f5f\"}, \"geo\": {\"bgcolor\": \"white\", \"lakecolor\": \"white\", \"landcolor\": \"#E5ECF6\", \"showlakes\": true, \"showland\": true, \"subunitcolor\": \"white\"}, \"hoverlabel\": {\"align\": \"left\"}, \"hovermode\": \"closest\", \"mapbox\": {\"style\": \"light\"}, \"paper_bgcolor\": \"white\", \"plot_bgcolor\": \"#E5ECF6\", \"polar\": {\"angularaxis\": {\"gridcolor\": \"white\", \"linecolor\": \"white\", \"ticks\": \"\"}, \"bgcolor\": \"#E5ECF6\", \"radialaxis\": {\"gridcolor\": \"white\", \"linecolor\": \"white\", \"ticks\": \"\"}}, \"scene\": {\"xaxis\": {\"backgroundcolor\": \"#E5ECF6\", \"gridcolor\": \"white\", \"gridwidth\": 2, \"linecolor\": \"white\", \"showbackground\": true, \"ticks\": \"\", \"zerolinecolor\": \"white\"}, \"yaxis\": {\"backgroundcolor\": \"#E5ECF6\", \"gridcolor\": \"white\", \"gridwidth\": 2, \"linecolor\": \"white\", \"showbackground\": true, \"ticks\": \"\", \"zerolinecolor\": \"white\"}, \"zaxis\": {\"backgroundcolor\": \"#E5ECF6\", \"gridcolor\": \"white\", \"gridwidth\": 2, \"linecolor\": \"white\", \"showbackground\": true, \"ticks\": \"\", \"zerolinecolor\": \"white\"}}, \"shapedefaults\": {\"line\": {\"color\": \"#2a3f5f\"}}, \"ternary\": {\"aaxis\": {\"gridcolor\": \"white\", \"linecolor\": \"white\", \"ticks\": \"\"}, \"baxis\": {\"gridcolor\": \"white\", \"linecolor\": \"white\", \"ticks\": \"\"}, \"bgcolor\": \"#E5ECF6\", \"caxis\": {\"gridcolor\": \"white\", \"linecolor\": \"white\", \"ticks\": \"\"}}, \"title\": {\"x\": 0.05}, \"xaxis\": {\"automargin\": true, \"gridcolor\": \"white\", \"linecolor\": \"white\", \"ticks\": \"\", \"zerolinecolor\": \"white\", \"zerolinewidth\": 2}, \"yaxis\": {\"automargin\": true, \"gridcolor\": \"white\", \"linecolor\": \"white\", \"ticks\": \"\", \"zerolinecolor\": \"white\", \"zerolinewidth\": 2}}}, \"title\": {\"font\": {\"family\": \"Times New Roman\"}, \"text\": \"<b>Correlation Coefficients for West Boise-Meridian and Associated Neighborhoods<b>\", \"x\": 0.5, \"xref\": \"paper\"}, \"yaxis\": {\"range\": [0, 0.7], \"title\": {\"font\": {\"family\": \"Times New Roman\", \"size\": 16}, \"text\": \"<b>Correlation Coefficient<b>\"}}},\n",
       "                        {\"responsive\": true}\n",
       "                    ).then(function(){\n",
       "                            \n",
       "var gd = document.getElementById('c97d7c20-209c-4c6a-a718-e4dc5f62839b');\n",
       "var x = new MutationObserver(function (mutations, observer) {{\n",
       "        var display = window.getComputedStyle(gd).display;\n",
       "        if (!display || display === 'none') {{\n",
       "            console.log([gd, 'removed!']);\n",
       "            Plotly.purge(gd);\n",
       "            observer.disconnect();\n",
       "        }}\n",
       "}});\n",
       "\n",
       "// Listen for the removal of the full notebook cells\n",
       "var notebookContainer = gd.closest('#notebook-container');\n",
       "if (notebookContainer) {{\n",
       "    x.observe(notebookContainer, {childList: true});\n",
       "}}\n",
       "\n",
       "// Listen for the clearing of the current output cell\n",
       "var outputEl = gd.closest('.output');\n",
       "if (outputEl) {{\n",
       "    x.observe(outputEl, {childList: true});\n",
       "}}\n",
       "\n",
       "                        })\n",
       "                };\n",
       "                });\n",
       "            </script>\n",
       "        </div>"
      ]
     },
     "metadata": {},
     "output_type": "display_data"
    }
   ],
   "source": [
    "df = pd.read_pickle('WBM-Coeff-compare.pkl')\n",
    "df2 = pd.read_pickle('a-Coeff-compare.pkl')\n",
    "\n",
    "\n",
    "df = pd.merge(df,df2, on = 'index', how = 'outer')\n",
    "\n",
    "df = df.dropna(thresh = 2)\n",
    "df = df.reset_index(drop = True)\n",
    "\n",
    "df = df.iloc[1:]\n",
    "\n",
    "WBM_fig = go.Figure()\n",
    "\n",
    "WBM_fig.add_trace(go.Scatter(x= df['index'], y=df['W_Boise_M'],\n",
    "                    mode='markers',\n",
    "                    marker_color = 'rgb(255,140,0)',\n",
    "                    marker=dict(size= 12, symbol = \"hourglass-open\"),          \n",
    "                    name='West Boise-Meridian Area'))\n",
    "\n",
    "WBM_fig.add_trace(go.Scatter(x= df['index'], y=df['WBM_W_Boise'],\n",
    "                    mode='markers',\n",
    "                    marker_color = 'rgb(255,140,0)',\n",
    "                    name='West Boise'))\n",
    "\n",
    "WBM_fig.add_trace(go.Scatter(x= df['index'], y=df['WBM_NE_Meridian'],\n",
    "                    mode='markers',  \n",
    "                    marker_color='rgb(255,215,0)',  \n",
    "                    name='NE Meridian'))\n",
    "\n",
    "WBM_fig.add_trace(go.Scatter(x= df['index'], y=df['WBM_WBF_Corridor'],\n",
    "                    mode='markers',  \n",
    "                    marker_color='rgb(255,69,0)',     \n",
    "                    name='W. B. Freeway Cor.'))\n",
    "\n",
    "WBM_fig.add_trace(go.Scatter(x= df['index'], y=df['WBM_NC_Bench'],\n",
    "                    mode='markers',\n",
    "                    marker_color='rgb(255,99,71)',     \n",
    "                    name='North Central Bench'))\n",
    "\n",
    "WBM_fig.add_trace(go.Scatter(x= df['index'], y=df['WBM_GCC_Corridor'],\n",
    "                    mode='markers',  \n",
    "                    marker_color='rgb(255,127,80)',     \n",
    "                    name='Gardin City Chinden Freeway Cor.'))\n",
    "\n",
    "\n",
    "WBM_fig.add_trace(go.Scatter(x= df['index'], y=df['WBM_MF_Corridor'],\n",
    "                    mode='markers',\n",
    "                    marker_color='rgb(255,165,0)',     \n",
    "                    name='Meridian Freeway Cor.'))\n",
    "\n",
    "\n",
    "WBM_fig.update_layout(\n",
    "    shapes=[\n",
    "        # Line Horizontal\n",
    "        go.layout.Shape(\n",
    "            type=\"line\",\n",
    "            x0=0,y0=.7,\n",
    "            x1=11,y1=.7,\n",
    "            line=dict(\n",
    "                color=\"Grey\",\n",
    "                width=1,\n",
    "                dash=\"dashdot\",),),])\n",
    "WBM_fig.update_layout(\n",
    "    shapes=[\n",
    "        # Line Horizontal\n",
    "        go.layout.Shape(\n",
    "            type=\"line\",\n",
    "            x0=-1,y0=.3,\n",
    "            x1=14,y1=.3,\n",
    "            line=dict(\n",
    "                color=\"Grey\",\n",
    "                width=1,\n",
    "                dash=\"dashdot\",),),])\n",
    "\n",
    "WBM_fig.update_layout(\n",
    "    title=go.layout.Title(\n",
    "        text=\"<b>Correlation Coefficients for West Boise-Meridian and Associated Neighborhoods<b>\",\n",
    "        font = dict( \n",
    "            family = 'Times New Roman'),\n",
    "        xref=\"paper\",\n",
    "        x=.5\n",
    "    ),\n",
    "    yaxis=go.layout.YAxis(\n",
    "        title=go.layout.yaxis.Title(\n",
    "            text=\"<b>Correlation Coefficient<b>\",\n",
    "            font=dict(\n",
    "                family=\"Times New Roman\",\n",
    "                size=16,\n",
    "#                color=\"#7f7f7f\"\n",
    "            )\n",
    "        ),\n",
    "        range = [0,.7]\n",
    "    ))\n",
    "\n",
    "\n",
    "WBM_fig.write_image(\"images/WBM_fig.jpg\")\n",
    "WBM_fig.show()"
   ]
  },
  {
   "cell_type": "markdown",
   "metadata": {},
   "source": [
    "## North Boise"
   ]
  },
  {
   "cell_type": "code",
   "execution_count": 51,
   "metadata": {},
   "outputs": [
    {
     "data": {
      "application/vnd.plotly.v1+json": {
       "config": {
        "plotlyServerURL": "https://plot.ly"
       },
       "data": [
        {
         "marker": {
          "color": "rgb(107,142,35)",
          "size": 12,
          "symbol": "star-open"
         },
         "mode": "markers",
         "name": "North Boise Area",
         "type": "scatter",
         "x": [
          "Architecture And Engineering Occupations",
          "Arts, Design, Entertainment, Sports, And Media Occupations",
          "Building And Grounds Cleaning And Maintenance Occupations",
          "Food Preparation And Serving Related Occupations",
          "Healthcare Practitioner And Technical Occupations",
          "Installation, Maintenance, And Repair Occupations",
          "Management Occupations",
          "Office And Administrative Support Occupations",
          "Production Occupations",
          "Sales And Related Occupations",
          "Transportation And Material Moving Occupations",
          "(40000.0, 70000.0]",
          "(70000.0, 100000.0]",
          "Total_House_Change",
          "Total_Pop_Change",
          "Total_Emp_Change"
         ],
         "y": [
          null,
          0.14568582626853804,
          0.16123274910358384,
          0.14203870429727855,
          null,
          null,
          0.16107155863138956,
          null,
          null,
          0.1778548012365404,
          0.1672556839217225,
          null,
          0.14263095766200048,
          0.19851334669155937,
          0.20551528108839293,
          0.1750492026773702
         ]
        },
        {
         "marker": {
          "color": "rgb(85,107,47)"
         },
         "mode": "markers",
         "name": "Old North Boise",
         "type": "scatter",
         "x": [
          "Architecture And Engineering Occupations",
          "Arts, Design, Entertainment, Sports, And Media Occupations",
          "Building And Grounds Cleaning And Maintenance Occupations",
          "Food Preparation And Serving Related Occupations",
          "Healthcare Practitioner And Technical Occupations",
          "Installation, Maintenance, And Repair Occupations",
          "Management Occupations",
          "Office And Administrative Support Occupations",
          "Production Occupations",
          "Sales And Related Occupations",
          "Transportation And Material Moving Occupations",
          "(40000.0, 70000.0]",
          "(70000.0, 100000.0]",
          "Total_House_Change",
          "Total_Pop_Change",
          "Total_Emp_Change"
         ],
         "y": [
          null,
          0.20890240750408184,
          0.23768575915166132,
          0.19093727984505499,
          null,
          null,
          0.21842046638390714,
          null,
          null,
          0.257997324629699,
          0.2426661201503394,
          null,
          0.210506565887627,
          0.29925319830437824,
          0.3035999514064031,
          0.23912542516595348
         ]
        },
        {
         "marker": {
          "color": "rgb(128,128,0)"
         },
         "mode": "markers",
         "name": "Boise Foothills",
         "type": "scatter",
         "x": [
          "Architecture And Engineering Occupations",
          "Arts, Design, Entertainment, Sports, And Media Occupations",
          "Building And Grounds Cleaning And Maintenance Occupations",
          "Food Preparation And Serving Related Occupations",
          "Healthcare Practitioner And Technical Occupations",
          "Installation, Maintenance, And Repair Occupations",
          "Management Occupations",
          "Office And Administrative Support Occupations",
          "Production Occupations",
          "Sales And Related Occupations",
          "Transportation And Material Moving Occupations",
          "(40000.0, 70000.0]",
          "(70000.0, 100000.0]",
          "Total_House_Change",
          "Total_Pop_Change",
          "Total_Emp_Change"
         ],
         "y": [
          null,
          0.20366595901266252,
          0.22704990305644684,
          0.20453126454215464,
          null,
          null,
          0.2425894586166002,
          null,
          null,
          0.25530251877007604,
          0.21169415660562207,
          null,
          0.20699475619285942,
          0.29920636237696635,
          0.31006579171661036,
          0.24706836631198573
         ]
        },
        {
         "marker": {
          "color": "rgb(46,139,87)"
         },
         "mode": "markers",
         "name": "New North Boise",
         "type": "scatter",
         "x": [
          "Architecture And Engineering Occupations",
          "Arts, Design, Entertainment, Sports, And Media Occupations",
          "Building And Grounds Cleaning And Maintenance Occupations",
          "Food Preparation And Serving Related Occupations",
          "Healthcare Practitioner And Technical Occupations",
          "Installation, Maintenance, And Repair Occupations",
          "Management Occupations",
          "Office And Administrative Support Occupations",
          "Production Occupations",
          "Sales And Related Occupations",
          "Transportation And Material Moving Occupations",
          "(40000.0, 70000.0]",
          "(70000.0, 100000.0]",
          "Total_House_Change",
          "Total_Pop_Change",
          "Total_Emp_Change"
         ],
         "y": [
          null,
          0.22225283588261682,
          0.2291646549860865,
          0.20733118289037344,
          null,
          null,
          0.2242376368440619,
          null,
          null,
          0.24299312592459976,
          0.24532569229486342,
          null,
          0.2091174794489411,
          0.2577593398142031,
          0.26528159285674946,
          0.2498896200421328
         ]
        },
        {
         "marker": {
          "color": "rgb(60,179,113)"
         },
         "mode": "markers",
         "name": "Downtown",
         "type": "scatter",
         "x": [
          "Architecture And Engineering Occupations",
          "Arts, Design, Entertainment, Sports, And Media Occupations",
          "Building And Grounds Cleaning And Maintenance Occupations",
          "Food Preparation And Serving Related Occupations",
          "Healthcare Practitioner And Technical Occupations",
          "Installation, Maintenance, And Repair Occupations",
          "Management Occupations",
          "Office And Administrative Support Occupations",
          "Production Occupations",
          "Sales And Related Occupations",
          "Transportation And Material Moving Occupations",
          "(40000.0, 70000.0]",
          "(70000.0, 100000.0]",
          "Total_House_Change",
          "Total_Pop_Change",
          "Total_Emp_Change"
         ],
         "y": [
          0.03352004862191958,
          null,
          null,
          0.04302256152376076,
          0.05640425799965896,
          null,
          0.046225942051989044,
          0.033197719158487696,
          0.0699327843707666,
          0.04071983472206441,
          0.04600285282523186,
          null,
          null,
          null,
          0.03475720161904012,
          0.05611950606165878
         ]
        },
        {
         "marker": {
          "color": "rgb(0,128,0)"
         },
         "mode": "markers",
         "name": "Warm Springs",
         "type": "scatter",
         "x": [
          "Architecture And Engineering Occupations",
          "Arts, Design, Entertainment, Sports, And Media Occupations",
          "Building And Grounds Cleaning And Maintenance Occupations",
          "Food Preparation And Serving Related Occupations",
          "Healthcare Practitioner And Technical Occupations",
          "Installation, Maintenance, And Repair Occupations",
          "Management Occupations",
          "Office And Administrative Support Occupations",
          "Production Occupations",
          "Sales And Related Occupations",
          "Transportation And Material Moving Occupations",
          "(40000.0, 70000.0]",
          "(70000.0, 100000.0]",
          "Total_House_Change",
          "Total_Pop_Change",
          "Total_Emp_Change"
         ],
         "y": [
          null,
          null,
          null,
          0.12230763741129187,
          null,
          0.10940197146903555,
          0.15698447718576325,
          0.1198706436820292,
          0.1120660943701583,
          null,
          0.12162003242044106,
          0.11713582756598614,
          null,
          0.16592782661777633,
          0.17216406147367724,
          0.16117991712879476
         ]
        },
        {
         "marker": {
          "color": "rgb(50,205,50)"
         },
         "mode": "markers",
         "name": "Park & University Waterfront",
         "type": "scatter",
         "x": [
          "Architecture And Engineering Occupations",
          "Arts, Design, Entertainment, Sports, And Media Occupations",
          "Building And Grounds Cleaning And Maintenance Occupations",
          "Food Preparation And Serving Related Occupations",
          "Healthcare Practitioner And Technical Occupations",
          "Installation, Maintenance, And Repair Occupations",
          "Management Occupations",
          "Office And Administrative Support Occupations",
          "Production Occupations",
          "Sales And Related Occupations",
          "Transportation And Material Moving Occupations",
          "(40000.0, 70000.0]",
          "(70000.0, 100000.0]",
          "Total_House_Change",
          "Total_Pop_Change",
          "Total_Emp_Change"
         ],
         "y": [
          null,
          null,
          null,
          0.37298949937329096,
          null,
          null,
          0.42472841723086385,
          0.3647029482556309,
          0.4798425216148109,
          0.4686418366179307,
          0.38755996852143454,
          0.3731287689533843,
          null,
          0.44619573004479285,
          0.5099436056037736,
          0.5301230946025057
         ]
        }
       ],
       "layout": {
        "shapes": [
         {
          "line": {
           "color": "Grey",
           "dash": "dashdot",
           "width": 1
          },
          "type": "line",
          "x0": -1,
          "x1": 16,
          "y0": 0.3,
          "y1": 0.3
         }
        ],
        "template": {
         "data": {
          "bar": [
           {
            "error_x": {
             "color": "#2a3f5f"
            },
            "error_y": {
             "color": "#2a3f5f"
            },
            "marker": {
             "line": {
              "color": "#E5ECF6",
              "width": 0.5
             }
            },
            "type": "bar"
           }
          ],
          "barpolar": [
           {
            "marker": {
             "line": {
              "color": "#E5ECF6",
              "width": 0.5
             }
            },
            "type": "barpolar"
           }
          ],
          "carpet": [
           {
            "aaxis": {
             "endlinecolor": "#2a3f5f",
             "gridcolor": "white",
             "linecolor": "white",
             "minorgridcolor": "white",
             "startlinecolor": "#2a3f5f"
            },
            "baxis": {
             "endlinecolor": "#2a3f5f",
             "gridcolor": "white",
             "linecolor": "white",
             "minorgridcolor": "white",
             "startlinecolor": "#2a3f5f"
            },
            "type": "carpet"
           }
          ],
          "choropleth": [
           {
            "colorbar": {
             "outlinewidth": 0,
             "ticks": ""
            },
            "type": "choropleth"
           }
          ],
          "contour": [
           {
            "colorbar": {
             "outlinewidth": 0,
             "ticks": ""
            },
            "colorscale": [
             [
              0,
              "#0d0887"
             ],
             [
              0.1111111111111111,
              "#46039f"
             ],
             [
              0.2222222222222222,
              "#7201a8"
             ],
             [
              0.3333333333333333,
              "#9c179e"
             ],
             [
              0.4444444444444444,
              "#bd3786"
             ],
             [
              0.5555555555555556,
              "#d8576b"
             ],
             [
              0.6666666666666666,
              "#ed7953"
             ],
             [
              0.7777777777777778,
              "#fb9f3a"
             ],
             [
              0.8888888888888888,
              "#fdca26"
             ],
             [
              1,
              "#f0f921"
             ]
            ],
            "type": "contour"
           }
          ],
          "contourcarpet": [
           {
            "colorbar": {
             "outlinewidth": 0,
             "ticks": ""
            },
            "type": "contourcarpet"
           }
          ],
          "heatmap": [
           {
            "colorbar": {
             "outlinewidth": 0,
             "ticks": ""
            },
            "colorscale": [
             [
              0,
              "#0d0887"
             ],
             [
              0.1111111111111111,
              "#46039f"
             ],
             [
              0.2222222222222222,
              "#7201a8"
             ],
             [
              0.3333333333333333,
              "#9c179e"
             ],
             [
              0.4444444444444444,
              "#bd3786"
             ],
             [
              0.5555555555555556,
              "#d8576b"
             ],
             [
              0.6666666666666666,
              "#ed7953"
             ],
             [
              0.7777777777777778,
              "#fb9f3a"
             ],
             [
              0.8888888888888888,
              "#fdca26"
             ],
             [
              1,
              "#f0f921"
             ]
            ],
            "type": "heatmap"
           }
          ],
          "heatmapgl": [
           {
            "colorbar": {
             "outlinewidth": 0,
             "ticks": ""
            },
            "colorscale": [
             [
              0,
              "#0d0887"
             ],
             [
              0.1111111111111111,
              "#46039f"
             ],
             [
              0.2222222222222222,
              "#7201a8"
             ],
             [
              0.3333333333333333,
              "#9c179e"
             ],
             [
              0.4444444444444444,
              "#bd3786"
             ],
             [
              0.5555555555555556,
              "#d8576b"
             ],
             [
              0.6666666666666666,
              "#ed7953"
             ],
             [
              0.7777777777777778,
              "#fb9f3a"
             ],
             [
              0.8888888888888888,
              "#fdca26"
             ],
             [
              1,
              "#f0f921"
             ]
            ],
            "type": "heatmapgl"
           }
          ],
          "histogram": [
           {
            "marker": {
             "colorbar": {
              "outlinewidth": 0,
              "ticks": ""
             }
            },
            "type": "histogram"
           }
          ],
          "histogram2d": [
           {
            "colorbar": {
             "outlinewidth": 0,
             "ticks": ""
            },
            "colorscale": [
             [
              0,
              "#0d0887"
             ],
             [
              0.1111111111111111,
              "#46039f"
             ],
             [
              0.2222222222222222,
              "#7201a8"
             ],
             [
              0.3333333333333333,
              "#9c179e"
             ],
             [
              0.4444444444444444,
              "#bd3786"
             ],
             [
              0.5555555555555556,
              "#d8576b"
             ],
             [
              0.6666666666666666,
              "#ed7953"
             ],
             [
              0.7777777777777778,
              "#fb9f3a"
             ],
             [
              0.8888888888888888,
              "#fdca26"
             ],
             [
              1,
              "#f0f921"
             ]
            ],
            "type": "histogram2d"
           }
          ],
          "histogram2dcontour": [
           {
            "colorbar": {
             "outlinewidth": 0,
             "ticks": ""
            },
            "colorscale": [
             [
              0,
              "#0d0887"
             ],
             [
              0.1111111111111111,
              "#46039f"
             ],
             [
              0.2222222222222222,
              "#7201a8"
             ],
             [
              0.3333333333333333,
              "#9c179e"
             ],
             [
              0.4444444444444444,
              "#bd3786"
             ],
             [
              0.5555555555555556,
              "#d8576b"
             ],
             [
              0.6666666666666666,
              "#ed7953"
             ],
             [
              0.7777777777777778,
              "#fb9f3a"
             ],
             [
              0.8888888888888888,
              "#fdca26"
             ],
             [
              1,
              "#f0f921"
             ]
            ],
            "type": "histogram2dcontour"
           }
          ],
          "mesh3d": [
           {
            "colorbar": {
             "outlinewidth": 0,
             "ticks": ""
            },
            "type": "mesh3d"
           }
          ],
          "parcoords": [
           {
            "line": {
             "colorbar": {
              "outlinewidth": 0,
              "ticks": ""
             }
            },
            "type": "parcoords"
           }
          ],
          "scatter": [
           {
            "marker": {
             "colorbar": {
              "outlinewidth": 0,
              "ticks": ""
             }
            },
            "type": "scatter"
           }
          ],
          "scatter3d": [
           {
            "line": {
             "colorbar": {
              "outlinewidth": 0,
              "ticks": ""
             }
            },
            "marker": {
             "colorbar": {
              "outlinewidth": 0,
              "ticks": ""
             }
            },
            "type": "scatter3d"
           }
          ],
          "scattercarpet": [
           {
            "marker": {
             "colorbar": {
              "outlinewidth": 0,
              "ticks": ""
             }
            },
            "type": "scattercarpet"
           }
          ],
          "scattergeo": [
           {
            "marker": {
             "colorbar": {
              "outlinewidth": 0,
              "ticks": ""
             }
            },
            "type": "scattergeo"
           }
          ],
          "scattergl": [
           {
            "marker": {
             "colorbar": {
              "outlinewidth": 0,
              "ticks": ""
             }
            },
            "type": "scattergl"
           }
          ],
          "scattermapbox": [
           {
            "marker": {
             "colorbar": {
              "outlinewidth": 0,
              "ticks": ""
             }
            },
            "type": "scattermapbox"
           }
          ],
          "scatterpolar": [
           {
            "marker": {
             "colorbar": {
              "outlinewidth": 0,
              "ticks": ""
             }
            },
            "type": "scatterpolar"
           }
          ],
          "scatterpolargl": [
           {
            "marker": {
             "colorbar": {
              "outlinewidth": 0,
              "ticks": ""
             }
            },
            "type": "scatterpolargl"
           }
          ],
          "scatterternary": [
           {
            "marker": {
             "colorbar": {
              "outlinewidth": 0,
              "ticks": ""
             }
            },
            "type": "scatterternary"
           }
          ],
          "surface": [
           {
            "colorbar": {
             "outlinewidth": 0,
             "ticks": ""
            },
            "colorscale": [
             [
              0,
              "#0d0887"
             ],
             [
              0.1111111111111111,
              "#46039f"
             ],
             [
              0.2222222222222222,
              "#7201a8"
             ],
             [
              0.3333333333333333,
              "#9c179e"
             ],
             [
              0.4444444444444444,
              "#bd3786"
             ],
             [
              0.5555555555555556,
              "#d8576b"
             ],
             [
              0.6666666666666666,
              "#ed7953"
             ],
             [
              0.7777777777777778,
              "#fb9f3a"
             ],
             [
              0.8888888888888888,
              "#fdca26"
             ],
             [
              1,
              "#f0f921"
             ]
            ],
            "type": "surface"
           }
          ],
          "table": [
           {
            "cells": {
             "fill": {
              "color": "#EBF0F8"
             },
             "line": {
              "color": "white"
             }
            },
            "header": {
             "fill": {
              "color": "#C8D4E3"
             },
             "line": {
              "color": "white"
             }
            },
            "type": "table"
           }
          ]
         },
         "layout": {
          "annotationdefaults": {
           "arrowcolor": "#2a3f5f",
           "arrowhead": 0,
           "arrowwidth": 1
          },
          "colorscale": {
           "diverging": [
            [
             0,
             "#8e0152"
            ],
            [
             0.1,
             "#c51b7d"
            ],
            [
             0.2,
             "#de77ae"
            ],
            [
             0.3,
             "#f1b6da"
            ],
            [
             0.4,
             "#fde0ef"
            ],
            [
             0.5,
             "#f7f7f7"
            ],
            [
             0.6,
             "#e6f5d0"
            ],
            [
             0.7,
             "#b8e186"
            ],
            [
             0.8,
             "#7fbc41"
            ],
            [
             0.9,
             "#4d9221"
            ],
            [
             1,
             "#276419"
            ]
           ],
           "sequential": [
            [
             0,
             "#0d0887"
            ],
            [
             0.1111111111111111,
             "#46039f"
            ],
            [
             0.2222222222222222,
             "#7201a8"
            ],
            [
             0.3333333333333333,
             "#9c179e"
            ],
            [
             0.4444444444444444,
             "#bd3786"
            ],
            [
             0.5555555555555556,
             "#d8576b"
            ],
            [
             0.6666666666666666,
             "#ed7953"
            ],
            [
             0.7777777777777778,
             "#fb9f3a"
            ],
            [
             0.8888888888888888,
             "#fdca26"
            ],
            [
             1,
             "#f0f921"
            ]
           ],
           "sequentialminus": [
            [
             0,
             "#0d0887"
            ],
            [
             0.1111111111111111,
             "#46039f"
            ],
            [
             0.2222222222222222,
             "#7201a8"
            ],
            [
             0.3333333333333333,
             "#9c179e"
            ],
            [
             0.4444444444444444,
             "#bd3786"
            ],
            [
             0.5555555555555556,
             "#d8576b"
            ],
            [
             0.6666666666666666,
             "#ed7953"
            ],
            [
             0.7777777777777778,
             "#fb9f3a"
            ],
            [
             0.8888888888888888,
             "#fdca26"
            ],
            [
             1,
             "#f0f921"
            ]
           ]
          },
          "colorway": [
           "#636efa",
           "#EF553B",
           "#00cc96",
           "#ab63fa",
           "#FFA15A",
           "#19d3f3",
           "#FF6692",
           "#B6E880",
           "#FF97FF",
           "#FECB52"
          ],
          "font": {
           "color": "#2a3f5f"
          },
          "geo": {
           "bgcolor": "white",
           "lakecolor": "white",
           "landcolor": "#E5ECF6",
           "showlakes": true,
           "showland": true,
           "subunitcolor": "white"
          },
          "hoverlabel": {
           "align": "left"
          },
          "hovermode": "closest",
          "mapbox": {
           "style": "light"
          },
          "paper_bgcolor": "white",
          "plot_bgcolor": "#E5ECF6",
          "polar": {
           "angularaxis": {
            "gridcolor": "white",
            "linecolor": "white",
            "ticks": ""
           },
           "bgcolor": "#E5ECF6",
           "radialaxis": {
            "gridcolor": "white",
            "linecolor": "white",
            "ticks": ""
           }
          },
          "scene": {
           "xaxis": {
            "backgroundcolor": "#E5ECF6",
            "gridcolor": "white",
            "gridwidth": 2,
            "linecolor": "white",
            "showbackground": true,
            "ticks": "",
            "zerolinecolor": "white"
           },
           "yaxis": {
            "backgroundcolor": "#E5ECF6",
            "gridcolor": "white",
            "gridwidth": 2,
            "linecolor": "white",
            "showbackground": true,
            "ticks": "",
            "zerolinecolor": "white"
           },
           "zaxis": {
            "backgroundcolor": "#E5ECF6",
            "gridcolor": "white",
            "gridwidth": 2,
            "linecolor": "white",
            "showbackground": true,
            "ticks": "",
            "zerolinecolor": "white"
           }
          },
          "shapedefaults": {
           "line": {
            "color": "#2a3f5f"
           }
          },
          "ternary": {
           "aaxis": {
            "gridcolor": "white",
            "linecolor": "white",
            "ticks": ""
           },
           "baxis": {
            "gridcolor": "white",
            "linecolor": "white",
            "ticks": ""
           },
           "bgcolor": "#E5ECF6",
           "caxis": {
            "gridcolor": "white",
            "linecolor": "white",
            "ticks": ""
           }
          },
          "title": {
           "x": 0.05
          },
          "xaxis": {
           "automargin": true,
           "gridcolor": "white",
           "linecolor": "white",
           "ticks": "",
           "zerolinecolor": "white",
           "zerolinewidth": 2
          },
          "yaxis": {
           "automargin": true,
           "gridcolor": "white",
           "linecolor": "white",
           "ticks": "",
           "zerolinecolor": "white",
           "zerolinewidth": 2
          }
         }
        },
        "title": {
         "font": {
          "family": "Times New Roman"
         },
         "text": "<b>Correlation Coefficients for North Boise and Associated Neighborhoods<b>",
         "x": 0.5,
         "xref": "paper"
        },
        "yaxis": {
         "range": [
          0,
          0.7
         ],
         "title": {
          "font": {
           "family": "Times New Roman",
           "size": 16
          },
          "text": "<b>Correlation Coefficient<b>"
         }
        }
       }
      },
      "text/html": [
       "<div>\n",
       "        \n",
       "        \n",
       "            <div id=\"30ced5d3-c3b7-46b6-bef2-c97f19f2c730\" class=\"plotly-graph-div\" style=\"height:525px; width:100%;\"></div>\n",
       "            <script type=\"text/javascript\">\n",
       "                require([\"plotly\"], function(Plotly) {\n",
       "                    window.PLOTLYENV=window.PLOTLYENV || {};\n",
       "                    \n",
       "                if (document.getElementById(\"30ced5d3-c3b7-46b6-bef2-c97f19f2c730\")) {\n",
       "                    Plotly.newPlot(\n",
       "                        '30ced5d3-c3b7-46b6-bef2-c97f19f2c730',\n",
       "                        [{\"marker\": {\"color\": \"rgb(107,142,35)\", \"size\": 12, \"symbol\": \"star-open\"}, \"mode\": \"markers\", \"name\": \"North Boise Area\", \"type\": \"scatter\", \"x\": [\"Architecture And Engineering Occupations\", \"Arts, Design, Entertainment, Sports, And Media Occupations\", \"Building And Grounds Cleaning And Maintenance Occupations\", \"Food Preparation And Serving Related Occupations\", \"Healthcare Practitioner And Technical Occupations\", \"Installation, Maintenance, And Repair Occupations\", \"Management Occupations\", \"Office And Administrative Support Occupations\", \"Production Occupations\", \"Sales And Related Occupations\", \"Transportation And Material Moving Occupations\", \"(40000.0, 70000.0]\", \"(70000.0, 100000.0]\", \"Total_House_Change\", \"Total_Pop_Change\", \"Total_Emp_Change\"], \"y\": [null, 0.14568582626853804, 0.16123274910358384, 0.14203870429727855, null, null, 0.16107155863138956, null, null, 0.1778548012365404, 0.1672556839217225, null, 0.14263095766200048, 0.19851334669155937, 0.20551528108839293, 0.1750492026773702]}, {\"marker\": {\"color\": \"rgb(85,107,47)\"}, \"mode\": \"markers\", \"name\": \"Old North Boise\", \"type\": \"scatter\", \"x\": [\"Architecture And Engineering Occupations\", \"Arts, Design, Entertainment, Sports, And Media Occupations\", \"Building And Grounds Cleaning And Maintenance Occupations\", \"Food Preparation And Serving Related Occupations\", \"Healthcare Practitioner And Technical Occupations\", \"Installation, Maintenance, And Repair Occupations\", \"Management Occupations\", \"Office And Administrative Support Occupations\", \"Production Occupations\", \"Sales And Related Occupations\", \"Transportation And Material Moving Occupations\", \"(40000.0, 70000.0]\", \"(70000.0, 100000.0]\", \"Total_House_Change\", \"Total_Pop_Change\", \"Total_Emp_Change\"], \"y\": [null, 0.20890240750408184, 0.23768575915166132, 0.19093727984505499, null, null, 0.21842046638390714, null, null, 0.257997324629699, 0.2426661201503394, null, 0.210506565887627, 0.29925319830437824, 0.3035999514064031, 0.23912542516595348]}, {\"marker\": {\"color\": \"rgb(128,128,0)\"}, \"mode\": \"markers\", \"name\": \"Boise Foothills\", \"type\": \"scatter\", \"x\": [\"Architecture And Engineering Occupations\", \"Arts, Design, Entertainment, Sports, And Media Occupations\", \"Building And Grounds Cleaning And Maintenance Occupations\", \"Food Preparation And Serving Related Occupations\", \"Healthcare Practitioner And Technical Occupations\", \"Installation, Maintenance, And Repair Occupations\", \"Management Occupations\", \"Office And Administrative Support Occupations\", \"Production Occupations\", \"Sales And Related Occupations\", \"Transportation And Material Moving Occupations\", \"(40000.0, 70000.0]\", \"(70000.0, 100000.0]\", \"Total_House_Change\", \"Total_Pop_Change\", \"Total_Emp_Change\"], \"y\": [null, 0.20366595901266252, 0.22704990305644684, 0.20453126454215464, null, null, 0.2425894586166002, null, null, 0.25530251877007604, 0.21169415660562207, null, 0.20699475619285942, 0.29920636237696635, 0.31006579171661036, 0.24706836631198573]}, {\"marker\": {\"color\": \"rgb(46,139,87)\"}, \"mode\": \"markers\", \"name\": \"New North Boise\", \"type\": \"scatter\", \"x\": [\"Architecture And Engineering Occupations\", \"Arts, Design, Entertainment, Sports, And Media Occupations\", \"Building And Grounds Cleaning And Maintenance Occupations\", \"Food Preparation And Serving Related Occupations\", \"Healthcare Practitioner And Technical Occupations\", \"Installation, Maintenance, And Repair Occupations\", \"Management Occupations\", \"Office And Administrative Support Occupations\", \"Production Occupations\", \"Sales And Related Occupations\", \"Transportation And Material Moving Occupations\", \"(40000.0, 70000.0]\", \"(70000.0, 100000.0]\", \"Total_House_Change\", \"Total_Pop_Change\", \"Total_Emp_Change\"], \"y\": [null, 0.22225283588261682, 0.2291646549860865, 0.20733118289037344, null, null, 0.2242376368440619, null, null, 0.24299312592459976, 0.24532569229486342, null, 0.2091174794489411, 0.2577593398142031, 0.26528159285674946, 0.2498896200421328]}, {\"marker\": {\"color\": \"rgb(60,179,113)\"}, \"mode\": \"markers\", \"name\": \"Downtown\", \"type\": \"scatter\", \"x\": [\"Architecture And Engineering Occupations\", \"Arts, Design, Entertainment, Sports, And Media Occupations\", \"Building And Grounds Cleaning And Maintenance Occupations\", \"Food Preparation And Serving Related Occupations\", \"Healthcare Practitioner And Technical Occupations\", \"Installation, Maintenance, And Repair Occupations\", \"Management Occupations\", \"Office And Administrative Support Occupations\", \"Production Occupations\", \"Sales And Related Occupations\", \"Transportation And Material Moving Occupations\", \"(40000.0, 70000.0]\", \"(70000.0, 100000.0]\", \"Total_House_Change\", \"Total_Pop_Change\", \"Total_Emp_Change\"], \"y\": [0.03352004862191958, null, null, 0.04302256152376076, 0.05640425799965896, null, 0.046225942051989044, 0.033197719158487696, 0.0699327843707666, 0.04071983472206441, 0.04600285282523186, null, null, null, 0.03475720161904012, 0.05611950606165878]}, {\"marker\": {\"color\": \"rgb(0,128,0)\"}, \"mode\": \"markers\", \"name\": \"Warm Springs\", \"type\": \"scatter\", \"x\": [\"Architecture And Engineering Occupations\", \"Arts, Design, Entertainment, Sports, And Media Occupations\", \"Building And Grounds Cleaning And Maintenance Occupations\", \"Food Preparation And Serving Related Occupations\", \"Healthcare Practitioner And Technical Occupations\", \"Installation, Maintenance, And Repair Occupations\", \"Management Occupations\", \"Office And Administrative Support Occupations\", \"Production Occupations\", \"Sales And Related Occupations\", \"Transportation And Material Moving Occupations\", \"(40000.0, 70000.0]\", \"(70000.0, 100000.0]\", \"Total_House_Change\", \"Total_Pop_Change\", \"Total_Emp_Change\"], \"y\": [null, null, null, 0.12230763741129187, null, 0.10940197146903555, 0.15698447718576325, 0.1198706436820292, 0.1120660943701583, null, 0.12162003242044106, 0.11713582756598614, null, 0.16592782661777633, 0.17216406147367724, 0.16117991712879476]}, {\"marker\": {\"color\": \"rgb(50,205,50)\"}, \"mode\": \"markers\", \"name\": \"Park & University Waterfront\", \"type\": \"scatter\", \"x\": [\"Architecture And Engineering Occupations\", \"Arts, Design, Entertainment, Sports, And Media Occupations\", \"Building And Grounds Cleaning And Maintenance Occupations\", \"Food Preparation And Serving Related Occupations\", \"Healthcare Practitioner And Technical Occupations\", \"Installation, Maintenance, And Repair Occupations\", \"Management Occupations\", \"Office And Administrative Support Occupations\", \"Production Occupations\", \"Sales And Related Occupations\", \"Transportation And Material Moving Occupations\", \"(40000.0, 70000.0]\", \"(70000.0, 100000.0]\", \"Total_House_Change\", \"Total_Pop_Change\", \"Total_Emp_Change\"], \"y\": [null, null, null, 0.37298949937329096, null, null, 0.42472841723086385, 0.3647029482556309, 0.4798425216148109, 0.4686418366179307, 0.38755996852143454, 0.3731287689533843, null, 0.44619573004479285, 0.5099436056037736, 0.5301230946025057]}],\n",
       "                        {\"shapes\": [{\"line\": {\"color\": \"Grey\", \"dash\": \"dashdot\", \"width\": 1}, \"type\": \"line\", \"x0\": -1, \"x1\": 16, \"y0\": 0.3, \"y1\": 0.3}], \"template\": {\"data\": {\"bar\": [{\"error_x\": {\"color\": \"#2a3f5f\"}, \"error_y\": {\"color\": \"#2a3f5f\"}, \"marker\": {\"line\": {\"color\": \"#E5ECF6\", \"width\": 0.5}}, \"type\": \"bar\"}], \"barpolar\": [{\"marker\": {\"line\": {\"color\": \"#E5ECF6\", \"width\": 0.5}}, \"type\": \"barpolar\"}], \"carpet\": [{\"aaxis\": {\"endlinecolor\": \"#2a3f5f\", \"gridcolor\": \"white\", \"linecolor\": \"white\", \"minorgridcolor\": \"white\", \"startlinecolor\": \"#2a3f5f\"}, \"baxis\": {\"endlinecolor\": \"#2a3f5f\", \"gridcolor\": \"white\", \"linecolor\": \"white\", \"minorgridcolor\": \"white\", \"startlinecolor\": \"#2a3f5f\"}, \"type\": \"carpet\"}], \"choropleth\": [{\"colorbar\": {\"outlinewidth\": 0, \"ticks\": \"\"}, \"type\": \"choropleth\"}], \"contour\": [{\"colorbar\": {\"outlinewidth\": 0, \"ticks\": \"\"}, \"colorscale\": [[0.0, \"#0d0887\"], [0.1111111111111111, \"#46039f\"], [0.2222222222222222, \"#7201a8\"], [0.3333333333333333, \"#9c179e\"], [0.4444444444444444, \"#bd3786\"], [0.5555555555555556, \"#d8576b\"], [0.6666666666666666, \"#ed7953\"], [0.7777777777777778, \"#fb9f3a\"], [0.8888888888888888, \"#fdca26\"], [1.0, \"#f0f921\"]], \"type\": \"contour\"}], \"contourcarpet\": [{\"colorbar\": {\"outlinewidth\": 0, \"ticks\": \"\"}, \"type\": \"contourcarpet\"}], \"heatmap\": [{\"colorbar\": {\"outlinewidth\": 0, \"ticks\": \"\"}, \"colorscale\": [[0.0, \"#0d0887\"], [0.1111111111111111, \"#46039f\"], [0.2222222222222222, \"#7201a8\"], [0.3333333333333333, \"#9c179e\"], [0.4444444444444444, \"#bd3786\"], [0.5555555555555556, \"#d8576b\"], [0.6666666666666666, \"#ed7953\"], [0.7777777777777778, \"#fb9f3a\"], [0.8888888888888888, \"#fdca26\"], [1.0, \"#f0f921\"]], \"type\": \"heatmap\"}], \"heatmapgl\": [{\"colorbar\": {\"outlinewidth\": 0, \"ticks\": \"\"}, \"colorscale\": [[0.0, \"#0d0887\"], [0.1111111111111111, \"#46039f\"], [0.2222222222222222, \"#7201a8\"], [0.3333333333333333, \"#9c179e\"], [0.4444444444444444, \"#bd3786\"], [0.5555555555555556, \"#d8576b\"], [0.6666666666666666, \"#ed7953\"], [0.7777777777777778, \"#fb9f3a\"], [0.8888888888888888, \"#fdca26\"], [1.0, \"#f0f921\"]], \"type\": \"heatmapgl\"}], \"histogram\": [{\"marker\": {\"colorbar\": {\"outlinewidth\": 0, \"ticks\": \"\"}}, \"type\": \"histogram\"}], \"histogram2d\": [{\"colorbar\": {\"outlinewidth\": 0, \"ticks\": \"\"}, \"colorscale\": [[0.0, \"#0d0887\"], [0.1111111111111111, \"#46039f\"], [0.2222222222222222, \"#7201a8\"], [0.3333333333333333, \"#9c179e\"], [0.4444444444444444, \"#bd3786\"], [0.5555555555555556, \"#d8576b\"], [0.6666666666666666, \"#ed7953\"], [0.7777777777777778, \"#fb9f3a\"], [0.8888888888888888, \"#fdca26\"], [1.0, \"#f0f921\"]], \"type\": \"histogram2d\"}], \"histogram2dcontour\": [{\"colorbar\": {\"outlinewidth\": 0, \"ticks\": \"\"}, \"colorscale\": [[0.0, \"#0d0887\"], [0.1111111111111111, \"#46039f\"], [0.2222222222222222, \"#7201a8\"], [0.3333333333333333, \"#9c179e\"], [0.4444444444444444, \"#bd3786\"], [0.5555555555555556, \"#d8576b\"], [0.6666666666666666, \"#ed7953\"], [0.7777777777777778, \"#fb9f3a\"], [0.8888888888888888, \"#fdca26\"], [1.0, \"#f0f921\"]], \"type\": \"histogram2dcontour\"}], \"mesh3d\": [{\"colorbar\": {\"outlinewidth\": 0, \"ticks\": \"\"}, \"type\": \"mesh3d\"}], \"parcoords\": [{\"line\": {\"colorbar\": {\"outlinewidth\": 0, \"ticks\": \"\"}}, \"type\": \"parcoords\"}], \"scatter\": [{\"marker\": {\"colorbar\": {\"outlinewidth\": 0, \"ticks\": \"\"}}, \"type\": \"scatter\"}], \"scatter3d\": [{\"line\": {\"colorbar\": {\"outlinewidth\": 0, \"ticks\": \"\"}}, \"marker\": {\"colorbar\": {\"outlinewidth\": 0, \"ticks\": \"\"}}, \"type\": \"scatter3d\"}], \"scattercarpet\": [{\"marker\": {\"colorbar\": {\"outlinewidth\": 0, \"ticks\": \"\"}}, \"type\": \"scattercarpet\"}], \"scattergeo\": [{\"marker\": {\"colorbar\": {\"outlinewidth\": 0, \"ticks\": \"\"}}, \"type\": \"scattergeo\"}], \"scattergl\": [{\"marker\": {\"colorbar\": {\"outlinewidth\": 0, \"ticks\": \"\"}}, \"type\": \"scattergl\"}], \"scattermapbox\": [{\"marker\": {\"colorbar\": {\"outlinewidth\": 0, \"ticks\": \"\"}}, \"type\": \"scattermapbox\"}], \"scatterpolar\": [{\"marker\": {\"colorbar\": {\"outlinewidth\": 0, \"ticks\": \"\"}}, \"type\": \"scatterpolar\"}], \"scatterpolargl\": [{\"marker\": {\"colorbar\": {\"outlinewidth\": 0, \"ticks\": \"\"}}, \"type\": \"scatterpolargl\"}], \"scatterternary\": [{\"marker\": {\"colorbar\": {\"outlinewidth\": 0, \"ticks\": \"\"}}, \"type\": \"scatterternary\"}], \"surface\": [{\"colorbar\": {\"outlinewidth\": 0, \"ticks\": \"\"}, \"colorscale\": [[0.0, \"#0d0887\"], [0.1111111111111111, \"#46039f\"], [0.2222222222222222, \"#7201a8\"], [0.3333333333333333, \"#9c179e\"], [0.4444444444444444, \"#bd3786\"], [0.5555555555555556, \"#d8576b\"], [0.6666666666666666, \"#ed7953\"], [0.7777777777777778, \"#fb9f3a\"], [0.8888888888888888, \"#fdca26\"], [1.0, \"#f0f921\"]], \"type\": \"surface\"}], \"table\": [{\"cells\": {\"fill\": {\"color\": \"#EBF0F8\"}, \"line\": {\"color\": \"white\"}}, \"header\": {\"fill\": {\"color\": \"#C8D4E3\"}, \"line\": {\"color\": \"white\"}}, \"type\": \"table\"}]}, \"layout\": {\"annotationdefaults\": {\"arrowcolor\": \"#2a3f5f\", \"arrowhead\": 0, \"arrowwidth\": 1}, \"colorscale\": {\"diverging\": [[0, \"#8e0152\"], [0.1, \"#c51b7d\"], [0.2, \"#de77ae\"], [0.3, \"#f1b6da\"], [0.4, \"#fde0ef\"], [0.5, \"#f7f7f7\"], [0.6, \"#e6f5d0\"], [0.7, \"#b8e186\"], [0.8, \"#7fbc41\"], [0.9, \"#4d9221\"], [1, \"#276419\"]], \"sequential\": [[0.0, \"#0d0887\"], [0.1111111111111111, \"#46039f\"], [0.2222222222222222, \"#7201a8\"], [0.3333333333333333, \"#9c179e\"], [0.4444444444444444, \"#bd3786\"], [0.5555555555555556, \"#d8576b\"], [0.6666666666666666, \"#ed7953\"], [0.7777777777777778, \"#fb9f3a\"], [0.8888888888888888, \"#fdca26\"], [1.0, \"#f0f921\"]], \"sequentialminus\": [[0.0, \"#0d0887\"], [0.1111111111111111, \"#46039f\"], [0.2222222222222222, \"#7201a8\"], [0.3333333333333333, \"#9c179e\"], [0.4444444444444444, \"#bd3786\"], [0.5555555555555556, \"#d8576b\"], [0.6666666666666666, \"#ed7953\"], [0.7777777777777778, \"#fb9f3a\"], [0.8888888888888888, \"#fdca26\"], [1.0, \"#f0f921\"]]}, \"colorway\": [\"#636efa\", \"#EF553B\", \"#00cc96\", \"#ab63fa\", \"#FFA15A\", \"#19d3f3\", \"#FF6692\", \"#B6E880\", \"#FF97FF\", \"#FECB52\"], \"font\": {\"color\": \"#2a3f5f\"}, \"geo\": {\"bgcolor\": \"white\", \"lakecolor\": \"white\", \"landcolor\": \"#E5ECF6\", \"showlakes\": true, \"showland\": true, \"subunitcolor\": \"white\"}, \"hoverlabel\": {\"align\": \"left\"}, \"hovermode\": \"closest\", \"mapbox\": {\"style\": \"light\"}, \"paper_bgcolor\": \"white\", \"plot_bgcolor\": \"#E5ECF6\", \"polar\": {\"angularaxis\": {\"gridcolor\": \"white\", \"linecolor\": \"white\", \"ticks\": \"\"}, \"bgcolor\": \"#E5ECF6\", \"radialaxis\": {\"gridcolor\": \"white\", \"linecolor\": \"white\", \"ticks\": \"\"}}, \"scene\": {\"xaxis\": {\"backgroundcolor\": \"#E5ECF6\", \"gridcolor\": \"white\", \"gridwidth\": 2, \"linecolor\": \"white\", \"showbackground\": true, \"ticks\": \"\", \"zerolinecolor\": \"white\"}, \"yaxis\": {\"backgroundcolor\": \"#E5ECF6\", \"gridcolor\": \"white\", \"gridwidth\": 2, \"linecolor\": \"white\", \"showbackground\": true, \"ticks\": \"\", \"zerolinecolor\": \"white\"}, \"zaxis\": {\"backgroundcolor\": \"#E5ECF6\", \"gridcolor\": \"white\", \"gridwidth\": 2, \"linecolor\": \"white\", \"showbackground\": true, \"ticks\": \"\", \"zerolinecolor\": \"white\"}}, \"shapedefaults\": {\"line\": {\"color\": \"#2a3f5f\"}}, \"ternary\": {\"aaxis\": {\"gridcolor\": \"white\", \"linecolor\": \"white\", \"ticks\": \"\"}, \"baxis\": {\"gridcolor\": \"white\", \"linecolor\": \"white\", \"ticks\": \"\"}, \"bgcolor\": \"#E5ECF6\", \"caxis\": {\"gridcolor\": \"white\", \"linecolor\": \"white\", \"ticks\": \"\"}}, \"title\": {\"x\": 0.05}, \"xaxis\": {\"automargin\": true, \"gridcolor\": \"white\", \"linecolor\": \"white\", \"ticks\": \"\", \"zerolinecolor\": \"white\", \"zerolinewidth\": 2}, \"yaxis\": {\"automargin\": true, \"gridcolor\": \"white\", \"linecolor\": \"white\", \"ticks\": \"\", \"zerolinecolor\": \"white\", \"zerolinewidth\": 2}}}, \"title\": {\"font\": {\"family\": \"Times New Roman\"}, \"text\": \"<b>Correlation Coefficients for North Boise and Associated Neighborhoods<b>\", \"x\": 0.5, \"xref\": \"paper\"}, \"yaxis\": {\"range\": [0, 0.7], \"title\": {\"font\": {\"family\": \"Times New Roman\", \"size\": 16}, \"text\": \"<b>Correlation Coefficient<b>\"}}},\n",
       "                        {\"responsive\": true}\n",
       "                    ).then(function(){\n",
       "                            \n",
       "var gd = document.getElementById('30ced5d3-c3b7-46b6-bef2-c97f19f2c730');\n",
       "var x = new MutationObserver(function (mutations, observer) {{\n",
       "        var display = window.getComputedStyle(gd).display;\n",
       "        if (!display || display === 'none') {{\n",
       "            console.log([gd, 'removed!']);\n",
       "            Plotly.purge(gd);\n",
       "            observer.disconnect();\n",
       "        }}\n",
       "}});\n",
       "\n",
       "// Listen for the removal of the full notebook cells\n",
       "var notebookContainer = gd.closest('#notebook-container');\n",
       "if (notebookContainer) {{\n",
       "    x.observe(notebookContainer, {childList: true});\n",
       "}}\n",
       "\n",
       "// Listen for the clearing of the current output cell\n",
       "var outputEl = gd.closest('.output');\n",
       "if (outputEl) {{\n",
       "    x.observe(outputEl, {childList: true});\n",
       "}}\n",
       "\n",
       "                        })\n",
       "                };\n",
       "                });\n",
       "            </script>\n",
       "        </div>"
      ]
     },
     "metadata": {},
     "output_type": "display_data"
    }
   ],
   "source": [
    "df = pd.read_pickle('NB-Coeff-compare.pkl')\n",
    "df2 = pd.read_pickle('a-Coeff-compare.pkl')\n",
    "\n",
    "\n",
    "df = pd.merge(df,df2, on = 'index', how = 'outer')\n",
    "\n",
    "df = df.dropna(thresh = 2)\n",
    "df = df.reset_index(drop = True)\n",
    "\n",
    "df = df.iloc[1:]\n",
    "\n",
    "NB_fig = go.Figure()\n",
    "\n",
    "NB_fig.add_trace(go.Scatter(x= df['index'], y=df['N_Boise'],\n",
    "                    mode='markers',\n",
    "                    marker_color = 'rgb(107,142,35)',\n",
    "                    marker=dict(size= 12, symbol = \"star-open\"),          \n",
    "                    name='North Boise Area'))\n",
    "\n",
    "NB_fig.add_trace(go.Scatter(x= df['index'], y=df['NB_Old_N_Boise'],\n",
    "                    mode='markers',\n",
    "                    marker_color = 'rgb(85,107,47)',\n",
    "                    name='Old North Boise'))\n",
    "\n",
    "NB_fig.add_trace(go.Scatter(x= df['index'], y=df['NB_B_Foothills'],\n",
    "                    mode='markers',  \n",
    "                    marker_color='rgb(128,128,0)',  \n",
    "                    name='Boise Foothills'))\n",
    "\n",
    "NB_fig.add_trace(go.Scatter(x= df['index'], y=df['NB_New_N_Boise'],\n",
    "                    mode='markers',  \n",
    "                    marker_color='rgb(46,139,87)',     \n",
    "                    name='New North Boise'))\n",
    "\n",
    "NB_fig.add_trace(go.Scatter(x= df['index'], y=df['NB_Downtown'],\n",
    "                    mode='markers',\n",
    "                    marker_color='rgb(60,179,113)',     \n",
    "                    name='Downtown'))\n",
    "\n",
    "NB_fig.add_trace(go.Scatter(x= df['index'], y=df['NB_Warm_Springs'],\n",
    "                    mode='markers',  \n",
    "                    marker_color='rgb(0,128,0)',     \n",
    "                    name='Warm Springs'))\n",
    "\n",
    "\n",
    "NB_fig.add_trace(go.Scatter(x= df['index'], y=df['NB_PU_Waterfront'],\n",
    "                    mode='markers',\n",
    "                    marker_color='rgb(50,205,50)',     \n",
    "                    name='Park & University Waterfront'))\n",
    "\n",
    "\n",
    "NB_fig.update_layout(\n",
    "    shapes=[\n",
    "        # Line Horizontal\n",
    "        go.layout.Shape(\n",
    "            type=\"line\",\n",
    "            x0=0,y0=.7,\n",
    "            x1=11,y1=.7,\n",
    "            line=dict(\n",
    "                color=\"Grey\",\n",
    "                width=1,\n",
    "                dash=\"dashdot\",),),])\n",
    "NB_fig.update_layout(\n",
    "    shapes=[\n",
    "        # Line Horizontal\n",
    "        go.layout.Shape(\n",
    "            type=\"line\",\n",
    "            x0=-1,y0=.3,\n",
    "            x1=16,y1=.3,\n",
    "            line=dict(\n",
    "                color=\"Grey\",\n",
    "                width=1,\n",
    "                dash=\"dashdot\",),),])\n",
    "\n",
    "NB_fig.update_layout(\n",
    "    title=go.layout.Title(\n",
    "        text=\"<b>Correlation Coefficients for North Boise and Associated Neighborhoods<b>\",\n",
    "        font = dict( \n",
    "            family = 'Times New Roman'),\n",
    "        xref=\"paper\",\n",
    "        x=.5\n",
    "    ),\n",
    "    yaxis=go.layout.YAxis(\n",
    "        title=go.layout.yaxis.Title(\n",
    "            text=\"<b>Correlation Coefficient<b>\",\n",
    "            font=dict(\n",
    "                family=\"Times New Roman\",\n",
    "                size=16,\n",
    "#                color=\"#7f7f7f\"\n",
    "            )\n",
    "        ),\n",
    "        range = [0,.7]\n",
    "    ))\n",
    "\n",
    "\n",
    "NB_fig.write_image(\"images/NB_fig.jpg\")\n",
    "NB_fig.show()"
   ]
  },
  {
   "cell_type": "markdown",
   "metadata": {},
   "source": [
    "## Southeast Boise"
   ]
  },
  {
   "cell_type": "code",
   "execution_count": null,
   "metadata": {},
   "outputs": [],
   "source": [
    "df = pd.read_pickle('SEB-Coeff-compare.pkl')\n",
    "df2 = pd.read_pickle('a-Coeff-compare.pkl')\n",
    "\n",
    "\n",
    "df = pd.merge(df,df2, on = 'index', how = 'outer')\n",
    "\n",
    "df = df.dropna(thresh = 2)\n",
    "df = df.reset_index(drop = True)\n",
    "\n",
    "df = df.iloc[1:]\n",
    "\n",
    "SEB_fig = go.Figure()\n",
    "\n",
    "SEB_fig.add_trace(go.Scatter(x= df['index'], y=df['SE_Boise'],\n",
    "                    mode='markers',\n",
    "                    marker_color = 'rgb(0,0,128)',\n",
    "                    marker=dict(size= 12, symbol = \"pentagon-open\"),          \n",
    "                    name='SE Boise'))\n",
    "\n",
    "SEB_fig.add_trace(go.Scatter(x= df['index'], y=df['NB_Old_N_Boise'],\n",
    "                    mode='markers',\n",
    "                    marker_color = 'rgb(85,107,47)',\n",
    "                    name='Old North Boise'))\n",
    "\n",
    "SEB_fig.add_trace(go.Scatter(x= df['index'], y=df['NB_B_Foothills'],\n",
    "                    mode='markers',  \n",
    "                    marker_color='rgb(128,128,0)',  \n",
    "                    name='Boise Foothills'))\n",
    "\n",
    "SEB_fig.add_trace(go.Scatter(x= df['index'], y=df['NB_New_N_Boise'],\n",
    "                    mode='markers',  \n",
    "                    marker_color='rgb(46,139,87)',     \n",
    "                    name='New North Boise'))\n",
    "\n",
    "SEB_fig.add_trace(go.Scatter(x= df['index'], y=df['NB_Downtown'],\n",
    "                    mode='markers',\n",
    "                    marker_color='rgb(60,179,113)',     \n",
    "                    name='Downtown'))\n",
    "\n",
    "SEB_fig.add_trace(go.Scatter(x= df['index'], y=df['NB_Warm_Springs'],\n",
    "                    mode='markers',  \n",
    "                    marker_color='rgb(0,128,0)',     \n",
    "                    name='Warm Springs'))\n",
    "\n",
    "\n",
    "SEB_fig.add_trace(go.Scatter(x= df['index'], y=df['NB_PU_Waterfront'],\n",
    "                    mode='markers',\n",
    "                    marker_color='rgb(50,205,50)',     \n",
    "                    name='Park & University Waterfront'))\n",
    "\n",
    "\n",
    "SEB_fig.update_layout(\n",
    "    shapes=[\n",
    "        # Line Horizontal\n",
    "        go.layout.Shape(\n",
    "            type=\"line\",\n",
    "            x0=0,y0=.7,\n",
    "            x1=11,y1=.7,\n",
    "            line=dict(\n",
    "                color=\"Grey\",\n",
    "                width=1,\n",
    "                dash=\"dashdot\",),),])\n",
    "SEB_fig.update_layout(\n",
    "    shapes=[\n",
    "        # Line Horizontal\n",
    "        go.layout.Shape(\n",
    "            type=\"line\",\n",
    "            x0=-1,y0=.3,\n",
    "            x1=16,y1=.3,\n",
    "            line=dict(\n",
    "                color=\"Grey\",\n",
    "                width=1,\n",
    "                dash=\"dashdot\",),),])\n",
    "\n",
    "SEB_fig.update_layout(\n",
    "    title=go.layout.Title(\n",
    "        text=\"<b>Correlation Coefficients for South East Boise and Associated Neighborhoods<b>\",\n",
    "        font = dict( \n",
    "            family = 'Times New Roman'),\n",
    "        xref=\"paper\",\n",
    "        x=.5\n",
    "    ),\n",
    "    yaxis=go.layout.YAxis(\n",
    "        title=go.layout.yaxis.Title(\n",
    "            text=\"<b>Correlation Coefficient<b>\",\n",
    "            font=dict(\n",
    "                family=\"Times New Roman\",\n",
    "                size=16,\n",
    "#                color=\"#7f7f7f\"\n",
    "            )\n",
    "        ),\n",
    "        range = [0,.7]\n",
    "    ))\n",
    "\n",
    "\n",
    "SEB_fig.write_image(\"images/SEB_fig.jpg\")\n",
    "SEB_fig.show()"
   ]
  },
  {
   "cell_type": "markdown",
   "metadata": {},
   "source": [
    "## Northwest Boise-Garden City"
   ]
  },
  {
   "cell_type": "code",
   "execution_count": null,
   "metadata": {},
   "outputs": [],
   "source": []
  },
  {
   "cell_type": "markdown",
   "metadata": {},
   "source": [
    "## Northeast Boise"
   ]
  },
  {
   "cell_type": "code",
   "execution_count": null,
   "metadata": {},
   "outputs": [],
   "source": []
  },
  {
   "cell_type": "markdown",
   "metadata": {},
   "source": [
    "## Southwest Boise"
   ]
  },
  {
   "cell_type": "code",
   "execution_count": null,
   "metadata": {},
   "outputs": [],
   "source": []
  },
  {
   "cell_type": "markdown",
   "metadata": {},
   "source": [
    "## Southwest Boise-Meridian"
   ]
  },
  {
   "cell_type": "code",
   "execution_count": null,
   "metadata": {},
   "outputs": [],
   "source": []
  },
  {
   "cell_type": "markdown",
   "metadata": {},
   "source": [
    "# Combine into a 3x3 grid"
   ]
  },
  {
   "cell_type": "code",
   "execution_count": 55,
   "metadata": {},
   "outputs": [
    {
     "ename": "ValueError",
     "evalue": "\n    Invalid element(s) received for the 'data' property of \n        Invalid elements include: [Figure({\n    'data': [{'marker': {'color': 'rgba(47, 79, 79, .8)', 'size': 12, 'symbol': 'circle-cross-open'},\n              'mode': 'markers',\n              'name': 'West Boise Area',\n              'type': 'scatter',\n              'x': array(['Arts, Design, Entertainment, Sports, And Media Occupations',\n                          'Building And Grounds Cleaning And Maintenance Occupations',\n                          'Food Preparation And Serving Related Occupations',\n                          'Installation, Maintenance, And Repair Occupations',\n                          'Management Occupations', 'Production Occupations',\n                          'Sales And Related Occupations',\n                          'Transportation And Material Moving Occupations', '(10000.0, 40000.0]',\n                          '(70000.0, 100000.0]', 'Total_House_Change', 'Total_Pop_Change',\n                          'Total_Emp_Change'], dtype=object),\n              'y': array([0.295192  , 0.30411754,        nan,        nan, 0.27954755, 0.25839876,\n                          0.30643099, 0.27529209,        nan, 0.23000236, 0.2837423 , 0.27966549,\n                          0.31657675])},\n             {'marker': {'color': 'rgb(0,0,0)'},\n              'mode': 'markers',\n              'name': 'North Central Bench',\n              'type': 'scatter',\n              'x': array(['Arts, Design, Entertainment, Sports, And Media Occupations',\n                          'Building And Grounds Cleaning And Maintenance Occupations',\n                          'Food Preparation And Serving Related Occupations',\n                          'Installation, Maintenance, And Repair Occupations',\n                          'Management Occupations', 'Production Occupations',\n                          'Sales And Related Occupations',\n                          'Transportation And Material Moving Occupations', '(10000.0, 40000.0]',\n                          '(70000.0, 100000.0]', 'Total_House_Change', 'Total_Pop_Change',\n                          'Total_Emp_Change'], dtype=object),\n              'y': array([0.3408121 , 0.35488434,        nan,        nan, 0.3268271 , 0.27693483,\n                          0.33846103, 0.30448338,        nan, 0.2648112 , 0.33108277, 0.32280932,\n                          0.35228166])},\n             {'marker': {'color': 'rgb(119,136,153)'},\n              'mode': 'markers',\n              'name': 'West Boise',\n              'type': 'scatter',\n              'x': array(['Arts, Design, Entertainment, Sports, And Media Occupations',\n                          'Building And Grounds Cleaning And Maintenance Occupations',\n                          'Food Preparation And Serving Related Occupations',\n                          'Installation, Maintenance, And Repair Occupations',\n                          'Management Occupations', 'Production Occupations',\n                          'Sales And Related Occupations',\n                          'Transportation And Material Moving Occupations', '(10000.0, 40000.0]',\n                          '(70000.0, 100000.0]', 'Total_House_Change', 'Total_Pop_Change',\n                          'Total_Emp_Change'], dtype=object),\n              'y': array([0.2446838 , 0.25466011, 0.20168505,        nan, 0.25696481, 0.25458803,\n                          0.29577445, 0.2708689 ,        nan,        nan, 0.26258628, 0.26267803,\n                          0.29948892])},\n             {'marker': {'color': 'rgb(169,169,169)'},\n              'mode': 'markers',\n              'name': 'West B. Freeway Cor.',\n              'type': 'scatter',\n              'x': array(['Arts, Design, Entertainment, Sports, And Media Occupations',\n                          'Building And Grounds Cleaning And Maintenance Occupations',\n                          'Food Preparation And Serving Related Occupations',\n                          'Installation, Maintenance, And Repair Occupations',\n                          'Management Occupations', 'Production Occupations',\n                          'Sales And Related Occupations',\n                          'Transportation And Material Moving Occupations', '(10000.0, 40000.0]',\n                          '(70000.0, 100000.0]', 'Total_House_Change', 'Total_Pop_Change',\n                          'Total_Emp_Change'], dtype=object),\n              'y': array([0.20516665, 0.19119047, 0.17208906,        nan,        nan, 0.20798506,\n                          0.21610102, 0.18483621, 0.14908658, 0.15158379,        nan, 0.15087399,\n                          0.22004007])}],\n    'layout': {'shapes': [{'line': {'color': 'Grey', 'dash': 'dashdot', 'width': 1},\n                           'type': 'line',\n                           'x0': -1,\n                           'x1': 13,\n                           'y0': 0.3,\n                           'y1': 0.3}],\n               'template': '...',\n               'title': {'font': {'family': 'Times New Roman'},\n                         'text': '<b>Correlation Coefficients for West Boise and Associated Neighborhoods<b>',\n                         'x': 0.5,\n                         'xref': 'paper'},\n               'yaxis': {'range': [0, 0.7],\n                         'title': {'font': {'family': 'Times New Roman', 'size': 16},\n                                   'text': '<b>Correlation Coefficient<b>'}}}\n}), Figure({\n    'data': [{'marker': {'color': 'rgb(0,128,128)', 'size': 12, 'symbol': 'star-diamond-open'},\n              'mode': 'markers',\n              'name': 'Boise Bench Area',\n              'type': 'scatter',\n              'x': array(['Arts, Design, Entertainment, Sports, And Media Occupations',\n                          'Building And Grounds Cleaning And Maintenance Occupations',\n                          'Business And Financial Operations Occupations',\n                          'Computer And Mathematical Occupations',\n                          'Construction And Extraction Occupations',\n                          'Food Preparation And Serving Related Occupations',\n                          'Installation, Maintenance, And Repair Occupations',\n                          'Management Occupations', 'Production Occupations',\n                          'Sales And Related Occupations',\n                          'Transportation And Material Moving Occupations', '(70000.0, 100000.0]',\n                          'Total_House_Change', 'Total_Pop_Change', 'Total_Emp_Change'],\n                         dtype=object),\n              'y': array([0.32229565, 0.29777983,        nan,        nan,        nan, 0.26285978,\n                                 nan, 0.29648873, 0.27251424, 0.33685471, 0.31293207,        nan,\n                          0.30830066, 0.30916206, 0.34116318])},\n             {'marker': {'color': 'rgb(102,205,170)'},\n              'mode': 'markers',\n              'name': 'Central B. Bench',\n              'type': 'scatter',\n              'x': array(['Arts, Design, Entertainment, Sports, And Media Occupations',\n                          'Building And Grounds Cleaning And Maintenance Occupations',\n                          'Business And Financial Operations Occupations',\n                          'Computer And Mathematical Occupations',\n                          'Construction And Extraction Occupations',\n                          'Food Preparation And Serving Related Occupations',\n                          'Installation, Maintenance, And Repair Occupations',\n                          'Management Occupations', 'Production Occupations',\n                          'Sales And Related Occupations',\n                          'Transportation And Material Moving Occupations', '(70000.0, 100000.0]',\n                          'Total_House_Change', 'Total_Pop_Change', 'Total_Emp_Change'],\n                         dtype=object),\n              'y': array([0.29113025, 0.27029738,        nan,        nan,        nan, 0.23314669,\n                                 nan, 0.27263439, 0.23713671, 0.29655599, 0.28123923,        nan,\n                          0.28574013, 0.28379257, 0.30443936])},\n             {'marker': {'color': 'rgb(32,178,170)'},\n              'mode': 'markers',\n              'name': 'North Central Bench',\n              'type': 'scatter',\n              'x': array(['Arts, Design, Entertainment, Sports, And Media Occupations',\n                          'Building And Grounds Cleaning And Maintenance Occupations',\n                          'Business And Financial Operations Occupations',\n                          'Computer And Mathematical Occupations',\n                          'Construction And Extraction Occupations',\n                          'Food Preparation And Serving Related Occupations',\n                          'Installation, Maintenance, And Repair Occupations',\n                          'Management Occupations', 'Production Occupations',\n                          'Sales And Related Occupations',\n                          'Transportation And Material Moving Occupations', '(70000.0, 100000.0]',\n                          'Total_House_Change', 'Total_Pop_Change', 'Total_Emp_Change'],\n                         dtype=object),\n              'y': array([0.56324781, 0.50520408,        nan,        nan,        nan,        nan,\n                          0.30299263, 0.46352267, 0.41837117, 0.51708446, 0.40975237,        nan,\n                          0.38313798, 0.36052591, 0.47299036])},\n             {'marker': {'color': 'rgb(0,139,139)'},\n              'mode': 'markers',\n              'name': 'B. Bench Freeway Cor.',\n              'type': 'scatter',\n              'x': array(['Arts, Design, Entertainment, Sports, And Media Occupations',\n                          'Building And Grounds Cleaning And Maintenance Occupations',\n                          'Business And Financial Operations Occupations',\n                          'Computer And Mathematical Occupations',\n                          'Construction And Extraction Occupations',\n                          'Food Preparation And Serving Related Occupations',\n                          'Installation, Maintenance, And Repair Occupations',\n                          'Management Occupations', 'Production Occupations',\n                          'Sales And Related Occupations',\n                          'Transportation And Material Moving Occupations', '(70000.0, 100000.0]',\n                          'Total_House_Change', 'Total_Pop_Change', 'Total_Emp_Change'],\n                         dtype=object),\n              'y': array([0.48248965, 0.44515268,        nan,        nan,        nan, 0.42854156,\n                                 nan, 0.42258819, 0.44958817, 0.54629129, 0.4951599 ,        nan,\n                          0.43832731, 0.45487472, 0.53704295])},\n             {'marker': {'color': 'rgb(0,255,255)'},\n              'mode': 'markers',\n              'name': 'Park & University Waterfront',\n              'type': 'scatter',\n              'x': array(['Arts, Design, Entertainment, Sports, And Media Occupations',\n                          'Building And Grounds Cleaning And Maintenance Occupations',\n                          'Business And Financial Operations Occupations',\n                          'Computer And Mathematical Occupations',\n                          'Construction And Extraction Occupations',\n                          'Food Preparation And Serving Related Occupations',\n                          'Installation, Maintenance, And Repair Occupations',\n                          'Management Occupations', 'Production Occupations',\n                          'Sales And Related Occupations',\n                          'Transportation And Material Moving Occupations', '(70000.0, 100000.0]',\n                          'Total_House_Change', 'Total_Pop_Change', 'Total_Emp_Change'],\n                         dtype=object),\n              'y': array([0.31724874,        nan, 0.27677335, 0.23981927, 0.35476489,        nan,\n                          0.32040316, 0.42727329, 0.2858634 ,        nan,        nan, 0.38775147,\n                          0.34257826,        nan, 0.23761147])}],\n    'layout': {'shapes': [{'line': {'color': 'Grey', 'dash': 'dashdot', 'width': 1},\n                           'type': 'line',\n                           'x0': -1,\n                           'x1': 15,\n                           'y0': 0.3,\n                           'y1': 0.3}],\n               'template': '...',\n               'title': {'font': {'family': 'Times New Roman'},\n                         'text': '<b>Correlation Coefficients for Boise Bench and Associated Neighborhoods<b>',\n                         'x': 0.5,\n                         'xref': 'paper'},\n               'yaxis': {'range': [0, 0.7],\n                         'title': {'font': {'family': 'Times New Roman', 'size': 16},\n                                   'text': '<b>Correlation Coefficient<b>'}}}\n})]\n\n    The 'data' property is a tuple of trace instances\n    that may be specified as:\n      - A list or tuple of trace instances\n        (e.g. [Scatter(...), Bar(...)])\n      - A single trace instance\n        (e.g. Scatter(...), Bar(...), etc.)\n      - A list or tuple of dicts of string/value properties where:\n        - The 'type' property specifies the trace type\n            One of: ['area', 'bar', 'barpolar', 'box',\n                     'candlestick', 'carpet', 'choropleth',\n                     'choroplethmapbox', 'cone', 'contour',\n                     'contourcarpet', 'densitymapbox', 'funnel',\n                     'funnelarea', 'heatmap', 'heatmapgl',\n                     'histogram', 'histogram2d',\n                     'histogram2dcontour', 'indicator',\n                     'isosurface', 'mesh3d', 'ohlc', 'parcats',\n                     'parcoords', 'pie', 'pointcloud', 'sankey',\n                     'scatter', 'scatter3d', 'scattercarpet',\n                     'scattergeo', 'scattergl', 'scattermapbox',\n                     'scatterpolar', 'scatterpolargl',\n                     'scatterternary', 'splom', 'streamtube',\n                     'sunburst', 'surface', 'table', 'violin',\n                     'volume', 'waterfall']\n\n        - All remaining properties are passed to the constructor of\n          the specified trace type\n\n        (e.g. [{'type': 'scatter', ...}, {'type': 'bar, ...}])",
     "output_type": "error",
     "traceback": [
      "\u001b[1;31m---------------------------------------------------------------------------\u001b[0m",
      "\u001b[1;31mValueError\u001b[0m                                Traceback (most recent call last)",
      "\u001b[1;32m<ipython-input-55-c869b523a657>\u001b[0m in \u001b[0;36m<module>\u001b[1;34m\u001b[0m\n\u001b[0;32m     10\u001b[0m \u001b[0mNGrid\u001b[0m \u001b[1;33m=\u001b[0m \u001b[0mgo\u001b[0m\u001b[1;33m.\u001b[0m\u001b[0mFigure\u001b[0m\u001b[1;33m(\u001b[0m\u001b[1;33m)\u001b[0m\u001b[1;33m\u001b[0m\u001b[1;33m\u001b[0m\u001b[0m\n\u001b[0;32m     11\u001b[0m \u001b[1;33m\u001b[0m\u001b[0m\n\u001b[1;32m---> 12\u001b[1;33m \u001b[0mnGrid\u001b[0m\u001b[1;33m.\u001b[0m\u001b[0madd_traces\u001b[0m\u001b[1;33m(\u001b[0m\u001b[1;33m[\u001b[0m\u001b[0mWB_fig\u001b[0m\u001b[1;33m,\u001b[0m \u001b[0mBB_fig\u001b[0m\u001b[1;33m]\u001b[0m\u001b[1;33m)\u001b[0m\u001b[1;33m\u001b[0m\u001b[1;33m\u001b[0m\u001b[0m\n\u001b[0m\u001b[0;32m     13\u001b[0m \u001b[1;33m\u001b[0m\u001b[0m\n\u001b[0;32m     14\u001b[0m \u001b[0mnGrid\u001b[0m\u001b[1;33m.\u001b[0m\u001b[0mlayout\u001b[0m\u001b[1;33m.\u001b[0m\u001b[0mupdate\u001b[0m\u001b[1;33m(\u001b[0m\u001b[0mBB_fig\u001b[0m\u001b[1;33m.\u001b[0m\u001b[0mlayout\u001b[0m\u001b[1;33m)\u001b[0m\u001b[1;33m\u001b[0m\u001b[1;33m\u001b[0m\u001b[0m\n",
      "\u001b[1;32m~\\AppData\\Local\\Continuum\\anaconda3\\envs\\tensorenviron\\lib\\site-packages\\plotly\\basedatatypes.py\u001b[0m in \u001b[0;36madd_traces\u001b[1;34m(self, data, rows, cols, secondary_ys)\u001b[0m\n\u001b[0;32m   1553\u001b[0m \u001b[1;33m\u001b[0m\u001b[0m\n\u001b[0;32m   1554\u001b[0m         \u001b[1;31m# Validate traces\u001b[0m\u001b[1;33m\u001b[0m\u001b[1;33m\u001b[0m\u001b[1;33m\u001b[0m\u001b[0m\n\u001b[1;32m-> 1555\u001b[1;33m         \u001b[0mdata\u001b[0m \u001b[1;33m=\u001b[0m \u001b[0mself\u001b[0m\u001b[1;33m.\u001b[0m\u001b[0m_data_validator\u001b[0m\u001b[1;33m.\u001b[0m\u001b[0mvalidate_coerce\u001b[0m\u001b[1;33m(\u001b[0m\u001b[0mdata\u001b[0m\u001b[1;33m)\u001b[0m\u001b[1;33m\u001b[0m\u001b[1;33m\u001b[0m\u001b[0m\n\u001b[0m\u001b[0;32m   1556\u001b[0m \u001b[1;33m\u001b[0m\u001b[0m\n\u001b[0;32m   1557\u001b[0m         \u001b[1;31m# Set trace indexes\u001b[0m\u001b[1;33m\u001b[0m\u001b[1;33m\u001b[0m\u001b[1;33m\u001b[0m\u001b[0m\n",
      "\u001b[1;32m~\\AppData\\Local\\Continuum\\anaconda3\\envs\\tensorenviron\\lib\\site-packages\\_plotly_utils\\basevalidators.py\u001b[0m in \u001b[0;36mvalidate_coerce\u001b[1;34m(self, v, skip_invalid)\u001b[0m\n\u001b[0;32m   2656\u001b[0m \u001b[1;33m\u001b[0m\u001b[0m\n\u001b[0;32m   2657\u001b[0m             \u001b[1;32mif\u001b[0m \u001b[0minvalid_els\u001b[0m\u001b[1;33m:\u001b[0m\u001b[1;33m\u001b[0m\u001b[1;33m\u001b[0m\u001b[0m\n\u001b[1;32m-> 2658\u001b[1;33m                 \u001b[0mself\u001b[0m\u001b[1;33m.\u001b[0m\u001b[0mraise_invalid_elements\u001b[0m\u001b[1;33m(\u001b[0m\u001b[0minvalid_els\u001b[0m\u001b[1;33m)\u001b[0m\u001b[1;33m\u001b[0m\u001b[1;33m\u001b[0m\u001b[0m\n\u001b[0m\u001b[0;32m   2659\u001b[0m \u001b[1;33m\u001b[0m\u001b[0m\n\u001b[0;32m   2660\u001b[0m             \u001b[0mv\u001b[0m \u001b[1;33m=\u001b[0m \u001b[0mto_scalar_or_list\u001b[0m\u001b[1;33m(\u001b[0m\u001b[0mres\u001b[0m\u001b[1;33m)\u001b[0m\u001b[1;33m\u001b[0m\u001b[1;33m\u001b[0m\u001b[0m\n",
      "\u001b[1;32m~\\AppData\\Local\\Continuum\\anaconda3\\envs\\tensorenviron\\lib\\site-packages\\_plotly_utils\\basevalidators.py\u001b[0m in \u001b[0;36mraise_invalid_elements\u001b[1;34m(self, invalid_els)\u001b[0m\n\u001b[0;32m    296\u001b[0m                     \u001b[0mpname\u001b[0m\u001b[1;33m=\u001b[0m\u001b[0mself\u001b[0m\u001b[1;33m.\u001b[0m\u001b[0mparent_name\u001b[0m\u001b[1;33m,\u001b[0m\u001b[1;33m\u001b[0m\u001b[1;33m\u001b[0m\u001b[0m\n\u001b[0;32m    297\u001b[0m                     \u001b[0minvalid\u001b[0m\u001b[1;33m=\u001b[0m\u001b[0minvalid_els\u001b[0m\u001b[1;33m[\u001b[0m\u001b[1;33m:\u001b[0m\u001b[1;36m10\u001b[0m\u001b[1;33m]\u001b[0m\u001b[1;33m,\u001b[0m\u001b[1;33m\u001b[0m\u001b[1;33m\u001b[0m\u001b[0m\n\u001b[1;32m--> 298\u001b[1;33m                     \u001b[0mvalid_clr_desc\u001b[0m\u001b[1;33m=\u001b[0m\u001b[0mself\u001b[0m\u001b[1;33m.\u001b[0m\u001b[0mdescription\u001b[0m\u001b[1;33m(\u001b[0m\u001b[1;33m)\u001b[0m\u001b[1;33m,\u001b[0m\u001b[1;33m\u001b[0m\u001b[1;33m\u001b[0m\u001b[0m\n\u001b[0m\u001b[0;32m    299\u001b[0m                 )\n\u001b[0;32m    300\u001b[0m             )\n",
      "\u001b[1;31mValueError\u001b[0m: \n    Invalid element(s) received for the 'data' property of \n        Invalid elements include: [Figure({\n    'data': [{'marker': {'color': 'rgba(47, 79, 79, .8)', 'size': 12, 'symbol': 'circle-cross-open'},\n              'mode': 'markers',\n              'name': 'West Boise Area',\n              'type': 'scatter',\n              'x': array(['Arts, Design, Entertainment, Sports, And Media Occupations',\n                          'Building And Grounds Cleaning And Maintenance Occupations',\n                          'Food Preparation And Serving Related Occupations',\n                          'Installation, Maintenance, And Repair Occupations',\n                          'Management Occupations', 'Production Occupations',\n                          'Sales And Related Occupations',\n                          'Transportation And Material Moving Occupations', '(10000.0, 40000.0]',\n                          '(70000.0, 100000.0]', 'Total_House_Change', 'Total_Pop_Change',\n                          'Total_Emp_Change'], dtype=object),\n              'y': array([0.295192  , 0.30411754,        nan,        nan, 0.27954755, 0.25839876,\n                          0.30643099, 0.27529209,        nan, 0.23000236, 0.2837423 , 0.27966549,\n                          0.31657675])},\n             {'marker': {'color': 'rgb(0,0,0)'},\n              'mode': 'markers',\n              'name': 'North Central Bench',\n              'type': 'scatter',\n              'x': array(['Arts, Design, Entertainment, Sports, And Media Occupations',\n                          'Building And Grounds Cleaning And Maintenance Occupations',\n                          'Food Preparation And Serving Related Occupations',\n                          'Installation, Maintenance, And Repair Occupations',\n                          'Management Occupations', 'Production Occupations',\n                          'Sales And Related Occupations',\n                          'Transportation And Material Moving Occupations', '(10000.0, 40000.0]',\n                          '(70000.0, 100000.0]', 'Total_House_Change', 'Total_Pop_Change',\n                          'Total_Emp_Change'], dtype=object),\n              'y': array([0.3408121 , 0.35488434,        nan,        nan, 0.3268271 , 0.27693483,\n                          0.33846103, 0.30448338,        nan, 0.2648112 , 0.33108277, 0.32280932,\n                          0.35228166])},\n             {'marker': {'color': 'rgb(119,136,153)'},\n              'mode': 'markers',\n              'name': 'West Boise',\n              'type': 'scatter',\n              'x': array(['Arts, Design, Entertainment, Sports, And Media Occupations',\n                          'Building And Grounds Cleaning And Maintenance Occupations',\n                          'Food Preparation And Serving Related Occupations',\n                          'Installation, Maintenance, And Repair Occupations',\n                          'Management Occupations', 'Production Occupations',\n                          'Sales And Related Occupations',\n                          'Transportation And Material Moving Occupations', '(10000.0, 40000.0]',\n                          '(70000.0, 100000.0]', 'Total_House_Change', 'Total_Pop_Change',\n                          'Total_Emp_Change'], dtype=object),\n              'y': array([0.2446838 , 0.25466011, 0.20168505,        nan, 0.25696481, 0.25458803,\n                          0.29577445, 0.2708689 ,        nan,        nan, 0.26258628, 0.26267803,\n                          0.29948892])},\n             {'marker': {'color': 'rgb(169,169,169)'},\n              'mode': 'markers',\n              'name': 'West B. Freeway Cor.',\n              'type': 'scatter',\n              'x': array(['Arts, Design, Entertainment, Sports, And Media Occupations',\n                          'Building And Grounds Cleaning And Maintenance Occupations',\n                          'Food Preparation And Serving Related Occupations',\n                          'Installation, Maintenance, And Repair Occupations',\n                          'Management Occupations', 'Production Occupations',\n                          'Sales And Related Occupations',\n                          'Transportation And Material Moving Occupations', '(10000.0, 40000.0]',\n                          '(70000.0, 100000.0]', 'Total_House_Change', 'Total_Pop_Change',\n                          'Total_Emp_Change'], dtype=object),\n              'y': array([0.20516665, 0.19119047, 0.17208906,        nan,        nan, 0.20798506,\n                          0.21610102, 0.18483621, 0.14908658, 0.15158379,        nan, 0.15087399,\n                          0.22004007])}],\n    'layout': {'shapes': [{'line': {'color': 'Grey', 'dash': 'dashdot', 'width': 1},\n                           'type': 'line',\n                           'x0': -1,\n                           'x1': 13,\n                           'y0': 0.3,\n                           'y1': 0.3}],\n               'template': '...',\n               'title': {'font': {'family': 'Times New Roman'},\n                         'text': '<b>Correlation Coefficients for West Boise and Associated Neighborhoods<b>',\n                         'x': 0.5,\n                         'xref': 'paper'},\n               'yaxis': {'range': [0, 0.7],\n                         'title': {'font': {'family': 'Times New Roman', 'size': 16},\n                                   'text': '<b>Correlation Coefficient<b>'}}}\n}), Figure({\n    'data': [{'marker': {'color': 'rgb(0,128,128)', 'size': 12, 'symbol': 'star-diamond-open'},\n              'mode': 'markers',\n              'name': 'Boise Bench Area',\n              'type': 'scatter',\n              'x': array(['Arts, Design, Entertainment, Sports, And Media Occupations',\n                          'Building And Grounds Cleaning And Maintenance Occupations',\n                          'Business And Financial Operations Occupations',\n                          'Computer And Mathematical Occupations',\n                          'Construction And Extraction Occupations',\n                          'Food Preparation And Serving Related Occupations',\n                          'Installation, Maintenance, And Repair Occupations',\n                          'Management Occupations', 'Production Occupations',\n                          'Sales And Related Occupations',\n                          'Transportation And Material Moving Occupations', '(70000.0, 100000.0]',\n                          'Total_House_Change', 'Total_Pop_Change', 'Total_Emp_Change'],\n                         dtype=object),\n              'y': array([0.32229565, 0.29777983,        nan,        nan,        nan, 0.26285978,\n                                 nan, 0.29648873, 0.27251424, 0.33685471, 0.31293207,        nan,\n                          0.30830066, 0.30916206, 0.34116318])},\n             {'marker': {'color': 'rgb(102,205,170)'},\n              'mode': 'markers',\n              'name': 'Central B. Bench',\n              'type': 'scatter',\n              'x': array(['Arts, Design, Entertainment, Sports, And Media Occupations',\n                          'Building And Grounds Cleaning And Maintenance Occupations',\n                          'Business And Financial Operations Occupations',\n                          'Computer And Mathematical Occupations',\n                          'Construction And Extraction Occupations',\n                          'Food Preparation And Serving Related Occupations',\n                          'Installation, Maintenance, And Repair Occupations',\n                          'Management Occupations', 'Production Occupations',\n                          'Sales And Related Occupations',\n                          'Transportation And Material Moving Occupations', '(70000.0, 100000.0]',\n                          'Total_House_Change', 'Total_Pop_Change', 'Total_Emp_Change'],\n                         dtype=object),\n              'y': array([0.29113025, 0.27029738,        nan,        nan,        nan, 0.23314669,\n                                 nan, 0.27263439, 0.23713671, 0.29655599, 0.28123923,        nan,\n                          0.28574013, 0.28379257, 0.30443936])},\n             {'marker': {'color': 'rgb(32,178,170)'},\n              'mode': 'markers',\n              'name': 'North Central Bench',\n              'type': 'scatter',\n              'x': array(['Arts, Design, Entertainment, Sports, And Media Occupations',\n                          'Building And Grounds Cleaning And Maintenance Occupations',\n                          'Business And Financial Operations Occupations',\n                          'Computer And Mathematical Occupations',\n                          'Construction And Extraction Occupations',\n                          'Food Preparation And Serving Related Occupations',\n                          'Installation, Maintenance, And Repair Occupations',\n                          'Management Occupations', 'Production Occupations',\n                          'Sales And Related Occupations',\n                          'Transportation And Material Moving Occupations', '(70000.0, 100000.0]',\n                          'Total_House_Change', 'Total_Pop_Change', 'Total_Emp_Change'],\n                         dtype=object),\n              'y': array([0.56324781, 0.50520408,        nan,        nan,        nan,        nan,\n                          0.30299263, 0.46352267, 0.41837117, 0.51708446, 0.40975237,        nan,\n                          0.38313798, 0.36052591, 0.47299036])},\n             {'marker': {'color': 'rgb(0,139,139)'},\n              'mode': 'markers',\n              'name': 'B. Bench Freeway Cor.',\n              'type': 'scatter',\n              'x': array(['Arts, Design, Entertainment, Sports, And Media Occupations',\n                          'Building And Grounds Cleaning And Maintenance Occupations',\n                          'Business And Financial Operations Occupations',\n                          'Computer And Mathematical Occupations',\n                          'Construction And Extraction Occupations',\n                          'Food Preparation And Serving Related Occupations',\n                          'Installation, Maintenance, And Repair Occupations',\n                          'Management Occupations', 'Production Occupations',\n                          'Sales And Related Occupations',\n                          'Transportation And Material Moving Occupations', '(70000.0, 100000.0]',\n                          'Total_House_Change', 'Total_Pop_Change', 'Total_Emp_Change'],\n                         dtype=object),\n              'y': array([0.48248965, 0.44515268,        nan,        nan,        nan, 0.42854156,\n                                 nan, 0.42258819, 0.44958817, 0.54629129, 0.4951599 ,        nan,\n                          0.43832731, 0.45487472, 0.53704295])},\n             {'marker': {'color': 'rgb(0,255,255)'},\n              'mode': 'markers',\n              'name': 'Park & University Waterfront',\n              'type': 'scatter',\n              'x': array(['Arts, Design, Entertainment, Sports, And Media Occupations',\n                          'Building And Grounds Cleaning And Maintenance Occupations',\n                          'Business And Financial Operations Occupations',\n                          'Computer And Mathematical Occupations',\n                          'Construction And Extraction Occupations',\n                          'Food Preparation And Serving Related Occupations',\n                          'Installation, Maintenance, And Repair Occupations',\n                          'Management Occupations', 'Production Occupations',\n                          'Sales And Related Occupations',\n                          'Transportation And Material Moving Occupations', '(70000.0, 100000.0]',\n                          'Total_House_Change', 'Total_Pop_Change', 'Total_Emp_Change'],\n                         dtype=object),\n              'y': array([0.31724874,        nan, 0.27677335, 0.23981927, 0.35476489,        nan,\n                          0.32040316, 0.42727329, 0.2858634 ,        nan,        nan, 0.38775147,\n                          0.34257826,        nan, 0.23761147])}],\n    'layout': {'shapes': [{'line': {'color': 'Grey', 'dash': 'dashdot', 'width': 1},\n                           'type': 'line',\n                           'x0': -1,\n                           'x1': 15,\n                           'y0': 0.3,\n                           'y1': 0.3}],\n               'template': '...',\n               'title': {'font': {'family': 'Times New Roman'},\n                         'text': '<b>Correlation Coefficients for Boise Bench and Associated Neighborhoods<b>',\n                         'x': 0.5,\n                         'xref': 'paper'},\n               'yaxis': {'range': [0, 0.7],\n                         'title': {'font': {'family': 'Times New Roman', 'size': 16},\n                                   'text': '<b>Correlation Coefficient<b>'}}}\n})]\n\n    The 'data' property is a tuple of trace instances\n    that may be specified as:\n      - A list or tuple of trace instances\n        (e.g. [Scatter(...), Bar(...)])\n      - A single trace instance\n        (e.g. Scatter(...), Bar(...), etc.)\n      - A list or tuple of dicts of string/value properties where:\n        - The 'type' property specifies the trace type\n            One of: ['area', 'bar', 'barpolar', 'box',\n                     'candlestick', 'carpet', 'choropleth',\n                     'choroplethmapbox', 'cone', 'contour',\n                     'contourcarpet', 'densitymapbox', 'funnel',\n                     'funnelarea', 'heatmap', 'heatmapgl',\n                     'histogram', 'histogram2d',\n                     'histogram2dcontour', 'indicator',\n                     'isosurface', 'mesh3d', 'ohlc', 'parcats',\n                     'parcoords', 'pie', 'pointcloud', 'sankey',\n                     'scatter', 'scatter3d', 'scattercarpet',\n                     'scattergeo', 'scattergl', 'scattermapbox',\n                     'scatterpolar', 'scatterpolargl',\n                     'scatterternary', 'splom', 'streamtube',\n                     'sunburst', 'surface', 'table', 'violin',\n                     'volume', 'waterfall']\n\n        - All remaining properties are passed to the constructor of\n          the specified trace type\n\n        (e.g. [{'type': 'scatter', ...}, {'type': 'bar, ...}])"
     ]
    }
   ],
   "source": [
    "# nGrid = make_subplots(rows = 2, cols = 1)\n",
    "\n",
    "# nGrid.append_trace(WB_fig, row = 1, col = 1)\n",
    "# nGrid.append_trace(BB_fig, row = 2, col = 1)\n",
    "\n",
    "# nGrid.update_layout(height=600, width=600, title_text=\"Stacked subplots\")\n",
    "\n",
    "# nGrid.show()\n",
    "\n",
    "NGrid = go.Figure()\n",
    "\n",
    "nGrid.add_traces([WB_fig, BB_fig])\n",
    "\n",
    "nGrid.layout.update(BB_fig.layout)\n",
    "nGrid.layout.update(WB_fig.layout)\n",
    "\n",
    "fig.show()"
   ]
  },
  {
   "cell_type": "code",
   "execution_count": 53,
   "metadata": {},
   "outputs": [
    {
     "data": {
      "application/vnd.plotly.v1+json": {
       "config": {
        "plotlyServerURL": "https://plot.ly"
       },
       "data": [
        {
         "marker": {
          "color": "rgba(47, 79, 79, .8)",
          "size": 12,
          "symbol": "circle-cross-open"
         },
         "mode": "markers",
         "name": "West Boise Area",
         "type": "scatter",
         "x": [
          "Arts, Design, Entertainment, Sports, And Media Occupations",
          "Building And Grounds Cleaning And Maintenance Occupations",
          "Food Preparation And Serving Related Occupations",
          "Installation, Maintenance, And Repair Occupations",
          "Management Occupations",
          "Production Occupations",
          "Sales And Related Occupations",
          "Transportation And Material Moving Occupations",
          "(10000.0, 40000.0]",
          "(70000.0, 100000.0]",
          "Total_House_Change",
          "Total_Pop_Change",
          "Total_Emp_Change"
         ],
         "y": [
          0.29519200186127226,
          0.30411753621650506,
          null,
          null,
          0.27954755117672947,
          0.2583987627632459,
          0.30643098999833923,
          0.27529209359889817,
          null,
          0.23000235919516213,
          0.28374230141513573,
          0.27966548526962093,
          0.316576752139436
         ]
        },
        {
         "marker": {
          "color": "rgb(0,0,0)"
         },
         "mode": "markers",
         "name": "North Central Bench",
         "type": "scatter",
         "x": [
          "Arts, Design, Entertainment, Sports, And Media Occupations",
          "Building And Grounds Cleaning And Maintenance Occupations",
          "Food Preparation And Serving Related Occupations",
          "Installation, Maintenance, And Repair Occupations",
          "Management Occupations",
          "Production Occupations",
          "Sales And Related Occupations",
          "Transportation And Material Moving Occupations",
          "(10000.0, 40000.0]",
          "(70000.0, 100000.0]",
          "Total_House_Change",
          "Total_Pop_Change",
          "Total_Emp_Change"
         ],
         "y": [
          0.3408121044231221,
          0.3548843351248777,
          null,
          null,
          0.32682710046024566,
          0.27693482791430296,
          0.33846103026694313,
          0.30448338203427067,
          null,
          0.2648112033369074,
          0.331082769540031,
          0.32280932451287464,
          0.35228166387112725
         ]
        },
        {
         "marker": {
          "color": "rgb(119,136,153)"
         },
         "mode": "markers",
         "name": "West Boise",
         "type": "scatter",
         "x": [
          "Arts, Design, Entertainment, Sports, And Media Occupations",
          "Building And Grounds Cleaning And Maintenance Occupations",
          "Food Preparation And Serving Related Occupations",
          "Installation, Maintenance, And Repair Occupations",
          "Management Occupations",
          "Production Occupations",
          "Sales And Related Occupations",
          "Transportation And Material Moving Occupations",
          "(10000.0, 40000.0]",
          "(70000.0, 100000.0]",
          "Total_House_Change",
          "Total_Pop_Change",
          "Total_Emp_Change"
         ],
         "y": [
          0.24468380177026633,
          0.254660107404812,
          0.20168504612852323,
          null,
          0.256964806303417,
          0.2545880288233967,
          0.2957744537833685,
          0.270868901743769,
          null,
          null,
          0.26258627554212394,
          0.26267802611001534,
          0.2994889214537766
         ]
        },
        {
         "marker": {
          "color": "rgb(169,169,169)"
         },
         "mode": "markers",
         "name": "West B. Freeway Cor.",
         "type": "scatter",
         "x": [
          "Arts, Design, Entertainment, Sports, And Media Occupations",
          "Building And Grounds Cleaning And Maintenance Occupations",
          "Food Preparation And Serving Related Occupations",
          "Installation, Maintenance, And Repair Occupations",
          "Management Occupations",
          "Production Occupations",
          "Sales And Related Occupations",
          "Transportation And Material Moving Occupations",
          "(10000.0, 40000.0]",
          "(70000.0, 100000.0]",
          "Total_House_Change",
          "Total_Pop_Change",
          "Total_Emp_Change"
         ],
         "y": [
          0.20516665361348102,
          0.19119047143088264,
          0.1720890647006011,
          null,
          null,
          0.20798506019290355,
          0.2161010160009209,
          0.1848362076853966,
          0.1490865838312788,
          0.15158379383483478,
          null,
          0.15087399337712443,
          0.22004006955914113
         ]
        }
       ],
       "layout": {
        "shapes": [
         {
          "line": {
           "color": "Grey",
           "dash": "dashdot",
           "width": 1
          },
          "type": "line",
          "x0": -1,
          "x1": 13,
          "y0": 0.3,
          "y1": 0.3
         }
        ],
        "template": {
         "data": {
          "bar": [
           {
            "error_x": {
             "color": "#2a3f5f"
            },
            "error_y": {
             "color": "#2a3f5f"
            },
            "marker": {
             "line": {
              "color": "#E5ECF6",
              "width": 0.5
             }
            },
            "type": "bar"
           }
          ],
          "barpolar": [
           {
            "marker": {
             "line": {
              "color": "#E5ECF6",
              "width": 0.5
             }
            },
            "type": "barpolar"
           }
          ],
          "carpet": [
           {
            "aaxis": {
             "endlinecolor": "#2a3f5f",
             "gridcolor": "white",
             "linecolor": "white",
             "minorgridcolor": "white",
             "startlinecolor": "#2a3f5f"
            },
            "baxis": {
             "endlinecolor": "#2a3f5f",
             "gridcolor": "white",
             "linecolor": "white",
             "minorgridcolor": "white",
             "startlinecolor": "#2a3f5f"
            },
            "type": "carpet"
           }
          ],
          "choropleth": [
           {
            "colorbar": {
             "outlinewidth": 0,
             "ticks": ""
            },
            "type": "choropleth"
           }
          ],
          "contour": [
           {
            "colorbar": {
             "outlinewidth": 0,
             "ticks": ""
            },
            "colorscale": [
             [
              0,
              "#0d0887"
             ],
             [
              0.1111111111111111,
              "#46039f"
             ],
             [
              0.2222222222222222,
              "#7201a8"
             ],
             [
              0.3333333333333333,
              "#9c179e"
             ],
             [
              0.4444444444444444,
              "#bd3786"
             ],
             [
              0.5555555555555556,
              "#d8576b"
             ],
             [
              0.6666666666666666,
              "#ed7953"
             ],
             [
              0.7777777777777778,
              "#fb9f3a"
             ],
             [
              0.8888888888888888,
              "#fdca26"
             ],
             [
              1,
              "#f0f921"
             ]
            ],
            "type": "contour"
           }
          ],
          "contourcarpet": [
           {
            "colorbar": {
             "outlinewidth": 0,
             "ticks": ""
            },
            "type": "contourcarpet"
           }
          ],
          "heatmap": [
           {
            "colorbar": {
             "outlinewidth": 0,
             "ticks": ""
            },
            "colorscale": [
             [
              0,
              "#0d0887"
             ],
             [
              0.1111111111111111,
              "#46039f"
             ],
             [
              0.2222222222222222,
              "#7201a8"
             ],
             [
              0.3333333333333333,
              "#9c179e"
             ],
             [
              0.4444444444444444,
              "#bd3786"
             ],
             [
              0.5555555555555556,
              "#d8576b"
             ],
             [
              0.6666666666666666,
              "#ed7953"
             ],
             [
              0.7777777777777778,
              "#fb9f3a"
             ],
             [
              0.8888888888888888,
              "#fdca26"
             ],
             [
              1,
              "#f0f921"
             ]
            ],
            "type": "heatmap"
           }
          ],
          "heatmapgl": [
           {
            "colorbar": {
             "outlinewidth": 0,
             "ticks": ""
            },
            "colorscale": [
             [
              0,
              "#0d0887"
             ],
             [
              0.1111111111111111,
              "#46039f"
             ],
             [
              0.2222222222222222,
              "#7201a8"
             ],
             [
              0.3333333333333333,
              "#9c179e"
             ],
             [
              0.4444444444444444,
              "#bd3786"
             ],
             [
              0.5555555555555556,
              "#d8576b"
             ],
             [
              0.6666666666666666,
              "#ed7953"
             ],
             [
              0.7777777777777778,
              "#fb9f3a"
             ],
             [
              0.8888888888888888,
              "#fdca26"
             ],
             [
              1,
              "#f0f921"
             ]
            ],
            "type": "heatmapgl"
           }
          ],
          "histogram": [
           {
            "marker": {
             "colorbar": {
              "outlinewidth": 0,
              "ticks": ""
             }
            },
            "type": "histogram"
           }
          ],
          "histogram2d": [
           {
            "colorbar": {
             "outlinewidth": 0,
             "ticks": ""
            },
            "colorscale": [
             [
              0,
              "#0d0887"
             ],
             [
              0.1111111111111111,
              "#46039f"
             ],
             [
              0.2222222222222222,
              "#7201a8"
             ],
             [
              0.3333333333333333,
              "#9c179e"
             ],
             [
              0.4444444444444444,
              "#bd3786"
             ],
             [
              0.5555555555555556,
              "#d8576b"
             ],
             [
              0.6666666666666666,
              "#ed7953"
             ],
             [
              0.7777777777777778,
              "#fb9f3a"
             ],
             [
              0.8888888888888888,
              "#fdca26"
             ],
             [
              1,
              "#f0f921"
             ]
            ],
            "type": "histogram2d"
           }
          ],
          "histogram2dcontour": [
           {
            "colorbar": {
             "outlinewidth": 0,
             "ticks": ""
            },
            "colorscale": [
             [
              0,
              "#0d0887"
             ],
             [
              0.1111111111111111,
              "#46039f"
             ],
             [
              0.2222222222222222,
              "#7201a8"
             ],
             [
              0.3333333333333333,
              "#9c179e"
             ],
             [
              0.4444444444444444,
              "#bd3786"
             ],
             [
              0.5555555555555556,
              "#d8576b"
             ],
             [
              0.6666666666666666,
              "#ed7953"
             ],
             [
              0.7777777777777778,
              "#fb9f3a"
             ],
             [
              0.8888888888888888,
              "#fdca26"
             ],
             [
              1,
              "#f0f921"
             ]
            ],
            "type": "histogram2dcontour"
           }
          ],
          "mesh3d": [
           {
            "colorbar": {
             "outlinewidth": 0,
             "ticks": ""
            },
            "type": "mesh3d"
           }
          ],
          "parcoords": [
           {
            "line": {
             "colorbar": {
              "outlinewidth": 0,
              "ticks": ""
             }
            },
            "type": "parcoords"
           }
          ],
          "scatter": [
           {
            "marker": {
             "colorbar": {
              "outlinewidth": 0,
              "ticks": ""
             }
            },
            "type": "scatter"
           }
          ],
          "scatter3d": [
           {
            "line": {
             "colorbar": {
              "outlinewidth": 0,
              "ticks": ""
             }
            },
            "marker": {
             "colorbar": {
              "outlinewidth": 0,
              "ticks": ""
             }
            },
            "type": "scatter3d"
           }
          ],
          "scattercarpet": [
           {
            "marker": {
             "colorbar": {
              "outlinewidth": 0,
              "ticks": ""
             }
            },
            "type": "scattercarpet"
           }
          ],
          "scattergeo": [
           {
            "marker": {
             "colorbar": {
              "outlinewidth": 0,
              "ticks": ""
             }
            },
            "type": "scattergeo"
           }
          ],
          "scattergl": [
           {
            "marker": {
             "colorbar": {
              "outlinewidth": 0,
              "ticks": ""
             }
            },
            "type": "scattergl"
           }
          ],
          "scattermapbox": [
           {
            "marker": {
             "colorbar": {
              "outlinewidth": 0,
              "ticks": ""
             }
            },
            "type": "scattermapbox"
           }
          ],
          "scatterpolar": [
           {
            "marker": {
             "colorbar": {
              "outlinewidth": 0,
              "ticks": ""
             }
            },
            "type": "scatterpolar"
           }
          ],
          "scatterpolargl": [
           {
            "marker": {
             "colorbar": {
              "outlinewidth": 0,
              "ticks": ""
             }
            },
            "type": "scatterpolargl"
           }
          ],
          "scatterternary": [
           {
            "marker": {
             "colorbar": {
              "outlinewidth": 0,
              "ticks": ""
             }
            },
            "type": "scatterternary"
           }
          ],
          "surface": [
           {
            "colorbar": {
             "outlinewidth": 0,
             "ticks": ""
            },
            "colorscale": [
             [
              0,
              "#0d0887"
             ],
             [
              0.1111111111111111,
              "#46039f"
             ],
             [
              0.2222222222222222,
              "#7201a8"
             ],
             [
              0.3333333333333333,
              "#9c179e"
             ],
             [
              0.4444444444444444,
              "#bd3786"
             ],
             [
              0.5555555555555556,
              "#d8576b"
             ],
             [
              0.6666666666666666,
              "#ed7953"
             ],
             [
              0.7777777777777778,
              "#fb9f3a"
             ],
             [
              0.8888888888888888,
              "#fdca26"
             ],
             [
              1,
              "#f0f921"
             ]
            ],
            "type": "surface"
           }
          ],
          "table": [
           {
            "cells": {
             "fill": {
              "color": "#EBF0F8"
             },
             "line": {
              "color": "white"
             }
            },
            "header": {
             "fill": {
              "color": "#C8D4E3"
             },
             "line": {
              "color": "white"
             }
            },
            "type": "table"
           }
          ]
         },
         "layout": {
          "annotationdefaults": {
           "arrowcolor": "#2a3f5f",
           "arrowhead": 0,
           "arrowwidth": 1
          },
          "colorscale": {
           "diverging": [
            [
             0,
             "#8e0152"
            ],
            [
             0.1,
             "#c51b7d"
            ],
            [
             0.2,
             "#de77ae"
            ],
            [
             0.3,
             "#f1b6da"
            ],
            [
             0.4,
             "#fde0ef"
            ],
            [
             0.5,
             "#f7f7f7"
            ],
            [
             0.6,
             "#e6f5d0"
            ],
            [
             0.7,
             "#b8e186"
            ],
            [
             0.8,
             "#7fbc41"
            ],
            [
             0.9,
             "#4d9221"
            ],
            [
             1,
             "#276419"
            ]
           ],
           "sequential": [
            [
             0,
             "#0d0887"
            ],
            [
             0.1111111111111111,
             "#46039f"
            ],
            [
             0.2222222222222222,
             "#7201a8"
            ],
            [
             0.3333333333333333,
             "#9c179e"
            ],
            [
             0.4444444444444444,
             "#bd3786"
            ],
            [
             0.5555555555555556,
             "#d8576b"
            ],
            [
             0.6666666666666666,
             "#ed7953"
            ],
            [
             0.7777777777777778,
             "#fb9f3a"
            ],
            [
             0.8888888888888888,
             "#fdca26"
            ],
            [
             1,
             "#f0f921"
            ]
           ],
           "sequentialminus": [
            [
             0,
             "#0d0887"
            ],
            [
             0.1111111111111111,
             "#46039f"
            ],
            [
             0.2222222222222222,
             "#7201a8"
            ],
            [
             0.3333333333333333,
             "#9c179e"
            ],
            [
             0.4444444444444444,
             "#bd3786"
            ],
            [
             0.5555555555555556,
             "#d8576b"
            ],
            [
             0.6666666666666666,
             "#ed7953"
            ],
            [
             0.7777777777777778,
             "#fb9f3a"
            ],
            [
             0.8888888888888888,
             "#fdca26"
            ],
            [
             1,
             "#f0f921"
            ]
           ]
          },
          "colorway": [
           "#636efa",
           "#EF553B",
           "#00cc96",
           "#ab63fa",
           "#FFA15A",
           "#19d3f3",
           "#FF6692",
           "#B6E880",
           "#FF97FF",
           "#FECB52"
          ],
          "font": {
           "color": "#2a3f5f"
          },
          "geo": {
           "bgcolor": "white",
           "lakecolor": "white",
           "landcolor": "#E5ECF6",
           "showlakes": true,
           "showland": true,
           "subunitcolor": "white"
          },
          "hoverlabel": {
           "align": "left"
          },
          "hovermode": "closest",
          "mapbox": {
           "style": "light"
          },
          "paper_bgcolor": "white",
          "plot_bgcolor": "#E5ECF6",
          "polar": {
           "angularaxis": {
            "gridcolor": "white",
            "linecolor": "white",
            "ticks": ""
           },
           "bgcolor": "#E5ECF6",
           "radialaxis": {
            "gridcolor": "white",
            "linecolor": "white",
            "ticks": ""
           }
          },
          "scene": {
           "xaxis": {
            "backgroundcolor": "#E5ECF6",
            "gridcolor": "white",
            "gridwidth": 2,
            "linecolor": "white",
            "showbackground": true,
            "ticks": "",
            "zerolinecolor": "white"
           },
           "yaxis": {
            "backgroundcolor": "#E5ECF6",
            "gridcolor": "white",
            "gridwidth": 2,
            "linecolor": "white",
            "showbackground": true,
            "ticks": "",
            "zerolinecolor": "white"
           },
           "zaxis": {
            "backgroundcolor": "#E5ECF6",
            "gridcolor": "white",
            "gridwidth": 2,
            "linecolor": "white",
            "showbackground": true,
            "ticks": "",
            "zerolinecolor": "white"
           }
          },
          "shapedefaults": {
           "line": {
            "color": "#2a3f5f"
           }
          },
          "ternary": {
           "aaxis": {
            "gridcolor": "white",
            "linecolor": "white",
            "ticks": ""
           },
           "baxis": {
            "gridcolor": "white",
            "linecolor": "white",
            "ticks": ""
           },
           "bgcolor": "#E5ECF6",
           "caxis": {
            "gridcolor": "white",
            "linecolor": "white",
            "ticks": ""
           }
          },
          "title": {
           "x": 0.05
          },
          "xaxis": {
           "automargin": true,
           "gridcolor": "white",
           "linecolor": "white",
           "ticks": "",
           "zerolinecolor": "white",
           "zerolinewidth": 2
          },
          "yaxis": {
           "automargin": true,
           "gridcolor": "white",
           "linecolor": "white",
           "ticks": "",
           "zerolinecolor": "white",
           "zerolinewidth": 2
          }
         }
        },
        "title": {
         "font": {
          "family": "Times New Roman"
         },
         "text": "<b>Correlation Coefficients for West Boise and Associated Neighborhoods<b>",
         "x": 0.5,
         "xref": "paper"
        },
        "yaxis": {
         "range": [
          0,
          0.7
         ],
         "title": {
          "font": {
           "family": "Times New Roman",
           "size": 16
          },
          "text": "<b>Correlation Coefficient<b>"
         }
        }
       }
      },
      "text/html": [
       "<div>\n",
       "        \n",
       "        \n",
       "            <div id=\"2b00da6b-d961-4ead-b3b6-071143bc88e3\" class=\"plotly-graph-div\" style=\"height:525px; width:100%;\"></div>\n",
       "            <script type=\"text/javascript\">\n",
       "                require([\"plotly\"], function(Plotly) {\n",
       "                    window.PLOTLYENV=window.PLOTLYENV || {};\n",
       "                    \n",
       "                if (document.getElementById(\"2b00da6b-d961-4ead-b3b6-071143bc88e3\")) {\n",
       "                    Plotly.newPlot(\n",
       "                        '2b00da6b-d961-4ead-b3b6-071143bc88e3',\n",
       "                        [{\"marker\": {\"color\": \"rgba(47, 79, 79, .8)\", \"size\": 12, \"symbol\": \"circle-cross-open\"}, \"mode\": \"markers\", \"name\": \"West Boise Area\", \"type\": \"scatter\", \"x\": [\"Arts, Design, Entertainment, Sports, And Media Occupations\", \"Building And Grounds Cleaning And Maintenance Occupations\", \"Food Preparation And Serving Related Occupations\", \"Installation, Maintenance, And Repair Occupations\", \"Management Occupations\", \"Production Occupations\", \"Sales And Related Occupations\", \"Transportation And Material Moving Occupations\", \"(10000.0, 40000.0]\", \"(70000.0, 100000.0]\", \"Total_House_Change\", \"Total_Pop_Change\", \"Total_Emp_Change\"], \"y\": [0.29519200186127226, 0.30411753621650506, null, null, 0.27954755117672947, 0.2583987627632459, 0.30643098999833923, 0.27529209359889817, null, 0.23000235919516213, 0.28374230141513573, 0.27966548526962093, 0.316576752139436]}, {\"marker\": {\"color\": \"rgb(0,0,0)\"}, \"mode\": \"markers\", \"name\": \"North Central Bench\", \"type\": \"scatter\", \"x\": [\"Arts, Design, Entertainment, Sports, And Media Occupations\", \"Building And Grounds Cleaning And Maintenance Occupations\", \"Food Preparation And Serving Related Occupations\", \"Installation, Maintenance, And Repair Occupations\", \"Management Occupations\", \"Production Occupations\", \"Sales And Related Occupations\", \"Transportation And Material Moving Occupations\", \"(10000.0, 40000.0]\", \"(70000.0, 100000.0]\", \"Total_House_Change\", \"Total_Pop_Change\", \"Total_Emp_Change\"], \"y\": [0.3408121044231221, 0.3548843351248777, null, null, 0.32682710046024566, 0.27693482791430296, 0.33846103026694313, 0.30448338203427067, null, 0.2648112033369074, 0.331082769540031, 0.32280932451287464, 0.35228166387112725]}, {\"marker\": {\"color\": \"rgb(119,136,153)\"}, \"mode\": \"markers\", \"name\": \"West Boise\", \"type\": \"scatter\", \"x\": [\"Arts, Design, Entertainment, Sports, And Media Occupations\", \"Building And Grounds Cleaning And Maintenance Occupations\", \"Food Preparation And Serving Related Occupations\", \"Installation, Maintenance, And Repair Occupations\", \"Management Occupations\", \"Production Occupations\", \"Sales And Related Occupations\", \"Transportation And Material Moving Occupations\", \"(10000.0, 40000.0]\", \"(70000.0, 100000.0]\", \"Total_House_Change\", \"Total_Pop_Change\", \"Total_Emp_Change\"], \"y\": [0.24468380177026633, 0.254660107404812, 0.20168504612852323, null, 0.256964806303417, 0.2545880288233967, 0.2957744537833685, 0.270868901743769, null, null, 0.26258627554212394, 0.26267802611001534, 0.2994889214537766]}, {\"marker\": {\"color\": \"rgb(169,169,169)\"}, \"mode\": \"markers\", \"name\": \"West B. Freeway Cor.\", \"type\": \"scatter\", \"x\": [\"Arts, Design, Entertainment, Sports, And Media Occupations\", \"Building And Grounds Cleaning And Maintenance Occupations\", \"Food Preparation And Serving Related Occupations\", \"Installation, Maintenance, And Repair Occupations\", \"Management Occupations\", \"Production Occupations\", \"Sales And Related Occupations\", \"Transportation And Material Moving Occupations\", \"(10000.0, 40000.0]\", \"(70000.0, 100000.0]\", \"Total_House_Change\", \"Total_Pop_Change\", \"Total_Emp_Change\"], \"y\": [0.20516665361348102, 0.19119047143088264, 0.1720890647006011, null, null, 0.20798506019290355, 0.2161010160009209, 0.1848362076853966, 0.1490865838312788, 0.15158379383483478, null, 0.15087399337712443, 0.22004006955914113]}],\n",
       "                        {\"shapes\": [{\"line\": {\"color\": \"Grey\", \"dash\": \"dashdot\", \"width\": 1}, \"type\": \"line\", \"x0\": -1, \"x1\": 13, \"y0\": 0.3, \"y1\": 0.3}], \"template\": {\"data\": {\"bar\": [{\"error_x\": {\"color\": \"#2a3f5f\"}, \"error_y\": {\"color\": \"#2a3f5f\"}, \"marker\": {\"line\": {\"color\": \"#E5ECF6\", \"width\": 0.5}}, \"type\": \"bar\"}], \"barpolar\": [{\"marker\": {\"line\": {\"color\": \"#E5ECF6\", \"width\": 0.5}}, \"type\": \"barpolar\"}], \"carpet\": [{\"aaxis\": {\"endlinecolor\": \"#2a3f5f\", \"gridcolor\": \"white\", \"linecolor\": \"white\", \"minorgridcolor\": \"white\", \"startlinecolor\": \"#2a3f5f\"}, \"baxis\": {\"endlinecolor\": \"#2a3f5f\", \"gridcolor\": \"white\", \"linecolor\": \"white\", \"minorgridcolor\": \"white\", \"startlinecolor\": \"#2a3f5f\"}, \"type\": \"carpet\"}], \"choropleth\": [{\"colorbar\": {\"outlinewidth\": 0, \"ticks\": \"\"}, \"type\": \"choropleth\"}], \"contour\": [{\"colorbar\": {\"outlinewidth\": 0, \"ticks\": \"\"}, \"colorscale\": [[0.0, \"#0d0887\"], [0.1111111111111111, \"#46039f\"], [0.2222222222222222, \"#7201a8\"], [0.3333333333333333, \"#9c179e\"], [0.4444444444444444, \"#bd3786\"], [0.5555555555555556, \"#d8576b\"], [0.6666666666666666, \"#ed7953\"], [0.7777777777777778, \"#fb9f3a\"], [0.8888888888888888, \"#fdca26\"], [1.0, \"#f0f921\"]], \"type\": \"contour\"}], \"contourcarpet\": [{\"colorbar\": {\"outlinewidth\": 0, \"ticks\": \"\"}, \"type\": \"contourcarpet\"}], \"heatmap\": [{\"colorbar\": {\"outlinewidth\": 0, \"ticks\": \"\"}, \"colorscale\": [[0.0, \"#0d0887\"], [0.1111111111111111, \"#46039f\"], [0.2222222222222222, \"#7201a8\"], [0.3333333333333333, \"#9c179e\"], [0.4444444444444444, \"#bd3786\"], [0.5555555555555556, \"#d8576b\"], [0.6666666666666666, \"#ed7953\"], [0.7777777777777778, \"#fb9f3a\"], [0.8888888888888888, \"#fdca26\"], [1.0, \"#f0f921\"]], \"type\": \"heatmap\"}], \"heatmapgl\": [{\"colorbar\": {\"outlinewidth\": 0, \"ticks\": \"\"}, \"colorscale\": [[0.0, \"#0d0887\"], [0.1111111111111111, \"#46039f\"], [0.2222222222222222, \"#7201a8\"], [0.3333333333333333, \"#9c179e\"], [0.4444444444444444, \"#bd3786\"], [0.5555555555555556, \"#d8576b\"], [0.6666666666666666, \"#ed7953\"], [0.7777777777777778, \"#fb9f3a\"], [0.8888888888888888, \"#fdca26\"], [1.0, \"#f0f921\"]], \"type\": \"heatmapgl\"}], \"histogram\": [{\"marker\": {\"colorbar\": {\"outlinewidth\": 0, \"ticks\": \"\"}}, \"type\": \"histogram\"}], \"histogram2d\": [{\"colorbar\": {\"outlinewidth\": 0, \"ticks\": \"\"}, \"colorscale\": [[0.0, \"#0d0887\"], [0.1111111111111111, \"#46039f\"], [0.2222222222222222, \"#7201a8\"], [0.3333333333333333, \"#9c179e\"], [0.4444444444444444, \"#bd3786\"], [0.5555555555555556, \"#d8576b\"], [0.6666666666666666, \"#ed7953\"], [0.7777777777777778, \"#fb9f3a\"], [0.8888888888888888, \"#fdca26\"], [1.0, \"#f0f921\"]], \"type\": \"histogram2d\"}], \"histogram2dcontour\": [{\"colorbar\": {\"outlinewidth\": 0, \"ticks\": \"\"}, \"colorscale\": [[0.0, \"#0d0887\"], [0.1111111111111111, \"#46039f\"], [0.2222222222222222, \"#7201a8\"], [0.3333333333333333, \"#9c179e\"], [0.4444444444444444, \"#bd3786\"], [0.5555555555555556, \"#d8576b\"], [0.6666666666666666, \"#ed7953\"], [0.7777777777777778, \"#fb9f3a\"], [0.8888888888888888, \"#fdca26\"], [1.0, \"#f0f921\"]], \"type\": \"histogram2dcontour\"}], \"mesh3d\": [{\"colorbar\": {\"outlinewidth\": 0, \"ticks\": \"\"}, \"type\": \"mesh3d\"}], \"parcoords\": [{\"line\": {\"colorbar\": {\"outlinewidth\": 0, \"ticks\": \"\"}}, \"type\": \"parcoords\"}], \"scatter\": [{\"marker\": {\"colorbar\": {\"outlinewidth\": 0, \"ticks\": \"\"}}, \"type\": \"scatter\"}], \"scatter3d\": [{\"line\": {\"colorbar\": {\"outlinewidth\": 0, \"ticks\": \"\"}}, \"marker\": {\"colorbar\": {\"outlinewidth\": 0, \"ticks\": \"\"}}, \"type\": \"scatter3d\"}], \"scattercarpet\": [{\"marker\": {\"colorbar\": {\"outlinewidth\": 0, \"ticks\": \"\"}}, \"type\": \"scattercarpet\"}], \"scattergeo\": [{\"marker\": {\"colorbar\": {\"outlinewidth\": 0, \"ticks\": \"\"}}, \"type\": \"scattergeo\"}], \"scattergl\": [{\"marker\": {\"colorbar\": {\"outlinewidth\": 0, \"ticks\": \"\"}}, \"type\": \"scattergl\"}], \"scattermapbox\": [{\"marker\": {\"colorbar\": {\"outlinewidth\": 0, \"ticks\": \"\"}}, \"type\": \"scattermapbox\"}], \"scatterpolar\": [{\"marker\": {\"colorbar\": {\"outlinewidth\": 0, \"ticks\": \"\"}}, \"type\": \"scatterpolar\"}], \"scatterpolargl\": [{\"marker\": {\"colorbar\": {\"outlinewidth\": 0, \"ticks\": \"\"}}, \"type\": \"scatterpolargl\"}], \"scatterternary\": [{\"marker\": {\"colorbar\": {\"outlinewidth\": 0, \"ticks\": \"\"}}, \"type\": \"scatterternary\"}], \"surface\": [{\"colorbar\": {\"outlinewidth\": 0, \"ticks\": \"\"}, \"colorscale\": [[0.0, \"#0d0887\"], [0.1111111111111111, \"#46039f\"], [0.2222222222222222, \"#7201a8\"], [0.3333333333333333, \"#9c179e\"], [0.4444444444444444, \"#bd3786\"], [0.5555555555555556, \"#d8576b\"], [0.6666666666666666, \"#ed7953\"], [0.7777777777777778, \"#fb9f3a\"], [0.8888888888888888, \"#fdca26\"], [1.0, \"#f0f921\"]], \"type\": \"surface\"}], \"table\": [{\"cells\": {\"fill\": {\"color\": \"#EBF0F8\"}, \"line\": {\"color\": \"white\"}}, \"header\": {\"fill\": {\"color\": \"#C8D4E3\"}, \"line\": {\"color\": \"white\"}}, \"type\": \"table\"}]}, \"layout\": {\"annotationdefaults\": {\"arrowcolor\": \"#2a3f5f\", \"arrowhead\": 0, \"arrowwidth\": 1}, \"colorscale\": {\"diverging\": [[0, \"#8e0152\"], [0.1, \"#c51b7d\"], [0.2, \"#de77ae\"], [0.3, \"#f1b6da\"], [0.4, \"#fde0ef\"], [0.5, \"#f7f7f7\"], [0.6, \"#e6f5d0\"], [0.7, \"#b8e186\"], [0.8, \"#7fbc41\"], [0.9, \"#4d9221\"], [1, \"#276419\"]], \"sequential\": [[0.0, \"#0d0887\"], [0.1111111111111111, \"#46039f\"], [0.2222222222222222, \"#7201a8\"], [0.3333333333333333, \"#9c179e\"], [0.4444444444444444, \"#bd3786\"], [0.5555555555555556, \"#d8576b\"], [0.6666666666666666, \"#ed7953\"], [0.7777777777777778, \"#fb9f3a\"], [0.8888888888888888, \"#fdca26\"], [1.0, \"#f0f921\"]], \"sequentialminus\": [[0.0, \"#0d0887\"], [0.1111111111111111, \"#46039f\"], [0.2222222222222222, \"#7201a8\"], [0.3333333333333333, \"#9c179e\"], [0.4444444444444444, \"#bd3786\"], [0.5555555555555556, \"#d8576b\"], [0.6666666666666666, \"#ed7953\"], [0.7777777777777778, \"#fb9f3a\"], [0.8888888888888888, \"#fdca26\"], [1.0, \"#f0f921\"]]}, \"colorway\": [\"#636efa\", \"#EF553B\", \"#00cc96\", \"#ab63fa\", \"#FFA15A\", \"#19d3f3\", \"#FF6692\", \"#B6E880\", \"#FF97FF\", \"#FECB52\"], \"font\": {\"color\": \"#2a3f5f\"}, \"geo\": {\"bgcolor\": \"white\", \"lakecolor\": \"white\", \"landcolor\": \"#E5ECF6\", \"showlakes\": true, \"showland\": true, \"subunitcolor\": \"white\"}, \"hoverlabel\": {\"align\": \"left\"}, \"hovermode\": \"closest\", \"mapbox\": {\"style\": \"light\"}, \"paper_bgcolor\": \"white\", \"plot_bgcolor\": \"#E5ECF6\", \"polar\": {\"angularaxis\": {\"gridcolor\": \"white\", \"linecolor\": \"white\", \"ticks\": \"\"}, \"bgcolor\": \"#E5ECF6\", \"radialaxis\": {\"gridcolor\": \"white\", \"linecolor\": \"white\", \"ticks\": \"\"}}, \"scene\": {\"xaxis\": {\"backgroundcolor\": \"#E5ECF6\", \"gridcolor\": \"white\", \"gridwidth\": 2, \"linecolor\": \"white\", \"showbackground\": true, \"ticks\": \"\", \"zerolinecolor\": \"white\"}, \"yaxis\": {\"backgroundcolor\": \"#E5ECF6\", \"gridcolor\": \"white\", \"gridwidth\": 2, \"linecolor\": \"white\", \"showbackground\": true, \"ticks\": \"\", \"zerolinecolor\": \"white\"}, \"zaxis\": {\"backgroundcolor\": \"#E5ECF6\", \"gridcolor\": \"white\", \"gridwidth\": 2, \"linecolor\": \"white\", \"showbackground\": true, \"ticks\": \"\", \"zerolinecolor\": \"white\"}}, \"shapedefaults\": {\"line\": {\"color\": \"#2a3f5f\"}}, \"ternary\": {\"aaxis\": {\"gridcolor\": \"white\", \"linecolor\": \"white\", \"ticks\": \"\"}, \"baxis\": {\"gridcolor\": \"white\", \"linecolor\": \"white\", \"ticks\": \"\"}, \"bgcolor\": \"#E5ECF6\", \"caxis\": {\"gridcolor\": \"white\", \"linecolor\": \"white\", \"ticks\": \"\"}}, \"title\": {\"x\": 0.05}, \"xaxis\": {\"automargin\": true, \"gridcolor\": \"white\", \"linecolor\": \"white\", \"ticks\": \"\", \"zerolinecolor\": \"white\", \"zerolinewidth\": 2}, \"yaxis\": {\"automargin\": true, \"gridcolor\": \"white\", \"linecolor\": \"white\", \"ticks\": \"\", \"zerolinecolor\": \"white\", \"zerolinewidth\": 2}}}, \"title\": {\"font\": {\"family\": \"Times New Roman\"}, \"text\": \"<b>Correlation Coefficients for West Boise and Associated Neighborhoods<b>\", \"x\": 0.5, \"xref\": \"paper\"}, \"yaxis\": {\"range\": [0, 0.7], \"title\": {\"font\": {\"family\": \"Times New Roman\", \"size\": 16}, \"text\": \"<b>Correlation Coefficient<b>\"}}},\n",
       "                        {\"responsive\": true}\n",
       "                    ).then(function(){\n",
       "                            \n",
       "var gd = document.getElementById('2b00da6b-d961-4ead-b3b6-071143bc88e3');\n",
       "var x = new MutationObserver(function (mutations, observer) {{\n",
       "        var display = window.getComputedStyle(gd).display;\n",
       "        if (!display || display === 'none') {{\n",
       "            console.log([gd, 'removed!']);\n",
       "            Plotly.purge(gd);\n",
       "            observer.disconnect();\n",
       "        }}\n",
       "}});\n",
       "\n",
       "// Listen for the removal of the full notebook cells\n",
       "var notebookContainer = gd.closest('#notebook-container');\n",
       "if (notebookContainer) {{\n",
       "    x.observe(notebookContainer, {childList: true});\n",
       "}}\n",
       "\n",
       "// Listen for the clearing of the current output cell\n",
       "var outputEl = gd.closest('.output');\n",
       "if (outputEl) {{\n",
       "    x.observe(outputEl, {childList: true});\n",
       "}}\n",
       "\n",
       "                        })\n",
       "                };\n",
       "                });\n",
       "            </script>\n",
       "        </div>"
      ]
     },
     "metadata": {},
     "output_type": "display_data"
    }
   ],
   "source": [
    "WB_fig"
   ]
  },
  {
   "cell_type": "code",
   "execution_count": null,
   "metadata": {},
   "outputs": [],
   "source": []
  },
  {
   "cell_type": "code",
   "execution_count": null,
   "metadata": {},
   "outputs": [],
   "source": []
  },
  {
   "cell_type": "code",
   "execution_count": null,
   "metadata": {},
   "outputs": [],
   "source": []
  }
 ],
 "metadata": {
  "kernelspec": {
   "display_name": "Python 3",
   "language": "python",
   "name": "python3"
  },
  "language_info": {
   "codemirror_mode": {
    "name": "ipython",
    "version": 3
   },
   "file_extension": ".py",
   "mimetype": "text/x-python",
   "name": "python",
   "nbconvert_exporter": "python",
   "pygments_lexer": "ipython3",
   "version": "3.7.3"
  }
 },
 "nbformat": 4,
 "nbformat_minor": 2
}
