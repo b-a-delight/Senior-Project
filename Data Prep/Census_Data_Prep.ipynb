{
 "cells": [
  {
   "cell_type": "markdown",
   "metadata": {},
   "source": [
    "# Now updated for the test"
   ]
  },
  {
   "cell_type": "markdown",
   "metadata": {
    "colab_type": "text",
    "id": "rO9FEfFt7RwF"
   },
   "source": [
    "## Libraries"
   ]
  },
  {
   "cell_type": "code",
   "execution_count": 1,
   "metadata": {
    "colab": {},
    "colab_type": "code",
    "id": "bzXruhb47RiN"
   },
   "outputs": [],
   "source": [
    "import numpy as np\n",
    "import pandas as pd\n",
    "import xlrd\n",
    "import os"
   ]
  },
  {
   "cell_type": "code",
   "execution_count": 2,
   "metadata": {},
   "outputs": [],
   "source": [
    "import sys\n",
    "np.set_printoptions(threshold=np.inf)"
   ]
  },
  {
   "cell_type": "markdown",
   "metadata": {
    "colab_type": "text",
    "id": "WaclQKQn7ALF"
   },
   "source": [
    "## Mount Google Drive"
   ]
  },
  {
   "cell_type": "code",
   "execution_count": null,
   "metadata": {
    "colab": {
     "base_uri": "https://localhost:8080/",
     "height": 121
    },
    "colab_type": "code",
    "id": "nEE8P-UV6xcP",
    "outputId": "194005e1-e857-4515-a915-f50bc58f414a"
   },
   "outputs": [],
   "source": [
    "# from google.colab import drive\n",
    "# drive.mount('/content/drive')"
   ]
  },
  {
   "cell_type": "code",
   "execution_count": null,
   "metadata": {
    "colab": {
     "base_uri": "https://localhost:8080/",
     "height": 118
    },
    "colab_type": "code",
    "id": "p0jGezKu8i2q",
    "outputId": "7e9f7882-57f0-41cf-bfa8-b3073047ff3a"
   },
   "outputs": [],
   "source": [
    "#os.listdir(\"/content/drive/My Drive/Colab Notebooks\")"
   ]
  },
  {
   "cell_type": "code",
   "execution_count": null,
   "metadata": {
    "colab": {
     "base_uri": "https://localhost:8080/",
     "height": 470
    },
    "colab_type": "code",
    "id": "pf77Pfp0S_He",
    "outputId": "2f5c2b03-1bb6-44c9-eecd-4da28bc13705"
   },
   "outputs": [],
   "source": [
    "os.listdir(\".\")"
   ]
  },
  {
   "cell_type": "code",
   "execution_count": null,
   "metadata": {
    "colab": {},
    "colab_type": "code",
    "id": "8iY7F2VQ894v"
   },
   "outputs": [],
   "source": [
    "housePath = \"/content/drive/My Drive/Colab Notebooks/house_prices.xlsx\""
   ]
  },
  {
   "cell_type": "markdown",
   "metadata": {
    "colab_type": "text",
    "id": "s8WrEIXI9cZA"
   },
   "source": [
    "# Raw Population to dataframe"
   ]
  },
  {
   "cell_type": "code",
   "execution_count": null,
   "metadata": {
    "colab": {},
    "colab_type": "code",
    "id": "75LO9yqO_LsI"
   },
   "outputs": [],
   "source": [
    "# xl3 = pd.ExcelFile(\"/content/drive/My Drive/Colab Notebooks/idaho_county_population_2000_to_2010.xlsx\")\n",
    "# xl4 = pd.ExcelFile(\"/content/drive/My Drive/Colab Notebooks/idaho_county_population_2010_to_2018.xlsx\")\n",
    "xl3 = pd.ExcelFile(\"./Data/idaho_county_population_2000_to_2010.xlsx\")\n",
    "xl4 = pd.ExcelFile(\"./Data/idaho_county_population_2010_to_2018.xlsx\")"
   ]
  },
  {
   "cell_type": "code",
   "execution_count": null,
   "metadata": {
    "colab": {},
    "colab_type": "code",
    "id": "nJgv8BD1_Ki_"
   },
   "outputs": [],
   "source": [
    "dfpop1 = xl3.parse(\"main\")\n",
    "dfpop1.to_pickle('rawPop1.pkl')\n",
    "dfpop2 = xl4.parse(\"main\")\n",
    "dfpop2.to_pickle('rawPop2.pkl')"
   ]
  },
  {
   "cell_type": "markdown",
   "metadata": {
    "colab_type": "text",
    "id": "yUv3uNSEAkCJ"
   },
   "source": [
    "### This code to clean and prep population 00-10 from pickle"
   ]
  },
  {
   "cell_type": "code",
   "execution_count": null,
   "metadata": {
    "colab": {
     "base_uri": "https://localhost:8080/",
     "height": 195
    },
    "colab_type": "code",
    "id": "9d9F7b7XCVEm",
    "outputId": "ca971a40-47c9-463f-a53d-34cb224fc522"
   },
   "outputs": [],
   "source": [
    "rawPop1 = pd.read_pickle('rawPop1.pkl')\n",
    "temp1 = rawPop1.copy()\n",
    "temp1 = temp1.iloc[2:48]\n",
    "temp1 = temp1.replace(['County','\\.','\\s'],'', regex = True)\n",
    "cTemp = temp1['table with row headers in column A and column headers in rows 3 through 4 (leading dots indicate sub-parts)']\n",
    "temp1 = temp1.drop(['table with row headers in column A and column headers in rows 3 through 4 (leading dots indicate sub-parts)',\n",
    "                    'Unnamed: 1','Unnamed: 12','Unnamed: 13'], axis = 1)\n",
    "temp1 = temp1.astype(int)\n",
    "temp1.columns = temp1.iloc[0]\n",
    "temp1 = temp1.iloc[2:]\n",
    "temp1['County'] = cTemp\n",
    "pop1 = temp1.copy()\n",
    "pop1.head(3)\n"
   ]
  },
  {
   "cell_type": "markdown",
   "metadata": {},
   "source": [
    "### This code to clean and prep population 10-18 from pickle"
   ]
  },
  {
   "cell_type": "code",
   "execution_count": null,
   "metadata": {
    "colab": {
     "base_uri": "https://localhost:8080/",
     "height": 195
    },
    "colab_type": "code",
    "id": "qLJb1fwlAbd8",
    "outputId": "8698fab0-3c36-473a-9685-0067d58c95c7"
   },
   "outputs": [],
   "source": [
    "rawPop2 = pd.read_pickle('rawPop2.pkl')\n",
    "temp2 = rawPop2.copy()\n",
    "temp2 = temp2.replace(['Population Estimate \\(as of July 1\\) \\- ','County, Idaho'],'', regex = True)\n",
    "temp2.columns = temp2.iloc[0]\n",
    "#temp2 = temp_df.iloc[2:]\n",
    "cT2 = temp2['Geography']\n",
    "temp2 = temp2.drop(['Id','Id2','Geography','April 1, 2010 - Census',\n",
    "                     'April 1, 2010 - Estimates Base'], axis = 1)\n",
    "temp2 = temp2.astype(int)\n",
    "temp2['County'] = cT2\n",
    "temp2 = temp2.iloc[1:]\n",
    "temp2 = temp2.replace('\\s','', regex = True)\n",
    "\n",
    "pop2 = temp2.copy()\n",
    "pop2.head(3)"
   ]
  },
  {
   "cell_type": "markdown",
   "metadata": {},
   "source": [
    "### Merge the cleaned data frames for the 00-09 pop and 10-18 pop and pickle the result (totalPop)"
   ]
  },
  {
   "cell_type": "code",
   "execution_count": null,
   "metadata": {
    "colab": {
     "base_uri": "https://localhost:8080/",
     "height": 266
    },
    "colab_type": "code",
    "id": "HDRUezd4A3gB",
    "outputId": "90af4e71-7e8a-41d4-a0ed-3d2e28340c84"
   },
   "outputs": [],
   "source": [
    "totalPop = pd.merge(pop2,pop1, on = 'County')\n",
    "\n",
    "# Reorder columns, not all column titles are str some are int, going to \n",
    "# transpose df so will turn them all into factors then\n",
    "\n",
    "\n",
    "totalPop = totalPop[[\"County\",2000,2001,2002,2003,2004,2005,2006,2007,\n",
    "                    2008,2009,\"2010\",\"2011\",\"2012\",\"2013\",\"2014\",\"2015\",\n",
    "                    \"2016\",\"2017\",\"2018\"]]\n",
    "\n",
    "\n",
    "totalPop.to_pickle('totalPop.pkl')\n",
    "totalPop.head(5)"
   ]
  },
  {
   "cell_type": "markdown",
   "metadata": {},
   "source": [
    "### From totalPop.pkl to metroPop, then pickle"
   ]
  },
  {
   "cell_type": "code",
   "execution_count": null,
   "metadata": {},
   "outputs": [],
   "source": [
    "totalPop = pd.read_pickle('totalPop.pkl')\n",
    "totalPop = totalPop.iloc[[0,7,13,22,36],:]\n",
    "\n",
    "temp3 = totalPop.copy()\n",
    "temp3 = temp3.T\n",
    "temp3.columns = temp3.iloc[0]\n",
    "temp3 = temp3.iloc[1:]\n",
    "temp3 = temp3.reset_index()\n",
    "temp3 = temp3.rename(columns={'index':'Year'})\n",
    "\n",
    "# Add the columns together for a total population\n",
    "temp3['TotalPop'] = temp3['Ada']+temp3['Boise']+temp3['Canyon']+temp3['Gem']+temp3['Owyhee']\n",
    "metroPop = temp3.copy()\n",
    "pop_year_totals = metroPop.drop(columns=['Ada','Boise','Canyon','Gem','Owyhee'])\n",
    "\n",
    "metroPop = metroPop.astype('int')\n",
    "\n",
    "metroPop['Year'] = metroPop['Year'].astype(str)\n",
    "metroPop['Year'] = metroPop['Year'].astype('datetime64[Y]')\n",
    "\n",
    "metroPop.to_pickle('metroPop.pkl')\n",
    "metroPop.head(5)"
   ]
  },
  {
   "cell_type": "markdown",
   "metadata": {},
   "source": [
    "# House Count"
   ]
  },
  {
   "cell_type": "code",
   "execution_count": null,
   "metadata": {},
   "outputs": [],
   "source": [
    "## Load House excel files and pickle\n",
    "\n",
    "xl5 = pd.ExcelFile(\"./Data/idaho_housing_unit_count_2000_to_2010.xlsx\")\n",
    "xl6 = pd.ExcelFile(\"./Data/idaho_housing_unit_count_2010_to_2018.xlsx\")\n",
    "\n",
    "dfH1 = xl5.parse(\"main\")\n",
    "dfH1.to_pickle('rawHouse1.pkl') \n",
    "dfH2 = xl6.parse(\"main\")\n",
    "dfH2.to_pickle('rawHouse2.pkl')\n",
    "#dfH1.head(5)"
   ]
  },
  {
   "cell_type": "code",
   "execution_count": null,
   "metadata": {},
   "outputs": [],
   "source": [
    "### From rawHouse1.pkl clean\n",
    "\n",
    "temp5 = pd.read_pickle('rawHouse1.pkl')\n",
    "temp5 = temp5.iloc[2:48]\n",
    "# temp1 = temp1.replace(['County','\\.','\\s'],'', regex = True)\n",
    "cTemp5 = temp5['table with row headers in column A and column headers in rows 3 through 4. (leading dots indicate sub-parts)']\n",
    "temp5 = temp5.drop(['table with row headers in column A and column headers in rows 3 through 4. (leading dots indicate sub-parts)',\n",
    "                    'Unnamed: 1','Unnamed: 12','Unnamed: 13'], axis = 1)\n",
    "temp5 = temp5.astype(int)\n",
    "temp5.columns = temp5.iloc[0]\n",
    "temp5 = temp5.iloc[2:]\n",
    "temp5['County'] = cTemp\n",
    "\n",
    "house1 = temp5.copy()\n",
    "house1.head(3)"
   ]
  },
  {
   "cell_type": "code",
   "execution_count": null,
   "metadata": {},
   "outputs": [],
   "source": [
    "### From rawHouse2.pkl clean\n",
    "\n",
    "temp6 = pd.read_pickle('rawHouse2.pkl')\n",
    "temp6 = temp6.replace(['Housing Unit Estimate \\(as of July 1\\) \\- ','County, Idaho'],'', regex = True)\n",
    "temp6.columns = temp6.iloc[0]\n",
    "\n",
    "cT6 = temp6['Geography']\n",
    "temp6 = temp6.drop(['Id','Id2','Geography','April 1, 2010 - Census',\n",
    "                     'April 1, 2010 - Estimates Base'], axis = 1)\n",
    "temp6 = temp6.astype(int)\n",
    "temp6['County'] = cT6\n",
    "temp6 = temp6.iloc[1:]\n",
    "temp6 = temp6.replace('\\s','', regex = True)\n",
    "\n",
    "house2 = temp6.copy()\n",
    "house2.head(3)"
   ]
  },
  {
   "cell_type": "markdown",
   "metadata": {},
   "source": [
    "### Combine cleaned dataframes to merge into totalHouse and pickle"
   ]
  },
  {
   "cell_type": "code",
   "execution_count": null,
   "metadata": {},
   "outputs": [],
   "source": [
    "totalHouse = pd.merge(house2,house1, on = 'County')\n",
    "\n",
    "# Reorder columns, not all column titles are str some are int, going to \n",
    "# transpose df so will turn them all into factors then\n",
    "totalHouse = totalHouse[[\"County\",2000,2001,2002,2003,2004,2005,2006,2007,\n",
    "                    2008,2009,\"2010\",\"2011\",\"2012\",\"2013\",\"2014\",\"2015\",\n",
    "                    \"2016\",\"2017\",\"2018\"]]\n",
    "\n",
    "totalHouse.to_pickle('totalHouse.pkl')\n",
    "totalHouse.head(3)"
   ]
  },
  {
   "cell_type": "markdown",
   "metadata": {},
   "source": [
    "### From totalHouse.pkl make metroHouse and pickle it"
   ]
  },
  {
   "cell_type": "code",
   "execution_count": null,
   "metadata": {},
   "outputs": [],
   "source": [
    "metroHouseT = pd.read_pickle('totalHouse.pkl')\n",
    "metroHouseT = metroHouseT.iloc[[0,7,13,22,36],:]\n",
    "\n",
    "tempH = metroHouseT.copy()\n",
    "tempH = tempH.T\n",
    "tempH.columns = tempH.iloc[0]\n",
    "tempH = tempH.iloc[1:]\n",
    "tempH = tempH.reset_index()\n",
    "tempH = tempH.rename(columns={'index':'Year'})\n",
    "\n",
    "# Add columns together for a total house count\n",
    "tempH['TotalHouse'] = tempH['Ada']+tempH['Boise']+tempH['Canyon']+tempH['Gem']+tempH['Owyhee']\n",
    "\n",
    "metroHouse = tempH.copy()\n",
    "metroHouse = metroHouse.astype('int')\n",
    "\n",
    "metroHouse['Year'] = metroHouse['Year'].astype(str)\n",
    "metroHouse['Year'] = metroHouse['Year'].astype('datetime64[Y]')\n",
    "\n",
    "metroHouse.to_pickle('metroHouse.pkl')\n",
    "metroHouse.head(3)"
   ]
  },
  {
   "cell_type": "code",
   "execution_count": null,
   "metadata": {},
   "outputs": [],
   "source": [
    "metroHouse = pd.read_pickle('metroHouse.pkl')\n",
    "metroHouse.dtypes"
   ]
  },
  {
   "cell_type": "markdown",
   "metadata": {},
   "source": [
    "## Create yearTotals from metroHouse.pkl, metroPop.pkl, and job"
   ]
  },
  {
   "cell_type": "code",
   "execution_count": null,
   "metadata": {},
   "outputs": [],
   "source": [
    "metroHouse = pd.read_pickle('metroHouse.pkl')\n",
    "metroPop = pd.read_pickle('metroPop.pkl')\n",
    "metroJobs = pd.read_pickle('jobTypes.pkl')\n",
    "\n",
    "\n",
    "yearTotals = metroHouse.copy()\n",
    "yearTotals = yearTotals.drop(['Ada','Boise','Gem','Canyon','Owyhee'],axis =1)\n",
    "yearTotals['TotalPop'] = metroPop['TotalPop']\n",
    "yearTotals['TotalEmp'] = metroJobs['All Occupations']\n",
    "yearTotals.to_pickle('yearTotals.pkl')\n",
    "yearTotals"
   ]
  },
  {
   "cell_type": "markdown",
   "metadata": {},
   "source": [
    "# Year Totals % change in values"
   ]
  },
  {
   "cell_type": "code",
   "execution_count": 6,
   "metadata": {},
   "outputs": [
    {
     "data": {
      "text/html": [
       "<div>\n",
       "<style scoped>\n",
       "    .dataframe tbody tr th:only-of-type {\n",
       "        vertical-align: middle;\n",
       "    }\n",
       "\n",
       "    .dataframe tbody tr th {\n",
       "        vertical-align: top;\n",
       "    }\n",
       "\n",
       "    .dataframe thead th {\n",
       "        text-align: right;\n",
       "    }\n",
       "</style>\n",
       "<table border=\"1\" class=\"dataframe\">\n",
       "  <thead>\n",
       "    <tr style=\"text-align: right;\">\n",
       "      <th>County</th>\n",
       "      <th>Year</th>\n",
       "      <th>Total_House_Change</th>\n",
       "      <th>Total_Pop_Change</th>\n",
       "      <th>Total_Emp_Change</th>\n",
       "    </tr>\n",
       "  </thead>\n",
       "  <tbody>\n",
       "    <tr>\n",
       "      <th>0</th>\n",
       "      <td>2000</td>\n",
       "      <td>NaN</td>\n",
       "      <td>NaN</td>\n",
       "      <td>NaN</td>\n",
       "    </tr>\n",
       "    <tr>\n",
       "      <th>1</th>\n",
       "      <td>2001</td>\n",
       "      <td>0.034815</td>\n",
       "      <td>0.036376</td>\n",
       "      <td>-0.033423</td>\n",
       "    </tr>\n",
       "    <tr>\n",
       "      <th>2</th>\n",
       "      <td>2002</td>\n",
       "      <td>0.035035</td>\n",
       "      <td>0.028629</td>\n",
       "      <td>0.016749</td>\n",
       "    </tr>\n",
       "    <tr>\n",
       "      <th>3</th>\n",
       "      <td>2003</td>\n",
       "      <td>0.034937</td>\n",
       "      <td>0.024994</td>\n",
       "      <td>0.011204</td>\n",
       "    </tr>\n",
       "    <tr>\n",
       "      <th>4</th>\n",
       "      <td>2004</td>\n",
       "      <td>0.037588</td>\n",
       "      <td>0.026311</td>\n",
       "      <td>0.020145</td>\n",
       "    </tr>\n",
       "    <tr>\n",
       "      <th>5</th>\n",
       "      <td>2005</td>\n",
       "      <td>0.041150</td>\n",
       "      <td>0.039935</td>\n",
       "      <td>0.091779</td>\n",
       "    </tr>\n",
       "    <tr>\n",
       "      <th>6</th>\n",
       "      <td>2006</td>\n",
       "      <td>0.050832</td>\n",
       "      <td>0.043151</td>\n",
       "      <td>0.056108</td>\n",
       "    </tr>\n",
       "    <tr>\n",
       "      <th>7</th>\n",
       "      <td>2007</td>\n",
       "      <td>0.034190</td>\n",
       "      <td>0.034608</td>\n",
       "      <td>0.057930</td>\n",
       "    </tr>\n",
       "    <tr>\n",
       "      <th>8</th>\n",
       "      <td>2008</td>\n",
       "      <td>0.018916</td>\n",
       "      <td>0.021832</td>\n",
       "      <td>0.006757</td>\n",
       "    </tr>\n",
       "    <tr>\n",
       "      <th>9</th>\n",
       "      <td>2009</td>\n",
       "      <td>0.010229</td>\n",
       "      <td>0.013466</td>\n",
       "      <td>-0.077146</td>\n",
       "    </tr>\n",
       "    <tr>\n",
       "      <th>10</th>\n",
       "      <td>2010</td>\n",
       "      <td>0.006895</td>\n",
       "      <td>0.010678</td>\n",
       "      <td>-0.031476</td>\n",
       "    </tr>\n",
       "    <tr>\n",
       "      <th>11</th>\n",
       "      <td>2011</td>\n",
       "      <td>0.006535</td>\n",
       "      <td>0.015814</td>\n",
       "      <td>-0.003324</td>\n",
       "    </tr>\n",
       "    <tr>\n",
       "      <th>12</th>\n",
       "      <td>2012</td>\n",
       "      <td>0.007113</td>\n",
       "      <td>0.015732</td>\n",
       "      <td>0.025741</td>\n",
       "    </tr>\n",
       "    <tr>\n",
       "      <th>13</th>\n",
       "      <td>2013</td>\n",
       "      <td>0.013774</td>\n",
       "      <td>0.018662</td>\n",
       "      <td>0.031636</td>\n",
       "    </tr>\n",
       "    <tr>\n",
       "      <th>14</th>\n",
       "      <td>2014</td>\n",
       "      <td>0.016733</td>\n",
       "      <td>0.020582</td>\n",
       "      <td>0.037786</td>\n",
       "    </tr>\n",
       "    <tr>\n",
       "      <th>15</th>\n",
       "      <td>2015</td>\n",
       "      <td>0.019486</td>\n",
       "      <td>0.018252</td>\n",
       "      <td>0.018151</td>\n",
       "    </tr>\n",
       "    <tr>\n",
       "      <th>16</th>\n",
       "      <td>2016</td>\n",
       "      <td>0.020351</td>\n",
       "      <td>0.024791</td>\n",
       "      <td>0.040147</td>\n",
       "    </tr>\n",
       "    <tr>\n",
       "      <th>17</th>\n",
       "      <td>2017</td>\n",
       "      <td>0.024611</td>\n",
       "      <td>0.026713</td>\n",
       "      <td>0.039745</td>\n",
       "    </tr>\n",
       "    <tr>\n",
       "      <th>18</th>\n",
       "      <td>2018</td>\n",
       "      <td>0.028322</td>\n",
       "      <td>0.028653</td>\n",
       "      <td>0.043320</td>\n",
       "    </tr>\n",
       "  </tbody>\n",
       "</table>\n",
       "</div>"
      ],
      "text/plain": [
       "County  Year  Total_House_Change  Total_Pop_Change  Total_Emp_Change\n",
       "0       2000                 NaN               NaN               NaN\n",
       "1       2001            0.034815          0.036376         -0.033423\n",
       "2       2002            0.035035          0.028629          0.016749\n",
       "3       2003            0.034937          0.024994          0.011204\n",
       "4       2004            0.037588          0.026311          0.020145\n",
       "5       2005            0.041150          0.039935          0.091779\n",
       "6       2006            0.050832          0.043151          0.056108\n",
       "7       2007            0.034190          0.034608          0.057930\n",
       "8       2008            0.018916          0.021832          0.006757\n",
       "9       2009            0.010229          0.013466         -0.077146\n",
       "10      2010            0.006895          0.010678         -0.031476\n",
       "11      2011            0.006535          0.015814         -0.003324\n",
       "12      2012            0.007113          0.015732          0.025741\n",
       "13      2013            0.013774          0.018662          0.031636\n",
       "14      2014            0.016733          0.020582          0.037786\n",
       "15      2015            0.019486          0.018252          0.018151\n",
       "16      2016            0.020351          0.024791          0.040147\n",
       "17      2017            0.024611          0.026713          0.039745\n",
       "18      2018            0.028322          0.028653          0.043320"
      ]
     },
     "execution_count": 6,
     "metadata": {},
     "output_type": "execute_result"
    }
   ],
   "source": [
    "df = pd.read_pickle('yearTotals.pkl')\n",
    "\n",
    "df['Total_House_Change'] = df['TotalHouse'].pct_change()\n",
    "df['Total_Pop_Change'] = df['TotalPop'].pct_change()\n",
    "df['Total_Emp_Change'] = df['TotalEmp'].pct_change()\n",
    "\n",
    "df = df[['Year','Total_House_Change','Total_Pop_Change','Total_Emp_Change']]\n",
    "\n",
    "df.to_pickle('yrTotalChange.pkl')\n",
    "df"
   ]
  },
  {
   "cell_type": "code",
   "execution_count": null,
   "metadata": {},
   "outputs": [],
   "source": []
  }
 ],
 "metadata": {
  "kernelspec": {
   "display_name": "Python 3",
   "language": "python",
   "name": "python3"
  },
  "language_info": {
   "codemirror_mode": {
    "name": "ipython",
    "version": 3
   },
   "file_extension": ".py",
   "mimetype": "text/x-python",
   "name": "python",
   "nbconvert_exporter": "python",
   "pygments_lexer": "ipython3",
   "version": "3.7.3"
  }
 },
 "nbformat": 4,
 "nbformat_minor": 2
}
