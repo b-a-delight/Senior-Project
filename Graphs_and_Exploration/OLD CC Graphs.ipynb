{
 "cells": [
  {
   "cell_type": "code",
   "execution_count": 15,
   "metadata": {},
   "outputs": [],
   "source": [
    "import pandas as pd\n",
    "import numpy as np\n",
    "import plotly.express as px\n",
    "from plotly.subplots import make_subplots\n",
    "import plotly.graph_objects as go\n",
    "import xlrd\n",
    "import os\n",
    "import psutil\n",
    "import sys\n",
    "np.set_printoptions(threshold=np.inf)\n",
    "\n",
    "path = 'C:/Users/delightb/Desktop/Final_Project/Senior-Project/Pickle'\n",
    "im_path = 'C:/Users/delightb/Desktop/Final_Project/Senior-Project/Images'\n",
    "####   = pd.read_pickle(os.path.join(path,'abvHouse.pkl'))"
   ]
  },
  {
   "cell_type": "markdown",
   "metadata": {},
   "source": [
    "#### 'W BOISE' : \n",
    "'NORTH CENTRAL BENCH', 'WEST BOISE', 'WEST BOISE FREEWAY CORRIDOR'\n",
    "\n",
    "#### 'BOISE BENCH' : \n",
    "'CENTRAL BOISE BENCH', 'NORTH CENTRAL BENCH',  'BOISE BENCH FREEWAY CORRIDOR', 'PARK & UNIVERSITY WATERFRONT'\n",
    "\n",
    "#### 'W BOISE-MERIDIAN' : \n",
    "'WEST BOISE', 'NORTHEAST MERIDIAN', 'WEST BOISE FREEWAY CORRIDOR', 'NORTH CENTRAL BENCH','GARDEN CITY CHINDEN CORRIDOR', 'MERIDIAN FREEWAY CORRIDOR'\n",
    "\n",
    "#### 'NORTH BOISE' : \n",
    "'OLD NORTH BOISE', 'BOISE FOOTHILLS', 'NEW NORTH BOISE','DOWNTOWN BOISE', 'WARM SPRINGS','PARK & UNIVERSITY WATERFRONT'\n",
    "\n",
    "#### 'SE BOISE' : \n",
    "'NEW SOUTHEAST BOISE', 'SOUTHEAST BOISE INFILL','EAST BOISE WATERFRONT', 'OREGON TRAIL', 'PARK & UNIVERSITY WATERFRONT', 'SOUTH BOISE DESERT'\n",
    "\n",
    "#### 'NW BOISE-GARDEN CITY' : \n",
    "'NEW NORTH BOISE', 'NORTHWEST BOISE', 'GARDEN CITY WATERFRONT', 'BOISE FOOTHILLS','GARDEN CITY CHINDEN CORRIDOR']\n",
    "\n",
    "#### 'NE BOISE' : \n",
    "'BOISE FOOTHILLS', 'WARM SPRINGS', 'EAST BOISE WATERFRONT', 'BARBER & HARRIS RANCH'\n",
    "\n",
    "#### 'SW BOISE' : \n",
    "'WEST BOISE FREEWAY CORRIDOR', 'AIRPORT', 'BOISE BENCH FREEWAY CORRIDOR', 'SOUTH BOISE DESERT','SOUTHWEST BOISE'\n",
    "\n",
    "#### 'SW BOISE-MERIDIAN': \n",
    "'WEST BOISE FREEWAY CORRIDOR', 'MERIDIAN FREEWAY CORRIDOR', 'SOUTH MERIDIAN', 'SOUTHWEST BOISE'\n"
   ]
  },
  {
   "cell_type": "markdown",
   "metadata": {},
   "source": [
    "# Area Correlation Coefficient Comparison"
   ]
  },
  {
   "cell_type": "code",
   "execution_count": 30,
   "metadata": {},
   "outputs": [
    {
     "data": {
      "text/html": [
       "<div>\n",
       "<style scoped>\n",
       "    .dataframe tbody tr th:only-of-type {\n",
       "        vertical-align: middle;\n",
       "    }\n",
       "\n",
       "    .dataframe tbody tr th {\n",
       "        vertical-align: top;\n",
       "    }\n",
       "\n",
       "    .dataframe thead th {\n",
       "        text-align: right;\n",
       "    }\n",
       "</style>\n",
       "<table border=\"1\" class=\"dataframe\">\n",
       "  <thead>\n",
       "    <tr style=\"text-align: right;\">\n",
       "      <th></th>\n",
       "      <th>index</th>\n",
       "      <th>NW_Boise_GC</th>\n",
       "      <th>B_Bench</th>\n",
       "      <th>SE_Boise</th>\n",
       "      <th>N_Boise</th>\n",
       "      <th>NE_Boise</th>\n",
       "      <th>W_Boise</th>\n",
       "      <th>SW_Boise_M</th>\n",
       "      <th>W_Boise_M</th>\n",
       "      <th>SW_Boise</th>\n",
       "    </tr>\n",
       "  </thead>\n",
       "  <tbody>\n",
       "    <tr>\n",
       "      <th>0</th>\n",
       "      <td>Architecture And Engineering Occupations</td>\n",
       "      <td>NaN</td>\n",
       "      <td>NaN</td>\n",
       "      <td>NaN</td>\n",
       "      <td>NaN</td>\n",
       "      <td>NaN</td>\n",
       "      <td>NaN</td>\n",
       "      <td>NaN</td>\n",
       "      <td>NaN</td>\n",
       "      <td>NaN</td>\n",
       "    </tr>\n",
       "    <tr>\n",
       "      <th>1</th>\n",
       "      <td>Arts, Design, Entertainment, Sports, And Media...</td>\n",
       "      <td>0.530033</td>\n",
       "      <td>0.510817</td>\n",
       "      <td>0.503566</td>\n",
       "      <td>0.387524</td>\n",
       "      <td>0.414454</td>\n",
       "      <td>0.522505</td>\n",
       "      <td>0.546446</td>\n",
       "      <td>0.521483</td>\n",
       "      <td>0.627102</td>\n",
       "    </tr>\n",
       "    <tr>\n",
       "      <th>2</th>\n",
       "      <td>Building And Grounds Cleaning And Maintenance ...</td>\n",
       "      <td>0.494556</td>\n",
       "      <td>0.474245</td>\n",
       "      <td>0.570485</td>\n",
       "      <td>0.430509</td>\n",
       "      <td>0.420725</td>\n",
       "      <td>0.541095</td>\n",
       "      <td>0.567481</td>\n",
       "      <td>0.557238</td>\n",
       "      <td>0.594399</td>\n",
       "    </tr>\n",
       "    <tr>\n",
       "      <th>3</th>\n",
       "      <td>Business And Financial Operations Occupations</td>\n",
       "      <td>NaN</td>\n",
       "      <td>NaN</td>\n",
       "      <td>NaN</td>\n",
       "      <td>NaN</td>\n",
       "      <td>NaN</td>\n",
       "      <td>NaN</td>\n",
       "      <td>NaN</td>\n",
       "      <td>NaN</td>\n",
       "      <td>NaN</td>\n",
       "    </tr>\n",
       "    <tr>\n",
       "      <th>4</th>\n",
       "      <td>Community And Social Service Occupations</td>\n",
       "      <td>NaN</td>\n",
       "      <td>NaN</td>\n",
       "      <td>NaN</td>\n",
       "      <td>NaN</td>\n",
       "      <td>NaN</td>\n",
       "      <td>NaN</td>\n",
       "      <td>NaN</td>\n",
       "      <td>NaN</td>\n",
       "      <td>NaN</td>\n",
       "    </tr>\n",
       "    <tr>\n",
       "      <th>5</th>\n",
       "      <td>Computer And Mathematical Occupations</td>\n",
       "      <td>NaN</td>\n",
       "      <td>NaN</td>\n",
       "      <td>NaN</td>\n",
       "      <td>NaN</td>\n",
       "      <td>NaN</td>\n",
       "      <td>NaN</td>\n",
       "      <td>NaN</td>\n",
       "      <td>NaN</td>\n",
       "      <td>NaN</td>\n",
       "    </tr>\n",
       "    <tr>\n",
       "      <th>6</th>\n",
       "      <td>Construction And Extraction Occupations</td>\n",
       "      <td>NaN</td>\n",
       "      <td>NaN</td>\n",
       "      <td>NaN</td>\n",
       "      <td>NaN</td>\n",
       "      <td>NaN</td>\n",
       "      <td>NaN</td>\n",
       "      <td>NaN</td>\n",
       "      <td>NaN</td>\n",
       "      <td>NaN</td>\n",
       "    </tr>\n",
       "    <tr>\n",
       "      <th>7</th>\n",
       "      <td>Education, Training, And Library Occupations</td>\n",
       "      <td>NaN</td>\n",
       "      <td>NaN</td>\n",
       "      <td>NaN</td>\n",
       "      <td>NaN</td>\n",
       "      <td>NaN</td>\n",
       "      <td>NaN</td>\n",
       "      <td>NaN</td>\n",
       "      <td>NaN</td>\n",
       "      <td>NaN</td>\n",
       "    </tr>\n",
       "    <tr>\n",
       "      <th>8</th>\n",
       "      <td>Farming, Fishing, And Forestry Occupations</td>\n",
       "      <td>NaN</td>\n",
       "      <td>NaN</td>\n",
       "      <td>NaN</td>\n",
       "      <td>NaN</td>\n",
       "      <td>NaN</td>\n",
       "      <td>NaN</td>\n",
       "      <td>NaN</td>\n",
       "      <td>NaN</td>\n",
       "      <td>NaN</td>\n",
       "    </tr>\n",
       "    <tr>\n",
       "      <th>9</th>\n",
       "      <td>Food Preparation And Serving Related Occupations</td>\n",
       "      <td>0.394646</td>\n",
       "      <td>0.423393</td>\n",
       "      <td>NaN</td>\n",
       "      <td>0.345951</td>\n",
       "      <td>0.400469</td>\n",
       "      <td>NaN</td>\n",
       "      <td>0.555856</td>\n",
       "      <td>0.490734</td>\n",
       "      <td>0.584366</td>\n",
       "    </tr>\n",
       "    <tr>\n",
       "      <th>10</th>\n",
       "      <td>Healthcare Practitioner And Technical Occupations</td>\n",
       "      <td>NaN</td>\n",
       "      <td>NaN</td>\n",
       "      <td>NaN</td>\n",
       "      <td>NaN</td>\n",
       "      <td>NaN</td>\n",
       "      <td>NaN</td>\n",
       "      <td>NaN</td>\n",
       "      <td>NaN</td>\n",
       "      <td>NaN</td>\n",
       "    </tr>\n",
       "    <tr>\n",
       "      <th>11</th>\n",
       "      <td>Healthcare Support Occupations</td>\n",
       "      <td>NaN</td>\n",
       "      <td>NaN</td>\n",
       "      <td>NaN</td>\n",
       "      <td>NaN</td>\n",
       "      <td>NaN</td>\n",
       "      <td>NaN</td>\n",
       "      <td>NaN</td>\n",
       "      <td>NaN</td>\n",
       "      <td>NaN</td>\n",
       "    </tr>\n",
       "    <tr>\n",
       "      <th>12</th>\n",
       "      <td>Installation, Maintenance, And Repair Occupations</td>\n",
       "      <td>NaN</td>\n",
       "      <td>NaN</td>\n",
       "      <td>NaN</td>\n",
       "      <td>NaN</td>\n",
       "      <td>NaN</td>\n",
       "      <td>NaN</td>\n",
       "      <td>NaN</td>\n",
       "      <td>NaN</td>\n",
       "      <td>NaN</td>\n",
       "    </tr>\n",
       "    <tr>\n",
       "      <th>13</th>\n",
       "      <td>Legal Occupations</td>\n",
       "      <td>NaN</td>\n",
       "      <td>NaN</td>\n",
       "      <td>NaN</td>\n",
       "      <td>NaN</td>\n",
       "      <td>NaN</td>\n",
       "      <td>NaN</td>\n",
       "      <td>NaN</td>\n",
       "      <td>NaN</td>\n",
       "      <td>NaN</td>\n",
       "    </tr>\n",
       "    <tr>\n",
       "      <th>14</th>\n",
       "      <td>Life, Physical, And Social Science Occupations</td>\n",
       "      <td>NaN</td>\n",
       "      <td>NaN</td>\n",
       "      <td>NaN</td>\n",
       "      <td>NaN</td>\n",
       "      <td>NaN</td>\n",
       "      <td>NaN</td>\n",
       "      <td>NaN</td>\n",
       "      <td>NaN</td>\n",
       "      <td>NaN</td>\n",
       "    </tr>\n",
       "    <tr>\n",
       "      <th>15</th>\n",
       "      <td>Management Occupations</td>\n",
       "      <td>0.492048</td>\n",
       "      <td>0.467414</td>\n",
       "      <td>0.485134</td>\n",
       "      <td>0.395014</td>\n",
       "      <td>0.415299</td>\n",
       "      <td>0.506699</td>\n",
       "      <td>0.543334</td>\n",
       "      <td>0.521690</td>\n",
       "      <td>0.540169</td>\n",
       "    </tr>\n",
       "    <tr>\n",
       "      <th>16</th>\n",
       "      <td>Office And Administrative Support Occupations</td>\n",
       "      <td>NaN</td>\n",
       "      <td>NaN</td>\n",
       "      <td>NaN</td>\n",
       "      <td>NaN</td>\n",
       "      <td>NaN</td>\n",
       "      <td>NaN</td>\n",
       "      <td>NaN</td>\n",
       "      <td>NaN</td>\n",
       "      <td>NaN</td>\n",
       "    </tr>\n",
       "    <tr>\n",
       "      <th>17</th>\n",
       "      <td>Personal Care And Service Occupations</td>\n",
       "      <td>NaN</td>\n",
       "      <td>NaN</td>\n",
       "      <td>NaN</td>\n",
       "      <td>NaN</td>\n",
       "      <td>NaN</td>\n",
       "      <td>NaN</td>\n",
       "      <td>NaN</td>\n",
       "      <td>NaN</td>\n",
       "      <td>NaN</td>\n",
       "    </tr>\n",
       "    <tr>\n",
       "      <th>18</th>\n",
       "      <td>Production Occupations</td>\n",
       "      <td>0.413363</td>\n",
       "      <td>0.447751</td>\n",
       "      <td>0.450742</td>\n",
       "      <td>NaN</td>\n",
       "      <td>0.396963</td>\n",
       "      <td>0.462462</td>\n",
       "      <td>0.547294</td>\n",
       "      <td>0.518635</td>\n",
       "      <td>0.604634</td>\n",
       "    </tr>\n",
       "    <tr>\n",
       "      <th>19</th>\n",
       "      <td>Protective Service Occupations</td>\n",
       "      <td>NaN</td>\n",
       "      <td>NaN</td>\n",
       "      <td>NaN</td>\n",
       "      <td>NaN</td>\n",
       "      <td>NaN</td>\n",
       "      <td>NaN</td>\n",
       "      <td>NaN</td>\n",
       "      <td>NaN</td>\n",
       "      <td>NaN</td>\n",
       "    </tr>\n",
       "    <tr>\n",
       "      <th>20</th>\n",
       "      <td>Sales And Related Occupations</td>\n",
       "      <td>0.487786</td>\n",
       "      <td>0.543410</td>\n",
       "      <td>0.548469</td>\n",
       "      <td>0.459677</td>\n",
       "      <td>0.497753</td>\n",
       "      <td>0.548690</td>\n",
       "      <td>0.596522</td>\n",
       "      <td>0.571443</td>\n",
       "      <td>0.689930</td>\n",
       "    </tr>\n",
       "    <tr>\n",
       "      <th>21</th>\n",
       "      <td>Transportation And Material Moving Occupations</td>\n",
       "      <td>0.472472</td>\n",
       "      <td>0.505296</td>\n",
       "      <td>0.494657</td>\n",
       "      <td>0.421430</td>\n",
       "      <td>0.471540</td>\n",
       "      <td>0.493933</td>\n",
       "      <td>0.561117</td>\n",
       "      <td>0.552481</td>\n",
       "      <td>0.583184</td>\n",
       "    </tr>\n",
       "    <tr>\n",
       "      <th>22</th>\n",
       "      <td>(10000.0, 40000.0]</td>\n",
       "      <td>NaN</td>\n",
       "      <td>NaN</td>\n",
       "      <td>NaN</td>\n",
       "      <td>NaN</td>\n",
       "      <td>NaN</td>\n",
       "      <td>NaN</td>\n",
       "      <td>NaN</td>\n",
       "      <td>NaN</td>\n",
       "      <td>NaN</td>\n",
       "    </tr>\n",
       "    <tr>\n",
       "      <th>23</th>\n",
       "      <td>(40000.0, 70000.0]</td>\n",
       "      <td>NaN</td>\n",
       "      <td>NaN</td>\n",
       "      <td>NaN</td>\n",
       "      <td>NaN</td>\n",
       "      <td>NaN</td>\n",
       "      <td>NaN</td>\n",
       "      <td>NaN</td>\n",
       "      <td>NaN</td>\n",
       "      <td>NaN</td>\n",
       "    </tr>\n",
       "    <tr>\n",
       "      <th>24</th>\n",
       "      <td>(70000.0, 100000.0]</td>\n",
       "      <td>NaN</td>\n",
       "      <td>NaN</td>\n",
       "      <td>0.478923</td>\n",
       "      <td>0.382358</td>\n",
       "      <td>NaN</td>\n",
       "      <td>0.400417</td>\n",
       "      <td>NaN</td>\n",
       "      <td>NaN</td>\n",
       "      <td>NaN</td>\n",
       "    </tr>\n",
       "    <tr>\n",
       "      <th>25</th>\n",
       "      <td>(100000.0, 150000.0]</td>\n",
       "      <td>NaN</td>\n",
       "      <td>NaN</td>\n",
       "      <td>NaN</td>\n",
       "      <td>NaN</td>\n",
       "      <td>NaN</td>\n",
       "      <td>NaN</td>\n",
       "      <td>NaN</td>\n",
       "      <td>NaN</td>\n",
       "      <td>NaN</td>\n",
       "    </tr>\n",
       "    <tr>\n",
       "      <th>26</th>\n",
       "      <td>(150000.0, 200000.0]</td>\n",
       "      <td>NaN</td>\n",
       "      <td>NaN</td>\n",
       "      <td>NaN</td>\n",
       "      <td>NaN</td>\n",
       "      <td>NaN</td>\n",
       "      <td>NaN</td>\n",
       "      <td>NaN</td>\n",
       "      <td>NaN</td>\n",
       "      <td>NaN</td>\n",
       "    </tr>\n",
       "    <tr>\n",
       "      <th>27</th>\n",
       "      <td>(200000.0, 300000.0]</td>\n",
       "      <td>NaN</td>\n",
       "      <td>NaN</td>\n",
       "      <td>NaN</td>\n",
       "      <td>NaN</td>\n",
       "      <td>NaN</td>\n",
       "      <td>NaN</td>\n",
       "      <td>NaN</td>\n",
       "      <td>NaN</td>\n",
       "      <td>NaN</td>\n",
       "    </tr>\n",
       "    <tr>\n",
       "      <th>28</th>\n",
       "      <td>Total_House_Change</td>\n",
       "      <td>0.510338</td>\n",
       "      <td>0.493348</td>\n",
       "      <td>0.562160</td>\n",
       "      <td>0.509813</td>\n",
       "      <td>0.511213</td>\n",
       "      <td>0.520180</td>\n",
       "      <td>0.528719</td>\n",
       "      <td>0.525586</td>\n",
       "      <td>0.580571</td>\n",
       "    </tr>\n",
       "    <tr>\n",
       "      <th>29</th>\n",
       "      <td>Total_Pop_Change</td>\n",
       "      <td>0.507420</td>\n",
       "      <td>0.528893</td>\n",
       "      <td>0.575293</td>\n",
       "      <td>0.547275</td>\n",
       "      <td>0.553684</td>\n",
       "      <td>0.536023</td>\n",
       "      <td>0.569835</td>\n",
       "      <td>0.554143</td>\n",
       "      <td>0.615873</td>\n",
       "    </tr>\n",
       "    <tr>\n",
       "      <th>30</th>\n",
       "      <td>Total_Emp_Change</td>\n",
       "      <td>0.530780</td>\n",
       "      <td>0.548804</td>\n",
       "      <td>0.565868</td>\n",
       "      <td>0.422047</td>\n",
       "      <td>0.504123</td>\n",
       "      <td>0.559055</td>\n",
       "      <td>0.679366</td>\n",
       "      <td>0.629804</td>\n",
       "      <td>0.725382</td>\n",
       "    </tr>\n",
       "  </tbody>\n",
       "</table>\n",
       "</div>"
      ],
      "text/plain": [
       "                                                index  NW_Boise_GC   B_Bench  \\\n",
       "0            Architecture And Engineering Occupations          NaN       NaN   \n",
       "1   Arts, Design, Entertainment, Sports, And Media...     0.530033  0.510817   \n",
       "2   Building And Grounds Cleaning And Maintenance ...     0.494556  0.474245   \n",
       "3       Business And Financial Operations Occupations          NaN       NaN   \n",
       "4            Community And Social Service Occupations          NaN       NaN   \n",
       "5               Computer And Mathematical Occupations          NaN       NaN   \n",
       "6             Construction And Extraction Occupations          NaN       NaN   \n",
       "7        Education, Training, And Library Occupations          NaN       NaN   \n",
       "8          Farming, Fishing, And Forestry Occupations          NaN       NaN   \n",
       "9    Food Preparation And Serving Related Occupations     0.394646  0.423393   \n",
       "10  Healthcare Practitioner And Technical Occupations          NaN       NaN   \n",
       "11                     Healthcare Support Occupations          NaN       NaN   \n",
       "12  Installation, Maintenance, And Repair Occupations          NaN       NaN   \n",
       "13                                  Legal Occupations          NaN       NaN   \n",
       "14     Life, Physical, And Social Science Occupations          NaN       NaN   \n",
       "15                             Management Occupations     0.492048  0.467414   \n",
       "16      Office And Administrative Support Occupations          NaN       NaN   \n",
       "17              Personal Care And Service Occupations          NaN       NaN   \n",
       "18                             Production Occupations     0.413363  0.447751   \n",
       "19                     Protective Service Occupations          NaN       NaN   \n",
       "20                      Sales And Related Occupations     0.487786  0.543410   \n",
       "21     Transportation And Material Moving Occupations     0.472472  0.505296   \n",
       "22                                 (10000.0, 40000.0]          NaN       NaN   \n",
       "23                                 (40000.0, 70000.0]          NaN       NaN   \n",
       "24                                (70000.0, 100000.0]          NaN       NaN   \n",
       "25                               (100000.0, 150000.0]          NaN       NaN   \n",
       "26                               (150000.0, 200000.0]          NaN       NaN   \n",
       "27                               (200000.0, 300000.0]          NaN       NaN   \n",
       "28                                 Total_House_Change     0.510338  0.493348   \n",
       "29                                   Total_Pop_Change     0.507420  0.528893   \n",
       "30                                   Total_Emp_Change     0.530780  0.548804   \n",
       "\n",
       "    SE_Boise   N_Boise  NE_Boise   W_Boise  SW_Boise_M  W_Boise_M  SW_Boise  \n",
       "0        NaN       NaN       NaN       NaN         NaN        NaN       NaN  \n",
       "1   0.503566  0.387524  0.414454  0.522505    0.546446   0.521483  0.627102  \n",
       "2   0.570485  0.430509  0.420725  0.541095    0.567481   0.557238  0.594399  \n",
       "3        NaN       NaN       NaN       NaN         NaN        NaN       NaN  \n",
       "4        NaN       NaN       NaN       NaN         NaN        NaN       NaN  \n",
       "5        NaN       NaN       NaN       NaN         NaN        NaN       NaN  \n",
       "6        NaN       NaN       NaN       NaN         NaN        NaN       NaN  \n",
       "7        NaN       NaN       NaN       NaN         NaN        NaN       NaN  \n",
       "8        NaN       NaN       NaN       NaN         NaN        NaN       NaN  \n",
       "9        NaN  0.345951  0.400469       NaN    0.555856   0.490734  0.584366  \n",
       "10       NaN       NaN       NaN       NaN         NaN        NaN       NaN  \n",
       "11       NaN       NaN       NaN       NaN         NaN        NaN       NaN  \n",
       "12       NaN       NaN       NaN       NaN         NaN        NaN       NaN  \n",
       "13       NaN       NaN       NaN       NaN         NaN        NaN       NaN  \n",
       "14       NaN       NaN       NaN       NaN         NaN        NaN       NaN  \n",
       "15  0.485134  0.395014  0.415299  0.506699    0.543334   0.521690  0.540169  \n",
       "16       NaN       NaN       NaN       NaN         NaN        NaN       NaN  \n",
       "17       NaN       NaN       NaN       NaN         NaN        NaN       NaN  \n",
       "18  0.450742       NaN  0.396963  0.462462    0.547294   0.518635  0.604634  \n",
       "19       NaN       NaN       NaN       NaN         NaN        NaN       NaN  \n",
       "20  0.548469  0.459677  0.497753  0.548690    0.596522   0.571443  0.689930  \n",
       "21  0.494657  0.421430  0.471540  0.493933    0.561117   0.552481  0.583184  \n",
       "22       NaN       NaN       NaN       NaN         NaN        NaN       NaN  \n",
       "23       NaN       NaN       NaN       NaN         NaN        NaN       NaN  \n",
       "24  0.478923  0.382358       NaN  0.400417         NaN        NaN       NaN  \n",
       "25       NaN       NaN       NaN       NaN         NaN        NaN       NaN  \n",
       "26       NaN       NaN       NaN       NaN         NaN        NaN       NaN  \n",
       "27       NaN       NaN       NaN       NaN         NaN        NaN       NaN  \n",
       "28  0.562160  0.509813  0.511213  0.520180    0.528719   0.525586  0.580571  \n",
       "29  0.575293  0.547275  0.553684  0.536023    0.569835   0.554143  0.615873  \n",
       "30  0.565868  0.422047  0.504123  0.559055    0.679366   0.629804  0.725382  "
      ]
     },
     "execution_count": 30,
     "metadata": {},
     "output_type": "execute_result"
    }
   ],
   "source": [
    "df = pd.read_pickle(os.path.join(path,'Trim-A-Coeff-compare.pkl'))\n",
    "df = df.iloc[3:]\n",
    "df = df.reset_index(drop = True)\n",
    "\n",
    "# df= df.rename(columns = {'index' : 'Feature_Name'})\n",
    "# df['index'] = ['00','01','02','03','04','05','06','07','08','09','10','11','12','13','14',\n",
    "#              '15','16','17','18','19','20','21','22','23','24','25','26','27','28','29','30']\n",
    "# df['mod_line'] = .3\n",
    "# df['high_line'] = .7\n",
    "\n",
    "# #this will drop rows that have less than 4 values (feature name, key, mod line, high line, & @ least 1 value)\n",
    "# df = df.dropna(thresh = 5)\n",
    "\n",
    "#this will drop rows that have less than 2 values (name & @ least 1 value)\n",
    "#df = df.dropna(thresh = 4)\n",
    "#df = df.reset_index(drop = True)\n",
    "#df['Feature_Name']\n",
    "df"
   ]
  },
  {
   "cell_type": "code",
   "execution_count": 22,
   "metadata": {},
   "outputs": [
    {
     "data": {
      "application/vnd.plotly.v1+json": {
       "config": {
        "plotlyServerURL": "https://plot.ly"
       },
       "data": [
        {
         "marker": {
          "color": "rgb(220,20,60)",
          "size": 10,
          "symbol": "square-open"
         },
         "mode": "markers",
         "name": "NW Boise",
         "type": "scatter",
         "x": [
          "01",
          "02",
          "09",
          "12",
          "15",
          "18",
          "20",
          "21",
          "24",
          "28",
          "29",
          "30"
         ],
         "y": [
          0.20511989830829375,
          0.20202492658042512,
          0.1558094173878995,
          null,
          0.20297960380013888,
          0.17164074256838002,
          0.20724170393740776,
          0.19265695666830737,
          null,
          0.21008176493842012,
          0.19808273865462944,
          0.2194336066718054
         ]
        },
        {
         "marker": {
          "color": "rgb(0,128,128)",
          "size": 10,
          "symbol": "star-diamond-open"
         },
         "mode": "markers",
         "name": "Boise Bench",
         "type": "scatter",
         "x": [
          "01",
          "02",
          "09",
          "12",
          "15",
          "18",
          "20",
          "21",
          "24",
          "28",
          "29",
          "30"
         ],
         "y": [
          0.3222943469873964,
          0.2977753507508525,
          0.2628603188068967,
          null,
          0.29649194041104787,
          0.27253225916981855,
          0.33687722223816136,
          0.31293374323689277,
          null,
          0.3083153478960886,
          0.3091702684877814,
          0.3411726753796079
         ]
        },
        {
         "marker": {
          "color": "rgb(0,0,128)",
          "size": 10,
          "symbol": "pentagon-open"
         },
         "mode": "markers",
         "name": "SE Boise",
         "type": "scatter",
         "x": [
          "01",
          "02",
          "09",
          "12",
          "15",
          "18",
          "20",
          "21",
          "24",
          "28",
          "29",
          "30"
         ],
         "y": [
          0.15165489289359502,
          0.17349652299884563,
          null,
          null,
          0.15738164792252865,
          0.137180133698344,
          0.16974422327131114,
          0.1469786801240419,
          0.14220474832117172,
          0.17784695680271573,
          0.1736215287651805,
          0.17894896965039592
         ]
        },
        {
         "marker": {
          "color": "rgb(107,142,35)",
          "size": 10,
          "symbol": "star-open"
         },
         "mode": "markers",
         "name": "N Boise",
         "type": "scatter",
         "x": [
          "01",
          "02",
          "09",
          "12",
          "15",
          "18",
          "20",
          "21",
          "24",
          "28",
          "29",
          "30"
         ],
         "y": [
          0.145656367752847,
          0.1612408256665887,
          0.1420317233942273,
          null,
          0.16109574586525038,
          null,
          0.17787412154328736,
          0.16726901640250372,
          0.14264507157424516,
          0.19853828488513336,
          0.2055335128362257,
          0.17505144588715482
         ]
        },
        {
         "marker": {
          "color": "rgb(199,21,133)",
          "size": 10,
          "symbol": "bowtie-open"
         },
         "mode": "markers",
         "name": "NE Boise",
         "type": "scatter",
         "x": [
          "01",
          "02",
          "09",
          "12",
          "15",
          "18",
          "20",
          "21",
          "24",
          "28",
          "29",
          "30"
         ],
         "y": [
          null,
          0.03191236321354058,
          0.026801700701855204,
          0.023051537612660464,
          0.028293160592311652,
          0.0292609395367609,
          0.031075738423994994,
          0.024679015474990802,
          null,
          0.02879025678327618,
          0.03177779507990851,
          0.03516555293840986
         ]
        },
        {
         "marker": {
          "color": "rgb(47,79,79)",
          "size": 10,
          "symbol": "circle-cross-open"
         },
         "mode": "markers",
         "name": "W Boise",
         "type": "scatter",
         "x": [
          "01",
          "02",
          "09",
          "12",
          "15",
          "18",
          "20",
          "21",
          "24",
          "28",
          "29",
          "30"
         ],
         "y": [
          0.29519365572993117,
          0.3041224552947116,
          null,
          null,
          0.27956926107036884,
          0.2584170852150034,
          0.30643595770377735,
          0.27529543979832377,
          0.230012120296597,
          0.2837654108113943,
          0.2796940753454775,
          0.31661333459641633
         ]
        },
        {
         "marker": {
          "color": "rgb(139,69,19)",
          "size": 10,
          "symbol": "triangle-nw-open"
         },
         "mode": "markers",
         "name": "SW Boise M",
         "type": "scatter",
         "x": [
          "01",
          "02",
          "09",
          "12",
          "15",
          "18",
          "20",
          "21",
          "24",
          "28",
          "29",
          "30"
         ],
         "y": [
          0.15049477725201751,
          0.19856284027239432,
          0.16073074312857868,
          null,
          0.15638595051238421,
          0.14752572285659896,
          0.1861129273013881,
          0.16216757889364797,
          null,
          0.14769627934107624,
          0.1560994097741821,
          0.18751736815498898
         ]
        },
        {
         "marker": {
          "color": "rgb(255,140,0)",
          "size": 10,
          "symbol": "hourglass-open"
         },
         "mode": "markers",
         "name": "W Boise-Meridian",
         "type": "scatter",
         "x": [
          "01",
          "02",
          "09",
          "12",
          "15",
          "18",
          "20",
          "21",
          "24",
          "28",
          "29",
          "30"
         ],
         "y": [
          0.17200006066382242,
          0.19049261804528572,
          0.16830060056017784,
          null,
          0.1872732569357876,
          0.16916967169793226,
          0.19343563220282523,
          0.1889606934053224,
          null,
          0.1968176633576619,
          0.19208204453708125,
          0.2157300150527685
         ]
        },
        {
         "marker": {
          "color": "rgb(128,0,128)",
          "size": 10,
          "symbol": "diamond-tall-open"
         },
         "mode": "markers",
         "name": "SW Boise",
         "type": "scatter",
         "x": [
          "01",
          "02",
          "09",
          "12",
          "15",
          "18",
          "20",
          "21",
          "24",
          "28",
          "29",
          "30"
         ],
         "y": [
          0.22034541357687715,
          0.21000208549537258,
          0.1785701455640396,
          null,
          null,
          0.1863149857239518,
          0.2478309384542774,
          0.19441386062227872,
          0.16924723124041396,
          0.19911579060140427,
          0.1930659487749075,
          0.21597646091763034
         ]
        },
        {
         "line": {
          "color": "Black",
          "dash": "dot",
          "width": 1
         },
         "mode": "lines",
         "name": ">0.3 Moderate Linear Relationship",
         "type": "scatter",
         "x": [
          "01",
          "02",
          "09",
          "12",
          "15",
          "18",
          "20",
          "21",
          "24",
          "28",
          "29",
          "30"
         ],
         "y": [
          0.3,
          0.3,
          0.3,
          0.3,
          0.3,
          0.3,
          0.3,
          0.3,
          0.3,
          0.3,
          0.3,
          0.3
         ]
        },
        {
         "line": {
          "color": "Black",
          "dash": "dot",
          "width": 1
         },
         "mode": "lines",
         "name": ">0.7 Moderate Linear Relationship",
         "type": "scatter",
         "x": [
          "01",
          "02",
          "09",
          "12",
          "15",
          "18",
          "20",
          "21",
          "24",
          "28",
          "29",
          "30"
         ],
         "y": [
          0.7,
          0.7,
          0.7,
          0.7,
          0.7,
          0.7,
          0.7,
          0.7,
          0.7,
          0.7,
          0.7,
          0.7
         ]
        }
       ],
       "layout": {
        "template": {
         "data": {
          "bar": [
           {
            "error_x": {
             "color": "#2a3f5f"
            },
            "error_y": {
             "color": "#2a3f5f"
            },
            "marker": {
             "line": {
              "color": "#E5ECF6",
              "width": 0.5
             }
            },
            "type": "bar"
           }
          ],
          "barpolar": [
           {
            "marker": {
             "line": {
              "color": "#E5ECF6",
              "width": 0.5
             }
            },
            "type": "barpolar"
           }
          ],
          "carpet": [
           {
            "aaxis": {
             "endlinecolor": "#2a3f5f",
             "gridcolor": "white",
             "linecolor": "white",
             "minorgridcolor": "white",
             "startlinecolor": "#2a3f5f"
            },
            "baxis": {
             "endlinecolor": "#2a3f5f",
             "gridcolor": "white",
             "linecolor": "white",
             "minorgridcolor": "white",
             "startlinecolor": "#2a3f5f"
            },
            "type": "carpet"
           }
          ],
          "choropleth": [
           {
            "colorbar": {
             "outlinewidth": 0,
             "ticks": ""
            },
            "type": "choropleth"
           }
          ],
          "contour": [
           {
            "colorbar": {
             "outlinewidth": 0,
             "ticks": ""
            },
            "colorscale": [
             [
              0,
              "#0d0887"
             ],
             [
              0.1111111111111111,
              "#46039f"
             ],
             [
              0.2222222222222222,
              "#7201a8"
             ],
             [
              0.3333333333333333,
              "#9c179e"
             ],
             [
              0.4444444444444444,
              "#bd3786"
             ],
             [
              0.5555555555555556,
              "#d8576b"
             ],
             [
              0.6666666666666666,
              "#ed7953"
             ],
             [
              0.7777777777777778,
              "#fb9f3a"
             ],
             [
              0.8888888888888888,
              "#fdca26"
             ],
             [
              1,
              "#f0f921"
             ]
            ],
            "type": "contour"
           }
          ],
          "contourcarpet": [
           {
            "colorbar": {
             "outlinewidth": 0,
             "ticks": ""
            },
            "type": "contourcarpet"
           }
          ],
          "heatmap": [
           {
            "colorbar": {
             "outlinewidth": 0,
             "ticks": ""
            },
            "colorscale": [
             [
              0,
              "#0d0887"
             ],
             [
              0.1111111111111111,
              "#46039f"
             ],
             [
              0.2222222222222222,
              "#7201a8"
             ],
             [
              0.3333333333333333,
              "#9c179e"
             ],
             [
              0.4444444444444444,
              "#bd3786"
             ],
             [
              0.5555555555555556,
              "#d8576b"
             ],
             [
              0.6666666666666666,
              "#ed7953"
             ],
             [
              0.7777777777777778,
              "#fb9f3a"
             ],
             [
              0.8888888888888888,
              "#fdca26"
             ],
             [
              1,
              "#f0f921"
             ]
            ],
            "type": "heatmap"
           }
          ],
          "heatmapgl": [
           {
            "colorbar": {
             "outlinewidth": 0,
             "ticks": ""
            },
            "colorscale": [
             [
              0,
              "#0d0887"
             ],
             [
              0.1111111111111111,
              "#46039f"
             ],
             [
              0.2222222222222222,
              "#7201a8"
             ],
             [
              0.3333333333333333,
              "#9c179e"
             ],
             [
              0.4444444444444444,
              "#bd3786"
             ],
             [
              0.5555555555555556,
              "#d8576b"
             ],
             [
              0.6666666666666666,
              "#ed7953"
             ],
             [
              0.7777777777777778,
              "#fb9f3a"
             ],
             [
              0.8888888888888888,
              "#fdca26"
             ],
             [
              1,
              "#f0f921"
             ]
            ],
            "type": "heatmapgl"
           }
          ],
          "histogram": [
           {
            "marker": {
             "colorbar": {
              "outlinewidth": 0,
              "ticks": ""
             }
            },
            "type": "histogram"
           }
          ],
          "histogram2d": [
           {
            "colorbar": {
             "outlinewidth": 0,
             "ticks": ""
            },
            "colorscale": [
             [
              0,
              "#0d0887"
             ],
             [
              0.1111111111111111,
              "#46039f"
             ],
             [
              0.2222222222222222,
              "#7201a8"
             ],
             [
              0.3333333333333333,
              "#9c179e"
             ],
             [
              0.4444444444444444,
              "#bd3786"
             ],
             [
              0.5555555555555556,
              "#d8576b"
             ],
             [
              0.6666666666666666,
              "#ed7953"
             ],
             [
              0.7777777777777778,
              "#fb9f3a"
             ],
             [
              0.8888888888888888,
              "#fdca26"
             ],
             [
              1,
              "#f0f921"
             ]
            ],
            "type": "histogram2d"
           }
          ],
          "histogram2dcontour": [
           {
            "colorbar": {
             "outlinewidth": 0,
             "ticks": ""
            },
            "colorscale": [
             [
              0,
              "#0d0887"
             ],
             [
              0.1111111111111111,
              "#46039f"
             ],
             [
              0.2222222222222222,
              "#7201a8"
             ],
             [
              0.3333333333333333,
              "#9c179e"
             ],
             [
              0.4444444444444444,
              "#bd3786"
             ],
             [
              0.5555555555555556,
              "#d8576b"
             ],
             [
              0.6666666666666666,
              "#ed7953"
             ],
             [
              0.7777777777777778,
              "#fb9f3a"
             ],
             [
              0.8888888888888888,
              "#fdca26"
             ],
             [
              1,
              "#f0f921"
             ]
            ],
            "type": "histogram2dcontour"
           }
          ],
          "mesh3d": [
           {
            "colorbar": {
             "outlinewidth": 0,
             "ticks": ""
            },
            "type": "mesh3d"
           }
          ],
          "parcoords": [
           {
            "line": {
             "colorbar": {
              "outlinewidth": 0,
              "ticks": ""
             }
            },
            "type": "parcoords"
           }
          ],
          "scatter": [
           {
            "marker": {
             "colorbar": {
              "outlinewidth": 0,
              "ticks": ""
             }
            },
            "type": "scatter"
           }
          ],
          "scatter3d": [
           {
            "line": {
             "colorbar": {
              "outlinewidth": 0,
              "ticks": ""
             }
            },
            "marker": {
             "colorbar": {
              "outlinewidth": 0,
              "ticks": ""
             }
            },
            "type": "scatter3d"
           }
          ],
          "scattercarpet": [
           {
            "marker": {
             "colorbar": {
              "outlinewidth": 0,
              "ticks": ""
             }
            },
            "type": "scattercarpet"
           }
          ],
          "scattergeo": [
           {
            "marker": {
             "colorbar": {
              "outlinewidth": 0,
              "ticks": ""
             }
            },
            "type": "scattergeo"
           }
          ],
          "scattergl": [
           {
            "marker": {
             "colorbar": {
              "outlinewidth": 0,
              "ticks": ""
             }
            },
            "type": "scattergl"
           }
          ],
          "scattermapbox": [
           {
            "marker": {
             "colorbar": {
              "outlinewidth": 0,
              "ticks": ""
             }
            },
            "type": "scattermapbox"
           }
          ],
          "scatterpolar": [
           {
            "marker": {
             "colorbar": {
              "outlinewidth": 0,
              "ticks": ""
             }
            },
            "type": "scatterpolar"
           }
          ],
          "scatterpolargl": [
           {
            "marker": {
             "colorbar": {
              "outlinewidth": 0,
              "ticks": ""
             }
            },
            "type": "scatterpolargl"
           }
          ],
          "scatterternary": [
           {
            "marker": {
             "colorbar": {
              "outlinewidth": 0,
              "ticks": ""
             }
            },
            "type": "scatterternary"
           }
          ],
          "surface": [
           {
            "colorbar": {
             "outlinewidth": 0,
             "ticks": ""
            },
            "colorscale": [
             [
              0,
              "#0d0887"
             ],
             [
              0.1111111111111111,
              "#46039f"
             ],
             [
              0.2222222222222222,
              "#7201a8"
             ],
             [
              0.3333333333333333,
              "#9c179e"
             ],
             [
              0.4444444444444444,
              "#bd3786"
             ],
             [
              0.5555555555555556,
              "#d8576b"
             ],
             [
              0.6666666666666666,
              "#ed7953"
             ],
             [
              0.7777777777777778,
              "#fb9f3a"
             ],
             [
              0.8888888888888888,
              "#fdca26"
             ],
             [
              1,
              "#f0f921"
             ]
            ],
            "type": "surface"
           }
          ],
          "table": [
           {
            "cells": {
             "fill": {
              "color": "#EBF0F8"
             },
             "line": {
              "color": "white"
             }
            },
            "header": {
             "fill": {
              "color": "#C8D4E3"
             },
             "line": {
              "color": "white"
             }
            },
            "type": "table"
           }
          ]
         },
         "layout": {
          "annotationdefaults": {
           "arrowcolor": "#2a3f5f",
           "arrowhead": 0,
           "arrowwidth": 1
          },
          "colorscale": {
           "diverging": [
            [
             0,
             "#8e0152"
            ],
            [
             0.1,
             "#c51b7d"
            ],
            [
             0.2,
             "#de77ae"
            ],
            [
             0.3,
             "#f1b6da"
            ],
            [
             0.4,
             "#fde0ef"
            ],
            [
             0.5,
             "#f7f7f7"
            ],
            [
             0.6,
             "#e6f5d0"
            ],
            [
             0.7,
             "#b8e186"
            ],
            [
             0.8,
             "#7fbc41"
            ],
            [
             0.9,
             "#4d9221"
            ],
            [
             1,
             "#276419"
            ]
           ],
           "sequential": [
            [
             0,
             "#0d0887"
            ],
            [
             0.1111111111111111,
             "#46039f"
            ],
            [
             0.2222222222222222,
             "#7201a8"
            ],
            [
             0.3333333333333333,
             "#9c179e"
            ],
            [
             0.4444444444444444,
             "#bd3786"
            ],
            [
             0.5555555555555556,
             "#d8576b"
            ],
            [
             0.6666666666666666,
             "#ed7953"
            ],
            [
             0.7777777777777778,
             "#fb9f3a"
            ],
            [
             0.8888888888888888,
             "#fdca26"
            ],
            [
             1,
             "#f0f921"
            ]
           ],
           "sequentialminus": [
            [
             0,
             "#0d0887"
            ],
            [
             0.1111111111111111,
             "#46039f"
            ],
            [
             0.2222222222222222,
             "#7201a8"
            ],
            [
             0.3333333333333333,
             "#9c179e"
            ],
            [
             0.4444444444444444,
             "#bd3786"
            ],
            [
             0.5555555555555556,
             "#d8576b"
            ],
            [
             0.6666666666666666,
             "#ed7953"
            ],
            [
             0.7777777777777778,
             "#fb9f3a"
            ],
            [
             0.8888888888888888,
             "#fdca26"
            ],
            [
             1,
             "#f0f921"
            ]
           ]
          },
          "colorway": [
           "#636efa",
           "#EF553B",
           "#00cc96",
           "#ab63fa",
           "#FFA15A",
           "#19d3f3",
           "#FF6692",
           "#B6E880",
           "#FF97FF",
           "#FECB52"
          ],
          "font": {
           "color": "#2a3f5f"
          },
          "geo": {
           "bgcolor": "white",
           "lakecolor": "white",
           "landcolor": "#E5ECF6",
           "showlakes": true,
           "showland": true,
           "subunitcolor": "white"
          },
          "hoverlabel": {
           "align": "left"
          },
          "hovermode": "closest",
          "mapbox": {
           "style": "light"
          },
          "paper_bgcolor": "white",
          "plot_bgcolor": "#E5ECF6",
          "polar": {
           "angularaxis": {
            "gridcolor": "white",
            "linecolor": "white",
            "ticks": ""
           },
           "bgcolor": "#E5ECF6",
           "radialaxis": {
            "gridcolor": "white",
            "linecolor": "white",
            "ticks": ""
           }
          },
          "scene": {
           "xaxis": {
            "backgroundcolor": "#E5ECF6",
            "gridcolor": "white",
            "gridwidth": 2,
            "linecolor": "white",
            "showbackground": true,
            "ticks": "",
            "zerolinecolor": "white"
           },
           "yaxis": {
            "backgroundcolor": "#E5ECF6",
            "gridcolor": "white",
            "gridwidth": 2,
            "linecolor": "white",
            "showbackground": true,
            "ticks": "",
            "zerolinecolor": "white"
           },
           "zaxis": {
            "backgroundcolor": "#E5ECF6",
            "gridcolor": "white",
            "gridwidth": 2,
            "linecolor": "white",
            "showbackground": true,
            "ticks": "",
            "zerolinecolor": "white"
           }
          },
          "shapedefaults": {
           "line": {
            "color": "#2a3f5f"
           }
          },
          "ternary": {
           "aaxis": {
            "gridcolor": "white",
            "linecolor": "white",
            "ticks": ""
           },
           "baxis": {
            "gridcolor": "white",
            "linecolor": "white",
            "ticks": ""
           },
           "bgcolor": "#E5ECF6",
           "caxis": {
            "gridcolor": "white",
            "linecolor": "white",
            "ticks": ""
           }
          },
          "title": {
           "x": 0.05
          },
          "xaxis": {
           "automargin": true,
           "gridcolor": "white",
           "linecolor": "white",
           "ticks": "",
           "zerolinecolor": "white",
           "zerolinewidth": 2
          },
          "yaxis": {
           "automargin": true,
           "gridcolor": "white",
           "linecolor": "white",
           "ticks": "",
           "zerolinecolor": "white",
           "zerolinewidth": 2
          }
         }
        },
        "title": {
         "font": {
          "family": "Times New Roman"
         },
         "text": "<b>Correlation Coefficients for the MLS Areas of Boise<b>",
         "x": 0.5,
         "xref": "paper"
        },
        "xaxis": {
         "title": {
          "font": {
           "family": "Times New Roman",
           "size": 16
          },
          "text": "<b>Feature Key<b>"
         },
         "type": "category"
        },
        "yaxis": {
         "title": {
          "font": {
           "family": "Times New Roman",
           "size": 16
          },
          "text": "<b>Correlation Coefficient<b>"
         }
        }
       }
      },
      "text/html": [
       "<div>\n",
       "        \n",
       "        \n",
       "            <div id=\"3039a960-e311-43fb-b574-d0a384d6bfd0\" class=\"plotly-graph-div\" style=\"height:525px; width:100%;\"></div>\n",
       "            <script type=\"text/javascript\">\n",
       "                require([\"plotly\"], function(Plotly) {\n",
       "                    window.PLOTLYENV=window.PLOTLYENV || {};\n",
       "                    \n",
       "                if (document.getElementById(\"3039a960-e311-43fb-b574-d0a384d6bfd0\")) {\n",
       "                    Plotly.newPlot(\n",
       "                        '3039a960-e311-43fb-b574-d0a384d6bfd0',\n",
       "                        [{\"marker\": {\"color\": \"rgb(220,20,60)\", \"size\": 10, \"symbol\": \"square-open\"}, \"mode\": \"markers\", \"name\": \"NW Boise\", \"type\": \"scatter\", \"x\": [\"01\", \"02\", \"09\", \"12\", \"15\", \"18\", \"20\", \"21\", \"24\", \"28\", \"29\", \"30\"], \"y\": [0.20511989830829375, 0.20202492658042512, 0.1558094173878995, null, 0.20297960380013888, 0.17164074256838002, 0.20724170393740776, 0.19265695666830737, null, 0.21008176493842012, 0.19808273865462944, 0.2194336066718054]}, {\"marker\": {\"color\": \"rgb(0,128,128)\", \"size\": 10, \"symbol\": \"star-diamond-open\"}, \"mode\": \"markers\", \"name\": \"Boise Bench\", \"type\": \"scatter\", \"x\": [\"01\", \"02\", \"09\", \"12\", \"15\", \"18\", \"20\", \"21\", \"24\", \"28\", \"29\", \"30\"], \"y\": [0.3222943469873964, 0.2977753507508525, 0.2628603188068967, null, 0.29649194041104787, 0.27253225916981855, 0.33687722223816136, 0.31293374323689277, null, 0.3083153478960886, 0.3091702684877814, 0.3411726753796079]}, {\"marker\": {\"color\": \"rgb(0,0,128)\", \"size\": 10, \"symbol\": \"pentagon-open\"}, \"mode\": \"markers\", \"name\": \"SE Boise\", \"type\": \"scatter\", \"x\": [\"01\", \"02\", \"09\", \"12\", \"15\", \"18\", \"20\", \"21\", \"24\", \"28\", \"29\", \"30\"], \"y\": [0.15165489289359502, 0.17349652299884563, null, null, 0.15738164792252865, 0.137180133698344, 0.16974422327131114, 0.1469786801240419, 0.14220474832117172, 0.17784695680271573, 0.1736215287651805, 0.17894896965039592]}, {\"marker\": {\"color\": \"rgb(107,142,35)\", \"size\": 10, \"symbol\": \"star-open\"}, \"mode\": \"markers\", \"name\": \"N Boise\", \"type\": \"scatter\", \"x\": [\"01\", \"02\", \"09\", \"12\", \"15\", \"18\", \"20\", \"21\", \"24\", \"28\", \"29\", \"30\"], \"y\": [0.145656367752847, 0.1612408256665887, 0.1420317233942273, null, 0.16109574586525038, null, 0.17787412154328736, 0.16726901640250372, 0.14264507157424516, 0.19853828488513336, 0.2055335128362257, 0.17505144588715482]}, {\"marker\": {\"color\": \"rgb(199,21,133)\", \"size\": 10, \"symbol\": \"bowtie-open\"}, \"mode\": \"markers\", \"name\": \"NE Boise\", \"type\": \"scatter\", \"x\": [\"01\", \"02\", \"09\", \"12\", \"15\", \"18\", \"20\", \"21\", \"24\", \"28\", \"29\", \"30\"], \"y\": [null, 0.03191236321354058, 0.026801700701855204, 0.023051537612660464, 0.028293160592311652, 0.0292609395367609, 0.031075738423994994, 0.024679015474990802, null, 0.02879025678327618, 0.03177779507990851, 0.03516555293840986]}, {\"marker\": {\"color\": \"rgb(47,79,79)\", \"size\": 10, \"symbol\": \"circle-cross-open\"}, \"mode\": \"markers\", \"name\": \"W Boise\", \"type\": \"scatter\", \"x\": [\"01\", \"02\", \"09\", \"12\", \"15\", \"18\", \"20\", \"21\", \"24\", \"28\", \"29\", \"30\"], \"y\": [0.29519365572993117, 0.3041224552947116, null, null, 0.27956926107036884, 0.2584170852150034, 0.30643595770377735, 0.27529543979832377, 0.230012120296597, 0.2837654108113943, 0.2796940753454775, 0.31661333459641633]}, {\"marker\": {\"color\": \"rgb(139,69,19)\", \"size\": 10, \"symbol\": \"triangle-nw-open\"}, \"mode\": \"markers\", \"name\": \"SW Boise M\", \"type\": \"scatter\", \"x\": [\"01\", \"02\", \"09\", \"12\", \"15\", \"18\", \"20\", \"21\", \"24\", \"28\", \"29\", \"30\"], \"y\": [0.15049477725201751, 0.19856284027239432, 0.16073074312857868, null, 0.15638595051238421, 0.14752572285659896, 0.1861129273013881, 0.16216757889364797, null, 0.14769627934107624, 0.1560994097741821, 0.18751736815498898]}, {\"marker\": {\"color\": \"rgb(255,140,0)\", \"size\": 10, \"symbol\": \"hourglass-open\"}, \"mode\": \"markers\", \"name\": \"W Boise-Meridian\", \"type\": \"scatter\", \"x\": [\"01\", \"02\", \"09\", \"12\", \"15\", \"18\", \"20\", \"21\", \"24\", \"28\", \"29\", \"30\"], \"y\": [0.17200006066382242, 0.19049261804528572, 0.16830060056017784, null, 0.1872732569357876, 0.16916967169793226, 0.19343563220282523, 0.1889606934053224, null, 0.1968176633576619, 0.19208204453708125, 0.2157300150527685]}, {\"marker\": {\"color\": \"rgb(128,0,128)\", \"size\": 10, \"symbol\": \"diamond-tall-open\"}, \"mode\": \"markers\", \"name\": \"SW Boise\", \"type\": \"scatter\", \"x\": [\"01\", \"02\", \"09\", \"12\", \"15\", \"18\", \"20\", \"21\", \"24\", \"28\", \"29\", \"30\"], \"y\": [0.22034541357687715, 0.21000208549537258, 0.1785701455640396, null, null, 0.1863149857239518, 0.2478309384542774, 0.19441386062227872, 0.16924723124041396, 0.19911579060140427, 0.1930659487749075, 0.21597646091763034]}, {\"line\": {\"color\": \"Black\", \"dash\": \"dot\", \"width\": 1}, \"mode\": \"lines\", \"name\": \">0.3 Moderate Linear Relationship\", \"type\": \"scatter\", \"x\": [\"01\", \"02\", \"09\", \"12\", \"15\", \"18\", \"20\", \"21\", \"24\", \"28\", \"29\", \"30\"], \"y\": [0.3, 0.3, 0.3, 0.3, 0.3, 0.3, 0.3, 0.3, 0.3, 0.3, 0.3, 0.3]}, {\"line\": {\"color\": \"Black\", \"dash\": \"dot\", \"width\": 1}, \"mode\": \"lines\", \"name\": \">0.7 Moderate Linear Relationship\", \"type\": \"scatter\", \"x\": [\"01\", \"02\", \"09\", \"12\", \"15\", \"18\", \"20\", \"21\", \"24\", \"28\", \"29\", \"30\"], \"y\": [0.7, 0.7, 0.7, 0.7, 0.7, 0.7, 0.7, 0.7, 0.7, 0.7, 0.7, 0.7]}],\n",
       "                        {\"template\": {\"data\": {\"bar\": [{\"error_x\": {\"color\": \"#2a3f5f\"}, \"error_y\": {\"color\": \"#2a3f5f\"}, \"marker\": {\"line\": {\"color\": \"#E5ECF6\", \"width\": 0.5}}, \"type\": \"bar\"}], \"barpolar\": [{\"marker\": {\"line\": {\"color\": \"#E5ECF6\", \"width\": 0.5}}, \"type\": \"barpolar\"}], \"carpet\": [{\"aaxis\": {\"endlinecolor\": \"#2a3f5f\", \"gridcolor\": \"white\", \"linecolor\": \"white\", \"minorgridcolor\": \"white\", \"startlinecolor\": \"#2a3f5f\"}, \"baxis\": {\"endlinecolor\": \"#2a3f5f\", \"gridcolor\": \"white\", \"linecolor\": \"white\", \"minorgridcolor\": \"white\", \"startlinecolor\": \"#2a3f5f\"}, \"type\": \"carpet\"}], \"choropleth\": [{\"colorbar\": {\"outlinewidth\": 0, \"ticks\": \"\"}, \"type\": \"choropleth\"}], \"contour\": [{\"colorbar\": {\"outlinewidth\": 0, \"ticks\": \"\"}, \"colorscale\": [[0.0, \"#0d0887\"], [0.1111111111111111, \"#46039f\"], [0.2222222222222222, \"#7201a8\"], [0.3333333333333333, \"#9c179e\"], [0.4444444444444444, \"#bd3786\"], [0.5555555555555556, \"#d8576b\"], [0.6666666666666666, \"#ed7953\"], [0.7777777777777778, \"#fb9f3a\"], [0.8888888888888888, \"#fdca26\"], [1.0, \"#f0f921\"]], \"type\": \"contour\"}], \"contourcarpet\": [{\"colorbar\": {\"outlinewidth\": 0, \"ticks\": \"\"}, \"type\": \"contourcarpet\"}], \"heatmap\": [{\"colorbar\": {\"outlinewidth\": 0, \"ticks\": \"\"}, \"colorscale\": [[0.0, \"#0d0887\"], [0.1111111111111111, \"#46039f\"], [0.2222222222222222, \"#7201a8\"], [0.3333333333333333, \"#9c179e\"], [0.4444444444444444, \"#bd3786\"], [0.5555555555555556, \"#d8576b\"], [0.6666666666666666, \"#ed7953\"], [0.7777777777777778, \"#fb9f3a\"], [0.8888888888888888, \"#fdca26\"], [1.0, \"#f0f921\"]], \"type\": \"heatmap\"}], \"heatmapgl\": [{\"colorbar\": {\"outlinewidth\": 0, \"ticks\": \"\"}, \"colorscale\": [[0.0, \"#0d0887\"], [0.1111111111111111, \"#46039f\"], [0.2222222222222222, \"#7201a8\"], [0.3333333333333333, \"#9c179e\"], [0.4444444444444444, \"#bd3786\"], [0.5555555555555556, \"#d8576b\"], [0.6666666666666666, \"#ed7953\"], [0.7777777777777778, \"#fb9f3a\"], [0.8888888888888888, \"#fdca26\"], [1.0, \"#f0f921\"]], \"type\": \"heatmapgl\"}], \"histogram\": [{\"marker\": {\"colorbar\": {\"outlinewidth\": 0, \"ticks\": \"\"}}, \"type\": \"histogram\"}], \"histogram2d\": [{\"colorbar\": {\"outlinewidth\": 0, \"ticks\": \"\"}, \"colorscale\": [[0.0, \"#0d0887\"], [0.1111111111111111, \"#46039f\"], [0.2222222222222222, \"#7201a8\"], [0.3333333333333333, \"#9c179e\"], [0.4444444444444444, \"#bd3786\"], [0.5555555555555556, \"#d8576b\"], [0.6666666666666666, \"#ed7953\"], [0.7777777777777778, \"#fb9f3a\"], [0.8888888888888888, \"#fdca26\"], [1.0, \"#f0f921\"]], \"type\": \"histogram2d\"}], \"histogram2dcontour\": [{\"colorbar\": {\"outlinewidth\": 0, \"ticks\": \"\"}, \"colorscale\": [[0.0, \"#0d0887\"], [0.1111111111111111, \"#46039f\"], [0.2222222222222222, \"#7201a8\"], [0.3333333333333333, \"#9c179e\"], [0.4444444444444444, \"#bd3786\"], [0.5555555555555556, \"#d8576b\"], [0.6666666666666666, \"#ed7953\"], [0.7777777777777778, \"#fb9f3a\"], [0.8888888888888888, \"#fdca26\"], [1.0, \"#f0f921\"]], \"type\": \"histogram2dcontour\"}], \"mesh3d\": [{\"colorbar\": {\"outlinewidth\": 0, \"ticks\": \"\"}, \"type\": \"mesh3d\"}], \"parcoords\": [{\"line\": {\"colorbar\": {\"outlinewidth\": 0, \"ticks\": \"\"}}, \"type\": \"parcoords\"}], \"scatter\": [{\"marker\": {\"colorbar\": {\"outlinewidth\": 0, \"ticks\": \"\"}}, \"type\": \"scatter\"}], \"scatter3d\": [{\"line\": {\"colorbar\": {\"outlinewidth\": 0, \"ticks\": \"\"}}, \"marker\": {\"colorbar\": {\"outlinewidth\": 0, \"ticks\": \"\"}}, \"type\": \"scatter3d\"}], \"scattercarpet\": [{\"marker\": {\"colorbar\": {\"outlinewidth\": 0, \"ticks\": \"\"}}, \"type\": \"scattercarpet\"}], \"scattergeo\": [{\"marker\": {\"colorbar\": {\"outlinewidth\": 0, \"ticks\": \"\"}}, \"type\": \"scattergeo\"}], \"scattergl\": [{\"marker\": {\"colorbar\": {\"outlinewidth\": 0, \"ticks\": \"\"}}, \"type\": \"scattergl\"}], \"scattermapbox\": [{\"marker\": {\"colorbar\": {\"outlinewidth\": 0, \"ticks\": \"\"}}, \"type\": \"scattermapbox\"}], \"scatterpolar\": [{\"marker\": {\"colorbar\": {\"outlinewidth\": 0, \"ticks\": \"\"}}, \"type\": \"scatterpolar\"}], \"scatterpolargl\": [{\"marker\": {\"colorbar\": {\"outlinewidth\": 0, \"ticks\": \"\"}}, \"type\": \"scatterpolargl\"}], \"scatterternary\": [{\"marker\": {\"colorbar\": {\"outlinewidth\": 0, \"ticks\": \"\"}}, \"type\": \"scatterternary\"}], \"surface\": [{\"colorbar\": {\"outlinewidth\": 0, \"ticks\": \"\"}, \"colorscale\": [[0.0, \"#0d0887\"], [0.1111111111111111, \"#46039f\"], [0.2222222222222222, \"#7201a8\"], [0.3333333333333333, \"#9c179e\"], [0.4444444444444444, \"#bd3786\"], [0.5555555555555556, \"#d8576b\"], [0.6666666666666666, \"#ed7953\"], [0.7777777777777778, \"#fb9f3a\"], [0.8888888888888888, \"#fdca26\"], [1.0, \"#f0f921\"]], \"type\": \"surface\"}], \"table\": [{\"cells\": {\"fill\": {\"color\": \"#EBF0F8\"}, \"line\": {\"color\": \"white\"}}, \"header\": {\"fill\": {\"color\": \"#C8D4E3\"}, \"line\": {\"color\": \"white\"}}, \"type\": \"table\"}]}, \"layout\": {\"annotationdefaults\": {\"arrowcolor\": \"#2a3f5f\", \"arrowhead\": 0, \"arrowwidth\": 1}, \"colorscale\": {\"diverging\": [[0, \"#8e0152\"], [0.1, \"#c51b7d\"], [0.2, \"#de77ae\"], [0.3, \"#f1b6da\"], [0.4, \"#fde0ef\"], [0.5, \"#f7f7f7\"], [0.6, \"#e6f5d0\"], [0.7, \"#b8e186\"], [0.8, \"#7fbc41\"], [0.9, \"#4d9221\"], [1, \"#276419\"]], \"sequential\": [[0.0, \"#0d0887\"], [0.1111111111111111, \"#46039f\"], [0.2222222222222222, \"#7201a8\"], [0.3333333333333333, \"#9c179e\"], [0.4444444444444444, \"#bd3786\"], [0.5555555555555556, \"#d8576b\"], [0.6666666666666666, \"#ed7953\"], [0.7777777777777778, \"#fb9f3a\"], [0.8888888888888888, \"#fdca26\"], [1.0, \"#f0f921\"]], \"sequentialminus\": [[0.0, \"#0d0887\"], [0.1111111111111111, \"#46039f\"], [0.2222222222222222, \"#7201a8\"], [0.3333333333333333, \"#9c179e\"], [0.4444444444444444, \"#bd3786\"], [0.5555555555555556, \"#d8576b\"], [0.6666666666666666, \"#ed7953\"], [0.7777777777777778, \"#fb9f3a\"], [0.8888888888888888, \"#fdca26\"], [1.0, \"#f0f921\"]]}, \"colorway\": [\"#636efa\", \"#EF553B\", \"#00cc96\", \"#ab63fa\", \"#FFA15A\", \"#19d3f3\", \"#FF6692\", \"#B6E880\", \"#FF97FF\", \"#FECB52\"], \"font\": {\"color\": \"#2a3f5f\"}, \"geo\": {\"bgcolor\": \"white\", \"lakecolor\": \"white\", \"landcolor\": \"#E5ECF6\", \"showlakes\": true, \"showland\": true, \"subunitcolor\": \"white\"}, \"hoverlabel\": {\"align\": \"left\"}, \"hovermode\": \"closest\", \"mapbox\": {\"style\": \"light\"}, \"paper_bgcolor\": \"white\", \"plot_bgcolor\": \"#E5ECF6\", \"polar\": {\"angularaxis\": {\"gridcolor\": \"white\", \"linecolor\": \"white\", \"ticks\": \"\"}, \"bgcolor\": \"#E5ECF6\", \"radialaxis\": {\"gridcolor\": \"white\", \"linecolor\": \"white\", \"ticks\": \"\"}}, \"scene\": {\"xaxis\": {\"backgroundcolor\": \"#E5ECF6\", \"gridcolor\": \"white\", \"gridwidth\": 2, \"linecolor\": \"white\", \"showbackground\": true, \"ticks\": \"\", \"zerolinecolor\": \"white\"}, \"yaxis\": {\"backgroundcolor\": \"#E5ECF6\", \"gridcolor\": \"white\", \"gridwidth\": 2, \"linecolor\": \"white\", \"showbackground\": true, \"ticks\": \"\", \"zerolinecolor\": \"white\"}, \"zaxis\": {\"backgroundcolor\": \"#E5ECF6\", \"gridcolor\": \"white\", \"gridwidth\": 2, \"linecolor\": \"white\", \"showbackground\": true, \"ticks\": \"\", \"zerolinecolor\": \"white\"}}, \"shapedefaults\": {\"line\": {\"color\": \"#2a3f5f\"}}, \"ternary\": {\"aaxis\": {\"gridcolor\": \"white\", \"linecolor\": \"white\", \"ticks\": \"\"}, \"baxis\": {\"gridcolor\": \"white\", \"linecolor\": \"white\", \"ticks\": \"\"}, \"bgcolor\": \"#E5ECF6\", \"caxis\": {\"gridcolor\": \"white\", \"linecolor\": \"white\", \"ticks\": \"\"}}, \"title\": {\"x\": 0.05}, \"xaxis\": {\"automargin\": true, \"gridcolor\": \"white\", \"linecolor\": \"white\", \"ticks\": \"\", \"zerolinecolor\": \"white\", \"zerolinewidth\": 2}, \"yaxis\": {\"automargin\": true, \"gridcolor\": \"white\", \"linecolor\": \"white\", \"ticks\": \"\", \"zerolinecolor\": \"white\", \"zerolinewidth\": 2}}}, \"title\": {\"font\": {\"family\": \"Times New Roman\"}, \"text\": \"<b>Correlation Coefficients for the MLS Areas of Boise<b>\", \"x\": 0.5, \"xref\": \"paper\"}, \"xaxis\": {\"title\": {\"font\": {\"family\": \"Times New Roman\", \"size\": 16}, \"text\": \"<b>Feature Key<b>\"}, \"type\": \"category\"}, \"yaxis\": {\"title\": {\"font\": {\"family\": \"Times New Roman\", \"size\": 16}, \"text\": \"<b>Correlation Coefficient<b>\"}}},\n",
       "                        {\"responsive\": true}\n",
       "                    ).then(function(){\n",
       "                            \n",
       "var gd = document.getElementById('3039a960-e311-43fb-b574-d0a384d6bfd0');\n",
       "var x = new MutationObserver(function (mutations, observer) {{\n",
       "        var display = window.getComputedStyle(gd).display;\n",
       "        if (!display || display === 'none') {{\n",
       "            console.log([gd, 'removed!']);\n",
       "            Plotly.purge(gd);\n",
       "            observer.disconnect();\n",
       "        }}\n",
       "}});\n",
       "\n",
       "// Listen for the removal of the full notebook cells\n",
       "var notebookContainer = gd.closest('#notebook-container');\n",
       "if (notebookContainer) {{\n",
       "    x.observe(notebookContainer, {childList: true});\n",
       "}}\n",
       "\n",
       "// Listen for the clearing of the current output cell\n",
       "var outputEl = gd.closest('.output');\n",
       "if (outputEl) {{\n",
       "    x.observe(outputEl, {childList: true});\n",
       "}}\n",
       "\n",
       "                        })\n",
       "                };\n",
       "                });\n",
       "            </script>\n",
       "        </div>"
      ]
     },
     "metadata": {},
     "output_type": "display_data"
    }
   ],
   "source": [
    "df = pd.read_pickle(os.path.join(path,'a-Coeff-compare.pkl'))\n",
    "\n",
    "# drops rows up to TAV_Ch, below TAV_Ch = 0 and TAV_Ch = 1 \n",
    "df = df.iloc[10:]\n",
    "\n",
    "# Needed to make a key for ease a readability and to make the reference line for moderate linear \n",
    "# relationship\n",
    "df= df.rename(columns = {'index' : 'Feature_Name'})\n",
    "df['index'] = ['00','01','02','03','04','05','06','07','08','09','10','11','12','13','14',\n",
    "             '15','16','17','18','19','20','21','22','23','24','25','26','27','28','29','30']\n",
    "df['mod_line'] = .3\n",
    "df['high_line'] = .7\n",
    "\n",
    "\n",
    "#this will drop rows that have less than 4 values (feature name, key, ref line, & @ least 1 value)\n",
    "df = df.dropna(thresh = 5)\n",
    "\n",
    "\n",
    "area_fig = go.Figure()\n",
    "\n",
    "area_fig.add_trace(go.Scatter(x= df['index'], y=df['NW_Boise_GC'],\n",
    "                    mode='markers',\n",
    "                    marker_color = 'rgb(220,20,60)',\n",
    "                    marker=dict(size= 10, symbol = \"square-open\"),          \n",
    "                    name='NW Boise'))\n",
    "\n",
    "area_fig.add_trace(go.Scatter(x= df['index'], y=df['B_Bench'],\n",
    "                    mode='markers',\n",
    "                    marker_color = 'rgb(0,128,128)',\n",
    "                    marker=dict(size= 10, symbol = \"star-diamond-open\"), \n",
    "                    name='Boise Bench'))\n",
    "\n",
    "area_fig.add_trace(go.Scatter(x= df['index'], y=df['SE_Boise'],\n",
    "                    mode='markers',\n",
    "                    marker_color = 'rgb(0,0,128)',\n",
    "                    marker=dict(size= 10, symbol = \"pentagon-open\"),          \n",
    "                    name='SE Boise'))\n",
    "\n",
    "area_fig.add_trace(go.Scatter(x= df['index'], y=df['N_Boise'],\n",
    "                    mode='markers',\n",
    "                    marker_color = 'rgb(107,142,35)',\n",
    "                    marker=dict(size= 10, symbol = \"star-open\"),          \n",
    "                    name='N Boise'))\n",
    "\n",
    "area_fig.add_trace(go.Scatter(x= df['index'], y=df['NE_Boise'],\n",
    "                    mode='markers',\n",
    "                    marker_color = 'rgb(199,21,133)',\n",
    "                    marker=dict(size= 10, symbol = \"bowtie-open\"),           \n",
    "                    name='NE Boise'))\n",
    "\n",
    "area_fig.add_trace(go.Scatter(x= df['index'], y=df['W_Boise'],\n",
    "                    mode='markers',\n",
    "                    marker_color = 'rgb(47,79,79)',\n",
    "                    marker=dict(size= 10, symbol = \"circle-cross-open\"),          \n",
    "                    name='W Boise'))\n",
    "\n",
    "area_fig.add_trace(go.Scatter(x= df['index'], y=df['SW_Boise_M'],\n",
    "                    mode='markers',\n",
    "                    marker_color = 'rgb(139,69,19)',\n",
    "                    marker=dict(size= 10, symbol = \"triangle-nw-open\"),          \n",
    "                    name='SW Boise M'))\n",
    "\n",
    "area_fig.add_trace(go.Scatter(x= df['index'], y=df['W_Boise_M'],\n",
    "                    mode='markers',\n",
    "                    marker_color = 'rgb(255,140,0)',\n",
    "                    marker=dict(size= 10, symbol = \"hourglass-open\"),          \n",
    "                    name='W Boise-Meridian'))\n",
    "\n",
    "area_fig.add_trace(go.Scatter(x= df['index'], y=df['SW_Boise'],\n",
    "                    mode='markers',\n",
    "                    marker_color = 'rgb(128,0,128)',\n",
    "                    marker=dict(size= 10, symbol = \"diamond-tall-open\"),           \n",
    "                    name='SW Boise'))\n",
    "\n",
    "\n",
    "area_fig.add_trace(go.Scatter(x= df['index'] , y=df['mod_line'],\n",
    "                    mode = 'lines',          \n",
    "                    line = dict(color='Black', width=1, dash='dot'),          \n",
    "                    name='>0.3 Moderate Linear Relationship'))\n",
    "\n",
    "area_fig.add_trace(go.Scatter(x= df['index'] , y=df['high_line'],\n",
    "                    mode = 'lines',          \n",
    "                    line = dict(color='Black', width=1, dash='dot'),          \n",
    "                    name='>0.7 Moderate Linear Relationship'))\n",
    "\n",
    "\n",
    "area_fig.update_layout(\n",
    "    title=go.layout.Title(\n",
    "        text=\"<b>Correlation Coefficients for the MLS Areas of Boise<b>\",\n",
    "        font = dict( \n",
    "            family = 'Times New Roman'),\n",
    "        xref=\"paper\",\n",
    "        x=.5\n",
    "    ),\n",
    "    yaxis=go.layout.YAxis(\n",
    "        title=go.layout.yaxis.Title(\n",
    "            text=\"<b>Correlation Coefficient<b>\",\n",
    "            font=dict(\n",
    "                family=\"Times New Roman\",\n",
    "                size=16,\n",
    "#                color=\"#7f7f7f\"\n",
    "            )\n",
    "        )\n",
    "    ),\n",
    "    xaxis=go.layout.XAxis(\n",
    "        type = 'category',\n",
    "        title=go.layout.xaxis.Title(\n",
    "            text=\"<b>Feature Key<b>\",\n",
    "            font=dict(\n",
    "                family=\"Times New Roman\",\n",
    "                size=16,\n",
    "#                color=\"#7f7f7f\"\n",
    "            )\n",
    "        )\n",
    "    ))\n",
    "\n",
    "\n",
    "area_fig.write_image(os.path.join(im_path,\"Area_fig.jpg\"))\n",
    "area_fig.show()\n",
    "\n"
   ]
  },
  {
   "cell_type": "code",
   "execution_count": 31,
   "metadata": {},
   "outputs": [
    {
     "data": {
      "application/vnd.plotly.v1+json": {
       "config": {
        "plotlyServerURL": "https://plot.ly"
       },
       "data": [
        {
         "marker": {
          "color": "rgb(220,20,60)",
          "size": 10,
          "symbol": "square-open"
         },
         "mode": "markers",
         "name": "NW Boise",
         "type": "scatter",
         "x": [
          "01",
          "02",
          "09",
          "15",
          "18",
          "20",
          "21",
          "24",
          "28",
          "29",
          "30"
         ],
         "y": [
          0.5300325139544231,
          0.4945555777813017,
          0.3946457291008396,
          0.4920475449708675,
          0.4133631458122229,
          0.48778593589526487,
          0.4724721851866873,
          null,
          0.5103380120824045,
          0.5074199547418725,
          0.5307803240109196
         ]
        },
        {
         "marker": {
          "color": "rgb(0,128,128)",
          "size": 10,
          "symbol": "star-diamond-open"
         },
         "mode": "markers",
         "name": "Boise Bench",
         "type": "scatter",
         "x": [
          "01",
          "02",
          "09",
          "15",
          "18",
          "20",
          "21",
          "24",
          "28",
          "29",
          "30"
         ],
         "y": [
          0.5108173783528107,
          0.4742448465820396,
          0.4233934535846898,
          0.4674138689577045,
          0.4477511160212654,
          0.5434103789115549,
          0.5052956688479284,
          null,
          0.4933484563366476,
          0.5288930678669903,
          0.54880355918403
         ]
        },
        {
         "marker": {
          "color": "rgb(0,0,128)",
          "size": 10,
          "symbol": "pentagon-open"
         },
         "mode": "markers",
         "name": "SE Boise",
         "type": "scatter",
         "x": [
          "01",
          "02",
          "09",
          "15",
          "18",
          "20",
          "21",
          "24",
          "28",
          "29",
          "30"
         ],
         "y": [
          0.5035655467045841,
          0.5704850942860251,
          null,
          0.4851339795269015,
          0.45074170989415074,
          0.5484694543088593,
          0.49465701367712267,
          0.4789233319300508,
          0.5621604620719659,
          0.5752934166013927,
          0.565868320293583
         ]
        },
        {
         "marker": {
          "color": "rgb(107,142,35)",
          "size": 10,
          "symbol": "star-open"
         },
         "mode": "markers",
         "name": "N Boise",
         "type": "scatter",
         "x": [
          "01",
          "02",
          "09",
          "15",
          "18",
          "20",
          "21",
          "24",
          "28",
          "29",
          "30"
         ],
         "y": [
          0.38752387432816676,
          0.4305092196068087,
          0.3459507561439036,
          0.39501363319838734,
          null,
          0.4596772604393338,
          0.421429873967892,
          0.38235849964904334,
          0.5098132341830454,
          0.5472747280091758,
          0.4220472697076421
         ]
        },
        {
         "marker": {
          "color": "rgb(199,21,133)",
          "size": 10,
          "symbol": "bowtie-open"
         },
         "mode": "markers",
         "name": "NE Boise",
         "type": "scatter",
         "x": [
          "01",
          "02",
          "09",
          "15",
          "18",
          "20",
          "21",
          "24",
          "28",
          "29",
          "30"
         ],
         "y": [
          0.4144535495195782,
          0.4207250545418269,
          0.40046910270603836,
          0.4152990412899242,
          0.39696337390705483,
          0.4977526843624972,
          0.4715401041661836,
          null,
          0.5112130025035032,
          0.5536842549657992,
          0.5041232743279189
         ]
        },
        {
         "marker": {
          "color": "rgb(47,79,79)",
          "size": 10,
          "symbol": "circle-cross-open"
         },
         "mode": "markers",
         "name": "W Boise",
         "type": "scatter",
         "x": [
          "01",
          "02",
          "09",
          "15",
          "18",
          "20",
          "21",
          "24",
          "28",
          "29",
          "30"
         ],
         "y": [
          0.5225048559819426,
          0.5410953509590867,
          null,
          0.5066992780926293,
          0.46246183124148044,
          0.548690364987205,
          0.4939329661772781,
          0.40041715825607616,
          0.5201800709727817,
          0.53602322988555,
          0.5590553825714649
         ]
        },
        {
         "marker": {
          "color": "rgb(139,69,19)",
          "size": 10,
          "symbol": "triangle-nw-open"
         },
         "mode": "markers",
         "name": "SW Boise M",
         "type": "scatter",
         "x": [
          "01",
          "02",
          "09",
          "15",
          "18",
          "20",
          "21",
          "24",
          "28",
          "29",
          "30"
         ],
         "y": [
          0.5464461215686315,
          0.5674808590779625,
          0.5558564894595054,
          0.5433341902273683,
          0.5472943646867736,
          0.5965222742281505,
          0.561116637021312,
          null,
          0.5287194953409947,
          0.5698350309395956,
          0.6793664046483655
         ]
        },
        {
         "marker": {
          "color": "rgb(255,140,0)",
          "size": 10,
          "symbol": "hourglass-open"
         },
         "mode": "markers",
         "name": "W Boise-Meridian",
         "type": "scatter",
         "x": [
          "01",
          "02",
          "09",
          "15",
          "18",
          "20",
          "21",
          "24",
          "28",
          "29",
          "30"
         ],
         "y": [
          0.5214830832831933,
          0.5572383759206685,
          0.49073448916891216,
          0.5216903876269099,
          0.5186347247465252,
          0.571443405965982,
          0.5524805283888851,
          null,
          0.5255863278900152,
          0.5541431348691345,
          0.6298035920811027
         ]
        },
        {
         "marker": {
          "color": "rgb(128,0,128)",
          "size": 10,
          "symbol": "diamond-tall-open"
         },
         "mode": "markers",
         "name": "SW Boise",
         "type": "scatter",
         "x": [
          "01",
          "02",
          "09",
          "15",
          "18",
          "20",
          "21",
          "24",
          "28",
          "29",
          "30"
         ],
         "y": [
          0.6271024319584024,
          0.5943987848074888,
          0.5843664399910544,
          0.5401693475323198,
          0.6046340434654628,
          0.6899301873577057,
          0.5831836188412374,
          null,
          0.5805707154974059,
          0.6158732690319537,
          0.7253816902695363
         ]
        },
        {
         "line": {
          "color": "Black",
          "dash": "dot",
          "width": 1
         },
         "mode": "lines",
         "name": ">0.3 Moderate Linear Relationship",
         "type": "scatter",
         "x": [
          "01",
          "02",
          "09",
          "15",
          "18",
          "20",
          "21",
          "24",
          "28",
          "29",
          "30"
         ],
         "y": [
          0.3,
          0.3,
          0.3,
          0.3,
          0.3,
          0.3,
          0.3,
          0.3,
          0.3,
          0.3,
          0.3
         ]
        },
        {
         "line": {
          "color": "Black",
          "dash": "dot",
          "width": 1
         },
         "mode": "lines",
         "name": ">0.7 Moderate Linear Relationship",
         "type": "scatter",
         "x": [
          "01",
          "02",
          "09",
          "15",
          "18",
          "20",
          "21",
          "24",
          "28",
          "29",
          "30"
         ],
         "y": [
          0.7,
          0.7,
          0.7,
          0.7,
          0.7,
          0.7,
          0.7,
          0.7,
          0.7,
          0.7,
          0.7
         ]
        }
       ],
       "layout": {
        "template": {
         "data": {
          "bar": [
           {
            "error_x": {
             "color": "#2a3f5f"
            },
            "error_y": {
             "color": "#2a3f5f"
            },
            "marker": {
             "line": {
              "color": "#E5ECF6",
              "width": 0.5
             }
            },
            "type": "bar"
           }
          ],
          "barpolar": [
           {
            "marker": {
             "line": {
              "color": "#E5ECF6",
              "width": 0.5
             }
            },
            "type": "barpolar"
           }
          ],
          "carpet": [
           {
            "aaxis": {
             "endlinecolor": "#2a3f5f",
             "gridcolor": "white",
             "linecolor": "white",
             "minorgridcolor": "white",
             "startlinecolor": "#2a3f5f"
            },
            "baxis": {
             "endlinecolor": "#2a3f5f",
             "gridcolor": "white",
             "linecolor": "white",
             "minorgridcolor": "white",
             "startlinecolor": "#2a3f5f"
            },
            "type": "carpet"
           }
          ],
          "choropleth": [
           {
            "colorbar": {
             "outlinewidth": 0,
             "ticks": ""
            },
            "type": "choropleth"
           }
          ],
          "contour": [
           {
            "colorbar": {
             "outlinewidth": 0,
             "ticks": ""
            },
            "colorscale": [
             [
              0,
              "#0d0887"
             ],
             [
              0.1111111111111111,
              "#46039f"
             ],
             [
              0.2222222222222222,
              "#7201a8"
             ],
             [
              0.3333333333333333,
              "#9c179e"
             ],
             [
              0.4444444444444444,
              "#bd3786"
             ],
             [
              0.5555555555555556,
              "#d8576b"
             ],
             [
              0.6666666666666666,
              "#ed7953"
             ],
             [
              0.7777777777777778,
              "#fb9f3a"
             ],
             [
              0.8888888888888888,
              "#fdca26"
             ],
             [
              1,
              "#f0f921"
             ]
            ],
            "type": "contour"
           }
          ],
          "contourcarpet": [
           {
            "colorbar": {
             "outlinewidth": 0,
             "ticks": ""
            },
            "type": "contourcarpet"
           }
          ],
          "heatmap": [
           {
            "colorbar": {
             "outlinewidth": 0,
             "ticks": ""
            },
            "colorscale": [
             [
              0,
              "#0d0887"
             ],
             [
              0.1111111111111111,
              "#46039f"
             ],
             [
              0.2222222222222222,
              "#7201a8"
             ],
             [
              0.3333333333333333,
              "#9c179e"
             ],
             [
              0.4444444444444444,
              "#bd3786"
             ],
             [
              0.5555555555555556,
              "#d8576b"
             ],
             [
              0.6666666666666666,
              "#ed7953"
             ],
             [
              0.7777777777777778,
              "#fb9f3a"
             ],
             [
              0.8888888888888888,
              "#fdca26"
             ],
             [
              1,
              "#f0f921"
             ]
            ],
            "type": "heatmap"
           }
          ],
          "heatmapgl": [
           {
            "colorbar": {
             "outlinewidth": 0,
             "ticks": ""
            },
            "colorscale": [
             [
              0,
              "#0d0887"
             ],
             [
              0.1111111111111111,
              "#46039f"
             ],
             [
              0.2222222222222222,
              "#7201a8"
             ],
             [
              0.3333333333333333,
              "#9c179e"
             ],
             [
              0.4444444444444444,
              "#bd3786"
             ],
             [
              0.5555555555555556,
              "#d8576b"
             ],
             [
              0.6666666666666666,
              "#ed7953"
             ],
             [
              0.7777777777777778,
              "#fb9f3a"
             ],
             [
              0.8888888888888888,
              "#fdca26"
             ],
             [
              1,
              "#f0f921"
             ]
            ],
            "type": "heatmapgl"
           }
          ],
          "histogram": [
           {
            "marker": {
             "colorbar": {
              "outlinewidth": 0,
              "ticks": ""
             }
            },
            "type": "histogram"
           }
          ],
          "histogram2d": [
           {
            "colorbar": {
             "outlinewidth": 0,
             "ticks": ""
            },
            "colorscale": [
             [
              0,
              "#0d0887"
             ],
             [
              0.1111111111111111,
              "#46039f"
             ],
             [
              0.2222222222222222,
              "#7201a8"
             ],
             [
              0.3333333333333333,
              "#9c179e"
             ],
             [
              0.4444444444444444,
              "#bd3786"
             ],
             [
              0.5555555555555556,
              "#d8576b"
             ],
             [
              0.6666666666666666,
              "#ed7953"
             ],
             [
              0.7777777777777778,
              "#fb9f3a"
             ],
             [
              0.8888888888888888,
              "#fdca26"
             ],
             [
              1,
              "#f0f921"
             ]
            ],
            "type": "histogram2d"
           }
          ],
          "histogram2dcontour": [
           {
            "colorbar": {
             "outlinewidth": 0,
             "ticks": ""
            },
            "colorscale": [
             [
              0,
              "#0d0887"
             ],
             [
              0.1111111111111111,
              "#46039f"
             ],
             [
              0.2222222222222222,
              "#7201a8"
             ],
             [
              0.3333333333333333,
              "#9c179e"
             ],
             [
              0.4444444444444444,
              "#bd3786"
             ],
             [
              0.5555555555555556,
              "#d8576b"
             ],
             [
              0.6666666666666666,
              "#ed7953"
             ],
             [
              0.7777777777777778,
              "#fb9f3a"
             ],
             [
              0.8888888888888888,
              "#fdca26"
             ],
             [
              1,
              "#f0f921"
             ]
            ],
            "type": "histogram2dcontour"
           }
          ],
          "mesh3d": [
           {
            "colorbar": {
             "outlinewidth": 0,
             "ticks": ""
            },
            "type": "mesh3d"
           }
          ],
          "parcoords": [
           {
            "line": {
             "colorbar": {
              "outlinewidth": 0,
              "ticks": ""
             }
            },
            "type": "parcoords"
           }
          ],
          "scatter": [
           {
            "marker": {
             "colorbar": {
              "outlinewidth": 0,
              "ticks": ""
             }
            },
            "type": "scatter"
           }
          ],
          "scatter3d": [
           {
            "line": {
             "colorbar": {
              "outlinewidth": 0,
              "ticks": ""
             }
            },
            "marker": {
             "colorbar": {
              "outlinewidth": 0,
              "ticks": ""
             }
            },
            "type": "scatter3d"
           }
          ],
          "scattercarpet": [
           {
            "marker": {
             "colorbar": {
              "outlinewidth": 0,
              "ticks": ""
             }
            },
            "type": "scattercarpet"
           }
          ],
          "scattergeo": [
           {
            "marker": {
             "colorbar": {
              "outlinewidth": 0,
              "ticks": ""
             }
            },
            "type": "scattergeo"
           }
          ],
          "scattergl": [
           {
            "marker": {
             "colorbar": {
              "outlinewidth": 0,
              "ticks": ""
             }
            },
            "type": "scattergl"
           }
          ],
          "scattermapbox": [
           {
            "marker": {
             "colorbar": {
              "outlinewidth": 0,
              "ticks": ""
             }
            },
            "type": "scattermapbox"
           }
          ],
          "scatterpolar": [
           {
            "marker": {
             "colorbar": {
              "outlinewidth": 0,
              "ticks": ""
             }
            },
            "type": "scatterpolar"
           }
          ],
          "scatterpolargl": [
           {
            "marker": {
             "colorbar": {
              "outlinewidth": 0,
              "ticks": ""
             }
            },
            "type": "scatterpolargl"
           }
          ],
          "scatterternary": [
           {
            "marker": {
             "colorbar": {
              "outlinewidth": 0,
              "ticks": ""
             }
            },
            "type": "scatterternary"
           }
          ],
          "surface": [
           {
            "colorbar": {
             "outlinewidth": 0,
             "ticks": ""
            },
            "colorscale": [
             [
              0,
              "#0d0887"
             ],
             [
              0.1111111111111111,
              "#46039f"
             ],
             [
              0.2222222222222222,
              "#7201a8"
             ],
             [
              0.3333333333333333,
              "#9c179e"
             ],
             [
              0.4444444444444444,
              "#bd3786"
             ],
             [
              0.5555555555555556,
              "#d8576b"
             ],
             [
              0.6666666666666666,
              "#ed7953"
             ],
             [
              0.7777777777777778,
              "#fb9f3a"
             ],
             [
              0.8888888888888888,
              "#fdca26"
             ],
             [
              1,
              "#f0f921"
             ]
            ],
            "type": "surface"
           }
          ],
          "table": [
           {
            "cells": {
             "fill": {
              "color": "#EBF0F8"
             },
             "line": {
              "color": "white"
             }
            },
            "header": {
             "fill": {
              "color": "#C8D4E3"
             },
             "line": {
              "color": "white"
             }
            },
            "type": "table"
           }
          ]
         },
         "layout": {
          "annotationdefaults": {
           "arrowcolor": "#2a3f5f",
           "arrowhead": 0,
           "arrowwidth": 1
          },
          "colorscale": {
           "diverging": [
            [
             0,
             "#8e0152"
            ],
            [
             0.1,
             "#c51b7d"
            ],
            [
             0.2,
             "#de77ae"
            ],
            [
             0.3,
             "#f1b6da"
            ],
            [
             0.4,
             "#fde0ef"
            ],
            [
             0.5,
             "#f7f7f7"
            ],
            [
             0.6,
             "#e6f5d0"
            ],
            [
             0.7,
             "#b8e186"
            ],
            [
             0.8,
             "#7fbc41"
            ],
            [
             0.9,
             "#4d9221"
            ],
            [
             1,
             "#276419"
            ]
           ],
           "sequential": [
            [
             0,
             "#0d0887"
            ],
            [
             0.1111111111111111,
             "#46039f"
            ],
            [
             0.2222222222222222,
             "#7201a8"
            ],
            [
             0.3333333333333333,
             "#9c179e"
            ],
            [
             0.4444444444444444,
             "#bd3786"
            ],
            [
             0.5555555555555556,
             "#d8576b"
            ],
            [
             0.6666666666666666,
             "#ed7953"
            ],
            [
             0.7777777777777778,
             "#fb9f3a"
            ],
            [
             0.8888888888888888,
             "#fdca26"
            ],
            [
             1,
             "#f0f921"
            ]
           ],
           "sequentialminus": [
            [
             0,
             "#0d0887"
            ],
            [
             0.1111111111111111,
             "#46039f"
            ],
            [
             0.2222222222222222,
             "#7201a8"
            ],
            [
             0.3333333333333333,
             "#9c179e"
            ],
            [
             0.4444444444444444,
             "#bd3786"
            ],
            [
             0.5555555555555556,
             "#d8576b"
            ],
            [
             0.6666666666666666,
             "#ed7953"
            ],
            [
             0.7777777777777778,
             "#fb9f3a"
            ],
            [
             0.8888888888888888,
             "#fdca26"
            ],
            [
             1,
             "#f0f921"
            ]
           ]
          },
          "colorway": [
           "#636efa",
           "#EF553B",
           "#00cc96",
           "#ab63fa",
           "#FFA15A",
           "#19d3f3",
           "#FF6692",
           "#B6E880",
           "#FF97FF",
           "#FECB52"
          ],
          "font": {
           "color": "#2a3f5f"
          },
          "geo": {
           "bgcolor": "white",
           "lakecolor": "white",
           "landcolor": "#E5ECF6",
           "showlakes": true,
           "showland": true,
           "subunitcolor": "white"
          },
          "hoverlabel": {
           "align": "left"
          },
          "hovermode": "closest",
          "mapbox": {
           "style": "light"
          },
          "paper_bgcolor": "white",
          "plot_bgcolor": "#E5ECF6",
          "polar": {
           "angularaxis": {
            "gridcolor": "white",
            "linecolor": "white",
            "ticks": ""
           },
           "bgcolor": "#E5ECF6",
           "radialaxis": {
            "gridcolor": "white",
            "linecolor": "white",
            "ticks": ""
           }
          },
          "scene": {
           "xaxis": {
            "backgroundcolor": "#E5ECF6",
            "gridcolor": "white",
            "gridwidth": 2,
            "linecolor": "white",
            "showbackground": true,
            "ticks": "",
            "zerolinecolor": "white"
           },
           "yaxis": {
            "backgroundcolor": "#E5ECF6",
            "gridcolor": "white",
            "gridwidth": 2,
            "linecolor": "white",
            "showbackground": true,
            "ticks": "",
            "zerolinecolor": "white"
           },
           "zaxis": {
            "backgroundcolor": "#E5ECF6",
            "gridcolor": "white",
            "gridwidth": 2,
            "linecolor": "white",
            "showbackground": true,
            "ticks": "",
            "zerolinecolor": "white"
           }
          },
          "shapedefaults": {
           "line": {
            "color": "#2a3f5f"
           }
          },
          "ternary": {
           "aaxis": {
            "gridcolor": "white",
            "linecolor": "white",
            "ticks": ""
           },
           "baxis": {
            "gridcolor": "white",
            "linecolor": "white",
            "ticks": ""
           },
           "bgcolor": "#E5ECF6",
           "caxis": {
            "gridcolor": "white",
            "linecolor": "white",
            "ticks": ""
           }
          },
          "title": {
           "x": 0.05
          },
          "xaxis": {
           "automargin": true,
           "gridcolor": "white",
           "linecolor": "white",
           "ticks": "",
           "zerolinecolor": "white",
           "zerolinewidth": 2
          },
          "yaxis": {
           "automargin": true,
           "gridcolor": "white",
           "linecolor": "white",
           "ticks": "",
           "zerolinecolor": "white",
           "zerolinewidth": 2
          }
         }
        },
        "title": {
         "font": {
          "family": "Times New Roman"
         },
         "text": "<b>Correlation Coefficients for the MLS Areas of Boise<b>",
         "x": 0.5,
         "xref": "paper"
        },
        "xaxis": {
         "title": {
          "font": {
           "family": "Times New Roman",
           "size": 16
          },
          "text": "<b>Feature Key<b>"
         },
         "type": "category"
        },
        "yaxis": {
         "title": {
          "font": {
           "family": "Times New Roman",
           "size": 16
          },
          "text": "<b>Correlation Coefficient<b>"
         }
        }
       }
      },
      "text/html": [
       "<div>\n",
       "        \n",
       "        \n",
       "            <div id=\"78b3c024-f7b5-49ec-b46c-7cde76a2ff8d\" class=\"plotly-graph-div\" style=\"height:525px; width:100%;\"></div>\n",
       "            <script type=\"text/javascript\">\n",
       "                require([\"plotly\"], function(Plotly) {\n",
       "                    window.PLOTLYENV=window.PLOTLYENV || {};\n",
       "                    \n",
       "                if (document.getElementById(\"78b3c024-f7b5-49ec-b46c-7cde76a2ff8d\")) {\n",
       "                    Plotly.newPlot(\n",
       "                        '78b3c024-f7b5-49ec-b46c-7cde76a2ff8d',\n",
       "                        [{\"marker\": {\"color\": \"rgb(220,20,60)\", \"size\": 10, \"symbol\": \"square-open\"}, \"mode\": \"markers\", \"name\": \"NW Boise\", \"type\": \"scatter\", \"x\": [\"01\", \"02\", \"09\", \"15\", \"18\", \"20\", \"21\", \"24\", \"28\", \"29\", \"30\"], \"y\": [0.5300325139544231, 0.4945555777813017, 0.3946457291008396, 0.4920475449708675, 0.4133631458122229, 0.48778593589526487, 0.4724721851866873, null, 0.5103380120824045, 0.5074199547418725, 0.5307803240109196]}, {\"marker\": {\"color\": \"rgb(0,128,128)\", \"size\": 10, \"symbol\": \"star-diamond-open\"}, \"mode\": \"markers\", \"name\": \"Boise Bench\", \"type\": \"scatter\", \"x\": [\"01\", \"02\", \"09\", \"15\", \"18\", \"20\", \"21\", \"24\", \"28\", \"29\", \"30\"], \"y\": [0.5108173783528107, 0.4742448465820396, 0.4233934535846898, 0.4674138689577045, 0.4477511160212654, 0.5434103789115549, 0.5052956688479284, null, 0.4933484563366476, 0.5288930678669903, 0.54880355918403]}, {\"marker\": {\"color\": \"rgb(0,0,128)\", \"size\": 10, \"symbol\": \"pentagon-open\"}, \"mode\": \"markers\", \"name\": \"SE Boise\", \"type\": \"scatter\", \"x\": [\"01\", \"02\", \"09\", \"15\", \"18\", \"20\", \"21\", \"24\", \"28\", \"29\", \"30\"], \"y\": [0.5035655467045841, 0.5704850942860251, null, 0.4851339795269015, 0.45074170989415074, 0.5484694543088593, 0.49465701367712267, 0.4789233319300508, 0.5621604620719659, 0.5752934166013927, 0.565868320293583]}, {\"marker\": {\"color\": \"rgb(107,142,35)\", \"size\": 10, \"symbol\": \"star-open\"}, \"mode\": \"markers\", \"name\": \"N Boise\", \"type\": \"scatter\", \"x\": [\"01\", \"02\", \"09\", \"15\", \"18\", \"20\", \"21\", \"24\", \"28\", \"29\", \"30\"], \"y\": [0.38752387432816676, 0.4305092196068087, 0.3459507561439036, 0.39501363319838734, null, 0.4596772604393338, 0.421429873967892, 0.38235849964904334, 0.5098132341830454, 0.5472747280091758, 0.4220472697076421]}, {\"marker\": {\"color\": \"rgb(199,21,133)\", \"size\": 10, \"symbol\": \"bowtie-open\"}, \"mode\": \"markers\", \"name\": \"NE Boise\", \"type\": \"scatter\", \"x\": [\"01\", \"02\", \"09\", \"15\", \"18\", \"20\", \"21\", \"24\", \"28\", \"29\", \"30\"], \"y\": [0.4144535495195782, 0.4207250545418269, 0.40046910270603836, 0.4152990412899242, 0.39696337390705483, 0.4977526843624972, 0.4715401041661836, null, 0.5112130025035032, 0.5536842549657992, 0.5041232743279189]}, {\"marker\": {\"color\": \"rgb(47,79,79)\", \"size\": 10, \"symbol\": \"circle-cross-open\"}, \"mode\": \"markers\", \"name\": \"W Boise\", \"type\": \"scatter\", \"x\": [\"01\", \"02\", \"09\", \"15\", \"18\", \"20\", \"21\", \"24\", \"28\", \"29\", \"30\"], \"y\": [0.5225048559819426, 0.5410953509590867, null, 0.5066992780926293, 0.46246183124148044, 0.548690364987205, 0.4939329661772781, 0.40041715825607616, 0.5201800709727817, 0.53602322988555, 0.5590553825714649]}, {\"marker\": {\"color\": \"rgb(139,69,19)\", \"size\": 10, \"symbol\": \"triangle-nw-open\"}, \"mode\": \"markers\", \"name\": \"SW Boise M\", \"type\": \"scatter\", \"x\": [\"01\", \"02\", \"09\", \"15\", \"18\", \"20\", \"21\", \"24\", \"28\", \"29\", \"30\"], \"y\": [0.5464461215686315, 0.5674808590779625, 0.5558564894595054, 0.5433341902273683, 0.5472943646867736, 0.5965222742281505, 0.561116637021312, null, 0.5287194953409947, 0.5698350309395956, 0.6793664046483655]}, {\"marker\": {\"color\": \"rgb(255,140,0)\", \"size\": 10, \"symbol\": \"hourglass-open\"}, \"mode\": \"markers\", \"name\": \"W Boise-Meridian\", \"type\": \"scatter\", \"x\": [\"01\", \"02\", \"09\", \"15\", \"18\", \"20\", \"21\", \"24\", \"28\", \"29\", \"30\"], \"y\": [0.5214830832831933, 0.5572383759206685, 0.49073448916891216, 0.5216903876269099, 0.5186347247465252, 0.571443405965982, 0.5524805283888851, null, 0.5255863278900152, 0.5541431348691345, 0.6298035920811027]}, {\"marker\": {\"color\": \"rgb(128,0,128)\", \"size\": 10, \"symbol\": \"diamond-tall-open\"}, \"mode\": \"markers\", \"name\": \"SW Boise\", \"type\": \"scatter\", \"x\": [\"01\", \"02\", \"09\", \"15\", \"18\", \"20\", \"21\", \"24\", \"28\", \"29\", \"30\"], \"y\": [0.6271024319584024, 0.5943987848074888, 0.5843664399910544, 0.5401693475323198, 0.6046340434654628, 0.6899301873577057, 0.5831836188412374, null, 0.5805707154974059, 0.6158732690319537, 0.7253816902695363]}, {\"line\": {\"color\": \"Black\", \"dash\": \"dot\", \"width\": 1}, \"mode\": \"lines\", \"name\": \">0.3 Moderate Linear Relationship\", \"type\": \"scatter\", \"x\": [\"01\", \"02\", \"09\", \"15\", \"18\", \"20\", \"21\", \"24\", \"28\", \"29\", \"30\"], \"y\": [0.3, 0.3, 0.3, 0.3, 0.3, 0.3, 0.3, 0.3, 0.3, 0.3, 0.3]}, {\"line\": {\"color\": \"Black\", \"dash\": \"dot\", \"width\": 1}, \"mode\": \"lines\", \"name\": \">0.7 Moderate Linear Relationship\", \"type\": \"scatter\", \"x\": [\"01\", \"02\", \"09\", \"15\", \"18\", \"20\", \"21\", \"24\", \"28\", \"29\", \"30\"], \"y\": [0.7, 0.7, 0.7, 0.7, 0.7, 0.7, 0.7, 0.7, 0.7, 0.7, 0.7]}],\n",
       "                        {\"template\": {\"data\": {\"bar\": [{\"error_x\": {\"color\": \"#2a3f5f\"}, \"error_y\": {\"color\": \"#2a3f5f\"}, \"marker\": {\"line\": {\"color\": \"#E5ECF6\", \"width\": 0.5}}, \"type\": \"bar\"}], \"barpolar\": [{\"marker\": {\"line\": {\"color\": \"#E5ECF6\", \"width\": 0.5}}, \"type\": \"barpolar\"}], \"carpet\": [{\"aaxis\": {\"endlinecolor\": \"#2a3f5f\", \"gridcolor\": \"white\", \"linecolor\": \"white\", \"minorgridcolor\": \"white\", \"startlinecolor\": \"#2a3f5f\"}, \"baxis\": {\"endlinecolor\": \"#2a3f5f\", \"gridcolor\": \"white\", \"linecolor\": \"white\", \"minorgridcolor\": \"white\", \"startlinecolor\": \"#2a3f5f\"}, \"type\": \"carpet\"}], \"choropleth\": [{\"colorbar\": {\"outlinewidth\": 0, \"ticks\": \"\"}, \"type\": \"choropleth\"}], \"contour\": [{\"colorbar\": {\"outlinewidth\": 0, \"ticks\": \"\"}, \"colorscale\": [[0.0, \"#0d0887\"], [0.1111111111111111, \"#46039f\"], [0.2222222222222222, \"#7201a8\"], [0.3333333333333333, \"#9c179e\"], [0.4444444444444444, \"#bd3786\"], [0.5555555555555556, \"#d8576b\"], [0.6666666666666666, \"#ed7953\"], [0.7777777777777778, \"#fb9f3a\"], [0.8888888888888888, \"#fdca26\"], [1.0, \"#f0f921\"]], \"type\": \"contour\"}], \"contourcarpet\": [{\"colorbar\": {\"outlinewidth\": 0, \"ticks\": \"\"}, \"type\": \"contourcarpet\"}], \"heatmap\": [{\"colorbar\": {\"outlinewidth\": 0, \"ticks\": \"\"}, \"colorscale\": [[0.0, \"#0d0887\"], [0.1111111111111111, \"#46039f\"], [0.2222222222222222, \"#7201a8\"], [0.3333333333333333, \"#9c179e\"], [0.4444444444444444, \"#bd3786\"], [0.5555555555555556, \"#d8576b\"], [0.6666666666666666, \"#ed7953\"], [0.7777777777777778, \"#fb9f3a\"], [0.8888888888888888, \"#fdca26\"], [1.0, \"#f0f921\"]], \"type\": \"heatmap\"}], \"heatmapgl\": [{\"colorbar\": {\"outlinewidth\": 0, \"ticks\": \"\"}, \"colorscale\": [[0.0, \"#0d0887\"], [0.1111111111111111, \"#46039f\"], [0.2222222222222222, \"#7201a8\"], [0.3333333333333333, \"#9c179e\"], [0.4444444444444444, \"#bd3786\"], [0.5555555555555556, \"#d8576b\"], [0.6666666666666666, \"#ed7953\"], [0.7777777777777778, \"#fb9f3a\"], [0.8888888888888888, \"#fdca26\"], [1.0, \"#f0f921\"]], \"type\": \"heatmapgl\"}], \"histogram\": [{\"marker\": {\"colorbar\": {\"outlinewidth\": 0, \"ticks\": \"\"}}, \"type\": \"histogram\"}], \"histogram2d\": [{\"colorbar\": {\"outlinewidth\": 0, \"ticks\": \"\"}, \"colorscale\": [[0.0, \"#0d0887\"], [0.1111111111111111, \"#46039f\"], [0.2222222222222222, \"#7201a8\"], [0.3333333333333333, \"#9c179e\"], [0.4444444444444444, \"#bd3786\"], [0.5555555555555556, \"#d8576b\"], [0.6666666666666666, \"#ed7953\"], [0.7777777777777778, \"#fb9f3a\"], [0.8888888888888888, \"#fdca26\"], [1.0, \"#f0f921\"]], \"type\": \"histogram2d\"}], \"histogram2dcontour\": [{\"colorbar\": {\"outlinewidth\": 0, \"ticks\": \"\"}, \"colorscale\": [[0.0, \"#0d0887\"], [0.1111111111111111, \"#46039f\"], [0.2222222222222222, \"#7201a8\"], [0.3333333333333333, \"#9c179e\"], [0.4444444444444444, \"#bd3786\"], [0.5555555555555556, \"#d8576b\"], [0.6666666666666666, \"#ed7953\"], [0.7777777777777778, \"#fb9f3a\"], [0.8888888888888888, \"#fdca26\"], [1.0, \"#f0f921\"]], \"type\": \"histogram2dcontour\"}], \"mesh3d\": [{\"colorbar\": {\"outlinewidth\": 0, \"ticks\": \"\"}, \"type\": \"mesh3d\"}], \"parcoords\": [{\"line\": {\"colorbar\": {\"outlinewidth\": 0, \"ticks\": \"\"}}, \"type\": \"parcoords\"}], \"scatter\": [{\"marker\": {\"colorbar\": {\"outlinewidth\": 0, \"ticks\": \"\"}}, \"type\": \"scatter\"}], \"scatter3d\": [{\"line\": {\"colorbar\": {\"outlinewidth\": 0, \"ticks\": \"\"}}, \"marker\": {\"colorbar\": {\"outlinewidth\": 0, \"ticks\": \"\"}}, \"type\": \"scatter3d\"}], \"scattercarpet\": [{\"marker\": {\"colorbar\": {\"outlinewidth\": 0, \"ticks\": \"\"}}, \"type\": \"scattercarpet\"}], \"scattergeo\": [{\"marker\": {\"colorbar\": {\"outlinewidth\": 0, \"ticks\": \"\"}}, \"type\": \"scattergeo\"}], \"scattergl\": [{\"marker\": {\"colorbar\": {\"outlinewidth\": 0, \"ticks\": \"\"}}, \"type\": \"scattergl\"}], \"scattermapbox\": [{\"marker\": {\"colorbar\": {\"outlinewidth\": 0, \"ticks\": \"\"}}, \"type\": \"scattermapbox\"}], \"scatterpolar\": [{\"marker\": {\"colorbar\": {\"outlinewidth\": 0, \"ticks\": \"\"}}, \"type\": \"scatterpolar\"}], \"scatterpolargl\": [{\"marker\": {\"colorbar\": {\"outlinewidth\": 0, \"ticks\": \"\"}}, \"type\": \"scatterpolargl\"}], \"scatterternary\": [{\"marker\": {\"colorbar\": {\"outlinewidth\": 0, \"ticks\": \"\"}}, \"type\": \"scatterternary\"}], \"surface\": [{\"colorbar\": {\"outlinewidth\": 0, \"ticks\": \"\"}, \"colorscale\": [[0.0, \"#0d0887\"], [0.1111111111111111, \"#46039f\"], [0.2222222222222222, \"#7201a8\"], [0.3333333333333333, \"#9c179e\"], [0.4444444444444444, \"#bd3786\"], [0.5555555555555556, \"#d8576b\"], [0.6666666666666666, \"#ed7953\"], [0.7777777777777778, \"#fb9f3a\"], [0.8888888888888888, \"#fdca26\"], [1.0, \"#f0f921\"]], \"type\": \"surface\"}], \"table\": [{\"cells\": {\"fill\": {\"color\": \"#EBF0F8\"}, \"line\": {\"color\": \"white\"}}, \"header\": {\"fill\": {\"color\": \"#C8D4E3\"}, \"line\": {\"color\": \"white\"}}, \"type\": \"table\"}]}, \"layout\": {\"annotationdefaults\": {\"arrowcolor\": \"#2a3f5f\", \"arrowhead\": 0, \"arrowwidth\": 1}, \"colorscale\": {\"diverging\": [[0, \"#8e0152\"], [0.1, \"#c51b7d\"], [0.2, \"#de77ae\"], [0.3, \"#f1b6da\"], [0.4, \"#fde0ef\"], [0.5, \"#f7f7f7\"], [0.6, \"#e6f5d0\"], [0.7, \"#b8e186\"], [0.8, \"#7fbc41\"], [0.9, \"#4d9221\"], [1, \"#276419\"]], \"sequential\": [[0.0, \"#0d0887\"], [0.1111111111111111, \"#46039f\"], [0.2222222222222222, \"#7201a8\"], [0.3333333333333333, \"#9c179e\"], [0.4444444444444444, \"#bd3786\"], [0.5555555555555556, \"#d8576b\"], [0.6666666666666666, \"#ed7953\"], [0.7777777777777778, \"#fb9f3a\"], [0.8888888888888888, \"#fdca26\"], [1.0, \"#f0f921\"]], \"sequentialminus\": [[0.0, \"#0d0887\"], [0.1111111111111111, \"#46039f\"], [0.2222222222222222, \"#7201a8\"], [0.3333333333333333, \"#9c179e\"], [0.4444444444444444, \"#bd3786\"], [0.5555555555555556, \"#d8576b\"], [0.6666666666666666, \"#ed7953\"], [0.7777777777777778, \"#fb9f3a\"], [0.8888888888888888, \"#fdca26\"], [1.0, \"#f0f921\"]]}, \"colorway\": [\"#636efa\", \"#EF553B\", \"#00cc96\", \"#ab63fa\", \"#FFA15A\", \"#19d3f3\", \"#FF6692\", \"#B6E880\", \"#FF97FF\", \"#FECB52\"], \"font\": {\"color\": \"#2a3f5f\"}, \"geo\": {\"bgcolor\": \"white\", \"lakecolor\": \"white\", \"landcolor\": \"#E5ECF6\", \"showlakes\": true, \"showland\": true, \"subunitcolor\": \"white\"}, \"hoverlabel\": {\"align\": \"left\"}, \"hovermode\": \"closest\", \"mapbox\": {\"style\": \"light\"}, \"paper_bgcolor\": \"white\", \"plot_bgcolor\": \"#E5ECF6\", \"polar\": {\"angularaxis\": {\"gridcolor\": \"white\", \"linecolor\": \"white\", \"ticks\": \"\"}, \"bgcolor\": \"#E5ECF6\", \"radialaxis\": {\"gridcolor\": \"white\", \"linecolor\": \"white\", \"ticks\": \"\"}}, \"scene\": {\"xaxis\": {\"backgroundcolor\": \"#E5ECF6\", \"gridcolor\": \"white\", \"gridwidth\": 2, \"linecolor\": \"white\", \"showbackground\": true, \"ticks\": \"\", \"zerolinecolor\": \"white\"}, \"yaxis\": {\"backgroundcolor\": \"#E5ECF6\", \"gridcolor\": \"white\", \"gridwidth\": 2, \"linecolor\": \"white\", \"showbackground\": true, \"ticks\": \"\", \"zerolinecolor\": \"white\"}, \"zaxis\": {\"backgroundcolor\": \"#E5ECF6\", \"gridcolor\": \"white\", \"gridwidth\": 2, \"linecolor\": \"white\", \"showbackground\": true, \"ticks\": \"\", \"zerolinecolor\": \"white\"}}, \"shapedefaults\": {\"line\": {\"color\": \"#2a3f5f\"}}, \"ternary\": {\"aaxis\": {\"gridcolor\": \"white\", \"linecolor\": \"white\", \"ticks\": \"\"}, \"baxis\": {\"gridcolor\": \"white\", \"linecolor\": \"white\", \"ticks\": \"\"}, \"bgcolor\": \"#E5ECF6\", \"caxis\": {\"gridcolor\": \"white\", \"linecolor\": \"white\", \"ticks\": \"\"}}, \"title\": {\"x\": 0.05}, \"xaxis\": {\"automargin\": true, \"gridcolor\": \"white\", \"linecolor\": \"white\", \"ticks\": \"\", \"zerolinecolor\": \"white\", \"zerolinewidth\": 2}, \"yaxis\": {\"automargin\": true, \"gridcolor\": \"white\", \"linecolor\": \"white\", \"ticks\": \"\", \"zerolinecolor\": \"white\", \"zerolinewidth\": 2}}}, \"title\": {\"font\": {\"family\": \"Times New Roman\"}, \"text\": \"<b>Correlation Coefficients for the MLS Areas of Boise<b>\", \"x\": 0.5, \"xref\": \"paper\"}, \"xaxis\": {\"title\": {\"font\": {\"family\": \"Times New Roman\", \"size\": 16}, \"text\": \"<b>Feature Key<b>\"}, \"type\": \"category\"}, \"yaxis\": {\"title\": {\"font\": {\"family\": \"Times New Roman\", \"size\": 16}, \"text\": \"<b>Correlation Coefficient<b>\"}}},\n",
       "                        {\"responsive\": true}\n",
       "                    ).then(function(){\n",
       "                            \n",
       "var gd = document.getElementById('78b3c024-f7b5-49ec-b46c-7cde76a2ff8d');\n",
       "var x = new MutationObserver(function (mutations, observer) {{\n",
       "        var display = window.getComputedStyle(gd).display;\n",
       "        if (!display || display === 'none') {{\n",
       "            console.log([gd, 'removed!']);\n",
       "            Plotly.purge(gd);\n",
       "            observer.disconnect();\n",
       "        }}\n",
       "}});\n",
       "\n",
       "// Listen for the removal of the full notebook cells\n",
       "var notebookContainer = gd.closest('#notebook-container');\n",
       "if (notebookContainer) {{\n",
       "    x.observe(notebookContainer, {childList: true});\n",
       "}}\n",
       "\n",
       "// Listen for the clearing of the current output cell\n",
       "var outputEl = gd.closest('.output');\n",
       "if (outputEl) {{\n",
       "    x.observe(outputEl, {childList: true});\n",
       "}}\n",
       "\n",
       "                        })\n",
       "                };\n",
       "                });\n",
       "            </script>\n",
       "        </div>"
      ]
     },
     "metadata": {},
     "output_type": "display_data"
    }
   ],
   "source": [
    "df = pd.read_pickle(os.path.join(path,'Trim-A-Coeff-compare.pkl'))\n",
    "\n",
    "# drops rows up to TAV_Ch, below TAV_Ch = 0 and TAV_Ch = 1 \n",
    "df = df.iloc[3:]\n",
    "\n",
    "# Needed to make a key for ease a readability and to make the reference line for moderate linear \n",
    "# relationship\n",
    "df= df.rename(columns = {'index' : 'Feature_Name'})\n",
    "df['index'] = ['00','01','02','03','04','05','06','07','08','09','10','11','12','13','14',\n",
    "             '15','16','17','18','19','20','21','22','23','24','25','26','27','28','29','30']\n",
    "df['mod_line'] = .3\n",
    "df['high_line'] = .7\n",
    "\n",
    "\n",
    "#this will drop rows that have less than 4 values (feature name, key, ref line, & @ least 1 value)\n",
    "df = df.dropna(thresh = 5)\n",
    "\n",
    "\n",
    "area_fig = go.Figure()\n",
    "\n",
    "area_fig.add_trace(go.Scatter(x= df['index'], y=df['NW_Boise_GC'],\n",
    "                    mode='markers',\n",
    "                    marker_color = 'rgb(220,20,60)',\n",
    "                    marker=dict(size= 10, symbol = \"square-open\"),          \n",
    "                    name='NW Boise'))\n",
    "\n",
    "area_fig.add_trace(go.Scatter(x= df['index'], y=df['B_Bench'],\n",
    "                    mode='markers',\n",
    "                    marker_color = 'rgb(0,128,128)',\n",
    "                    marker=dict(size= 10, symbol = \"star-diamond-open\"), \n",
    "                    name='Boise Bench'))\n",
    "\n",
    "area_fig.add_trace(go.Scatter(x= df['index'], y=df['SE_Boise'],\n",
    "                    mode='markers',\n",
    "                    marker_color = 'rgb(0,0,128)',\n",
    "                    marker=dict(size= 10, symbol = \"pentagon-open\"),          \n",
    "                    name='SE Boise'))\n",
    "\n",
    "area_fig.add_trace(go.Scatter(x= df['index'], y=df['N_Boise'],\n",
    "                    mode='markers',\n",
    "                    marker_color = 'rgb(107,142,35)',\n",
    "                    marker=dict(size= 10, symbol = \"star-open\"),          \n",
    "                    name='N Boise'))\n",
    "\n",
    "area_fig.add_trace(go.Scatter(x= df['index'], y=df['NE_Boise'],\n",
    "                    mode='markers',\n",
    "                    marker_color = 'rgb(199,21,133)',\n",
    "                    marker=dict(size= 10, symbol = \"bowtie-open\"),           \n",
    "                    name='NE Boise'))\n",
    "\n",
    "area_fig.add_trace(go.Scatter(x= df['index'], y=df['W_Boise'],\n",
    "                    mode='markers',\n",
    "                    marker_color = 'rgb(47,79,79)',\n",
    "                    marker=dict(size= 10, symbol = \"circle-cross-open\"),          \n",
    "                    name='W Boise'))\n",
    "\n",
    "area_fig.add_trace(go.Scatter(x= df['index'], y=df['SW_Boise_M'],\n",
    "                    mode='markers',\n",
    "                    marker_color = 'rgb(139,69,19)',\n",
    "                    marker=dict(size= 10, symbol = \"triangle-nw-open\"),          \n",
    "                    name='SW Boise M'))\n",
    "\n",
    "area_fig.add_trace(go.Scatter(x= df['index'], y=df['W_Boise_M'],\n",
    "                    mode='markers',\n",
    "                    marker_color = 'rgb(255,140,0)',\n",
    "                    marker=dict(size= 10, symbol = \"hourglass-open\"),          \n",
    "                    name='W Boise-Meridian'))\n",
    "\n",
    "area_fig.add_trace(go.Scatter(x= df['index'], y=df['SW_Boise'],\n",
    "                    mode='markers',\n",
    "                    marker_color = 'rgb(128,0,128)',\n",
    "                    marker=dict(size= 10, symbol = \"diamond-tall-open\"),           \n",
    "                    name='SW Boise'))\n",
    "\n",
    "\n",
    "area_fig.add_trace(go.Scatter(x= df['index'] , y=df['mod_line'],\n",
    "                    mode = 'lines',          \n",
    "                    line = dict(color='Black', width=1, dash='dot'),          \n",
    "                    name='>0.3 Moderate Linear Relationship'))\n",
    "\n",
    "area_fig.add_trace(go.Scatter(x= df['index'] , y=df['high_line'],\n",
    "                    mode = 'lines',          \n",
    "                    line = dict(color='Black', width=1, dash='dot'),          \n",
    "                    name='>0.7 Moderate Linear Relationship'))\n",
    "\n",
    "\n",
    "area_fig.update_layout(\n",
    "    title=go.layout.Title(\n",
    "        text=\"<b>Correlation Coefficients for the MLS Areas of Boise<b>\",\n",
    "        font = dict( \n",
    "            family = 'Times New Roman'),\n",
    "        xref=\"paper\",\n",
    "        x=.5\n",
    "    ),\n",
    "    yaxis=go.layout.YAxis(\n",
    "        title=go.layout.yaxis.Title(\n",
    "            text=\"<b>Correlation Coefficient<b>\",\n",
    "            font=dict(\n",
    "                family=\"Times New Roman\",\n",
    "                size=16,\n",
    "#                color=\"#7f7f7f\"\n",
    "            )\n",
    "        )\n",
    "    ),\n",
    "    xaxis=go.layout.XAxis(\n",
    "        type = 'category',\n",
    "        title=go.layout.xaxis.Title(\n",
    "            text=\"<b>Feature Key<b>\",\n",
    "            font=dict(\n",
    "                family=\"Times New Roman\",\n",
    "                size=16,\n",
    "#                color=\"#7f7f7f\"\n",
    "            )\n",
    "        )\n",
    "    ))\n",
    "\n",
    "\n",
    "area_fig.write_image(os.path.join(im_path,\"Trim_Area_fig.jpg\"))\n",
    "area_fig.show()\n",
    "\n"
   ]
  },
  {
   "cell_type": "code",
   "execution_count": null,
   "metadata": {},
   "outputs": [],
   "source": [
    "df = pd.read_pickle('Ex-a-Coeff-compare.pkl')\n",
    "\n",
    "# drops rows up to TAV_Ch, below TAV_Ch = 0 and TAV_Ch = 1 \n",
    "df = df.iloc[9:]\n",
    "\n",
    "# Needed to make a key for ease a readability and to make the reference line for moderate linear \n",
    "# relationship\n",
    "df= df.rename(columns = {'index' : 'Feature_Name'})\n",
    "df['index'] = ['00','01','02','03','04','05','06','07','08','09','10','11','12','13','14',\n",
    "             '15','16','17','18','19','20','21','22','23','24','25','26','27','28','29','30']\n",
    "df['ref_line'] = .3\n",
    "\n",
    "\n",
    "#this will drop rows that have less than 4 values (feature name, key, ref line, & @ least 1 value)\n",
    "df = df.dropna(thresh = 4)\n",
    "\n",
    "\n",
    "area_fig = go.Figure()\n",
    "\n",
    "area_fig.add_trace(go.Scatter(x= df['index'], y=df['NW_Boise_GC'],\n",
    "                    mode='markers',\n",
    "                    marker_color = 'rgb(220,20,60)',\n",
    "                    marker=dict(size= 10, symbol = \"square-open\"),          \n",
    "                    name='NW Boise'))\n",
    "\n",
    "area_fig.add_trace(go.Scatter(x= df['index'], y=df['B_Bench'],\n",
    "                    mode='markers',\n",
    "                    marker_color = 'rgb(0,128,128)',\n",
    "                    marker=dict(size= 10, symbol = \"star-diamond-open\"), \n",
    "                    name='Boise Bench'))\n",
    "\n",
    "area_fig.add_trace(go.Scatter(x= df['index'], y=df['SE_Boise'],\n",
    "                    mode='markers',\n",
    "                    marker_color = 'rgb(0,0,128)',\n",
    "                    marker=dict(size= 10, symbol = \"pentagon-open\"),          \n",
    "                    name='SE Boise'))\n",
    "\n",
    "area_fig.add_trace(go.Scatter(x= df['index'], y=df['N_Boise'],\n",
    "                    mode='markers',\n",
    "                    marker_color = 'rgb(107,142,35)',\n",
    "                    marker=dict(size= 10, symbol = \"star-open\"),          \n",
    "                    name='N Boise'))\n",
    "\n",
    "area_fig.add_trace(go.Scatter(x= df['index'], y=df['NE_Boise'],\n",
    "                    mode='markers',\n",
    "                    marker_color = 'rgb(199,21,133)',\n",
    "                    marker=dict(size= 10, symbol = \"bowtie-open\"),           \n",
    "                    name='NE Boise'))\n",
    "\n",
    "area_fig.add_trace(go.Scatter(x= df['index'], y=df['W_Boise'],\n",
    "                    mode='markers',\n",
    "                    marker_color = 'rgb(47,79,79)',\n",
    "                    marker=dict(size= 10, symbol = \"circle-cross-open\"),          \n",
    "                    name='W Boise'))\n",
    "\n",
    "area_fig.add_trace(go.Scatter(x= df['index'], y=df['SW_Boise_M'],\n",
    "                    mode='markers',\n",
    "                    marker_color = 'rgb(139,69,19)',\n",
    "                    marker=dict(size= 10, symbol = \"triangle-nw-open\"),          \n",
    "                    name='SW Boise M'))\n",
    "\n",
    "area_fig.add_trace(go.Scatter(x= df['index'], y=df['W_Boise_M'],\n",
    "                    mode='markers',\n",
    "                    marker_color = 'rgb(255,140,0)',\n",
    "                    marker=dict(size= 10, symbol = \"hourglass-open\"),          \n",
    "                    name='W Boise-Meridian'))\n",
    "\n",
    "area_fig.add_trace(go.Scatter(x= df['index'], y=df['SW_Boise'],\n",
    "                    mode='markers',\n",
    "                    marker_color = 'rgb(128,0,128)',\n",
    "                    marker=dict(size= 10, symbol = \"diamond-tall-open\"),           \n",
    "                    name='SW Boise'))\n",
    "\n",
    "\n",
    "area_fig.add_trace(go.Scatter(x= df['index'] , y=df['ref_line'],\n",
    "                    mode = 'lines',          \n",
    "                    line = dict(color='Black', width=1, dash='dot'),          \n",
    "                    name='>0.3 Moderate Linear Relationship'))\n",
    "\n",
    "area_fig.update_layout(\n",
    "    title=go.layout.Title(\n",
    "        text=\"<b>Correlation Coefficients for the MLS Areas of Boise<b>\",\n",
    "        font = dict( \n",
    "            family = 'Times New Roman'),\n",
    "        xref=\"paper\",\n",
    "        x=.5\n",
    "    ),\n",
    "    yaxis=go.layout.YAxis(\n",
    "        title=go.layout.yaxis.Title(\n",
    "            text=\"<b>Correlation Coefficient<b>\",\n",
    "            font=dict(\n",
    "                family=\"Times New Roman\",\n",
    "                size=16,\n",
    "#                color=\"#7f7f7f\"\n",
    "            )\n",
    "        )\n",
    "    ),\n",
    "    xaxis=go.layout.XAxis(\n",
    "        type = 'category',\n",
    "        title=go.layout.xaxis.Title(\n",
    "            text=\"<b>Feature Key<b>\",\n",
    "            font=dict(\n",
    "                family=\"Times New Roman\",\n",
    "                size=16,\n",
    "#                color=\"#7f7f7f\"\n",
    "            )\n",
    "        )\n",
    "    ))\n",
    "\n",
    "\n",
    "area_fig.write_image(\"images/Ex_Area_fig.jpg\")\n",
    "area_fig.show()\n",
    "\n"
   ]
  },
  {
   "cell_type": "code",
   "execution_count": null,
   "metadata": {},
   "outputs": [],
   "source": [
    "df.round(3)"
   ]
  },
  {
   "cell_type": "markdown",
   "metadata": {},
   "source": [
    "# do this for area https://plot.ly/python/splom/"
   ]
  },
  {
   "cell_type": "code",
   "execution_count": null,
   "metadata": {},
   "outputs": [],
   "source": []
  },
  {
   "cell_type": "markdown",
   "metadata": {},
   "source": [
    "# Area-Neighborhood Correlation Coefficient Comparison"
   ]
  },
  {
   "cell_type": "code",
   "execution_count": null,
   "metadata": {},
   "outputs": [],
   "source": [
    "df = pd.read_pickle('WB-Coeff-compare.pkl')\n",
    "df2 = pd.read_pickle('a-Coeff-compare.pkl')\n",
    "\n",
    "\n",
    "df = pd.merge(df,df2, on = 'index', how = 'outer')\n",
    "\n",
    "df = df.dropna(thresh = 2)\n",
    "df = df.reset_index(drop = True)\n",
    "\n",
    "df = df.iloc[1:]\n",
    "#df"
   ]
  },
  {
   "cell_type": "markdown",
   "metadata": {},
   "source": [
    "## West Boise"
   ]
  },
  {
   "cell_type": "code",
   "execution_count": null,
   "metadata": {},
   "outputs": [],
   "source": [
    "df = pd.read_pickle('WB-Coeff-compare.pkl')\n",
    "df2 = pd.read_pickle('a-Coeff-compare.pkl')\n",
    "\n",
    "\n",
    "df = pd.merge(df,df2, on = 'index', how = 'outer')\n",
    "\n",
    "# drops rows up to TAV_Ch, below TAV_Ch = 0 and TAV_Ch = 1 \n",
    "df = df.iloc[9:]\n",
    "\n",
    "# Needed to make a key for ease a readability and to make the reference line for moderate linear \n",
    "# relationship\n",
    "df= df.rename(columns = {'index' : 'Feature_Name'})\n",
    "df['index'] = ['00','01','02','03','04','05','06','07','08','09','10','11','12','13','14',\n",
    "             '15','16','17','18','19','20','21','22','23','24','25','26','27','28','29','30']\n",
    "df['ref_line'] = .3\n",
    "\n",
    "\n",
    "#this will drop rows that have less than 4 values (feature name, key, ref line, & @ least 1 value)\n",
    "df = df.dropna(thresh = 4)\n",
    "\n",
    "WB_fig = go.Figure()\n",
    "\n",
    "WB_fig.add_trace(go.Scatter(x= df['index'], y=df['W_Boise'],\n",
    "                    mode='markers',  \n",
    "                    marker_color='rgba(47, 79, 79, .8)',\n",
    "                    marker=dict(size= 12, symbol = \"circle-cross-open\" ),     \n",
    "                    name='West Boise Area'))\n",
    "\n",
    "WB_fig.add_trace(go.Scatter(x= df['index'], y=df['WB_NC_Bench'],\n",
    "                    mode='markers',  \n",
    "                    marker_color='rgb(0,0,0)',     \n",
    "                    name='North Central Bench'))\n",
    "\n",
    "WB_fig.add_trace(go.Scatter(x= df['index'], y=df['WB_W_Boise'],\n",
    "                    mode='markers',\n",
    "                    marker_color='rgb(119,136,153)',     \n",
    "                    name='West Boise'))\n",
    "\n",
    "WB_fig.add_trace(go.Scatter(x= df['index'], y=df['WB_WBF_Corridor'],\n",
    "                    mode='markers',\n",
    "                    marker_color='rgb(169,169,169)',     \n",
    "                    name='West B. Freeway Cor.'))\n",
    "\n",
    "\n",
    "WB_fig.add_trace(go.Scatter(x= df['index'] , y=df['ref_line'],\n",
    "                    mode = 'lines',          \n",
    "                    line = dict(color='Black', width=1, dash='dot'),          \n",
    "                    name='>0.3 Moderate Linear Relationship'))\n",
    "\n",
    "WB_fig.update_layout(\n",
    "    title=go.layout.Title(\n",
    "        text=\"<b>Correlation Coefficients for West Boise and Associated Neighborhoods<b>\",\n",
    "        font = dict( \n",
    "            family = 'Times New Roman'),\n",
    "        xref=\"paper\",\n",
    "        x=.5\n",
    "    ),\n",
    "    yaxis=go.layout.YAxis(\n",
    "        title=go.layout.yaxis.Title(\n",
    "            text=\"<b>Correlation Coefficient<b>\",\n",
    "            font=dict(\n",
    "                family=\"Times New Roman\",\n",
    "                size=16,\n",
    "#                color=\"#7f7f7f\"\n",
    "            )\n",
    "        )\n",
    "    ),\n",
    "    xaxis=go.layout.XAxis(\n",
    "        type = 'category',\n",
    "        title=go.layout.xaxis.Title(\n",
    "            text=\"<b>Feature Key<b>\",\n",
    "            font=dict(\n",
    "                family=\"Times New Roman\",\n",
    "                size=16,\n",
    "#                color=\"#7f7f7f\"\n",
    "            )\n",
    "        )\n",
    "    ))\n",
    "\n",
    "\n",
    "WB_fig.write_image(\"images/WB_fig.jpg\")\n",
    "WB_fig.show()\n"
   ]
  },
  {
   "cell_type": "markdown",
   "metadata": {},
   "source": [
    "## Boise Bench"
   ]
  },
  {
   "cell_type": "code",
   "execution_count": null,
   "metadata": {},
   "outputs": [],
   "source": [
    "df = pd.read_pickle('BB-Coeff-compare.pkl')\n",
    "df2 = pd.read_pickle('a-Coeff-compare.pkl')\n",
    "\n",
    "df = pd.merge(df,df2, on = 'index', how = 'outer')\n",
    "\n",
    "# drops rows up to TAV_Ch, below TAV_Ch = 0 and TAV_Ch = 1 \n",
    "df = df.iloc[9:]\n",
    "\n",
    "# Needed to make a key for ease a readability and to make the reference line for moderate linear \n",
    "# relationship\n",
    "df= df.rename(columns = {'index' : 'Feature_Name'})\n",
    "df['index'] = ['00','01','02','03','04','05','06','07','08','09','10','11','12','13','14',\n",
    "             '15','16','17','18','19','20','21','22','23','24','25','26','27','28','29','30']\n",
    "df['ref_line'] = .3\n",
    "\n",
    "\n",
    "#this will drop rows that have less than 4 values (feature name, key, ref line, & @ least 1 value)\n",
    "df = df.dropna(thresh = 4)\n",
    "\n",
    "BB_fig = go.Figure()\n",
    "\n",
    "BB_fig.add_trace(go.Scatter(x= df['index'], y=df['B_Bench'],\n",
    "                    mode='markers',\n",
    "                    marker_color = 'rgb(0,128,128)',\n",
    "                    marker=dict(size= 12, symbol = \"star-diamond-open\"), \n",
    "                    name='Boise Bench Area'))\n",
    "\n",
    "BB_fig.add_trace(go.Scatter(x= df['index'], y=df['BB_CB_Bench'],\n",
    "                    mode='markers',  \n",
    "                    marker_color='rgb(102,205,170)',  \n",
    "                    name='Central B. Bench'))\n",
    "\n",
    "BB_fig.add_trace(go.Scatter(x= df['index'], y=df['BB_NC_Bench'],\n",
    "                    mode='markers',  \n",
    "                    marker_color='rgb(32,178,170)',     \n",
    "                    name='North Central Bench'))\n",
    "\n",
    "BB_fig.add_trace(go.Scatter(x= df['index'], y=df['BB_BBF_Corridor'],\n",
    "                    mode='markers',\n",
    "                    marker_color='rgb(0,139,139)',     \n",
    "                    name='B. Bench Freeway Cor.'))\n",
    "\n",
    "BB_fig.add_trace(go.Scatter(x= df['index'], y=df['BB_PU_Waterfront'],\n",
    "                    mode='markers',\n",
    "                    marker_color='rgb(0,255,255)',     \n",
    "                    name='Park & University Waterfront'))\n",
    "\n",
    "\n",
    "\n",
    "BB_fig.add_trace(go.Scatter(x= df['index'] , y=df['ref_line'],\n",
    "                    mode = 'lines',          \n",
    "                    line = dict(color='Black', width=1, dash='dot'),          \n",
    "                    name='>0.3 Moderate Linear Relationship'))\n",
    "\n",
    "BB_fig.update_layout(\n",
    "    title=go.layout.Title(\n",
    "        text=\"<b>Correlation Coefficients for Boise Bench and Associated Neighborhoods<b>\",\n",
    "        font = dict( \n",
    "            family = 'Times New Roman'),\n",
    "        xref=\"paper\",\n",
    "        x=.5\n",
    "    ),\n",
    "    yaxis=go.layout.YAxis(\n",
    "        title=go.layout.yaxis.Title(\n",
    "            text=\"<b>Correlation Coefficient<b>\",\n",
    "            font=dict(\n",
    "                family=\"Times New Roman\",\n",
    "                size=16,\n",
    "#                color=\"#7f7f7f\"\n",
    "            )\n",
    "        )\n",
    "    ),\n",
    "    xaxis=go.layout.XAxis(\n",
    "        type = 'category',\n",
    "        title=go.layout.xaxis.Title(\n",
    "            text=\"<b>Feature Key<b>\",\n",
    "            font=dict(\n",
    "                family=\"Times New Roman\",\n",
    "                size=16,\n",
    "#                color=\"#7f7f7f\"\n",
    "            )\n",
    "        )\n",
    "    ))\n",
    "\n",
    "\n",
    "BB_fig.write_image(\"images/BB_fig.jpg\")\n",
    "BB_fig.show()"
   ]
  },
  {
   "cell_type": "markdown",
   "metadata": {},
   "source": [
    "## West Boise-Meridian"
   ]
  },
  {
   "cell_type": "code",
   "execution_count": null,
   "metadata": {},
   "outputs": [],
   "source": [
    "df = pd.read_pickle('WBM-Coeff-compare.pkl')\n",
    "df2 = pd.read_pickle('a-Coeff-compare.pkl')\n",
    "\n",
    "\n",
    "df = pd.merge(df,df2, on = 'index', how = 'outer')\n",
    "\n",
    "# drops rows up to TAV_Ch, below TAV_Ch = 0 and TAV_Ch = 1 \n",
    "df = df.iloc[9:]\n",
    "\n",
    "# Needed to make a key for ease a readability and to make the reference line for moderate linear \n",
    "# relationship\n",
    "df= df.rename(columns = {'index' : 'Feature_Name'})\n",
    "df['index'] = ['00','01','02','03','04','05','06','07','08','09','10','11','12','13','14',\n",
    "             '15','16','17','18','19','20','21','22','23','24','25','26','27','28','29','30']\n",
    "df['ref_line'] = .3\n",
    "\n",
    "\n",
    "#this will drop rows that have less than 4 values (feature name, key, ref line, & @ least 1 value)\n",
    "df = df.dropna(thresh = 4)\n",
    "\n",
    "WBM_fig = go.Figure()\n",
    "\n",
    "WBM_fig.add_trace(go.Scatter(x= df['index'], y=df['W_Boise_M'],\n",
    "                    mode='markers',\n",
    "                    marker_color = 'rgb(255,140,0)',\n",
    "                    marker=dict(size= 12, symbol = \"hourglass-open\"),          \n",
    "                    name='West Boise-Meridian Area'))\n",
    "\n",
    "WBM_fig.add_trace(go.Scatter(x= df['index'], y=df['WBM_W_Boise'],\n",
    "                    mode='markers',\n",
    "                    marker_color = 'rgb(255,140,0)',\n",
    "                    name='West Boise'))\n",
    "\n",
    "WBM_fig.add_trace(go.Scatter(x= df['index'], y=df['WBM_NE_Meridian'],\n",
    "                    mode='markers',  \n",
    "                    marker_color='rgb(255,215,0)',  \n",
    "                    name='NE Meridian'))\n",
    "\n",
    "WBM_fig.add_trace(go.Scatter(x= df['index'], y=df['WBM_WBF_Corridor'],\n",
    "                    mode='markers',  \n",
    "                    marker_color='rgb(255,69,0)',     \n",
    "                    name='W. B. Freeway Cor.'))\n",
    "\n",
    "WBM_fig.add_trace(go.Scatter(x= df['index'], y=df['WBM_NC_Bench'],\n",
    "                    mode='markers',\n",
    "                    marker_color='rgb(255,99,71)',     \n",
    "                    name='North Central Bench'))\n",
    "\n",
    "WBM_fig.add_trace(go.Scatter(x= df['index'], y=df['WBM_GCC_Corridor'],\n",
    "                    mode='markers',  \n",
    "                    marker_color='rgb(255,127,80)',     \n",
    "                    name='Gardin City Chinden Freeway Cor.'))\n",
    "\n",
    "\n",
    "WBM_fig.add_trace(go.Scatter(x= df['index'], y=df['WBM_MF_Corridor'],\n",
    "                    mode='markers',\n",
    "                    marker_color='rgb(255,165,0)',     \n",
    "                    name='Meridian Freeway Cor.'))\n",
    "\n",
    "WBM_fig.add_trace(go.Scatter(x= df['index'] , y=df['ref_line'],\n",
    "                    mode = 'lines',          \n",
    "                    line = dict(color='Black', width=1, dash='dot'),          \n",
    "                    name='>0.3 Moderate Linear Relationship'))\n",
    "\n",
    "WBM_fig.update_layout(\n",
    "    title=go.layout.Title(\n",
    "        text=\"<b>Correlation Coefficients for West Boise-Meridian and Associated Neighborhoods<b>\",\n",
    "        font = dict( \n",
    "            family = 'Times New Roman'),\n",
    "        xref=\"paper\",\n",
    "        x=.5\n",
    "    ),\n",
    "    yaxis=go.layout.YAxis(\n",
    "        title=go.layout.yaxis.Title(\n",
    "            text=\"<b>Correlation Coefficient<b>\",\n",
    "            font=dict(\n",
    "                family=\"Times New Roman\",\n",
    "                size=16,\n",
    "#                color=\"#7f7f7f\"\n",
    "            )\n",
    "        )\n",
    "    ),\n",
    "    xaxis=go.layout.XAxis(\n",
    "        type = 'category',\n",
    "        title=go.layout.xaxis.Title(\n",
    "            text=\"<b>Feature Key<b>\",\n",
    "            font=dict(\n",
    "                family=\"Times New Roman\",\n",
    "                size=16,\n",
    "#                color=\"#7f7f7f\"\n",
    "            )\n",
    "        )\n",
    "    ))\n",
    "\n",
    "WBM_fig.write_image(\"images/WBM_fig.jpg\")\n",
    "WBM_fig.show()"
   ]
  },
  {
   "cell_type": "markdown",
   "metadata": {},
   "source": [
    "## North Boise"
   ]
  },
  {
   "cell_type": "code",
   "execution_count": null,
   "metadata": {},
   "outputs": [],
   "source": [
    "df = pd.read_pickle('NB-Coeff-compare.pkl')\n",
    "df2 = pd.read_pickle('a-Coeff-compare.pkl')\n",
    "\n",
    "\n",
    "df = pd.merge(df,df2, on = 'index', how = 'outer')\n",
    "\n",
    "# drops rows up to TAV_Ch, below TAV_Ch = 0 and TAV_Ch = 1 \n",
    "df = df.iloc[9:]\n",
    "\n",
    "# Needed to make a key for ease a readability and to make the reference line for moderate linear \n",
    "# relationship\n",
    "df= df.rename(columns = {'index' : 'Feature_Name'})\n",
    "df['index'] = ['00','01','02','03','04','05','06','07','08','09','10','11','12','13','14',\n",
    "             '15','16','17','18','19','20','21','22','23','24','25','26','27','28','29','30']\n",
    "df['ref_line'] = .3\n",
    "\n",
    "\n",
    "#this will drop rows that have less than 4 values (feature name, key, ref line, & @ least 1 value)\n",
    "df = df.dropna(thresh = 4)\n",
    "\n",
    "NB_fig = go.Figure()\n",
    "\n",
    "NB_fig.add_trace(go.Scatter(x= df['index'], y=df['N_Boise'],\n",
    "                    mode='markers',\n",
    "                    marker_color = 'rgb(107,142,35)',\n",
    "                    marker=dict(size= 12, symbol = \"star-open\"),          \n",
    "                    name='North Boise Area'))\n",
    "\n",
    "NB_fig.add_trace(go.Scatter(x= df['index'], y=df['NB_Old_N_Boise'],\n",
    "                    mode='markers',\n",
    "                    marker_color = 'rgb(85,107,47)',\n",
    "                    name='Old North Boise'))\n",
    "\n",
    "NB_fig.add_trace(go.Scatter(x= df['index'], y=df['NB_B_Foothills'],\n",
    "                    mode='markers',  \n",
    "                    marker_color='rgb(128,128,0)',  \n",
    "                    name='Boise Foothills'))\n",
    "\n",
    "NB_fig.add_trace(go.Scatter(x= df['index'], y=df['NB_New_N_Boise'],\n",
    "                    mode='markers',  \n",
    "                    marker_color='rgb(46,139,87)',     \n",
    "                    name='New North Boise'))\n",
    "\n",
    "NB_fig.add_trace(go.Scatter(x= df['index'], y=df['NB_Downtown'],\n",
    "                    mode='markers',\n",
    "                    marker_color='rgb(60,179,113)',     \n",
    "                    name='Downtown'))\n",
    "\n",
    "NB_fig.add_trace(go.Scatter(x= df['index'], y=df['NB_Warm_Springs'],\n",
    "                    mode='markers',  \n",
    "                    marker_color='rgb(0,128,0)',     \n",
    "                    name='Warm Springs'))\n",
    "\n",
    "\n",
    "NB_fig.add_trace(go.Scatter(x= df['index'], y=df['NB_PU_Waterfront'],\n",
    "                    mode='markers',\n",
    "                    marker_color='rgb(50,205,50)',     \n",
    "                    name='Park & University Waterfront'))\n",
    "\n",
    "NB_fig.add_trace(go.Scatter(x= df['index'] , y=df['ref_line'],\n",
    "                    mode = 'lines',          \n",
    "                    line = dict(color='Black', width=1, dash='dot'),          \n",
    "                    name='>0.3 Moderate Linear Relationship'))\n",
    "\n",
    "NB_fig.update_layout(\n",
    "    title=go.layout.Title(\n",
    "        text=\"<b>Correlation Coefficients for North Boise and Associated Neighborhoods<b>\",\n",
    "        font = dict( \n",
    "            family = 'Times New Roman'),\n",
    "        xref=\"paper\",\n",
    "        x=.5\n",
    "    ),\n",
    "    yaxis=go.layout.YAxis(\n",
    "        title=go.layout.yaxis.Title(\n",
    "            text=\"<b>Correlation Coefficient<b>\",\n",
    "            font=dict(\n",
    "                family=\"Times New Roman\",\n",
    "                size=16,\n",
    "#                color=\"#7f7f7f\"\n",
    "            )\n",
    "        )\n",
    "    ),\n",
    "    xaxis=go.layout.XAxis(\n",
    "        type = 'category',\n",
    "        title=go.layout.xaxis.Title(\n",
    "            text=\"<b>Feature Key<b>\",\n",
    "            font=dict(\n",
    "                family=\"Times New Roman\",\n",
    "                size=16,\n",
    "#                color=\"#7f7f7f\"\n",
    "            )\n",
    "        )\n",
    "    ))\n",
    "\n",
    "\n",
    "NB_fig.write_image(\"images/NB_fig.jpg\")\n",
    "NB_fig.show()"
   ]
  },
  {
   "cell_type": "markdown",
   "metadata": {},
   "source": [
    "## Southeast Boise"
   ]
  },
  {
   "cell_type": "code",
   "execution_count": null,
   "metadata": {},
   "outputs": [],
   "source": [
    "df = pd.read_pickle('SE-Coeff-compare.pkl')\n",
    "df2 = pd.read_pickle('a-Coeff-compare.pkl')\n",
    "\n",
    "\n",
    "df = pd.merge(df,df2, on = 'index', how = 'outer')\n",
    "\n",
    "\n",
    "###########################################################\n",
    "\n",
    "# drops rows up to TAV_Ch, below TAV_Ch = 0 and TAV_Ch = 1 \n",
    "df = df.iloc[9:]\n",
    "\n",
    "# Needed to make a key for ease a readability and to make the reference line for moderate linear \n",
    "# relationship\n",
    "df= df.rename(columns = {'index' : 'Feature_Name'})\n",
    "df['index'] = ['00','01','02','03','04','05','06','07','08','09','10','11','12','13','14',\n",
    "             '15','16','17','18','19','20','21','22','23','24','25','26','27','28','29','30']\n",
    "df['ref_line'] = .3\n",
    "\n",
    "\n",
    "#this will drop rows that have less than 4 values (feature name, key, ref line, & @ least 1 value)\n",
    "df = df.dropna(thresh = 4)\n",
    "\n",
    "\n",
    "###########################################################\n",
    "\n",
    "SEB_fig = go.Figure()\n",
    "\n",
    "SEB_fig.add_trace(go.Scatter(x= df['index'], y=df['SE_Boise'],\n",
    "                    mode='markers',\n",
    "                    marker_color = 'rgb(0,0,128)',\n",
    "                    marker=dict(size= 12, symbol = \"pentagon-open\"),          \n",
    "                    name='SE Boise'))\n",
    "\n",
    "SEB_fig.add_trace(go.Scatter(x= df['index'], y=df['SE_New_SE_Boise'],\n",
    "                    mode='markers',\n",
    "                    marker_color = 'rgb(0,0,128)',\n",
    "                    name='New Southeast Boise'))\n",
    "\n",
    "SEB_fig.add_trace(go.Scatter(x= df['index'], y=df['SE_SE_Boise_Infill'],\n",
    "                    mode='markers',  \n",
    "                    marker_color='rgb(0,0,205)',  \n",
    "                    name='Southeast Boise Infill'))\n",
    "\n",
    "SEB_fig.add_trace(go.Scatter(x= df['index'], y=df['SE_E_Boise_Waterfront'],\n",
    "                    mode='markers',  \n",
    "                    marker_color='rgb(0,0,255)',     \n",
    "                    name='East Boise Waterfront'))\n",
    "\n",
    "SEB_fig.add_trace(go.Scatter(x= df['index'], y=df['SE_Oregon_Trail'],\n",
    "                    mode='markers',\n",
    "                    marker_color='rgb(70,130,180)',     \n",
    "                    name='Oregon Trail'))\n",
    "\n",
    "SEB_fig.add_trace(go.Scatter(x= df['index'], y=df['SE_PU_Waterfront'],\n",
    "                    mode='markers',  \n",
    "                    marker_color='rgb(30,144,255)',     \n",
    "                    name='Park & University Waterfront'))\n",
    "\n",
    "\n",
    "SEB_fig.add_trace(go.Scatter(x= df['index'], y=df['SE_S_Boise_Desert'],\n",
    "                    mode='markers',\n",
    "                    marker_color='rgb(0,191,255)',     \n",
    "                    name='South Boise Desert'))\n",
    "\n",
    "#################### Reference line\n",
    "\n",
    "\n",
    "SEB_fig.add_trace(go.Scatter(x= df['index'] , y=df['ref_line'],\n",
    "                    mode = 'lines',          \n",
    "                    line = dict(color='Black', width=1, dash='dot'),          \n",
    "                    name='>0.3 Moderate Linear Relationship'))\n",
    "\n",
    "#################### Layout Title and Axis stuff\n",
    "\n",
    "SEB_fig.update_layout(\n",
    "    title=go.layout.Title(\n",
    "        text=\"<b>Correlation Coefficients for Southeast Boise and Associated Neighborhoods<b>\",\n",
    "        font = dict( \n",
    "            family = 'Times New Roman'),\n",
    "        xref=\"paper\",\n",
    "        x=.5\n",
    "    ),\n",
    "    yaxis=go.layout.YAxis(\n",
    "        title=go.layout.yaxis.Title(\n",
    "            text=\"<b>Correlation Coefficient<b>\",\n",
    "            font=dict(\n",
    "                family=\"Times New Roman\",\n",
    "                size=16,\n",
    "#                color=\"#7f7f7f\"\n",
    "            )\n",
    "        )\n",
    "    ),\n",
    "    xaxis=go.layout.XAxis(\n",
    "        type = 'category',\n",
    "        title=go.layout.xaxis.Title(\n",
    "            text=\"<b>Feature Key<b>\",\n",
    "            font=dict(\n",
    "                family=\"Times New Roman\",\n",
    "                size=16,\n",
    "#                color=\"#7f7f7f\"\n",
    "            )\n",
    "        )\n",
    "    ))\n",
    "\n",
    "\n",
    "SEB_fig.write_image(\"images/SEB_fig.jpg\")\n",
    "SEB_fig.show()"
   ]
  },
  {
   "cell_type": "markdown",
   "metadata": {},
   "source": [
    "## Northwest Boise-Garden City"
   ]
  },
  {
   "cell_type": "code",
   "execution_count": null,
   "metadata": {},
   "outputs": [],
   "source": [
    "df = pd.read_pickle('NW-Coeff-compare.pkl')\n",
    "df2 = pd.read_pickle('a-Coeff-compare.pkl')\n",
    "\n",
    "\n",
    "df = pd.merge(df,df2, on = 'index', how = 'outer')\n",
    "\n",
    "\n",
    "###########################################################\n",
    "\n",
    "# drops rows up to TAV_Ch, below TAV_Ch = 0 and TAV_Ch = 1 \n",
    "df = df.iloc[9:]\n",
    "\n",
    "# Needed to make a key for ease a readability and to make the reference line for moderate linear \n",
    "# relationship\n",
    "df= df.rename(columns = {'index' : 'Feature_Name'})\n",
    "df['index'] = ['00','01','02','03','04','05','06','07','08','09','10','11','12','13','14',\n",
    "             '15','16','17','18','19','20','21','22','23','24','25','26','27','28','29','30']\n",
    "df['ref_line'] = .3\n",
    "\n",
    "\n",
    "#this will drop rows that have less than 4 values (feature name, key, ref line, & @ least 1 value)\n",
    "df = df.dropna(thresh = 4)\n",
    "\n",
    "\n",
    "###########################################################\n",
    "\n",
    "NW_fig = go.Figure()\n",
    "\n",
    "NW_fig.add_trace(go.Scatter(x= df['index'], y=df['NW_Boise_GC'],\n",
    "                    mode='markers',\n",
    "                    marker_color = 'rgb(220,20,60)',\n",
    "                    marker=dict(size= 12, symbol = \"square-open\"),          \n",
    "                    name='NW Boise-Garden City Area'))\n",
    "\n",
    "NW_fig.add_trace(go.Scatter(x= df['index'], y=df['NW_New_N_Boise'],\n",
    "                    mode='markers',\n",
    "                    marker_color = 'rgb(128,0,0)',\n",
    "                    name='New North Boise'))\n",
    "\n",
    "NW_fig.add_trace(go.Scatter(x= df['index'], y=df['NW_NW_Boise'],\n",
    "                    mode='markers',  \n",
    "                    marker_color='rgb(255,0,0)',  \n",
    "                    name='Northwest Boise'))\n",
    "\n",
    "NW_fig.add_trace(go.Scatter(x= df['index'], y=df['NW_GC_Waterfront'],\n",
    "                    mode='markers',  \n",
    "                    marker_color='rgb(220,20,60)',     \n",
    "                    name='Gardin City Waterfront'))\n",
    "\n",
    "NW_fig.add_trace(go.Scatter(x= df['index'], y=df['NW_B_Foothills'],\n",
    "                    mode='markers',\n",
    "                    marker_color='rgb(205,92,92)',     \n",
    "                    name='Boise Foothills'))\n",
    "\n",
    "NW_fig.add_trace(go.Scatter(x= df['index'], y=df['NW_GCC_Corridor'],\n",
    "                    mode='markers',  \n",
    "                    marker_color='rgb(240,128,128)',     \n",
    "                    name='Garden City Cor.'))\n",
    "\n",
    "\n",
    "\n",
    "#################### Reference line\n",
    "\n",
    "\n",
    "NW_fig.add_trace(go.Scatter(x= df['index'] , y=df['ref_line'],\n",
    "                    mode = 'lines',          \n",
    "                    line = dict(color='Black', width=1, dash='dot'),          \n",
    "                    name='>0.3 Moderate Linear Relationship'))\n",
    "\n",
    "#################### Layout Title and Axis stuff\n",
    "\n",
    "NW_fig.update_layout(\n",
    "    title=go.layout.Title(\n",
    "        text=\"<b>Correlation Coefficients for Northwest Boise-Garden City and Associated Neighborhoods<b>\",\n",
    "        font = dict( \n",
    "            family = 'Times New Roman'),\n",
    "        xref=\"paper\",\n",
    "        x=.5\n",
    "    ),\n",
    "    yaxis=go.layout.YAxis(\n",
    "        title=go.layout.yaxis.Title(\n",
    "            text=\"<b>Correlation Coefficient<b>\",\n",
    "            font=dict(\n",
    "                family=\"Times New Roman\",\n",
    "                size=16,\n",
    "#                color=\"#7f7f7f\"\n",
    "            )\n",
    "        )\n",
    "    ),\n",
    "    xaxis=go.layout.XAxis(\n",
    "        type = 'category',\n",
    "        title=go.layout.xaxis.Title(\n",
    "            text=\"<b>Feature Key<b>\",\n",
    "            font=dict(\n",
    "                family=\"Times New Roman\",\n",
    "                size=16,\n",
    "#                color=\"#7f7f7f\"\n",
    "            )\n",
    "        )\n",
    "    ))\n",
    "\n",
    "\n",
    "NW_fig.write_image(\"images/NW_fig.jpg\")\n",
    "NW_fig.show()"
   ]
  },
  {
   "cell_type": "markdown",
   "metadata": {},
   "source": [
    "## Northeast Boise"
   ]
  },
  {
   "cell_type": "code",
   "execution_count": null,
   "metadata": {},
   "outputs": [],
   "source": [
    "df = pd.read_pickle('NE-Coeff-compare.pkl')\n",
    "df2 = pd.read_pickle('a-Coeff-compare.pkl')\n",
    "\n",
    "\n",
    "df = pd.merge(df,df2, on = 'index', how = 'outer')\n",
    "\n",
    "\n",
    "###########################################################\n",
    "\n",
    "# drops rows up to TAV_Ch, below TAV_Ch = 0 and TAV_Ch = 1 \n",
    "df = df.iloc[9:]\n",
    "\n",
    "# Needed to make a key for ease a readability and to make the reference line for moderate linear \n",
    "# relationship\n",
    "df= df.rename(columns = {'index' : 'Feature_Name'})\n",
    "df['index'] = ['00','01','02','03','04','05','06','07','08','09','10','11','12','13','14',\n",
    "             '15','16','17','18','19','20','21','22','23','24','25','26','27','28','29','30']\n",
    "df['ref_line'] = .3\n",
    "\n",
    "\n",
    "#this will drop rows that have less than 4 values (feature name, key, ref line, & @ least 1 value)\n",
    "df = df.dropna(thresh = 4)\n",
    "\n",
    "\n",
    "###########################################################\n",
    "\n",
    "NE_fig = go.Figure()\n",
    "\n",
    "NE_fig.add_trace(go.Scatter(x= df['index'], y=df['NE_Boise'],\n",
    "                    mode='markers',\n",
    "                    marker_color = 'rgb(199,21,133)',\n",
    "                    marker=dict(size= 12, symbol = \"bowtie-open\"),           \n",
    "                    name='Northeast Boise Area'))\n",
    "\n",
    "NE_fig.add_trace(go.Scatter(x= df['index'], y=df['NE_B_Foothills'],\n",
    "                    mode='markers',\n",
    "                    marker_color = 'rgb(199,21,133)',\n",
    "                    name='Boise Foothills'))\n",
    "\n",
    "NE_fig.add_trace(go.Scatter(x= df['index'], y=df['NE_Warm_Springs'],\n",
    "                    mode='markers',  \n",
    "                    marker_color='rgb(255,20,147)',  \n",
    "                    name='Warm Springs'))\n",
    "\n",
    "NE_fig.add_trace(go.Scatter(x= df['index'], y=df['NE_E_Boise_Waterfront'],\n",
    "                    mode='markers',  \n",
    "                    marker_color='rgb(240,128,128)',     \n",
    "                    name='East Boise Waterfront'))\n",
    "\n",
    "NE_fig.add_trace(go.Scatter(x= df['index'], y=df['NE_Barber_Harris_Ranch'],\n",
    "                    mode='markers',\n",
    "                    marker_color='rgb(255,182,193)',     \n",
    "                    name='Barber & Harris Ranch'))\n",
    "\n",
    "\n",
    "\n",
    "\n",
    "#################### Reference line\n",
    "\n",
    "\n",
    "NE_fig.add_trace(go.Scatter(x= df['index'] , y=df['ref_line'],\n",
    "                    mode = 'lines',          \n",
    "                    line = dict(color='Black', width=1, dash='dot'),          \n",
    "                    name='>0.3 Moderate Linear Relationship'))\n",
    "\n",
    "#################### Layout Title and Axis stuff\n",
    "\n",
    "NE_fig.update_layout(\n",
    "    title=go.layout.Title(\n",
    "        text=\"<b>Correlation Coefficients for Northeast Boise and Associated Neighborhoods<b>\",\n",
    "        font = dict( \n",
    "            family = 'Times New Roman'),\n",
    "        xref=\"paper\",\n",
    "        x=.5\n",
    "    ),\n",
    "    yaxis=go.layout.YAxis(\n",
    "        title=go.layout.yaxis.Title(\n",
    "            text=\"<b>Correlation Coefficient<b>\",\n",
    "            font=dict(\n",
    "                family=\"Times New Roman\",\n",
    "                size=16,\n",
    "#                color=\"#7f7f7f\"\n",
    "            )\n",
    "        )\n",
    "    ),\n",
    "    xaxis=go.layout.XAxis(\n",
    "        type = 'category',\n",
    "        title=go.layout.xaxis.Title(\n",
    "            text=\"<b>Feature Key<b>\",\n",
    "            font=dict(\n",
    "                family=\"Times New Roman\",\n",
    "                size=16,\n",
    "#                color=\"#7f7f7f\"\n",
    "            )\n",
    "        )\n",
    "    ))\n",
    "\n",
    "\n",
    "NE_fig.write_image(\"images/NE_fig.jpg\")\n",
    "NE_fig.show()"
   ]
  },
  {
   "cell_type": "markdown",
   "metadata": {},
   "source": [
    "## Southwest Boise"
   ]
  },
  {
   "cell_type": "code",
   "execution_count": null,
   "metadata": {},
   "outputs": [],
   "source": [
    "df = pd.read_pickle('SW-Coeff-compare.pkl')\n",
    "df2 = pd.read_pickle('a-Coeff-compare.pkl')\n",
    "\n",
    "\n",
    "df = pd.merge(df,df2, on = 'index', how = 'outer')\n",
    "\n",
    "\n",
    "###########################################################\n",
    "\n",
    "# drops rows up to TAV_Ch, below TAV_Ch = 0 and TAV_Ch = 1 \n",
    "df = df.iloc[9:]\n",
    "\n",
    "# Needed to make a key for ease a readability and to make the reference line for moderate linear \n",
    "# relationship\n",
    "df= df.rename(columns = {'index' : 'Feature_Name'})\n",
    "df['index'] = ['00','01','02','03','04','05','06','07','08','09','10','11','12','13','14',\n",
    "             '15','16','17','18','19','20','21','22','23','24','25','26','27','28','29','30']\n",
    "df['ref_line'] = .3\n",
    "\n",
    "\n",
    "#this will drop rows that have less than 4 values (feature name, key, ref line, & @ least 1 value)\n",
    "df = df.dropna(thresh = 4)\n",
    "\n",
    "\n",
    "###########################################################\n",
    "\n",
    "SW_fig = go.Figure()\n",
    "\n",
    "SW_fig.add_trace(go.Scatter(x= df['index'], y=df['SW_Boise'],\n",
    "                    mode='markers',\n",
    "                    marker_color = 'rgb(128,0,128)',\n",
    "                    marker=dict(size= 12, symbol = \"diamond-tall-open\"),           \n",
    "                    name='Southwest Boise Area'))\n",
    "\n",
    "SW_fig.add_trace(go.Scatter(x= df['index'], y=df['SW_WBF_Corridor'],\n",
    "                    mode='markers',\n",
    "                    marker_color = 'rgb(75,0,130)',\n",
    "                    name='West Boise Freeway Cor.'))\n",
    "\n",
    "SW_fig.add_trace(go.Scatter(x= df['index'], y=df['SW_Airport'],\n",
    "                    mode='markers',  \n",
    "                    marker_color='rgb(153,50,204)',  \n",
    "                    name='Airport'))\n",
    "\n",
    "SW_fig.add_trace(go.Scatter(x= df['index'], y=df['SW_BBF_Corridor'],\n",
    "                    mode='markers',  \n",
    "                    marker_color='rgb(255,0,255)',     \n",
    "                    name='Boise Bench Freeway Cor.'))\n",
    "\n",
    "SW_fig.add_trace(go.Scatter(x= df['index'], y=df['SW_S_B_Desert'],\n",
    "                    mode='markers',\n",
    "                    marker_color='rgb(147,112,219)',     \n",
    "                    name='South Boise Desert'))\n",
    "\n",
    "SW_fig.add_trace(go.Scatter(x= df['index'], y=df['SW_SW_Boise'],\n",
    "                    mode='markers',\n",
    "                    marker_color='rgb(221,160,221)',     \n",
    "                    name='Southwest Boise'))\n",
    "\n",
    "\n",
    "\n",
    "\n",
    "#################### Reference line\n",
    "\n",
    "\n",
    "SW_fig.add_trace(go.Scatter(x= df['index'] , y=df['ref_line'],\n",
    "                    mode = 'lines',          \n",
    "                    line = dict(color='Black', width=1, dash='dot'),          \n",
    "                    name='>0.3 Moderate Linear Relationship'))\n",
    "\n",
    "#################### Layout Title and Axis stuff\n",
    "\n",
    "SW_fig.update_layout(\n",
    "    title=go.layout.Title(\n",
    "        text=\"<b>Correlation Coefficients for Southwest Boise and Associated Neighborhoods<b>\",\n",
    "        font = dict( \n",
    "            family = 'Times New Roman'),\n",
    "        xref=\"paper\",\n",
    "        x=.5\n",
    "    ),\n",
    "    yaxis=go.layout.YAxis(\n",
    "        title=go.layout.yaxis.Title(\n",
    "            text=\"<b>Correlation Coefficient<b>\",\n",
    "            font=dict(\n",
    "                family=\"Times New Roman\",\n",
    "                size=16,\n",
    "#                color=\"#7f7f7f\"\n",
    "            )\n",
    "        )\n",
    "    ),\n",
    "    xaxis=go.layout.XAxis(\n",
    "        type = 'category',\n",
    "        title=go.layout.xaxis.Title(\n",
    "            text=\"<b>Feature Key<b>\",\n",
    "            font=dict(\n",
    "                family=\"Times New Roman\",\n",
    "                size=16,\n",
    "#                color=\"#7f7f7f\"\n",
    "            )\n",
    "        )\n",
    "    ))\n",
    "\n",
    "\n",
    "SW_fig.write_image(\"images/SW_fig.jpg\")\n",
    "SW_fig.show()"
   ]
  },
  {
   "cell_type": "markdown",
   "metadata": {},
   "source": [
    "## Southwest Boise-Meridian"
   ]
  },
  {
   "cell_type": "code",
   "execution_count": null,
   "metadata": {},
   "outputs": [],
   "source": [
    "df = pd.read_pickle('SWBM-Coeff-compare.pkl')\n",
    "df2 = pd.read_pickle('a-Coeff-compare.pkl')\n",
    "\n",
    "\n",
    "df = pd.merge(df,df2, on = 'index', how = 'outer')\n",
    "\n",
    "\n",
    "###########################################################\n",
    "\n",
    "# drops rows up to TAV_Ch, below TAV_Ch = 0 and TAV_Ch = 1 \n",
    "df = df.iloc[9:]\n",
    "\n",
    "# Needed to make a key for ease a readability and to make the reference line for moderate linear \n",
    "# relationship\n",
    "df= df.rename(columns = {'index' : 'Feature_Name'})\n",
    "df['index'] = ['00','01','02','03','04','05','06','07','08','09','10','11','12','13','14',\n",
    "             '15','16','17','18','19','20','21','22','23','24','25','26','27','28','29','30']\n",
    "df['ref_line'] = .3\n",
    "\n",
    "\n",
    "#this will drop rows that have less than 4 values (feature name, key, ref line, & @ least 1 value)\n",
    "df = df.dropna(thresh = 4)\n",
    "\n",
    "\n",
    "###########################################################\n",
    "\n",
    "SWBM_fig = go.Figure()\n",
    "\n",
    "SWBM_fig.add_trace(go.Scatter(x= df['index'], y=df['SW_Boise_M'],\n",
    "                    mode='markers',\n",
    "                    marker_color = 'rgb(139,69,19)',\n",
    "                    marker=dict(size= 14, symbol = \"triangle-nw-open\"),          \n",
    "                    name='SW Boise-Meridian Area'))\n",
    "\n",
    "SWBM_fig.add_trace(go.Scatter(x= df['index'], y=df['SWBM_WBF_Corridor'],\n",
    "                    mode='markers',\n",
    "                    marker_color = 'rgb(128,0,0)',\n",
    "                    name='West Boise Freeway Cor.'))\n",
    "\n",
    "SWBM_fig.add_trace(go.Scatter(x= df['index'], y=df['SWBM_MF_Corridor'],\n",
    "                    mode='markers',  \n",
    "                    marker_color='rgb(160,82,45)',     \n",
    "                    name='Meridian Freeway Cor.'))\n",
    "\n",
    "SWBM_fig.add_trace(go.Scatter(x= df['index'], y=df['SWBM_S_Meridian'],\n",
    "                    mode='markers',\n",
    "                    marker_color='rgb(210,105,30)',     \n",
    "                    name='South Meridian'))\n",
    "\n",
    "SWBM_fig.add_trace(go.Scatter(x= df['index'], y=df['SWBM_SW_Boise'],\n",
    "                    mode='markers',\n",
    "                    marker_color='rgb(218,165,32)',     \n",
    "                    name='Southwest Boise'))\n",
    "\n",
    "\n",
    "\n",
    "\n",
    "#################### Reference line\n",
    "\n",
    "\n",
    "SWBM_fig.add_trace(go.Scatter(x= df['index'] , y=df['ref_line'],\n",
    "                    mode = 'lines',          \n",
    "                    line = dict(color='Black', width=1, dash='dot'),          \n",
    "                    name='>0.3 Moderate Linear Relationship'))\n",
    "\n",
    "#################### Layout Title and Axis stuff\n",
    "\n",
    "SWBM_fig.update_layout(\n",
    "    title=go.layout.Title(\n",
    "        text=\"<b>Correlation Coefficients for Southwest Boise-Meridian and Associated Neighborhoods<b>\",\n",
    "        font = dict( \n",
    "            family = 'Times New Roman'),\n",
    "        xref=\"paper\",\n",
    "        x=.5\n",
    "    ),\n",
    "    yaxis=go.layout.YAxis(\n",
    "        title=go.layout.yaxis.Title(\n",
    "            text=\"<b>Correlation Coefficient<b>\",\n",
    "            font=dict(\n",
    "                family=\"Times New Roman\",\n",
    "                size=16,\n",
    "#                color=\"#7f7f7f\"\n",
    "            )\n",
    "        )\n",
    "    ),\n",
    "    xaxis=go.layout.XAxis(\n",
    "        type = 'category',\n",
    "        title=go.layout.xaxis.Title(\n",
    "            text=\"<b>Feature Key<b>\",\n",
    "            font=dict(\n",
    "                family=\"Times New Roman\",\n",
    "                size=16,\n",
    "#                color=\"#7f7f7f\"\n",
    "            )\n",
    "        )\n",
    "    ))\n",
    "\n",
    "\n",
    "SWBM_fig.write_image(\"images/SWBM_fig.jpg\")\n",
    "SWBM_fig.show()"
   ]
  },
  {
   "cell_type": "markdown",
   "metadata": {},
   "source": [
    "# Combine into a 3x3 grid"
   ]
  },
  {
   "cell_type": "code",
   "execution_count": null,
   "metadata": {},
   "outputs": [],
   "source": [
    "# nGrid = make_subplots(rows = 2, cols = 1)\n",
    "\n",
    "# nGrid.append_trace(WB_fig, row = 1, col = 1)\n",
    "# nGrid.append_trace(BB_fig, row = 2, col = 1)\n",
    "\n",
    "# nGrid.update_layout(height=600, width=600, title_text=\"Stacked subplots\")\n",
    "\n",
    "# nGrid.show()\n",
    "\n",
    "NGrid = go.Figure()\n",
    "\n",
    "nGrid.add_traces([WB_fig, BB_fig])\n",
    "\n",
    "nGrid.layout.update(BB_fig.layout)\n",
    "nGrid.layout.update(WB_fig.layout)\n",
    "\n",
    "fig.show()"
   ]
  },
  {
   "cell_type": "code",
   "execution_count": null,
   "metadata": {},
   "outputs": [],
   "source": [
    "WB_fig"
   ]
  },
  {
   "cell_type": "code",
   "execution_count": null,
   "metadata": {},
   "outputs": [],
   "source": []
  },
  {
   "cell_type": "code",
   "execution_count": null,
   "metadata": {},
   "outputs": [],
   "source": []
  },
  {
   "cell_type": "code",
   "execution_count": null,
   "metadata": {},
   "outputs": [],
   "source": []
  }
 ],
 "metadata": {
  "kernelspec": {
   "display_name": "Python 3",
   "language": "python",
   "name": "python3"
  },
  "language_info": {
   "codemirror_mode": {
    "name": "ipython",
    "version": 3
   },
   "file_extension": ".py",
   "mimetype": "text/x-python",
   "name": "python",
   "nbconvert_exporter": "python",
   "pygments_lexer": "ipython3",
   "version": "3.7.3"
  }
 },
 "nbformat": 4,
 "nbformat_minor": 2
}
