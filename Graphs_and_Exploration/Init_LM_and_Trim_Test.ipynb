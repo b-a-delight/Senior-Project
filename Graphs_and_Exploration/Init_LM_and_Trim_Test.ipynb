{
 "cells": [
  {
   "cell_type": "markdown",
   "metadata": {},
   "source": [
    "# Data Exploration"
   ]
  },
  {
   "cell_type": "markdown",
   "metadata": {},
   "source": [
    "### Libraries"
   ]
  },
  {
   "cell_type": "code",
   "execution_count": 1,
   "metadata": {},
   "outputs": [],
   "source": [
    "import numpy as np\n",
    "from numpy.core.defchararray import add\n",
    "import pandas as pd\n",
    "import xlrd\n",
    "import os\n",
    "import plotly\n",
    "import plotly.express as px\n",
    "from functools import reduce\n",
    "import sklearn"
   ]
  },
  {
   "cell_type": "code",
   "execution_count": null,
   "metadata": {},
   "outputs": [],
   "source": [
    "# New Libraries\n",
    "\n",
    "\n"
   ]
  },
  {
   "cell_type": "code",
   "execution_count": null,
   "metadata": {},
   "outputs": [],
   "source": [
    "# # install new libraries\n",
    "# !pip install plotly\n",
    "#!pip install matplotlib\n",
    "#!pip install seaborn\n",
    "#!pip install statsmodels\n",
    "#!pip install xgboost\n",
    "!pip install lightgbm"
   ]
  },
  {
   "cell_type": "markdown",
   "metadata": {},
   "source": [
    "### Load the pickles into data frames"
   ]
  },
  {
   "cell_type": "code",
   "execution_count": null,
   "metadata": {},
   "outputs": [],
   "source": [
    "df_hd = pd.read_pickle('houseAll.pkl')\n",
    "df_pop = pd.read_pickle('metroPop.pkl')\n",
    "df_hc = pd.read_pickle('metroHouse.pkl')\n",
    "df_year_base = pd.read_pickle('yearTotals.pkl')\n",
    "df_jobTypes = pd.read_pickle('jobTypes.pkl')\n",
    "df_jobSalery = pd.read_pickle('jobSalery.pkl')\n",
    "parcelNum = 'R2024320455'"
   ]
  },
  {
   "cell_type": "markdown",
   "metadata": {},
   "source": [
    "## Stuff"
   ]
  },
  {
   "cell_type": "code",
   "execution_count": null,
   "metadata": {},
   "outputs": [],
   "source": [
    "df_hd.head(5)\n",
    "#df_hd['GROUP'].nunique()\n",
    "#df_hd.dtypes"
   ]
  },
  {
   "cell_type": "code",
   "execution_count": null,
   "metadata": {},
   "outputs": [],
   "source": [
    "#df_hd.dtypes\n",
    "df_hd['Neighborhood'].unique()"
   ]
  },
  {
   "cell_type": "code",
   "execution_count": null,
   "metadata": {},
   "outputs": [],
   "source": [
    "# Abbreviated dataframe for all of the parcels\n",
    "df_hd = pd.read_pickle('houseAll.pkl')\n",
    "short_house = df_hd[['Year','Parcel','Year_Built','Age','Total_Sq_Ft','Bedroom_Count','Area','Neighborhood','TAV']]\n",
    "short_house.to_pickle('short_house.pkl')\n",
    "short_house.head()"
   ]
  },
  {
   "cell_type": "code",
   "execution_count": null,
   "metadata": {},
   "outputs": [],
   "source": [
    "#short_house.loc[short_house['PARCEL'] == parcelNum]\n",
    "short_house = pd.read_pickle('short_house.pkl')\n",
    "myA = short_house[short_house['Area'] == 'BOISE BENCH']\n",
    "myA.to_pickle('myA.pkl')\n",
    "myN = short_house[short_house['Neighborhood'] == 'CENTRAL BOISE BENCH']\n",
    "myN.to_pickle('myN.pkl')\n",
    "myN.head()"
   ]
  },
  {
   "cell_type": "code",
   "execution_count": null,
   "metadata": {},
   "outputs": [],
   "source": [
    "myA.head()"
   ]
  },
  {
   "cell_type": "markdown",
   "metadata": {},
   "source": [
    "### Searching code "
   ]
  },
  {
   "cell_type": "markdown",
   "metadata": {},
   "source": [
    "# Big merge for testing LM"
   ]
  },
  {
   "cell_type": "code",
   "execution_count": null,
   "metadata": {},
   "outputs": [],
   "source": [
    "jobTypes = pd.read_pickle('jobTypes.pkl')\n",
    "jobSalery = pd.read_pickle('jobSalery.pkl')\n",
    "yearTotals = pd.read_pickle('yearTotals.pkl')\n",
    "myN = pd.read_pickle('myN.pkl')\n",
    "myA = pd.read_pickle('myA.pkl')\n",
    "\n",
    "dfn = [myN, jobTypes, jobSalery, yearTotals]\n",
    "dfa = [myA, jobTypes, jobSalery, yearTotals]\n",
    "dfN = reduce(lambda left,right: pd.merge(left,right, on = 'Year'), dfn)\n",
    "dfA = reduce(lambda left,right: pd.merge(left,right, on = 'Year'), dfa)\n",
    "dfN.to_pickle('NmodelDF.pkl')\n",
    "dfA.to_pickle('AmodelDF.pkl')\n",
    "\n"
   ]
  },
  {
   "cell_type": "markdown",
   "metadata": {},
   "source": [
    "# Testing LM"
   ]
  },
  {
   "cell_type": "markdown",
   "metadata": {},
   "source": [
    "New try for Linear Regression Multiple Variables, https://www.youtube.com/watch?v=J_LnPL3Qg70"
   ]
  },
  {
   "cell_type": "code",
   "execution_count": null,
   "metadata": {},
   "outputs": [],
   "source": [
    "import pandas as pd\n",
    "import numpy as np\n",
    "from sklearn import linear_model"
   ]
  },
  {
   "cell_type": "code",
   "execution_count": null,
   "metadata": {},
   "outputs": [],
   "source": [
    "# Using myN to make a dataframe that is like the example in the tutorial\n",
    "miniTestN = dfN[['Total_Sq_Ft','Bedroom_Count','Age','TAV']]\n",
    "miniTestA = dfA[['Total_Sq_Ft','Bedroom_Count','Age','TAV']]\n",
    "miniTest.head()"
   ]
  },
  {
   "cell_type": "code",
   "execution_count": null,
   "metadata": {},
   "outputs": [],
   "source": [
    "regN = linear_model.LinearRegression()\n",
    "regA = linear_model.LinearRegression()\n",
    "# reg.fit(ind vars, dep var)\n",
    "regN.fit(miniTestN[['Total_Sq_Ft','Bedroom_Count','Age']],miniTestN.TAV)\n",
    "regA.fit(miniTestA[['Total_Sq_Ft','Bedroom_Count','Age']],miniTestA.TAV)"
   ]
  },
  {
   "cell_type": "code",
   "execution_count": null,
   "metadata": {},
   "outputs": [],
   "source": [
    "regN.coef_\n",
    "regA.coef_\n",
    "regN.intercept_\n",
    "regA.intercept_\n",
    "regN.predict([[1700,3,75]])\n",
    "# this makes since because there are very few change variables only age goes up by 1 and the TAV goes up, needs the rest\n",
    "regA.predict([[1700,3,75]])"
   ]
  },
  {
   "cell_type": "code",
   "execution_count": null,
   "metadata": {},
   "outputs": [],
   "source": []
  },
  {
   "cell_type": "code",
   "execution_count": null,
   "metadata": {},
   "outputs": [],
   "source": []
  },
  {
   "cell_type": "code",
   "execution_count": null,
   "metadata": {},
   "outputs": [],
   "source": []
  },
  {
   "cell_type": "code",
   "execution_count": null,
   "metadata": {},
   "outputs": [],
   "source": [
    "import statsmodels.api as sm\n",
    "from sklearn.linear_model import LinearRegression"
   ]
  },
  {
   "cell_type": "code",
   "execution_count": null,
   "metadata": {},
   "outputs": [],
   "source": [
    "x = pd.DataFrame(np.c)\n",
    "y = ['T']"
   ]
  },
  {
   "cell_type": "code",
   "execution_count": null,
   "metadata": {},
   "outputs": [],
   "source": [
    "dfL.describe()"
   ]
  },
  {
   "cell_type": "code",
   "execution_count": null,
   "metadata": {},
   "outputs": [],
   "source": [
    "sns.distplot(dfL['TAV'])"
   ]
  },
  {
   "cell_type": "code",
   "execution_count": null,
   "metadata": {},
   "outputs": [],
   "source": [
    "#myN.info()\n",
    "#jobTypes.info()\n",
    "#jobSalery.info()\n",
    "yearTotals.info()"
   ]
  },
  {
   "cell_type": "markdown",
   "metadata": {},
   "source": [
    "# Testing outliers and getting the data into graphing and analysis"
   ]
  },
  {
   "cell_type": "code",
   "execution_count": null,
   "metadata": {},
   "outputs": [],
   "source": [
    "import pandas as pd\n",
    "import seaborn as sns\n",
    "import scipy.stats as stats\n",
    "import numpy as np\n",
    "import warnings\n",
    "import matplotlib.pyplot as plt"
   ]
  },
  {
   "cell_type": "code",
   "execution_count": null,
   "metadata": {},
   "outputs": [],
   "source": [
    "sns.set(rc={'figure.figsize':(12, 7.5)})\n",
    "sns.set_context('talk')"
   ]
  },
  {
   "cell_type": "code",
   "execution_count": null,
   "metadata": {},
   "outputs": [],
   "source": [
    "\n",
    "#df_hd.loc[df_hd['GROUP'] == 'ELIZABETH PL']\n",
    "\n",
    "#tBlock = short_house.loc[(short_house['TOWNSHIP'] == '3N')&(short_house['RANGE']=='2E')&(short_house['SECTION']==16)]\n",
    "\n",
    "#tList = tBlock[tBlock['GROUP'].str.contains(r'GLEN)]\n",
    "#tList.GROUP.unique()\n"
   ]
  },
  {
   "cell_type": "code",
   "execution_count": null,
   "metadata": {},
   "outputs": [],
   "source": [
    "myN00 = myN[myN['YEAR'] == 2000]\n",
    "myN00.to_pickle('myN00.pkl')\n",
    "myN00.head()"
   ]
  },
  {
   "cell_type": "code",
   "execution_count": null,
   "metadata": {},
   "outputs": [],
   "source": [
    "sns.distplot(myN00['TAV'])"
   ]
  },
  {
   "cell_type": "markdown",
   "metadata": {},
   "source": [
    "$z$ - score $ = \\frac{x-\\mu}{\\sigma}$"
   ]
  },
  {
   "cell_type": "code",
   "execution_count": null,
   "metadata": {},
   "outputs": [],
   "source": [
    "#mean\n",
    "myNmean = myN['TAV'].mean()\n",
    "\n",
    "# standard deviation\n",
    "myNsd = myN['TAV'].std()\n",
    "\n",
    "myN00['Z-Score'] = (myN00['TAV']-myNmean)/myNsd\n",
    "\n",
    "myN00.to_pickle('myN00.pkl')\n",
    "myN00.head()\n",
    "#myNmean\n",
    "#myNsd"
   ]
  },
  {
   "cell_type": "code",
   "execution_count": null,
   "metadata": {},
   "outputs": [],
   "source": [
    "myN00['Z-Score'].min()\n",
    "myN00['Z-Score'].min()\n",
    "#sns.distplot(myN00['Z-Score'])"
   ]
  },
  {
   "cell_type": "markdown",
   "metadata": {},
   "source": [
    "# Make df for all neighborhoods over each year"
   ]
  },
  {
   "cell_type": "code",
   "execution_count": null,
   "metadata": {},
   "outputs": [],
   "source": [
    "# make list of neighborhoods\n",
    "\n",
    "# make list of years"
   ]
  },
  {
   "cell_type": "code",
   "execution_count": null,
   "metadata": {},
   "outputs": [],
   "source": [
    "# make a fn to make a vector for average house $ for a neighborhood for each year\n",
    "\n",
    "\n",
    "\n"
   ]
  },
  {
   "cell_type": "code",
   "execution_count": null,
   "metadata": {},
   "outputs": [],
   "source": [
    "# make a df where each column is one of the vectors made from the fn\n",
    "\n",
    "\n"
   ]
  },
  {
   "cell_type": "code",
   "execution_count": null,
   "metadata": {},
   "outputs": [],
   "source": []
  },
  {
   "cell_type": "code",
   "execution_count": null,
   "metadata": {},
   "outputs": [],
   "source": []
  },
  {
   "cell_type": "code",
   "execution_count": null,
   "metadata": {},
   "outputs": [],
   "source": [
    "myN00 = pd.read_pickle('myN00.pkl')\n",
    "\n",
    "myN00F = myN00.loc[(myN00['Z-Score'] <= 3) & (myN00['Z-Score'] >= -3) ]\n",
    "#myN00 = myN00.drop(myN00[myN00['Z-Score'] <= 3].index, inplace = True)\n",
    "#myN00['Z-Score'].max()\n",
    "myN00F.head()"
   ]
  },
  {
   "cell_type": "code",
   "execution_count": null,
   "metadata": {},
   "outputs": [],
   "source": [
    "myN00['Z-Score'].max()"
   ]
  },
  {
   "cell_type": "code",
   "execution_count": null,
   "metadata": {},
   "outputs": [],
   "source": [
    "myN00.shape"
   ]
  },
  {
   "cell_type": "code",
   "execution_count": null,
   "metadata": {},
   "outputs": [],
   "source": [
    "sns.distplot(myN00F['TAV'], color = \"maroon\")"
   ]
  },
  {
   "cell_type": "markdown",
   "metadata": {},
   "source": [
    "## Figure out IQR\n",
    "$$IQR = Q3-Q1$$\n",
    "Outliers:\n",
    "    $$<(Q1 - 1.5 * IQR)$$\n",
    "    $$>(Q3 + 1.5 * IQR)$$"
   ]
  },
  {
   "cell_type": "code",
   "execution_count": null,
   "metadata": {},
   "outputs": [],
   "source": [
    "myN00q1 = myN00['TAV'].quantile(0.25)\n",
    "myN00q3 = myN00['TAV'].quantile(0.75)\n",
    "myN00iqr = myN00q3 - myN00q1\n",
    "iqrMax = myN00q3 + (1.5*myN00iqr)\n",
    "iqrMin = myN00q1 - (1.5*myN00iqr)\n",
    "myN00iqr"
   ]
  },
  {
   "cell_type": "code",
   "execution_count": null,
   "metadata": {},
   "outputs": [],
   "source": [
    "myN00 = pd.read_pickle('myN00.pkl')\n",
    "myN00i = myN00[(myN00['TAV']<iqrMax) & (myN00['TAV'] > iqrMin)]\n",
    "myN00i['TAV'].max()"
   ]
  },
  {
   "cell_type": "code",
   "execution_count": null,
   "metadata": {},
   "outputs": [],
   "source": [
    "print(myN00F['TAV'].max())\n",
    "print(myN00q3+(1.5*myN00iqr))"
   ]
  },
  {
   "cell_type": "code",
   "execution_count": null,
   "metadata": {},
   "outputs": [],
   "source": [
    "sns.distplot(myN00i['TAV'])\n",
    "#sns.distplot(myN00F['TAV'], color = \"maroon\")"
   ]
  },
  {
   "cell_type": "code",
   "execution_count": null,
   "metadata": {},
   "outputs": [],
   "source": [
    "myN00i['TAV'].hist()"
   ]
  },
  {
   "cell_type": "code",
   "execution_count": null,
   "metadata": {},
   "outputs": [],
   "source": [
    "#df_year_base\n",
    "\n",
    "import plotly\n",
    "import plotly.express as px\n",
    "\n",
    "fig1 = px.line(df_year_base, x='Year', y = 'TotalHouse')\n",
    "fig2 = px.line(df_year_base, x='Year', y = 'TotalPop')\n",
    "fig2.show()"
   ]
  },
  {
   "cell_type": "code",
   "execution_count": null,
   "metadata": {},
   "outputs": [],
   "source": [
    "df_year_base.info()"
   ]
  },
  {
   "cell_type": "code",
   "execution_count": null,
   "metadata": {},
   "outputs": [],
   "source": []
  },
  {
   "cell_type": "markdown",
   "metadata": {},
   "source": [
    "# Graph Stuff"
   ]
  },
  {
   "cell_type": "code",
   "execution_count": null,
   "metadata": {},
   "outputs": [],
   "source": []
  },
  {
   "cell_type": "code",
   "execution_count": null,
   "metadata": {},
   "outputs": [],
   "source": [
    "import plotly\n",
    "import plotly.express as px\n",
    "\n",
    "fig1 = px.box(mySec, x='YEAR', y = 'TAV')\n",
    "fig1.show()"
   ]
  },
  {
   "cell_type": "code",
   "execution_count": null,
   "metadata": {},
   "outputs": [],
   "source": [
    "import plotly.graph_objects as go\n",
    "\n",
    "fig = go.Figure(data =go.Scatter(\n",
    "        x = mySec['YEAR'],\n",
    "        y = mySec['TAV']))\n",
    "\n",
    "fig.show()"
   ]
  },
  {
   "cell_type": "markdown",
   "metadata": {},
   "source": [
    "### Look into z-scores for trimming the outliers\n",
    "https://towardsdatascience.com/ways-to-detect-and-remove-the-outliers-404d16608dba"
   ]
  },
  {
   "cell_type": "code",
   "execution_count": null,
   "metadata": {},
   "outputs": [],
   "source": []
  },
  {
   "cell_type": "code",
   "execution_count": null,
   "metadata": {},
   "outputs": [],
   "source": [
    "yearTotals = pd.read_pickle('yearTotals.pkl')\n",
    "yearTotals.info()"
   ]
  },
  {
   "cell_type": "code",
   "execution_count": null,
   "metadata": {},
   "outputs": [],
   "source": [
    "import datetime as dt"
   ]
  },
  {
   "cell_type": "code",
   "execution_count": null,
   "metadata": {},
   "outputs": [],
   "source": [
    "yearTotals = pd.read_pickle('yearTotals.pkl')\n",
    "\n",
    "#yearTotals.astype({'Year' : 'datetime'})\n",
    "#type(yearTotals.at[2,0])\n",
    "yearTotals['Year'] = yearTotals['Year'].astype(str)\n",
    "yearTotals['Year'] = yearTotals['Year'].astype('datetime64[Y]')\n",
    "#yearTotals['Year'] = pd.to_datetime(yearTotals['Year'], format = '%Y')\n",
    "\n",
    "yearTotals['Year'] = yearTotals['Year'].dt.year\n",
    "\n",
    "\n",
    "yearTotals"
   ]
  }
 ],
 "metadata": {
  "kernelspec": {
   "display_name": "Python 3",
   "language": "python",
   "name": "python3"
  },
  "language_info": {
   "codemirror_mode": {
    "name": "ipython",
    "version": 3
   },
   "file_extension": ".py",
   "mimetype": "text/x-python",
   "name": "python",
   "nbconvert_exporter": "python",
   "pygments_lexer": "ipython3",
   "version": "3.7.3"
  }
 },
 "nbformat": 4,
 "nbformat_minor": 2
}
