{
 "cells": [
  {
   "cell_type": "markdown",
   "metadata": {},
   "source": [
    "# New Test from kaggle\n",
    "https://www.kaggle.com/erick5/predicting-house-prices-with-machine-learning"
   ]
  },
  {
   "cell_type": "code",
   "execution_count": null,
   "metadata": {},
   "outputs": [],
   "source": [
    "# libraries from kaggle\n",
    "import pandas as pd\n",
    "import numpy as np\n",
    "import seaborn as sns\n",
    "import matplotlib\n",
    "import matplotlib.pyplot as plt\n",
    "import warnings\n",
    "import xgboost as xgb\n",
    "import lightgbm as lgb\n",
    "from scipy.stats import skew\n",
    "from scipy import stats\n",
    "from scipy.stats.stats import pearsonr\n",
    "from scipy.stats import norm\n",
    "from collections import Counter\n",
    "from sklearn.linear_model import LinearRegression,LassoCV, Ridge, LassoLarsCV,ElasticNetCV\n",
    "from sklearn.model_selection import GridSearchCV, cross_val_score, learning_curve\n",
    "from sklearn.ensemble import RandomForestRegressor, AdaBoostRegressor, ExtraTreesRegressor, GradientBoostingRegressor\n",
    "from sklearn.preprocessing import StandardScaler, Normalizer, RobustScaler\n",
    "warnings.filterwarnings('ignore')\n",
    "sns.set(style='white', context='notebook', palette='deep')\n",
    "%config InlineBackend.figure_format = 'retina' #set 'png' here when working on notebook\n",
    "%matplotlib inline"
   ]
  },
  {
   "cell_type": "code",
   "execution_count": null,
   "metadata": {},
   "outputs": [],
   "source": [
    "import sys\n",
    "np.set_printoptions(threshold=np.inf)\n",
    "pd.options.display.float_format = '{:.2f}'.format"
   ]
  },
  {
   "cell_type": "code",
   "execution_count": null,
   "metadata": {},
   "outputs": [],
   "source": [
    "house_df = pd.read_pickle('houseAll.pkl')\n",
    "jobs_df = pd.read_pickle('jobFeatures.pkl')\n",
    "yearTotals = pd.read_pickle('yearTotals.pkl')\n",
    "\n",
    "df = house_df[['Parcel','Year','Age','Area','Neighborhood','TAV','Bedroom_Count','BATHROOMS',\n",
    "               'Total_Sq_Ft']]\n",
    "\n",
    "df = pd.merge(df, jobs_df, on = 'Year', how = 'left')\n",
    "df = pd.merge(df, yearTotals, on = 'Year', how = 'left')\n",
    "\n",
    "df = df.drop(columns = ['Job_Manual_Count', 'All Occupations'])\n",
    "\n",
    "df = df[df['Area'] == 'BOISE BENCH']\n",
    "\n",
    "df['Year'] = df['Year'].astype(str)\n",
    "df['Year'] = df['Year'].astype('datetime64[Y]')\n",
    "\n",
    "\n",
    "df.to_pickle('temp.pkl')\n",
    "#df.info()\n",
    "#df.head()"
   ]
  },
  {
   "cell_type": "code",
   "execution_count": null,
   "metadata": {},
   "outputs": [],
   "source": [
    "# print(house_df.info())\n",
    "print(type(df.iloc[0,1]))\n",
    "df.head(5)"
   ]
  },
  {
   "cell_type": "code",
   "execution_count": null,
   "metadata": {},
   "outputs": [],
   "source": [
    "# raw data plot do not re-run\n",
    "sns.distplot(df['TAV'], fit = norm)"
   ]
  },
  {
   "cell_type": "markdown",
   "metadata": {},
   "source": [
    "$z$ - score $ = \\frac{x-\\mu}{\\sigma}$"
   ]
  },
  {
   "cell_type": "code",
   "execution_count": null,
   "metadata": {},
   "outputs": [],
   "source": [
    "# testing z-score\n",
    "\n",
    "dfMean = df['TAV'].mean()\n",
    "dfStd = df['TAV'].std()\n",
    "\n",
    "df['Z-score'] = (df['TAV']-dfMean)/dfStd\n",
    "\n",
    "df = df[(df['Z-score'] < 3) & (df['Z-score'] >-3)]\n",
    "temp = df[['Parcel','Year','TAV','Z-score']]\n",
    "#temp.tail(50)"
   ]
  },
  {
   "cell_type": "code",
   "execution_count": null,
   "metadata": {},
   "outputs": [],
   "source": [
    "# z-score results do not rerun\n",
    "sns.distplot(df['TAV'], fit = norm)"
   ]
  },
  {
   "cell_type": "markdown",
   "metadata": {},
   "source": [
    "## Figure out IQR\n",
    "$$IQR = Q3-Q1$$\n",
    "Outliers:\n",
    "    $$<(Q1 - 1.5 * IQR)$$\n",
    "    $$>(Q3 + 1.5 * IQR)$$"
   ]
  },
  {
   "cell_type": "code",
   "execution_count": null,
   "metadata": {},
   "outputs": [],
   "source": [
    "df = pd.read_pickle('temp.pkl')\n",
    "dfq1 = df['TAV'].quantile(0.25)\n",
    "dfq3 = df['TAV'].quantile(0.75)\n",
    "dfiqr = dfq3 - dfq1\n",
    "iqrMax = dfq3 + (1.5*dfiqr)\n",
    "iqrMin = dfq1 - (1.5*dfiqr)\n",
    "print(dfq1)\n",
    "print(dfq3)\n",
    "print(dfiqr)\n",
    "print(iqrMin)\n",
    "print(iqrMax)"
   ]
  },
  {
   "cell_type": "code",
   "execution_count": null,
   "metadata": {},
   "outputs": [],
   "source": [
    "# iqr results do not re-run\n",
    "df = df[(df['TAV']> iqrMin) & (df['TAV'] < iqrMax)]\n",
    "sns.distplot(df['TAV'], fit = norm)"
   ]
  },
  {
   "cell_type": "code",
   "execution_count": null,
   "metadata": {},
   "outputs": [],
   "source": [
    "#df = pd.read_pickle('temp.pkl')\n",
    "train = df.sample(frac = 0.75, random_state = 0)\n",
    "test = df.drop(train.index)\n",
    "train.drop('Parcel', axis =1, inplace = True)\n",
    "test.drop('Parcel', axis =1, inplace = True)"
   ]
  },
  {
   "cell_type": "code",
   "execution_count": null,
   "metadata": {},
   "outputs": [],
   "source": [
    "train['TAV'].describe()"
   ]
  },
  {
   "cell_type": "code",
   "execution_count": null,
   "metadata": {},
   "outputs": [],
   "source": [
    "print(df.shape)\n",
    "print(test.shape)\n",
    "print(train.shape)"
   ]
  },
  {
   "cell_type": "code",
   "execution_count": null,
   "metadata": {},
   "outputs": [],
   "source": [
    "sns.distplot(train['TAV'], fit = norm);\n",
    "\n",
    "(mu, sigma) = norm.fit(train['TAV'])\n",
    "print( '\\n mu = {:.2f} and sigma = {:.2f}\\n'.format(mu, sigma))\n",
    "plt.legend(['Normal dist. ($\\mu=$ {:.2f} and $\\sigma=$ {:.2f} )'.format(mu, sigma)],\n",
    "            loc='best')\n",
    "plt.ylabel('Frequency')\n",
    "plt.title('TAV distribution')\n",
    "\n",
    "fig = plt.figure()\n",
    "res = stats.probplot(train['TAV'], plot=plt)\n",
    "plt.show()\n",
    "\n",
    "print(\"Skewness: %f\" % train['TAV'].skew())\n",
    "print(\"Kurtosis: %f\" % train['TAV'].kurt())"
   ]
  },
  {
   "cell_type": "markdown",
   "metadata": {},
   "source": [
    "The values for asymmetry and kurtosis between -2 and +2 are considered acceptable in order to prove normal univariate distribution (George & Mallery, 2010). George, D., & Mallery, M. (2010). SPSS for Windows Step by Step: A Simple Guide and Reference, 17.0 update (10a ed.) Boston: Pearson."
   ]
  },
  {
   "cell_type": "code",
   "execution_count": null,
   "metadata": {},
   "outputs": [],
   "source": []
  },
  {
   "cell_type": "code",
   "execution_count": null,
   "metadata": {},
   "outputs": [],
   "source": [
    "print(train.select_dtypes(include = ['object']).columns)\n",
    "print(train.select_dtypes(include = ['category']).columns)\n",
    "print(train.select_dtypes(include=['int64','float64']).columns)"
   ]
  },
  {
   "cell_type": "code",
   "execution_count": null,
   "metadata": {},
   "outputs": [],
   "source": [
    "cat = len(train.select_dtypes(include = ['category']).columns)\n",
    "num = len(train.select_dtypes(include = ['int64','float64']).columns)\n",
    "print('Total Features: ', cat, 'categorical', '+',\n",
    "      num, 'numerical', '=', cat+num, 'features')"
   ]
  },
  {
   "cell_type": "code",
   "execution_count": null,
   "metadata": {},
   "outputs": [],
   "source": [
    "# Correlation Matrix Heatmap\n",
    "corrmat = train.corr()\n",
    "f, ax = plt.subplots(figsize=(12, 9))\n",
    "sns.heatmap(corrmat, vmax=.8, square=True);"
   ]
  },
  {
   "cell_type": "code",
   "execution_count": null,
   "metadata": {},
   "outputs": [],
   "source": [
    "# Top 10 Heatmap\n",
    "k = 10 #number of variables for heatmap\n",
    "cols = corrmat.nlargest(k, 'TAV')['TAV'].index\n",
    "cm = np.corrcoef(train[cols].values.T)\n",
    "sns.set(font_scale=1.25)\n",
    "hm = sns.heatmap(cm, cbar=True, annot=True, square=True, fmt='.2f', annot_kws={'size': 10}, yticklabels=cols.values, xticklabels=cols.values)\n",
    "plt.show()"
   ]
  },
  {
   "cell_type": "code",
   "execution_count": null,
   "metadata": {},
   "outputs": [],
   "source": [
    "most_corr = pd.DataFrame(cols)\n",
    "most_corr.columns = ['Most Correlated Features']\n",
    "most_corr"
   ]
  },
  {
   "cell_type": "code",
   "execution_count": null,
   "metadata": {},
   "outputs": [],
   "source": [
    "# Overall Quality vs Sale Price\n",
    "var = 'Sales And Related Occupations'\n",
    "data = pd.concat([train['TAV'], train[var]], axis=1)\n",
    "f, ax = plt.subplots(figsize=(8, 6))\n",
    "fig = sns.boxplot(x=var, y=\"TAV\", data=data)\n",
    "fig.axis(ymin=0, ymax=800000);"
   ]
  },
  {
   "cell_type": "code",
   "execution_count": null,
   "metadata": {},
   "outputs": [],
   "source": [
    "# Living Area vs Sale Price\n",
    "sns.jointplot(x=train['Total_Sq_Ft'], y=train['TAV'], kind='reg')"
   ]
  },
  {
   "cell_type": "code",
   "execution_count": null,
   "metadata": {},
   "outputs": [],
   "source": [
    "# Total Rooms vs Sale Price\n",
    "var = 'Year'\n",
    "data = pd.concat([train['TAV'], train[var]], axis=1)\n",
    "f, ax = plt.subplots(figsize=(16, 8))\n",
    "fig = sns.boxplot(x=var, y=\"TAV\", data=data)\n",
    "fig.axis(ymin=0, ymax=800000);\n",
    "plt.xticks(rotation=90);"
   ]
  },
  {
   "cell_type": "code",
   "execution_count": null,
   "metadata": {},
   "outputs": [],
   "source": [
    "# Total Rooms vs Sale Price\n",
    "\n",
    "tempDF = df[df['Neighborhood'] == 'CENTRAL BOISE BENCH']\n",
    "var = 'Year'\n",
    "data = pd.concat([tempDF['TAV'], tempDF[var]], axis=1)\n",
    "f, ax = plt.subplots(figsize=(16, 8))\n",
    "fig = sns.boxplot(x=var, y=\"TAV\", data=data)\n",
    "fig.axis(ymin=0, ymax=800000);\n",
    "plt.xticks(rotation=90);"
   ]
  },
  {
   "cell_type": "code",
   "execution_count": null,
   "metadata": {},
   "outputs": [],
   "source": []
  },
  {
   "cell_type": "code",
   "execution_count": null,
   "metadata": {},
   "outputs": [],
   "source": []
  }
 ],
 "metadata": {
  "kernelspec": {
   "display_name": "Python 3",
   "language": "python",
   "name": "python3"
  },
  "language_info": {
   "codemirror_mode": {
    "name": "ipython",
    "version": 3
   },
   "file_extension": ".py",
   "mimetype": "text/x-python",
   "name": "python",
   "nbconvert_exporter": "python",
   "pygments_lexer": "ipython3",
   "version": "3.7.3"
  }
 },
 "nbformat": 4,
 "nbformat_minor": 2
}
