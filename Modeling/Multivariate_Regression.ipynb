{
 "cells": [
  {
   "cell_type": "markdown",
   "metadata": {},
   "source": [
    "# Multivariate Regression"
   ]
  },
  {
   "cell_type": "markdown",
   "metadata": {},
   "source": [
    "### Libraries"
   ]
  },
  {
   "cell_type": "code",
   "execution_count": 1,
   "metadata": {},
   "outputs": [],
   "source": [
    "import numpy as np\n",
    "from numpy.core.defchararray import add\n",
    "import pandas as pd\n",
    "import os\n",
    "import plotly\n",
    "import plotly.express as px\n",
    "from functools import reduce\n",
    "import sklearn\n",
    "\n",
    "np.set_printoptions(threshold=np.inf)\n",
    "\n",
    "pd.options.display.float_format = '{:.4f}'.format\n",
    "\n",
    "path = 'C:/Users/delightb/Desktop/Final_Project/Senior-Project/Pickle'\n",
    "####   = pd.read_pickle(os.path.join(path,'abvHouse.pkl'))"
   ]
  },
  {
   "cell_type": "code",
   "execution_count": 2,
   "metadata": {},
   "outputs": [],
   "source": [
    "import pandas as pd\n",
    "import numpy as np\n",
    "from patsy import dmatrices\n",
    "import statsmodels.api as sm\n",
    "from statsmodels.stats.outliers_influence import variance_inflation_factor"
   ]
  },
  {
   "cell_type": "markdown",
   "metadata": {},
   "source": [
    "# Checking the Variance Inflation Factor (VIF)\n",
    "$$ V.I.F. = 1 / (1 - R^2). $$\n",
    "https://etav.github.io/python/vif_factor_python.html"
   ]
  },
  {
   "cell_type": "markdown",
   "metadata": {},
   "source": [
    "_Steps for Implementing VIF_\n",
    "1. Run a multiple regression\n",
    "2. Calculate the VIF factors\n",
    "3. Inspect the factors for each predictor variable, if the VIF is between 5-10, multicolinearity is likely present and you should consider dropping the variable."
   ]
  },
  {
   "cell_type": "markdown",
   "metadata": {},
   "source": [
    "### Step 1: Run a multiple regression"
   ]
  },
  {
   "cell_type": "code",
   "execution_count": 3,
   "metadata": {},
   "outputs": [],
   "source": [
    "def clean_dataset(df):\n",
    "    assert isinstance(df, pd.DataFrame), \"df needs to be a pd.DataFrame\"\n",
    "    df.dropna(inplace=True)\n",
    "    indices_to_keep = ~df.isin([np.nan, np.inf, -np.inf]).any(1)\n",
    "    return df[indices_to_keep].astype(np.float64)"
   ]
  },
  {
   "cell_type": "code",
   "execution_count": 4,
   "metadata": {},
   "outputs": [
    {
     "name": "stdout",
     "output_type": "stream",
     "text": [
      "0.019773711422831117\n",
      "[ 1.70082054e-04  9.81572249e-04 -1.97234575e-03 -1.29849044e-08\n",
      "  3.94135441e-02  1.77097184e-01  1.35842018e-01 -1.07286238e-01\n",
      " -4.23380777e-02  3.23513460e-02  2.18835616e-02 -2.83692346e-01\n",
      " -1.07745209e-02 -2.02993831e-02  2.31187756e-01  9.96609280e-02\n",
      "  1.34812809e-01 -4.33944704e-02 -1.10975182e-01  3.34730264e-01\n",
      "  1.28713449e-01 -6.23216166e-03  2.84405209e-01 -2.65330919e-02\n",
      "  1.35866663e-01  1.35871388e-01 -1.44180628e-01 -4.21160878e-02\n",
      "  3.48740785e-02 -4.41057681e-02  3.74156133e-03  1.75009598e-02\n",
      "  8.56752215e-02  4.96108388e-02  8.53003283e-02  4.61625915e-03\n",
      " -6.66919637e-03 -4.73497238e-03  8.05822185e-03 -6.34451154e-03\n",
      "  7.92452490e-03  4.97301370e-04  1.86298008e-03 -1.66274640e-03\n",
      " -1.09845395e-03  4.10599368e-04 -2.86000608e-03]\n",
      "R-squared score:  0.6876177760166224\n"
     ]
    }
   ],
   "source": [
    "from sklearn.linear_model import LinearRegression\n",
    "\n",
    "df = pd.read_pickle(os.path.join(path,'oneHotEncode.pkl'))\n",
    "df = df.drop(columns = ['Year'])\n",
    "#df = clean_dataset(df)\n",
    "\n",
    "lm_df = df.copy()\n",
    "\n",
    "feature_cols = df.columns.get_values()\n",
    "feature_cols = feature_cols.tolist()\n",
    "feature_cols.remove('TAV_Ch')\n",
    "\n",
    "\n",
    "y = lm_df.TAV_Ch\n",
    "X = lm_df[feature_cols]\n",
    "\n",
    "lm = LinearRegression()\n",
    "lm.fit(X, y)\n",
    "\n",
    "\n",
    "# # print intercept and coefficients\n",
    "print(lm.intercept_)\n",
    "print(lm.coef_)\n",
    "\n",
    "# pair the feature names with the coefficients\n",
    "#print('This pairs names with coef: ',zip(feature_cols, lm.coef_))\n",
    "\n",
    "# predict for a new observation\n",
    "#lm.predict([100, 25, 25])\n",
    "\n",
    "# calculate the R-squared\n",
    "print('R-squared score: ',lm.score(X, y))"
   ]
  },
  {
   "cell_type": "markdown",
   "metadata": {},
   "source": [
    "### Step 2: Calculate VIF Factors"
   ]
  },
  {
   "cell_type": "code",
   "execution_count": 5,
   "metadata": {},
   "outputs": [
    {
     "name": "stderr",
     "output_type": "stream",
     "text": [
      "C:\\Users\\delightb\\AppData\\Local\\Continuum\\anaconda3\\envs\\tensorenviron\\lib\\site-packages\\statsmodels\\stats\\outliers_influence.py:185: RuntimeWarning:\n",
      "\n",
      "divide by zero encountered in double_scalars\n",
      "\n"
     ]
    }
   ],
   "source": [
    "vif = pd.DataFrame()\n",
    "vif[\"VIF Factor\"] = [variance_inflation_factor(X.values, i) for i in range(X.shape[1])]\n",
    "vif[\"features\"] = X.columns"
   ]
  },
  {
   "cell_type": "code",
   "execution_count": null,
   "metadata": {},
   "outputs": [],
   "source": []
  },
  {
   "cell_type": "markdown",
   "metadata": {},
   "source": [
    "### Step 3: Inspect VIF Factors"
   ]
  },
  {
   "cell_type": "code",
   "execution_count": null,
   "metadata": {},
   "outputs": [],
   "source": [
    "vif.round(1)"
   ]
  },
  {
   "cell_type": "code",
   "execution_count": null,
   "metadata": {},
   "outputs": [],
   "source": []
  },
  {
   "cell_type": "code",
   "execution_count": null,
   "metadata": {},
   "outputs": [],
   "source": []
  },
  {
   "cell_type": "code",
   "execution_count": null,
   "metadata": {},
   "outputs": [],
   "source": []
  },
  {
   "cell_type": "code",
   "execution_count": null,
   "metadata": {},
   "outputs": [],
   "source": [
    "zip(feature_cols, lm.coef_)"
   ]
  },
  {
   "cell_type": "code",
   "execution_count": null,
   "metadata": {},
   "outputs": [],
   "source": []
  },
  {
   "cell_type": "code",
   "execution_count": null,
   "metadata": {},
   "outputs": [],
   "source": []
  },
  {
   "cell_type": "code",
   "execution_count": null,
   "metadata": {},
   "outputs": [],
   "source": []
  },
  {
   "cell_type": "code",
   "execution_count": null,
   "metadata": {},
   "outputs": [],
   "source": []
  },
  {
   "cell_type": "code",
   "execution_count": null,
   "metadata": {},
   "outputs": [],
   "source": []
  },
  {
   "cell_type": "code",
   "execution_count": null,
   "metadata": {},
   "outputs": [],
   "source": []
  },
  {
   "cell_type": "code",
   "execution_count": null,
   "metadata": {},
   "outputs": [],
   "source": []
  },
  {
   "cell_type": "code",
   "execution_count": null,
   "metadata": {},
   "outputs": [],
   "source": []
  },
  {
   "cell_type": "code",
   "execution_count": null,
   "metadata": {},
   "outputs": [],
   "source": []
  },
  {
   "cell_type": "code",
   "execution_count": null,
   "metadata": {},
   "outputs": [],
   "source": []
  }
 ],
 "metadata": {
  "kernelspec": {
   "display_name": "Python 3",
   "language": "python",
   "name": "python3"
  },
  "language_info": {
   "codemirror_mode": {
    "name": "ipython",
    "version": 3
   },
   "file_extension": ".py",
   "mimetype": "text/x-python",
   "name": "python",
   "nbconvert_exporter": "python",
   "pygments_lexer": "ipython3",
   "version": "3.7.3"
  }
 },
 "nbformat": 4,
 "nbformat_minor": 2
}
