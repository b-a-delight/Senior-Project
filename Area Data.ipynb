{
 "cells": [
  {
   "cell_type": "code",
   "execution_count": 104,
   "metadata": {},
   "outputs": [],
   "source": [
    "import pandas as pd\n",
    "import numpy as np\n",
    "import plotly.express as px\n",
    "from plotly.subplots import make_subplots\n",
    "import plotly.graph_objects as go\n",
    "import xlrd\n",
    "import os\n",
    "import psutil\n",
    "import sys\n",
    "np.set_printoptions(threshold=np.inf)"
   ]
  },
  {
   "cell_type": "code",
   "execution_count": 102,
   "metadata": {},
   "outputs": [],
   "source": [
    "#!pip install psutil\n",
    "import plotly.offline as offline"
   ]
  },
  {
   "cell_type": "code",
   "execution_count": null,
   "metadata": {},
   "outputs": [],
   "source": [
    "house_df = pd.read_pickle('abvHouse.pkl')\n",
    "jobs_df = pd.read_pickle('jobShift.pkl')\n",
    "yearTotals = pd.read_pickle('yrTotalChange.pkl')\n",
    "\n",
    "df = house_df\n",
    "\n",
    "df = pd.merge(df, jobs_df, on = 'Year', how = 'left')\n",
    "df = pd.merge(df, yearTotals, on = 'Year', how = 'left')\n",
    "\n",
    "df = df.replace(np.nan,0)\n",
    "df= df.drop(columns = ['All Occupations', 'TAV'])\n",
    "\n",
    "df.to_pickle('testing.pkl')\n",
    "#df.info()\n",
    "df.head(5)"
   ]
  },
  {
   "cell_type": "code",
   "execution_count": 5,
   "metadata": {},
   "outputs": [
    {
     "data": {
      "text/html": [
       "<div>\n",
       "<style scoped>\n",
       "    .dataframe tbody tr th:only-of-type {\n",
       "        vertical-align: middle;\n",
       "    }\n",
       "\n",
       "    .dataframe tbody tr th {\n",
       "        vertical-align: top;\n",
       "    }\n",
       "\n",
       "    .dataframe thead th {\n",
       "        text-align: right;\n",
       "    }\n",
       "</style>\n",
       "<table border=\"1\" class=\"dataframe\">\n",
       "  <thead>\n",
       "    <tr style=\"text-align: right;\">\n",
       "      <th></th>\n",
       "      <th>Parcel</th>\n",
       "      <th>Year</th>\n",
       "      <th>Group</th>\n",
       "      <th>Neighborhood</th>\n",
       "      <th>Area</th>\n",
       "      <th>Age</th>\n",
       "      <th>Bedroom_Count</th>\n",
       "      <th>Bathroom_Count</th>\n",
       "      <th>TAV_Ch</th>\n",
       "      <th>Architecture And Engineering Occupations</th>\n",
       "      <th>...</th>\n",
       "      <th>Transportation And Material Moving Occupations</th>\n",
       "      <th>(10000.0, 40000.0]</th>\n",
       "      <th>(40000.0, 70000.0]</th>\n",
       "      <th>(70000.0, 100000.0]</th>\n",
       "      <th>(100000.0, 150000.0]</th>\n",
       "      <th>(150000.0, 200000.0]</th>\n",
       "      <th>(200000.0, 300000.0]</th>\n",
       "      <th>Total_House_Change</th>\n",
       "      <th>Total_Pop_Change</th>\n",
       "      <th>Total_Emp_Change</th>\n",
       "    </tr>\n",
       "  </thead>\n",
       "  <tbody>\n",
       "    <tr>\n",
       "      <th>111</th>\n",
       "      <td>R0306000031</td>\n",
       "      <td>2000-01-01</td>\n",
       "      <td>ALAMOSA SUB</td>\n",
       "      <td>NEW NORTH BOISE</td>\n",
       "      <td>NW BOISE-GARDEN CITY</td>\n",
       "      <td>70</td>\n",
       "      <td>3</td>\n",
       "      <td>1.00</td>\n",
       "      <td>0.0</td>\n",
       "      <td>0.0</td>\n",
       "      <td>...</td>\n",
       "      <td>0.0</td>\n",
       "      <td>0.0</td>\n",
       "      <td>0.0</td>\n",
       "      <td>0.0</td>\n",
       "      <td>0.0</td>\n",
       "      <td>0.0</td>\n",
       "      <td>0.0</td>\n",
       "      <td>0.0</td>\n",
       "      <td>0.0</td>\n",
       "      <td>0.0</td>\n",
       "    </tr>\n",
       "    <tr>\n",
       "      <th>112</th>\n",
       "      <td>R0306000040</td>\n",
       "      <td>2000-01-01</td>\n",
       "      <td>ALAMOSA SUB</td>\n",
       "      <td>NEW NORTH BOISE</td>\n",
       "      <td>NW BOISE-GARDEN CITY</td>\n",
       "      <td>76</td>\n",
       "      <td>2</td>\n",
       "      <td>0.75</td>\n",
       "      <td>0.0</td>\n",
       "      <td>0.0</td>\n",
       "      <td>...</td>\n",
       "      <td>0.0</td>\n",
       "      <td>0.0</td>\n",
       "      <td>0.0</td>\n",
       "      <td>0.0</td>\n",
       "      <td>0.0</td>\n",
       "      <td>0.0</td>\n",
       "      <td>0.0</td>\n",
       "      <td>0.0</td>\n",
       "      <td>0.0</td>\n",
       "      <td>0.0</td>\n",
       "    </tr>\n",
       "    <tr>\n",
       "      <th>113</th>\n",
       "      <td>R0306000051</td>\n",
       "      <td>2000-01-01</td>\n",
       "      <td>ALAMOSA SUB</td>\n",
       "      <td>NEW NORTH BOISE</td>\n",
       "      <td>NW BOISE-GARDEN CITY</td>\n",
       "      <td>80</td>\n",
       "      <td>2</td>\n",
       "      <td>1.50</td>\n",
       "      <td>0.0</td>\n",
       "      <td>0.0</td>\n",
       "      <td>...</td>\n",
       "      <td>0.0</td>\n",
       "      <td>0.0</td>\n",
       "      <td>0.0</td>\n",
       "      <td>0.0</td>\n",
       "      <td>0.0</td>\n",
       "      <td>0.0</td>\n",
       "      <td>0.0</td>\n",
       "      <td>0.0</td>\n",
       "      <td>0.0</td>\n",
       "      <td>0.0</td>\n",
       "    </tr>\n",
       "    <tr>\n",
       "      <th>114</th>\n",
       "      <td>R0306000065</td>\n",
       "      <td>2000-01-01</td>\n",
       "      <td>ALAMOSA SUB</td>\n",
       "      <td>NEW NORTH BOISE</td>\n",
       "      <td>NW BOISE-GARDEN CITY</td>\n",
       "      <td>24</td>\n",
       "      <td>3</td>\n",
       "      <td>1.50</td>\n",
       "      <td>0.0</td>\n",
       "      <td>0.0</td>\n",
       "      <td>...</td>\n",
       "      <td>0.0</td>\n",
       "      <td>0.0</td>\n",
       "      <td>0.0</td>\n",
       "      <td>0.0</td>\n",
       "      <td>0.0</td>\n",
       "      <td>0.0</td>\n",
       "      <td>0.0</td>\n",
       "      <td>0.0</td>\n",
       "      <td>0.0</td>\n",
       "      <td>0.0</td>\n",
       "    </tr>\n",
       "    <tr>\n",
       "      <th>115</th>\n",
       "      <td>R0306000066</td>\n",
       "      <td>2000-01-01</td>\n",
       "      <td>ALAMOSA SUB</td>\n",
       "      <td>NEW NORTH BOISE</td>\n",
       "      <td>NW BOISE-GARDEN CITY</td>\n",
       "      <td>82</td>\n",
       "      <td>2</td>\n",
       "      <td>1.00</td>\n",
       "      <td>0.0</td>\n",
       "      <td>0.0</td>\n",
       "      <td>...</td>\n",
       "      <td>0.0</td>\n",
       "      <td>0.0</td>\n",
       "      <td>0.0</td>\n",
       "      <td>0.0</td>\n",
       "      <td>0.0</td>\n",
       "      <td>0.0</td>\n",
       "      <td>0.0</td>\n",
       "      <td>0.0</td>\n",
       "      <td>0.0</td>\n",
       "      <td>0.0</td>\n",
       "    </tr>\n",
       "  </tbody>\n",
       "</table>\n",
       "<p>5 rows × 40 columns</p>\n",
       "</div>"
      ],
      "text/plain": [
       "          Parcel       Year        Group     Neighborhood  \\\n",
       "111  R0306000031 2000-01-01  ALAMOSA SUB  NEW NORTH BOISE   \n",
       "112  R0306000040 2000-01-01  ALAMOSA SUB  NEW NORTH BOISE   \n",
       "113  R0306000051 2000-01-01  ALAMOSA SUB  NEW NORTH BOISE   \n",
       "114  R0306000065 2000-01-01  ALAMOSA SUB  NEW NORTH BOISE   \n",
       "115  R0306000066 2000-01-01  ALAMOSA SUB  NEW NORTH BOISE   \n",
       "\n",
       "                     Area  Age  Bedroom_Count  Bathroom_Count  TAV_Ch  \\\n",
       "111  NW BOISE-GARDEN CITY   70              3            1.00     0.0   \n",
       "112  NW BOISE-GARDEN CITY   76              2            0.75     0.0   \n",
       "113  NW BOISE-GARDEN CITY   80              2            1.50     0.0   \n",
       "114  NW BOISE-GARDEN CITY   24              3            1.50     0.0   \n",
       "115  NW BOISE-GARDEN CITY   82              2            1.00     0.0   \n",
       "\n",
       "     Architecture And Engineering Occupations  ...  \\\n",
       "111                                       0.0  ...   \n",
       "112                                       0.0  ...   \n",
       "113                                       0.0  ...   \n",
       "114                                       0.0  ...   \n",
       "115                                       0.0  ...   \n",
       "\n",
       "     Transportation And Material Moving Occupations  (10000.0, 40000.0]  \\\n",
       "111                                             0.0                 0.0   \n",
       "112                                             0.0                 0.0   \n",
       "113                                             0.0                 0.0   \n",
       "114                                             0.0                 0.0   \n",
       "115                                             0.0                 0.0   \n",
       "\n",
       "     (40000.0, 70000.0]  (70000.0, 100000.0]  (100000.0, 150000.0]  \\\n",
       "111                 0.0                  0.0                   0.0   \n",
       "112                 0.0                  0.0                   0.0   \n",
       "113                 0.0                  0.0                   0.0   \n",
       "114                 0.0                  0.0                   0.0   \n",
       "115                 0.0                  0.0                   0.0   \n",
       "\n",
       "     (150000.0, 200000.0]  (200000.0, 300000.0]  Total_House_Change  \\\n",
       "111                   0.0                   0.0                 0.0   \n",
       "112                   0.0                   0.0                 0.0   \n",
       "113                   0.0                   0.0                 0.0   \n",
       "114                   0.0                   0.0                 0.0   \n",
       "115                   0.0                   0.0                 0.0   \n",
       "\n",
       "     Total_Pop_Change  Total_Emp_Change  \n",
       "111               0.0               0.0  \n",
       "112               0.0               0.0  \n",
       "113               0.0               0.0  \n",
       "114               0.0               0.0  \n",
       "115               0.0               0.0  \n",
       "\n",
       "[5 rows x 40 columns]"
      ]
     },
     "execution_count": 5,
     "metadata": {},
     "output_type": "execute_result"
    }
   ],
   "source": [
    "df = pd.read_pickle('testing.pkl')\n",
    "#df.info()\n",
    "df = df[df['Area'] == \"NW BOISE-GARDEN CITY\"]\n",
    "\n",
    "df.head(5)"
   ]
  },
  {
   "cell_type": "code",
   "execution_count": 7,
   "metadata": {},
   "outputs": [],
   "source": [
    "\n",
    "def coefComp(area, df):\n",
    "    k = 10\n",
    "    df_Fun = df.copy()\n",
    "    df_Fun = df_Fun[df_Fun['Area'] == area]\n",
    "    corrmat = df_Fun.corr()\n",
    "    cols = corrmat.nlargest(k, 'TAV_Ch')['TAV_Ch']\n",
    "    temp = pd.DataFrame(cols)\n",
    "\n",
    "    return temp\n"
   ]
  },
  {
   "cell_type": "code",
   "execution_count": 14,
   "metadata": {},
   "outputs": [
    {
     "data": {
      "text/html": [
       "<div>\n",
       "<style scoped>\n",
       "    .dataframe tbody tr th:only-of-type {\n",
       "        vertical-align: middle;\n",
       "    }\n",
       "\n",
       "    .dataframe tbody tr th {\n",
       "        vertical-align: top;\n",
       "    }\n",
       "\n",
       "    .dataframe thead th {\n",
       "        text-align: right;\n",
       "    }\n",
       "</style>\n",
       "<table border=\"1\" class=\"dataframe\">\n",
       "  <thead>\n",
       "    <tr style=\"text-align: right;\">\n",
       "      <th></th>\n",
       "      <th>index</th>\n",
       "      <th>NW_Boise</th>\n",
       "      <th>B_Bench</th>\n",
       "      <th>SE_Boise</th>\n",
       "      <th>N_Boise</th>\n",
       "      <th>NE_Boise</th>\n",
       "      <th>W_Boise</th>\n",
       "      <th>SW_Boise_M</th>\n",
       "      <th>W_Boise_M</th>\n",
       "      <th>SW_Boise</th>\n",
       "    </tr>\n",
       "  </thead>\n",
       "  <tbody>\n",
       "    <tr>\n",
       "      <th>0</th>\n",
       "      <td>TAV_Ch</td>\n",
       "      <td>1.000000</td>\n",
       "      <td>1.000000</td>\n",
       "      <td>1.000000</td>\n",
       "      <td>1.000000</td>\n",
       "      <td>1.000000</td>\n",
       "      <td>1.000000</td>\n",
       "      <td>1.000000</td>\n",
       "      <td>1.000000</td>\n",
       "      <td>1.000000</td>\n",
       "    </tr>\n",
       "    <tr>\n",
       "      <th>1</th>\n",
       "      <td>Arts, Design, Entertainment, Sports, And Media...</td>\n",
       "      <td>0.205122</td>\n",
       "      <td>0.322296</td>\n",
       "      <td>0.151652</td>\n",
       "      <td>0.145686</td>\n",
       "      <td>NaN</td>\n",
       "      <td>0.295192</td>\n",
       "      <td>0.150496</td>\n",
       "      <td>0.172005</td>\n",
       "      <td>0.220358</td>\n",
       "    </tr>\n",
       "    <tr>\n",
       "      <th>2</th>\n",
       "      <td>Building And Grounds Cleaning And Maintenance ...</td>\n",
       "      <td>0.202024</td>\n",
       "      <td>0.297780</td>\n",
       "      <td>0.173484</td>\n",
       "      <td>0.161233</td>\n",
       "      <td>0.031920</td>\n",
       "      <td>0.304118</td>\n",
       "      <td>0.198560</td>\n",
       "      <td>0.190496</td>\n",
       "      <td>0.210010</td>\n",
       "    </tr>\n",
       "    <tr>\n",
       "      <th>3</th>\n",
       "      <td>Food Preparation And Serving Related Occupations</td>\n",
       "      <td>NaN</td>\n",
       "      <td>NaN</td>\n",
       "      <td>NaN</td>\n",
       "      <td>NaN</td>\n",
       "      <td>0.026809</td>\n",
       "      <td>NaN</td>\n",
       "      <td>0.160731</td>\n",
       "      <td>NaN</td>\n",
       "      <td>0.178493</td>\n",
       "    </tr>\n",
       "    <tr>\n",
       "      <th>4</th>\n",
       "      <td>Management Occupations</td>\n",
       "      <td>0.202974</td>\n",
       "      <td>0.296489</td>\n",
       "      <td>0.157372</td>\n",
       "      <td>0.161072</td>\n",
       "      <td>0.028292</td>\n",
       "      <td>0.279548</td>\n",
       "      <td>0.156382</td>\n",
       "      <td>0.187270</td>\n",
       "      <td>NaN</td>\n",
       "    </tr>\n",
       "  </tbody>\n",
       "</table>\n",
       "</div>"
      ],
      "text/plain": [
       "                                               index  NW_Boise   B_Bench  \\\n",
       "0                                             TAV_Ch  1.000000  1.000000   \n",
       "1  Arts, Design, Entertainment, Sports, And Media...  0.205122  0.322296   \n",
       "2  Building And Grounds Cleaning And Maintenance ...  0.202024  0.297780   \n",
       "3   Food Preparation And Serving Related Occupations       NaN       NaN   \n",
       "4                             Management Occupations  0.202974  0.296489   \n",
       "\n",
       "   SE_Boise   N_Boise  NE_Boise   W_Boise  SW_Boise_M  W_Boise_M  SW_Boise  \n",
       "0  1.000000  1.000000  1.000000  1.000000    1.000000   1.000000  1.000000  \n",
       "1  0.151652  0.145686       NaN  0.295192    0.150496   0.172005  0.220358  \n",
       "2  0.173484  0.161233  0.031920  0.304118    0.198560   0.190496  0.210010  \n",
       "3       NaN       NaN  0.026809       NaN    0.160731        NaN  0.178493  \n",
       "4  0.157372  0.161072  0.028292  0.279548    0.156382   0.187270       NaN  "
      ]
     },
     "execution_count": 14,
     "metadata": {},
     "output_type": "execute_result"
    }
   ],
   "source": [
    "# Area\n",
    "\n",
    "df = pd.read_pickle('testing.pkl')\n",
    "\n",
    "temp = list(df.columns)\n",
    "aBoise = pd.DataFrame(temp)\n",
    "aBoise = aBoise.rename(columns = {0 : 'index'})\n",
    "\n",
    "df1 = coefComp('NW BOISE-GARDEN CITY', df)\n",
    "df1 = df1.reset_index()\n",
    "aBoise = pd.merge(aBoise,df1, on = 'index', how = 'left')\n",
    "aBoise = aBoise.rename(columns = {'TAV_Ch' : 'NW_Boise'})\n",
    "\n",
    "df2 = coefComp('BOISE BENCH', df)\n",
    "df2 = df2.reset_index()\n",
    "aBoise = pd.merge(aBoise,df2, on = 'index', how = 'left')\n",
    "aBoise = aBoise.rename(columns = {'TAV_Ch' : 'B_Bench'})\n",
    "\n",
    "df3 = coefComp('SE BOISE', df)\n",
    "df3 = df3.reset_index()\n",
    "aBoise = pd.merge(aBoise,df3, on = 'index', how = 'left')\n",
    "aBoise = aBoise.rename(columns = {'TAV_Ch' : 'SE_Boise'})\n",
    "\n",
    "df4 = coefComp('NORTH BOISE', df)\n",
    "df4 = df4.reset_index()\n",
    "aBoise = pd.merge(aBoise,df4, on = 'index', how = 'left')\n",
    "aBoise = aBoise.rename(columns = {'TAV_Ch' : 'N_Boise'})\n",
    "\n",
    "df5 = coefComp('NE BOISE', df)\n",
    "df5 = df5.reset_index()\n",
    "aBoise = pd.merge(aBoise,df5, on = 'index', how = 'left')\n",
    "aBoise = aBoise.rename(columns = {'TAV_Ch' : 'NE_Boise'})\n",
    "\n",
    "df6 = coefComp('W BOISE', df)\n",
    "df6 = df6.reset_index()\n",
    "aBoise = pd.merge(aBoise,df6, on = 'index', how = 'left')\n",
    "aBoise = aBoise.rename(columns = {'TAV_Ch' : 'W_Boise'})\n",
    "\n",
    "df7 = coefComp('SW BOISE-MERIDIAN', df)\n",
    "df7 = df7.reset_index()\n",
    "aBoise = pd.merge(aBoise,df7, on = 'index', how = 'left')\n",
    "aBoise = aBoise.rename(columns = {'TAV_Ch' : 'SW_Boise_M'})\n",
    "\n",
    "df8 = coefComp('W BOISE-MERIDIAN', df)\n",
    "df8 = df8.reset_index()\n",
    "aBoise = pd.merge(aBoise,df8, on = 'index', how = 'left')\n",
    "aBoise = aBoise.rename(columns = {'TAV_Ch' : 'W_Boise_M'})\n",
    "\n",
    "df9 = coefComp('SW BOISE', df)\n",
    "df9 = df9.reset_index()\n",
    "aBoise = pd.merge(aBoise,df9, on = 'index', how = 'left')\n",
    "aBoise = aBoise.rename(columns = {'TAV_Ch' : 'SW_Boise'})\n",
    "\n",
    "# this will drop rows that have less than 2 values (name & @ least 1 value)\n",
    "aBoise = aBoise.dropna(thresh = 2)\n",
    "aBoise = aBoise.reset_index(drop = True)\n",
    "aBoise.to_pickle('a-Coeff-compare.pkl')\n",
    "\n",
    "\n",
    "\n",
    "aBoise"
   ]
  },
  {
   "cell_type": "code",
   "execution_count": 20,
   "metadata": {},
   "outputs": [
    {
     "data": {
      "text/html": [
       "<div>\n",
       "<style scoped>\n",
       "    .dataframe tbody tr th:only-of-type {\n",
       "        vertical-align: middle;\n",
       "    }\n",
       "\n",
       "    .dataframe tbody tr th {\n",
       "        vertical-align: top;\n",
       "    }\n",
       "\n",
       "    .dataframe thead th {\n",
       "        text-align: right;\n",
       "    }\n",
       "</style>\n",
       "<table border=\"1\" class=\"dataframe\">\n",
       "  <thead>\n",
       "    <tr style=\"text-align: right;\">\n",
       "      <th></th>\n",
       "      <th>index</th>\n",
       "      <th>NW_Boise</th>\n",
       "      <th>B_Bench</th>\n",
       "      <th>SE_Boise</th>\n",
       "      <th>N_Boise</th>\n",
       "      <th>NE_Boise</th>\n",
       "      <th>W_Boise</th>\n",
       "      <th>SW_Boise_M</th>\n",
       "      <th>W_Boise_M</th>\n",
       "      <th>SW_Boise</th>\n",
       "    </tr>\n",
       "  </thead>\n",
       "  <tbody>\n",
       "    <tr>\n",
       "      <th>1</th>\n",
       "      <td>Arts, Design, Entertainment, Sports, And Media...</td>\n",
       "      <td>0.205122</td>\n",
       "      <td>0.322296</td>\n",
       "      <td>0.151652</td>\n",
       "      <td>0.145686</td>\n",
       "      <td>NaN</td>\n",
       "      <td>0.295192</td>\n",
       "      <td>0.150496</td>\n",
       "      <td>0.172005</td>\n",
       "      <td>0.220358</td>\n",
       "    </tr>\n",
       "    <tr>\n",
       "      <th>2</th>\n",
       "      <td>Building And Grounds Cleaning And Maintenance ...</td>\n",
       "      <td>0.202024</td>\n",
       "      <td>0.297780</td>\n",
       "      <td>0.173484</td>\n",
       "      <td>0.161233</td>\n",
       "      <td>0.031920</td>\n",
       "      <td>0.304118</td>\n",
       "      <td>0.198560</td>\n",
       "      <td>0.190496</td>\n",
       "      <td>0.210010</td>\n",
       "    </tr>\n",
       "    <tr>\n",
       "      <th>3</th>\n",
       "      <td>Food Preparation And Serving Related Occupations</td>\n",
       "      <td>NaN</td>\n",
       "      <td>NaN</td>\n",
       "      <td>NaN</td>\n",
       "      <td>NaN</td>\n",
       "      <td>0.026809</td>\n",
       "      <td>NaN</td>\n",
       "      <td>0.160731</td>\n",
       "      <td>NaN</td>\n",
       "      <td>0.178493</td>\n",
       "    </tr>\n",
       "    <tr>\n",
       "      <th>4</th>\n",
       "      <td>Management Occupations</td>\n",
       "      <td>0.202974</td>\n",
       "      <td>0.296489</td>\n",
       "      <td>0.157372</td>\n",
       "      <td>0.161072</td>\n",
       "      <td>0.028292</td>\n",
       "      <td>0.279548</td>\n",
       "      <td>0.156382</td>\n",
       "      <td>0.187270</td>\n",
       "      <td>NaN</td>\n",
       "    </tr>\n",
       "    <tr>\n",
       "      <th>5</th>\n",
       "      <td>Production Occupations</td>\n",
       "      <td>0.171633</td>\n",
       "      <td>0.272514</td>\n",
       "      <td>NaN</td>\n",
       "      <td>NaN</td>\n",
       "      <td>0.029265</td>\n",
       "      <td>0.258399</td>\n",
       "      <td>NaN</td>\n",
       "      <td>0.169168</td>\n",
       "      <td>0.186179</td>\n",
       "    </tr>\n",
       "    <tr>\n",
       "      <th>6</th>\n",
       "      <td>Sales And Related Occupations</td>\n",
       "      <td>0.207232</td>\n",
       "      <td>0.336855</td>\n",
       "      <td>0.169741</td>\n",
       "      <td>0.177855</td>\n",
       "      <td>0.031064</td>\n",
       "      <td>0.306431</td>\n",
       "      <td>0.186115</td>\n",
       "      <td>0.193440</td>\n",
       "      <td>0.247814</td>\n",
       "    </tr>\n",
       "    <tr>\n",
       "      <th>7</th>\n",
       "      <td>Transportation And Material Moving Occupations</td>\n",
       "      <td>0.192655</td>\n",
       "      <td>0.312932</td>\n",
       "      <td>0.146978</td>\n",
       "      <td>0.167256</td>\n",
       "      <td>0.024673</td>\n",
       "      <td>0.275292</td>\n",
       "      <td>0.162169</td>\n",
       "      <td>0.188961</td>\n",
       "      <td>0.194388</td>\n",
       "    </tr>\n",
       "    <tr>\n",
       "      <th>8</th>\n",
       "      <td>(70000.0, 100000.0]</td>\n",
       "      <td>NaN</td>\n",
       "      <td>NaN</td>\n",
       "      <td>0.142206</td>\n",
       "      <td>0.142631</td>\n",
       "      <td>NaN</td>\n",
       "      <td>NaN</td>\n",
       "      <td>NaN</td>\n",
       "      <td>NaN</td>\n",
       "      <td>NaN</td>\n",
       "    </tr>\n",
       "    <tr>\n",
       "      <th>9</th>\n",
       "      <td>Total_House_Change</td>\n",
       "      <td>0.210065</td>\n",
       "      <td>0.308301</td>\n",
       "      <td>0.177842</td>\n",
       "      <td>0.198513</td>\n",
       "      <td>0.028786</td>\n",
       "      <td>0.283742</td>\n",
       "      <td>0.147697</td>\n",
       "      <td>0.196804</td>\n",
       "      <td>0.198978</td>\n",
       "    </tr>\n",
       "    <tr>\n",
       "      <th>10</th>\n",
       "      <td>Total_Pop_Change</td>\n",
       "      <td>0.198068</td>\n",
       "      <td>0.309162</td>\n",
       "      <td>0.173615</td>\n",
       "      <td>0.205515</td>\n",
       "      <td>0.031775</td>\n",
       "      <td>0.279665</td>\n",
       "      <td>0.156102</td>\n",
       "      <td>0.192057</td>\n",
       "      <td>0.192903</td>\n",
       "    </tr>\n",
       "    <tr>\n",
       "      <th>11</th>\n",
       "      <td>Total_Emp_Change</td>\n",
       "      <td>0.219423</td>\n",
       "      <td>0.341163</td>\n",
       "      <td>0.178943</td>\n",
       "      <td>0.175049</td>\n",
       "      <td>0.035173</td>\n",
       "      <td>0.316577</td>\n",
       "      <td>0.187518</td>\n",
       "      <td>0.215725</td>\n",
       "      <td>0.215771</td>\n",
       "    </tr>\n",
       "  </tbody>\n",
       "</table>\n",
       "</div>"
      ],
      "text/plain": [
       "                                                index  NW_Boise   B_Bench  \\\n",
       "1   Arts, Design, Entertainment, Sports, And Media...  0.205122  0.322296   \n",
       "2   Building And Grounds Cleaning And Maintenance ...  0.202024  0.297780   \n",
       "3    Food Preparation And Serving Related Occupations       NaN       NaN   \n",
       "4                              Management Occupations  0.202974  0.296489   \n",
       "5                              Production Occupations  0.171633  0.272514   \n",
       "6                       Sales And Related Occupations  0.207232  0.336855   \n",
       "7      Transportation And Material Moving Occupations  0.192655  0.312932   \n",
       "8                                 (70000.0, 100000.0]       NaN       NaN   \n",
       "9                                  Total_House_Change  0.210065  0.308301   \n",
       "10                                   Total_Pop_Change  0.198068  0.309162   \n",
       "11                                   Total_Emp_Change  0.219423  0.341163   \n",
       "\n",
       "    SE_Boise   N_Boise  NE_Boise   W_Boise  SW_Boise_M  W_Boise_M  SW_Boise  \n",
       "1   0.151652  0.145686       NaN  0.295192    0.150496   0.172005  0.220358  \n",
       "2   0.173484  0.161233  0.031920  0.304118    0.198560   0.190496  0.210010  \n",
       "3        NaN       NaN  0.026809       NaN    0.160731        NaN  0.178493  \n",
       "4   0.157372  0.161072  0.028292  0.279548    0.156382   0.187270       NaN  \n",
       "5        NaN       NaN  0.029265  0.258399         NaN   0.169168  0.186179  \n",
       "6   0.169741  0.177855  0.031064  0.306431    0.186115   0.193440  0.247814  \n",
       "7   0.146978  0.167256  0.024673  0.275292    0.162169   0.188961  0.194388  \n",
       "8   0.142206  0.142631       NaN       NaN         NaN        NaN       NaN  \n",
       "9   0.177842  0.198513  0.028786  0.283742    0.147697   0.196804  0.198978  \n",
       "10  0.173615  0.205515  0.031775  0.279665    0.156102   0.192057  0.192903  \n",
       "11  0.178943  0.175049  0.035173  0.316577    0.187518   0.215725  0.215771  "
      ]
     },
     "execution_count": 20,
     "metadata": {},
     "output_type": "execute_result"
    }
   ],
   "source": [
    "df = pd.read_pickle('a-Coeff-compare.pkl')\n",
    "df = df.iloc[1:]\n",
    "\n",
    "df"
   ]
  },
  {
   "cell_type": "code",
   "execution_count": 29,
   "metadata": {},
   "outputs": [
    {
     "data": {
      "application/vnd.plotly.v1+json": {
       "config": {
        "plotlyServerURL": "https://plot.ly"
       },
       "data": [
        {
         "mode": "markers",
         "name": "NW Boise",
         "type": "scatter",
         "x": [
          "Arts, Design, Entertainment, Sports, And Media Occupations",
          "Building And Grounds Cleaning And Maintenance Occupations",
          "Food Preparation And Serving Related Occupations",
          "Management Occupations",
          "Production Occupations",
          "Sales And Related Occupations",
          "Transportation And Material Moving Occupations",
          "(70000.0, 100000.0]",
          "Total_House_Change",
          "Total_Pop_Change",
          "Total_Emp_Change"
         ],
         "y": [
          0.20512159087241913,
          0.20202415393377984,
          null,
          0.20297371252017204,
          0.17163317062771433,
          0.20723197604888455,
          0.19265518844715313,
          null,
          0.21006497116471967,
          0.1980678101943947,
          0.2194234637811191
         ]
        },
        {
         "mode": "markers",
         "name": "Boise Bench",
         "type": "scatter",
         "x": [
          "Arts, Design, Entertainment, Sports, And Media Occupations",
          "Building And Grounds Cleaning And Maintenance Occupations",
          "Food Preparation And Serving Related Occupations",
          "Management Occupations",
          "Production Occupations",
          "Sales And Related Occupations",
          "Transportation And Material Moving Occupations",
          "(70000.0, 100000.0]",
          "Total_House_Change",
          "Total_Pop_Change",
          "Total_Emp_Change"
         ],
         "y": [
          0.32229565012681455,
          0.2977798318315564,
          null,
          0.2964887347404128,
          0.272514238926972,
          0.3368547084586827,
          0.3129320707425859,
          null,
          0.3083006612882456,
          0.3091620597574776,
          0.34116317866143864
         ]
        },
        {
         "mode": "markers",
         "name": "SE Boise",
         "type": "scatter",
         "x": [
          "Arts, Design, Entertainment, Sports, And Media Occupations",
          "Building And Grounds Cleaning And Maintenance Occupations",
          "Food Preparation And Serving Related Occupations",
          "Management Occupations",
          "Production Occupations",
          "Sales And Related Occupations",
          "Transportation And Material Moving Occupations",
          "(70000.0, 100000.0]",
          "Total_House_Change",
          "Total_Pop_Change",
          "Total_Emp_Change"
         ],
         "y": [
          0.15165217623671404,
          0.1734840864835354,
          null,
          0.15737235712812978,
          null,
          0.1697408477614244,
          0.14697773768881994,
          0.14220614099515813,
          0.17784203090063153,
          0.17361536502233788,
          0.1789425947447074
         ]
        },
        {
         "mode": "markers",
         "name": "N Boise",
         "type": "scatter",
         "x": [
          "Arts, Design, Entertainment, Sports, And Media Occupations",
          "Building And Grounds Cleaning And Maintenance Occupations",
          "Food Preparation And Serving Related Occupations",
          "Management Occupations",
          "Production Occupations",
          "Sales And Related Occupations",
          "Transportation And Material Moving Occupations",
          "(70000.0, 100000.0]",
          "Total_House_Change",
          "Total_Pop_Change",
          "Total_Emp_Change"
         ],
         "y": [
          0.14568582626853804,
          0.16123274910358384,
          null,
          0.16107155863138956,
          null,
          0.1778548012365404,
          0.1672556839217225,
          0.14263095766200048,
          0.19851334669155937,
          0.20551528108839293,
          0.1750492026773702
         ]
        },
        {
         "mode": "markers",
         "name": "NE Boise",
         "type": "scatter",
         "x": [
          "Arts, Design, Entertainment, Sports, And Media Occupations",
          "Building And Grounds Cleaning And Maintenance Occupations",
          "Food Preparation And Serving Related Occupations",
          "Management Occupations",
          "Production Occupations",
          "Sales And Related Occupations",
          "Transportation And Material Moving Occupations",
          "(70000.0, 100000.0]",
          "Total_House_Change",
          "Total_Pop_Change",
          "Total_Emp_Change"
         ],
         "y": [
          null,
          0.03192043949798312,
          0.026809437454825388,
          0.028292428886185668,
          0.029265182343593755,
          0.031063975572862466,
          0.024672545434538812,
          null,
          0.02878594374273333,
          0.031774543826914844,
          0.03517291426907938
         ]
        },
        {
         "mode": "markers",
         "name": "W Boise",
         "type": "scatter",
         "x": [
          "Arts, Design, Entertainment, Sports, And Media Occupations",
          "Building And Grounds Cleaning And Maintenance Occupations",
          "Food Preparation And Serving Related Occupations",
          "Management Occupations",
          "Production Occupations",
          "Sales And Related Occupations",
          "Transportation And Material Moving Occupations",
          "(70000.0, 100000.0]",
          "Total_House_Change",
          "Total_Pop_Change",
          "Total_Emp_Change"
         ],
         "y": [
          0.29519200186127226,
          0.30411753621650506,
          null,
          0.27954755117672947,
          0.2583987627632459,
          0.30643098999833923,
          0.27529209359889817,
          null,
          0.28374230141513573,
          0.27966548526962093,
          0.316576752139436
         ]
        },
        {
         "mode": "markers",
         "name": "SW Boise M",
         "type": "scatter",
         "x": [
          "Arts, Design, Entertainment, Sports, And Media Occupations",
          "Building And Grounds Cleaning And Maintenance Occupations",
          "Food Preparation And Serving Related Occupations",
          "Management Occupations",
          "Production Occupations",
          "Sales And Related Occupations",
          "Transportation And Material Moving Occupations",
          "(70000.0, 100000.0]",
          "Total_House_Change",
          "Total_Pop_Change",
          "Total_Emp_Change"
         ],
         "y": [
          0.1504959753661697,
          0.19855952481727007,
          0.16073145051703916,
          0.15638199418159174,
          null,
          0.1861149105898015,
          0.1621694067401815,
          null,
          0.1476974534956342,
          0.15610206178053995,
          0.18751794041229808
         ]
        },
        {
         "mode": "markers",
         "name": "W Boise M",
         "type": "scatter",
         "x": [
          "Arts, Design, Entertainment, Sports, And Media Occupations",
          "Building And Grounds Cleaning And Maintenance Occupations",
          "Food Preparation And Serving Related Occupations",
          "Management Occupations",
          "Production Occupations",
          "Sales And Related Occupations",
          "Transportation And Material Moving Occupations",
          "(70000.0, 100000.0]",
          "Total_House_Change",
          "Total_Pop_Change",
          "Total_Emp_Change"
         ],
         "y": [
          0.17200512497700174,
          0.1904964859912985,
          null,
          0.1872697109980509,
          0.16916813917865597,
          0.19343996709316957,
          0.1889609160179004,
          null,
          0.19680433092148597,
          0.19205655325395457,
          0.21572484830063943
         ]
        },
        {
         "mode": "markers",
         "name": "SW Boise",
         "type": "scatter",
         "x": [
          "Arts, Design, Entertainment, Sports, And Media Occupations",
          "Building And Grounds Cleaning And Maintenance Occupations",
          "Food Preparation And Serving Related Occupations",
          "Management Occupations",
          "Production Occupations",
          "Sales And Related Occupations",
          "Transportation And Material Moving Occupations",
          "(70000.0, 100000.0]",
          "Total_House_Change",
          "Total_Pop_Change",
          "Total_Emp_Change"
         ],
         "y": [
          0.22035769938390118,
          0.2100096397353598,
          0.17849278215008724,
          null,
          0.1861785956967291,
          0.2478144672058495,
          0.19438792897553028,
          null,
          0.1989783959986223,
          0.1929026311951265,
          0.21577060714910704
         ]
        }
       ],
       "layout": {
        "shapes": [
         {
          "line": {
           "color": "Red",
           "dash": "dashdot",
           "width": 1
          },
          "type": "line",
          "x0": 0,
          "x1": 11,
          "y0": 0.3,
          "y1": 0.3
         }
        ],
        "template": {
         "data": {
          "bar": [
           {
            "error_x": {
             "color": "#2a3f5f"
            },
            "error_y": {
             "color": "#2a3f5f"
            },
            "marker": {
             "line": {
              "color": "#E5ECF6",
              "width": 0.5
             }
            },
            "type": "bar"
           }
          ],
          "barpolar": [
           {
            "marker": {
             "line": {
              "color": "#E5ECF6",
              "width": 0.5
             }
            },
            "type": "barpolar"
           }
          ],
          "carpet": [
           {
            "aaxis": {
             "endlinecolor": "#2a3f5f",
             "gridcolor": "white",
             "linecolor": "white",
             "minorgridcolor": "white",
             "startlinecolor": "#2a3f5f"
            },
            "baxis": {
             "endlinecolor": "#2a3f5f",
             "gridcolor": "white",
             "linecolor": "white",
             "minorgridcolor": "white",
             "startlinecolor": "#2a3f5f"
            },
            "type": "carpet"
           }
          ],
          "choropleth": [
           {
            "colorbar": {
             "outlinewidth": 0,
             "ticks": ""
            },
            "type": "choropleth"
           }
          ],
          "contour": [
           {
            "colorbar": {
             "outlinewidth": 0,
             "ticks": ""
            },
            "colorscale": [
             [
              0,
              "#0d0887"
             ],
             [
              0.1111111111111111,
              "#46039f"
             ],
             [
              0.2222222222222222,
              "#7201a8"
             ],
             [
              0.3333333333333333,
              "#9c179e"
             ],
             [
              0.4444444444444444,
              "#bd3786"
             ],
             [
              0.5555555555555556,
              "#d8576b"
             ],
             [
              0.6666666666666666,
              "#ed7953"
             ],
             [
              0.7777777777777778,
              "#fb9f3a"
             ],
             [
              0.8888888888888888,
              "#fdca26"
             ],
             [
              1,
              "#f0f921"
             ]
            ],
            "type": "contour"
           }
          ],
          "contourcarpet": [
           {
            "colorbar": {
             "outlinewidth": 0,
             "ticks": ""
            },
            "type": "contourcarpet"
           }
          ],
          "heatmap": [
           {
            "colorbar": {
             "outlinewidth": 0,
             "ticks": ""
            },
            "colorscale": [
             [
              0,
              "#0d0887"
             ],
             [
              0.1111111111111111,
              "#46039f"
             ],
             [
              0.2222222222222222,
              "#7201a8"
             ],
             [
              0.3333333333333333,
              "#9c179e"
             ],
             [
              0.4444444444444444,
              "#bd3786"
             ],
             [
              0.5555555555555556,
              "#d8576b"
             ],
             [
              0.6666666666666666,
              "#ed7953"
             ],
             [
              0.7777777777777778,
              "#fb9f3a"
             ],
             [
              0.8888888888888888,
              "#fdca26"
             ],
             [
              1,
              "#f0f921"
             ]
            ],
            "type": "heatmap"
           }
          ],
          "heatmapgl": [
           {
            "colorbar": {
             "outlinewidth": 0,
             "ticks": ""
            },
            "colorscale": [
             [
              0,
              "#0d0887"
             ],
             [
              0.1111111111111111,
              "#46039f"
             ],
             [
              0.2222222222222222,
              "#7201a8"
             ],
             [
              0.3333333333333333,
              "#9c179e"
             ],
             [
              0.4444444444444444,
              "#bd3786"
             ],
             [
              0.5555555555555556,
              "#d8576b"
             ],
             [
              0.6666666666666666,
              "#ed7953"
             ],
             [
              0.7777777777777778,
              "#fb9f3a"
             ],
             [
              0.8888888888888888,
              "#fdca26"
             ],
             [
              1,
              "#f0f921"
             ]
            ],
            "type": "heatmapgl"
           }
          ],
          "histogram": [
           {
            "marker": {
             "colorbar": {
              "outlinewidth": 0,
              "ticks": ""
             }
            },
            "type": "histogram"
           }
          ],
          "histogram2d": [
           {
            "colorbar": {
             "outlinewidth": 0,
             "ticks": ""
            },
            "colorscale": [
             [
              0,
              "#0d0887"
             ],
             [
              0.1111111111111111,
              "#46039f"
             ],
             [
              0.2222222222222222,
              "#7201a8"
             ],
             [
              0.3333333333333333,
              "#9c179e"
             ],
             [
              0.4444444444444444,
              "#bd3786"
             ],
             [
              0.5555555555555556,
              "#d8576b"
             ],
             [
              0.6666666666666666,
              "#ed7953"
             ],
             [
              0.7777777777777778,
              "#fb9f3a"
             ],
             [
              0.8888888888888888,
              "#fdca26"
             ],
             [
              1,
              "#f0f921"
             ]
            ],
            "type": "histogram2d"
           }
          ],
          "histogram2dcontour": [
           {
            "colorbar": {
             "outlinewidth": 0,
             "ticks": ""
            },
            "colorscale": [
             [
              0,
              "#0d0887"
             ],
             [
              0.1111111111111111,
              "#46039f"
             ],
             [
              0.2222222222222222,
              "#7201a8"
             ],
             [
              0.3333333333333333,
              "#9c179e"
             ],
             [
              0.4444444444444444,
              "#bd3786"
             ],
             [
              0.5555555555555556,
              "#d8576b"
             ],
             [
              0.6666666666666666,
              "#ed7953"
             ],
             [
              0.7777777777777778,
              "#fb9f3a"
             ],
             [
              0.8888888888888888,
              "#fdca26"
             ],
             [
              1,
              "#f0f921"
             ]
            ],
            "type": "histogram2dcontour"
           }
          ],
          "mesh3d": [
           {
            "colorbar": {
             "outlinewidth": 0,
             "ticks": ""
            },
            "type": "mesh3d"
           }
          ],
          "parcoords": [
           {
            "line": {
             "colorbar": {
              "outlinewidth": 0,
              "ticks": ""
             }
            },
            "type": "parcoords"
           }
          ],
          "scatter": [
           {
            "marker": {
             "colorbar": {
              "outlinewidth": 0,
              "ticks": ""
             }
            },
            "type": "scatter"
           }
          ],
          "scatter3d": [
           {
            "line": {
             "colorbar": {
              "outlinewidth": 0,
              "ticks": ""
             }
            },
            "marker": {
             "colorbar": {
              "outlinewidth": 0,
              "ticks": ""
             }
            },
            "type": "scatter3d"
           }
          ],
          "scattercarpet": [
           {
            "marker": {
             "colorbar": {
              "outlinewidth": 0,
              "ticks": ""
             }
            },
            "type": "scattercarpet"
           }
          ],
          "scattergeo": [
           {
            "marker": {
             "colorbar": {
              "outlinewidth": 0,
              "ticks": ""
             }
            },
            "type": "scattergeo"
           }
          ],
          "scattergl": [
           {
            "marker": {
             "colorbar": {
              "outlinewidth": 0,
              "ticks": ""
             }
            },
            "type": "scattergl"
           }
          ],
          "scattermapbox": [
           {
            "marker": {
             "colorbar": {
              "outlinewidth": 0,
              "ticks": ""
             }
            },
            "type": "scattermapbox"
           }
          ],
          "scatterpolar": [
           {
            "marker": {
             "colorbar": {
              "outlinewidth": 0,
              "ticks": ""
             }
            },
            "type": "scatterpolar"
           }
          ],
          "scatterpolargl": [
           {
            "marker": {
             "colorbar": {
              "outlinewidth": 0,
              "ticks": ""
             }
            },
            "type": "scatterpolargl"
           }
          ],
          "scatterternary": [
           {
            "marker": {
             "colorbar": {
              "outlinewidth": 0,
              "ticks": ""
             }
            },
            "type": "scatterternary"
           }
          ],
          "surface": [
           {
            "colorbar": {
             "outlinewidth": 0,
             "ticks": ""
            },
            "colorscale": [
             [
              0,
              "#0d0887"
             ],
             [
              0.1111111111111111,
              "#46039f"
             ],
             [
              0.2222222222222222,
              "#7201a8"
             ],
             [
              0.3333333333333333,
              "#9c179e"
             ],
             [
              0.4444444444444444,
              "#bd3786"
             ],
             [
              0.5555555555555556,
              "#d8576b"
             ],
             [
              0.6666666666666666,
              "#ed7953"
             ],
             [
              0.7777777777777778,
              "#fb9f3a"
             ],
             [
              0.8888888888888888,
              "#fdca26"
             ],
             [
              1,
              "#f0f921"
             ]
            ],
            "type": "surface"
           }
          ],
          "table": [
           {
            "cells": {
             "fill": {
              "color": "#EBF0F8"
             },
             "line": {
              "color": "white"
             }
            },
            "header": {
             "fill": {
              "color": "#C8D4E3"
             },
             "line": {
              "color": "white"
             }
            },
            "type": "table"
           }
          ]
         },
         "layout": {
          "annotationdefaults": {
           "arrowcolor": "#2a3f5f",
           "arrowhead": 0,
           "arrowwidth": 1
          },
          "colorscale": {
           "diverging": [
            [
             0,
             "#8e0152"
            ],
            [
             0.1,
             "#c51b7d"
            ],
            [
             0.2,
             "#de77ae"
            ],
            [
             0.3,
             "#f1b6da"
            ],
            [
             0.4,
             "#fde0ef"
            ],
            [
             0.5,
             "#f7f7f7"
            ],
            [
             0.6,
             "#e6f5d0"
            ],
            [
             0.7,
             "#b8e186"
            ],
            [
             0.8,
             "#7fbc41"
            ],
            [
             0.9,
             "#4d9221"
            ],
            [
             1,
             "#276419"
            ]
           ],
           "sequential": [
            [
             0,
             "#0d0887"
            ],
            [
             0.1111111111111111,
             "#46039f"
            ],
            [
             0.2222222222222222,
             "#7201a8"
            ],
            [
             0.3333333333333333,
             "#9c179e"
            ],
            [
             0.4444444444444444,
             "#bd3786"
            ],
            [
             0.5555555555555556,
             "#d8576b"
            ],
            [
             0.6666666666666666,
             "#ed7953"
            ],
            [
             0.7777777777777778,
             "#fb9f3a"
            ],
            [
             0.8888888888888888,
             "#fdca26"
            ],
            [
             1,
             "#f0f921"
            ]
           ],
           "sequentialminus": [
            [
             0,
             "#0d0887"
            ],
            [
             0.1111111111111111,
             "#46039f"
            ],
            [
             0.2222222222222222,
             "#7201a8"
            ],
            [
             0.3333333333333333,
             "#9c179e"
            ],
            [
             0.4444444444444444,
             "#bd3786"
            ],
            [
             0.5555555555555556,
             "#d8576b"
            ],
            [
             0.6666666666666666,
             "#ed7953"
            ],
            [
             0.7777777777777778,
             "#fb9f3a"
            ],
            [
             0.8888888888888888,
             "#fdca26"
            ],
            [
             1,
             "#f0f921"
            ]
           ]
          },
          "colorway": [
           "#636efa",
           "#EF553B",
           "#00cc96",
           "#ab63fa",
           "#FFA15A",
           "#19d3f3",
           "#FF6692",
           "#B6E880",
           "#FF97FF",
           "#FECB52"
          ],
          "font": {
           "color": "#2a3f5f"
          },
          "geo": {
           "bgcolor": "white",
           "lakecolor": "white",
           "landcolor": "#E5ECF6",
           "showlakes": true,
           "showland": true,
           "subunitcolor": "white"
          },
          "hoverlabel": {
           "align": "left"
          },
          "hovermode": "closest",
          "mapbox": {
           "style": "light"
          },
          "paper_bgcolor": "white",
          "plot_bgcolor": "#E5ECF6",
          "polar": {
           "angularaxis": {
            "gridcolor": "white",
            "linecolor": "white",
            "ticks": ""
           },
           "bgcolor": "#E5ECF6",
           "radialaxis": {
            "gridcolor": "white",
            "linecolor": "white",
            "ticks": ""
           }
          },
          "scene": {
           "xaxis": {
            "backgroundcolor": "#E5ECF6",
            "gridcolor": "white",
            "gridwidth": 2,
            "linecolor": "white",
            "showbackground": true,
            "ticks": "",
            "zerolinecolor": "white"
           },
           "yaxis": {
            "backgroundcolor": "#E5ECF6",
            "gridcolor": "white",
            "gridwidth": 2,
            "linecolor": "white",
            "showbackground": true,
            "ticks": "",
            "zerolinecolor": "white"
           },
           "zaxis": {
            "backgroundcolor": "#E5ECF6",
            "gridcolor": "white",
            "gridwidth": 2,
            "linecolor": "white",
            "showbackground": true,
            "ticks": "",
            "zerolinecolor": "white"
           }
          },
          "shapedefaults": {
           "line": {
            "color": "#2a3f5f"
           }
          },
          "ternary": {
           "aaxis": {
            "gridcolor": "white",
            "linecolor": "white",
            "ticks": ""
           },
           "baxis": {
            "gridcolor": "white",
            "linecolor": "white",
            "ticks": ""
           },
           "bgcolor": "#E5ECF6",
           "caxis": {
            "gridcolor": "white",
            "linecolor": "white",
            "ticks": ""
           }
          },
          "title": {
           "x": 0.05
          },
          "xaxis": {
           "automargin": true,
           "gridcolor": "white",
           "linecolor": "white",
           "ticks": "",
           "zerolinecolor": "white",
           "zerolinewidth": 2
          },
          "yaxis": {
           "automargin": true,
           "gridcolor": "white",
           "linecolor": "white",
           "ticks": "",
           "zerolinecolor": "white",
           "zerolinewidth": 2
          }
         }
        }
       }
      },
      "text/html": [
       "<div>\n",
       "        \n",
       "        \n",
       "            <div id=\"73bdc21c-538f-4f4d-bb49-49227cf5ac2c\" class=\"plotly-graph-div\" style=\"height:525px; width:100%;\"></div>\n",
       "            <script type=\"text/javascript\">\n",
       "                require([\"plotly\"], function(Plotly) {\n",
       "                    window.PLOTLYENV=window.PLOTLYENV || {};\n",
       "                    \n",
       "                if (document.getElementById(\"73bdc21c-538f-4f4d-bb49-49227cf5ac2c\")) {\n",
       "                    Plotly.newPlot(\n",
       "                        '73bdc21c-538f-4f4d-bb49-49227cf5ac2c',\n",
       "                        [{\"mode\": \"markers\", \"name\": \"NW Boise\", \"type\": \"scatter\", \"x\": [\"Arts, Design, Entertainment, Sports, And Media Occupations\", \"Building And Grounds Cleaning And Maintenance Occupations\", \"Food Preparation And Serving Related Occupations\", \"Management Occupations\", \"Production Occupations\", \"Sales And Related Occupations\", \"Transportation And Material Moving Occupations\", \"(70000.0, 100000.0]\", \"Total_House_Change\", \"Total_Pop_Change\", \"Total_Emp_Change\"], \"y\": [0.20512159087241913, 0.20202415393377984, null, 0.20297371252017204, 0.17163317062771433, 0.20723197604888455, 0.19265518844715313, null, 0.21006497116471967, 0.1980678101943947, 0.2194234637811191]}, {\"mode\": \"markers\", \"name\": \"Boise Bench\", \"type\": \"scatter\", \"x\": [\"Arts, Design, Entertainment, Sports, And Media Occupations\", \"Building And Grounds Cleaning And Maintenance Occupations\", \"Food Preparation And Serving Related Occupations\", \"Management Occupations\", \"Production Occupations\", \"Sales And Related Occupations\", \"Transportation And Material Moving Occupations\", \"(70000.0, 100000.0]\", \"Total_House_Change\", \"Total_Pop_Change\", \"Total_Emp_Change\"], \"y\": [0.32229565012681455, 0.2977798318315564, null, 0.2964887347404128, 0.272514238926972, 0.3368547084586827, 0.3129320707425859, null, 0.3083006612882456, 0.3091620597574776, 0.34116317866143864]}, {\"mode\": \"markers\", \"name\": \"SE Boise\", \"type\": \"scatter\", \"x\": [\"Arts, Design, Entertainment, Sports, And Media Occupations\", \"Building And Grounds Cleaning And Maintenance Occupations\", \"Food Preparation And Serving Related Occupations\", \"Management Occupations\", \"Production Occupations\", \"Sales And Related Occupations\", \"Transportation And Material Moving Occupations\", \"(70000.0, 100000.0]\", \"Total_House_Change\", \"Total_Pop_Change\", \"Total_Emp_Change\"], \"y\": [0.15165217623671404, 0.1734840864835354, null, 0.15737235712812978, null, 0.1697408477614244, 0.14697773768881994, 0.14220614099515813, 0.17784203090063153, 0.17361536502233788, 0.1789425947447074]}, {\"mode\": \"markers\", \"name\": \"N Boise\", \"type\": \"scatter\", \"x\": [\"Arts, Design, Entertainment, Sports, And Media Occupations\", \"Building And Grounds Cleaning And Maintenance Occupations\", \"Food Preparation And Serving Related Occupations\", \"Management Occupations\", \"Production Occupations\", \"Sales And Related Occupations\", \"Transportation And Material Moving Occupations\", \"(70000.0, 100000.0]\", \"Total_House_Change\", \"Total_Pop_Change\", \"Total_Emp_Change\"], \"y\": [0.14568582626853804, 0.16123274910358384, null, 0.16107155863138956, null, 0.1778548012365404, 0.1672556839217225, 0.14263095766200048, 0.19851334669155937, 0.20551528108839293, 0.1750492026773702]}, {\"mode\": \"markers\", \"name\": \"NE Boise\", \"type\": \"scatter\", \"x\": [\"Arts, Design, Entertainment, Sports, And Media Occupations\", \"Building And Grounds Cleaning And Maintenance Occupations\", \"Food Preparation And Serving Related Occupations\", \"Management Occupations\", \"Production Occupations\", \"Sales And Related Occupations\", \"Transportation And Material Moving Occupations\", \"(70000.0, 100000.0]\", \"Total_House_Change\", \"Total_Pop_Change\", \"Total_Emp_Change\"], \"y\": [null, 0.03192043949798312, 0.026809437454825388, 0.028292428886185668, 0.029265182343593755, 0.031063975572862466, 0.024672545434538812, null, 0.02878594374273333, 0.031774543826914844, 0.03517291426907938]}, {\"mode\": \"markers\", \"name\": \"W Boise\", \"type\": \"scatter\", \"x\": [\"Arts, Design, Entertainment, Sports, And Media Occupations\", \"Building And Grounds Cleaning And Maintenance Occupations\", \"Food Preparation And Serving Related Occupations\", \"Management Occupations\", \"Production Occupations\", \"Sales And Related Occupations\", \"Transportation And Material Moving Occupations\", \"(70000.0, 100000.0]\", \"Total_House_Change\", \"Total_Pop_Change\", \"Total_Emp_Change\"], \"y\": [0.29519200186127226, 0.30411753621650506, null, 0.27954755117672947, 0.2583987627632459, 0.30643098999833923, 0.27529209359889817, null, 0.28374230141513573, 0.27966548526962093, 0.316576752139436]}, {\"mode\": \"markers\", \"name\": \"SW Boise M\", \"type\": \"scatter\", \"x\": [\"Arts, Design, Entertainment, Sports, And Media Occupations\", \"Building And Grounds Cleaning And Maintenance Occupations\", \"Food Preparation And Serving Related Occupations\", \"Management Occupations\", \"Production Occupations\", \"Sales And Related Occupations\", \"Transportation And Material Moving Occupations\", \"(70000.0, 100000.0]\", \"Total_House_Change\", \"Total_Pop_Change\", \"Total_Emp_Change\"], \"y\": [0.1504959753661697, 0.19855952481727007, 0.16073145051703916, 0.15638199418159174, null, 0.1861149105898015, 0.1621694067401815, null, 0.1476974534956342, 0.15610206178053995, 0.18751794041229808]}, {\"mode\": \"markers\", \"name\": \"W Boise M\", \"type\": \"scatter\", \"x\": [\"Arts, Design, Entertainment, Sports, And Media Occupations\", \"Building And Grounds Cleaning And Maintenance Occupations\", \"Food Preparation And Serving Related Occupations\", \"Management Occupations\", \"Production Occupations\", \"Sales And Related Occupations\", \"Transportation And Material Moving Occupations\", \"(70000.0, 100000.0]\", \"Total_House_Change\", \"Total_Pop_Change\", \"Total_Emp_Change\"], \"y\": [0.17200512497700174, 0.1904964859912985, null, 0.1872697109980509, 0.16916813917865597, 0.19343996709316957, 0.1889609160179004, null, 0.19680433092148597, 0.19205655325395457, 0.21572484830063943]}, {\"mode\": \"markers\", \"name\": \"SW Boise\", \"type\": \"scatter\", \"x\": [\"Arts, Design, Entertainment, Sports, And Media Occupations\", \"Building And Grounds Cleaning And Maintenance Occupations\", \"Food Preparation And Serving Related Occupations\", \"Management Occupations\", \"Production Occupations\", \"Sales And Related Occupations\", \"Transportation And Material Moving Occupations\", \"(70000.0, 100000.0]\", \"Total_House_Change\", \"Total_Pop_Change\", \"Total_Emp_Change\"], \"y\": [0.22035769938390118, 0.2100096397353598, 0.17849278215008724, null, 0.1861785956967291, 0.2478144672058495, 0.19438792897553028, null, 0.1989783959986223, 0.1929026311951265, 0.21577060714910704]}],\n",
       "                        {\"shapes\": [{\"line\": {\"color\": \"Red\", \"dash\": \"dashdot\", \"width\": 1}, \"type\": \"line\", \"x0\": 0, \"x1\": 11, \"y0\": 0.3, \"y1\": 0.3}], \"template\": {\"data\": {\"bar\": [{\"error_x\": {\"color\": \"#2a3f5f\"}, \"error_y\": {\"color\": \"#2a3f5f\"}, \"marker\": {\"line\": {\"color\": \"#E5ECF6\", \"width\": 0.5}}, \"type\": \"bar\"}], \"barpolar\": [{\"marker\": {\"line\": {\"color\": \"#E5ECF6\", \"width\": 0.5}}, \"type\": \"barpolar\"}], \"carpet\": [{\"aaxis\": {\"endlinecolor\": \"#2a3f5f\", \"gridcolor\": \"white\", \"linecolor\": \"white\", \"minorgridcolor\": \"white\", \"startlinecolor\": \"#2a3f5f\"}, \"baxis\": {\"endlinecolor\": \"#2a3f5f\", \"gridcolor\": \"white\", \"linecolor\": \"white\", \"minorgridcolor\": \"white\", \"startlinecolor\": \"#2a3f5f\"}, \"type\": \"carpet\"}], \"choropleth\": [{\"colorbar\": {\"outlinewidth\": 0, \"ticks\": \"\"}, \"type\": \"choropleth\"}], \"contour\": [{\"colorbar\": {\"outlinewidth\": 0, \"ticks\": \"\"}, \"colorscale\": [[0.0, \"#0d0887\"], [0.1111111111111111, \"#46039f\"], [0.2222222222222222, \"#7201a8\"], [0.3333333333333333, \"#9c179e\"], [0.4444444444444444, \"#bd3786\"], [0.5555555555555556, \"#d8576b\"], [0.6666666666666666, \"#ed7953\"], [0.7777777777777778, \"#fb9f3a\"], [0.8888888888888888, \"#fdca26\"], [1.0, \"#f0f921\"]], \"type\": \"contour\"}], \"contourcarpet\": [{\"colorbar\": {\"outlinewidth\": 0, \"ticks\": \"\"}, \"type\": \"contourcarpet\"}], \"heatmap\": [{\"colorbar\": {\"outlinewidth\": 0, \"ticks\": \"\"}, \"colorscale\": [[0.0, \"#0d0887\"], [0.1111111111111111, \"#46039f\"], [0.2222222222222222, \"#7201a8\"], [0.3333333333333333, \"#9c179e\"], [0.4444444444444444, \"#bd3786\"], [0.5555555555555556, \"#d8576b\"], [0.6666666666666666, \"#ed7953\"], [0.7777777777777778, \"#fb9f3a\"], [0.8888888888888888, \"#fdca26\"], [1.0, \"#f0f921\"]], \"type\": \"heatmap\"}], \"heatmapgl\": [{\"colorbar\": {\"outlinewidth\": 0, \"ticks\": \"\"}, \"colorscale\": [[0.0, \"#0d0887\"], [0.1111111111111111, \"#46039f\"], [0.2222222222222222, \"#7201a8\"], [0.3333333333333333, \"#9c179e\"], [0.4444444444444444, \"#bd3786\"], [0.5555555555555556, \"#d8576b\"], [0.6666666666666666, \"#ed7953\"], [0.7777777777777778, \"#fb9f3a\"], [0.8888888888888888, \"#fdca26\"], [1.0, \"#f0f921\"]], \"type\": \"heatmapgl\"}], \"histogram\": [{\"marker\": {\"colorbar\": {\"outlinewidth\": 0, \"ticks\": \"\"}}, \"type\": \"histogram\"}], \"histogram2d\": [{\"colorbar\": {\"outlinewidth\": 0, \"ticks\": \"\"}, \"colorscale\": [[0.0, \"#0d0887\"], [0.1111111111111111, \"#46039f\"], [0.2222222222222222, \"#7201a8\"], [0.3333333333333333, \"#9c179e\"], [0.4444444444444444, \"#bd3786\"], [0.5555555555555556, \"#d8576b\"], [0.6666666666666666, \"#ed7953\"], [0.7777777777777778, \"#fb9f3a\"], [0.8888888888888888, \"#fdca26\"], [1.0, \"#f0f921\"]], \"type\": \"histogram2d\"}], \"histogram2dcontour\": [{\"colorbar\": {\"outlinewidth\": 0, \"ticks\": \"\"}, \"colorscale\": [[0.0, \"#0d0887\"], [0.1111111111111111, \"#46039f\"], [0.2222222222222222, \"#7201a8\"], [0.3333333333333333, \"#9c179e\"], [0.4444444444444444, \"#bd3786\"], [0.5555555555555556, \"#d8576b\"], [0.6666666666666666, \"#ed7953\"], [0.7777777777777778, \"#fb9f3a\"], [0.8888888888888888, \"#fdca26\"], [1.0, \"#f0f921\"]], \"type\": \"histogram2dcontour\"}], \"mesh3d\": [{\"colorbar\": {\"outlinewidth\": 0, \"ticks\": \"\"}, \"type\": \"mesh3d\"}], \"parcoords\": [{\"line\": {\"colorbar\": {\"outlinewidth\": 0, \"ticks\": \"\"}}, \"type\": \"parcoords\"}], \"scatter\": [{\"marker\": {\"colorbar\": {\"outlinewidth\": 0, \"ticks\": \"\"}}, \"type\": \"scatter\"}], \"scatter3d\": [{\"line\": {\"colorbar\": {\"outlinewidth\": 0, \"ticks\": \"\"}}, \"marker\": {\"colorbar\": {\"outlinewidth\": 0, \"ticks\": \"\"}}, \"type\": \"scatter3d\"}], \"scattercarpet\": [{\"marker\": {\"colorbar\": {\"outlinewidth\": 0, \"ticks\": \"\"}}, \"type\": \"scattercarpet\"}], \"scattergeo\": [{\"marker\": {\"colorbar\": {\"outlinewidth\": 0, \"ticks\": \"\"}}, \"type\": \"scattergeo\"}], \"scattergl\": [{\"marker\": {\"colorbar\": {\"outlinewidth\": 0, \"ticks\": \"\"}}, \"type\": \"scattergl\"}], \"scattermapbox\": [{\"marker\": {\"colorbar\": {\"outlinewidth\": 0, \"ticks\": \"\"}}, \"type\": \"scattermapbox\"}], \"scatterpolar\": [{\"marker\": {\"colorbar\": {\"outlinewidth\": 0, \"ticks\": \"\"}}, \"type\": \"scatterpolar\"}], \"scatterpolargl\": [{\"marker\": {\"colorbar\": {\"outlinewidth\": 0, \"ticks\": \"\"}}, \"type\": \"scatterpolargl\"}], \"scatterternary\": [{\"marker\": {\"colorbar\": {\"outlinewidth\": 0, \"ticks\": \"\"}}, \"type\": \"scatterternary\"}], \"surface\": [{\"colorbar\": {\"outlinewidth\": 0, \"ticks\": \"\"}, \"colorscale\": [[0.0, \"#0d0887\"], [0.1111111111111111, \"#46039f\"], [0.2222222222222222, \"#7201a8\"], [0.3333333333333333, \"#9c179e\"], [0.4444444444444444, \"#bd3786\"], [0.5555555555555556, \"#d8576b\"], [0.6666666666666666, \"#ed7953\"], [0.7777777777777778, \"#fb9f3a\"], [0.8888888888888888, \"#fdca26\"], [1.0, \"#f0f921\"]], \"type\": \"surface\"}], \"table\": [{\"cells\": {\"fill\": {\"color\": \"#EBF0F8\"}, \"line\": {\"color\": \"white\"}}, \"header\": {\"fill\": {\"color\": \"#C8D4E3\"}, \"line\": {\"color\": \"white\"}}, \"type\": \"table\"}]}, \"layout\": {\"annotationdefaults\": {\"arrowcolor\": \"#2a3f5f\", \"arrowhead\": 0, \"arrowwidth\": 1}, \"colorscale\": {\"diverging\": [[0, \"#8e0152\"], [0.1, \"#c51b7d\"], [0.2, \"#de77ae\"], [0.3, \"#f1b6da\"], [0.4, \"#fde0ef\"], [0.5, \"#f7f7f7\"], [0.6, \"#e6f5d0\"], [0.7, \"#b8e186\"], [0.8, \"#7fbc41\"], [0.9, \"#4d9221\"], [1, \"#276419\"]], \"sequential\": [[0.0, \"#0d0887\"], [0.1111111111111111, \"#46039f\"], [0.2222222222222222, \"#7201a8\"], [0.3333333333333333, \"#9c179e\"], [0.4444444444444444, \"#bd3786\"], [0.5555555555555556, \"#d8576b\"], [0.6666666666666666, \"#ed7953\"], [0.7777777777777778, \"#fb9f3a\"], [0.8888888888888888, \"#fdca26\"], [1.0, \"#f0f921\"]], \"sequentialminus\": [[0.0, \"#0d0887\"], [0.1111111111111111, \"#46039f\"], [0.2222222222222222, \"#7201a8\"], [0.3333333333333333, \"#9c179e\"], [0.4444444444444444, \"#bd3786\"], [0.5555555555555556, \"#d8576b\"], [0.6666666666666666, \"#ed7953\"], [0.7777777777777778, \"#fb9f3a\"], [0.8888888888888888, \"#fdca26\"], [1.0, \"#f0f921\"]]}, \"colorway\": [\"#636efa\", \"#EF553B\", \"#00cc96\", \"#ab63fa\", \"#FFA15A\", \"#19d3f3\", \"#FF6692\", \"#B6E880\", \"#FF97FF\", \"#FECB52\"], \"font\": {\"color\": \"#2a3f5f\"}, \"geo\": {\"bgcolor\": \"white\", \"lakecolor\": \"white\", \"landcolor\": \"#E5ECF6\", \"showlakes\": true, \"showland\": true, \"subunitcolor\": \"white\"}, \"hoverlabel\": {\"align\": \"left\"}, \"hovermode\": \"closest\", \"mapbox\": {\"style\": \"light\"}, \"paper_bgcolor\": \"white\", \"plot_bgcolor\": \"#E5ECF6\", \"polar\": {\"angularaxis\": {\"gridcolor\": \"white\", \"linecolor\": \"white\", \"ticks\": \"\"}, \"bgcolor\": \"#E5ECF6\", \"radialaxis\": {\"gridcolor\": \"white\", \"linecolor\": \"white\", \"ticks\": \"\"}}, \"scene\": {\"xaxis\": {\"backgroundcolor\": \"#E5ECF6\", \"gridcolor\": \"white\", \"gridwidth\": 2, \"linecolor\": \"white\", \"showbackground\": true, \"ticks\": \"\", \"zerolinecolor\": \"white\"}, \"yaxis\": {\"backgroundcolor\": \"#E5ECF6\", \"gridcolor\": \"white\", \"gridwidth\": 2, \"linecolor\": \"white\", \"showbackground\": true, \"ticks\": \"\", \"zerolinecolor\": \"white\"}, \"zaxis\": {\"backgroundcolor\": \"#E5ECF6\", \"gridcolor\": \"white\", \"gridwidth\": 2, \"linecolor\": \"white\", \"showbackground\": true, \"ticks\": \"\", \"zerolinecolor\": \"white\"}}, \"shapedefaults\": {\"line\": {\"color\": \"#2a3f5f\"}}, \"ternary\": {\"aaxis\": {\"gridcolor\": \"white\", \"linecolor\": \"white\", \"ticks\": \"\"}, \"baxis\": {\"gridcolor\": \"white\", \"linecolor\": \"white\", \"ticks\": \"\"}, \"bgcolor\": \"#E5ECF6\", \"caxis\": {\"gridcolor\": \"white\", \"linecolor\": \"white\", \"ticks\": \"\"}}, \"title\": {\"x\": 0.05}, \"xaxis\": {\"automargin\": true, \"gridcolor\": \"white\", \"linecolor\": \"white\", \"ticks\": \"\", \"zerolinecolor\": \"white\", \"zerolinewidth\": 2}, \"yaxis\": {\"automargin\": true, \"gridcolor\": \"white\", \"linecolor\": \"white\", \"ticks\": \"\", \"zerolinecolor\": \"white\", \"zerolinewidth\": 2}}}},\n",
       "                        {\"responsive\": true}\n",
       "                    ).then(function(){\n",
       "                            \n",
       "var gd = document.getElementById('73bdc21c-538f-4f4d-bb49-49227cf5ac2c');\n",
       "var x = new MutationObserver(function (mutations, observer) {{\n",
       "        var display = window.getComputedStyle(gd).display;\n",
       "        if (!display || display === 'none') {{\n",
       "            console.log([gd, 'removed!']);\n",
       "            Plotly.purge(gd);\n",
       "            observer.disconnect();\n",
       "        }}\n",
       "}});\n",
       "\n",
       "// Listen for the removal of the full notebook cells\n",
       "var notebookContainer = gd.closest('#notebook-container');\n",
       "if (notebookContainer) {{\n",
       "    x.observe(notebookContainer, {childList: true});\n",
       "}}\n",
       "\n",
       "// Listen for the clearing of the current output cell\n",
       "var outputEl = gd.closest('.output');\n",
       "if (outputEl) {{\n",
       "    x.observe(outputEl, {childList: true});\n",
       "}}\n",
       "\n",
       "                        })\n",
       "                };\n",
       "                });\n",
       "            </script>\n",
       "        </div>"
      ]
     },
     "metadata": {},
     "output_type": "display_data"
    }
   ],
   "source": [
    "df = pd.read_pickle('a-Coeff-compare.pkl')\n",
    "df = df.iloc[1:]\n",
    "\n",
    "fig = go.Figure()\n",
    "\n",
    "fig.add_trace(go.Scatter(x= df['index'], y=df['NW_Boise'],\n",
    "                    mode='markers',    \n",
    "                    name='NW Boise'))\n",
    "\n",
    "fig.add_trace(go.Scatter(x= df['index'], y=df['B_Bench'],\n",
    "                    mode='markers',     \n",
    "                    name='Boise Bench'))\n",
    "\n",
    "fig.add_trace(go.Scatter(x= df['index'], y=df['SE_Boise'],\n",
    "                    mode='markers',    \n",
    "                    name='SE Boise'))\n",
    "\n",
    "fig.add_trace(go.Scatter(x= df['index'], y=df['N_Boise'],\n",
    "                    mode='markers',  \n",
    "                    name='N Boise'))\n",
    "\n",
    "fig.add_trace(go.Scatter(x= df['index'], y=df['NE_Boise'],\n",
    "                    mode='markers',   \n",
    "                    name='NE Boise'))\n",
    "\n",
    "fig.add_trace(go.Scatter(x= df['index'], y=df['W_Boise'],\n",
    "                    mode='markers',    \n",
    "                    name='W Boise'))\n",
    "\n",
    "fig.add_trace(go.Scatter(x= df['index'], y=df['SW_Boise_M'],\n",
    "                    mode='markers',   \n",
    "                    name='SW Boise M'))\n",
    "\n",
    "fig.add_trace(go.Scatter(x= df['index'], y=df['W_Boise_M'],\n",
    "                    mode='markers',   \n",
    "                    name='W Boise M'))\n",
    "\n",
    "fig.add_trace(go.Scatter(x= df['index'], y=df['SW_Boise'],\n",
    "                    mode='markers',    \n",
    "                    name='SW Boise'))\n",
    "\n",
    "fig.update_layout(\n",
    "    shapes=[\n",
    "        # Line Horizontal\n",
    "        go.layout.Shape(\n",
    "            type=\"line\",\n",
    "            x0=0,y0=.3,\n",
    "            x1=11,y1=.3,\n",
    "            line=dict(\n",
    "                color=\"Red\",\n",
    "                width=1,\n",
    "                dash=\"dashdot\",),),])\n",
    "fig.show()"
   ]
  },
  {
   "cell_type": "code",
   "execution_count": 36,
   "metadata": {},
   "outputs": [
    {
     "data": {
      "text/plain": [
       "array(['NORTH CENTRAL BENCH', 'WEST BOISE', 'WEST BOISE FREEWAY CORRIDOR'],\n",
       "      dtype=object)"
      ]
     },
     "execution_count": 36,
     "metadata": {},
     "output_type": "execute_result"
    }
   ],
   "source": [
    "df = pd.read_pickle('testing.pkl')\n",
    "df = df[df['Area'] == 'W BOISE']\n",
    "#df.Area.unique()\n",
    "df.Neighborhood.unique()"
   ]
  },
  {
   "cell_type": "code",
   "execution_count": 57,
   "metadata": {},
   "outputs": [],
   "source": [
    "def NcoefComp(neigh, df):\n",
    "    k = 10\n",
    "    df_Fun = df.copy()\n",
    "    df_Fun = df_Fun[df_Fun['Neighborhood'] == neigh]\n",
    "    corrmat = df_Fun.corr()\n",
    "    cols = corrmat.nlargest(k, 'TAV_Ch')['TAV_Ch']\n",
    "    temp = pd.DataFrame(cols)\n",
    "\n",
    "    return temp"
   ]
  },
  {
   "cell_type": "code",
   "execution_count": 58,
   "metadata": {},
   "outputs": [
    {
     "data": {
      "text/html": [
       "<div>\n",
       "<style scoped>\n",
       "    .dataframe tbody tr th:only-of-type {\n",
       "        vertical-align: middle;\n",
       "    }\n",
       "\n",
       "    .dataframe tbody tr th {\n",
       "        vertical-align: top;\n",
       "    }\n",
       "\n",
       "    .dataframe thead th {\n",
       "        text-align: right;\n",
       "    }\n",
       "</style>\n",
       "<table border=\"1\" class=\"dataframe\">\n",
       "  <thead>\n",
       "    <tr style=\"text-align: right;\">\n",
       "      <th></th>\n",
       "      <th>index</th>\n",
       "      <th>WB_NC_Bench</th>\n",
       "      <th>WB_W_Boise</th>\n",
       "      <th>WB_WB_F_Corridor</th>\n",
       "    </tr>\n",
       "  </thead>\n",
       "  <tbody>\n",
       "    <tr>\n",
       "      <th>0</th>\n",
       "      <td>Parcel</td>\n",
       "      <td>NaN</td>\n",
       "      <td>NaN</td>\n",
       "      <td>NaN</td>\n",
       "    </tr>\n",
       "    <tr>\n",
       "      <th>1</th>\n",
       "      <td>Year</td>\n",
       "      <td>NaN</td>\n",
       "      <td>NaN</td>\n",
       "      <td>NaN</td>\n",
       "    </tr>\n",
       "    <tr>\n",
       "      <th>2</th>\n",
       "      <td>Group</td>\n",
       "      <td>NaN</td>\n",
       "      <td>NaN</td>\n",
       "      <td>NaN</td>\n",
       "    </tr>\n",
       "    <tr>\n",
       "      <th>3</th>\n",
       "      <td>Neighborhood</td>\n",
       "      <td>NaN</td>\n",
       "      <td>NaN</td>\n",
       "      <td>NaN</td>\n",
       "    </tr>\n",
       "    <tr>\n",
       "      <th>4</th>\n",
       "      <td>Area</td>\n",
       "      <td>NaN</td>\n",
       "      <td>NaN</td>\n",
       "      <td>NaN</td>\n",
       "    </tr>\n",
       "  </tbody>\n",
       "</table>\n",
       "</div>"
      ],
      "text/plain": [
       "          index  WB_NC_Bench  WB_W_Boise  WB_WB_F_Corridor\n",
       "0        Parcel          NaN         NaN               NaN\n",
       "1          Year          NaN         NaN               NaN\n",
       "2         Group          NaN         NaN               NaN\n",
       "3  Neighborhood          NaN         NaN               NaN\n",
       "4          Area          NaN         NaN               NaN"
      ]
     },
     "execution_count": 58,
     "metadata": {},
     "output_type": "execute_result"
    }
   ],
   "source": [
    "# WEST BOISE AREA\n",
    "\n",
    "df = pd.read_pickle('testing.pkl')\n",
    "\n",
    "temp = list(df.columns)\n",
    "nBoise = pd.DataFrame(temp)\n",
    "nBoise = nBoise.rename(columns = {0 : 'index'})\n",
    "\n",
    "df1 = NcoefComp('NORTH CENTRAL BENCH', df)\n",
    "df1 = df1.reset_index()\n",
    "nBoise = pd.merge(nBoise,df1, on = 'index', how = 'left')\n",
    "nBoise = nBoise.rename(columns = {'TAV_Ch' : 'WB_NC_Bench'})\n",
    "\n",
    "\n",
    "df2 = NcoefComp('WEST BOISE', df)\n",
    "df2 = df2.reset_index()\n",
    "nBoise = pd.merge(nBoise,df2, on = 'index', how = 'left')\n",
    "nBoise = nBoise.rename(columns = {'TAV_Ch' : 'WB_W_Boise'})\n",
    "\n",
    "df3 = NcoefComp('WEST BOISE FREEWAY CORRIDOR', df)\n",
    "df3 = df3.reset_index()\n",
    "nBoise = pd.merge(nBoise,df3, on = 'index', how = 'left')\n",
    "nBoise = nBoise.rename(columns = {'TAV_Ch' : 'WB_WB_F_Corridor'})\n",
    "\n",
    "\n",
    "nBoise.to_pickle('n-Coeff-compare.pkl')\n",
    "nBoise.head(5)"
   ]
  },
  {
   "cell_type": "code",
   "execution_count": 59,
   "metadata": {},
   "outputs": [
    {
     "data": {
      "text/html": [
       "<div>\n",
       "<style scoped>\n",
       "    .dataframe tbody tr th:only-of-type {\n",
       "        vertical-align: middle;\n",
       "    }\n",
       "\n",
       "    .dataframe tbody tr th {\n",
       "        vertical-align: top;\n",
       "    }\n",
       "\n",
       "    .dataframe thead th {\n",
       "        text-align: right;\n",
       "    }\n",
       "</style>\n",
       "<table border=\"1\" class=\"dataframe\">\n",
       "  <thead>\n",
       "    <tr style=\"text-align: right;\">\n",
       "      <th></th>\n",
       "      <th>index</th>\n",
       "      <th>WB_NC_Bench</th>\n",
       "      <th>WB_W_Boise</th>\n",
       "      <th>WB_WB_F_Corridor</th>\n",
       "      <th>BB_CB_Bench</th>\n",
       "      <th>BB_NC_Bench</th>\n",
       "      <th>BB_Bench_F_Corridor</th>\n",
       "      <th>BB_Park_and_University</th>\n",
       "    </tr>\n",
       "  </thead>\n",
       "  <tbody>\n",
       "    <tr>\n",
       "      <th>0</th>\n",
       "      <td>Parcel</td>\n",
       "      <td>NaN</td>\n",
       "      <td>NaN</td>\n",
       "      <td>NaN</td>\n",
       "      <td>NaN</td>\n",
       "      <td>NaN</td>\n",
       "      <td>NaN</td>\n",
       "      <td>NaN</td>\n",
       "    </tr>\n",
       "    <tr>\n",
       "      <th>1</th>\n",
       "      <td>Year</td>\n",
       "      <td>NaN</td>\n",
       "      <td>NaN</td>\n",
       "      <td>NaN</td>\n",
       "      <td>NaN</td>\n",
       "      <td>NaN</td>\n",
       "      <td>NaN</td>\n",
       "      <td>NaN</td>\n",
       "    </tr>\n",
       "    <tr>\n",
       "      <th>2</th>\n",
       "      <td>Group</td>\n",
       "      <td>NaN</td>\n",
       "      <td>NaN</td>\n",
       "      <td>NaN</td>\n",
       "      <td>NaN</td>\n",
       "      <td>NaN</td>\n",
       "      <td>NaN</td>\n",
       "      <td>NaN</td>\n",
       "    </tr>\n",
       "    <tr>\n",
       "      <th>3</th>\n",
       "      <td>Neighborhood</td>\n",
       "      <td>NaN</td>\n",
       "      <td>NaN</td>\n",
       "      <td>NaN</td>\n",
       "      <td>NaN</td>\n",
       "      <td>NaN</td>\n",
       "      <td>NaN</td>\n",
       "      <td>NaN</td>\n",
       "    </tr>\n",
       "    <tr>\n",
       "      <th>4</th>\n",
       "      <td>Area</td>\n",
       "      <td>NaN</td>\n",
       "      <td>NaN</td>\n",
       "      <td>NaN</td>\n",
       "      <td>NaN</td>\n",
       "      <td>NaN</td>\n",
       "      <td>NaN</td>\n",
       "      <td>NaN</td>\n",
       "    </tr>\n",
       "  </tbody>\n",
       "</table>\n",
       "</div>"
      ],
      "text/plain": [
       "          index  WB_NC_Bench  WB_W_Boise  WB_WB_F_Corridor  BB_CB_Bench  \\\n",
       "0        Parcel          NaN         NaN               NaN          NaN   \n",
       "1          Year          NaN         NaN               NaN          NaN   \n",
       "2         Group          NaN         NaN               NaN          NaN   \n",
       "3  Neighborhood          NaN         NaN               NaN          NaN   \n",
       "4          Area          NaN         NaN               NaN          NaN   \n",
       "\n",
       "   BB_NC_Bench  BB_Bench_F_Corridor  BB_Park_and_University  \n",
       "0          NaN                  NaN                     NaN  \n",
       "1          NaN                  NaN                     NaN  \n",
       "2          NaN                  NaN                     NaN  \n",
       "3          NaN                  NaN                     NaN  \n",
       "4          NaN                  NaN                     NaN  "
      ]
     },
     "execution_count": 59,
     "metadata": {},
     "output_type": "execute_result"
    }
   ],
   "source": [
    "# BOISE BENCH AREA \n",
    "\n",
    "df = pd.read_pickle('testing.pkl')\n",
    "nBoise = pd.read_pickle('n-Coeff-compare.pkl')\n",
    "\n",
    "df1 = NcoefComp('CENTRAL BOISE BENCH', df)\n",
    "df1 = df1.reset_index()\n",
    "nBoise = pd.merge(nBoise,df1, on = 'index', how = 'left')\n",
    "nBoise = nBoise.rename(columns = {'TAV_Ch' : 'BB_CB_Bench'})\n",
    "\n",
    "df2 = NcoefComp('NORTH CENTRAL BENCH', df)\n",
    "df2 = df2.reset_index()\n",
    "nBoise = pd.merge(nBoise,df2, on = 'index', how = 'left')\n",
    "nBoise = nBoise.rename(columns = {'TAV_Ch' : 'BB_NC_Bench'})\n",
    "\n",
    "df3 = NcoefComp('BOISE BENCH FREEWAY CORRIDOR', df)\n",
    "df3 = df3.reset_index()\n",
    "nBoise = pd.merge(nBoise,df3, on = 'index', how = 'left')\n",
    "nBoise = nBoise.rename(columns = {'TAV_Ch' : 'BB_Bench_F_Corridor'})\n",
    "\n",
    "df4 = NcoefComp('PARK & UNIVERSITY WATERFRONT', df)\n",
    "df4 = df4.reset_index()\n",
    "nBoise = pd.merge(nBoise,df4, on = 'index', how = 'left')\n",
    "nBoise = nBoise.rename(columns = {'TAV_Ch' : 'BB_Park_and_University'})\n",
    "\n",
    "\n",
    "nBoise.to_pickle('n-Coeff-compare.pkl')\n",
    "nBoise.head(5)"
   ]
  },
  {
   "cell_type": "code",
   "execution_count": 72,
   "metadata": {},
   "outputs": [
    {
     "data": {
      "text/html": [
       "<div>\n",
       "<style scoped>\n",
       "    .dataframe tbody tr th:only-of-type {\n",
       "        vertical-align: middle;\n",
       "    }\n",
       "\n",
       "    .dataframe tbody tr th {\n",
       "        vertical-align: top;\n",
       "    }\n",
       "\n",
       "    .dataframe thead th {\n",
       "        text-align: right;\n",
       "    }\n",
       "</style>\n",
       "<table border=\"1\" class=\"dataframe\">\n",
       "  <thead>\n",
       "    <tr style=\"text-align: right;\">\n",
       "      <th></th>\n",
       "      <th>index</th>\n",
       "      <th>WB_NC_Bench</th>\n",
       "      <th>WB_W_Boise</th>\n",
       "      <th>WB_WB_F_Corridor</th>\n",
       "      <th>BB_CB_Bench</th>\n",
       "      <th>BB_NC_Bench</th>\n",
       "      <th>BB_Bench_F_Corridor</th>\n",
       "      <th>BB_Park_and_University</th>\n",
       "      <th>NW_Boise</th>\n",
       "      <th>B_Bench</th>\n",
       "      <th>SE_Boise</th>\n",
       "      <th>N_Boise</th>\n",
       "      <th>NE_Boise</th>\n",
       "      <th>W_Boise</th>\n",
       "      <th>SW_Boise_M</th>\n",
       "      <th>W_Boise_M</th>\n",
       "      <th>SW_Boise</th>\n",
       "    </tr>\n",
       "  </thead>\n",
       "  <tbody>\n",
       "    <tr>\n",
       "      <th>1</th>\n",
       "      <td>Arts, Design, Entertainment, Sports, And Media...</td>\n",
       "      <td>0.353501</td>\n",
       "      <td>0.292202</td>\n",
       "      <td>0.171502</td>\n",
       "      <td>0.291130</td>\n",
       "      <td>0.353501</td>\n",
       "      <td>0.482774</td>\n",
       "      <td>0.379200</td>\n",
       "      <td>0.205122</td>\n",
       "      <td>0.322296</td>\n",
       "      <td>0.151652</td>\n",
       "      <td>0.145686</td>\n",
       "      <td>NaN</td>\n",
       "      <td>0.295192</td>\n",
       "      <td>0.150496</td>\n",
       "      <td>0.172005</td>\n",
       "      <td>0.220358</td>\n",
       "    </tr>\n",
       "    <tr>\n",
       "      <th>2</th>\n",
       "      <td>Building And Grounds Cleaning And Maintenance ...</td>\n",
       "      <td>0.368418</td>\n",
       "      <td>0.311194</td>\n",
       "      <td>0.209389</td>\n",
       "      <td>0.270297</td>\n",
       "      <td>0.368418</td>\n",
       "      <td>0.445140</td>\n",
       "      <td>0.366496</td>\n",
       "      <td>0.202024</td>\n",
       "      <td>0.297780</td>\n",
       "      <td>0.173484</td>\n",
       "      <td>0.161233</td>\n",
       "      <td>0.031920</td>\n",
       "      <td>0.304118</td>\n",
       "      <td>0.198560</td>\n",
       "      <td>0.190496</td>\n",
       "      <td>0.210010</td>\n",
       "    </tr>\n",
       "    <tr>\n",
       "      <th>3</th>\n",
       "      <td>Food Preparation And Serving Related Occupations</td>\n",
       "      <td>NaN</td>\n",
       "      <td>NaN</td>\n",
       "      <td>0.162714</td>\n",
       "      <td>NaN</td>\n",
       "      <td>NaN</td>\n",
       "      <td>0.428638</td>\n",
       "      <td>NaN</td>\n",
       "      <td>NaN</td>\n",
       "      <td>NaN</td>\n",
       "      <td>NaN</td>\n",
       "      <td>NaN</td>\n",
       "      <td>0.026809</td>\n",
       "      <td>NaN</td>\n",
       "      <td>0.160731</td>\n",
       "      <td>NaN</td>\n",
       "      <td>0.178493</td>\n",
       "    </tr>\n",
       "    <tr>\n",
       "      <th>4</th>\n",
       "      <td>Management Occupations</td>\n",
       "      <td>0.346543</td>\n",
       "      <td>0.287992</td>\n",
       "      <td>0.163923</td>\n",
       "      <td>0.272634</td>\n",
       "      <td>0.346543</td>\n",
       "      <td>NaN</td>\n",
       "      <td>0.446754</td>\n",
       "      <td>0.202974</td>\n",
       "      <td>0.296489</td>\n",
       "      <td>0.157372</td>\n",
       "      <td>0.161072</td>\n",
       "      <td>0.028292</td>\n",
       "      <td>0.279548</td>\n",
       "      <td>0.156382</td>\n",
       "      <td>0.187270</td>\n",
       "      <td>NaN</td>\n",
       "    </tr>\n",
       "    <tr>\n",
       "      <th>5</th>\n",
       "      <td>Production Occupations</td>\n",
       "      <td>0.281750</td>\n",
       "      <td>0.278356</td>\n",
       "      <td>0.184006</td>\n",
       "      <td>0.237137</td>\n",
       "      <td>0.281750</td>\n",
       "      <td>0.449577</td>\n",
       "      <td>0.327465</td>\n",
       "      <td>0.171633</td>\n",
       "      <td>0.272514</td>\n",
       "      <td>NaN</td>\n",
       "      <td>NaN</td>\n",
       "      <td>0.029265</td>\n",
       "      <td>0.258399</td>\n",
       "      <td>NaN</td>\n",
       "      <td>0.169168</td>\n",
       "      <td>0.186179</td>\n",
       "    </tr>\n",
       "    <tr>\n",
       "      <th>6</th>\n",
       "      <td>Sales And Related Occupations</td>\n",
       "      <td>0.343665</td>\n",
       "      <td>0.318816</td>\n",
       "      <td>0.212811</td>\n",
       "      <td>0.296556</td>\n",
       "      <td>0.343665</td>\n",
       "      <td>0.546528</td>\n",
       "      <td>0.338222</td>\n",
       "      <td>0.207232</td>\n",
       "      <td>0.336855</td>\n",
       "      <td>0.169741</td>\n",
       "      <td>0.177855</td>\n",
       "      <td>0.031064</td>\n",
       "      <td>0.306431</td>\n",
       "      <td>0.186115</td>\n",
       "      <td>0.193440</td>\n",
       "      <td>0.247814</td>\n",
       "    </tr>\n",
       "    <tr>\n",
       "      <th>7</th>\n",
       "      <td>Transportation And Material Moving Occupations</td>\n",
       "      <td>0.309900</td>\n",
       "      <td>0.312906</td>\n",
       "      <td>0.177794</td>\n",
       "      <td>0.281239</td>\n",
       "      <td>0.309900</td>\n",
       "      <td>0.495454</td>\n",
       "      <td>NaN</td>\n",
       "      <td>0.192655</td>\n",
       "      <td>0.312932</td>\n",
       "      <td>0.146978</td>\n",
       "      <td>0.167256</td>\n",
       "      <td>0.024673</td>\n",
       "      <td>0.275292</td>\n",
       "      <td>0.162169</td>\n",
       "      <td>0.188961</td>\n",
       "      <td>0.194388</td>\n",
       "    </tr>\n",
       "    <tr>\n",
       "      <th>8</th>\n",
       "      <td>(70000.0, 100000.0]</td>\n",
       "      <td>NaN</td>\n",
       "      <td>NaN</td>\n",
       "      <td>NaN</td>\n",
       "      <td>NaN</td>\n",
       "      <td>NaN</td>\n",
       "      <td>NaN</td>\n",
       "      <td>0.355768</td>\n",
       "      <td>NaN</td>\n",
       "      <td>NaN</td>\n",
       "      <td>0.142206</td>\n",
       "      <td>0.142631</td>\n",
       "      <td>NaN</td>\n",
       "      <td>NaN</td>\n",
       "      <td>NaN</td>\n",
       "      <td>NaN</td>\n",
       "      <td>NaN</td>\n",
       "    </tr>\n",
       "    <tr>\n",
       "      <th>9</th>\n",
       "      <td>Total_House_Change</td>\n",
       "      <td>0.346708</td>\n",
       "      <td>0.298100</td>\n",
       "      <td>NaN</td>\n",
       "      <td>0.285740</td>\n",
       "      <td>0.346708</td>\n",
       "      <td>0.438342</td>\n",
       "      <td>0.446647</td>\n",
       "      <td>0.210065</td>\n",
       "      <td>0.308301</td>\n",
       "      <td>0.177842</td>\n",
       "      <td>0.198513</td>\n",
       "      <td>0.028786</td>\n",
       "      <td>0.283742</td>\n",
       "      <td>0.147697</td>\n",
       "      <td>0.196804</td>\n",
       "      <td>0.198978</td>\n",
       "    </tr>\n",
       "    <tr>\n",
       "      <th>10</th>\n",
       "      <td>Total_Pop_Change</td>\n",
       "      <td>0.336752</td>\n",
       "      <td>0.298819</td>\n",
       "      <td>0.158754</td>\n",
       "      <td>0.283793</td>\n",
       "      <td>0.336752</td>\n",
       "      <td>0.454932</td>\n",
       "      <td>0.394178</td>\n",
       "      <td>0.198068</td>\n",
       "      <td>0.309162</td>\n",
       "      <td>0.173615</td>\n",
       "      <td>0.205515</td>\n",
       "      <td>0.031775</td>\n",
       "      <td>0.279665</td>\n",
       "      <td>0.156102</td>\n",
       "      <td>0.192057</td>\n",
       "      <td>0.192903</td>\n",
       "    </tr>\n",
       "    <tr>\n",
       "      <th>11</th>\n",
       "      <td>Total_Emp_Change</td>\n",
       "      <td>0.363234</td>\n",
       "      <td>0.345281</td>\n",
       "      <td>0.215211</td>\n",
       "      <td>0.304439</td>\n",
       "      <td>0.363234</td>\n",
       "      <td>0.537001</td>\n",
       "      <td>0.390464</td>\n",
       "      <td>0.219423</td>\n",
       "      <td>0.341163</td>\n",
       "      <td>0.178943</td>\n",
       "      <td>0.175049</td>\n",
       "      <td>0.035173</td>\n",
       "      <td>0.316577</td>\n",
       "      <td>0.187518</td>\n",
       "      <td>0.215725</td>\n",
       "      <td>0.215771</td>\n",
       "    </tr>\n",
       "  </tbody>\n",
       "</table>\n",
       "</div>"
      ],
      "text/plain": [
       "                                                index  WB_NC_Bench  \\\n",
       "1   Arts, Design, Entertainment, Sports, And Media...     0.353501   \n",
       "2   Building And Grounds Cleaning And Maintenance ...     0.368418   \n",
       "3    Food Preparation And Serving Related Occupations          NaN   \n",
       "4                              Management Occupations     0.346543   \n",
       "5                              Production Occupations     0.281750   \n",
       "6                       Sales And Related Occupations     0.343665   \n",
       "7      Transportation And Material Moving Occupations     0.309900   \n",
       "8                                 (70000.0, 100000.0]          NaN   \n",
       "9                                  Total_House_Change     0.346708   \n",
       "10                                   Total_Pop_Change     0.336752   \n",
       "11                                   Total_Emp_Change     0.363234   \n",
       "\n",
       "    WB_W_Boise  WB_WB_F_Corridor  BB_CB_Bench  BB_NC_Bench  \\\n",
       "1     0.292202          0.171502     0.291130     0.353501   \n",
       "2     0.311194          0.209389     0.270297     0.368418   \n",
       "3          NaN          0.162714          NaN          NaN   \n",
       "4     0.287992          0.163923     0.272634     0.346543   \n",
       "5     0.278356          0.184006     0.237137     0.281750   \n",
       "6     0.318816          0.212811     0.296556     0.343665   \n",
       "7     0.312906          0.177794     0.281239     0.309900   \n",
       "8          NaN               NaN          NaN          NaN   \n",
       "9     0.298100               NaN     0.285740     0.346708   \n",
       "10    0.298819          0.158754     0.283793     0.336752   \n",
       "11    0.345281          0.215211     0.304439     0.363234   \n",
       "\n",
       "    BB_Bench_F_Corridor  BB_Park_and_University  NW_Boise   B_Bench  SE_Boise  \\\n",
       "1              0.482774                0.379200  0.205122  0.322296  0.151652   \n",
       "2              0.445140                0.366496  0.202024  0.297780  0.173484   \n",
       "3              0.428638                     NaN       NaN       NaN       NaN   \n",
       "4                   NaN                0.446754  0.202974  0.296489  0.157372   \n",
       "5              0.449577                0.327465  0.171633  0.272514       NaN   \n",
       "6              0.546528                0.338222  0.207232  0.336855  0.169741   \n",
       "7              0.495454                     NaN  0.192655  0.312932  0.146978   \n",
       "8                   NaN                0.355768       NaN       NaN  0.142206   \n",
       "9              0.438342                0.446647  0.210065  0.308301  0.177842   \n",
       "10             0.454932                0.394178  0.198068  0.309162  0.173615   \n",
       "11             0.537001                0.390464  0.219423  0.341163  0.178943   \n",
       "\n",
       "     N_Boise  NE_Boise   W_Boise  SW_Boise_M  W_Boise_M  SW_Boise  \n",
       "1   0.145686       NaN  0.295192    0.150496   0.172005  0.220358  \n",
       "2   0.161233  0.031920  0.304118    0.198560   0.190496  0.210010  \n",
       "3        NaN  0.026809       NaN    0.160731        NaN  0.178493  \n",
       "4   0.161072  0.028292  0.279548    0.156382   0.187270       NaN  \n",
       "5        NaN  0.029265  0.258399         NaN   0.169168  0.186179  \n",
       "6   0.177855  0.031064  0.306431    0.186115   0.193440  0.247814  \n",
       "7   0.167256  0.024673  0.275292    0.162169   0.188961  0.194388  \n",
       "8   0.142631       NaN       NaN         NaN        NaN       NaN  \n",
       "9   0.198513  0.028786  0.283742    0.147697   0.196804  0.198978  \n",
       "10  0.205515  0.031775  0.279665    0.156102   0.192057  0.192903  \n",
       "11  0.175049  0.035173  0.316577    0.187518   0.215725  0.215771  "
      ]
     },
     "execution_count": 72,
     "metadata": {},
     "output_type": "execute_result"
    }
   ],
   "source": [
    "df = pd.read_pickle('n-Coeff-compare.pkl')\n",
    "df2 = pd.read_pickle('a-Coeff-compare.pkl')\n",
    "\n",
    "\n",
    "df = pd.merge(df,df2, on = 'index', how = 'outer')\n",
    "# df['WB'] = df2['W_Boise']\n",
    "# df['BB'] = df2['B_Bench']\n",
    "\n",
    "df = df.dropna(thresh = 2)\n",
    "df = df.reset_index(drop = True)\n",
    "\n",
    "df = df.iloc[1:]\n",
    "df"
   ]
  },
  {
   "cell_type": "code",
   "execution_count": 79,
   "metadata": {},
   "outputs": [
    {
     "data": {
      "application/vnd.plotly.v1+json": {
       "config": {
        "plotlyServerURL": "https://plot.ly"
       },
       "data": [
        {
         "marker": {
          "color": "rgba(128, 0, 0, .8)"
         },
         "mode": "markers",
         "name": "North Central Bench",
         "type": "scatter",
         "x": [
          "Arts, Design, Entertainment, Sports, And Media Occupations",
          "Building And Grounds Cleaning And Maintenance Occupations",
          "Food Preparation And Serving Related Occupations",
          "Management Occupations",
          "Production Occupations",
          "Sales And Related Occupations",
          "Transportation And Material Moving Occupations",
          "(70000.0, 100000.0]",
          "Total_House_Change",
          "Total_Pop_Change",
          "Total_Emp_Change"
         ],
         "y": [
          0.3535014614875914,
          0.3684181641575133,
          null,
          0.34654310322415405,
          0.2817498968219381,
          0.3436647081409315,
          0.3098999733778559,
          null,
          0.34670786786999264,
          0.3367523468910272,
          0.36323445410458227
         ]
        },
        {
         "marker": {
          "color": "rgba(240, 128, 128, .8)"
         },
         "mode": "markers",
         "name": "West Boise",
         "type": "scatter",
         "x": [
          "Arts, Design, Entertainment, Sports, And Media Occupations",
          "Building And Grounds Cleaning And Maintenance Occupations",
          "Food Preparation And Serving Related Occupations",
          "Management Occupations",
          "Production Occupations",
          "Sales And Related Occupations",
          "Transportation And Material Moving Occupations",
          "(70000.0, 100000.0]",
          "Total_House_Change",
          "Total_Pop_Change",
          "Total_Emp_Change"
         ],
         "y": [
          0.29220158527649404,
          0.31119435669289597,
          null,
          0.2879917817566615,
          0.2783563854022145,
          0.31881613696092287,
          0.31290642803463337,
          null,
          0.29809987294890944,
          0.298818696275173,
          0.34528088060042655
         ]
        },
        {
         "marker": {
          "color": "rgba(255, 0, 0, .8)"
         },
         "mode": "markers",
         "name": "West B. Freeway Cor.",
         "type": "scatter",
         "x": [
          "Arts, Design, Entertainment, Sports, And Media Occupations",
          "Building And Grounds Cleaning And Maintenance Occupations",
          "Food Preparation And Serving Related Occupations",
          "Management Occupations",
          "Production Occupations",
          "Sales And Related Occupations",
          "Transportation And Material Moving Occupations",
          "(70000.0, 100000.0]",
          "Total_House_Change",
          "Total_Pop_Change",
          "Total_Emp_Change"
         ],
         "y": [
          0.17150159419362812,
          0.2093889692392705,
          0.16271405418809312,
          0.1639226290818448,
          0.18400600043043083,
          0.2128112687539712,
          0.1777944133049402,
          null,
          null,
          0.15875442832083891,
          0.2152110091413558
         ]
        },
        {
         "marker": {
          "color": "rgba(0,0,128, .8)"
         },
         "mode": "markers",
         "name": "Central Bench",
         "type": "scatter",
         "x": [
          "Arts, Design, Entertainment, Sports, And Media Occupations",
          "Building And Grounds Cleaning And Maintenance Occupations",
          "Food Preparation And Serving Related Occupations",
          "Management Occupations",
          "Production Occupations",
          "Sales And Related Occupations",
          "Transportation And Material Moving Occupations",
          "(70000.0, 100000.0]",
          "Total_House_Change",
          "Total_Pop_Change",
          "Total_Emp_Change"
         ],
         "y": [
          0.29113025046178553,
          0.27029738342295123,
          null,
          0.2726343860753003,
          0.23713671381709017,
          0.2965559851566002,
          0.28123923459226485,
          null,
          0.2857401290307556,
          0.2837925660847719,
          0.3044393648508358
         ]
        },
        {
         "marker": {
          "color": "rgba(135,206,250, .8)"
         },
         "mode": "markers",
         "name": "North Central Bench",
         "type": "scatter",
         "x": [
          "Arts, Design, Entertainment, Sports, And Media Occupations",
          "Building And Grounds Cleaning And Maintenance Occupations",
          "Food Preparation And Serving Related Occupations",
          "Management Occupations",
          "Production Occupations",
          "Sales And Related Occupations",
          "Transportation And Material Moving Occupations",
          "(70000.0, 100000.0]",
          "Total_House_Change",
          "Total_Pop_Change",
          "Total_Emp_Change"
         ],
         "y": [
          0.3535014614875914,
          0.3684181641575133,
          null,
          0.34654310322415405,
          0.2817498968219381,
          0.3436647081409315,
          0.3098999733778559,
          null,
          0.34670786786999264,
          0.3367523468910272,
          0.36323445410458227
         ]
        },
        {
         "marker": {
          "color": "rgba(30,144,255, .8)"
         },
         "mode": "markers",
         "name": "Bench Freeway Cor.",
         "type": "scatter",
         "x": [
          "Arts, Design, Entertainment, Sports, And Media Occupations",
          "Building And Grounds Cleaning And Maintenance Occupations",
          "Food Preparation And Serving Related Occupations",
          "Management Occupations",
          "Production Occupations",
          "Sales And Related Occupations",
          "Transportation And Material Moving Occupations",
          "(70000.0, 100000.0]",
          "Total_House_Change",
          "Total_Pop_Change",
          "Total_Emp_Change"
         ],
         "y": [
          0.48277381519379375,
          0.44514010279463456,
          0.4286379973904927,
          null,
          0.4495766634936155,
          0.5465279169720137,
          0.49545366753092707,
          null,
          0.4383421480355013,
          0.4549315280381603,
          0.5370006232964345
         ]
        },
        {
         "marker": {
          "color": "rgba(0,0,255, .8)"
         },
         "mode": "markers",
         "name": "Bench Park & Uni",
         "type": "scatter",
         "x": [
          "Arts, Design, Entertainment, Sports, And Media Occupations",
          "Building And Grounds Cleaning And Maintenance Occupations",
          "Food Preparation And Serving Related Occupations",
          "Management Occupations",
          "Production Occupations",
          "Sales And Related Occupations",
          "Transportation And Material Moving Occupations",
          "(70000.0, 100000.0]",
          "Total_House_Change",
          "Total_Pop_Change",
          "Total_Emp_Change"
         ],
         "y": [
          0.37920046895275467,
          0.36649603871677966,
          null,
          0.44675355298485847,
          0.32746533952236,
          0.3382218910749479,
          null,
          0.3557684679014619,
          0.44664704712240655,
          0.3941781122709886,
          0.39046415913152116
         ]
        },
        {
         "marker": {
          "color": "rgba(255, 0, 0, .8)",
          "size": 9,
          "symbol": "star"
         },
         "mode": "markers",
         "name": "Boise Bench",
         "type": "scatter",
         "x": [
          "Arts, Design, Entertainment, Sports, And Media Occupations",
          "Building And Grounds Cleaning And Maintenance Occupations",
          "Food Preparation And Serving Related Occupations",
          "Management Occupations",
          "Production Occupations",
          "Sales And Related Occupations",
          "Transportation And Material Moving Occupations",
          "(70000.0, 100000.0]",
          "Total_House_Change",
          "Total_Pop_Change",
          "Total_Emp_Change"
         ],
         "y": [
          0.32229565012681455,
          0.2977798318315564,
          null,
          0.2964887347404128,
          0.272514238926972,
          0.3368547084586827,
          0.3129320707425859,
          null,
          0.3083006612882456,
          0.3091620597574776,
          0.34116317866143864
         ]
        },
        {
         "marker": {
          "color": "rgba(0, 0, 255, .8)",
          "size": 9,
          "symbol": "star"
         },
         "mode": "markers",
         "name": "West Boise- A",
         "type": "scatter",
         "x": [
          "Arts, Design, Entertainment, Sports, And Media Occupations",
          "Building And Grounds Cleaning And Maintenance Occupations",
          "Food Preparation And Serving Related Occupations",
          "Management Occupations",
          "Production Occupations",
          "Sales And Related Occupations",
          "Transportation And Material Moving Occupations",
          "(70000.0, 100000.0]",
          "Total_House_Change",
          "Total_Pop_Change",
          "Total_Emp_Change"
         ],
         "y": [
          0.29519200186127226,
          0.30411753621650506,
          null,
          0.27954755117672947,
          0.2583987627632459,
          0.30643098999833923,
          0.27529209359889817,
          null,
          0.28374230141513573,
          0.27966548526962093,
          0.316576752139436
         ]
        }
       ],
       "layout": {
        "shapes": [
         {
          "line": {
           "color": "Grey",
           "dash": "dashdot",
           "width": 1
          },
          "type": "line",
          "x0": 0,
          "x1": 11,
          "y0": 0.3,
          "y1": 0.3
         }
        ],
        "template": {
         "data": {
          "bar": [
           {
            "error_x": {
             "color": "#2a3f5f"
            },
            "error_y": {
             "color": "#2a3f5f"
            },
            "marker": {
             "line": {
              "color": "#E5ECF6",
              "width": 0.5
             }
            },
            "type": "bar"
           }
          ],
          "barpolar": [
           {
            "marker": {
             "line": {
              "color": "#E5ECF6",
              "width": 0.5
             }
            },
            "type": "barpolar"
           }
          ],
          "carpet": [
           {
            "aaxis": {
             "endlinecolor": "#2a3f5f",
             "gridcolor": "white",
             "linecolor": "white",
             "minorgridcolor": "white",
             "startlinecolor": "#2a3f5f"
            },
            "baxis": {
             "endlinecolor": "#2a3f5f",
             "gridcolor": "white",
             "linecolor": "white",
             "minorgridcolor": "white",
             "startlinecolor": "#2a3f5f"
            },
            "type": "carpet"
           }
          ],
          "choropleth": [
           {
            "colorbar": {
             "outlinewidth": 0,
             "ticks": ""
            },
            "type": "choropleth"
           }
          ],
          "contour": [
           {
            "colorbar": {
             "outlinewidth": 0,
             "ticks": ""
            },
            "colorscale": [
             [
              0,
              "#0d0887"
             ],
             [
              0.1111111111111111,
              "#46039f"
             ],
             [
              0.2222222222222222,
              "#7201a8"
             ],
             [
              0.3333333333333333,
              "#9c179e"
             ],
             [
              0.4444444444444444,
              "#bd3786"
             ],
             [
              0.5555555555555556,
              "#d8576b"
             ],
             [
              0.6666666666666666,
              "#ed7953"
             ],
             [
              0.7777777777777778,
              "#fb9f3a"
             ],
             [
              0.8888888888888888,
              "#fdca26"
             ],
             [
              1,
              "#f0f921"
             ]
            ],
            "type": "contour"
           }
          ],
          "contourcarpet": [
           {
            "colorbar": {
             "outlinewidth": 0,
             "ticks": ""
            },
            "type": "contourcarpet"
           }
          ],
          "heatmap": [
           {
            "colorbar": {
             "outlinewidth": 0,
             "ticks": ""
            },
            "colorscale": [
             [
              0,
              "#0d0887"
             ],
             [
              0.1111111111111111,
              "#46039f"
             ],
             [
              0.2222222222222222,
              "#7201a8"
             ],
             [
              0.3333333333333333,
              "#9c179e"
             ],
             [
              0.4444444444444444,
              "#bd3786"
             ],
             [
              0.5555555555555556,
              "#d8576b"
             ],
             [
              0.6666666666666666,
              "#ed7953"
             ],
             [
              0.7777777777777778,
              "#fb9f3a"
             ],
             [
              0.8888888888888888,
              "#fdca26"
             ],
             [
              1,
              "#f0f921"
             ]
            ],
            "type": "heatmap"
           }
          ],
          "heatmapgl": [
           {
            "colorbar": {
             "outlinewidth": 0,
             "ticks": ""
            },
            "colorscale": [
             [
              0,
              "#0d0887"
             ],
             [
              0.1111111111111111,
              "#46039f"
             ],
             [
              0.2222222222222222,
              "#7201a8"
             ],
             [
              0.3333333333333333,
              "#9c179e"
             ],
             [
              0.4444444444444444,
              "#bd3786"
             ],
             [
              0.5555555555555556,
              "#d8576b"
             ],
             [
              0.6666666666666666,
              "#ed7953"
             ],
             [
              0.7777777777777778,
              "#fb9f3a"
             ],
             [
              0.8888888888888888,
              "#fdca26"
             ],
             [
              1,
              "#f0f921"
             ]
            ],
            "type": "heatmapgl"
           }
          ],
          "histogram": [
           {
            "marker": {
             "colorbar": {
              "outlinewidth": 0,
              "ticks": ""
             }
            },
            "type": "histogram"
           }
          ],
          "histogram2d": [
           {
            "colorbar": {
             "outlinewidth": 0,
             "ticks": ""
            },
            "colorscale": [
             [
              0,
              "#0d0887"
             ],
             [
              0.1111111111111111,
              "#46039f"
             ],
             [
              0.2222222222222222,
              "#7201a8"
             ],
             [
              0.3333333333333333,
              "#9c179e"
             ],
             [
              0.4444444444444444,
              "#bd3786"
             ],
             [
              0.5555555555555556,
              "#d8576b"
             ],
             [
              0.6666666666666666,
              "#ed7953"
             ],
             [
              0.7777777777777778,
              "#fb9f3a"
             ],
             [
              0.8888888888888888,
              "#fdca26"
             ],
             [
              1,
              "#f0f921"
             ]
            ],
            "type": "histogram2d"
           }
          ],
          "histogram2dcontour": [
           {
            "colorbar": {
             "outlinewidth": 0,
             "ticks": ""
            },
            "colorscale": [
             [
              0,
              "#0d0887"
             ],
             [
              0.1111111111111111,
              "#46039f"
             ],
             [
              0.2222222222222222,
              "#7201a8"
             ],
             [
              0.3333333333333333,
              "#9c179e"
             ],
             [
              0.4444444444444444,
              "#bd3786"
             ],
             [
              0.5555555555555556,
              "#d8576b"
             ],
             [
              0.6666666666666666,
              "#ed7953"
             ],
             [
              0.7777777777777778,
              "#fb9f3a"
             ],
             [
              0.8888888888888888,
              "#fdca26"
             ],
             [
              1,
              "#f0f921"
             ]
            ],
            "type": "histogram2dcontour"
           }
          ],
          "mesh3d": [
           {
            "colorbar": {
             "outlinewidth": 0,
             "ticks": ""
            },
            "type": "mesh3d"
           }
          ],
          "parcoords": [
           {
            "line": {
             "colorbar": {
              "outlinewidth": 0,
              "ticks": ""
             }
            },
            "type": "parcoords"
           }
          ],
          "scatter": [
           {
            "marker": {
             "colorbar": {
              "outlinewidth": 0,
              "ticks": ""
             }
            },
            "type": "scatter"
           }
          ],
          "scatter3d": [
           {
            "line": {
             "colorbar": {
              "outlinewidth": 0,
              "ticks": ""
             }
            },
            "marker": {
             "colorbar": {
              "outlinewidth": 0,
              "ticks": ""
             }
            },
            "type": "scatter3d"
           }
          ],
          "scattercarpet": [
           {
            "marker": {
             "colorbar": {
              "outlinewidth": 0,
              "ticks": ""
             }
            },
            "type": "scattercarpet"
           }
          ],
          "scattergeo": [
           {
            "marker": {
             "colorbar": {
              "outlinewidth": 0,
              "ticks": ""
             }
            },
            "type": "scattergeo"
           }
          ],
          "scattergl": [
           {
            "marker": {
             "colorbar": {
              "outlinewidth": 0,
              "ticks": ""
             }
            },
            "type": "scattergl"
           }
          ],
          "scattermapbox": [
           {
            "marker": {
             "colorbar": {
              "outlinewidth": 0,
              "ticks": ""
             }
            },
            "type": "scattermapbox"
           }
          ],
          "scatterpolar": [
           {
            "marker": {
             "colorbar": {
              "outlinewidth": 0,
              "ticks": ""
             }
            },
            "type": "scatterpolar"
           }
          ],
          "scatterpolargl": [
           {
            "marker": {
             "colorbar": {
              "outlinewidth": 0,
              "ticks": ""
             }
            },
            "type": "scatterpolargl"
           }
          ],
          "scatterternary": [
           {
            "marker": {
             "colorbar": {
              "outlinewidth": 0,
              "ticks": ""
             }
            },
            "type": "scatterternary"
           }
          ],
          "surface": [
           {
            "colorbar": {
             "outlinewidth": 0,
             "ticks": ""
            },
            "colorscale": [
             [
              0,
              "#0d0887"
             ],
             [
              0.1111111111111111,
              "#46039f"
             ],
             [
              0.2222222222222222,
              "#7201a8"
             ],
             [
              0.3333333333333333,
              "#9c179e"
             ],
             [
              0.4444444444444444,
              "#bd3786"
             ],
             [
              0.5555555555555556,
              "#d8576b"
             ],
             [
              0.6666666666666666,
              "#ed7953"
             ],
             [
              0.7777777777777778,
              "#fb9f3a"
             ],
             [
              0.8888888888888888,
              "#fdca26"
             ],
             [
              1,
              "#f0f921"
             ]
            ],
            "type": "surface"
           }
          ],
          "table": [
           {
            "cells": {
             "fill": {
              "color": "#EBF0F8"
             },
             "line": {
              "color": "white"
             }
            },
            "header": {
             "fill": {
              "color": "#C8D4E3"
             },
             "line": {
              "color": "white"
             }
            },
            "type": "table"
           }
          ]
         },
         "layout": {
          "annotationdefaults": {
           "arrowcolor": "#2a3f5f",
           "arrowhead": 0,
           "arrowwidth": 1
          },
          "colorscale": {
           "diverging": [
            [
             0,
             "#8e0152"
            ],
            [
             0.1,
             "#c51b7d"
            ],
            [
             0.2,
             "#de77ae"
            ],
            [
             0.3,
             "#f1b6da"
            ],
            [
             0.4,
             "#fde0ef"
            ],
            [
             0.5,
             "#f7f7f7"
            ],
            [
             0.6,
             "#e6f5d0"
            ],
            [
             0.7,
             "#b8e186"
            ],
            [
             0.8,
             "#7fbc41"
            ],
            [
             0.9,
             "#4d9221"
            ],
            [
             1,
             "#276419"
            ]
           ],
           "sequential": [
            [
             0,
             "#0d0887"
            ],
            [
             0.1111111111111111,
             "#46039f"
            ],
            [
             0.2222222222222222,
             "#7201a8"
            ],
            [
             0.3333333333333333,
             "#9c179e"
            ],
            [
             0.4444444444444444,
             "#bd3786"
            ],
            [
             0.5555555555555556,
             "#d8576b"
            ],
            [
             0.6666666666666666,
             "#ed7953"
            ],
            [
             0.7777777777777778,
             "#fb9f3a"
            ],
            [
             0.8888888888888888,
             "#fdca26"
            ],
            [
             1,
             "#f0f921"
            ]
           ],
           "sequentialminus": [
            [
             0,
             "#0d0887"
            ],
            [
             0.1111111111111111,
             "#46039f"
            ],
            [
             0.2222222222222222,
             "#7201a8"
            ],
            [
             0.3333333333333333,
             "#9c179e"
            ],
            [
             0.4444444444444444,
             "#bd3786"
            ],
            [
             0.5555555555555556,
             "#d8576b"
            ],
            [
             0.6666666666666666,
             "#ed7953"
            ],
            [
             0.7777777777777778,
             "#fb9f3a"
            ],
            [
             0.8888888888888888,
             "#fdca26"
            ],
            [
             1,
             "#f0f921"
            ]
           ]
          },
          "colorway": [
           "#636efa",
           "#EF553B",
           "#00cc96",
           "#ab63fa",
           "#FFA15A",
           "#19d3f3",
           "#FF6692",
           "#B6E880",
           "#FF97FF",
           "#FECB52"
          ],
          "font": {
           "color": "#2a3f5f"
          },
          "geo": {
           "bgcolor": "white",
           "lakecolor": "white",
           "landcolor": "#E5ECF6",
           "showlakes": true,
           "showland": true,
           "subunitcolor": "white"
          },
          "hoverlabel": {
           "align": "left"
          },
          "hovermode": "closest",
          "mapbox": {
           "style": "light"
          },
          "paper_bgcolor": "white",
          "plot_bgcolor": "#E5ECF6",
          "polar": {
           "angularaxis": {
            "gridcolor": "white",
            "linecolor": "white",
            "ticks": ""
           },
           "bgcolor": "#E5ECF6",
           "radialaxis": {
            "gridcolor": "white",
            "linecolor": "white",
            "ticks": ""
           }
          },
          "scene": {
           "xaxis": {
            "backgroundcolor": "#E5ECF6",
            "gridcolor": "white",
            "gridwidth": 2,
            "linecolor": "white",
            "showbackground": true,
            "ticks": "",
            "zerolinecolor": "white"
           },
           "yaxis": {
            "backgroundcolor": "#E5ECF6",
            "gridcolor": "white",
            "gridwidth": 2,
            "linecolor": "white",
            "showbackground": true,
            "ticks": "",
            "zerolinecolor": "white"
           },
           "zaxis": {
            "backgroundcolor": "#E5ECF6",
            "gridcolor": "white",
            "gridwidth": 2,
            "linecolor": "white",
            "showbackground": true,
            "ticks": "",
            "zerolinecolor": "white"
           }
          },
          "shapedefaults": {
           "line": {
            "color": "#2a3f5f"
           }
          },
          "ternary": {
           "aaxis": {
            "gridcolor": "white",
            "linecolor": "white",
            "ticks": ""
           },
           "baxis": {
            "gridcolor": "white",
            "linecolor": "white",
            "ticks": ""
           },
           "bgcolor": "#E5ECF6",
           "caxis": {
            "gridcolor": "white",
            "linecolor": "white",
            "ticks": ""
           }
          },
          "title": {
           "x": 0.05
          },
          "xaxis": {
           "automargin": true,
           "gridcolor": "white",
           "linecolor": "white",
           "ticks": "",
           "zerolinecolor": "white",
           "zerolinewidth": 2
          },
          "yaxis": {
           "automargin": true,
           "gridcolor": "white",
           "linecolor": "white",
           "ticks": "",
           "zerolinecolor": "white",
           "zerolinewidth": 2
          }
         }
        }
       }
      },
      "text/html": [
       "<div>\n",
       "        \n",
       "        \n",
       "            <div id=\"5e40e163-448b-4e10-afd4-ea597bd8188d\" class=\"plotly-graph-div\" style=\"height:525px; width:100%;\"></div>\n",
       "            <script type=\"text/javascript\">\n",
       "                require([\"plotly\"], function(Plotly) {\n",
       "                    window.PLOTLYENV=window.PLOTLYENV || {};\n",
       "                    \n",
       "                if (document.getElementById(\"5e40e163-448b-4e10-afd4-ea597bd8188d\")) {\n",
       "                    Plotly.newPlot(\n",
       "                        '5e40e163-448b-4e10-afd4-ea597bd8188d',\n",
       "                        [{\"marker\": {\"color\": \"rgba(128, 0, 0, .8)\"}, \"mode\": \"markers\", \"name\": \"North Central Bench\", \"type\": \"scatter\", \"x\": [\"Arts, Design, Entertainment, Sports, And Media Occupations\", \"Building And Grounds Cleaning And Maintenance Occupations\", \"Food Preparation And Serving Related Occupations\", \"Management Occupations\", \"Production Occupations\", \"Sales And Related Occupations\", \"Transportation And Material Moving Occupations\", \"(70000.0, 100000.0]\", \"Total_House_Change\", \"Total_Pop_Change\", \"Total_Emp_Change\"], \"y\": [0.3535014614875914, 0.3684181641575133, null, 0.34654310322415405, 0.2817498968219381, 0.3436647081409315, 0.3098999733778559, null, 0.34670786786999264, 0.3367523468910272, 0.36323445410458227]}, {\"marker\": {\"color\": \"rgba(240, 128, 128, .8)\"}, \"mode\": \"markers\", \"name\": \"West Boise\", \"type\": \"scatter\", \"x\": [\"Arts, Design, Entertainment, Sports, And Media Occupations\", \"Building And Grounds Cleaning And Maintenance Occupations\", \"Food Preparation And Serving Related Occupations\", \"Management Occupations\", \"Production Occupations\", \"Sales And Related Occupations\", \"Transportation And Material Moving Occupations\", \"(70000.0, 100000.0]\", \"Total_House_Change\", \"Total_Pop_Change\", \"Total_Emp_Change\"], \"y\": [0.29220158527649404, 0.31119435669289597, null, 0.2879917817566615, 0.2783563854022145, 0.31881613696092287, 0.31290642803463337, null, 0.29809987294890944, 0.298818696275173, 0.34528088060042655]}, {\"marker\": {\"color\": \"rgba(255, 0, 0, .8)\"}, \"mode\": \"markers\", \"name\": \"West B. Freeway Cor.\", \"type\": \"scatter\", \"x\": [\"Arts, Design, Entertainment, Sports, And Media Occupations\", \"Building And Grounds Cleaning And Maintenance Occupations\", \"Food Preparation And Serving Related Occupations\", \"Management Occupations\", \"Production Occupations\", \"Sales And Related Occupations\", \"Transportation And Material Moving Occupations\", \"(70000.0, 100000.0]\", \"Total_House_Change\", \"Total_Pop_Change\", \"Total_Emp_Change\"], \"y\": [0.17150159419362812, 0.2093889692392705, 0.16271405418809312, 0.1639226290818448, 0.18400600043043083, 0.2128112687539712, 0.1777944133049402, null, null, 0.15875442832083891, 0.2152110091413558]}, {\"marker\": {\"color\": \"rgba(0,0,128, .8)\"}, \"mode\": \"markers\", \"name\": \"Central Bench\", \"type\": \"scatter\", \"x\": [\"Arts, Design, Entertainment, Sports, And Media Occupations\", \"Building And Grounds Cleaning And Maintenance Occupations\", \"Food Preparation And Serving Related Occupations\", \"Management Occupations\", \"Production Occupations\", \"Sales And Related Occupations\", \"Transportation And Material Moving Occupations\", \"(70000.0, 100000.0]\", \"Total_House_Change\", \"Total_Pop_Change\", \"Total_Emp_Change\"], \"y\": [0.29113025046178553, 0.27029738342295123, null, 0.2726343860753003, 0.23713671381709017, 0.2965559851566002, 0.28123923459226485, null, 0.2857401290307556, 0.2837925660847719, 0.3044393648508358]}, {\"marker\": {\"color\": \"rgba(135,206,250, .8)\"}, \"mode\": \"markers\", \"name\": \"North Central Bench\", \"type\": \"scatter\", \"x\": [\"Arts, Design, Entertainment, Sports, And Media Occupations\", \"Building And Grounds Cleaning And Maintenance Occupations\", \"Food Preparation And Serving Related Occupations\", \"Management Occupations\", \"Production Occupations\", \"Sales And Related Occupations\", \"Transportation And Material Moving Occupations\", \"(70000.0, 100000.0]\", \"Total_House_Change\", \"Total_Pop_Change\", \"Total_Emp_Change\"], \"y\": [0.3535014614875914, 0.3684181641575133, null, 0.34654310322415405, 0.2817498968219381, 0.3436647081409315, 0.3098999733778559, null, 0.34670786786999264, 0.3367523468910272, 0.36323445410458227]}, {\"marker\": {\"color\": \"rgba(30,144,255, .8)\"}, \"mode\": \"markers\", \"name\": \"Bench Freeway Cor.\", \"type\": \"scatter\", \"x\": [\"Arts, Design, Entertainment, Sports, And Media Occupations\", \"Building And Grounds Cleaning And Maintenance Occupations\", \"Food Preparation And Serving Related Occupations\", \"Management Occupations\", \"Production Occupations\", \"Sales And Related Occupations\", \"Transportation And Material Moving Occupations\", \"(70000.0, 100000.0]\", \"Total_House_Change\", \"Total_Pop_Change\", \"Total_Emp_Change\"], \"y\": [0.48277381519379375, 0.44514010279463456, 0.4286379973904927, null, 0.4495766634936155, 0.5465279169720137, 0.49545366753092707, null, 0.4383421480355013, 0.4549315280381603, 0.5370006232964345]}, {\"marker\": {\"color\": \"rgba(0,0,255, .8)\"}, \"mode\": \"markers\", \"name\": \"Bench Park & Uni\", \"type\": \"scatter\", \"x\": [\"Arts, Design, Entertainment, Sports, And Media Occupations\", \"Building And Grounds Cleaning And Maintenance Occupations\", \"Food Preparation And Serving Related Occupations\", \"Management Occupations\", \"Production Occupations\", \"Sales And Related Occupations\", \"Transportation And Material Moving Occupations\", \"(70000.0, 100000.0]\", \"Total_House_Change\", \"Total_Pop_Change\", \"Total_Emp_Change\"], \"y\": [0.37920046895275467, 0.36649603871677966, null, 0.44675355298485847, 0.32746533952236, 0.3382218910749479, null, 0.3557684679014619, 0.44664704712240655, 0.3941781122709886, 0.39046415913152116]}, {\"marker\": {\"color\": \"rgba(255, 0, 0, .8)\", \"size\": 9, \"symbol\": \"star\"}, \"mode\": \"markers\", \"name\": \"Boise Bench\", \"type\": \"scatter\", \"x\": [\"Arts, Design, Entertainment, Sports, And Media Occupations\", \"Building And Grounds Cleaning And Maintenance Occupations\", \"Food Preparation And Serving Related Occupations\", \"Management Occupations\", \"Production Occupations\", \"Sales And Related Occupations\", \"Transportation And Material Moving Occupations\", \"(70000.0, 100000.0]\", \"Total_House_Change\", \"Total_Pop_Change\", \"Total_Emp_Change\"], \"y\": [0.32229565012681455, 0.2977798318315564, null, 0.2964887347404128, 0.272514238926972, 0.3368547084586827, 0.3129320707425859, null, 0.3083006612882456, 0.3091620597574776, 0.34116317866143864]}, {\"marker\": {\"color\": \"rgba(0, 0, 255, .8)\", \"size\": 9, \"symbol\": \"star\"}, \"mode\": \"markers\", \"name\": \"West Boise- A\", \"type\": \"scatter\", \"x\": [\"Arts, Design, Entertainment, Sports, And Media Occupations\", \"Building And Grounds Cleaning And Maintenance Occupations\", \"Food Preparation And Serving Related Occupations\", \"Management Occupations\", \"Production Occupations\", \"Sales And Related Occupations\", \"Transportation And Material Moving Occupations\", \"(70000.0, 100000.0]\", \"Total_House_Change\", \"Total_Pop_Change\", \"Total_Emp_Change\"], \"y\": [0.29519200186127226, 0.30411753621650506, null, 0.27954755117672947, 0.2583987627632459, 0.30643098999833923, 0.27529209359889817, null, 0.28374230141513573, 0.27966548526962093, 0.316576752139436]}],\n",
       "                        {\"shapes\": [{\"line\": {\"color\": \"Grey\", \"dash\": \"dashdot\", \"width\": 1}, \"type\": \"line\", \"x0\": 0, \"x1\": 11, \"y0\": 0.3, \"y1\": 0.3}], \"template\": {\"data\": {\"bar\": [{\"error_x\": {\"color\": \"#2a3f5f\"}, \"error_y\": {\"color\": \"#2a3f5f\"}, \"marker\": {\"line\": {\"color\": \"#E5ECF6\", \"width\": 0.5}}, \"type\": \"bar\"}], \"barpolar\": [{\"marker\": {\"line\": {\"color\": \"#E5ECF6\", \"width\": 0.5}}, \"type\": \"barpolar\"}], \"carpet\": [{\"aaxis\": {\"endlinecolor\": \"#2a3f5f\", \"gridcolor\": \"white\", \"linecolor\": \"white\", \"minorgridcolor\": \"white\", \"startlinecolor\": \"#2a3f5f\"}, \"baxis\": {\"endlinecolor\": \"#2a3f5f\", \"gridcolor\": \"white\", \"linecolor\": \"white\", \"minorgridcolor\": \"white\", \"startlinecolor\": \"#2a3f5f\"}, \"type\": \"carpet\"}], \"choropleth\": [{\"colorbar\": {\"outlinewidth\": 0, \"ticks\": \"\"}, \"type\": \"choropleth\"}], \"contour\": [{\"colorbar\": {\"outlinewidth\": 0, \"ticks\": \"\"}, \"colorscale\": [[0.0, \"#0d0887\"], [0.1111111111111111, \"#46039f\"], [0.2222222222222222, \"#7201a8\"], [0.3333333333333333, \"#9c179e\"], [0.4444444444444444, \"#bd3786\"], [0.5555555555555556, \"#d8576b\"], [0.6666666666666666, \"#ed7953\"], [0.7777777777777778, \"#fb9f3a\"], [0.8888888888888888, \"#fdca26\"], [1.0, \"#f0f921\"]], \"type\": \"contour\"}], \"contourcarpet\": [{\"colorbar\": {\"outlinewidth\": 0, \"ticks\": \"\"}, \"type\": \"contourcarpet\"}], \"heatmap\": [{\"colorbar\": {\"outlinewidth\": 0, \"ticks\": \"\"}, \"colorscale\": [[0.0, \"#0d0887\"], [0.1111111111111111, \"#46039f\"], [0.2222222222222222, \"#7201a8\"], [0.3333333333333333, \"#9c179e\"], [0.4444444444444444, \"#bd3786\"], [0.5555555555555556, \"#d8576b\"], [0.6666666666666666, \"#ed7953\"], [0.7777777777777778, \"#fb9f3a\"], [0.8888888888888888, \"#fdca26\"], [1.0, \"#f0f921\"]], \"type\": \"heatmap\"}], \"heatmapgl\": [{\"colorbar\": {\"outlinewidth\": 0, \"ticks\": \"\"}, \"colorscale\": [[0.0, \"#0d0887\"], [0.1111111111111111, \"#46039f\"], [0.2222222222222222, \"#7201a8\"], [0.3333333333333333, \"#9c179e\"], [0.4444444444444444, \"#bd3786\"], [0.5555555555555556, \"#d8576b\"], [0.6666666666666666, \"#ed7953\"], [0.7777777777777778, \"#fb9f3a\"], [0.8888888888888888, \"#fdca26\"], [1.0, \"#f0f921\"]], \"type\": \"heatmapgl\"}], \"histogram\": [{\"marker\": {\"colorbar\": {\"outlinewidth\": 0, \"ticks\": \"\"}}, \"type\": \"histogram\"}], \"histogram2d\": [{\"colorbar\": {\"outlinewidth\": 0, \"ticks\": \"\"}, \"colorscale\": [[0.0, \"#0d0887\"], [0.1111111111111111, \"#46039f\"], [0.2222222222222222, \"#7201a8\"], [0.3333333333333333, \"#9c179e\"], [0.4444444444444444, \"#bd3786\"], [0.5555555555555556, \"#d8576b\"], [0.6666666666666666, \"#ed7953\"], [0.7777777777777778, \"#fb9f3a\"], [0.8888888888888888, \"#fdca26\"], [1.0, \"#f0f921\"]], \"type\": \"histogram2d\"}], \"histogram2dcontour\": [{\"colorbar\": {\"outlinewidth\": 0, \"ticks\": \"\"}, \"colorscale\": [[0.0, \"#0d0887\"], [0.1111111111111111, \"#46039f\"], [0.2222222222222222, \"#7201a8\"], [0.3333333333333333, \"#9c179e\"], [0.4444444444444444, \"#bd3786\"], [0.5555555555555556, \"#d8576b\"], [0.6666666666666666, \"#ed7953\"], [0.7777777777777778, \"#fb9f3a\"], [0.8888888888888888, \"#fdca26\"], [1.0, \"#f0f921\"]], \"type\": \"histogram2dcontour\"}], \"mesh3d\": [{\"colorbar\": {\"outlinewidth\": 0, \"ticks\": \"\"}, \"type\": \"mesh3d\"}], \"parcoords\": [{\"line\": {\"colorbar\": {\"outlinewidth\": 0, \"ticks\": \"\"}}, \"type\": \"parcoords\"}], \"scatter\": [{\"marker\": {\"colorbar\": {\"outlinewidth\": 0, \"ticks\": \"\"}}, \"type\": \"scatter\"}], \"scatter3d\": [{\"line\": {\"colorbar\": {\"outlinewidth\": 0, \"ticks\": \"\"}}, \"marker\": {\"colorbar\": {\"outlinewidth\": 0, \"ticks\": \"\"}}, \"type\": \"scatter3d\"}], \"scattercarpet\": [{\"marker\": {\"colorbar\": {\"outlinewidth\": 0, \"ticks\": \"\"}}, \"type\": \"scattercarpet\"}], \"scattergeo\": [{\"marker\": {\"colorbar\": {\"outlinewidth\": 0, \"ticks\": \"\"}}, \"type\": \"scattergeo\"}], \"scattergl\": [{\"marker\": {\"colorbar\": {\"outlinewidth\": 0, \"ticks\": \"\"}}, \"type\": \"scattergl\"}], \"scattermapbox\": [{\"marker\": {\"colorbar\": {\"outlinewidth\": 0, \"ticks\": \"\"}}, \"type\": \"scattermapbox\"}], \"scatterpolar\": [{\"marker\": {\"colorbar\": {\"outlinewidth\": 0, \"ticks\": \"\"}}, \"type\": \"scatterpolar\"}], \"scatterpolargl\": [{\"marker\": {\"colorbar\": {\"outlinewidth\": 0, \"ticks\": \"\"}}, \"type\": \"scatterpolargl\"}], \"scatterternary\": [{\"marker\": {\"colorbar\": {\"outlinewidth\": 0, \"ticks\": \"\"}}, \"type\": \"scatterternary\"}], \"surface\": [{\"colorbar\": {\"outlinewidth\": 0, \"ticks\": \"\"}, \"colorscale\": [[0.0, \"#0d0887\"], [0.1111111111111111, \"#46039f\"], [0.2222222222222222, \"#7201a8\"], [0.3333333333333333, \"#9c179e\"], [0.4444444444444444, \"#bd3786\"], [0.5555555555555556, \"#d8576b\"], [0.6666666666666666, \"#ed7953\"], [0.7777777777777778, \"#fb9f3a\"], [0.8888888888888888, \"#fdca26\"], [1.0, \"#f0f921\"]], \"type\": \"surface\"}], \"table\": [{\"cells\": {\"fill\": {\"color\": \"#EBF0F8\"}, \"line\": {\"color\": \"white\"}}, \"header\": {\"fill\": {\"color\": \"#C8D4E3\"}, \"line\": {\"color\": \"white\"}}, \"type\": \"table\"}]}, \"layout\": {\"annotationdefaults\": {\"arrowcolor\": \"#2a3f5f\", \"arrowhead\": 0, \"arrowwidth\": 1}, \"colorscale\": {\"diverging\": [[0, \"#8e0152\"], [0.1, \"#c51b7d\"], [0.2, \"#de77ae\"], [0.3, \"#f1b6da\"], [0.4, \"#fde0ef\"], [0.5, \"#f7f7f7\"], [0.6, \"#e6f5d0\"], [0.7, \"#b8e186\"], [0.8, \"#7fbc41\"], [0.9, \"#4d9221\"], [1, \"#276419\"]], \"sequential\": [[0.0, \"#0d0887\"], [0.1111111111111111, \"#46039f\"], [0.2222222222222222, \"#7201a8\"], [0.3333333333333333, \"#9c179e\"], [0.4444444444444444, \"#bd3786\"], [0.5555555555555556, \"#d8576b\"], [0.6666666666666666, \"#ed7953\"], [0.7777777777777778, \"#fb9f3a\"], [0.8888888888888888, \"#fdca26\"], [1.0, \"#f0f921\"]], \"sequentialminus\": [[0.0, \"#0d0887\"], [0.1111111111111111, \"#46039f\"], [0.2222222222222222, \"#7201a8\"], [0.3333333333333333, \"#9c179e\"], [0.4444444444444444, \"#bd3786\"], [0.5555555555555556, \"#d8576b\"], [0.6666666666666666, \"#ed7953\"], [0.7777777777777778, \"#fb9f3a\"], [0.8888888888888888, \"#fdca26\"], [1.0, \"#f0f921\"]]}, \"colorway\": [\"#636efa\", \"#EF553B\", \"#00cc96\", \"#ab63fa\", \"#FFA15A\", \"#19d3f3\", \"#FF6692\", \"#B6E880\", \"#FF97FF\", \"#FECB52\"], \"font\": {\"color\": \"#2a3f5f\"}, \"geo\": {\"bgcolor\": \"white\", \"lakecolor\": \"white\", \"landcolor\": \"#E5ECF6\", \"showlakes\": true, \"showland\": true, \"subunitcolor\": \"white\"}, \"hoverlabel\": {\"align\": \"left\"}, \"hovermode\": \"closest\", \"mapbox\": {\"style\": \"light\"}, \"paper_bgcolor\": \"white\", \"plot_bgcolor\": \"#E5ECF6\", \"polar\": {\"angularaxis\": {\"gridcolor\": \"white\", \"linecolor\": \"white\", \"ticks\": \"\"}, \"bgcolor\": \"#E5ECF6\", \"radialaxis\": {\"gridcolor\": \"white\", \"linecolor\": \"white\", \"ticks\": \"\"}}, \"scene\": {\"xaxis\": {\"backgroundcolor\": \"#E5ECF6\", \"gridcolor\": \"white\", \"gridwidth\": 2, \"linecolor\": \"white\", \"showbackground\": true, \"ticks\": \"\", \"zerolinecolor\": \"white\"}, \"yaxis\": {\"backgroundcolor\": \"#E5ECF6\", \"gridcolor\": \"white\", \"gridwidth\": 2, \"linecolor\": \"white\", \"showbackground\": true, \"ticks\": \"\", \"zerolinecolor\": \"white\"}, \"zaxis\": {\"backgroundcolor\": \"#E5ECF6\", \"gridcolor\": \"white\", \"gridwidth\": 2, \"linecolor\": \"white\", \"showbackground\": true, \"ticks\": \"\", \"zerolinecolor\": \"white\"}}, \"shapedefaults\": {\"line\": {\"color\": \"#2a3f5f\"}}, \"ternary\": {\"aaxis\": {\"gridcolor\": \"white\", \"linecolor\": \"white\", \"ticks\": \"\"}, \"baxis\": {\"gridcolor\": \"white\", \"linecolor\": \"white\", \"ticks\": \"\"}, \"bgcolor\": \"#E5ECF6\", \"caxis\": {\"gridcolor\": \"white\", \"linecolor\": \"white\", \"ticks\": \"\"}}, \"title\": {\"x\": 0.05}, \"xaxis\": {\"automargin\": true, \"gridcolor\": \"white\", \"linecolor\": \"white\", \"ticks\": \"\", \"zerolinecolor\": \"white\", \"zerolinewidth\": 2}, \"yaxis\": {\"automargin\": true, \"gridcolor\": \"white\", \"linecolor\": \"white\", \"ticks\": \"\", \"zerolinecolor\": \"white\", \"zerolinewidth\": 2}}}},\n",
       "                        {\"responsive\": true}\n",
       "                    ).then(function(){\n",
       "                            \n",
       "var gd = document.getElementById('5e40e163-448b-4e10-afd4-ea597bd8188d');\n",
       "var x = new MutationObserver(function (mutations, observer) {{\n",
       "        var display = window.getComputedStyle(gd).display;\n",
       "        if (!display || display === 'none') {{\n",
       "            console.log([gd, 'removed!']);\n",
       "            Plotly.purge(gd);\n",
       "            observer.disconnect();\n",
       "        }}\n",
       "}});\n",
       "\n",
       "// Listen for the removal of the full notebook cells\n",
       "var notebookContainer = gd.closest('#notebook-container');\n",
       "if (notebookContainer) {{\n",
       "    x.observe(notebookContainer, {childList: true});\n",
       "}}\n",
       "\n",
       "// Listen for the clearing of the current output cell\n",
       "var outputEl = gd.closest('.output');\n",
       "if (outputEl) {{\n",
       "    x.observe(outputEl, {childList: true});\n",
       "}}\n",
       "\n",
       "                        })\n",
       "                };\n",
       "                });\n",
       "            </script>\n",
       "        </div>"
      ]
     },
     "metadata": {},
     "output_type": "display_data"
    }
   ],
   "source": [
    "df = pd.read_pickle('n-Coeff-compare.pkl')\n",
    "df2 = pd.read_pickle('a-Coeff-compare.pkl')\n",
    "\n",
    "\n",
    "df = pd.merge(df,df2, on = 'index', how = 'outer')\n",
    "\n",
    "df = df.dropna(thresh = 2)\n",
    "df = df.reset_index(drop = True)\n",
    "\n",
    "df = df.iloc[1:]\n",
    "\n",
    "fig = go.Figure()\n",
    "\n",
    "\n",
    "\n",
    "fig.add_trace(go.Scatter(x= df['index'], y=df['WB_NC_Bench'],\n",
    "                    mode='markers',  \n",
    "                    marker_color='rgba(128, 0, 0, .8)',     \n",
    "                    name='North Central Bench'))\n",
    "\n",
    "fig.add_trace(go.Scatter(x= df['index'], y=df['WB_W_Boise'],\n",
    "                    mode='markers',\n",
    "                    marker_color='rgba(240, 128, 128, .8)',     \n",
    "                    name='West Boise'))\n",
    "\n",
    "fig.add_trace(go.Scatter(x= df['index'], y=df['WB_WB_F_Corridor'],\n",
    "                    mode='markers',\n",
    "                    marker_color='rgba(255, 0, 0, .8)',     \n",
    "                    name='West B. Freeway Cor.'))\n",
    "fig.add_trace(go.Scatter(x= df['index'], y=df['BB_CB_Bench'],\n",
    "                    mode='markers',\n",
    "                    marker_color='rgba(0,0,128, .8)',     \n",
    "                    name='Central Bench'))\n",
    "\n",
    "fig.add_trace(go.Scatter(x= df['index'], y=df['BB_NC_Bench'],\n",
    "                    mode='markers',\n",
    "                    marker_color='rgba(135,206,250, .8)',      \n",
    "                    name='North Central Bench'))\n",
    "\n",
    "fig.add_trace(go.Scatter(x= df['index'], y=df['BB_Bench_F_Corridor'],\n",
    "                    mode='markers',\n",
    "                    marker_color='rgba(30,144,255, .8)',      \n",
    "                    name='Bench Freeway Cor.'))\n",
    "\n",
    "fig.add_trace(go.Scatter(x= df['index'], y=df['BB_Park_and_University'],\n",
    "                    mode='markers',\n",
    "                    marker_color='rgba(0,0,255, .8)',      \n",
    "                    name='Bench Park & Uni'))\n",
    "\n",
    "fig.add_trace(go.Scatter(x= df['index'], y=df['B_Bench'],\n",
    "                    mode='markers',  \n",
    "                    marker_color='rgba(255, 0, 0, .8)',\n",
    "                    marker=dict(size= 9, symbol = \"star\" ),     \n",
    "                    name='Boise Bench'))\n",
    "\n",
    "fig.add_trace(go.Scatter(x= df['index'], y=df['W_Boise'],\n",
    "                    mode='markers',  \n",
    "                    marker_color='rgba(0, 0, 255, .8)',\n",
    "                    marker=dict(size= 9, symbol = \"star\" ),     \n",
    "                    name='West Boise- A'))\n",
    "\n",
    "\n",
    "fig.update_layout(\n",
    "    shapes=[\n",
    "        # Line Horizontal\n",
    "        go.layout.Shape(\n",
    "            type=\"line\",\n",
    "            x0=0,y0=.7,\n",
    "            x1=11,y1=.7,\n",
    "            line=dict(\n",
    "                color=\"Grey\",\n",
    "                width=1,\n",
    "                dash=\"dashdot\",),),])\n",
    "fig.update_layout(\n",
    "    shapes=[\n",
    "        # Line Horizontal\n",
    "        go.layout.Shape(\n",
    "            type=\"line\",\n",
    "            x0=0,y0=.3,\n",
    "            x1=11,y1=.3,\n",
    "            line=dict(\n",
    "                color=\"Grey\",\n",
    "                width=1,\n",
    "                dash=\"dashdot\",),),])\n",
    "\n",
    "fig.show()"
   ]
  },
  {
   "cell_type": "code",
   "execution_count": 94,
   "metadata": {},
   "outputs": [],
   "source": [
    "import os\n",
    "\n",
    "if not os.path.exists(\"images\"):\n",
    "    os.mkdir(\"images\")"
   ]
  },
  {
   "cell_type": "code",
   "execution_count": 111,
   "metadata": {},
   "outputs": [
    {
     "ename": "AttributeError",
     "evalue": "'Figure' object has no attribute 'plotly'",
     "output_type": "error",
     "traceback": [
      "\u001b[1;31m---------------------------------------------------------------------------\u001b[0m",
      "\u001b[1;31mAttributeError\u001b[0m                            Traceback (most recent call last)",
      "\u001b[1;32m<ipython-input-111-5051dfd29c6c>\u001b[0m in \u001b[0;36m<module>\u001b[1;34m\u001b[0m\n\u001b[0;32m     69\u001b[0m \u001b[1;31m#plotly.offline.plot(data, filename='file.html')\u001b[0m\u001b[1;33m\u001b[0m\u001b[1;33m\u001b[0m\u001b[1;33m\u001b[0m\u001b[0m\n\u001b[0;32m     70\u001b[0m \u001b[1;31m#Bench_fig.to_image(\"images/Bench_fig.png\")\u001b[0m\u001b[1;33m\u001b[0m\u001b[1;33m\u001b[0m\u001b[1;33m\u001b[0m\u001b[0m\n\u001b[1;32m---> 71\u001b[1;33m \u001b[0mBench_fig\u001b[0m\u001b[1;33m.\u001b[0m\u001b[0mplotly\u001b[0m\u001b[1;33m.\u001b[0m\u001b[0mio\u001b[0m\u001b[1;33m.\u001b[0m\u001b[0mwrite_image\u001b[0m\u001b[1;33m(\u001b[0m\u001b[0mfig\u001b[0m\u001b[1;33m=\u001b[0m\u001b[0mdata\u001b[0m\u001b[1;33m,\u001b[0m\u001b[0mfile\u001b[0m\u001b[1;33m=\u001b[0m\u001b[1;34m\"images/Bench_fig.jpeg\"\u001b[0m\u001b[1;33m,\u001b[0m \u001b[0mformat\u001b[0m\u001b[1;33m=\u001b[0m\u001b[1;34m\"jpeg\"\u001b[0m\u001b[1;33m,\u001b[0m\u001b[0mscale\u001b[0m\u001b[1;33m=\u001b[0m\u001b[1;32mNone\u001b[0m\u001b[1;33m,\u001b[0m \u001b[0mwidth\u001b[0m\u001b[1;33m=\u001b[0m\u001b[1;32mNone\u001b[0m\u001b[1;33m,\u001b[0m \u001b[0mheight\u001b[0m\u001b[1;33m=\u001b[0m\u001b[1;32mNone\u001b[0m\u001b[1;33m)\u001b[0m\u001b[1;33m\u001b[0m\u001b[1;33m\u001b[0m\u001b[0m\n\u001b[0m\u001b[0;32m     72\u001b[0m \u001b[1;33m\u001b[0m\u001b[0m\n\u001b[0;32m     73\u001b[0m \u001b[0mBench_fig\u001b[0m\u001b[1;33m.\u001b[0m\u001b[0mshow\u001b[0m\u001b[1;33m(\u001b[0m\u001b[1;33m)\u001b[0m\u001b[1;33m\u001b[0m\u001b[1;33m\u001b[0m\u001b[0m\n",
      "\u001b[1;31mAttributeError\u001b[0m: 'Figure' object has no attribute 'plotly'"
     ]
    }
   ],
   "source": [
    "df = pd.read_pickle('n-Coeff-compare.pkl')\n",
    "df2 = pd.read_pickle('a-Coeff-compare.pkl')\n",
    "\n",
    "\n",
    "df = pd.merge(df,df2, on = 'index', how = 'outer')\n",
    "\n",
    "df = df.dropna(thresh = 2)\n",
    "df = df.reset_index(drop = True)\n",
    "\n",
    "df = df.iloc[1:]\n",
    "\n",
    "Bench_fig = go.Figure()\n",
    "\n",
    "\n",
    "\n",
    "Bench_fig.add_trace(go.Scatter(x= df['index'], y=df['BB_CB_Bench'],\n",
    "                    mode='markers',\n",
    "                    marker_color='rgba(0,0,128, .8)',     \n",
    "                    name='Central Bench'))\n",
    "\n",
    "Bench_fig.add_trace(go.Scatter(x= df['index'], y=df['BB_NC_Bench'],\n",
    "                    mode='markers',\n",
    "                    marker_color='rgb(0,191,255)',      \n",
    "                    name='North Central Bench'))\n",
    "\n",
    "Bench_fig.add_trace(go.Scatter(x= df['index'], y=df['BB_Bench_F_Corridor'],\n",
    "                    mode='markers',\n",
    "                    marker_color='rgba(30,144,255, .8)',      \n",
    "                    name='Bench Freeway Cor.'))\n",
    "\n",
    "Bench_fig.add_trace(go.Scatter(x= df['index'], y=df['BB_Park_and_University'],\n",
    "                    mode='markers',\n",
    "                    marker_color='rgba(0,0,255, .8)',      \n",
    "                    name='Bench Park & Uni'))\n",
    "\n",
    "Bench_fig.add_trace(go.Scatter(x= df['index'], y=df['B_Bench'],\n",
    "                    mode='markers',  \n",
    "                    marker_color='rgba(0, 0, 0, .8)',\n",
    "                    marker=dict(size= 11, symbol = \"star-triangle-up-open\" ),     \n",
    "                    name='Boise Bench'))\n",
    "\n",
    "\n",
    "\n",
    "\n",
    "Bench_fig.update_layout(\n",
    "    shapes=[\n",
    "        # Line Horizontal\n",
    "        go.layout.Shape(\n",
    "            type=\"line\",\n",
    "            x0=0,y0=.7,\n",
    "            x1=11,y1=.7,\n",
    "            line=dict(\n",
    "                color=\"Grey\",\n",
    "                width=1,\n",
    "                dash=\"dashdot\",),),])\n",
    "Bench_fig.update_layout(\n",
    "    shapes=[\n",
    "        # Line Horizontal\n",
    "        go.layout.Shape(\n",
    "            type=\"line\",\n",
    "            x0=0,y0=.3,\n",
    "            x1=11,y1=.3,\n",
    "            line=dict(\n",
    "                color=\"Grey\",\n",
    "                width=1,\n",
    "                dash=\"dashdot\",),),])\n",
    "\n",
    "#Bench_fig.to_pickle('Bench_fig.pkl')\n",
    "#plotly.offline.plot(data, filename='file.html')\n",
    "#Bench_fig.to_image(\"images/Bench_fig.png\")\n",
    "Bench_fig.plotly.io.write_image(fig=data,file=\"images/Bench_fig.jpeg\", format=\"jpeg\",scale=None, width=None, height=None)\n",
    "\n",
    "Bench_fig.show()"
   ]
  },
  {
   "cell_type": "code",
   "execution_count": 93,
   "metadata": {},
   "outputs": [
    {
     "data": {
      "application/vnd.plotly.v1+json": {
       "config": {
        "plotlyServerURL": "https://plot.ly"
       },
       "data": [
        {
         "marker": {
          "color": "rgba(128, 0, 0, .8)"
         },
         "mode": "markers",
         "name": "North Central Bench",
         "type": "scatter",
         "x": [
          "Arts, Design, Entertainment, Sports, And Media Occupations",
          "Building And Grounds Cleaning And Maintenance Occupations",
          "Food Preparation And Serving Related Occupations",
          "Management Occupations",
          "Production Occupations",
          "Sales And Related Occupations",
          "Transportation And Material Moving Occupations",
          "(70000.0, 100000.0]",
          "Total_House_Change",
          "Total_Pop_Change",
          "Total_Emp_Change"
         ],
         "y": [
          0.3535014614875914,
          0.3684181641575133,
          null,
          0.34654310322415405,
          0.2817498968219381,
          0.3436647081409315,
          0.3098999733778559,
          null,
          0.34670786786999264,
          0.3367523468910272,
          0.36323445410458227
         ]
        },
        {
         "marker": {
          "color": "rgba(240, 128, 128, .8)"
         },
         "mode": "markers",
         "name": "West Boise",
         "type": "scatter",
         "x": [
          "Arts, Design, Entertainment, Sports, And Media Occupations",
          "Building And Grounds Cleaning And Maintenance Occupations",
          "Food Preparation And Serving Related Occupations",
          "Management Occupations",
          "Production Occupations",
          "Sales And Related Occupations",
          "Transportation And Material Moving Occupations",
          "(70000.0, 100000.0]",
          "Total_House_Change",
          "Total_Pop_Change",
          "Total_Emp_Change"
         ],
         "y": [
          0.29220158527649404,
          0.31119435669289597,
          null,
          0.2879917817566615,
          0.2783563854022145,
          0.31881613696092287,
          0.31290642803463337,
          null,
          0.29809987294890944,
          0.298818696275173,
          0.34528088060042655
         ]
        },
        {
         "marker": {
          "color": "rgba(255, 0, 0, .8)"
         },
         "mode": "markers",
         "name": "West B. Freeway Cor.",
         "type": "scatter",
         "x": [
          "Arts, Design, Entertainment, Sports, And Media Occupations",
          "Building And Grounds Cleaning And Maintenance Occupations",
          "Food Preparation And Serving Related Occupations",
          "Management Occupations",
          "Production Occupations",
          "Sales And Related Occupations",
          "Transportation And Material Moving Occupations",
          "(70000.0, 100000.0]",
          "Total_House_Change",
          "Total_Pop_Change",
          "Total_Emp_Change"
         ],
         "y": [
          0.17150159419362812,
          0.2093889692392705,
          0.16271405418809312,
          0.1639226290818448,
          0.18400600043043083,
          0.2128112687539712,
          0.1777944133049402,
          null,
          null,
          0.15875442832083891,
          0.2152110091413558
         ]
        },
        {
         "fillcolor": "Red",
         "marker": {
          "color": "rgba(0, 0, 0, .8)",
          "size": 11,
          "symbol": "star-triangle-up-open"
         },
         "mode": "markers",
         "name": "Boise Bench",
         "type": "scatter",
         "x": [
          "Arts, Design, Entertainment, Sports, And Media Occupations",
          "Building And Grounds Cleaning And Maintenance Occupations",
          "Food Preparation And Serving Related Occupations",
          "Management Occupations",
          "Production Occupations",
          "Sales And Related Occupations",
          "Transportation And Material Moving Occupations",
          "(70000.0, 100000.0]",
          "Total_House_Change",
          "Total_Pop_Change",
          "Total_Emp_Change"
         ],
         "y": [
          0.29519200186127226,
          0.30411753621650506,
          null,
          0.27954755117672947,
          0.2583987627632459,
          0.30643098999833923,
          0.27529209359889817,
          null,
          0.28374230141513573,
          0.27966548526962093,
          0.316576752139436
         ]
        }
       ],
       "layout": {
        "shapes": [
         {
          "line": {
           "color": "Grey",
           "dash": "dashdot",
           "width": 1
          },
          "type": "line",
          "x0": 0,
          "x1": 11,
          "y0": 0.3,
          "y1": 0.3
         }
        ],
        "template": {
         "data": {
          "bar": [
           {
            "error_x": {
             "color": "#2a3f5f"
            },
            "error_y": {
             "color": "#2a3f5f"
            },
            "marker": {
             "line": {
              "color": "#E5ECF6",
              "width": 0.5
             }
            },
            "type": "bar"
           }
          ],
          "barpolar": [
           {
            "marker": {
             "line": {
              "color": "#E5ECF6",
              "width": 0.5
             }
            },
            "type": "barpolar"
           }
          ],
          "carpet": [
           {
            "aaxis": {
             "endlinecolor": "#2a3f5f",
             "gridcolor": "white",
             "linecolor": "white",
             "minorgridcolor": "white",
             "startlinecolor": "#2a3f5f"
            },
            "baxis": {
             "endlinecolor": "#2a3f5f",
             "gridcolor": "white",
             "linecolor": "white",
             "minorgridcolor": "white",
             "startlinecolor": "#2a3f5f"
            },
            "type": "carpet"
           }
          ],
          "choropleth": [
           {
            "colorbar": {
             "outlinewidth": 0,
             "ticks": ""
            },
            "type": "choropleth"
           }
          ],
          "contour": [
           {
            "colorbar": {
             "outlinewidth": 0,
             "ticks": ""
            },
            "colorscale": [
             [
              0,
              "#0d0887"
             ],
             [
              0.1111111111111111,
              "#46039f"
             ],
             [
              0.2222222222222222,
              "#7201a8"
             ],
             [
              0.3333333333333333,
              "#9c179e"
             ],
             [
              0.4444444444444444,
              "#bd3786"
             ],
             [
              0.5555555555555556,
              "#d8576b"
             ],
             [
              0.6666666666666666,
              "#ed7953"
             ],
             [
              0.7777777777777778,
              "#fb9f3a"
             ],
             [
              0.8888888888888888,
              "#fdca26"
             ],
             [
              1,
              "#f0f921"
             ]
            ],
            "type": "contour"
           }
          ],
          "contourcarpet": [
           {
            "colorbar": {
             "outlinewidth": 0,
             "ticks": ""
            },
            "type": "contourcarpet"
           }
          ],
          "heatmap": [
           {
            "colorbar": {
             "outlinewidth": 0,
             "ticks": ""
            },
            "colorscale": [
             [
              0,
              "#0d0887"
             ],
             [
              0.1111111111111111,
              "#46039f"
             ],
             [
              0.2222222222222222,
              "#7201a8"
             ],
             [
              0.3333333333333333,
              "#9c179e"
             ],
             [
              0.4444444444444444,
              "#bd3786"
             ],
             [
              0.5555555555555556,
              "#d8576b"
             ],
             [
              0.6666666666666666,
              "#ed7953"
             ],
             [
              0.7777777777777778,
              "#fb9f3a"
             ],
             [
              0.8888888888888888,
              "#fdca26"
             ],
             [
              1,
              "#f0f921"
             ]
            ],
            "type": "heatmap"
           }
          ],
          "heatmapgl": [
           {
            "colorbar": {
             "outlinewidth": 0,
             "ticks": ""
            },
            "colorscale": [
             [
              0,
              "#0d0887"
             ],
             [
              0.1111111111111111,
              "#46039f"
             ],
             [
              0.2222222222222222,
              "#7201a8"
             ],
             [
              0.3333333333333333,
              "#9c179e"
             ],
             [
              0.4444444444444444,
              "#bd3786"
             ],
             [
              0.5555555555555556,
              "#d8576b"
             ],
             [
              0.6666666666666666,
              "#ed7953"
             ],
             [
              0.7777777777777778,
              "#fb9f3a"
             ],
             [
              0.8888888888888888,
              "#fdca26"
             ],
             [
              1,
              "#f0f921"
             ]
            ],
            "type": "heatmapgl"
           }
          ],
          "histogram": [
           {
            "marker": {
             "colorbar": {
              "outlinewidth": 0,
              "ticks": ""
             }
            },
            "type": "histogram"
           }
          ],
          "histogram2d": [
           {
            "colorbar": {
             "outlinewidth": 0,
             "ticks": ""
            },
            "colorscale": [
             [
              0,
              "#0d0887"
             ],
             [
              0.1111111111111111,
              "#46039f"
             ],
             [
              0.2222222222222222,
              "#7201a8"
             ],
             [
              0.3333333333333333,
              "#9c179e"
             ],
             [
              0.4444444444444444,
              "#bd3786"
             ],
             [
              0.5555555555555556,
              "#d8576b"
             ],
             [
              0.6666666666666666,
              "#ed7953"
             ],
             [
              0.7777777777777778,
              "#fb9f3a"
             ],
             [
              0.8888888888888888,
              "#fdca26"
             ],
             [
              1,
              "#f0f921"
             ]
            ],
            "type": "histogram2d"
           }
          ],
          "histogram2dcontour": [
           {
            "colorbar": {
             "outlinewidth": 0,
             "ticks": ""
            },
            "colorscale": [
             [
              0,
              "#0d0887"
             ],
             [
              0.1111111111111111,
              "#46039f"
             ],
             [
              0.2222222222222222,
              "#7201a8"
             ],
             [
              0.3333333333333333,
              "#9c179e"
             ],
             [
              0.4444444444444444,
              "#bd3786"
             ],
             [
              0.5555555555555556,
              "#d8576b"
             ],
             [
              0.6666666666666666,
              "#ed7953"
             ],
             [
              0.7777777777777778,
              "#fb9f3a"
             ],
             [
              0.8888888888888888,
              "#fdca26"
             ],
             [
              1,
              "#f0f921"
             ]
            ],
            "type": "histogram2dcontour"
           }
          ],
          "mesh3d": [
           {
            "colorbar": {
             "outlinewidth": 0,
             "ticks": ""
            },
            "type": "mesh3d"
           }
          ],
          "parcoords": [
           {
            "line": {
             "colorbar": {
              "outlinewidth": 0,
              "ticks": ""
             }
            },
            "type": "parcoords"
           }
          ],
          "scatter": [
           {
            "marker": {
             "colorbar": {
              "outlinewidth": 0,
              "ticks": ""
             }
            },
            "type": "scatter"
           }
          ],
          "scatter3d": [
           {
            "line": {
             "colorbar": {
              "outlinewidth": 0,
              "ticks": ""
             }
            },
            "marker": {
             "colorbar": {
              "outlinewidth": 0,
              "ticks": ""
             }
            },
            "type": "scatter3d"
           }
          ],
          "scattercarpet": [
           {
            "marker": {
             "colorbar": {
              "outlinewidth": 0,
              "ticks": ""
             }
            },
            "type": "scattercarpet"
           }
          ],
          "scattergeo": [
           {
            "marker": {
             "colorbar": {
              "outlinewidth": 0,
              "ticks": ""
             }
            },
            "type": "scattergeo"
           }
          ],
          "scattergl": [
           {
            "marker": {
             "colorbar": {
              "outlinewidth": 0,
              "ticks": ""
             }
            },
            "type": "scattergl"
           }
          ],
          "scattermapbox": [
           {
            "marker": {
             "colorbar": {
              "outlinewidth": 0,
              "ticks": ""
             }
            },
            "type": "scattermapbox"
           }
          ],
          "scatterpolar": [
           {
            "marker": {
             "colorbar": {
              "outlinewidth": 0,
              "ticks": ""
             }
            },
            "type": "scatterpolar"
           }
          ],
          "scatterpolargl": [
           {
            "marker": {
             "colorbar": {
              "outlinewidth": 0,
              "ticks": ""
             }
            },
            "type": "scatterpolargl"
           }
          ],
          "scatterternary": [
           {
            "marker": {
             "colorbar": {
              "outlinewidth": 0,
              "ticks": ""
             }
            },
            "type": "scatterternary"
           }
          ],
          "surface": [
           {
            "colorbar": {
             "outlinewidth": 0,
             "ticks": ""
            },
            "colorscale": [
             [
              0,
              "#0d0887"
             ],
             [
              0.1111111111111111,
              "#46039f"
             ],
             [
              0.2222222222222222,
              "#7201a8"
             ],
             [
              0.3333333333333333,
              "#9c179e"
             ],
             [
              0.4444444444444444,
              "#bd3786"
             ],
             [
              0.5555555555555556,
              "#d8576b"
             ],
             [
              0.6666666666666666,
              "#ed7953"
             ],
             [
              0.7777777777777778,
              "#fb9f3a"
             ],
             [
              0.8888888888888888,
              "#fdca26"
             ],
             [
              1,
              "#f0f921"
             ]
            ],
            "type": "surface"
           }
          ],
          "table": [
           {
            "cells": {
             "fill": {
              "color": "#EBF0F8"
             },
             "line": {
              "color": "white"
             }
            },
            "header": {
             "fill": {
              "color": "#C8D4E3"
             },
             "line": {
              "color": "white"
             }
            },
            "type": "table"
           }
          ]
         },
         "layout": {
          "annotationdefaults": {
           "arrowcolor": "#2a3f5f",
           "arrowhead": 0,
           "arrowwidth": 1
          },
          "colorscale": {
           "diverging": [
            [
             0,
             "#8e0152"
            ],
            [
             0.1,
             "#c51b7d"
            ],
            [
             0.2,
             "#de77ae"
            ],
            [
             0.3,
             "#f1b6da"
            ],
            [
             0.4,
             "#fde0ef"
            ],
            [
             0.5,
             "#f7f7f7"
            ],
            [
             0.6,
             "#e6f5d0"
            ],
            [
             0.7,
             "#b8e186"
            ],
            [
             0.8,
             "#7fbc41"
            ],
            [
             0.9,
             "#4d9221"
            ],
            [
             1,
             "#276419"
            ]
           ],
           "sequential": [
            [
             0,
             "#0d0887"
            ],
            [
             0.1111111111111111,
             "#46039f"
            ],
            [
             0.2222222222222222,
             "#7201a8"
            ],
            [
             0.3333333333333333,
             "#9c179e"
            ],
            [
             0.4444444444444444,
             "#bd3786"
            ],
            [
             0.5555555555555556,
             "#d8576b"
            ],
            [
             0.6666666666666666,
             "#ed7953"
            ],
            [
             0.7777777777777778,
             "#fb9f3a"
            ],
            [
             0.8888888888888888,
             "#fdca26"
            ],
            [
             1,
             "#f0f921"
            ]
           ],
           "sequentialminus": [
            [
             0,
             "#0d0887"
            ],
            [
             0.1111111111111111,
             "#46039f"
            ],
            [
             0.2222222222222222,
             "#7201a8"
            ],
            [
             0.3333333333333333,
             "#9c179e"
            ],
            [
             0.4444444444444444,
             "#bd3786"
            ],
            [
             0.5555555555555556,
             "#d8576b"
            ],
            [
             0.6666666666666666,
             "#ed7953"
            ],
            [
             0.7777777777777778,
             "#fb9f3a"
            ],
            [
             0.8888888888888888,
             "#fdca26"
            ],
            [
             1,
             "#f0f921"
            ]
           ]
          },
          "colorway": [
           "#636efa",
           "#EF553B",
           "#00cc96",
           "#ab63fa",
           "#FFA15A",
           "#19d3f3",
           "#FF6692",
           "#B6E880",
           "#FF97FF",
           "#FECB52"
          ],
          "font": {
           "color": "#2a3f5f"
          },
          "geo": {
           "bgcolor": "white",
           "lakecolor": "white",
           "landcolor": "#E5ECF6",
           "showlakes": true,
           "showland": true,
           "subunitcolor": "white"
          },
          "hoverlabel": {
           "align": "left"
          },
          "hovermode": "closest",
          "mapbox": {
           "style": "light"
          },
          "paper_bgcolor": "white",
          "plot_bgcolor": "#E5ECF6",
          "polar": {
           "angularaxis": {
            "gridcolor": "white",
            "linecolor": "white",
            "ticks": ""
           },
           "bgcolor": "#E5ECF6",
           "radialaxis": {
            "gridcolor": "white",
            "linecolor": "white",
            "ticks": ""
           }
          },
          "scene": {
           "xaxis": {
            "backgroundcolor": "#E5ECF6",
            "gridcolor": "white",
            "gridwidth": 2,
            "linecolor": "white",
            "showbackground": true,
            "ticks": "",
            "zerolinecolor": "white"
           },
           "yaxis": {
            "backgroundcolor": "#E5ECF6",
            "gridcolor": "white",
            "gridwidth": 2,
            "linecolor": "white",
            "showbackground": true,
            "ticks": "",
            "zerolinecolor": "white"
           },
           "zaxis": {
            "backgroundcolor": "#E5ECF6",
            "gridcolor": "white",
            "gridwidth": 2,
            "linecolor": "white",
            "showbackground": true,
            "ticks": "",
            "zerolinecolor": "white"
           }
          },
          "shapedefaults": {
           "line": {
            "color": "#2a3f5f"
           }
          },
          "ternary": {
           "aaxis": {
            "gridcolor": "white",
            "linecolor": "white",
            "ticks": ""
           },
           "baxis": {
            "gridcolor": "white",
            "linecolor": "white",
            "ticks": ""
           },
           "bgcolor": "#E5ECF6",
           "caxis": {
            "gridcolor": "white",
            "linecolor": "white",
            "ticks": ""
           }
          },
          "title": {
           "x": 0.05
          },
          "xaxis": {
           "automargin": true,
           "gridcolor": "white",
           "linecolor": "white",
           "ticks": "",
           "zerolinecolor": "white",
           "zerolinewidth": 2
          },
          "yaxis": {
           "automargin": true,
           "gridcolor": "white",
           "linecolor": "white",
           "ticks": "",
           "zerolinecolor": "white",
           "zerolinewidth": 2
          }
         }
        }
       }
      },
      "text/html": [
       "<div>\n",
       "        \n",
       "        \n",
       "            <div id=\"a252ffe9-14ad-4189-b093-5d357f40570d\" class=\"plotly-graph-div\" style=\"height:525px; width:100%;\"></div>\n",
       "            <script type=\"text/javascript\">\n",
       "                require([\"plotly\"], function(Plotly) {\n",
       "                    window.PLOTLYENV=window.PLOTLYENV || {};\n",
       "                    \n",
       "                if (document.getElementById(\"a252ffe9-14ad-4189-b093-5d357f40570d\")) {\n",
       "                    Plotly.newPlot(\n",
       "                        'a252ffe9-14ad-4189-b093-5d357f40570d',\n",
       "                        [{\"marker\": {\"color\": \"rgba(128, 0, 0, .8)\"}, \"mode\": \"markers\", \"name\": \"North Central Bench\", \"type\": \"scatter\", \"x\": [\"Arts, Design, Entertainment, Sports, And Media Occupations\", \"Building And Grounds Cleaning And Maintenance Occupations\", \"Food Preparation And Serving Related Occupations\", \"Management Occupations\", \"Production Occupations\", \"Sales And Related Occupations\", \"Transportation And Material Moving Occupations\", \"(70000.0, 100000.0]\", \"Total_House_Change\", \"Total_Pop_Change\", \"Total_Emp_Change\"], \"y\": [0.3535014614875914, 0.3684181641575133, null, 0.34654310322415405, 0.2817498968219381, 0.3436647081409315, 0.3098999733778559, null, 0.34670786786999264, 0.3367523468910272, 0.36323445410458227]}, {\"marker\": {\"color\": \"rgba(240, 128, 128, .8)\"}, \"mode\": \"markers\", \"name\": \"West Boise\", \"type\": \"scatter\", \"x\": [\"Arts, Design, Entertainment, Sports, And Media Occupations\", \"Building And Grounds Cleaning And Maintenance Occupations\", \"Food Preparation And Serving Related Occupations\", \"Management Occupations\", \"Production Occupations\", \"Sales And Related Occupations\", \"Transportation And Material Moving Occupations\", \"(70000.0, 100000.0]\", \"Total_House_Change\", \"Total_Pop_Change\", \"Total_Emp_Change\"], \"y\": [0.29220158527649404, 0.31119435669289597, null, 0.2879917817566615, 0.2783563854022145, 0.31881613696092287, 0.31290642803463337, null, 0.29809987294890944, 0.298818696275173, 0.34528088060042655]}, {\"marker\": {\"color\": \"rgba(255, 0, 0, .8)\"}, \"mode\": \"markers\", \"name\": \"West B. Freeway Cor.\", \"type\": \"scatter\", \"x\": [\"Arts, Design, Entertainment, Sports, And Media Occupations\", \"Building And Grounds Cleaning And Maintenance Occupations\", \"Food Preparation And Serving Related Occupations\", \"Management Occupations\", \"Production Occupations\", \"Sales And Related Occupations\", \"Transportation And Material Moving Occupations\", \"(70000.0, 100000.0]\", \"Total_House_Change\", \"Total_Pop_Change\", \"Total_Emp_Change\"], \"y\": [0.17150159419362812, 0.2093889692392705, 0.16271405418809312, 0.1639226290818448, 0.18400600043043083, 0.2128112687539712, 0.1777944133049402, null, null, 0.15875442832083891, 0.2152110091413558]}, {\"fillcolor\": \"Red\", \"marker\": {\"color\": \"rgba(0, 0, 0, .8)\", \"size\": 11, \"symbol\": \"star-triangle-up-open\"}, \"mode\": \"markers\", \"name\": \"Boise Bench\", \"type\": \"scatter\", \"x\": [\"Arts, Design, Entertainment, Sports, And Media Occupations\", \"Building And Grounds Cleaning And Maintenance Occupations\", \"Food Preparation And Serving Related Occupations\", \"Management Occupations\", \"Production Occupations\", \"Sales And Related Occupations\", \"Transportation And Material Moving Occupations\", \"(70000.0, 100000.0]\", \"Total_House_Change\", \"Total_Pop_Change\", \"Total_Emp_Change\"], \"y\": [0.29519200186127226, 0.30411753621650506, null, 0.27954755117672947, 0.2583987627632459, 0.30643098999833923, 0.27529209359889817, null, 0.28374230141513573, 0.27966548526962093, 0.316576752139436]}],\n",
       "                        {\"shapes\": [{\"line\": {\"color\": \"Grey\", \"dash\": \"dashdot\", \"width\": 1}, \"type\": \"line\", \"x0\": 0, \"x1\": 11, \"y0\": 0.3, \"y1\": 0.3}], \"template\": {\"data\": {\"bar\": [{\"error_x\": {\"color\": \"#2a3f5f\"}, \"error_y\": {\"color\": \"#2a3f5f\"}, \"marker\": {\"line\": {\"color\": \"#E5ECF6\", \"width\": 0.5}}, \"type\": \"bar\"}], \"barpolar\": [{\"marker\": {\"line\": {\"color\": \"#E5ECF6\", \"width\": 0.5}}, \"type\": \"barpolar\"}], \"carpet\": [{\"aaxis\": {\"endlinecolor\": \"#2a3f5f\", \"gridcolor\": \"white\", \"linecolor\": \"white\", \"minorgridcolor\": \"white\", \"startlinecolor\": \"#2a3f5f\"}, \"baxis\": {\"endlinecolor\": \"#2a3f5f\", \"gridcolor\": \"white\", \"linecolor\": \"white\", \"minorgridcolor\": \"white\", \"startlinecolor\": \"#2a3f5f\"}, \"type\": \"carpet\"}], \"choropleth\": [{\"colorbar\": {\"outlinewidth\": 0, \"ticks\": \"\"}, \"type\": \"choropleth\"}], \"contour\": [{\"colorbar\": {\"outlinewidth\": 0, \"ticks\": \"\"}, \"colorscale\": [[0.0, \"#0d0887\"], [0.1111111111111111, \"#46039f\"], [0.2222222222222222, \"#7201a8\"], [0.3333333333333333, \"#9c179e\"], [0.4444444444444444, \"#bd3786\"], [0.5555555555555556, \"#d8576b\"], [0.6666666666666666, \"#ed7953\"], [0.7777777777777778, \"#fb9f3a\"], [0.8888888888888888, \"#fdca26\"], [1.0, \"#f0f921\"]], \"type\": \"contour\"}], \"contourcarpet\": [{\"colorbar\": {\"outlinewidth\": 0, \"ticks\": \"\"}, \"type\": \"contourcarpet\"}], \"heatmap\": [{\"colorbar\": {\"outlinewidth\": 0, \"ticks\": \"\"}, \"colorscale\": [[0.0, \"#0d0887\"], [0.1111111111111111, \"#46039f\"], [0.2222222222222222, \"#7201a8\"], [0.3333333333333333, \"#9c179e\"], [0.4444444444444444, \"#bd3786\"], [0.5555555555555556, \"#d8576b\"], [0.6666666666666666, \"#ed7953\"], [0.7777777777777778, \"#fb9f3a\"], [0.8888888888888888, \"#fdca26\"], [1.0, \"#f0f921\"]], \"type\": \"heatmap\"}], \"heatmapgl\": [{\"colorbar\": {\"outlinewidth\": 0, \"ticks\": \"\"}, \"colorscale\": [[0.0, \"#0d0887\"], [0.1111111111111111, \"#46039f\"], [0.2222222222222222, \"#7201a8\"], [0.3333333333333333, \"#9c179e\"], [0.4444444444444444, \"#bd3786\"], [0.5555555555555556, \"#d8576b\"], [0.6666666666666666, \"#ed7953\"], [0.7777777777777778, \"#fb9f3a\"], [0.8888888888888888, \"#fdca26\"], [1.0, \"#f0f921\"]], \"type\": \"heatmapgl\"}], \"histogram\": [{\"marker\": {\"colorbar\": {\"outlinewidth\": 0, \"ticks\": \"\"}}, \"type\": \"histogram\"}], \"histogram2d\": [{\"colorbar\": {\"outlinewidth\": 0, \"ticks\": \"\"}, \"colorscale\": [[0.0, \"#0d0887\"], [0.1111111111111111, \"#46039f\"], [0.2222222222222222, \"#7201a8\"], [0.3333333333333333, \"#9c179e\"], [0.4444444444444444, \"#bd3786\"], [0.5555555555555556, \"#d8576b\"], [0.6666666666666666, \"#ed7953\"], [0.7777777777777778, \"#fb9f3a\"], [0.8888888888888888, \"#fdca26\"], [1.0, \"#f0f921\"]], \"type\": \"histogram2d\"}], \"histogram2dcontour\": [{\"colorbar\": {\"outlinewidth\": 0, \"ticks\": \"\"}, \"colorscale\": [[0.0, \"#0d0887\"], [0.1111111111111111, \"#46039f\"], [0.2222222222222222, \"#7201a8\"], [0.3333333333333333, \"#9c179e\"], [0.4444444444444444, \"#bd3786\"], [0.5555555555555556, \"#d8576b\"], [0.6666666666666666, \"#ed7953\"], [0.7777777777777778, \"#fb9f3a\"], [0.8888888888888888, \"#fdca26\"], [1.0, \"#f0f921\"]], \"type\": \"histogram2dcontour\"}], \"mesh3d\": [{\"colorbar\": {\"outlinewidth\": 0, \"ticks\": \"\"}, \"type\": \"mesh3d\"}], \"parcoords\": [{\"line\": {\"colorbar\": {\"outlinewidth\": 0, \"ticks\": \"\"}}, \"type\": \"parcoords\"}], \"scatter\": [{\"marker\": {\"colorbar\": {\"outlinewidth\": 0, \"ticks\": \"\"}}, \"type\": \"scatter\"}], \"scatter3d\": [{\"line\": {\"colorbar\": {\"outlinewidth\": 0, \"ticks\": \"\"}}, \"marker\": {\"colorbar\": {\"outlinewidth\": 0, \"ticks\": \"\"}}, \"type\": \"scatter3d\"}], \"scattercarpet\": [{\"marker\": {\"colorbar\": {\"outlinewidth\": 0, \"ticks\": \"\"}}, \"type\": \"scattercarpet\"}], \"scattergeo\": [{\"marker\": {\"colorbar\": {\"outlinewidth\": 0, \"ticks\": \"\"}}, \"type\": \"scattergeo\"}], \"scattergl\": [{\"marker\": {\"colorbar\": {\"outlinewidth\": 0, \"ticks\": \"\"}}, \"type\": \"scattergl\"}], \"scattermapbox\": [{\"marker\": {\"colorbar\": {\"outlinewidth\": 0, \"ticks\": \"\"}}, \"type\": \"scattermapbox\"}], \"scatterpolar\": [{\"marker\": {\"colorbar\": {\"outlinewidth\": 0, \"ticks\": \"\"}}, \"type\": \"scatterpolar\"}], \"scatterpolargl\": [{\"marker\": {\"colorbar\": {\"outlinewidth\": 0, \"ticks\": \"\"}}, \"type\": \"scatterpolargl\"}], \"scatterternary\": [{\"marker\": {\"colorbar\": {\"outlinewidth\": 0, \"ticks\": \"\"}}, \"type\": \"scatterternary\"}], \"surface\": [{\"colorbar\": {\"outlinewidth\": 0, \"ticks\": \"\"}, \"colorscale\": [[0.0, \"#0d0887\"], [0.1111111111111111, \"#46039f\"], [0.2222222222222222, \"#7201a8\"], [0.3333333333333333, \"#9c179e\"], [0.4444444444444444, \"#bd3786\"], [0.5555555555555556, \"#d8576b\"], [0.6666666666666666, \"#ed7953\"], [0.7777777777777778, \"#fb9f3a\"], [0.8888888888888888, \"#fdca26\"], [1.0, \"#f0f921\"]], \"type\": \"surface\"}], \"table\": [{\"cells\": {\"fill\": {\"color\": \"#EBF0F8\"}, \"line\": {\"color\": \"white\"}}, \"header\": {\"fill\": {\"color\": \"#C8D4E3\"}, \"line\": {\"color\": \"white\"}}, \"type\": \"table\"}]}, \"layout\": {\"annotationdefaults\": {\"arrowcolor\": \"#2a3f5f\", \"arrowhead\": 0, \"arrowwidth\": 1}, \"colorscale\": {\"diverging\": [[0, \"#8e0152\"], [0.1, \"#c51b7d\"], [0.2, \"#de77ae\"], [0.3, \"#f1b6da\"], [0.4, \"#fde0ef\"], [0.5, \"#f7f7f7\"], [0.6, \"#e6f5d0\"], [0.7, \"#b8e186\"], [0.8, \"#7fbc41\"], [0.9, \"#4d9221\"], [1, \"#276419\"]], \"sequential\": [[0.0, \"#0d0887\"], [0.1111111111111111, \"#46039f\"], [0.2222222222222222, \"#7201a8\"], [0.3333333333333333, \"#9c179e\"], [0.4444444444444444, \"#bd3786\"], [0.5555555555555556, \"#d8576b\"], [0.6666666666666666, \"#ed7953\"], [0.7777777777777778, \"#fb9f3a\"], [0.8888888888888888, \"#fdca26\"], [1.0, \"#f0f921\"]], \"sequentialminus\": [[0.0, \"#0d0887\"], [0.1111111111111111, \"#46039f\"], [0.2222222222222222, \"#7201a8\"], [0.3333333333333333, \"#9c179e\"], [0.4444444444444444, \"#bd3786\"], [0.5555555555555556, \"#d8576b\"], [0.6666666666666666, \"#ed7953\"], [0.7777777777777778, \"#fb9f3a\"], [0.8888888888888888, \"#fdca26\"], [1.0, \"#f0f921\"]]}, \"colorway\": [\"#636efa\", \"#EF553B\", \"#00cc96\", \"#ab63fa\", \"#FFA15A\", \"#19d3f3\", \"#FF6692\", \"#B6E880\", \"#FF97FF\", \"#FECB52\"], \"font\": {\"color\": \"#2a3f5f\"}, \"geo\": {\"bgcolor\": \"white\", \"lakecolor\": \"white\", \"landcolor\": \"#E5ECF6\", \"showlakes\": true, \"showland\": true, \"subunitcolor\": \"white\"}, \"hoverlabel\": {\"align\": \"left\"}, \"hovermode\": \"closest\", \"mapbox\": {\"style\": \"light\"}, \"paper_bgcolor\": \"white\", \"plot_bgcolor\": \"#E5ECF6\", \"polar\": {\"angularaxis\": {\"gridcolor\": \"white\", \"linecolor\": \"white\", \"ticks\": \"\"}, \"bgcolor\": \"#E5ECF6\", \"radialaxis\": {\"gridcolor\": \"white\", \"linecolor\": \"white\", \"ticks\": \"\"}}, \"scene\": {\"xaxis\": {\"backgroundcolor\": \"#E5ECF6\", \"gridcolor\": \"white\", \"gridwidth\": 2, \"linecolor\": \"white\", \"showbackground\": true, \"ticks\": \"\", \"zerolinecolor\": \"white\"}, \"yaxis\": {\"backgroundcolor\": \"#E5ECF6\", \"gridcolor\": \"white\", \"gridwidth\": 2, \"linecolor\": \"white\", \"showbackground\": true, \"ticks\": \"\", \"zerolinecolor\": \"white\"}, \"zaxis\": {\"backgroundcolor\": \"#E5ECF6\", \"gridcolor\": \"white\", \"gridwidth\": 2, \"linecolor\": \"white\", \"showbackground\": true, \"ticks\": \"\", \"zerolinecolor\": \"white\"}}, \"shapedefaults\": {\"line\": {\"color\": \"#2a3f5f\"}}, \"ternary\": {\"aaxis\": {\"gridcolor\": \"white\", \"linecolor\": \"white\", \"ticks\": \"\"}, \"baxis\": {\"gridcolor\": \"white\", \"linecolor\": \"white\", \"ticks\": \"\"}, \"bgcolor\": \"#E5ECF6\", \"caxis\": {\"gridcolor\": \"white\", \"linecolor\": \"white\", \"ticks\": \"\"}}, \"title\": {\"x\": 0.05}, \"xaxis\": {\"automargin\": true, \"gridcolor\": \"white\", \"linecolor\": \"white\", \"ticks\": \"\", \"zerolinecolor\": \"white\", \"zerolinewidth\": 2}, \"yaxis\": {\"automargin\": true, \"gridcolor\": \"white\", \"linecolor\": \"white\", \"ticks\": \"\", \"zerolinecolor\": \"white\", \"zerolinewidth\": 2}}}},\n",
       "                        {\"responsive\": true}\n",
       "                    ).then(function(){\n",
       "                            \n",
       "var gd = document.getElementById('a252ffe9-14ad-4189-b093-5d357f40570d');\n",
       "var x = new MutationObserver(function (mutations, observer) {{\n",
       "        var display = window.getComputedStyle(gd).display;\n",
       "        if (!display || display === 'none') {{\n",
       "            console.log([gd, 'removed!']);\n",
       "            Plotly.purge(gd);\n",
       "            observer.disconnect();\n",
       "        }}\n",
       "}});\n",
       "\n",
       "// Listen for the removal of the full notebook cells\n",
       "var notebookContainer = gd.closest('#notebook-container');\n",
       "if (notebookContainer) {{\n",
       "    x.observe(notebookContainer, {childList: true});\n",
       "}}\n",
       "\n",
       "// Listen for the clearing of the current output cell\n",
       "var outputEl = gd.closest('.output');\n",
       "if (outputEl) {{\n",
       "    x.observe(outputEl, {childList: true});\n",
       "}}\n",
       "\n",
       "                        })\n",
       "                };\n",
       "                });\n",
       "            </script>\n",
       "        </div>"
      ]
     },
     "metadata": {},
     "output_type": "display_data"
    }
   ],
   "source": [
    "df = pd.read_pickle('n-Coeff-compare.pkl')\n",
    "df2 = pd.read_pickle('a-Coeff-compare.pkl')\n",
    "\n",
    "\n",
    "df = pd.merge(df,df2, on = 'index', how = 'outer')\n",
    "\n",
    "df = df.dropna(thresh = 2)\n",
    "df = df.reset_index(drop = True)\n",
    "\n",
    "df = df.iloc[1:]\n",
    "\n",
    "WB_fig = go.Figure()\n",
    "\n",
    "WB_fig.add_trace(go.Scatter(x= df['index'], y=df['WB_NC_Bench'],\n",
    "                    mode='markers',  \n",
    "                    marker_color='rgba(128, 0, 0, .8)',     \n",
    "                    name='North Central Bench'))\n",
    "\n",
    "WB_fig.add_trace(go.Scatter(x= df['index'], y=df['WB_W_Boise'],\n",
    "                    mode='markers',\n",
    "                    marker_color='rgba(240, 128, 128, .8)',     \n",
    "                    name='West Boise'))\n",
    "\n",
    "WB_fig.add_trace(go.Scatter(x= df['index'], y=df['WB_WB_F_Corridor'],\n",
    "                    mode='markers',\n",
    "                    marker_color='rgba(255, 0, 0, .8)',     \n",
    "                    name='West B. Freeway Cor.'))\n",
    "\n",
    "\n",
    "WB_fig.add_trace(go.Scatter(x= df['index'], y=df['W_Boise'],\n",
    "                    mode='markers',  \n",
    "                    marker_color='rgba(0, 0, 0, .8)',       \n",
    "                    marker=dict(size= 11, symbol = \"star-triangle-up-open\"),     \n",
    "                    name='Boise Bench'))\n",
    "\n",
    "\n",
    "\n",
    "\n",
    "WB_fig.update_layout(\n",
    "    shapes=[\n",
    "        # Line Horizontal\n",
    "        go.layout.Shape(\n",
    "            type=\"line\",\n",
    "            x0=0,y0=.7,\n",
    "            x1=11,y1=.7,\n",
    "            line=dict(\n",
    "                color=\"Grey\",\n",
    "                width=1,\n",
    "                dash=\"dashdot\",),),])\n",
    "WB_fig.update_layout(\n",
    "    shapes=[\n",
    "        # Line Horizontal\n",
    "        go.layout.Shape(\n",
    "            type=\"line\",\n",
    "            x0=0,y0=.3,\n",
    "            x1=11,y1=.3,\n",
    "            line=dict(\n",
    "                color=\"Grey\",\n",
    "                width=1,\n",
    "                dash=\"dashdot\",),),])\n",
    "WB_fig.show()\n",
    "\n"
   ]
  }
 ],
 "metadata": {
  "kernelspec": {
   "display_name": "Python 3",
   "language": "python",
   "name": "python3"
  },
  "language_info": {
   "codemirror_mode": {
    "name": "ipython",
    "version": 3
   },
   "file_extension": ".py",
   "mimetype": "text/x-python",
   "name": "python",
   "nbconvert_exporter": "python",
   "pygments_lexer": "ipython3",
   "version": "3.7.3"
  }
 },
 "nbformat": 4,
 "nbformat_minor": 2
}
